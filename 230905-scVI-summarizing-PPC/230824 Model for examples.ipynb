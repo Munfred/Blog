{
 "cells": [
  {
   "cell_type": "code",
   "execution_count": 1,
   "id": "4fb32f64",
   "metadata": {},
   "outputs": [
    {
     "name": "stderr",
     "output_type": "stream",
     "text": [
      "Global seed set to 0\n"
     ]
    }
   ],
   "source": [
    "import logging\n",
    "\n",
    "import anndata\n",
    "import numpy as np\n",
    "import pandas as pd\n",
    "import plotnine as p\n",
    "import matplotlib.pyplot as plt\n",
    "import scvi\n",
    "from scvi.model.utils import mde\n",
    "import scHPL\n",
    "import torch\n",
    "from tqdm import tqdm\n",
    "\n",
    "import matplotlib.pyplot as plt\n",
    "%matplotlib inline\n",
    "%config InlineBackend.figure_format='retina'\n",
    "\n",
    "import warnings\n",
    "warnings.filterwarnings('ignore')\n",
    "from IPython.display import display"
   ]
  },
  {
   "cell_type": "code",
   "execution_count": 2,
   "id": "38f112a7",
   "metadata": {},
   "outputs": [],
   "source": [
    "alladata = anndata.read('GSE214695.h5ad')"
   ]
  },
  {
   "cell_type": "code",
   "execution_count": 3,
   "id": "275f178a",
   "metadata": {},
   "outputs": [],
   "source": [
    "adata = alladata[alladata.obs.sample(10_000).index].copy()"
   ]
  },
  {
   "cell_type": "code",
   "execution_count": 4,
   "id": "a015a8a9",
   "metadata": {},
   "outputs": [
    {
     "name": "stderr",
     "output_type": "stream",
     "text": [
      "No GPU/TPU found, falling back to CPU. (Set TF_CPP_MIN_LOG_LEVEL=0 and rerun for more info.)\n"
     ]
    }
   ],
   "source": [
    "scvi.model.SCVI.setup_anndata(\n",
    "    adata,\n",
    "    batch_key = 'sample_name',\n",
    "    size_factor_key = 'total_counts'\n",
    ")\n",
    "\n",
    "model = scvi.model.SCVI(\n",
    "    adata,\n",
    "    gene_likelihood = 'nb'\n",
    ")"
   ]
  },
  {
   "cell_type": "code",
   "execution_count": 5,
   "id": "e82a27a0",
   "metadata": {},
   "outputs": [
    {
     "name": "stderr",
     "output_type": "stream",
     "text": [
      "GPU available: True (cuda), used: True\n",
      "TPU available: False, using: 0 TPU cores\n",
      "IPU available: False, using: 0 IPUs\n",
      "HPU available: False, using: 0 HPUs\n",
      "LOCAL_RANK: 0 - CUDA_VISIBLE_DEVICES: [0]\n"
     ]
    },
    {
     "name": "stdout",
     "output_type": "stream",
     "text": [
      "Epoch 40/40: 100%|███████████████████████████████████████████████████████████████████████████████████████████████████████████| 40/40 [01:02<00:00,  1.53s/it, loss=4.08e+03, v_num=1]"
     ]
    },
    {
     "name": "stderr",
     "output_type": "stream",
     "text": [
      "`Trainer.fit` stopped: `max_epochs=40` reached.\n"
     ]
    },
    {
     "name": "stdout",
     "output_type": "stream",
     "text": [
      "Epoch 40/40: 100%|███████████████████████████████████████████████████████████████████████████████████████████████████████████| 40/40 [01:02<00:00,  1.55s/it, loss=4.08e+03, v_num=1]\n"
     ]
    }
   ],
   "source": [
    "model.train(40)"
   ]
  },
  {
   "cell_type": "code",
   "execution_count": 6,
   "id": "2e8122ef",
   "metadata": {},
   "outputs": [
    {
     "name": "stderr",
     "output_type": "stream",
     "text": [
      "  0%|                                                                                                                                                        | 0/625 [00:00<?, ?it/s]\n"
     ]
    }
   ],
   "source": [
    "scdl_ = model._make_data_loader(adata, batch_size = 16)\n",
    "\n",
    "n_within = 0\n",
    "total = 0\n",
    "negative_examples = []\n",
    "for tensors in tqdm(scdl_):\n",
    "    inference = model.module.inference(**model.module._get_inference_input(tensors))\n",
    "    qz = inference['qz']\n",
    "    inference['z'] = qz.sample_n(200).detach()\n",
    "\n",
    "    generative = model.module.generative(**model.module._get_generative_input(tensors, inference))\n",
    "    px = generative['px']\n",
    "    px_sample = px.sample().detach()\n",
    "\n",
    "    xt = tensors['X'].cuda().detach()\n",
    "\n",
    "    above = (px_sample.quantile(0.05, 0) <= xt).detach()\n",
    "    below = (xt <= px_sample.quantile(0.95, 0)).detach()\n",
    "    n_within += (above & below).sum()\n",
    "\n",
    "    total += xt.shape[0] * xt.shape[1]\n",
    "    \n",
    "    break"
   ]
  },
  {
   "cell_type": "code",
   "execution_count": null,
   "id": "d30f506c",
   "metadata": {},
   "outputs": [],
   "source": []
  },
  {
   "cell_type": "code",
   "execution_count": 11,
   "id": "06537190",
   "metadata": {},
   "outputs": [
    {
     "data": {
      "text/plain": [
       "tensor(2492, device='cuda:0')"
      ]
     },
     "execution_count": 11,
     "metadata": {},
     "output_type": "execute_result"
    }
   ],
   "source": [
    "((~above) ^ (~below)).sum()"
   ]
  },
  {
   "cell_type": "code",
   "execution_count": 12,
   "id": "e5d94d11",
   "metadata": {},
   "outputs": [
    {
     "data": {
      "text/plain": [
       "tensor(534116, device='cuda:0')"
      ]
     },
     "execution_count": 12,
     "metadata": {},
     "output_type": "execute_result"
    }
   ],
   "source": [
    "n_within"
   ]
  },
  {
   "cell_type": "code",
   "execution_count": 39,
   "id": "ea272cb5",
   "metadata": {},
   "outputs": [
    {
     "data": {
      "text/html": [
       "<div>\n",
       "<style scoped>\n",
       "    .dataframe tbody tr th:only-of-type {\n",
       "        vertical-align: middle;\n",
       "    }\n",
       "\n",
       "    .dataframe tbody tr th {\n",
       "        vertical-align: top;\n",
       "    }\n",
       "\n",
       "    .dataframe thead th {\n",
       "        text-align: right;\n",
       "    }\n",
       "</style>\n",
       "<table border=\"1\" class=\"dataframe\">\n",
       "  <thead>\n",
       "    <tr style=\"text-align: right;\">\n",
       "      <th></th>\n",
       "      <th>index</th>\n",
       "      <th>variable</th>\n",
       "      <th>expression</th>\n",
       "    </tr>\n",
       "  </thead>\n",
       "  <tbody>\n",
       "    <tr>\n",
       "      <th>0</th>\n",
       "      <td>0</td>\n",
       "      <td>0</td>\n",
       "      <td>0.000011</td>\n",
       "    </tr>\n",
       "    <tr>\n",
       "      <th>1</th>\n",
       "      <td>1</td>\n",
       "      <td>0</td>\n",
       "      <td>0.000111</td>\n",
       "    </tr>\n",
       "    <tr>\n",
       "      <th>2</th>\n",
       "      <td>2</td>\n",
       "      <td>0</td>\n",
       "      <td>0.000256</td>\n",
       "    </tr>\n",
       "    <tr>\n",
       "      <th>3</th>\n",
       "      <td>3</td>\n",
       "      <td>0</td>\n",
       "      <td>0.000703</td>\n",
       "    </tr>\n",
       "    <tr>\n",
       "      <th>4</th>\n",
       "      <td>4</td>\n",
       "      <td>0</td>\n",
       "      <td>0.000190</td>\n",
       "    </tr>\n",
       "    <tr>\n",
       "      <th>...</th>\n",
       "      <td>...</td>\n",
       "      <td>...</td>\n",
       "      <td>...</td>\n",
       "    </tr>\n",
       "    <tr>\n",
       "      <th>536603</th>\n",
       "      <td>11</td>\n",
       "      <td>33537</td>\n",
       "      <td>0.000861</td>\n",
       "    </tr>\n",
       "    <tr>\n",
       "      <th>536604</th>\n",
       "      <td>12</td>\n",
       "      <td>33537</td>\n",
       "      <td>0.000630</td>\n",
       "    </tr>\n",
       "    <tr>\n",
       "      <th>536605</th>\n",
       "      <td>13</td>\n",
       "      <td>33537</td>\n",
       "      <td>0.000585</td>\n",
       "    </tr>\n",
       "    <tr>\n",
       "      <th>536606</th>\n",
       "      <td>14</td>\n",
       "      <td>33537</td>\n",
       "      <td>0.000719</td>\n",
       "    </tr>\n",
       "    <tr>\n",
       "      <th>536607</th>\n",
       "      <td>15</td>\n",
       "      <td>33537</td>\n",
       "      <td>0.000633</td>\n",
       "    </tr>\n",
       "  </tbody>\n",
       "</table>\n",
       "<p>536608 rows × 3 columns</p>\n",
       "</div>"
      ],
      "text/plain": [
       "        index variable  expression\n",
       "0           0        0    0.000011\n",
       "1           1        0    0.000111\n",
       "2           2        0    0.000256\n",
       "3           3        0    0.000703\n",
       "4           4        0    0.000190\n",
       "...       ...      ...         ...\n",
       "536603     11    33537    0.000861\n",
       "536604     12    33537    0.000630\n",
       "536605     13    33537    0.000585\n",
       "536606     14    33537    0.000719\n",
       "536607     15    33537    0.000633\n",
       "\n",
       "[536608 rows x 3 columns]"
      ]
     },
     "execution_count": 39,
     "metadata": {},
     "output_type": "execute_result"
    }
   ],
   "source": [
    "expression_levels = (\n",
    "    pd.DataFrame(px.mu.mean(0).detach().cpu())\n",
    "    .reset_index()\n",
    "    .melt(id_vars = 'index')\n",
    "    .rename(columns = {'value': 'expression'})\n",
    "#     .sort_values('value', ascending = False)\n",
    ")\n",
    "\n",
    "expression_levels"
   ]
  },
  {
   "cell_type": "code",
   "execution_count": 40,
   "id": "e19d7bce",
   "metadata": {},
   "outputs": [
    {
     "data": {
      "text/html": [
       "<div>\n",
       "<style scoped>\n",
       "    .dataframe tbody tr th:only-of-type {\n",
       "        vertical-align: middle;\n",
       "    }\n",
       "\n",
       "    .dataframe tbody tr th {\n",
       "        vertical-align: top;\n",
       "    }\n",
       "\n",
       "    .dataframe thead th {\n",
       "        text-align: right;\n",
       "    }\n",
       "</style>\n",
       "<table border=\"1\" class=\"dataframe\">\n",
       "  <thead>\n",
       "    <tr style=\"text-align: right;\">\n",
       "      <th></th>\n",
       "      <th>index</th>\n",
       "      <th>variable</th>\n",
       "      <th>outside_interval</th>\n",
       "    </tr>\n",
       "  </thead>\n",
       "  <tbody>\n",
       "    <tr>\n",
       "      <th>0</th>\n",
       "      <td>0</td>\n",
       "      <td>0</td>\n",
       "      <td>False</td>\n",
       "    </tr>\n",
       "    <tr>\n",
       "      <th>1</th>\n",
       "      <td>1</td>\n",
       "      <td>0</td>\n",
       "      <td>False</td>\n",
       "    </tr>\n",
       "    <tr>\n",
       "      <th>2</th>\n",
       "      <td>2</td>\n",
       "      <td>0</td>\n",
       "      <td>False</td>\n",
       "    </tr>\n",
       "    <tr>\n",
       "      <th>3</th>\n",
       "      <td>3</td>\n",
       "      <td>0</td>\n",
       "      <td>False</td>\n",
       "    </tr>\n",
       "    <tr>\n",
       "      <th>4</th>\n",
       "      <td>4</td>\n",
       "      <td>0</td>\n",
       "      <td>False</td>\n",
       "    </tr>\n",
       "    <tr>\n",
       "      <th>...</th>\n",
       "      <td>...</td>\n",
       "      <td>...</td>\n",
       "      <td>...</td>\n",
       "    </tr>\n",
       "    <tr>\n",
       "      <th>536603</th>\n",
       "      <td>11</td>\n",
       "      <td>33537</td>\n",
       "      <td>False</td>\n",
       "    </tr>\n",
       "    <tr>\n",
       "      <th>536604</th>\n",
       "      <td>12</td>\n",
       "      <td>33537</td>\n",
       "      <td>False</td>\n",
       "    </tr>\n",
       "    <tr>\n",
       "      <th>536605</th>\n",
       "      <td>13</td>\n",
       "      <td>33537</td>\n",
       "      <td>False</td>\n",
       "    </tr>\n",
       "    <tr>\n",
       "      <th>536606</th>\n",
       "      <td>14</td>\n",
       "      <td>33537</td>\n",
       "      <td>False</td>\n",
       "    </tr>\n",
       "    <tr>\n",
       "      <th>536607</th>\n",
       "      <td>15</td>\n",
       "      <td>33537</td>\n",
       "      <td>False</td>\n",
       "    </tr>\n",
       "  </tbody>\n",
       "</table>\n",
       "<p>536608 rows × 3 columns</p>\n",
       "</div>"
      ],
      "text/plain": [
       "        index variable  outside_interval\n",
       "0           0        0             False\n",
       "1           1        0             False\n",
       "2           2        0             False\n",
       "3           3        0             False\n",
       "4           4        0             False\n",
       "...       ...      ...               ...\n",
       "536603     11    33537             False\n",
       "536604     12    33537             False\n",
       "536605     13    33537             False\n",
       "536606     14    33537             False\n",
       "536607     15    33537             False\n",
       "\n",
       "[536608 rows x 3 columns]"
      ]
     },
     "execution_count": 40,
     "metadata": {},
     "output_type": "execute_result"
    }
   ],
   "source": [
    "outside_interval = (\n",
    "    pd.DataFrame(((~above) ^ (~below)).cpu())\n",
    "    .reset_index()\n",
    "    .melt(id_vars = 'index')\n",
    "    .rename(columns = {'value': 'outside_interval'})\n",
    ")\n",
    "\n",
    "outside_interval"
   ]
  },
  {
   "cell_type": "code",
   "execution_count": null,
   "id": "23757105",
   "metadata": {},
   "outputs": [],
   "source": []
  },
  {
   "cell_type": "code",
   "execution_count": 42,
   "id": "9cdf4996",
   "metadata": {},
   "outputs": [
    {
     "data": {
      "text/html": [
       "<div>\n",
       "<style scoped>\n",
       "    .dataframe tbody tr th:only-of-type {\n",
       "        vertical-align: middle;\n",
       "    }\n",
       "\n",
       "    .dataframe tbody tr th {\n",
       "        vertical-align: top;\n",
       "    }\n",
       "\n",
       "    .dataframe thead th {\n",
       "        text-align: right;\n",
       "    }\n",
       "</style>\n",
       "<table border=\"1\" class=\"dataframe\">\n",
       "  <thead>\n",
       "    <tr style=\"text-align: right;\">\n",
       "      <th></th>\n",
       "      <th>index</th>\n",
       "      <th>variable</th>\n",
       "      <th>expression</th>\n",
       "      <th>outside_interval</th>\n",
       "    </tr>\n",
       "  </thead>\n",
       "  <tbody>\n",
       "    <tr>\n",
       "      <th>380207</th>\n",
       "      <td>15</td>\n",
       "      <td>23762</td>\n",
       "      <td>5621.777832</td>\n",
       "      <td>True</td>\n",
       "    </tr>\n",
       "    <tr>\n",
       "      <th>518367</th>\n",
       "      <td>15</td>\n",
       "      <td>32397</td>\n",
       "      <td>3876.460205</td>\n",
       "      <td>True</td>\n",
       "    </tr>\n",
       "    <tr>\n",
       "      <th>64418</th>\n",
       "      <td>2</td>\n",
       "      <td>4026</td>\n",
       "      <td>3273.814941</td>\n",
       "      <td>True</td>\n",
       "    </tr>\n",
       "    <tr>\n",
       "      <th>518364</th>\n",
       "      <td>12</td>\n",
       "      <td>32397</td>\n",
       "      <td>2931.102051</td>\n",
       "      <td>True</td>\n",
       "    </tr>\n",
       "    <tr>\n",
       "      <th>380196</th>\n",
       "      <td>4</td>\n",
       "      <td>23762</td>\n",
       "      <td>2160.481445</td>\n",
       "      <td>True</td>\n",
       "    </tr>\n",
       "    <tr>\n",
       "      <th>...</th>\n",
       "      <td>...</td>\n",
       "      <td>...</td>\n",
       "      <td>...</td>\n",
       "      <td>...</td>\n",
       "    </tr>\n",
       "    <tr>\n",
       "      <th>231565</th>\n",
       "      <td>13</td>\n",
       "      <td>14472</td>\n",
       "      <td>0.000554</td>\n",
       "      <td>True</td>\n",
       "    </tr>\n",
       "    <tr>\n",
       "      <th>38055</th>\n",
       "      <td>7</td>\n",
       "      <td>2378</td>\n",
       "      <td>0.000472</td>\n",
       "      <td>True</td>\n",
       "    </tr>\n",
       "    <tr>\n",
       "      <th>294671</th>\n",
       "      <td>15</td>\n",
       "      <td>18416</td>\n",
       "      <td>0.000418</td>\n",
       "      <td>True</td>\n",
       "    </tr>\n",
       "    <tr>\n",
       "      <th>160430</th>\n",
       "      <td>14</td>\n",
       "      <td>10026</td>\n",
       "      <td>0.000410</td>\n",
       "      <td>True</td>\n",
       "    </tr>\n",
       "    <tr>\n",
       "      <th>88529</th>\n",
       "      <td>1</td>\n",
       "      <td>5533</td>\n",
       "      <td>0.000343</td>\n",
       "      <td>True</td>\n",
       "    </tr>\n",
       "  </tbody>\n",
       "</table>\n",
       "<p>2492 rows × 4 columns</p>\n",
       "</div>"
      ],
      "text/plain": [
       "        index variable   expression  outside_interval\n",
       "380207     15    23762  5621.777832              True\n",
       "518367     15    32397  3876.460205              True\n",
       "64418       2     4026  3273.814941              True\n",
       "518364     12    32397  2931.102051              True\n",
       "380196      4    23762  2160.481445              True\n",
       "...       ...      ...          ...               ...\n",
       "231565     13    14472     0.000554              True\n",
       "38055       7     2378     0.000472              True\n",
       "294671     15    18416     0.000418              True\n",
       "160430     14    10026     0.000410              True\n",
       "88529       1     5533     0.000343              True\n",
       "\n",
       "[2492 rows x 4 columns]"
      ]
     },
     "execution_count": 42,
     "metadata": {},
     "output_type": "execute_result"
    }
   ],
   "source": [
    "expression_levels.merge(outside_interval).query('outside_interval').sort_values('expression', ascending = False)"
   ]
  },
  {
   "cell_type": "code",
   "execution_count": 43,
   "id": "a573c9ae",
   "metadata": {},
   "outputs": [
    {
     "data": {
      "text/html": [
       "<div>\n",
       "<style scoped>\n",
       "    .dataframe tbody tr th:only-of-type {\n",
       "        vertical-align: middle;\n",
       "    }\n",
       "\n",
       "    .dataframe tbody tr th {\n",
       "        vertical-align: top;\n",
       "    }\n",
       "\n",
       "    .dataframe thead th {\n",
       "        text-align: right;\n",
       "    }\n",
       "</style>\n",
       "<table border=\"1\" class=\"dataframe\">\n",
       "  <thead>\n",
       "    <tr style=\"text-align: right;\">\n",
       "      <th></th>\n",
       "      <th>index</th>\n",
       "      <th>variable</th>\n",
       "      <th>expression</th>\n",
       "      <th>outside_interval</th>\n",
       "    </tr>\n",
       "  </thead>\n",
       "  <tbody>\n",
       "    <tr>\n",
       "      <th>64431</th>\n",
       "      <td>15</td>\n",
       "      <td>4026</td>\n",
       "      <td>2.984557e+04</td>\n",
       "      <td>False</td>\n",
       "    </tr>\n",
       "    <tr>\n",
       "      <th>64428</th>\n",
       "      <td>12</td>\n",
       "      <td>4026</td>\n",
       "      <td>2.583505e+04</td>\n",
       "      <td>False</td>\n",
       "    </tr>\n",
       "    <tr>\n",
       "      <th>64430</th>\n",
       "      <td>14</td>\n",
       "      <td>4026</td>\n",
       "      <td>1.559868e+04</td>\n",
       "      <td>False</td>\n",
       "    </tr>\n",
       "    <tr>\n",
       "      <th>64420</th>\n",
       "      <td>4</td>\n",
       "      <td>4026</td>\n",
       "      <td>1.237838e+04</td>\n",
       "      <td>False</td>\n",
       "    </tr>\n",
       "    <tr>\n",
       "      <th>64417</th>\n",
       "      <td>1</td>\n",
       "      <td>4026</td>\n",
       "      <td>7.884078e+03</td>\n",
       "      <td>False</td>\n",
       "    </tr>\n",
       "    <tr>\n",
       "      <th>...</th>\n",
       "      <td>...</td>\n",
       "      <td>...</td>\n",
       "      <td>...</td>\n",
       "      <td>...</td>\n",
       "    </tr>\n",
       "    <tr>\n",
       "      <th>242026</th>\n",
       "      <td>10</td>\n",
       "      <td>15126</td>\n",
       "      <td>8.400749e-07</td>\n",
       "      <td>False</td>\n",
       "    </tr>\n",
       "    <tr>\n",
       "      <th>50282</th>\n",
       "      <td>10</td>\n",
       "      <td>3142</td>\n",
       "      <td>8.322720e-07</td>\n",
       "      <td>False</td>\n",
       "    </tr>\n",
       "    <tr>\n",
       "      <th>144938</th>\n",
       "      <td>10</td>\n",
       "      <td>9058</td>\n",
       "      <td>8.153191e-07</td>\n",
       "      <td>False</td>\n",
       "    </tr>\n",
       "    <tr>\n",
       "      <th>352314</th>\n",
       "      <td>10</td>\n",
       "      <td>22019</td>\n",
       "      <td>8.104284e-07</td>\n",
       "      <td>False</td>\n",
       "    </tr>\n",
       "    <tr>\n",
       "      <th>408042</th>\n",
       "      <td>10</td>\n",
       "      <td>25502</td>\n",
       "      <td>7.766371e-07</td>\n",
       "      <td>False</td>\n",
       "    </tr>\n",
       "  </tbody>\n",
       "</table>\n",
       "<p>534116 rows × 4 columns</p>\n",
       "</div>"
      ],
      "text/plain": [
       "        index variable    expression  outside_interval\n",
       "64431      15     4026  2.984557e+04             False\n",
       "64428      12     4026  2.583505e+04             False\n",
       "64430      14     4026  1.559868e+04             False\n",
       "64420       4     4026  1.237838e+04             False\n",
       "64417       1     4026  7.884078e+03             False\n",
       "...       ...      ...           ...               ...\n",
       "242026     10    15126  8.400749e-07             False\n",
       "50282      10     3142  8.322720e-07             False\n",
       "144938     10     9058  8.153191e-07             False\n",
       "352314     10    22019  8.104284e-07             False\n",
       "408042     10    25502  7.766371e-07             False\n",
       "\n",
       "[534116 rows x 4 columns]"
      ]
     },
     "execution_count": 43,
     "metadata": {},
     "output_type": "execute_result"
    }
   ],
   "source": [
    "expression_levels.merge(outside_interval).query('outside_interval == False').sort_values('expression', ascending = False)"
   ]
  },
  {
   "cell_type": "code",
   "execution_count": 45,
   "id": "ff8b911f",
   "metadata": {},
   "outputs": [
    {
     "data": {
      "text/plain": [
       "torch.Size([200, 16, 33538])"
      ]
     },
     "execution_count": 45,
     "metadata": {},
     "output_type": "execute_result"
    }
   ],
   "source": [
    "px_sample.shape"
   ]
  },
  {
   "cell_type": "code",
   "execution_count": 92,
   "id": "ca26b82d",
   "metadata": {
    "scrolled": false
   },
   "outputs": [
    {
     "data": {
      "text/plain": [
       "tensor([6.2040e+03, 7.1150e+03, 5.4020e+03, 1.2054e+04, 6.9190e+03, 7.1590e+03,\n",
       "        9.3600e+02, 3.8000e+02, 5.4250e+03, 8.3050e+03, 6.3970e+03, 5.2530e+03,\n",
       "        6.1270e+03, 3.2170e+03, 8.7370e+03, 1.4176e+04, 1.0870e+04, 4.6530e+03,\n",
       "        1.5270e+03, 2.5590e+03, 4.8480e+03, 1.4150e+03, 5.5050e+03, 8.1010e+03,\n",
       "        1.4890e+03, 7.3880e+03, 3.0830e+03, 7.4720e+03, 9.1080e+03, 3.2080e+03,\n",
       "        1.9210e+03, 2.4820e+03, 6.8800e+02, 1.8650e+03, 1.4816e+04, 1.1400e+03,\n",
       "        2.6040e+03, 2.5120e+03, 1.7329e+04, 4.8630e+03, 6.2500e+02, 6.9260e+03,\n",
       "        4.4600e+03, 7.1900e+02, 3.5850e+03, 9.1400e+03, 2.0643e+04, 2.1090e+03,\n",
       "        4.4560e+03, 5.9780e+03, 1.7308e+04, 6.1820e+03, 1.2088e+04, 2.4320e+03,\n",
       "        3.4130e+03, 9.1590e+03, 1.3522e+04, 4.7330e+03, 3.1210e+03, 6.5650e+03,\n",
       "        4.2070e+03, 1.0200e+02, 1.1248e+04, 2.6046e+04, 1.3310e+03, 5.5380e+03,\n",
       "        2.0550e+03, 6.6170e+03, 2.1424e+04, 7.3520e+03, 5.2770e+03, 3.2000e+01,\n",
       "        7.4880e+03, 4.6290e+03, 8.7380e+03, 2.2910e+03, 1.3300e+03, 8.3320e+03,\n",
       "        1.0395e+04, 2.8670e+03, 7.0920e+03, 1.3185e+04, 1.7110e+03, 7.2790e+03,\n",
       "        3.3000e+03, 6.0440e+03, 4.7330e+03, 5.3000e+02, 1.4832e+04, 1.2900e+03,\n",
       "        7.8470e+03, 6.1970e+03, 2.5870e+03, 1.2470e+03, 1.9080e+03, 1.5400e+03,\n",
       "        9.1450e+03, 5.1920e+03, 5.7290e+03, 2.3720e+03, 1.2800e+03, 6.9970e+03,\n",
       "        1.0536e+04, 3.9066e+04, 1.0044e+04, 7.9440e+03, 5.0330e+03, 1.4430e+03,\n",
       "        5.2670e+03, 5.5400e+02, 2.8210e+03, 4.4000e+02, 6.2570e+03, 2.9110e+03,\n",
       "        4.4010e+03, 1.1433e+04, 7.9430e+03, 7.3730e+03, 5.2590e+03, 1.8190e+03,\n",
       "        2.8470e+03, 1.2320e+03, 9.9080e+03, 9.6000e+02, 1.4151e+04, 4.9070e+03,\n",
       "        9.4400e+02, 8.3230e+03, 6.7980e+03, 3.3500e+03, 1.2180e+03, 8.5000e+03,\n",
       "        6.6980e+03, 8.0220e+03, 8.4480e+03, 5.7650e+03, 9.4140e+03, 4.2880e+03,\n",
       "        7.4400e+02, 5.8070e+03, 6.9850e+03, 8.6600e+02, 4.7130e+03, 2.1730e+03,\n",
       "        1.2961e+04, 1.8068e+04, 1.8330e+03, 4.1420e+03, 2.4100e+03, 2.2090e+03,\n",
       "        8.3660e+03, 3.1712e+04, 1.1470e+03, 3.9030e+03, 4.5100e+02, 4.3700e+02,\n",
       "        4.5090e+03, 4.8950e+03, 9.8400e+02, 5.9300e+02, 7.7660e+03, 1.7540e+03,\n",
       "        2.1305e+04, 9.8750e+03, 3.4610e+03, 5.5800e+03, 8.4000e+02, 1.3590e+03,\n",
       "        3.0470e+03, 6.0170e+03, 5.7180e+03, 5.8600e+03, 7.8220e+03, 8.8400e+02,\n",
       "        2.4930e+04, 9.1160e+03, 3.5300e+02, 1.5780e+03, 6.3660e+03, 8.2680e+03,\n",
       "        2.1800e+03, 1.5940e+03, 1.0770e+03, 5.6080e+03, 8.9160e+03, 3.3280e+03,\n",
       "        8.2640e+03, 9.3990e+03, 7.0180e+03, 5.2540e+03, 2.7000e+02, 1.0691e+04,\n",
       "        3.9830e+03, 1.2063e+04, 9.5640e+03, 5.2700e+03, 1.7210e+03, 1.1600e+03,\n",
       "        1.1634e+04, 6.4660e+03], device='cuda:0')"
      ]
     },
     "execution_count": 92,
     "metadata": {},
     "output_type": "execute_result"
    }
   ],
   "source": [
    "px_sample[:, 15, 23762]"
   ]
  },
  {
   "cell_type": "code",
   "execution_count": 51,
   "id": "6fc5db66",
   "metadata": {},
   "outputs": [
    {
     "data": {
      "text/plain": [
       "tensor(14.)"
      ]
     },
     "execution_count": 51,
     "metadata": {},
     "output_type": "execute_result"
    }
   ],
   "source": [
    "tensors['X'][15, 23762]"
   ]
  },
  {
   "cell_type": "code",
   "execution_count": 61,
   "id": "bb33fae3",
   "metadata": {},
   "outputs": [],
   "source": []
  },
  {
   "cell_type": "code",
   "execution_count": 124,
   "id": "aa6c53c3",
   "metadata": {},
   "outputs": [
    {
     "data": {
      "image/png": "[encoded data removed]",
      "text/plain": [
       "<Figure size 600x200 with 1 Axes>"
      ]
     },
     "metadata": {
      "image/png": {
       "height": 200,
       "width": 600
      },
      "needs_background": "light"
     },
     "output_type": "display_data"
    },
    {
     "name": "stdout",
     "output_type": "stream",
     "text": [
      "\n"
     ]
    }
   ],
   "source": [
    "tmp_ = pd.Series(px_sample[:, 15, 23762].cpu()).rename('count').reset_index()\n",
    "\n",
    "p.options.figure_size = 6, 2\n",
    "\n",
    "p_ = (\n",
    "    p.ggplot(p.aes(x = 'count'), tmp_)\n",
    "    + p.geom_histogram(bins = 64, fill = 'k', color = 'white')\n",
    "    + p.geom_vline(xintercept = tmp_['count'].quantile(0.05), linetype = 'dashed')\n",
    "    + p.geom_vline(xintercept = tmp_['count'].quantile(0.95), linetype = 'dashed')\n",
    "    + p.geom_vline(xintercept = tensors['X'][15, 23762], color = 'red', size = 1)\n",
    "    + p.scale_x_log10(limits = [0.1, 1e6])\n",
    "    + p.theme_minimal()\n",
    "    + p.labs(\n",
    "        title = 'Cell 15 - gene 23,762',\n",
    "        subtitle = 'Observed count outside 90% CI',\n",
    "        x = 'Molecules',\n",
    "        y = 'Samples'\n",
    "    )\n",
    ")\n",
    "\n",
    "p_.save('fig1.png', dpi = 300)\n",
    "\n",
    "print(p_)"
   ]
  },
  {
   "cell_type": "code",
   "execution_count": 125,
   "id": "943f90dc",
   "metadata": {},
   "outputs": [
    {
     "data": {
      "image/png": "[encoded data removed]",
      "text/plain": [
       "<Figure size 600x200 with 1 Axes>"
      ]
     },
     "metadata": {
      "image/png": {
       "height": 200,
       "width": 600
      },
      "needs_background": "light"
     },
     "output_type": "display_data"
    },
    {
     "name": "stdout",
     "output_type": "stream",
     "text": [
      "\n"
     ]
    }
   ],
   "source": [
    "tmp_ = pd.Series(px_sample[:, 15, 4026].cpu()).rename('count').reset_index()\n",
    "\n",
    "p.options.figure_size = 6, 2\n",
    "\n",
    "p_ = (\n",
    "    p.ggplot(p.aes(x = 'count'), tmp_)\n",
    "    + p.geom_histogram(bins = 64, fill = 'k', color = 'w')\n",
    "    + p.geom_vline(xintercept = tmp_['count'].quantile(0.05), linetype = 'dashed')\n",
    "    + p.geom_vline(xintercept = tmp_['count'].quantile(0.95), linetype = 'dashed')\n",
    "    + p.geom_vline(xintercept = tensors['X'][15, 4026], color = 'red', size = 1)\n",
    "    + p.scale_x_log10(limits = [0.1, 1e6])\n",
    "    + p.theme_minimal()\n",
    "    + p.labs(\n",
    "        title = 'Cell 15 - gene 4,026',\n",
    "        subtitle = 'Observed count within 90% CI',\n",
    "        x = 'Molecules',\n",
    "        y = 'Samples'\n",
    "    )\n",
    ")\n",
    "\n",
    "p_.save('fig2.png', dpi = 300)\n",
    "\n",
    "print(p_)"
   ]
  },
  {
   "cell_type": "code",
   "execution_count": null,
   "id": "c980cf12",
   "metadata": {},
   "outputs": [],
   "source": []
  },
  {
   "cell_type": "code",
   "execution_count": 126,
   "id": "299a807c",
   "metadata": {},
   "outputs": [
    {
     "name": "stderr",
     "output_type": "stream",
     "text": [
      "100%|██████████████████████████████████████████████████████████████████████████████████████████████████████████████████████████████████████████████| 625/625 [02:43<00:00,  3.83it/s]\n"
     ]
    }
   ],
   "source": [
    "scdl_ = model._make_data_loader(adata, batch_size = 16)\n",
    "\n",
    "n_within = 0\n",
    "total = 0\n",
    "for tensors in tqdm(scdl_):\n",
    "    inference = model.module.inference(**model.module._get_inference_input(tensors))\n",
    "    qz = inference['qz']\n",
    "    inference['z'] = qz.sample_n(200).detach()\n",
    "\n",
    "    generative = model.module.generative(**model.module._get_generative_input(tensors, inference))\n",
    "    px = generative['px']\n",
    "    px_sample = px.sample().detach()\n",
    "\n",
    "    xt = tensors['X'].cuda().detach()\n",
    "\n",
    "    above = (px_sample.quantile(0.05, 0) <= xt).detach()\n",
    "    below = (xt <= px_sample.quantile(0.95, 0)).detach()\n",
    "    n_within += (above & below).sum()\n",
    "\n",
    "    total += xt.shape[0] * xt.shape[1]\n",
    "    "
   ]
  },
  {
   "cell_type": "code",
   "execution_count": 134,
   "id": "652ecbdd",
   "metadata": {},
   "outputs": [
    {
     "data": {
      "text/plain": [
       "(333611976, 335380000)"
      ]
     },
     "execution_count": 134,
     "metadata": {},
     "output_type": "execute_result"
    }
   ],
   "source": [
    "n_within.cpu().numpy() // 1, total"
   ]
  },
  {
   "cell_type": "code",
   "execution_count": 131,
   "id": "59ce0965",
   "metadata": {},
   "outputs": [
    {
     "data": {
      "text/plain": [
       "0.9947282962609577"
      ]
     },
     "execution_count": 131,
     "metadata": {},
     "output_type": "execute_result"
    }
   ],
   "source": [
    "n_within.cpu().numpy() / total"
   ]
  },
  {
   "cell_type": "code",
   "execution_count": null,
   "id": "9b37d891",
   "metadata": {},
   "outputs": [],
   "source": []
  },
  {
   "cell_type": "code",
   "execution_count": null,
   "id": "64d7f749",
   "metadata": {},
   "outputs": [],
   "source": []
  },
  {
   "cell_type": "code",
   "execution_count": null,
   "id": "ca0268eb",
   "metadata": {},
   "outputs": [],
   "source": []
  },
  {
   "cell_type": "code",
   "execution_count": null,
   "id": "24e7b597",
   "metadata": {},
   "outputs": [],
   "source": []
  },
  {
   "cell_type": "code",
   "execution_count": null,
   "id": "ece2ba92",
   "metadata": {},
   "outputs": [],
   "source": []
  },
  {
   "cell_type": "code",
   "execution_count": null,
   "id": "33e8874b",
   "metadata": {},
   "outputs": [],
   "source": []
  },
  {
   "cell_type": "code",
   "execution_count": null,
   "id": "363c30d4",
   "metadata": {},
   "outputs": [],
   "source": []
  }
 ],
 "metadata": {
  "kernelspec": {
   "display_name": "Python 3 (ipykernel)",
   "language": "python",
   "name": "python3"
  },
  "language_info": {
   "codemirror_mode": {
    "name": "ipython",
    "version": 3
   },
   "file_extension": ".py",
   "mimetype": "text/x-python",
   "name": "python",
   "nbconvert_exporter": "python",
   "pygments_lexer": "ipython3",
   "version": "3.10.11"
  }
 },
 "nbformat": 4,
 "nbformat_minor": 5
}
