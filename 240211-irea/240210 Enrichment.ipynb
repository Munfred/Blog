{
 "cells": [
  {
   "cell_type": "code",
   "execution_count": 248,
   "id": "b7092c01-b56d-4634-a9a9-daaa6eec5fdb",
   "metadata": {},
   "outputs": [],
   "source": [
    "import numpy as np\n",
    "from mizani.transforms import trans, trans_new\n",
    "from mizani import breaks, formatters\n",
    "import pandas as pd\n",
    "import plotnine as p\n",
    "from scipy import stats\n",
    "from scvi.hub import HubMetadata, HubModel, HubModelCardHelper\n",
    "\n",
    "class neg_log10(trans):\n",
    "    @staticmethod\n",
    "    def transform(x):\n",
    "        return -np.log10(x)\n",
    "\n",
    "    @staticmethod\n",
    "    def inverse(x):\n",
    "        return 10 ** -x\n",
    "    \n",
    "    \n",
    "class trans_log10(trans):\n",
    "    @staticmethod\n",
    "    def transform(x):\n",
    "        return np.log10(x)\n",
    "\n",
    "    @staticmethod\n",
    "    def inverse(x):\n",
    "        return 10 ** x\n",
    "\n",
    "    \n",
    "class neg_log10_breaks:\n",
    "    def __init__(self, n = 5):\n",
    "        self.n = n\n",
    "\n",
    "    def __call__(self, limits):\n",
    "        _min = int(np.floor(np.log10(limits[1])))\n",
    "        breaks = np.array([[10. ** k, 5. * 10. ** (k - 1)] for k in range(0, _min, -1)]).ravel()\n",
    "\n",
    "        return breaks.tolist()"
   ]
  },
  {
   "cell_type": "code",
   "execution_count": 2,
   "id": "6e7f59d1-3cca-4b7b-83ae-adc5e1eeaca2",
   "metadata": {},
   "outputs": [],
   "source": [
    "sheet_dict = pd.read_excel('41586_2023_6816_MOESM5_ESM.xlsx', sheet_name = None)"
   ]
  },
  {
   "cell_type": "code",
   "execution_count": 3,
   "id": "5138681a-606d-40ea-ab4e-48aab63bc28f",
   "metadata": {},
   "outputs": [],
   "source": [
    "cytokine_responses = pd.concat(sheet_dict.values()).reset_index(drop = True)"
   ]
  },
  {
   "cell_type": "code",
   "execution_count": 4,
   "id": "c43536b0-2192-483a-8077-5ba662e8a0a8",
   "metadata": {},
   "outputs": [
    {
     "data": {
      "text/html": [
       "<div>\n",
       "<style scoped>\n",
       "    .dataframe tbody tr th:only-of-type {\n",
       "        vertical-align: middle;\n",
       "    }\n",
       "\n",
       "    .dataframe tbody tr th {\n",
       "        vertical-align: top;\n",
       "    }\n",
       "\n",
       "    .dataframe thead th {\n",
       "        text-align: right;\n",
       "    }\n",
       "</style>\n",
       "<table border=\"1\" class=\"dataframe\">\n",
       "  <thead>\n",
       "    <tr style=\"text-align: right;\">\n",
       "      <th></th>\n",
       "      <th>Celltype</th>\n",
       "      <th>Celltype_Str</th>\n",
       "      <th>Cytokine</th>\n",
       "      <th>Cytokine_Str</th>\n",
       "      <th>Gene</th>\n",
       "      <th>Avg_log2FC</th>\n",
       "      <th>FDR</th>\n",
       "      <th>Pct_Cytokine</th>\n",
       "      <th>Pct_PBS</th>\n",
       "    </tr>\n",
       "  </thead>\n",
       "  <tbody>\n",
       "    <tr>\n",
       "      <th>0</th>\n",
       "      <td>B cell</td>\n",
       "      <td>B_cell</td>\n",
       "      <td>IL-1α</td>\n",
       "      <td>IL1a</td>\n",
       "      <td>Zfp36l2</td>\n",
       "      <td>1.090930</td>\n",
       "      <td>8.007951e-20</td>\n",
       "      <td>0.509</td>\n",
       "      <td>0.217</td>\n",
       "    </tr>\n",
       "    <tr>\n",
       "      <th>1</th>\n",
       "      <td>B cell</td>\n",
       "      <td>B_cell</td>\n",
       "      <td>IL-1α</td>\n",
       "      <td>IL1a</td>\n",
       "      <td>Arap2</td>\n",
       "      <td>0.891994</td>\n",
       "      <td>7.896447e-10</td>\n",
       "      <td>0.314</td>\n",
       "      <td>0.110</td>\n",
       "    </tr>\n",
       "    <tr>\n",
       "      <th>2</th>\n",
       "      <td>B cell</td>\n",
       "      <td>B_cell</td>\n",
       "      <td>IL-1α</td>\n",
       "      <td>IL1a</td>\n",
       "      <td>Socs3</td>\n",
       "      <td>0.843500</td>\n",
       "      <td>5.320295e-10</td>\n",
       "      <td>0.160</td>\n",
       "      <td>0.023</td>\n",
       "    </tr>\n",
       "    <tr>\n",
       "      <th>3</th>\n",
       "      <td>B cell</td>\n",
       "      <td>B_cell</td>\n",
       "      <td>IL-1α</td>\n",
       "      <td>IL1a</td>\n",
       "      <td>Napsa</td>\n",
       "      <td>0.808776</td>\n",
       "      <td>1.244916e-14</td>\n",
       "      <td>0.794</td>\n",
       "      <td>0.585</td>\n",
       "    </tr>\n",
       "    <tr>\n",
       "      <th>4</th>\n",
       "      <td>B cell</td>\n",
       "      <td>B_cell</td>\n",
       "      <td>IL-1α</td>\n",
       "      <td>IL1a</td>\n",
       "      <td>Gpr171</td>\n",
       "      <td>0.791013</td>\n",
       "      <td>1.743135e-09</td>\n",
       "      <td>0.331</td>\n",
       "      <td>0.124</td>\n",
       "    </tr>\n",
       "    <tr>\n",
       "      <th>...</th>\n",
       "      <td>...</td>\n",
       "      <td>...</td>\n",
       "      <td>...</td>\n",
       "      <td>...</td>\n",
       "      <td>...</td>\n",
       "      <td>...</td>\n",
       "      <td>...</td>\n",
       "      <td>...</td>\n",
       "      <td>...</td>\n",
       "    </tr>\n",
       "    <tr>\n",
       "      <th>71982</th>\n",
       "      <td>Treg</td>\n",
       "      <td>Treg</td>\n",
       "      <td>Noggin</td>\n",
       "      <td>Noggin</td>\n",
       "      <td>Dusp1</td>\n",
       "      <td>-1.393710</td>\n",
       "      <td>1.635109e-07</td>\n",
       "      <td>0.158</td>\n",
       "      <td>0.392</td>\n",
       "    </tr>\n",
       "    <tr>\n",
       "      <th>71983</th>\n",
       "      <td>Treg</td>\n",
       "      <td>Treg</td>\n",
       "      <td>TPO</td>\n",
       "      <td>TPO</td>\n",
       "      <td>Rgs2</td>\n",
       "      <td>-0.801164</td>\n",
       "      <td>3.999226e-02</td>\n",
       "      <td>0.117</td>\n",
       "      <td>0.235</td>\n",
       "    </tr>\n",
       "    <tr>\n",
       "      <th>71984</th>\n",
       "      <td>Treg</td>\n",
       "      <td>Treg</td>\n",
       "      <td>TPO</td>\n",
       "      <td>TPO</td>\n",
       "      <td>Junb</td>\n",
       "      <td>-0.817614</td>\n",
       "      <td>4.794422e-03</td>\n",
       "      <td>0.531</td>\n",
       "      <td>0.643</td>\n",
       "    </tr>\n",
       "    <tr>\n",
       "      <th>71985</th>\n",
       "      <td>Treg</td>\n",
       "      <td>Treg</td>\n",
       "      <td>TPO</td>\n",
       "      <td>TPO</td>\n",
       "      <td>Fos</td>\n",
       "      <td>-0.862637</td>\n",
       "      <td>1.773044e-02</td>\n",
       "      <td>0.079</td>\n",
       "      <td>0.207</td>\n",
       "    </tr>\n",
       "    <tr>\n",
       "      <th>71986</th>\n",
       "      <td>Treg</td>\n",
       "      <td>Treg</td>\n",
       "      <td>TPO</td>\n",
       "      <td>TPO</td>\n",
       "      <td>Dusp1</td>\n",
       "      <td>-1.058430</td>\n",
       "      <td>1.086403e-04</td>\n",
       "      <td>0.203</td>\n",
       "      <td>0.392</td>\n",
       "    </tr>\n",
       "  </tbody>\n",
       "</table>\n",
       "<p>71987 rows × 9 columns</p>\n",
       "</div>"
      ],
      "text/plain": [
       "      Celltype Celltype_Str Cytokine Cytokine_Str     Gene  Avg_log2FC   \n",
       "0       B cell       B_cell    IL-1α         IL1a  Zfp36l2    1.090930  \\\n",
       "1       B cell       B_cell    IL-1α         IL1a    Arap2    0.891994   \n",
       "2       B cell       B_cell    IL-1α         IL1a    Socs3    0.843500   \n",
       "3       B cell       B_cell    IL-1α         IL1a    Napsa    0.808776   \n",
       "4       B cell       B_cell    IL-1α         IL1a   Gpr171    0.791013   \n",
       "...        ...          ...      ...          ...      ...         ...   \n",
       "71982     Treg         Treg   Noggin       Noggin    Dusp1   -1.393710   \n",
       "71983     Treg         Treg      TPO          TPO     Rgs2   -0.801164   \n",
       "71984     Treg         Treg      TPO          TPO     Junb   -0.817614   \n",
       "71985     Treg         Treg      TPO          TPO      Fos   -0.862637   \n",
       "71986     Treg         Treg      TPO          TPO    Dusp1   -1.058430   \n",
       "\n",
       "                FDR  Pct_Cytokine  Pct_PBS  \n",
       "0      8.007951e-20         0.509    0.217  \n",
       "1      7.896447e-10         0.314    0.110  \n",
       "2      5.320295e-10         0.160    0.023  \n",
       "3      1.244916e-14         0.794    0.585  \n",
       "4      1.743135e-09         0.331    0.124  \n",
       "...             ...           ...      ...  \n",
       "71982  1.635109e-07         0.158    0.392  \n",
       "71983  3.999226e-02         0.117    0.235  \n",
       "71984  4.794422e-03         0.531    0.643  \n",
       "71985  1.773044e-02         0.079    0.207  \n",
       "71986  1.086403e-04         0.203    0.392  \n",
       "\n",
       "[71987 rows x 9 columns]"
      ]
     },
     "execution_count": 4,
     "metadata": {},
     "output_type": "execute_result"
    }
   ],
   "source": [
    "cytokine_responses"
   ]
  },
  {
   "cell_type": "code",
   "execution_count": 12,
   "id": "f5cbe27b-117f-48a3-82df-67784a848576",
   "metadata": {},
   "outputs": [
    {
     "data": {
      "text/plain": [
       "Celltype_Str\n",
       "B_cell         3644\n",
       "ILC             390\n",
       "Langerhans     1819\n",
       "Macrophage     3044\n",
       "Mast_cell       564\n",
       "MigDC          3736\n",
       "Monocyte       3609\n",
       "NK_cell        8205\n",
       "Neutrophil      484\n",
       "T_cell_CD4     4253\n",
       "T_cell_CD8     6231\n",
       "T_cell_gd      7505\n",
       "Treg           3506\n",
       "cDC1           8058\n",
       "cDC2          13062\n",
       "eTAC            108\n",
       "pDC            3769\n",
       "dtype: int64"
      ]
     },
     "execution_count": 12,
     "metadata": {},
     "output_type": "execute_result"
    }
   ],
   "source": [
    "cytokine_responses.groupby(['Celltype_Str']).size()"
   ]
  },
  {
   "cell_type": "code",
   "execution_count": null,
   "id": "66c3203b-1382-4ff9-942f-71eb5cdb241f",
   "metadata": {},
   "outputs": [],
   "source": []
  },
  {
   "cell_type": "code",
   "execution_count": 7,
   "id": "1e9a4d20-27d1-4b8f-b70b-119db6f5e7c4",
   "metadata": {},
   "outputs": [
    {
     "name": "stderr",
     "output_type": "stream",
     "text": [
      "/tmp/ipykernel_14737/3266896373.py:1: UserWarning: No revision was passed, so the default (latest) revision will be used.\n",
      "  hmo = HubModel.pull_from_huggingface_hub(\n"
     ]
    },
    {
     "data": {
      "application/vnd.jupyter.widget-view+json": {
       "model_id": "71559f13d335430f998f87578512ce80",
       "version_major": 2,
       "version_minor": 0
      },
      "text/plain": [
       "Fetching 3 files:   0%|          | 0/3 [00:00<?, ?it/s]"
      ]
     },
     "metadata": {},
     "output_type": "display_data"
    },
    {
     "data": {
      "application/vnd.jupyter.widget-view+json": {
       "model_id": "7f7230c6492d47fb81c6d159a93b41fb",
       "version_major": 2,
       "version_minor": 0
      },
      "text/plain": [
       "_scvi_required_metadata.json:   0%|          | 0.00/165 [00:00<?, ?B/s]"
      ]
     },
     "metadata": {},
     "output_type": "display_data"
    },
    {
     "data": {
      "application/vnd.jupyter.widget-view+json": {
       "model_id": "f148d96264894065ac9aad299ea8878f",
       "version_major": 2,
       "version_minor": 0
      },
      "text/plain": [
       "adata.h5ad:   0%|          | 0.00/129M [00:00<?, ?B/s]"
      ]
     },
     "metadata": {},
     "output_type": "display_data"
    },
    {
     "data": {
      "application/vnd.jupyter.widget-view+json": {
       "model_id": "367a7a3090a3496cacb3b75fbc309cc2",
       "version_major": 2,
       "version_minor": 0
      },
      "text/plain": [
       "model.pt:   0%|          | 0.00/48.6M [00:00<?, ?B/s]"
      ]
     },
     "metadata": {},
     "output_type": "display_data"
    },
    {
     "data": {
      "application/vnd.jupyter.widget-view+json": {
       "model_id": "e6dbaa3dc0cc49a39fd2efb5dd46c7c1",
       "version_major": 2,
       "version_minor": 0
      },
      "text/plain": [
       "README.md:   0%|          | 0.00/3.39k [00:00<?, ?B/s]"
      ]
     },
     "metadata": {},
     "output_type": "display_data"
    }
   ],
   "source": [
    "hmo = HubModel.pull_from_huggingface_hub(\n",
    "    repo_name = 'valsv/mmColon_single_cell_85K.mouse.scvi.model',\n",
    ")"
   ]
  },
  {
   "cell_type": "code",
   "execution_count": 9,
   "id": "983d951e-d019-45d5-b27d-9358607275e0",
   "metadata": {},
   "outputs": [],
   "source": [
    "vae = hmo.model"
   ]
  },
  {
   "cell_type": "code",
   "execution_count": 10,
   "id": "a420a47b-01bf-4079-92bd-1b0a32b96b8f",
   "metadata": {},
   "outputs": [
    {
     "data": {
      "text/html": [
       "<pre style=\"white-space:pre;overflow-x:auto;line-height:normal;font-family:Menlo,'DejaVu Sans Mono',consolas,'Courier New',monospace\">SCVI Model with the following params: \n",
       "n_hidden: <span style=\"color: #008080; text-decoration-color: #008080; font-weight: bold\">128</span>, n_latent: <span style=\"color: #008080; text-decoration-color: #008080; font-weight: bold\">10</span>, n_layers: <span style=\"color: #008080; text-decoration-color: #008080; font-weight: bold\">1</span>, dropout_rate: <span style=\"color: #008080; text-decoration-color: #008080; font-weight: bold\">0.1</span>, dispersion: gene, gene_likelihood: nb, \n",
       "latent_distribution: normal\n",
       "Training status: Trained\n",
       "Model's adata is minified?: <span style=\"color: #00ff00; text-decoration-color: #00ff00; font-style: italic\">True</span>\n",
       "</pre>\n"
      ],
      "text/plain": [
       "SCVI Model with the following params: \n",
       "n_hidden: \u001b[1;36m128\u001b[0m, n_latent: \u001b[1;36m10\u001b[0m, n_layers: \u001b[1;36m1\u001b[0m, dropout_rate: \u001b[1;36m0.1\u001b[0m, dispersion: gene, gene_likelihood: nb, \n",
       "latent_distribution: normal\n",
       "Training status: Trained\n",
       "Model's adata is minified?: \u001b[3;92mTrue\u001b[0m\n"
      ]
     },
     "metadata": {},
     "output_type": "display_data"
    },
    {
     "data": {
      "text/plain": []
     },
     "execution_count": 10,
     "metadata": {},
     "output_type": "execute_result"
    }
   ],
   "source": [
    "vae"
   ]
  },
  {
   "cell_type": "code",
   "execution_count": null,
   "id": "5623f118-8ade-4851-a8f1-42bd097dbb7d",
   "metadata": {},
   "outputs": [],
   "source": []
  },
  {
   "cell_type": "code",
   "execution_count": 15,
   "id": "5ddd1a04-a2b0-4775-b78a-8dbbe3b8ea1d",
   "metadata": {},
   "outputs": [
    {
     "data": {
      "text/plain": [
       "celltype_minor      condition     \n",
       "B cell              AcuteColitis       4038\n",
       "                    ChronicColitis    14264\n",
       "                    Healthy            7784\n",
       "Dendritic cell      AcuteColitis        384\n",
       "                    ChronicColitis      767\n",
       "                    Healthy             153\n",
       "Endothelial cell    AcuteColitis       2806\n",
       "                    ChronicColitis     3732\n",
       "                    Healthy            2534\n",
       "Epithelial cell     AcuteColitis        192\n",
       "                    ChronicColitis      715\n",
       "                    Healthy            3558\n",
       "Fibroblast          AcuteColitis       4961\n",
       "                    ChronicColitis     4697\n",
       "                    Healthy            6442\n",
       "ILC                 AcuteColitis       1001\n",
       "                    ChronicColitis     1348\n",
       "                    Healthy            1316\n",
       "Macrophage          AcuteColitis       1269\n",
       "                    ChronicColitis     3733\n",
       "                    Healthy             591\n",
       "Monocyte            AcuteColitis          8\n",
       "                    ChronicColitis       23\n",
       "                    Healthy              11\n",
       "NK cell             AcuteColitis         39\n",
       "                    ChronicColitis       97\n",
       "                    Healthy              24\n",
       "Plasma cell         AcuteColitis        104\n",
       "                    ChronicColitis     1070\n",
       "                    Healthy             517\n",
       "Smooth muscle cell  AcuteColitis       1386\n",
       "                    ChronicColitis     2197\n",
       "                    Healthy            1501\n",
       "T cell CD4+         AcuteColitis       3166\n",
       "                    ChronicColitis     4097\n",
       "                    Healthy            3680\n",
       "T cell CD8+         AcuteColitis        157\n",
       "                    ChronicColitis       86\n",
       "                    Healthy             157\n",
       "unassigned          AcuteColitis          3\n",
       "                    ChronicColitis        1\n",
       "                    Healthy               3\n",
       "dtype: int64"
      ]
     },
     "execution_count": 15,
     "metadata": {},
     "output_type": "execute_result"
    }
   ],
   "source": [
    "vae.adata.obs.groupby(['celltype_minor', 'condition'], observed = True).size()"
   ]
  },
  {
   "cell_type": "code",
   "execution_count": null,
   "id": "31abe2fc-6440-4ebb-a802-2a3144363817",
   "metadata": {},
   "outputs": [],
   "source": []
  },
  {
   "cell_type": "code",
   "execution_count": 273,
   "id": "6e2801f4-55d2-42b4-a968-f2c9055ca093",
   "metadata": {},
   "outputs": [
    {
     "name": "stdout",
     "output_type": "stream",
     "text": [
      "\u001b[34mINFO    \u001b[0m AnnData object appears to be a copy. Attempting to transfer setup.                                        \n",
      "DE...: 100%|█████████████████████████████████████████████████████████████████████████████████████████████████████████████████████████████████████████████████████████████████████████████████████████████████████████████████████████████| 1/1 [00:05<00:00,  5.06s/it]\n"
     ]
    },
    {
     "name": "stderr",
     "output_type": "stream",
     "text": [
      "/home/vale/mambaforge/lib/python3.10/site-packages/scvi/model/_utils.py:257: RuntimeWarning: divide by zero encountered in divide\n"
     ]
    }
   ],
   "source": [
    "idx_ = (\n",
    "    vae.adata.obs\n",
    "    .query('celltype_minor == \"Macrophage\"')\n",
    "    .query('condition in [\"Healthy\", \"AcuteColitis\"]')\n",
    "    .index\n",
    ")\n",
    "tmp_ = vae.adata[idx_].copy()\n",
    "\n",
    "de_results = vae.differential_expression(\n",
    "    tmp_,\n",
    "    groupby = 'condition',\n",
    "    group1 = 'AcuteColitis',\n",
    "    group2 = 'Healthy'\n",
    ")"
   ]
  },
  {
   "cell_type": "code",
   "execution_count": 274,
   "id": "7b653bba-a500-44d8-ba71-d3928a3363bc",
   "metadata": {},
   "outputs": [],
   "source": [
    "celltype_response = cytokine_responses.query('Celltype_Str == \"Macrophage\"').copy()\n",
    "celltype_response['Gene'] = celltype_response['Gene'].map(lambda s: [s])\n",
    "response_sets = celltype_response.groupby(['Cytokine'])['Gene'].sum().to_dict()"
   ]
  },
  {
   "cell_type": "code",
   "execution_count": null,
   "id": "17e88d46-20c4-4c61-a7b9-5538a144e4a0",
   "metadata": {},
   "outputs": [],
   "source": []
  },
  {
   "cell_type": "code",
   "execution_count": 291,
   "id": "1258c803-e8c0-46d2-8215-2acd31ab4b00",
   "metadata": {},
   "outputs": [],
   "source": [
    "fde_r = (\n",
    "    de_results\n",
    "    .query('proba_de > 0.95')\n",
    "    .sort_values('lfc_median', ascending = False)\n",
    ")\n",
    "\n",
    "de_genes = set(fde_r.index)\n",
    "universe = set(vae.adata.var.index)\n",
    "\n",
    "results = pd.DataFrame(\n",
    "    1,\n",
    "    index = list(response_sets.keys()),\n",
    "    columns=['intersection', 'response_gene_set', 'de_genes', 'universe', 'pvals']\n",
    ")\n",
    "results['de_genes'] = len(de_genes)\n",
    "results['universe'] = len(universe)\n",
    "\n",
    "for ind in results.index:\n",
    "    response_gene_set = set(response_sets[ind])\n",
    "    common = response_gene_set.intersection(de_genes)\n",
    "    results.loc[ind, \"intersection\"] = len(common)\n",
    "    results.loc[ind, \"response_gene_set\"] = len(response_gene_set)\n",
    "    pval = stats.hypergeom.sf(len(common) - 1, len(universe), len(de_genes), len(response_gene_set))\n",
    "    results.loc[ind, 'pvals'] = pval\n",
    "\n",
    "results['Cytokine'] = results.index"
   ]
  },
  {
   "cell_type": "code",
   "execution_count": 311,
   "id": "7e193230-500b-46bf-942a-a814d93842c0",
   "metadata": {},
   "outputs": [
    {
     "data": {
      "text/html": [
       "<div>\n",
       "<style scoped>\n",
       "    .dataframe tbody tr th:only-of-type {\n",
       "        vertical-align: middle;\n",
       "    }\n",
       "\n",
       "    .dataframe tbody tr th {\n",
       "        vertical-align: top;\n",
       "    }\n",
       "\n",
       "    .dataframe thead th {\n",
       "        text-align: right;\n",
       "    }\n",
       "</style>\n",
       "<table border=\"1\" class=\"dataframe\">\n",
       "  <thead>\n",
       "    <tr style=\"text-align: right;\">\n",
       "      <th></th>\n",
       "      <th>intersection</th>\n",
       "      <th>response_gene_set</th>\n",
       "      <th>de_genes</th>\n",
       "      <th>universe</th>\n",
       "      <th>pvals</th>\n",
       "      <th>Cytokine</th>\n",
       "    </tr>\n",
       "  </thead>\n",
       "  <tbody>\n",
       "    <tr>\n",
       "      <th>IL-21</th>\n",
       "      <td>1</td>\n",
       "      <td>1</td>\n",
       "      <td>96</td>\n",
       "      <td>18416</td>\n",
       "      <td>0.005213</td>\n",
       "      <td>IL-21</td>\n",
       "    </tr>\n",
       "    <tr>\n",
       "      <th>RANKL</th>\n",
       "      <td>1</td>\n",
       "      <td>1</td>\n",
       "      <td>96</td>\n",
       "      <td>18416</td>\n",
       "      <td>0.005213</td>\n",
       "      <td>RANKL</td>\n",
       "    </tr>\n",
       "    <tr>\n",
       "      <th>IL-13</th>\n",
       "      <td>2</td>\n",
       "      <td>34</td>\n",
       "      <td>96</td>\n",
       "      <td>18416</td>\n",
       "      <td>0.013536</td>\n",
       "      <td>IL-13</td>\n",
       "    </tr>\n",
       "    <tr>\n",
       "      <th>IL-17F</th>\n",
       "      <td>1</td>\n",
       "      <td>3</td>\n",
       "      <td>96</td>\n",
       "      <td>18416</td>\n",
       "      <td>0.015558</td>\n",
       "      <td>IL-17F</td>\n",
       "    </tr>\n",
       "    <tr>\n",
       "      <th>OSM</th>\n",
       "      <td>1</td>\n",
       "      <td>7</td>\n",
       "      <td>96</td>\n",
       "      <td>18416</td>\n",
       "      <td>0.035930</td>\n",
       "      <td>OSM</td>\n",
       "    </tr>\n",
       "    <tr>\n",
       "      <th>IL-5</th>\n",
       "      <td>1</td>\n",
       "      <td>13</td>\n",
       "      <td>96</td>\n",
       "      <td>18416</td>\n",
       "      <td>0.065708</td>\n",
       "      <td>IL-5</td>\n",
       "    </tr>\n",
       "    <tr>\n",
       "      <th>IL-10</th>\n",
       "      <td>1</td>\n",
       "      <td>14</td>\n",
       "      <td>96</td>\n",
       "      <td>18416</td>\n",
       "      <td>0.070582</td>\n",
       "      <td>IL-10</td>\n",
       "    </tr>\n",
       "    <tr>\n",
       "      <th>IL-33</th>\n",
       "      <td>1</td>\n",
       "      <td>24</td>\n",
       "      <td>96</td>\n",
       "      <td>18416</td>\n",
       "      <td>0.117957</td>\n",
       "      <td>IL-33</td>\n",
       "    </tr>\n",
       "    <tr>\n",
       "      <th>CT-1</th>\n",
       "      <td>1</td>\n",
       "      <td>27</td>\n",
       "      <td>96</td>\n",
       "      <td>18416</td>\n",
       "      <td>0.131698</td>\n",
       "      <td>CT-1</td>\n",
       "    </tr>\n",
       "    <tr>\n",
       "      <th>IL-12</th>\n",
       "      <td>1</td>\n",
       "      <td>28</td>\n",
       "      <td>96</td>\n",
       "      <td>18416</td>\n",
       "      <td>0.136231</td>\n",
       "      <td>IL-12</td>\n",
       "    </tr>\n",
       "    <tr>\n",
       "      <th>IL-3</th>\n",
       "      <td>1</td>\n",
       "      <td>30</td>\n",
       "      <td>96</td>\n",
       "      <td>18416</td>\n",
       "      <td>0.145226</td>\n",
       "      <td>IL-3</td>\n",
       "    </tr>\n",
       "    <tr>\n",
       "      <th>IL-4</th>\n",
       "      <td>1</td>\n",
       "      <td>33</td>\n",
       "      <td>96</td>\n",
       "      <td>18416</td>\n",
       "      <td>0.158547</td>\n",
       "      <td>IL-4</td>\n",
       "    </tr>\n",
       "    <tr>\n",
       "      <th>IFN-ε</th>\n",
       "      <td>1</td>\n",
       "      <td>35</td>\n",
       "      <td>96</td>\n",
       "      <td>18416</td>\n",
       "      <td>0.167312</td>\n",
       "      <td>IFN-ε</td>\n",
       "    </tr>\n",
       "    <tr>\n",
       "      <th>IFN-α1</th>\n",
       "      <td>3</td>\n",
       "      <td>271</td>\n",
       "      <td>96</td>\n",
       "      <td>18416</td>\n",
       "      <td>0.168124</td>\n",
       "      <td>IFN-α1</td>\n",
       "    </tr>\n",
       "    <tr>\n",
       "      <th>IL-2</th>\n",
       "      <td>1</td>\n",
       "      <td>37</td>\n",
       "      <td>96</td>\n",
       "      <td>18416</td>\n",
       "      <td>0.175988</td>\n",
       "      <td>IL-2</td>\n",
       "    </tr>\n",
       "    <tr>\n",
       "      <th>M-CSF</th>\n",
       "      <td>1</td>\n",
       "      <td>42</td>\n",
       "      <td>96</td>\n",
       "      <td>18416</td>\n",
       "      <td>0.197287</td>\n",
       "      <td>M-CSF</td>\n",
       "    </tr>\n",
       "    <tr>\n",
       "      <th>IFN-β</th>\n",
       "      <td>3</td>\n",
       "      <td>325</td>\n",
       "      <td>96</td>\n",
       "      <td>18416</td>\n",
       "      <td>0.240286</td>\n",
       "      <td>IFN-β</td>\n",
       "    </tr>\n",
       "    <tr>\n",
       "      <th>GM-CSF</th>\n",
       "      <td>1</td>\n",
       "      <td>58</td>\n",
       "      <td>96</td>\n",
       "      <td>18416</td>\n",
       "      <td>0.261850</td>\n",
       "      <td>GM-CSF</td>\n",
       "    </tr>\n",
       "    <tr>\n",
       "      <th>IFN-κ</th>\n",
       "      <td>1</td>\n",
       "      <td>68</td>\n",
       "      <td>96</td>\n",
       "      <td>18416</td>\n",
       "      <td>0.299563</td>\n",
       "      <td>IFN-κ</td>\n",
       "    </tr>\n",
       "    <tr>\n",
       "      <th>IFN-γ</th>\n",
       "      <td>2</td>\n",
       "      <td>255</td>\n",
       "      <td>96</td>\n",
       "      <td>18416</td>\n",
       "      <td>0.384612</td>\n",
       "      <td>IFN-γ</td>\n",
       "    </tr>\n",
       "  </tbody>\n",
       "</table>\n",
       "</div>"
      ],
      "text/plain": [
       "        intersection  response_gene_set  de_genes  universe     pvals Cytokine\n",
       "IL-21              1                  1        96     18416  0.005213    IL-21\n",
       "RANKL              1                  1        96     18416  0.005213    RANKL\n",
       "IL-13              2                 34        96     18416  0.013536    IL-13\n",
       "IL-17F             1                  3        96     18416  0.015558   IL-17F\n",
       "OSM                1                  7        96     18416  0.035930      OSM\n",
       "IL-5               1                 13        96     18416  0.065708     IL-5\n",
       "IL-10              1                 14        96     18416  0.070582    IL-10\n",
       "IL-33              1                 24        96     18416  0.117957    IL-33\n",
       "CT-1               1                 27        96     18416  0.131698     CT-1\n",
       "IL-12              1                 28        96     18416  0.136231    IL-12\n",
       "IL-3               1                 30        96     18416  0.145226     IL-3\n",
       "IL-4               1                 33        96     18416  0.158547     IL-4\n",
       "IFN-ε              1                 35        96     18416  0.167312    IFN-ε\n",
       "IFN-α1             3                271        96     18416  0.168124   IFN-α1\n",
       "IL-2               1                 37        96     18416  0.175988     IL-2\n",
       "M-CSF              1                 42        96     18416  0.197287    M-CSF\n",
       "IFN-β              3                325        96     18416  0.240286    IFN-β\n",
       "GM-CSF             1                 58        96     18416  0.261850   GM-CSF\n",
       "IFN-κ              1                 68        96     18416  0.299563    IFN-κ\n",
       "IFN-γ              2                255        96     18416  0.384612    IFN-γ"
      ]
     },
     "execution_count": 311,
     "metadata": {},
     "output_type": "execute_result"
    }
   ],
   "source": [
    "results.sort_values('pvals', ascending = True).head(20)"
   ]
  },
  {
   "cell_type": "code",
   "execution_count": 304,
   "id": "10115fc5-d904-41d4-9de1-b49f9718b732",
   "metadata": {},
   "outputs": [],
   "source": [
    "adjust_text_dict = {\n",
    "    'expand_points': (2, 2),\n",
    "    'arrowprops': {\n",
    "        'arrowstyle': '->',\n",
    "        'color': 'k'\n",
    "    }\n",
    "}"
   ]
  },
  {
   "cell_type": "code",
   "execution_count": 310,
   "id": "c294e5a2-097d-4b48-b055-72138b62c3bc",
   "metadata": {},
   "outputs": [
    {
     "name": "stderr",
     "output_type": "stream",
     "text": [
      "/home/vale/mambaforge/lib/python3.10/site-packages/plotnine/ggplot.py:587: PlotnineWarning: Saving 8 x 4 in image.\n",
      "/home/vale/mambaforge/lib/python3.10/site-packages/plotnine/ggplot.py:588: PlotnineWarning: Filename: fig1.png\n",
      "/home/vale/mambaforge/lib/python3.10/site-packages/pandas/core/arraylike.py:396: RuntimeWarning: divide by zero encountered in log10\n",
      "/home/vale/mambaforge/lib/python3.10/site-packages/pandas/core/arraylike.py:396: RuntimeWarning: divide by zero encountered in log10\n"
     ]
    },
    {
     "data": {
      "image/png": "[encoded data removed]",
      "text/plain": [
       "<Figure size 800x400 with 1 Axes>"
      ]
     },
     "metadata": {
      "image/png": {
       "height": 400,
       "width": 800
      },
      "needs_background": "light"
     },
     "output_type": "display_data"
    },
    {
     "name": "stdout",
     "output_type": "stream",
     "text": [
      "\n"
     ]
    }
   ],
   "source": [
    "p.options.figure_size = 8, 4\n",
    "adjust_thr = 0.1\n",
    "\n",
    "p_ = (\n",
    "    p.ggplot(p.aes(x = '(intersection / response_gene_set)', y = 'pvals'), results)\n",
    "    + p.geom_point(shape = '.', size = 1.0)\n",
    "    + p.geom_label(p.aes(label = 'Cytokine'), adjust_text = adjust_text_dict, data = results.query('pvals < @adjust_thr'))\n",
    "    + p.geom_label(p.aes(label = 'Cytokine'), data = results.query('pvals >= @adjust_thr'))\n",
    "    + p.scale_x_log10()\n",
    "    + p.scale_y_continuous(\n",
    "        trans = neg_log10,\n",
    "        breaks = neg_log10_breaks()\n",
    "    )\n",
    "    + p.theme_minimal()\n",
    "    + p.guides(color = p.guide_legend(override_aes = {'size': 10}))\n",
    "    + p.labs(\n",
    "        title = 'Immune response enrichment analysis',\n",
    "        subtitle = 'Macrophage - AcuteColitis vs Healthy',\n",
    "        x = 'Fraction response genes being DE',\n",
    "        y = 'Hypergeometric P-value'\n",
    "    )\n",
    ")\n",
    "\n",
    "p_.save('fig1.png', dpi = 300)\n",
    "\n",
    "print(p_)"
   ]
  },
  {
   "cell_type": "code",
   "execution_count": null,
   "id": "4ea96289-58a3-4145-ac4f-39bedce10ae3",
   "metadata": {},
   "outputs": [],
   "source": []
  },
  {
   "cell_type": "code",
   "execution_count": null,
   "id": "387fa91c-3f5a-426e-ae66-2a148f9ff72d",
   "metadata": {},
   "outputs": [],
   "source": []
  },
  {
   "cell_type": "code",
   "execution_count": null,
   "id": "48572102-89c9-47ff-ac51-1bffe083fc84",
   "metadata": {},
   "outputs": [],
   "source": []
  },
  {
   "cell_type": "code",
   "execution_count": null,
   "id": "a0d08580-dc06-4c94-9ee4-c5d9e9250722",
   "metadata": {},
   "outputs": [],
   "source": []
  },
  {
   "cell_type": "code",
   "execution_count": null,
   "id": "bc2c1bb1-bf46-4d8f-b7f4-fb4cb73d33da",
   "metadata": {},
   "outputs": [],
   "source": []
  },
  {
   "cell_type": "code",
   "execution_count": null,
   "id": "3776d03c-aff4-4c6d-a49a-57ebe3d2461a",
   "metadata": {},
   "outputs": [],
   "source": []
  },
  {
   "cell_type": "code",
   "execution_count": null,
   "id": "9a9454f4-a560-4bfe-8b06-a88e5515529a",
   "metadata": {},
   "outputs": [],
   "source": []
  },
  {
   "cell_type": "code",
   "execution_count": null,
   "id": "8de7c84d-bfe4-4a79-8891-24a407d5498e",
   "metadata": {},
   "outputs": [],
   "source": []
  },
  {
   "cell_type": "code",
   "execution_count": null,
   "id": "aa1f6cec-0ca5-478d-a739-8081fb591387",
   "metadata": {},
   "outputs": [],
   "source": []
  },
  {
   "cell_type": "code",
   "execution_count": null,
   "id": "65e4bdc3-c7f3-4863-bf49-55d27203b26c",
   "metadata": {},
   "outputs": [],
   "source": []
  },
  {
   "cell_type": "code",
   "execution_count": null,
   "id": "2d5a7984-e071-40d1-96ef-0e3ac54ecb6f",
   "metadata": {},
   "outputs": [],
   "source": []
  }
 ],
 "metadata": {
  "kernelspec": {
   "display_name": "Python 3 (ipykernel)",
   "language": "python",
   "name": "python3"
  },
  "language_info": {
   "codemirror_mode": {
    "name": "ipython",
    "version": 3
   },
   "file_extension": ".py",
   "mimetype": "text/x-python",
   "name": "python",
   "nbconvert_exporter": "python",
   "pygments_lexer": "ipython3",
   "version": "3.10.11"
  }
 },
 "nbformat": 4,
 "nbformat_minor": 5
}
