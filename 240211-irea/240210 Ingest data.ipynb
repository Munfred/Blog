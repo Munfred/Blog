{
 "cells": [
  {
   "cell_type": "code",
   "execution_count": 1,
   "id": "cbf1828a-32d4-42db-b2e5-576f5a98ef77",
   "metadata": {},
   "outputs": [],
   "source": [
    "import anndata"
   ]
  },
  {
   "cell_type": "code",
   "execution_count": 2,
   "id": "6b884eb6-e9ab-49fd-8bbc-a6904b56bb58",
   "metadata": {},
   "outputs": [
    {
     "name": "stdout",
     "output_type": "stream",
     "text": [
      "\u001b[0m\u001b[01;32m'240210 ingest data.ipynb'\u001b[0m*      \u001b[01;32mmmColon_single_cell_85K.mouse.h5ad\u001b[0m*\n",
      " \u001b[01;32mmmColon_single_cell_85K.h5ad\u001b[0m*\n"
     ]
    }
   ],
   "source": [
    "ls"
   ]
  },
  {
   "cell_type": "code",
   "execution_count": null,
   "id": "5bfecfc3-2a75-405e-adf5-da4f99ea2742",
   "metadata": {},
   "outputs": [],
   "source": []
  },
  {
   "cell_type": "code",
   "execution_count": 3,
   "id": "090f429a-3b78-48e2-8839-0b20d97a1d4e",
   "metadata": {},
   "outputs": [],
   "source": [
    "adata = anndata.read('mmColon_single_cell_85K.h5ad')"
   ]
  },
  {
   "cell_type": "code",
   "execution_count": 4,
   "id": "c2384d94-af8b-4a64-95cb-fd0ff446ea0f",
   "metadata": {},
   "outputs": [
    {
     "data": {
      "text/plain": [
       "AnnData object with n_obs × n_vars = 84612 × 18416\n",
       "    obs: 'sid', 'n_genes', 'condition', 'batch', 'sample', 'celltype_major', 'celltype_minor', 'celltype_subset'\n",
       "    var: 'gene_ids', 'feature_types', 'genome', 'n_cells'\n",
       "    uns: 'CCI', 'CCI_sample', 'Celltype_marker_DB', 'DEG', 'DEG_stat', 'GSA_down', 'GSA_up'\n",
       "    obsm: 'HiCAT_result'"
      ]
     },
     "execution_count": 4,
     "metadata": {},
     "output_type": "execute_result"
    }
   ],
   "source": [
    "adata"
   ]
  },
  {
   "cell_type": "code",
   "execution_count": 5,
   "id": "ea9e12fe-55b4-461e-8661-ae7ece153a72",
   "metadata": {},
   "outputs": [
    {
     "data": {
      "text/html": [
       "<div>\n",
       "<style scoped>\n",
       "    .dataframe tbody tr th:only-of-type {\n",
       "        vertical-align: middle;\n",
       "    }\n",
       "\n",
       "    .dataframe tbody tr th {\n",
       "        vertical-align: top;\n",
       "    }\n",
       "\n",
       "    .dataframe thead th {\n",
       "        text-align: right;\n",
       "    }\n",
       "</style>\n",
       "<table border=\"1\" class=\"dataframe\">\n",
       "  <thead>\n",
       "    <tr style=\"text-align: right;\">\n",
       "      <th></th>\n",
       "      <th>sid</th>\n",
       "      <th>n_genes</th>\n",
       "      <th>condition</th>\n",
       "      <th>batch</th>\n",
       "      <th>sample</th>\n",
       "      <th>celltype_major</th>\n",
       "      <th>celltype_minor</th>\n",
       "      <th>celltype_subset</th>\n",
       "    </tr>\n",
       "  </thead>\n",
       "  <tbody>\n",
       "    <tr>\n",
       "      <th>AAACCCACAGGATTCT-1-0-0-0-0-0-0-0-0-0</th>\n",
       "      <td>ChronicColitis1</td>\n",
       "      <td>1381</td>\n",
       "      <td>ChronicColitis</td>\n",
       "      <td>0</td>\n",
       "      <td>ChronicColitis1</td>\n",
       "      <td>B cell</td>\n",
       "      <td>B cell</td>\n",
       "      <td>B cell (Follicular)</td>\n",
       "    </tr>\n",
       "    <tr>\n",
       "      <th>AAACCCACAGTCGCTG-1-0-0-0-0-0-0-0-0-0</th>\n",
       "      <td>ChronicColitis1</td>\n",
       "      <td>1827</td>\n",
       "      <td>ChronicColitis</td>\n",
       "      <td>0</td>\n",
       "      <td>ChronicColitis1</td>\n",
       "      <td>Myeloid cell</td>\n",
       "      <td>Dendritic cell</td>\n",
       "      <td>DC (Plasmacytoid)</td>\n",
       "    </tr>\n",
       "    <tr>\n",
       "      <th>AAACCCAGTGTCTTAG-1-0-0-0-0-0-0-0-0-0</th>\n",
       "      <td>ChronicColitis1</td>\n",
       "      <td>1681</td>\n",
       "      <td>ChronicColitis</td>\n",
       "      <td>0</td>\n",
       "      <td>ChronicColitis1</td>\n",
       "      <td>B cell</td>\n",
       "      <td>B cell</td>\n",
       "      <td>B cell (Follicular)</td>\n",
       "    </tr>\n",
       "    <tr>\n",
       "      <th>AAACCCAGTTTACCTT-1-0-0-0-0-0-0-0-0-0</th>\n",
       "      <td>ChronicColitis1</td>\n",
       "      <td>491</td>\n",
       "      <td>ChronicColitis</td>\n",
       "      <td>0</td>\n",
       "      <td>ChronicColitis1</td>\n",
       "      <td>B cell</td>\n",
       "      <td>B cell</td>\n",
       "      <td>B cell (Follicular)</td>\n",
       "    </tr>\n",
       "    <tr>\n",
       "      <th>AAACCCATCCGTATGA-1-0-0-0-0-0-0-0-0-0</th>\n",
       "      <td>ChronicColitis1</td>\n",
       "      <td>1808</td>\n",
       "      <td>ChronicColitis</td>\n",
       "      <td>0</td>\n",
       "      <td>ChronicColitis1</td>\n",
       "      <td>T cell</td>\n",
       "      <td>T cell CD4+</td>\n",
       "      <td>T cell (Naive)</td>\n",
       "    </tr>\n",
       "    <tr>\n",
       "      <th>...</th>\n",
       "      <td>...</td>\n",
       "      <td>...</td>\n",
       "      <td>...</td>\n",
       "      <td>...</td>\n",
       "      <td>...</td>\n",
       "      <td>...</td>\n",
       "      <td>...</td>\n",
       "      <td>...</td>\n",
       "    </tr>\n",
       "    <tr>\n",
       "      <th>TTTGTTGAGCAATTCC-1-1</th>\n",
       "      <td>Normal3</td>\n",
       "      <td>2171</td>\n",
       "      <td>Healthy</td>\n",
       "      <td>1</td>\n",
       "      <td>Normal3</td>\n",
       "      <td>T cell</td>\n",
       "      <td>T cell CD4+</td>\n",
       "      <td>T cell (Treg)</td>\n",
       "    </tr>\n",
       "    <tr>\n",
       "      <th>TTTGTTGAGTGGCAGT-1-1</th>\n",
       "      <td>Normal3</td>\n",
       "      <td>1258</td>\n",
       "      <td>Healthy</td>\n",
       "      <td>1</td>\n",
       "      <td>Normal3</td>\n",
       "      <td>T cell</td>\n",
       "      <td>T cell CD4+</td>\n",
       "      <td>T cell (Th1)</td>\n",
       "    </tr>\n",
       "    <tr>\n",
       "      <th>TTTGTTGCACATGGTT-1-1</th>\n",
       "      <td>Normal3</td>\n",
       "      <td>2213</td>\n",
       "      <td>Healthy</td>\n",
       "      <td>1</td>\n",
       "      <td>Normal3</td>\n",
       "      <td>Endothelial cell</td>\n",
       "      <td>Endothelial cell</td>\n",
       "      <td>Endothelial cell</td>\n",
       "    </tr>\n",
       "    <tr>\n",
       "      <th>TTTGTTGGTAACCAGG-1-1</th>\n",
       "      <td>Normal3</td>\n",
       "      <td>409</td>\n",
       "      <td>Healthy</td>\n",
       "      <td>1</td>\n",
       "      <td>Normal3</td>\n",
       "      <td>B cell</td>\n",
       "      <td>B cell</td>\n",
       "      <td>B cell (Follicular)</td>\n",
       "    </tr>\n",
       "    <tr>\n",
       "      <th>TTTGTTGTCATTCTTG-1-1</th>\n",
       "      <td>Normal3</td>\n",
       "      <td>1267</td>\n",
       "      <td>Healthy</td>\n",
       "      <td>1</td>\n",
       "      <td>Normal3</td>\n",
       "      <td>B cell</td>\n",
       "      <td>B cell</td>\n",
       "      <td>B cell (Follicular)</td>\n",
       "    </tr>\n",
       "  </tbody>\n",
       "</table>\n",
       "<p>84612 rows × 8 columns</p>\n",
       "</div>"
      ],
      "text/plain": [
       "                                                  sid  n_genes   \n",
       "AAACCCACAGGATTCT-1-0-0-0-0-0-0-0-0-0  ChronicColitis1     1381  \\\n",
       "AAACCCACAGTCGCTG-1-0-0-0-0-0-0-0-0-0  ChronicColitis1     1827   \n",
       "AAACCCAGTGTCTTAG-1-0-0-0-0-0-0-0-0-0  ChronicColitis1     1681   \n",
       "AAACCCAGTTTACCTT-1-0-0-0-0-0-0-0-0-0  ChronicColitis1      491   \n",
       "AAACCCATCCGTATGA-1-0-0-0-0-0-0-0-0-0  ChronicColitis1     1808   \n",
       "...                                               ...      ...   \n",
       "TTTGTTGAGCAATTCC-1-1                          Normal3     2171   \n",
       "TTTGTTGAGTGGCAGT-1-1                          Normal3     1258   \n",
       "TTTGTTGCACATGGTT-1-1                          Normal3     2213   \n",
       "TTTGTTGGTAACCAGG-1-1                          Normal3      409   \n",
       "TTTGTTGTCATTCTTG-1-1                          Normal3     1267   \n",
       "\n",
       "                                           condition batch           sample   \n",
       "AAACCCACAGGATTCT-1-0-0-0-0-0-0-0-0-0  ChronicColitis     0  ChronicColitis1  \\\n",
       "AAACCCACAGTCGCTG-1-0-0-0-0-0-0-0-0-0  ChronicColitis     0  ChronicColitis1   \n",
       "AAACCCAGTGTCTTAG-1-0-0-0-0-0-0-0-0-0  ChronicColitis     0  ChronicColitis1   \n",
       "AAACCCAGTTTACCTT-1-0-0-0-0-0-0-0-0-0  ChronicColitis     0  ChronicColitis1   \n",
       "AAACCCATCCGTATGA-1-0-0-0-0-0-0-0-0-0  ChronicColitis     0  ChronicColitis1   \n",
       "...                                              ...   ...              ...   \n",
       "TTTGTTGAGCAATTCC-1-1                         Healthy     1          Normal3   \n",
       "TTTGTTGAGTGGCAGT-1-1                         Healthy     1          Normal3   \n",
       "TTTGTTGCACATGGTT-1-1                         Healthy     1          Normal3   \n",
       "TTTGTTGGTAACCAGG-1-1                         Healthy     1          Normal3   \n",
       "TTTGTTGTCATTCTTG-1-1                         Healthy     1          Normal3   \n",
       "\n",
       "                                        celltype_major    celltype_minor   \n",
       "AAACCCACAGGATTCT-1-0-0-0-0-0-0-0-0-0            B cell            B cell  \\\n",
       "AAACCCACAGTCGCTG-1-0-0-0-0-0-0-0-0-0      Myeloid cell    Dendritic cell   \n",
       "AAACCCAGTGTCTTAG-1-0-0-0-0-0-0-0-0-0            B cell            B cell   \n",
       "AAACCCAGTTTACCTT-1-0-0-0-0-0-0-0-0-0            B cell            B cell   \n",
       "AAACCCATCCGTATGA-1-0-0-0-0-0-0-0-0-0            T cell       T cell CD4+   \n",
       "...                                                ...               ...   \n",
       "TTTGTTGAGCAATTCC-1-1                            T cell       T cell CD4+   \n",
       "TTTGTTGAGTGGCAGT-1-1                            T cell       T cell CD4+   \n",
       "TTTGTTGCACATGGTT-1-1                  Endothelial cell  Endothelial cell   \n",
       "TTTGTTGGTAACCAGG-1-1                            B cell            B cell   \n",
       "TTTGTTGTCATTCTTG-1-1                            B cell            B cell   \n",
       "\n",
       "                                          celltype_subset  \n",
       "AAACCCACAGGATTCT-1-0-0-0-0-0-0-0-0-0  B cell (Follicular)  \n",
       "AAACCCACAGTCGCTG-1-0-0-0-0-0-0-0-0-0    DC (Plasmacytoid)  \n",
       "AAACCCAGTGTCTTAG-1-0-0-0-0-0-0-0-0-0  B cell (Follicular)  \n",
       "AAACCCAGTTTACCTT-1-0-0-0-0-0-0-0-0-0  B cell (Follicular)  \n",
       "AAACCCATCCGTATGA-1-0-0-0-0-0-0-0-0-0       T cell (Naive)  \n",
       "...                                                   ...  \n",
       "TTTGTTGAGCAATTCC-1-1                        T cell (Treg)  \n",
       "TTTGTTGAGTGGCAGT-1-1                         T cell (Th1)  \n",
       "TTTGTTGCACATGGTT-1-1                     Endothelial cell  \n",
       "TTTGTTGGTAACCAGG-1-1                  B cell (Follicular)  \n",
       "TTTGTTGTCATTCTTG-1-1                  B cell (Follicular)  \n",
       "\n",
       "[84612 rows x 8 columns]"
      ]
     },
     "execution_count": 5,
     "metadata": {},
     "output_type": "execute_result"
    }
   ],
   "source": [
    "adata.obs"
   ]
  },
  {
   "cell_type": "code",
   "execution_count": 6,
   "id": "b9d63105-8e7a-46e2-8373-87b466d418a2",
   "metadata": {},
   "outputs": [
    {
     "data": {
      "text/html": [
       "<div>\n",
       "<style scoped>\n",
       "    .dataframe tbody tr th:only-of-type {\n",
       "        vertical-align: middle;\n",
       "    }\n",
       "\n",
       "    .dataframe tbody tr th {\n",
       "        vertical-align: top;\n",
       "    }\n",
       "\n",
       "    .dataframe thead th {\n",
       "        text-align: right;\n",
       "    }\n",
       "</style>\n",
       "<table border=\"1\" class=\"dataframe\">\n",
       "  <thead>\n",
       "    <tr style=\"text-align: right;\">\n",
       "      <th></th>\n",
       "      <th>gene_ids</th>\n",
       "      <th>feature_types</th>\n",
       "      <th>genome</th>\n",
       "      <th>n_cells</th>\n",
       "    </tr>\n",
       "  </thead>\n",
       "  <tbody>\n",
       "    <tr>\n",
       "      <th>XKR4</th>\n",
       "      <td>ENSMUSG00000051951</td>\n",
       "      <td>Gene Expression</td>\n",
       "      <td>mm10</td>\n",
       "      <td>227</td>\n",
       "    </tr>\n",
       "    <tr>\n",
       "      <th>GM19938</th>\n",
       "      <td>ENSMUSG00000102331</td>\n",
       "      <td>Gene Expression</td>\n",
       "      <td>mm10</td>\n",
       "      <td>290</td>\n",
       "    </tr>\n",
       "    <tr>\n",
       "      <th>SOX17</th>\n",
       "      <td>ENSMUSG00000025902</td>\n",
       "      <td>Gene Expression</td>\n",
       "      <td>mm10</td>\n",
       "      <td>4129</td>\n",
       "    </tr>\n",
       "    <tr>\n",
       "      <th>GM37587</th>\n",
       "      <td>ENSMUSG00000104238</td>\n",
       "      <td>Gene Expression</td>\n",
       "      <td>mm10</td>\n",
       "      <td>96</td>\n",
       "    </tr>\n",
       "    <tr>\n",
       "      <th>MRPL15</th>\n",
       "      <td>ENSMUSG00000033845</td>\n",
       "      <td>Gene Expression</td>\n",
       "      <td>mm10</td>\n",
       "      <td>17616</td>\n",
       "    </tr>\n",
       "    <tr>\n",
       "      <th>...</th>\n",
       "      <td>...</td>\n",
       "      <td>...</td>\n",
       "      <td>...</td>\n",
       "      <td>...</td>\n",
       "    </tr>\n",
       "    <tr>\n",
       "      <th>VAMP7</th>\n",
       "      <td>ENSMUSG00000051412</td>\n",
       "      <td>Gene Expression</td>\n",
       "      <td>mm10</td>\n",
       "      <td>12933</td>\n",
       "    </tr>\n",
       "    <tr>\n",
       "      <th>TMLHE</th>\n",
       "      <td>ENSMUSG00000079834</td>\n",
       "      <td>Gene Expression</td>\n",
       "      <td>mm10</td>\n",
       "      <td>1345</td>\n",
       "    </tr>\n",
       "    <tr>\n",
       "      <th>CR974586.4</th>\n",
       "      <td>ENSMUSG00000096506</td>\n",
       "      <td>Gene Expression</td>\n",
       "      <td>mm10</td>\n",
       "      <td>64</td>\n",
       "    </tr>\n",
       "    <tr>\n",
       "      <th>CAAA01147332.1</th>\n",
       "      <td>ENSMUSG00000095742</td>\n",
       "      <td>Gene Expression</td>\n",
       "      <td>mm10</td>\n",
       "      <td>1722</td>\n",
       "    </tr>\n",
       "    <tr>\n",
       "      <th>AC149090.1</th>\n",
       "      <td>ENSMUSG00000095041</td>\n",
       "      <td>Gene Expression</td>\n",
       "      <td>mm10</td>\n",
       "      <td>19419</td>\n",
       "    </tr>\n",
       "  </tbody>\n",
       "</table>\n",
       "<p>18416 rows × 4 columns</p>\n",
       "</div>"
      ],
      "text/plain": [
       "                          gene_ids    feature_types genome  n_cells\n",
       "XKR4            ENSMUSG00000051951  Gene Expression   mm10      227\n",
       "GM19938         ENSMUSG00000102331  Gene Expression   mm10      290\n",
       "SOX17           ENSMUSG00000025902  Gene Expression   mm10     4129\n",
       "GM37587         ENSMUSG00000104238  Gene Expression   mm10       96\n",
       "MRPL15          ENSMUSG00000033845  Gene Expression   mm10    17616\n",
       "...                            ...              ...    ...      ...\n",
       "VAMP7           ENSMUSG00000051412  Gene Expression   mm10    12933\n",
       "TMLHE           ENSMUSG00000079834  Gene Expression   mm10     1345\n",
       "CR974586.4      ENSMUSG00000096506  Gene Expression   mm10       64\n",
       "CAAA01147332.1  ENSMUSG00000095742  Gene Expression   mm10     1722\n",
       "AC149090.1      ENSMUSG00000095041  Gene Expression   mm10    19419\n",
       "\n",
       "[18416 rows x 4 columns]"
      ]
     },
     "execution_count": 6,
     "metadata": {},
     "output_type": "execute_result"
    }
   ],
   "source": [
    "adata.var"
   ]
  },
  {
   "cell_type": "code",
   "execution_count": 7,
   "id": "8d910b0e-ab76-45cf-a375-f3ad037c5041",
   "metadata": {},
   "outputs": [
    {
     "data": {
      "text/plain": [
       "sample\n",
       "AcuteColitis1       6593\n",
       "AcuteColitis2       5940\n",
       "AcuteColitis3       6981\n",
       "ChronicColitis1     8500\n",
       "ChronicColitis2     2908\n",
       "ChronicColitis3    12650\n",
       "ChronicColitis4    12769\n",
       "Normal1             8391\n",
       "Normal2             8848\n",
       "Normal3            11032\n",
       "dtype: int64"
      ]
     },
     "execution_count": 7,
     "metadata": {},
     "output_type": "execute_result"
    }
   ],
   "source": [
    "adata.obs.groupby(['sample']).size()"
   ]
  },
  {
   "cell_type": "code",
   "execution_count": null,
   "id": "1ff39d6e-8221-4b56-a0db-410cfbcf7952",
   "metadata": {},
   "outputs": [],
   "source": []
  },
  {
   "cell_type": "code",
   "execution_count": 8,
   "id": "25c5de4a-ac16-4320-afda-839f0a421e95",
   "metadata": {},
   "outputs": [],
   "source": [
    "from pyensembl import EnsemblRelease"
   ]
  },
  {
   "cell_type": "code",
   "execution_count": 9,
   "id": "87f0351d-6c6b-4f9d-9fb7-c3d03dad67dd",
   "metadata": {},
   "outputs": [],
   "source": [
    "genome = EnsemblRelease(species = 'mouse')"
   ]
  },
  {
   "cell_type": "code",
   "execution_count": 10,
   "id": "6a33cbec-911f-42b5-9d8b-667671fc354a",
   "metadata": {},
   "outputs": [
    {
     "data": {
      "text/plain": [
       "57180"
      ]
     },
     "execution_count": 10,
     "metadata": {},
     "output_type": "execute_result"
    }
   ],
   "source": [
    "len(genome.gene_ids())"
   ]
  },
  {
   "cell_type": "code",
   "execution_count": 11,
   "id": "b816c72b-29a0-4600-b2e3-fa115e853a13",
   "metadata": {},
   "outputs": [
    {
     "data": {
      "text/plain": [
       "56423"
      ]
     },
     "execution_count": 11,
     "metadata": {},
     "output_type": "execute_result"
    }
   ],
   "source": [
    "len(genome.gene_names())"
   ]
  },
  {
   "cell_type": "code",
   "execution_count": null,
   "id": "cb53f304-e367-41df-9c94-e2dbfa7b9320",
   "metadata": {},
   "outputs": [],
   "source": []
  },
  {
   "cell_type": "code",
   "execution_count": 12,
   "id": "de5e96ed-4fcb-44b4-a558-419e8e999f6a",
   "metadata": {},
   "outputs": [],
   "source": [
    "import mygene"
   ]
  },
  {
   "cell_type": "code",
   "execution_count": null,
   "id": "bc9141f6-c41b-46ef-b56c-c93832a70892",
   "metadata": {},
   "outputs": [],
   "source": []
  },
  {
   "cell_type": "code",
   "execution_count": 13,
   "id": "3c8eb71a-735a-46e8-9fb6-0f7e4b54589b",
   "metadata": {},
   "outputs": [],
   "source": [
    "mg = mygene.MyGeneInfo()"
   ]
  },
  {
   "cell_type": "code",
   "execution_count": 14,
   "id": "c750f6ef-aff5-4eb4-ad97-4c591274249b",
   "metadata": {},
   "outputs": [
    {
     "name": "stderr",
     "output_type": "stream",
     "text": [
      "INFO:biothings.client:querying 1-1000...\n",
      "INFO:biothings.client:done.\n",
      "INFO:biothings.client:querying 1001-2000...\n",
      "INFO:biothings.client:done.\n",
      "INFO:biothings.client:querying 2001-3000...\n",
      "INFO:biothings.client:done.\n",
      "INFO:biothings.client:querying 3001-4000...\n",
      "INFO:biothings.client:done.\n",
      "INFO:biothings.client:querying 4001-5000...\n",
      "INFO:biothings.client:done.\n",
      "INFO:biothings.client:querying 5001-6000...\n",
      "INFO:biothings.client:done.\n",
      "INFO:biothings.client:querying 6001-7000...\n",
      "INFO:biothings.client:done.\n",
      "INFO:biothings.client:querying 7001-8000...\n",
      "INFO:biothings.client:done.\n",
      "INFO:biothings.client:querying 8001-9000...\n",
      "INFO:biothings.client:done.\n",
      "INFO:biothings.client:querying 9001-10000...\n",
      "INFO:biothings.client:done.\n",
      "INFO:biothings.client:querying 10001-11000...\n",
      "INFO:biothings.client:done.\n",
      "INFO:biothings.client:querying 11001-12000...\n",
      "INFO:biothings.client:done.\n",
      "INFO:biothings.client:querying 12001-13000...\n",
      "INFO:biothings.client:done.\n",
      "INFO:biothings.client:querying 13001-14000...\n",
      "INFO:biothings.client:done.\n",
      "INFO:biothings.client:querying 14001-15000...\n",
      "INFO:biothings.client:done.\n",
      "INFO:biothings.client:querying 15001-16000...\n",
      "INFO:biothings.client:done.\n",
      "INFO:biothings.client:querying 16001-17000...\n",
      "INFO:biothings.client:done.\n",
      "INFO:biothings.client:querying 17001-18000...\n",
      "INFO:biothings.client:done.\n",
      "INFO:biothings.client:querying 18001-18416...\n",
      "INFO:biothings.client:done.\n",
      "INFO:biothings.client:Finished.\n",
      "WARNING:biothings.client:1 input query terms found dup hits:\t[('ENSMUSG00000100417', 2)]\n",
      "WARNING:biothings.client:44 input query terms found no hit:\t['ENSMUSG00000094127', 'ENSMUSG00000104367', 'ENSMUSG00000075015', 'ENSMUSG00000075014', 'ENSMUSG000\n",
      "INFO:biothings.client:Pass \"returnall=True\" to return complete lists of duplicate or missing query terms.\n"
     ]
    }
   ],
   "source": [
    "gene_info = mg.querymany(adata.var['gene_ids'].tolist(), fields='symbol', species='mouse')"
   ]
  },
  {
   "cell_type": "code",
   "execution_count": 15,
   "id": "a22ea593-9556-4c9d-8077-7bc467f6ac64",
   "metadata": {},
   "outputs": [],
   "source": [
    "import pandas as pd"
   ]
  },
  {
   "cell_type": "code",
   "execution_count": 16,
   "id": "74b70c56-c113-4ed1-a98a-dd7b5eee2cc7",
   "metadata": {},
   "outputs": [],
   "source": [
    "gene_info_df = pd.DataFrame(gene_info)"
   ]
  },
  {
   "cell_type": "code",
   "execution_count": 17,
   "id": "07dbe5b5-1a6c-40e6-ac62-9e6abb295593",
   "metadata": {},
   "outputs": [
    {
     "data": {
      "text/html": [
       "<div>\n",
       "<style scoped>\n",
       "    .dataframe tbody tr th:only-of-type {\n",
       "        vertical-align: middle;\n",
       "    }\n",
       "\n",
       "    .dataframe tbody tr th {\n",
       "        vertical-align: top;\n",
       "    }\n",
       "\n",
       "    .dataframe thead th {\n",
       "        text-align: right;\n",
       "    }\n",
       "</style>\n",
       "<table border=\"1\" class=\"dataframe\">\n",
       "  <thead>\n",
       "    <tr style=\"text-align: right;\">\n",
       "      <th></th>\n",
       "      <th>query</th>\n",
       "      <th>_id</th>\n",
       "      <th>_score</th>\n",
       "      <th>symbol</th>\n",
       "      <th>notfound</th>\n",
       "    </tr>\n",
       "  </thead>\n",
       "  <tbody>\n",
       "    <tr>\n",
       "      <th>0</th>\n",
       "      <td>ENSMUSG00000051951</td>\n",
       "      <td>497097</td>\n",
       "      <td>23.257889</td>\n",
       "      <td>Xkr4</td>\n",
       "      <td>NaN</td>\n",
       "    </tr>\n",
       "    <tr>\n",
       "      <th>1</th>\n",
       "      <td>ENSMUSG00000102331</td>\n",
       "      <td>ENSMUSG00000102331</td>\n",
       "      <td>23.257950</td>\n",
       "      <td>Gm19938</td>\n",
       "      <td>NaN</td>\n",
       "    </tr>\n",
       "    <tr>\n",
       "      <th>2</th>\n",
       "      <td>ENSMUSG00000025902</td>\n",
       "      <td>20671</td>\n",
       "      <td>23.257923</td>\n",
       "      <td>Sox17</td>\n",
       "      <td>NaN</td>\n",
       "    </tr>\n",
       "    <tr>\n",
       "      <th>3</th>\n",
       "      <td>ENSMUSG00000104238</td>\n",
       "      <td>ENSMUSG00000104238</td>\n",
       "      <td>23.257887</td>\n",
       "      <td>Gm37587</td>\n",
       "      <td>NaN</td>\n",
       "    </tr>\n",
       "    <tr>\n",
       "      <th>4</th>\n",
       "      <td>ENSMUSG00000033845</td>\n",
       "      <td>27395</td>\n",
       "      <td>23.257936</td>\n",
       "      <td>Mrpl15</td>\n",
       "      <td>NaN</td>\n",
       "    </tr>\n",
       "    <tr>\n",
       "      <th>...</th>\n",
       "      <td>...</td>\n",
       "      <td>...</td>\n",
       "      <td>...</td>\n",
       "      <td>...</td>\n",
       "      <td>...</td>\n",
       "    </tr>\n",
       "    <tr>\n",
       "      <th>18412</th>\n",
       "      <td>ENSMUSG00000051412</td>\n",
       "      <td>NaN</td>\n",
       "      <td>NaN</td>\n",
       "      <td>NaN</td>\n",
       "      <td>True</td>\n",
       "    </tr>\n",
       "    <tr>\n",
       "      <th>18413</th>\n",
       "      <td>ENSMUSG00000079834</td>\n",
       "      <td>NaN</td>\n",
       "      <td>NaN</td>\n",
       "      <td>NaN</td>\n",
       "      <td>True</td>\n",
       "    </tr>\n",
       "    <tr>\n",
       "      <th>18414</th>\n",
       "      <td>ENSMUSG00000096506</td>\n",
       "      <td>NaN</td>\n",
       "      <td>NaN</td>\n",
       "      <td>NaN</td>\n",
       "      <td>True</td>\n",
       "    </tr>\n",
       "    <tr>\n",
       "      <th>18415</th>\n",
       "      <td>ENSMUSG00000095742</td>\n",
       "      <td>NaN</td>\n",
       "      <td>NaN</td>\n",
       "      <td>NaN</td>\n",
       "      <td>True</td>\n",
       "    </tr>\n",
       "    <tr>\n",
       "      <th>18416</th>\n",
       "      <td>ENSMUSG00000095041</td>\n",
       "      <td>ENSMUSG00000095041</td>\n",
       "      <td>23.257889</td>\n",
       "      <td>NaN</td>\n",
       "      <td>NaN</td>\n",
       "    </tr>\n",
       "  </tbody>\n",
       "</table>\n",
       "<p>18417 rows × 5 columns</p>\n",
       "</div>"
      ],
      "text/plain": [
       "                    query                 _id     _score   symbol notfound\n",
       "0      ENSMUSG00000051951              497097  23.257889     Xkr4      NaN\n",
       "1      ENSMUSG00000102331  ENSMUSG00000102331  23.257950  Gm19938      NaN\n",
       "2      ENSMUSG00000025902               20671  23.257923    Sox17      NaN\n",
       "3      ENSMUSG00000104238  ENSMUSG00000104238  23.257887  Gm37587      NaN\n",
       "4      ENSMUSG00000033845               27395  23.257936   Mrpl15      NaN\n",
       "...                   ...                 ...        ...      ...      ...\n",
       "18412  ENSMUSG00000051412                 NaN        NaN      NaN     True\n",
       "18413  ENSMUSG00000079834                 NaN        NaN      NaN     True\n",
       "18414  ENSMUSG00000096506                 NaN        NaN      NaN     True\n",
       "18415  ENSMUSG00000095742                 NaN        NaN      NaN     True\n",
       "18416  ENSMUSG00000095041  ENSMUSG00000095041  23.257889      NaN      NaN\n",
       "\n",
       "[18417 rows x 5 columns]"
      ]
     },
     "execution_count": 17,
     "metadata": {},
     "output_type": "execute_result"
    }
   ],
   "source": [
    "gene_info_df"
   ]
  },
  {
   "cell_type": "code",
   "execution_count": 18,
   "id": "68122970-5a03-4d34-a4c9-64a4929a45ab",
   "metadata": {},
   "outputs": [],
   "source": [
    "gene_info_df['symbol'] = gene_info_df['symbol'].fillna(gene_info_df['query'])"
   ]
  },
  {
   "cell_type": "code",
   "execution_count": null,
   "id": "4bb0e3cd-6fe0-4943-aa42-7ebf0ae4ff19",
   "metadata": {},
   "outputs": [],
   "source": []
  },
  {
   "cell_type": "code",
   "execution_count": 19,
   "id": "ea495d1f-7319-47f0-a71e-61b4634ddeb2",
   "metadata": {},
   "outputs": [],
   "source": [
    "adata.var['gene_symbol'] = adata.var['gene_ids'].map(gene_info_df.groupby(['query']).first()['symbol'])"
   ]
  },
  {
   "cell_type": "code",
   "execution_count": 20,
   "id": "06715af4-e1d2-4bf7-a18d-9a8b5f77aea3",
   "metadata": {},
   "outputs": [
    {
     "data": {
      "text/html": [
       "<div>\n",
       "<style scoped>\n",
       "    .dataframe tbody tr th:only-of-type {\n",
       "        vertical-align: middle;\n",
       "    }\n",
       "\n",
       "    .dataframe tbody tr th {\n",
       "        vertical-align: top;\n",
       "    }\n",
       "\n",
       "    .dataframe thead th {\n",
       "        text-align: right;\n",
       "    }\n",
       "</style>\n",
       "<table border=\"1\" class=\"dataframe\">\n",
       "  <thead>\n",
       "    <tr style=\"text-align: right;\">\n",
       "      <th></th>\n",
       "      <th>gene_ids</th>\n",
       "      <th>feature_types</th>\n",
       "      <th>genome</th>\n",
       "      <th>n_cells</th>\n",
       "      <th>gene_symbol</th>\n",
       "    </tr>\n",
       "  </thead>\n",
       "  <tbody>\n",
       "    <tr>\n",
       "      <th>XKR4</th>\n",
       "      <td>ENSMUSG00000051951</td>\n",
       "      <td>Gene Expression</td>\n",
       "      <td>mm10</td>\n",
       "      <td>227</td>\n",
       "      <td>Xkr4</td>\n",
       "    </tr>\n",
       "    <tr>\n",
       "      <th>GM19938</th>\n",
       "      <td>ENSMUSG00000102331</td>\n",
       "      <td>Gene Expression</td>\n",
       "      <td>mm10</td>\n",
       "      <td>290</td>\n",
       "      <td>Gm19938</td>\n",
       "    </tr>\n",
       "    <tr>\n",
       "      <th>SOX17</th>\n",
       "      <td>ENSMUSG00000025902</td>\n",
       "      <td>Gene Expression</td>\n",
       "      <td>mm10</td>\n",
       "      <td>4129</td>\n",
       "      <td>Sox17</td>\n",
       "    </tr>\n",
       "    <tr>\n",
       "      <th>GM37587</th>\n",
       "      <td>ENSMUSG00000104238</td>\n",
       "      <td>Gene Expression</td>\n",
       "      <td>mm10</td>\n",
       "      <td>96</td>\n",
       "      <td>Gm37587</td>\n",
       "    </tr>\n",
       "    <tr>\n",
       "      <th>MRPL15</th>\n",
       "      <td>ENSMUSG00000033845</td>\n",
       "      <td>Gene Expression</td>\n",
       "      <td>mm10</td>\n",
       "      <td>17616</td>\n",
       "      <td>Mrpl15</td>\n",
       "    </tr>\n",
       "    <tr>\n",
       "      <th>...</th>\n",
       "      <td>...</td>\n",
       "      <td>...</td>\n",
       "      <td>...</td>\n",
       "      <td>...</td>\n",
       "      <td>...</td>\n",
       "    </tr>\n",
       "    <tr>\n",
       "      <th>VAMP7</th>\n",
       "      <td>ENSMUSG00000051412</td>\n",
       "      <td>Gene Expression</td>\n",
       "      <td>mm10</td>\n",
       "      <td>12933</td>\n",
       "      <td>ENSMUSG00000051412</td>\n",
       "    </tr>\n",
       "    <tr>\n",
       "      <th>TMLHE</th>\n",
       "      <td>ENSMUSG00000079834</td>\n",
       "      <td>Gene Expression</td>\n",
       "      <td>mm10</td>\n",
       "      <td>1345</td>\n",
       "      <td>ENSMUSG00000079834</td>\n",
       "    </tr>\n",
       "    <tr>\n",
       "      <th>CR974586.4</th>\n",
       "      <td>ENSMUSG00000096506</td>\n",
       "      <td>Gene Expression</td>\n",
       "      <td>mm10</td>\n",
       "      <td>64</td>\n",
       "      <td>ENSMUSG00000096506</td>\n",
       "    </tr>\n",
       "    <tr>\n",
       "      <th>CAAA01147332.1</th>\n",
       "      <td>ENSMUSG00000095742</td>\n",
       "      <td>Gene Expression</td>\n",
       "      <td>mm10</td>\n",
       "      <td>1722</td>\n",
       "      <td>ENSMUSG00000095742</td>\n",
       "    </tr>\n",
       "    <tr>\n",
       "      <th>AC149090.1</th>\n",
       "      <td>ENSMUSG00000095041</td>\n",
       "      <td>Gene Expression</td>\n",
       "      <td>mm10</td>\n",
       "      <td>19419</td>\n",
       "      <td>ENSMUSG00000095041</td>\n",
       "    </tr>\n",
       "  </tbody>\n",
       "</table>\n",
       "<p>18416 rows × 5 columns</p>\n",
       "</div>"
      ],
      "text/plain": [
       "                          gene_ids    feature_types genome  n_cells   \n",
       "XKR4            ENSMUSG00000051951  Gene Expression   mm10      227  \\\n",
       "GM19938         ENSMUSG00000102331  Gene Expression   mm10      290   \n",
       "SOX17           ENSMUSG00000025902  Gene Expression   mm10     4129   \n",
       "GM37587         ENSMUSG00000104238  Gene Expression   mm10       96   \n",
       "MRPL15          ENSMUSG00000033845  Gene Expression   mm10    17616   \n",
       "...                            ...              ...    ...      ...   \n",
       "VAMP7           ENSMUSG00000051412  Gene Expression   mm10    12933   \n",
       "TMLHE           ENSMUSG00000079834  Gene Expression   mm10     1345   \n",
       "CR974586.4      ENSMUSG00000096506  Gene Expression   mm10       64   \n",
       "CAAA01147332.1  ENSMUSG00000095742  Gene Expression   mm10     1722   \n",
       "AC149090.1      ENSMUSG00000095041  Gene Expression   mm10    19419   \n",
       "\n",
       "                       gene_symbol  \n",
       "XKR4                          Xkr4  \n",
       "GM19938                    Gm19938  \n",
       "SOX17                        Sox17  \n",
       "GM37587                    Gm37587  \n",
       "MRPL15                      Mrpl15  \n",
       "...                            ...  \n",
       "VAMP7           ENSMUSG00000051412  \n",
       "TMLHE           ENSMUSG00000079834  \n",
       "CR974586.4      ENSMUSG00000096506  \n",
       "CAAA01147332.1  ENSMUSG00000095742  \n",
       "AC149090.1      ENSMUSG00000095041  \n",
       "\n",
       "[18416 rows x 5 columns]"
      ]
     },
     "execution_count": 20,
     "metadata": {},
     "output_type": "execute_result"
    }
   ],
   "source": [
    "adata.var"
   ]
  },
  {
   "cell_type": "code",
   "execution_count": null,
   "id": "a2407dc7-ee3b-4083-b906-89206aa21a9a",
   "metadata": {},
   "outputs": [],
   "source": []
  },
  {
   "cell_type": "code",
   "execution_count": 21,
   "id": "929718ca-ff3c-4a69-a71d-3027fd26df96",
   "metadata": {},
   "outputs": [],
   "source": [
    "adata.var = adata.var.set_index('gene_symbol')"
   ]
  },
  {
   "cell_type": "code",
   "execution_count": 22,
   "id": "6574f65f-2a7f-40fe-a0dc-12e2cb5cf2e2",
   "metadata": {},
   "outputs": [],
   "source": [
    "adata.var_names_make_unique()"
   ]
  },
  {
   "cell_type": "code",
   "execution_count": null,
   "id": "f83e24d4-be39-47e2-b6ce-fd53675a21af",
   "metadata": {},
   "outputs": [],
   "source": []
  },
  {
   "cell_type": "code",
   "execution_count": 23,
   "id": "a765cfe9-98a9-4f21-ae2f-fe833ec2e416",
   "metadata": {},
   "outputs": [
    {
     "data": {
      "text/plain": [
       "AnnData object with n_obs × n_vars = 84612 × 18416\n",
       "    obs: 'sid', 'n_genes', 'condition', 'batch', 'sample', 'celltype_major', 'celltype_minor', 'celltype_subset'\n",
       "    var: 'gene_ids', 'feature_types', 'genome', 'n_cells'\n",
       "    uns: 'CCI', 'CCI_sample', 'Celltype_marker_DB', 'DEG', 'DEG_stat', 'GSA_down', 'GSA_up'\n",
       "    obsm: 'HiCAT_result'"
      ]
     },
     "execution_count": 23,
     "metadata": {},
     "output_type": "execute_result"
    }
   ],
   "source": [
    "adata"
   ]
  },
  {
   "cell_type": "code",
   "execution_count": null,
   "id": "4727336c-c249-40af-b4e1-c421b2a27ba8",
   "metadata": {},
   "outputs": [],
   "source": []
  },
  {
   "cell_type": "code",
   "execution_count": 24,
   "id": "ca79ae48-618f-4866-a898-1406c050e519",
   "metadata": {},
   "outputs": [
    {
     "name": "stdout",
     "output_type": "stream",
     "text": [
      "✅ wrote new records from public sources.yaml to /home/vale/.lamin/bionty/versions/sources_local.yaml!\n",
      "\n",
      "if you see this message repeatedly, run: bt.reset_sources()\n",
      "💡 loaded instance: vals/scrna\n",
      "\u001b[0m"
     ]
    }
   ],
   "source": [
    "!lamin load vals/scrna"
   ]
  },
  {
   "cell_type": "code",
   "execution_count": null,
   "id": "faa577d5-4b16-482f-a919-471f23b03f65",
   "metadata": {},
   "outputs": [],
   "source": []
  },
  {
   "cell_type": "code",
   "execution_count": 25,
   "id": "46c31596-e3be-4e16-9dcf-8359d2856ac2",
   "metadata": {},
   "outputs": [
    {
     "name": "stdout",
     "output_type": "stream",
     "text": [
      "✅ wrote new records from public sources.yaml to /home/vale/.lamin/bionty/versions/sources_local.yaml!\n",
      "\n",
      "if you see this message repeatedly, run: bt.reset_sources()\n",
      "💡 lamindb instance: vals/scrna\n"
     ]
    }
   ],
   "source": [
    "import lamindb as ln\n",
    "import lnschema_bionty as lb\n",
    "import pandas as pd\n",
    "\n",
    "ln.settings.verbosity = \"hint\""
   ]
  },
  {
   "cell_type": "code",
   "execution_count": null,
   "id": "7ab69007-9a11-49f5-8e2a-5ff8640b6654",
   "metadata": {},
   "outputs": [],
   "source": []
  },
  {
   "cell_type": "code",
   "execution_count": 26,
   "id": "6e662ce0-88f4-4c81-9805-090231df083b",
   "metadata": {},
   "outputs": [
    {
     "name": "stdout",
     "output_type": "stream",
     "text": [
      "'240210 ingest data.ipynb'*      mmColon_single_cell_85K.mouse.h5ad*\n",
      " mmColon_single_cell_85K.h5ad*\n"
     ]
    }
   ],
   "source": [
    "ls"
   ]
  },
  {
   "cell_type": "code",
   "execution_count": 27,
   "id": "591bb05e-c60b-426f-8b30-82d26aaa4e04",
   "metadata": {},
   "outputs": [],
   "source": [
    "adata.write('mmColon_single_cell_85K.mouse.h5ad')"
   ]
  },
  {
   "cell_type": "code",
   "execution_count": null,
   "id": "716b3c40-53dc-4b0c-bf68-81a1ff2819df",
   "metadata": {},
   "outputs": [],
   "source": []
  },
  {
   "cell_type": "markdown",
   "id": "404cca20-8492-4e8c-b1b7-15efb1950b99",
   "metadata": {},
   "source": [
    "# Ingest into Lamin"
   ]
  },
  {
   "cell_type": "code",
   "execution_count": 29,
   "id": "83e4416c-762d-421a-b815-c38f60fd7ee4",
   "metadata": {},
   "outputs": [],
   "source": [
    "import bionty as bt\n"
   ]
  },
  {
   "cell_type": "code",
   "execution_count": 28,
   "id": "40662231-98cb-4399-8300-d03ca88c87bb",
   "metadata": {},
   "outputs": [
    {
     "name": "stdout",
     "output_type": "stream",
     "text": [
      "💡 notebook imports: anndata==0.9.1 bionty==0.40.3 lamindb==0.67.3 lnschema_bionty==0.40.2 mygene==3.2.2 pandas==2.0.1 pyensembl==2.3.9\n",
      "💡 loaded: Transform(uid='PBAb0NkPEmLe5zKv', name='Ingest into Lamin', short_name='240210 ingest data', version='1', type='notebook', updated_at=2024-02-11 01:42:41 UTC, created_by_id=1)\n",
      "💡 loaded: Run(uid='KZkeImCbTr4cdraU3THw', run_at=2024-02-11 02:26:43 UTC, transform_id=2, created_by_id=1)\n",
      "💡 tracked pip freeze > /home/vale/.cache/lamindb/run_env_pip_KZkeImCbTr4cdraU3THw.txt\n"
     ]
    }
   ],
   "source": [
    "ln.track()"
   ]
  },
  {
   "cell_type": "code",
   "execution_count": 33,
   "id": "0d1b5c3f-4a6f-47c9-87f1-916123e663ef",
   "metadata": {},
   "outputs": [],
   "source": [
    "bt.settings.organism = \"mouse\""
   ]
  },
  {
   "cell_type": "code",
   "execution_count": 46,
   "id": "a4542b18-18ab-4bad-9b12-880e6cc8a677",
   "metadata": {},
   "outputs": [
    {
     "ename": "ZeroDivisionError",
     "evalue": "division by zero",
     "output_type": "error",
     "traceback": [
      "\u001b[0;31m---------------------------------------------------------------------------\u001b[0m",
      "\u001b[0;31mZeroDivisionError\u001b[0m                         Traceback (most recent call last)",
      "Cell \u001b[0;32mIn[46], line 1\u001b[0m\n\u001b[0;32m----> 1\u001b[0m \u001b[43mbt\u001b[49m\u001b[38;5;241;43m.\u001b[39;49m\u001b[43msettings\u001b[49m\u001b[38;5;241;43m.\u001b[39;49m\u001b[43morganism\u001b[49m \u001b[38;5;241m=\u001b[39m \u001b[38;5;28;01mNone\u001b[39;00m\n",
      "File \u001b[0;32m~/mambaforge/lib/python3.10/site-packages/lnschema_bionty/dev/_settings.py:51\u001b[0m, in \u001b[0;36mSettings.organism\u001b[0;34m(self, name)\u001b[0m\n\u001b[1;32m     49\u001b[0m verbosity \u001b[38;5;241m=\u001b[39m ln\u001b[38;5;241m.\u001b[39msettings\u001b[38;5;241m.\u001b[39mverbosity\n\u001b[1;32m     50\u001b[0m ln\u001b[38;5;241m.\u001b[39msettings\u001b[38;5;241m.\u001b[39mverbosity \u001b[38;5;241m=\u001b[39m \u001b[38;5;241m1\u001b[39m\n\u001b[0;32m---> 51\u001b[0m organism \u001b[38;5;241m=\u001b[39m \u001b[43mOrganism\u001b[49m\u001b[38;5;241;43m.\u001b[39;49m\u001b[43mfrom_public\u001b[49m\u001b[43m(\u001b[49m\u001b[43mname\u001b[49m\u001b[38;5;241;43m=\u001b[39;49m\u001b[43mname\u001b[49m\u001b[43m)\u001b[49m\n\u001b[1;32m     52\u001b[0m ln\u001b[38;5;241m.\u001b[39msettings\u001b[38;5;241m.\u001b[39mverbosity \u001b[38;5;241m=\u001b[39m verbosity\n\u001b[1;32m     53\u001b[0m \u001b[38;5;28;01mif\u001b[39;00m organism \u001b[38;5;129;01mis\u001b[39;00m \u001b[38;5;28;01mNone\u001b[39;00m:\n",
      "File \u001b[0;32m~/mambaforge/lib/python3.10/site-packages/lnschema_bionty/models.py:163\u001b[0m, in \u001b[0;36mBioRegistry.from_public\u001b[0;34m(cls, **kwargs)\u001b[0m\n\u001b[1;32m    161\u001b[0m k \u001b[38;5;241m=\u001b[39m \u001b[38;5;28mnext\u001b[39m(\u001b[38;5;28miter\u001b[39m(kv))\n\u001b[1;32m    162\u001b[0m v \u001b[38;5;241m=\u001b[39m kwargs\u001b[38;5;241m.\u001b[39mpop(k)\n\u001b[0;32m--> 163\u001b[0m results \u001b[38;5;241m=\u001b[39m \u001b[38;5;28;43mcls\u001b[39;49m\u001b[38;5;241;43m.\u001b[39;49m\u001b[43mfrom_values\u001b[49m\u001b[43m(\u001b[49m\u001b[43m[\u001b[49m\u001b[43mv\u001b[49m\u001b[43m]\u001b[49m\u001b[43m,\u001b[49m\u001b[43m \u001b[49m\u001b[43mfield\u001b[49m\u001b[38;5;241;43m=\u001b[39;49m\u001b[38;5;28;43mgetattr\u001b[39;49m\u001b[43m(\u001b[49m\u001b[38;5;28;43mcls\u001b[39;49m\u001b[43m,\u001b[49m\u001b[43m \u001b[49m\u001b[43mk\u001b[49m\u001b[43m)\u001b[49m\u001b[43m,\u001b[49m\u001b[43m \u001b[49m\u001b[38;5;241;43m*\u001b[39;49m\u001b[38;5;241;43m*\u001b[39;49m\u001b[43mkwargs\u001b[49m\u001b[43m)\u001b[49m\n\u001b[1;32m    164\u001b[0m \u001b[38;5;28;01mif\u001b[39;00m \u001b[38;5;28mlen\u001b[39m(results) \u001b[38;5;241m==\u001b[39m \u001b[38;5;241m1\u001b[39m:\n\u001b[1;32m    165\u001b[0m     \u001b[38;5;28;01mreturn\u001b[39;00m results[\u001b[38;5;241m0\u001b[39m]\n",
      "File \u001b[0;32m~/mambaforge/lib/python3.10/site-packages/lamindb/_registry.py:136\u001b[0m, in \u001b[0;36mfrom_values\u001b[0;34m(cls, values, field, **kwargs)\u001b[0m\n\u001b[1;32m    134\u001b[0m from_public \u001b[38;5;241m=\u001b[39m \u001b[38;5;28;01mTrue\u001b[39;00m \u001b[38;5;28;01mif\u001b[39;00m \u001b[38;5;28mcls\u001b[39m\u001b[38;5;241m.\u001b[39m\u001b[38;5;18m__module__\u001b[39m\u001b[38;5;241m.\u001b[39mstartswith(\u001b[38;5;124m\"\u001b[39m\u001b[38;5;124mlnschema_bionty.\u001b[39m\u001b[38;5;124m\"\u001b[39m) \u001b[38;5;28;01melse\u001b[39;00m \u001b[38;5;28;01mFalse\u001b[39;00m\n\u001b[1;32m    135\u001b[0m field_str \u001b[38;5;241m=\u001b[39m get_default_str_field(\u001b[38;5;28mcls\u001b[39m, field\u001b[38;5;241m=\u001b[39mfield)\n\u001b[0;32m--> 136\u001b[0m \u001b[38;5;28;01mreturn\u001b[39;00m \u001b[43mget_or_create_records\u001b[49m\u001b[43m(\u001b[49m\n\u001b[1;32m    137\u001b[0m \u001b[43m    \u001b[49m\u001b[43miterable\u001b[49m\u001b[38;5;241;43m=\u001b[39;49m\u001b[43mvalues\u001b[49m\u001b[43m,\u001b[49m\n\u001b[1;32m    138\u001b[0m \u001b[43m    \u001b[49m\u001b[43mfield\u001b[49m\u001b[38;5;241;43m=\u001b[39;49m\u001b[38;5;28;43mgetattr\u001b[39;49m\u001b[43m(\u001b[49m\u001b[38;5;28;43mcls\u001b[39;49m\u001b[43m,\u001b[49m\u001b[43m \u001b[49m\u001b[43mfield_str\u001b[49m\u001b[43m)\u001b[49m\u001b[43m,\u001b[49m\n\u001b[1;32m    139\u001b[0m \u001b[43m    \u001b[49m\u001b[43mfrom_public\u001b[49m\u001b[38;5;241;43m=\u001b[39;49m\u001b[43mfrom_public\u001b[49m\u001b[43m,\u001b[49m\n\u001b[1;32m    140\u001b[0m \u001b[43m    \u001b[49m\u001b[38;5;241;43m*\u001b[39;49m\u001b[38;5;241;43m*\u001b[39;49m\u001b[43mkwargs\u001b[49m\u001b[43m,\u001b[49m\n\u001b[1;32m    141\u001b[0m \u001b[43m\u001b[49m\u001b[43m)\u001b[49m\n",
      "File \u001b[0;32m~/mambaforge/lib/python3.10/site-packages/lamindb/_from_values.py:29\u001b[0m, in \u001b[0;36mget_or_create_records\u001b[0;34m(iterable, field, from_public, **kwargs)\u001b[0m\n\u001b[1;32m     26\u001b[0m iterable_idx \u001b[38;5;241m=\u001b[39m index_iterable(iterable)\n\u001b[1;32m     28\u001b[0m \u001b[38;5;66;03m# returns existing records & non-existing values\u001b[39;00m\n\u001b[0;32m---> 29\u001b[0m records, nonexist_values, msg \u001b[38;5;241m=\u001b[39m \u001b[43mget_existing_records\u001b[49m\u001b[43m(\u001b[49m\n\u001b[1;32m     30\u001b[0m \u001b[43m    \u001b[49m\u001b[43miterable_idx\u001b[49m\u001b[38;5;241;43m=\u001b[39;49m\u001b[43miterable_idx\u001b[49m\u001b[43m,\u001b[49m\u001b[43m \u001b[49m\u001b[43mfield\u001b[49m\u001b[38;5;241;43m=\u001b[39;49m\u001b[43mfield\u001b[49m\u001b[43m,\u001b[49m\u001b[43m \u001b[49m\u001b[43mkwargs\u001b[49m\u001b[38;5;241;43m=\u001b[39;49m\u001b[43mkwargs\u001b[49m\n\u001b[1;32m     31\u001b[0m \u001b[43m\u001b[49m\u001b[43m)\u001b[49m\n\u001b[1;32m     33\u001b[0m \u001b[38;5;66;03m# new records to be created based on new values\u001b[39;00m\n\u001b[1;32m     34\u001b[0m \u001b[38;5;28;01mif\u001b[39;00m \u001b[38;5;28mlen\u001b[39m(nonexist_values) \u001b[38;5;241m>\u001b[39m \u001b[38;5;241m0\u001b[39m:\n",
      "File \u001b[0;32m~/mambaforge/lib/python3.10/site-packages/lamindb/_from_values.py:99\u001b[0m, in \u001b[0;36mget_existing_records\u001b[0;34m(iterable_idx, field, kwargs)\u001b[0m\n\u001b[1;32m     95\u001b[0m         condition\u001b[38;5;241m.\u001b[39mupdate({\u001b[38;5;124m\"\u001b[39m\u001b[38;5;124morganism\u001b[39m\u001b[38;5;124m\"\u001b[39m: organism_record})\n\u001b[1;32m     97\u001b[0m \u001b[38;5;66;03m# standardize based on the DB reference\u001b[39;00m\n\u001b[1;32m     98\u001b[0m \u001b[38;5;66;03m# log synonyms mapped terms\u001b[39;00m\n\u001b[0;32m---> 99\u001b[0m result \u001b[38;5;241m=\u001b[39m \u001b[43mmodel\u001b[49m\u001b[38;5;241;43m.\u001b[39;49m\u001b[43minspect\u001b[49m\u001b[43m(\u001b[49m\n\u001b[1;32m    100\u001b[0m \u001b[43m    \u001b[49m\u001b[43miterable_idx\u001b[49m\u001b[43m,\u001b[49m\u001b[43m \u001b[49m\u001b[43mfield\u001b[49m\u001b[38;5;241;43m=\u001b[39;49m\u001b[43mfield\u001b[49m\u001b[43m,\u001b[49m\u001b[43m \u001b[49m\u001b[43morganism\u001b[49m\u001b[38;5;241;43m=\u001b[39;49m\u001b[43mkwargs\u001b[49m\u001b[38;5;241;43m.\u001b[39;49m\u001b[43mget\u001b[49m\u001b[43m(\u001b[49m\u001b[38;5;124;43m\"\u001b[39;49m\u001b[38;5;124;43morganism\u001b[39;49m\u001b[38;5;124;43m\"\u001b[39;49m\u001b[43m)\u001b[49m\u001b[43m,\u001b[49m\u001b[43m \u001b[49m\u001b[43mmute\u001b[49m\u001b[38;5;241;43m=\u001b[39;49m\u001b[38;5;28;43;01mTrue\u001b[39;49;00m\n\u001b[1;32m    101\u001b[0m \u001b[43m\u001b[49m\u001b[43m)\u001b[49m\n\u001b[1;32m    102\u001b[0m syn_mapper \u001b[38;5;241m=\u001b[39m result\u001b[38;5;241m.\u001b[39msynonyms_mapper\n\u001b[1;32m    104\u001b[0m syn_msg \u001b[38;5;241m=\u001b[39m \u001b[38;5;124m\"\u001b[39m\u001b[38;5;124m\"\u001b[39m\n",
      "File \u001b[0;32m~/mambaforge/lib/python3.10/site-packages/lamindb/_validate.py:31\u001b[0m, in \u001b[0;36minspect\u001b[0;34m(cls, values, field, mute, **kwargs)\u001b[0m\n\u001b[1;32m     20\u001b[0m \u001b[38;5;129m@classmethod\u001b[39m  \u001b[38;5;66;03m# type: ignore\u001b[39;00m\n\u001b[1;32m     21\u001b[0m \u001b[38;5;129m@doc_args\u001b[39m(CanValidate\u001b[38;5;241m.\u001b[39minspect\u001b[38;5;241m.\u001b[39m\u001b[38;5;18m__doc__\u001b[39m)\n\u001b[1;32m     22\u001b[0m \u001b[38;5;28;01mdef\u001b[39;00m \u001b[38;5;21minspect\u001b[39m(\n\u001b[0;32m   (...)\u001b[0m\n\u001b[1;32m     28\u001b[0m     \u001b[38;5;241m*\u001b[39m\u001b[38;5;241m*\u001b[39mkwargs,\n\u001b[1;32m     29\u001b[0m ) \u001b[38;5;241m-\u001b[39m\u001b[38;5;241m>\u001b[39m InspectResult:\n\u001b[1;32m     30\u001b[0m \u001b[38;5;250m    \u001b[39m\u001b[38;5;124;03m\"\"\"{}.\"\"\"\u001b[39;00m\n\u001b[0;32m---> 31\u001b[0m     \u001b[38;5;28;01mreturn\u001b[39;00m \u001b[43m_inspect\u001b[49m\u001b[43m(\u001b[49m\n\u001b[1;32m     32\u001b[0m \u001b[43m        \u001b[49m\u001b[38;5;28;43mcls\u001b[39;49m\u001b[38;5;241;43m=\u001b[39;49m\u001b[38;5;28;43mcls\u001b[39;49m\u001b[43m,\u001b[49m\n\u001b[1;32m     33\u001b[0m \u001b[43m        \u001b[49m\u001b[43mvalues\u001b[49m\u001b[38;5;241;43m=\u001b[39;49m\u001b[43mvalues\u001b[49m\u001b[43m,\u001b[49m\n\u001b[1;32m     34\u001b[0m \u001b[43m        \u001b[49m\u001b[43mfield\u001b[49m\u001b[38;5;241;43m=\u001b[39;49m\u001b[43mfield\u001b[49m\u001b[43m,\u001b[49m\n\u001b[1;32m     35\u001b[0m \u001b[43m        \u001b[49m\u001b[43mmute\u001b[49m\u001b[38;5;241;43m=\u001b[39;49m\u001b[43mmute\u001b[49m\u001b[43m,\u001b[49m\n\u001b[1;32m     36\u001b[0m \u001b[43m        \u001b[49m\u001b[38;5;241;43m*\u001b[39;49m\u001b[38;5;241;43m*\u001b[39;49m\u001b[43mkwargs\u001b[49m\u001b[43m,\u001b[49m\n\u001b[1;32m     37\u001b[0m \u001b[43m    \u001b[49m\u001b[43m)\u001b[49m\n",
      "File \u001b[0;32m~/mambaforge/lib/python3.10/site-packages/lamindb/_validate.py:74\u001b[0m, in \u001b[0;36m_inspect\u001b[0;34m(cls, values, field, mute, **kwargs)\u001b[0m\n\u001b[1;32m     71\u001b[0m model_name \u001b[38;5;241m=\u001b[39m orm\u001b[38;5;241m.\u001b[39m_meta\u001b[38;5;241m.\u001b[39mmodel\u001b[38;5;241m.\u001b[39m\u001b[38;5;18m__name__\u001b[39m\n\u001b[1;32m     73\u001b[0m \u001b[38;5;66;03m# inspect in the DB\u001b[39;00m\n\u001b[0;32m---> 74\u001b[0m result_db \u001b[38;5;241m=\u001b[39m \u001b[43minspect\u001b[49m\u001b[43m(\u001b[49m\n\u001b[1;32m     75\u001b[0m \u001b[43m    \u001b[49m\u001b[43mdf\u001b[49m\u001b[38;5;241;43m=\u001b[39;49m\u001b[43m_filter_query_based_on_organism\u001b[49m\u001b[43m(\u001b[49m\n\u001b[1;32m     76\u001b[0m \u001b[43m        \u001b[49m\u001b[43mqueryset\u001b[49m\u001b[38;5;241;43m=\u001b[39;49m\u001b[43mqueryset\u001b[49m\u001b[43m,\u001b[49m\u001b[43m \u001b[49m\u001b[43morganism\u001b[49m\u001b[38;5;241;43m=\u001b[39;49m\u001b[43mkwargs\u001b[49m\u001b[38;5;241;43m.\u001b[39;49m\u001b[43mget\u001b[49m\u001b[43m(\u001b[49m\u001b[38;5;124;43m\"\u001b[39;49m\u001b[38;5;124;43morganism\u001b[39;49m\u001b[38;5;124;43m\"\u001b[39;49m\u001b[43m)\u001b[49m\n\u001b[1;32m     77\u001b[0m \u001b[43m    \u001b[49m\u001b[43m)\u001b[49m\u001b[43m,\u001b[49m\n\u001b[1;32m     78\u001b[0m \u001b[43m    \u001b[49m\u001b[43midentifiers\u001b[49m\u001b[38;5;241;43m=\u001b[39;49m\u001b[43mvalues\u001b[49m\u001b[43m,\u001b[49m\n\u001b[1;32m     79\u001b[0m \u001b[43m    \u001b[49m\u001b[43mfield\u001b[49m\u001b[38;5;241;43m=\u001b[39;49m\u001b[43mfield\u001b[49m\u001b[43m,\u001b[49m\n\u001b[1;32m     80\u001b[0m \u001b[43m    \u001b[49m\u001b[43mmute\u001b[49m\u001b[38;5;241;43m=\u001b[39;49m\u001b[43mmute\u001b[49m\u001b[43m,\u001b[49m\n\u001b[1;32m     81\u001b[0m \u001b[43m    \u001b[49m\u001b[38;5;241;43m*\u001b[39;49m\u001b[38;5;241;43m*\u001b[39;49m\u001b[43mkwargs\u001b[49m\u001b[43m,\u001b[49m\n\u001b[1;32m     82\u001b[0m \u001b[43m\u001b[49m\u001b[43m)\u001b[49m\n\u001b[1;32m     83\u001b[0m nonval \u001b[38;5;241m=\u001b[39m \u001b[38;5;28mset\u001b[39m(result_db\u001b[38;5;241m.\u001b[39mnon_validated)\u001b[38;5;241m.\u001b[39mdifference(result_db\u001b[38;5;241m.\u001b[39msynonyms_mapper\u001b[38;5;241m.\u001b[39mkeys())\n\u001b[1;32m     85\u001b[0m \u001b[38;5;28;01mif\u001b[39;00m \u001b[38;5;28mlen\u001b[39m(nonval) \u001b[38;5;241m>\u001b[39m \u001b[38;5;241m0\u001b[39m \u001b[38;5;129;01mand\u001b[39;00m orm\u001b[38;5;241m.\u001b[39m__get_schema_name__() \u001b[38;5;241m==\u001b[39m \u001b[38;5;124m\"\u001b[39m\u001b[38;5;124mbionty\u001b[39m\u001b[38;5;124m\"\u001b[39m:\n",
      "File \u001b[0;32m~/mambaforge/lib/python3.10/site-packages/lamin_utils/_inspect.py:140\u001b[0m, in \u001b[0;36minspect\u001b[0;34m(df, identifiers, field, mute, **kwargs)\u001b[0m\n\u001b[1;32m    138\u001b[0m \u001b[38;5;66;03m# empty DataFrame or input\u001b[39;00m\n\u001b[1;32m    139\u001b[0m \u001b[38;5;28;01mif\u001b[39;00m df\u001b[38;5;241m.\u001b[39mshape[\u001b[38;5;241m0\u001b[39m] \u001b[38;5;241m==\u001b[39m \u001b[38;5;241m0\u001b[39m \u001b[38;5;129;01mor\u001b[39;00m \u001b[38;5;28mlen\u001b[39m(uniq_identifiers) \u001b[38;5;241m==\u001b[39m \u001b[38;5;241m0\u001b[39m:\n\u001b[0;32m--> 140\u001b[0m     result \u001b[38;5;241m=\u001b[39m \u001b[43m_validate_stats\u001b[49m\u001b[43m(\u001b[49m\n\u001b[1;32m    141\u001b[0m \u001b[43m        \u001b[49m\u001b[43midentifiers\u001b[49m\u001b[38;5;241;43m=\u001b[39;49m\u001b[43midentifiers\u001b[49m\u001b[43m,\u001b[49m\u001b[43m \u001b[49m\u001b[43mmatches\u001b[49m\u001b[38;5;241;43m=\u001b[39;49m\u001b[43m[\u001b[49m\u001b[38;5;28;43;01mFalse\u001b[39;49;00m\u001b[43m]\u001b[49m\u001b[43m \u001b[49m\u001b[38;5;241;43m*\u001b[39;49m\u001b[43m \u001b[49m\u001b[38;5;28;43mlen\u001b[39;49m\u001b[43m(\u001b[49m\u001b[43midentifiers\u001b[49m\u001b[43m)\u001b[49m\u001b[43m  \u001b[49m\u001b[38;5;66;43;03m# type:ignore\u001b[39;49;00m\n\u001b[1;32m    142\u001b[0m \u001b[43m    \u001b[49m\u001b[43m)\u001b[49m\n\u001b[1;32m    143\u001b[0m     \u001b[38;5;28;01mif\u001b[39;00m \u001b[38;5;129;01mnot\u001b[39;00m mute:\n\u001b[1;32m    144\u001b[0m         _validate_logging(result\u001b[38;5;241m=\u001b[39mresult, field\u001b[38;5;241m=\u001b[39mfield)\n",
      "File \u001b[0;32m~/mambaforge/lib/python3.10/site-packages/lamin_utils/_inspect.py:58\u001b[0m, in \u001b[0;36m_validate_stats\u001b[0;34m(identifiers, matches)\u001b[0m\n\u001b[1;32m     56\u001b[0m n_unique \u001b[38;5;241m=\u001b[39m \u001b[38;5;28mlen\u001b[39m(val) \u001b[38;5;241m+\u001b[39m \u001b[38;5;28mlen\u001b[39m(nonval)\n\u001b[1;32m     57\u001b[0m n_empty \u001b[38;5;241m=\u001b[39m df_val\u001b[38;5;241m.\u001b[39mshape[\u001b[38;5;241m0\u001b[39m] \u001b[38;5;241m-\u001b[39m n_unique\n\u001b[0;32m---> 58\u001b[0m frac_nonval \u001b[38;5;241m=\u001b[39m \u001b[38;5;28mround\u001b[39m(\u001b[38;5;28;43mlen\u001b[39;49m\u001b[43m(\u001b[49m\u001b[43mnonval\u001b[49m\u001b[43m)\u001b[49m\u001b[43m \u001b[49m\u001b[38;5;241;43m/\u001b[39;49m\u001b[43m \u001b[49m\u001b[43mn_unique\u001b[49m \u001b[38;5;241m*\u001b[39m \u001b[38;5;241m100\u001b[39m, \u001b[38;5;241m1\u001b[39m)\n\u001b[1;32m     59\u001b[0m frac_val \u001b[38;5;241m=\u001b[39m \u001b[38;5;241m100\u001b[39m \u001b[38;5;241m-\u001b[39m frac_nonval\n\u001b[1;32m     61\u001b[0m \u001b[38;5;28;01mreturn\u001b[39;00m InspectResult(\n\u001b[1;32m     62\u001b[0m     validated_df\u001b[38;5;241m=\u001b[39mdf_val,\n\u001b[1;32m     63\u001b[0m     validated\u001b[38;5;241m=\u001b[39mval,\n\u001b[0;32m   (...)\u001b[0m\n\u001b[1;32m     67\u001b[0m     n_unique\u001b[38;5;241m=\u001b[39mn_unique,\n\u001b[1;32m     68\u001b[0m )\n",
      "\u001b[0;31mZeroDivisionError\u001b[0m: division by zero"
     ]
    }
   ],
   "source": [
    "bt.settings.organism = None"
   ]
  },
  {
   "cell_type": "code",
   "execution_count": null,
   "id": "74959e2c-d20d-4833-a213-ac0d67f377df",
   "metadata": {},
   "outputs": [],
   "source": []
  },
  {
   "cell_type": "code",
   "execution_count": 34,
   "id": "c0303027-409c-42b4-a194-19303bcf69b8",
   "metadata": {},
   "outputs": [
    {
     "name": "stdout",
     "output_type": "stream",
     "text": [
      "💡    path content will be copied to default storage upon `save()` with key `None` ('.lamindb/Ozi5e56JPczsASuiogM1.h5ad')\n",
      "💡    parsing feature names of X stored in slot 'var'\n",
      "❗    \u001b[1;93m18416 terms\u001b[0m (100.00%) are not validated for \u001b[3msymbol\u001b[0m: \u001b[1;93mXkr4, Gm19938, Sox17, Gm37587, Mrpl15, Lypla1, Tcea1, Rgs20, Atp6v1h, Rb1cc1, 4732440D04Rik, Alkal1, St18, Pcmtd1, Gm26901, Gm30414, Sntg1, Rrs1, Adhfe1, 2610203C22Rik, ...\u001b[0m\n",
      "❗    no validated features, skip creating feature set\n",
      "💡 parsing feature names of slot 'obs'\n",
      "❗    \u001b[1;93m8 terms\u001b[0m (100.00%) are not validated for \u001b[3mname\u001b[0m: \u001b[1;93msid, n_genes, condition, batch, sample, celltype_major, celltype_minor, celltype_subset\u001b[0m\n",
      "❗    no validated features, skip creating feature set\n"
     ]
    }
   ],
   "source": [
    "artifact = ln.Artifact.from_anndata(\n",
    "    adata,\n",
    "    field = bt.Gene.symbol,\n",
    "    description = 'mmColon_single_cell_85K.mouse.h5ad'\n",
    ")"
   ]
  },
  {
   "cell_type": "code",
   "execution_count": null,
   "id": "ee0ac403-385b-4e54-8acf-23847542bcc9",
   "metadata": {},
   "outputs": [],
   "source": []
  },
  {
   "cell_type": "code",
   "execution_count": 67,
   "id": "ae8affaa-f450-4988-854d-6ce773ae2e01",
   "metadata": {},
   "outputs": [
    {
     "name": "stdout",
     "output_type": "stream",
     "text": [
      "❗ \u001b[1;93m18416 terms\u001b[0m (100.00%) are not validated for \u001b[3msymbol\u001b[0m: \u001b[1;93mXkr4, Gm19938, Sox17, Gm37587, Mrpl15, Lypla1, Tcea1, Rgs20, Atp6v1h, Rb1cc1, 4732440D04Rik, Alkal1, St18, Pcmtd1, Gm26901, Gm30414, Sntg1, Rrs1, Adhfe1, 2610203C22Rik, ...\u001b[0m\n",
      "   detected \u001b[1;93m18137 Gene terms\u001b[0m in Bionty for \u001b[3msymbol\u001b[0m: \u001b[1;93m'Tnfsf11', 'Zfp108', 'Pcolce', 'A730035I17Rik', 'Fam118b', 'P3h1', 'C78859', 'Dpep2', 'Ptcd1', 'Ltc4s', 'Gm44851', 'Rdh9', 'Zdhhc8', 'Gm20274', 'Fes', 'Zfp276', '1700023H06Rik', 'Trav14-2', 'Syngr1', 'Jchain', ...\u001b[0m\n",
      "   detected \u001b[1;93m23 Gene terms\u001b[0m in Bionty as \u001b[3msynonyms\u001b[0m: \u001b[1;93m'Ift25', 'Bmal2', 'Ark2c', 'COX1', 'Fcrl2', 'Top6bl', 'Bmal1', 'ND1', 'Zng1', 'COX3', 'Chi3l1', 'Kcne5', 'CYTB', 'Ark2n', 'Hprt1', 'Ccdc198', 'Zftraf1', 'Cripto', 'COX2', 'C730014E05Rik', ...\u001b[0m\n",
      "→  add records from Bionty to your Gene registry via \u001b[3m.from_values()\u001b[0m\n",
      "   couldn't validate \u001b[1;91m279 terms\u001b[0m: \u001b[1;91m'Ift25', 'Spata31g1', 'Atp5pf', 'Bmal2', 'Ark2c', 'ENSMUSG00000095742', 'Dnai7', 'COX1', 'Speer1a', 'Slx9', 'Eprs1', 'Atp5mf', 'Gm29593', 'Iars1', 'Ift56', 'Yju2b', 'Pycr3', 'Atp5mc2', 'Sypl1', 'Uba52rt', ...\u001b[0m\n",
      "→  if you are sure, create new records via \u001b[3mln.Gene()\u001b[0m and save to your registry\n"
     ]
    },
    {
     "data": {
      "text/plain": [
       "<lamin_utils._inspect.InspectResult at 0x7f2902d150f0>"
      ]
     },
     "execution_count": 67,
     "metadata": {},
     "output_type": "execute_result"
    }
   ],
   "source": [
    "bt.Gene.inspect(adata.var.index, field=bt.Gene.symbol)"
   ]
  },
  {
   "cell_type": "code",
   "execution_count": 70,
   "id": "3a176e22-13ae-46ea-bb60-5ce1b651568a",
   "metadata": {},
   "outputs": [
    {
     "name": "stdout",
     "output_type": "stream",
     "text": [
      "❗ ambiguous validation in Bionty for 26 records: 'Ptp4a1', 'Septin2', 'Gm16701', 'Ndor1', 'Terc', 'Rmrp', 'Pakap', 'Cdhr17', 'Fam220a', 'Gm16499', 'Tmem147os', 'Aldoa', 'Nrg1', 'Dpep2', 'Gm16364', 'Ddit3', '4933427D14Rik', 'St6galnac2', 'Scarna3b', 'Gm35558', ...\n",
      "❗ \u001b[1;91mdid not create\u001b[0m Gene records for \u001b[1;93m256 non-validated\u001b[0m \u001b[3msymbols\u001b[0m: \u001b[1;93m'1600029I14Rik', '4933427D14Rik-1', 'ATP6', 'ATP8', 'Aars1', 'Acp3', 'Actmap', 'Adissp', 'Adss1', 'Adss2', 'Afg2a', 'Airim', 'Akr1b1', 'Altre', 'Anxa2r1', 'Arb2a', 'Arfip1-1', 'Atp5f1a', 'Atp5f1b', 'Atp5f1c', ...\u001b[0m\n"
     ]
    }
   ],
   "source": [
    "gene_registry = bt.Gene.from_values(adata.var.index)"
   ]
  },
  {
   "cell_type": "code",
   "execution_count": 80,
   "id": "9cbde342-a2a5-4478-889d-d2b2f4a47a46",
   "metadata": {},
   "outputs": [],
   "source": [
    "ln.save(gene_registry)"
   ]
  },
  {
   "cell_type": "code",
   "execution_count": null,
   "id": "1af253e3-cac7-4ffa-b7bb-05493e094a62",
   "metadata": {},
   "outputs": [],
   "source": []
  },
  {
   "cell_type": "code",
   "execution_count": 81,
   "id": "a61c4427-0d05-428f-9ac1-d5714a0b4cc1",
   "metadata": {},
   "outputs": [
    {
     "name": "stdout",
     "output_type": "stream",
     "text": [
      "❗ \u001b[1;93m279 terms\u001b[0m (1.50%) are not validated for \u001b[3msymbol\u001b[0m: \u001b[1;93mPtp4a1-1, Ccdc168, Sp140l2, Sp140l1, ENSMUSG00000094127, LOC102637806, Dars1, Chi3l1, Rpl35rt, Firrm, Styxl2, Adss2, ENSMUSG00000104367, Eprs1, Msantd7, Gata3un, Atp5f1c, Cimip2a, Tmem250, Fam78a-1, ...\u001b[0m\n",
      "   detected \u001b[1;93m23 terms with inconsistent casing/synonyms\u001b[0m: \u001b[1;93mChi3l1, Kirrel1, Fcrl2, Gba1, Gm7819, Ift25, Bmal2, Bmal1, Cripto, Ccdc198, Zftraf1, C730014E05Rik, Ark2c, Ark2n, Top6bl, Zng1, Hprt1, Kcne5, ND1, COX1, ...\u001b[0m\n",
      "→  standardize terms via \u001b[3m.standardize()\u001b[0m\n",
      "   couldn't validate \u001b[1;91m256 terms\u001b[0m: \u001b[1;91m'Zrsr2-ps1', 'Pcnx1', 'ND3', 'Ldaf1', 'Styxl2', 'Ift70b', 'Clxn', 'Gm31593', 'ENSMUSG00000094856', 'Tmt1a', 'Ermardl1', 'ND2', 'Speer1g', 'ND6', 'Lars1', 'Bltp3a', 'Bltp3b', 'Cep15', 'Adss1', 'Cenatac', ...\u001b[0m\n",
      "→  if you are sure, create new records via \u001b[3mln.Gene()\u001b[0m and save to your registry\n"
     ]
    },
    {
     "data": {
      "text/plain": [
       "<lamin_utils._inspect.InspectResult at 0x7f28b8b48a00>"
      ]
     },
     "execution_count": 81,
     "metadata": {},
     "output_type": "execute_result"
    }
   ],
   "source": [
    "bt.Gene.inspect(adata.var.index, field=bt.Gene.symbol)"
   ]
  },
  {
   "cell_type": "code",
   "execution_count": null,
   "id": "5a7d1ce8-8ea6-4396-9865-b620e33b9ade",
   "metadata": {},
   "outputs": [],
   "source": []
  },
  {
   "cell_type": "code",
   "execution_count": null,
   "id": "7a23d84b-0b2d-4124-ac8b-c2f4b7a0becf",
   "metadata": {},
   "outputs": [],
   "source": []
  },
  {
   "cell_type": "code",
   "execution_count": 37,
   "id": "3287c242-3bcf-4803-866f-3d32cde8a928",
   "metadata": {},
   "outputs": [
    {
     "name": "stdout",
     "output_type": "stream",
     "text": [
      "✅ storing artifact 'Ozi5e56JPczsASuiogM1' at 's3://vals-scrna/.lamindb/Ozi5e56JPczsASuiogM1.h5ad'\n",
      "... uploading Ozi5e56JPczsASuiogM1.h5ad: 100.0%\n",
      "\r"
     ]
    }
   ],
   "source": [
    "artifact.save()"
   ]
  },
  {
   "cell_type": "code",
   "execution_count": 39,
   "id": "f876b2d7-e6f9-495d-9545-6a9a204f40f6",
   "metadata": {},
   "outputs": [],
   "source": [
    "collection = ln.Collection(\n",
    "    artifact,\n",
    "    name = 'mmColon_single_cell_85K.mouse.h5ad',\n",
    "    description = 'mmColon_single_cell_85K.mouse.h5ad',\n",
    "    reference = '10.6084/m9.figshare.24670038.v1',\n",
    "    reference_type = 'doi'\n",
    ")"
   ]
  },
  {
   "cell_type": "code",
   "execution_count": 40,
   "id": "4fdc53d1-4308-4ffe-acc9-7117790fa14d",
   "metadata": {},
   "outputs": [],
   "source": [
    "collection.save()"
   ]
  },
  {
   "cell_type": "code",
   "execution_count": 43,
   "id": "fa2638f1-94b4-4bec-b433-da7fa5c47d45",
   "metadata": {},
   "outputs": [
    {
     "name": "stdout",
     "output_type": "stream",
     "text": [
      "\u001b[1;92mArtifact\u001b[0m(uid='Ozi5e56JPczsASuiogM1', suffix='.h5ad', accessor='AnnData', description='mmColon_single_cell_85K.mouse.h5ad', size=1417611876, hash='0DmeGGGnh8d5kyurRHNBVK', hash_type='sha1-fl', visibility=1, key_is_virtual=True, updated_at=2024-02-11 02:37:35 UTC)\n",
      "\n",
      "\u001b[1;92mProvenance\u001b[0m:\n",
      "  🗃️ storage: Storage(uid='3wVRAheC', root='s3://vals-scrna', type='s3', region='us-west-1', updated_at=2023-11-05 20:36:19 UTC, created_by_id=1)\n",
      "  📔 transform: Transform(uid='PBAb0NkPEmLe5zKv', name='Ingest into Lamin', short_name='240210 ingest data', version='1', type='notebook', updated_at=2024-02-11 01:42:41 UTC, created_by_id=1)\n",
      "  👣 run: Run(uid='KZkeImCbTr4cdraU3THw', run_at=2024-02-11 02:26:43 UTC, transform_id=2, created_by_id=1)\n",
      "  👤 created_by: User(uid='8joZB4lw', handle='vals', updated_at=2023-11-05 20:36:19 UTC)\n",
      "\n"
     ]
    }
   ],
   "source": [
    "artifact.describe()"
   ]
  },
  {
   "cell_type": "code",
   "execution_count": 44,
   "id": "f45f51f3-c7fd-4408-b9a1-c600dae18239",
   "metadata": {},
   "outputs": [
    {
     "name": "stdout",
     "output_type": "stream",
     "text": [
      "\u001b[1;92mCollection\u001b[0m(uid='Ozi5e56JPczsASuiogM1', name='mmColon_single_cell_85K.mouse.h5ad', description='mmColon_single_cell_85K.mouse.h5ad', hash='0DmeGGGnh8d5kyurRHNBVK', reference='10.6084/m9.figshare.24670038.v1', reference_type='doi', visibility=1, updated_at=2024-02-11 02:37:35 UTC)\n",
      "\n",
      "\u001b[1;92mProvenance\u001b[0m:\n",
      "  📔 transform: Transform(uid='PBAb0NkPEmLe5zKv', name='Ingest into Lamin', short_name='240210 ingest data', version='1', type='notebook', updated_at=2024-02-11 01:42:41 UTC, created_by_id=1)\n",
      "  👣 run: Run(uid='KZkeImCbTr4cdraU3THw', run_at=2024-02-11 02:26:43 UTC, transform_id=2, created_by_id=1)\n",
      "  📄 artifact: Artifact(uid='Ozi5e56JPczsASuiogM1', suffix='.h5ad', accessor='AnnData', description='mmColon_single_cell_85K.mouse.h5ad', size=1417611876, hash='0DmeGGGnh8d5kyurRHNBVK', hash_type='sha1-fl', visibility=1, key_is_virtual=True, updated_at=2024-02-11 02:37:35 UTC, storage_id=1, transform_id=2, run_id=2, created_by_id=1)\n",
      "  👤 created_by: User(uid='8joZB4lw', handle='vals', updated_at=2023-11-05 20:36:19 UTC)\n",
      "\n"
     ]
    }
   ],
   "source": [
    "collection.describe()"
   ]
  },
  {
   "cell_type": "code",
   "execution_count": null,
   "id": "3637a681-ff11-47e8-9e20-9bcfe080bea7",
   "metadata": {},
   "outputs": [],
   "source": []
  },
  {
   "cell_type": "code",
   "execution_count": 75,
   "id": "e1b16412-87f7-495b-9fa6-4081fe6517c9",
   "metadata": {},
   "outputs": [],
   "source": [
    "organism_feature = ln.Feature.filter(name=\"organism\").one()\n",
    "organism_feature.registries = \"bionty.Organism\"\n",
    "organism_feature.save()\n",
    "\n",
    "tissue_feature = ln.Feature.filter(name=\"tissue\").one()\n",
    "tissue_feature.registries = \"bionty.Tissue\"\n",
    "tissue_feature.save()\n",
    "\n",
    "technique_feature = ln.Feature.filter(name=\"technique\").one()\n",
    "technique_feature.registries = \"bionty.ExperimentalFactor\"\n",
    "technique_feature.save()"
   ]
  },
  {
   "cell_type": "code",
   "execution_count": 51,
   "id": "87cf8e94-14f9-41bd-9269-989551f6b8d1",
   "metadata": {},
   "outputs": [],
   "source": [
    "organism_lookup = lb.Organism.lookup()"
   ]
  },
  {
   "cell_type": "code",
   "execution_count": 52,
   "id": "5eb604bb-4e69-4994-a4c1-86ff02ba41e4",
   "metadata": {},
   "outputs": [],
   "source": [
    "artifact.organism.add(organism_lookup.mouse)"
   ]
  },
  {
   "cell_type": "code",
   "execution_count": 53,
   "id": "4eabb10f-5840-41cd-af2e-a2bec0581894",
   "metadata": {},
   "outputs": [],
   "source": [
    "tissue_lookup = lb.Tissue.lookup()"
   ]
  },
  {
   "cell_type": "code",
   "execution_count": 54,
   "id": "dd07876b-e09d-46c8-8e5d-0b8471123166",
   "metadata": {},
   "outputs": [],
   "source": [
    "artifact.tissues.add(tissue_lookup.colon)"
   ]
  },
  {
   "cell_type": "code",
   "execution_count": 55,
   "id": "628cba94-ffdb-4a7c-8c1a-55b398811907",
   "metadata": {},
   "outputs": [],
   "source": [
    "artifact_technique_names = artifact.ulabels.filter(artifactulabel__feature__name=\"technique\").values_list(\"name\", flat=True).list()"
   ]
  },
  {
   "cell_type": "code",
   "execution_count": 57,
   "id": "2835f500-506d-4b83-be19-180472e4e888",
   "metadata": {},
   "outputs": [],
   "source": [
    "techniques = lb.ExperimentalFactor.filter(name__in=[techniques_mapper.get(name, name) for name in artifact_technique_names]).all()"
   ]
  },
  {
   "cell_type": "code",
   "execution_count": 61,
   "id": "6811c2c2-5fab-430b-ac2e-7f5d254e0885",
   "metadata": {},
   "outputs": [],
   "source": [
    "ef_lookup = lb.ExperimentalFactor.lookup()"
   ]
  },
  {
   "cell_type": "code",
   "execution_count": 62,
   "id": "dd29ce1a-c3a8-4149-ad41-bc99947910c6",
   "metadata": {},
   "outputs": [
    {
     "data": {
      "text/plain": [
       "ExperimentalFactor(uid='369kD53P', name='Chromium', updated_at=2024-01-25 11:27:17 UTC, created_by_id=3)"
      ]
     },
     "execution_count": 62,
     "metadata": {},
     "output_type": "execute_result"
    }
   ],
   "source": [
    "ef_lookup.chromium"
   ]
  },
  {
   "cell_type": "code",
   "execution_count": 63,
   "id": "0c13326d-e51e-4d10-a62a-3673d860db04",
   "metadata": {},
   "outputs": [],
   "source": [
    "artifact.experimental_factors.add(ef_lookup.chromium)"
   ]
  },
  {
   "cell_type": "code",
   "execution_count": 64,
   "id": "33842454-8058-4935-83db-0a26b7ceeb4e",
   "metadata": {},
   "outputs": [
    {
     "name": "stdout",
     "output_type": "stream",
     "text": [
      "\u001b[1;92mArtifact\u001b[0m(uid='Ozi5e56JPczsASuiogM1', suffix='.h5ad', accessor='AnnData', description='mmColon_single_cell_85K.mouse.h5ad', size=1417611876, hash='0DmeGGGnh8d5kyurRHNBVK', hash_type='sha1-fl', visibility=1, key_is_virtual=True, updated_at=2024-02-11 02:37:35 UTC)\n",
      "\n",
      "\u001b[1;92mProvenance\u001b[0m:\n",
      "  🗃️ storage: Storage(uid='3wVRAheC', root='s3://vals-scrna', type='s3', region='us-west-1', updated_at=2023-11-05 20:36:19 UTC, created_by_id=1)\n",
      "  📔 transform: Transform(uid='PBAb0NkPEmLe5zKv', name='Ingest into Lamin', short_name='240210 ingest data', version='1', type='notebook', updated_at=2024-02-11 01:42:41 UTC, created_by_id=1)\n",
      "  👣 run: Run(uid='KZkeImCbTr4cdraU3THw', run_at=2024-02-11 02:26:43 UTC, transform_id=2, created_by_id=1)\n",
      "  👤 created_by: User(uid='8joZB4lw', handle='vals', updated_at=2023-11-05 20:36:19 UTC)\n",
      "\u001b[1;92mLabels\u001b[0m:\n",
      "  🏷️ organism (1, \u001b[3mbionty.Organism\u001b[0m): 'mouse'\n",
      "  🏷️ tissues (1, \u001b[3mbionty.Tissue\u001b[0m): 'colon'\n",
      "  🏷️ experimental_factors (1, \u001b[3mbionty.ExperimentalFactor\u001b[0m): 'Chromium'\n",
      "\n"
     ]
    }
   ],
   "source": [
    "artifact.describe()"
   ]
  },
  {
   "cell_type": "code",
   "execution_count": 76,
   "id": "5a5e064c-dbc9-49a9-ab0d-4db367896086",
   "metadata": {},
   "outputs": [
    {
     "name": "stdout",
     "output_type": "stream",
     "text": [
      "\u001b[1;92mArtifact\u001b[0m(uid='Ozi5e56JPczsASuiogM1', suffix='.h5ad', accessor='AnnData', description='mmColon_single_cell_85K.mouse.h5ad', size=1417611876, hash='0DmeGGGnh8d5kyurRHNBVK', hash_type='sha1-fl', visibility=1, key_is_virtual=True, updated_at=2024-02-11 02:37:35 UTC)\n",
      "\n",
      "\u001b[1;92mProvenance\u001b[0m:\n",
      "  🗃️ storage: Storage(uid='3wVRAheC', root='s3://vals-scrna', type='s3', region='us-west-1', updated_at=2023-11-05 20:36:19 UTC, created_by_id=1)\n",
      "  📔 transform: Transform(uid='PBAb0NkPEmLe5zKv', name='Ingest into Lamin', short_name='240210 ingest data', version='1', type='notebook', updated_at=2024-02-11 01:42:41 UTC, created_by_id=1)\n",
      "  👣 run: Run(uid='KZkeImCbTr4cdraU3THw', run_at=2024-02-11 02:26:43 UTC, transform_id=2, created_by_id=1)\n",
      "  👤 created_by: User(uid='8joZB4lw', handle='vals', updated_at=2023-11-05 20:36:19 UTC)\n",
      "\u001b[1;92mLabels\u001b[0m:\n",
      "  🏷️ organism (1, \u001b[3mbionty.Organism\u001b[0m): 'mouse'\n",
      "  🏷️ tissues (1, \u001b[3mbionty.Tissue\u001b[0m): 'colon'\n",
      "  🏷️ experimental_factors (1, \u001b[3mbionty.ExperimentalFactor\u001b[0m): 'Chromium'\n",
      "\n"
     ]
    }
   ],
   "source": [
    "artifact.describe()"
   ]
  },
  {
   "cell_type": "code",
   "execution_count": 79,
   "id": "7d514119-6e3f-4e84-b8e7-3442ed76de1d",
   "metadata": {},
   "outputs": [],
   "source": [
    "artifact.save()"
   ]
  },
  {
   "cell_type": "code",
   "execution_count": 82,
   "id": "ea4f0070-f937-4a13-96bd-57185e05d1e8",
   "metadata": {},
   "outputs": [],
   "source": [
    "collection.save()"
   ]
  },
  {
   "cell_type": "code",
   "execution_count": null,
   "id": "9e2c08cd-23d8-4fa0-b62a-0e23506e452b",
   "metadata": {},
   "outputs": [],
   "source": []
  },
  {
   "cell_type": "code",
   "execution_count": null,
   "id": "4be5e1b4-f135-4218-bc64-2a458b41a3a9",
   "metadata": {},
   "outputs": [],
   "source": []
  },
  {
   "cell_type": "code",
   "execution_count": null,
   "id": "c3f39242-0091-4db7-93ec-80b55afaa2cc",
   "metadata": {},
   "outputs": [],
   "source": []
  },
  {
   "cell_type": "code",
   "execution_count": null,
   "id": "4ea09c47-4d74-4469-83e1-8155aa3412da",
   "metadata": {},
   "outputs": [],
   "source": []
  },
  {
   "cell_type": "code",
   "execution_count": null,
   "id": "5766cd63-e6da-4ff7-947e-f15c924345eb",
   "metadata": {},
   "outputs": [],
   "source": []
  },
  {
   "cell_type": "code",
   "execution_count": null,
   "id": "865819ad-5df1-42c8-8e9a-ce93a748efc4",
   "metadata": {},
   "outputs": [],
   "source": []
  },
  {
   "cell_type": "code",
   "execution_count": null,
   "id": "0e50f9f6-6ac8-474c-8451-281b9e7db000",
   "metadata": {},
   "outputs": [],
   "source": []
  },
  {
   "cell_type": "code",
   "execution_count": null,
   "id": "584dfa00-67ee-4d42-830f-214d8c5075f4",
   "metadata": {},
   "outputs": [],
   "source": []
  },
  {
   "cell_type": "code",
   "execution_count": null,
   "id": "247f15c5-9e1a-4e61-9fa1-c14b6a52f174",
   "metadata": {},
   "outputs": [],
   "source": []
  },
  {
   "cell_type": "code",
   "execution_count": null,
   "id": "60753817-6669-4bf9-abc6-304e6af64b84",
   "metadata": {},
   "outputs": [],
   "source": []
  },
  {
   "cell_type": "code",
   "execution_count": null,
   "id": "e7d0090f-e6f1-47b7-bbb2-c87c79a47c75",
   "metadata": {},
   "outputs": [],
   "source": []
  },
  {
   "cell_type": "code",
   "execution_count": null,
   "id": "8954d484-c0ed-46bc-bed1-16bbf75c0737",
   "metadata": {},
   "outputs": [],
   "source": []
  },
  {
   "cell_type": "code",
   "execution_count": null,
   "id": "7f3f90e4-2c6f-4564-8ae1-b4ad3241142e",
   "metadata": {},
   "outputs": [],
   "source": []
  },
  {
   "cell_type": "code",
   "execution_count": null,
   "id": "9786f003-3ffc-4fd3-a0ea-096235b1defe",
   "metadata": {},
   "outputs": [],
   "source": []
  },
  {
   "cell_type": "code",
   "execution_count": null,
   "id": "6e519a4a-e76e-442f-8f14-fbb77a47ab79",
   "metadata": {},
   "outputs": [],
   "source": []
  },
  {
   "cell_type": "code",
   "execution_count": null,
   "id": "a5b787bb-a452-42ff-8cd8-226ab3370a09",
   "metadata": {},
   "outputs": [],
   "source": []
  },
  {
   "cell_type": "code",
   "execution_count": null,
   "id": "89695501-e6aa-4bb4-8f1a-abfe533dc9e7",
   "metadata": {},
   "outputs": [],
   "source": []
  },
  {
   "cell_type": "code",
   "execution_count": null,
   "id": "fce5d3ec-759d-4ca4-8719-09a541029d6e",
   "metadata": {},
   "outputs": [],
   "source": []
  },
  {
   "cell_type": "code",
   "execution_count": null,
   "id": "8005b554-f4d0-40d2-8d41-2e93283cf139",
   "metadata": {},
   "outputs": [],
   "source": []
  }
 ],
 "metadata": {
  "kernelspec": {
   "display_name": "Python 3 (ipykernel)",
   "language": "python",
   "name": "python3"
  },
  "language_info": {
   "codemirror_mode": {
    "name": "ipython",
    "version": 3
   },
   "file_extension": ".py",
   "mimetype": "text/x-python",
   "name": "python",
   "nbconvert_exporter": "python",
   "pygments_lexer": "ipython3",
   "version": "3.10.11"
  },
  "nbproject": {
   "id": "PBAb0NkPEmLe",
   "parent": null,
   "pypackage": null,
   "time_init": "2024-02-11T01:42:40.601567+00:00",
   "user_handle": null,
   "user_id": null,
   "user_name": null,
   "version": "1"
  }
 },
 "nbformat": 4,
 "nbformat_minor": 5
}
