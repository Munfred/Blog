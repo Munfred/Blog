{
 "cells": [
  {
   "cell_type": "code",
   "execution_count": 1,
   "id": "67ac7ab8",
   "metadata": {},
   "outputs": [
    {
     "name": "stdout",
     "output_type": "stream",
     "text": [
      "💡 loaded instance: vals/scrna (lamindb 0.59.3)\n"
     ]
    }
   ],
   "source": [
    "import glob\n",
    "\n",
    "import anndata\n",
    "import lamindb as ln\n",
    "import pandas as pd\n",
    "from tqdm import tqdm"
   ]
  },
  {
   "cell_type": "code",
   "execution_count": 2,
   "id": "6fcd4e34",
   "metadata": {},
   "outputs": [
    {
     "data": {
      "text/plain": [
       "S3Path('s3://vals-scrna/')"
      ]
     },
     "execution_count": 2,
     "metadata": {},
     "output_type": "execute_result"
    }
   ],
   "source": [
    "ln.settings.storage"
   ]
  },
  {
   "cell_type": "code",
   "execution_count": null,
   "id": "a7cab4ca",
   "metadata": {},
   "outputs": [],
   "source": []
  },
  {
   "cell_type": "code",
   "execution_count": 3,
   "id": "67abd6ab",
   "metadata": {},
   "outputs": [
    {
     "name": "stdout",
     "output_type": "stream",
     "text": [
      "❗ no run & transform get linked, consider passing a `run` or calling ln.track()\n"
     ]
    }
   ],
   "source": [
    "file = ln.File(\n",
    "    '/mnt/c/Users/vale/Google Drive/Analysis/hca-benchmark-2019/Ding/PBMC/PBMC_read_counts.h5ad',\n",
    "    key = 'hca-benchmark-2019/Ding/PBMC/PBMC_read_counts.h5ad'\n",
    ")"
   ]
  },
  {
   "cell_type": "code",
   "execution_count": 4,
   "id": "cddd429d",
   "metadata": {},
   "outputs": [
    {
     "name": "stdout",
     "output_type": "stream",
     "text": [
      "... uploading PBMC_read_counts.h5ad: 1.00\n",
      "\r"
     ]
    }
   ],
   "source": [
    "file.save()"
   ]
  },
  {
   "cell_type": "code",
   "execution_count": null,
   "id": "2fc741e3",
   "metadata": {},
   "outputs": [],
   "source": []
  },
  {
   "cell_type": "code",
   "execution_count": 5,
   "id": "919eba0a",
   "metadata": {},
   "outputs": [
    {
     "name": "stdout",
     "output_type": "stream",
     "text": [
      "❗ no run & transform get linked, consider passing a `run` or calling ln.track()\n"
     ]
    }
   ],
   "source": [
    "file = ln.File(\n",
    "    '/mnt/c/Users/vale/Google Drive/Analysis/hca-benchmark-2019/Ding/PBMC/PBMC_umi_counts.h5ad',\n",
    "    key = 'hca-benchmark-2019/Ding/PBMC/PBMC_umi_counts.h5ad'\n",
    ")"
   ]
  },
  {
   "cell_type": "code",
   "execution_count": 6,
   "id": "51430521",
   "metadata": {},
   "outputs": [
    {
     "name": "stdout",
     "output_type": "stream",
     "text": [
      "... uploading PBMC_umi_counts.h5ad: 1.00\n",
      "\r"
     ]
    }
   ],
   "source": [
    "file.save()"
   ]
  },
  {
   "cell_type": "code",
   "execution_count": null,
   "id": "569b93a5",
   "metadata": {},
   "outputs": [],
   "source": []
  },
  {
   "cell_type": "code",
   "execution_count": 7,
   "id": "bf4c6c9f",
   "metadata": {},
   "outputs": [
    {
     "name": "stdout",
     "output_type": "stream",
     "text": [
      "❗ no run & transform get linked, consider passing a `run` or calling ln.track()\n"
     ]
    }
   ],
   "source": [
    "file = ln.File(\n",
    "    '/mnt/c/Users/vale/Google Drive/Analysis/hca-benchmark-2019/h5ads/10X2x5Kcell250Kreads_human_exp_mat.h5ad',\n",
    "    key = 'hca-benchmark-2019/h5ads/10X2x5Kcell250Kreads_human_exp_mat.h5ad'\n",
    ")"
   ]
  },
  {
   "cell_type": "code",
   "execution_count": 8,
   "id": "1c5bb80b",
   "metadata": {},
   "outputs": [
    {
     "name": "stdout",
     "output_type": "stream",
     "text": [
      "... uploading 10X2x5Kcell250Kreads_human_exp_mat.h5ad: 1.00\n",
      "\r"
     ]
    }
   ],
   "source": [
    "file.save()"
   ]
  },
  {
   "cell_type": "code",
   "execution_count": null,
   "id": "1eb8bfe5",
   "metadata": {},
   "outputs": [],
   "source": []
  },
  {
   "cell_type": "code",
   "execution_count": 9,
   "id": "1840261e",
   "metadata": {},
   "outputs": [
    {
     "name": "stdout",
     "output_type": "stream",
     "text": [
      "❗ no run & transform get linked, consider passing a `run` or calling ln.track()\n"
     ]
    }
   ],
   "source": [
    "file = ln.File(\n",
    "    '/mnt/c/Users/vale/Google Drive/Analysis/hca-benchmark-2019/h5ads/10X2x5Kcell250Kreads_mouse_exp_mat.h5ad',\n",
    "    key = 'hca-benchmark-2019/h5ads/10X2x5Kcell250Kreads_mouse_exp_mat.h5ad'\n",
    ")"
   ]
  },
  {
   "cell_type": "code",
   "execution_count": 10,
   "id": "670f568d",
   "metadata": {},
   "outputs": [
    {
     "name": "stdout",
     "output_type": "stream",
     "text": [
      "... uploading 10X2x5Kcell250Kreads_mouse_exp_mat.h5ad: 1.00\n",
      "\r"
     ]
    }
   ],
   "source": [
    "file.save()"
   ]
  },
  {
   "cell_type": "code",
   "execution_count": null,
   "id": "3e32b51c",
   "metadata": {},
   "outputs": [],
   "source": []
  },
  {
   "cell_type": "code",
   "execution_count": 11,
   "id": "f770017d",
   "metadata": {},
   "outputs": [
    {
     "name": "stdout",
     "output_type": "stream",
     "text": [
      "❗ no run & transform get linked, consider passing a `run` or calling ln.track()\n"
     ]
    }
   ],
   "source": [
    "file = ln.File(\n",
    "    '/mnt/c/Users/vale/Google Drive/Analysis/hca-benchmark-2019/h5ads/10X8x10Kcell25Kreads_human_exp_mat.h5ad',\n",
    "    key = 'hca-benchmark-2019/h5ads/10X8x10Kcell25Kreads_human_exp_mat.h5ad'\n",
    ")"
   ]
  },
  {
   "cell_type": "code",
   "execution_count": 12,
   "id": "a641fde0",
   "metadata": {},
   "outputs": [
    {
     "name": "stdout",
     "output_type": "stream",
     "text": [
      "... uploading 10X8x10Kcell25Kreads_human_exp_mat.h5ad: 1.00\n",
      "\r"
     ]
    }
   ],
   "source": [
    "file.save()"
   ]
  },
  {
   "cell_type": "code",
   "execution_count": null,
   "id": "aa825745",
   "metadata": {},
   "outputs": [],
   "source": []
  },
  {
   "cell_type": "code",
   "execution_count": 13,
   "id": "1d2ff748",
   "metadata": {},
   "outputs": [
    {
     "name": "stdout",
     "output_type": "stream",
     "text": [
      "❗ no run & transform get linked, consider passing a `run` or calling ln.track()\n"
     ]
    }
   ],
   "source": [
    "file = ln.File(\n",
    "    '/mnt/c/Users/vale/Google Drive/Analysis/hca-benchmark-2019/h5ads/10X8x10Kcell25Kreads_mouse_exp_mat.h5ad',\n",
    "    key = 'hca-benchmark-2019/h5ads/10X8x10Kcell25Kreads_mouse_exp_mat.h5ad'\n",
    ")"
   ]
  },
  {
   "cell_type": "code",
   "execution_count": 14,
   "id": "4de2d6e4",
   "metadata": {},
   "outputs": [
    {
     "name": "stdout",
     "output_type": "stream",
     "text": [
      "... uploading 10X8x10Kcell25Kreads_mouse_exp_mat.h5ad: 1.00\n",
      "\r"
     ]
    }
   ],
   "source": [
    "file.save()"
   ]
  },
  {
   "cell_type": "code",
   "execution_count": null,
   "id": "fb225d60",
   "metadata": {},
   "outputs": [],
   "source": []
  },
  {
   "cell_type": "code",
   "execution_count": 15,
   "id": "821f56ee",
   "metadata": {},
   "outputs": [
    {
     "name": "stdout",
     "output_type": "stream",
     "text": [
      "❗ no run & transform get linked, consider passing a `run` or calling ln.track()\n"
     ]
    }
   ],
   "source": [
    "file = ln.File(\n",
    "    '/mnt/c/Users/vale/Google Drive/Analysis/hca-benchmark-2019/h5ads/C1HTmedium_human_exp_mat.h5ad',\n",
    "    key = 'hca-benchmark-2019/h5ads/C1HTmedium_human_exp_mat.h5ad'\n",
    ")"
   ]
  },
  {
   "cell_type": "code",
   "execution_count": 16,
   "id": "263a362e",
   "metadata": {},
   "outputs": [
    {
     "name": "stdout",
     "output_type": "stream",
     "text": [
      "... uploading C1HTmedium_human_exp_mat.h5ad: 1.00\n",
      "\r"
     ]
    }
   ],
   "source": [
    "file.save()"
   ]
  },
  {
   "cell_type": "code",
   "execution_count": null,
   "id": "37cc2bcc",
   "metadata": {},
   "outputs": [],
   "source": []
  },
  {
   "cell_type": "code",
   "execution_count": 17,
   "id": "5688ce5e",
   "metadata": {},
   "outputs": [
    {
     "name": "stdout",
     "output_type": "stream",
     "text": [
      "❗ no run & transform get linked, consider passing a `run` or calling ln.track()\n"
     ]
    }
   ],
   "source": [
    "file = ln.File(\n",
    "    '/mnt/c/Users/vale/Google Drive/Analysis/hca-benchmark-2019/h5ads/C1HTmedium_mouse_exp_mat.h5ad',\n",
    "    key = 'hca-benchmark-2019/h5ads/C1HTmedium_mouse_exp_mat.h5ad'\n",
    ")"
   ]
  },
  {
   "cell_type": "code",
   "execution_count": 18,
   "id": "2a281970",
   "metadata": {},
   "outputs": [
    {
     "name": "stdout",
     "output_type": "stream",
     "text": [
      "... uploading C1HTmedium_mouse_exp_mat.h5ad: 1.00\n",
      "\r"
     ]
    }
   ],
   "source": [
    "file.save()"
   ]
  },
  {
   "cell_type": "code",
   "execution_count": null,
   "id": "c3a0b89b",
   "metadata": {},
   "outputs": [],
   "source": []
  },
  {
   "cell_type": "code",
   "execution_count": 19,
   "id": "645f02c2",
   "metadata": {},
   "outputs": [
    {
     "name": "stdout",
     "output_type": "stream",
     "text": [
      "❗ no run & transform get linked, consider passing a `run` or calling ln.track()\n"
     ]
    }
   ],
   "source": [
    "file = ln.File(\n",
    "    '/mnt/c/Users/vale/Google Drive/Analysis/hca-benchmark-2019/h5ads/C1HTsmall_human_exp_mat.h5ad',\n",
    "    key = 'hca-benchmark-2019/h5ads/C1HTsmall_human_exp_mat.h5ad'\n",
    ")"
   ]
  },
  {
   "cell_type": "code",
   "execution_count": 20,
   "id": "93dd1688",
   "metadata": {},
   "outputs": [
    {
     "name": "stdout",
     "output_type": "stream",
     "text": [
      "... uploading C1HTsmall_human_exp_mat.h5ad: 1.00\n",
      "\r"
     ]
    }
   ],
   "source": [
    "file.save()"
   ]
  },
  {
   "cell_type": "code",
   "execution_count": null,
   "id": "5d80db21",
   "metadata": {},
   "outputs": [],
   "source": []
  },
  {
   "cell_type": "code",
   "execution_count": 21,
   "id": "20a6f9dc",
   "metadata": {},
   "outputs": [
    {
     "name": "stdout",
     "output_type": "stream",
     "text": [
      "❗ no run & transform get linked, consider passing a `run` or calling ln.track()\n"
     ]
    }
   ],
   "source": [
    "file = ln.File(\n",
    "    '/mnt/c/Users/vale/Google Drive/Analysis/hca-benchmark-2019/h5ads/C1HTsmall_mouse_exp_mat.h5ad',\n",
    "    key = 'hca-benchmark-2019/h5ads/C1HTsmall_mouse_exp_mat.h5ad'\n",
    ")"
   ]
  },
  {
   "cell_type": "code",
   "execution_count": 22,
   "id": "63d9115e",
   "metadata": {},
   "outputs": [
    {
     "name": "stdout",
     "output_type": "stream",
     "text": [
      "... uploading C1HTsmall_mouse_exp_mat.h5ad: 1.00\n",
      "\r"
     ]
    }
   ],
   "source": [
    "file.save()"
   ]
  },
  {
   "cell_type": "code",
   "execution_count": null,
   "id": "a5898929",
   "metadata": {},
   "outputs": [],
   "source": []
  },
  {
   "cell_type": "code",
   "execution_count": 23,
   "id": "f945dc33",
   "metadata": {},
   "outputs": [
    {
     "name": "stdout",
     "output_type": "stream",
     "text": [
      "❗ no run & transform get linked, consider passing a `run` or calling ln.track()\n"
     ]
    }
   ],
   "source": [
    "file = ln.File(\n",
    "    '/mnt/c/Users/vale/Google Drive/Analysis/hca-benchmark-2019/h5ads/CELseq2_human_exp_mat.h5ad',\n",
    "    key = 'hca-benchmark-2019/h5ads/CELseq2_human_exp_mat.h5ad'\n",
    ")"
   ]
  },
  {
   "cell_type": "code",
   "execution_count": 24,
   "id": "3fa6af4a",
   "metadata": {},
   "outputs": [
    {
     "name": "stdout",
     "output_type": "stream",
     "text": [
      "... uploading CELseq2_human_exp_mat.h5ad: 1.00\n",
      "\r"
     ]
    }
   ],
   "source": [
    "file.save()"
   ]
  },
  {
   "cell_type": "code",
   "execution_count": null,
   "id": "f21fa870",
   "metadata": {},
   "outputs": [],
   "source": []
  },
  {
   "cell_type": "code",
   "execution_count": 25,
   "id": "5b417be5",
   "metadata": {},
   "outputs": [
    {
     "name": "stdout",
     "output_type": "stream",
     "text": [
      "❗ no run & transform get linked, consider passing a `run` or calling ln.track()\n"
     ]
    }
   ],
   "source": [
    "file = ln.File(\n",
    "    '/mnt/c/Users/vale/Google Drive/Analysis/hca-benchmark-2019/h5ads/CELseq2_mouse_exp_mat.h5ad',\n",
    "    key = 'hca-benchmark-2019/h5ads/CELseq2_mouse_exp_mat.h5ad'\n",
    ")"
   ]
  },
  {
   "cell_type": "code",
   "execution_count": 26,
   "id": "3dba9e67",
   "metadata": {},
   "outputs": [
    {
     "name": "stdout",
     "output_type": "stream",
     "text": [
      "... uploading CELseq2_mouse_exp_mat.h5ad: 1.00\n",
      "\r"
     ]
    }
   ],
   "source": [
    "file.save()"
   ]
  },
  {
   "cell_type": "code",
   "execution_count": null,
   "id": "162bb3c4",
   "metadata": {},
   "outputs": [],
   "source": []
  },
  {
   "cell_type": "code",
   "execution_count": 27,
   "id": "38105c12",
   "metadata": {},
   "outputs": [
    {
     "name": "stdout",
     "output_type": "stream",
     "text": [
      "❗ no run & transform get linked, consider passing a `run` or calling ln.track()\n"
     ]
    }
   ],
   "source": [
    "file = ln.File(\n",
    "    '/mnt/c/Users/vale/Google Drive/Analysis/hca-benchmark-2019/h5ads/ddSEQ_human_exp_mat.h5ad',\n",
    "    key = 'hca-benchmark-2019/h5ads/ddSEQ_human_exp_mat.h5ad'\n",
    ")"
   ]
  },
  {
   "cell_type": "code",
   "execution_count": 28,
   "id": "9d6011ad",
   "metadata": {},
   "outputs": [
    {
     "name": "stdout",
     "output_type": "stream",
     "text": [
      "... uploading ddSEQ_human_exp_mat.h5ad: 1.00\n",
      "\r"
     ]
    }
   ],
   "source": [
    "file.save()"
   ]
  },
  {
   "cell_type": "code",
   "execution_count": null,
   "id": "34805ca8",
   "metadata": {},
   "outputs": [],
   "source": []
  },
  {
   "cell_type": "code",
   "execution_count": 29,
   "id": "650d2bc9",
   "metadata": {},
   "outputs": [
    {
     "name": "stdout",
     "output_type": "stream",
     "text": [
      "❗ no run & transform get linked, consider passing a `run` or calling ln.track()\n"
     ]
    }
   ],
   "source": [
    "file = ln.File(\n",
    "    '/mnt/c/Users/vale/Google Drive/Analysis/hca-benchmark-2019/h5ads/ddSEQ_mouse_exp_mat.h5ad',\n",
    "    key = 'hca-benchmark-2019/h5ads/ddSEQ_mouse_exp_mat.h5ad'\n",
    ")"
   ]
  },
  {
   "cell_type": "code",
   "execution_count": 30,
   "id": "542a0934",
   "metadata": {},
   "outputs": [
    {
     "name": "stdout",
     "output_type": "stream",
     "text": [
      "... uploading ddSEQ_mouse_exp_mat.h5ad: 1.00\n",
      "\r"
     ]
    }
   ],
   "source": [
    "file.save()"
   ]
  },
  {
   "cell_type": "code",
   "execution_count": null,
   "id": "42c20414",
   "metadata": {},
   "outputs": [],
   "source": []
  },
  {
   "cell_type": "code",
   "execution_count": 31,
   "id": "6fd8ec12",
   "metadata": {},
   "outputs": [
    {
     "name": "stdout",
     "output_type": "stream",
     "text": [
      "❗ no run & transform get linked, consider passing a `run` or calling ln.track()\n"
     ]
    }
   ],
   "source": [
    "file = ln.File(\n",
    "    '/mnt/c/Users/vale/Google Drive/Analysis/hca-benchmark-2019/h5ads/Dropseq_human_exp_mat.h5ad',\n",
    "    key = 'hca-benchmark-2019/h5ads/Dropseq_human_exp_mat.h5ad'\n",
    ")"
   ]
  },
  {
   "cell_type": "code",
   "execution_count": 32,
   "id": "e5c2125a",
   "metadata": {},
   "outputs": [
    {
     "name": "stdout",
     "output_type": "stream",
     "text": [
      "... uploading Dropseq_human_exp_mat.h5ad: 1.00\n",
      "\r"
     ]
    }
   ],
   "source": [
    "file.save()"
   ]
  },
  {
   "cell_type": "code",
   "execution_count": null,
   "id": "b0988d88",
   "metadata": {},
   "outputs": [],
   "source": []
  },
  {
   "cell_type": "code",
   "execution_count": 33,
   "id": "7d7004da",
   "metadata": {},
   "outputs": [
    {
     "name": "stdout",
     "output_type": "stream",
     "text": [
      "❗ no run & transform get linked, consider passing a `run` or calling ln.track()\n"
     ]
    }
   ],
   "source": [
    "file = ln.File(\n",
    "    '/mnt/c/Users/vale/Google Drive/Analysis/hca-benchmark-2019/h5ads/Dropseq_mouse_exp_mat.h5ad',\n",
    "    key = 'hca-benchmark-2019/h5ads/Dropseq_mouse_exp_mat.h5ad'\n",
    ")"
   ]
  },
  {
   "cell_type": "code",
   "execution_count": 34,
   "id": "98d80fa5",
   "metadata": {},
   "outputs": [
    {
     "name": "stdout",
     "output_type": "stream",
     "text": [
      "... uploading Dropseq_mouse_exp_mat.h5ad: 1.00\n",
      "\r"
     ]
    }
   ],
   "source": [
    "file.save()"
   ]
  },
  {
   "cell_type": "code",
   "execution_count": null,
   "id": "000de94b",
   "metadata": {},
   "outputs": [],
   "source": []
  },
  {
   "cell_type": "code",
   "execution_count": 35,
   "id": "40a2a47f",
   "metadata": {},
   "outputs": [
    {
     "name": "stdout",
     "output_type": "stream",
     "text": [
      "❗ no run & transform get linked, consider passing a `run` or calling ln.track()\n"
     ]
    }
   ],
   "source": [
    "file = ln.File(\n",
    "    '/mnt/c/Users/vale/Google Drive/Analysis/hca-benchmark-2019/h5ads/ICELL8_human_exp_mat.h5ad',\n",
    "    key = 'hca-benchmark-2019/h5ads/ICELL8_human_exp_mat.h5ad'\n",
    ")"
   ]
  },
  {
   "cell_type": "code",
   "execution_count": 36,
   "id": "838b6a78",
   "metadata": {},
   "outputs": [
    {
     "name": "stdout",
     "output_type": "stream",
     "text": [
      "... uploading ICELL8_human_exp_mat.h5ad: 1.00\n",
      "\r"
     ]
    }
   ],
   "source": [
    "file.save()"
   ]
  },
  {
   "cell_type": "code",
   "execution_count": null,
   "id": "ad467033",
   "metadata": {},
   "outputs": [],
   "source": []
  },
  {
   "cell_type": "code",
   "execution_count": 37,
   "id": "603974d0",
   "metadata": {},
   "outputs": [
    {
     "name": "stdout",
     "output_type": "stream",
     "text": [
      "❗ no run & transform get linked, consider passing a `run` or calling ln.track()\n"
     ]
    }
   ],
   "source": [
    "file = ln.File(\n",
    "    '/mnt/c/Users/vale/Google Drive/Analysis/hca-benchmark-2019/h5ads/ICELL8_mouse_exp_mat.h5ad',\n",
    "    key = 'hca-benchmark-2019/h5ads/ICELL8_mouse_exp_mat.h5ad'\n",
    ")"
   ]
  },
  {
   "cell_type": "code",
   "execution_count": 38,
   "id": "dda9e479",
   "metadata": {},
   "outputs": [
    {
     "name": "stdout",
     "output_type": "stream",
     "text": [
      "... uploading ICELL8_mouse_exp_mat.h5ad: 1.00\n",
      "\r"
     ]
    }
   ],
   "source": [
    "file.save()"
   ]
  },
  {
   "cell_type": "code",
   "execution_count": null,
   "id": "2aaf412e",
   "metadata": {},
   "outputs": [],
   "source": []
  },
  {
   "cell_type": "code",
   "execution_count": 39,
   "id": "813cb4a2",
   "metadata": {},
   "outputs": [
    {
     "name": "stdout",
     "output_type": "stream",
     "text": [
      "❗ no run & transform get linked, consider passing a `run` or calling ln.track()\n"
     ]
    }
   ],
   "source": [
    "file = ln.File(\n",
    "    '/mnt/c/Users/vale/Google Drive/Analysis/hca-benchmark-2019/h5ads/inDrop_human_exp_mat.h5ad',\n",
    "    key = 'hca-benchmark-2019/h5ads/inDrop_human_exp_mat.h5ad'\n",
    ")"
   ]
  },
  {
   "cell_type": "code",
   "execution_count": 40,
   "id": "7e7d6bac",
   "metadata": {},
   "outputs": [
    {
     "name": "stdout",
     "output_type": "stream",
     "text": [
      "... uploading inDrop_human_exp_mat.h5ad: 1.00\n",
      "\r"
     ]
    }
   ],
   "source": [
    "file.save()"
   ]
  },
  {
   "cell_type": "code",
   "execution_count": null,
   "id": "0e4f09e7",
   "metadata": {},
   "outputs": [],
   "source": []
  },
  {
   "cell_type": "code",
   "execution_count": 41,
   "id": "fb92921a",
   "metadata": {},
   "outputs": [
    {
     "name": "stdout",
     "output_type": "stream",
     "text": [
      "❗ no run & transform get linked, consider passing a `run` or calling ln.track()\n"
     ]
    }
   ],
   "source": [
    "file = ln.File(\n",
    "    '/mnt/c/Users/vale/Google Drive/Analysis/hca-benchmark-2019/h5ads/inDrop_mouse_exp_mat.h5ad',\n",
    "    key = 'hca-benchmark-2019/h5ads/inDrop_mouse_exp_mat.h5ad'\n",
    ")"
   ]
  },
  {
   "cell_type": "code",
   "execution_count": 42,
   "id": "f767e7fd",
   "metadata": {},
   "outputs": [
    {
     "name": "stdout",
     "output_type": "stream",
     "text": [
      "... uploading inDrop_mouse_exp_mat.h5ad: 1.00\n",
      "\r"
     ]
    }
   ],
   "source": [
    "file.save()"
   ]
  },
  {
   "cell_type": "code",
   "execution_count": null,
   "id": "282de258",
   "metadata": {},
   "outputs": [],
   "source": []
  },
  {
   "cell_type": "code",
   "execution_count": 43,
   "id": "09144b5e",
   "metadata": {},
   "outputs": [
    {
     "name": "stdout",
     "output_type": "stream",
     "text": [
      "❗ no run & transform get linked, consider passing a `run` or calling ln.track()\n"
     ]
    }
   ],
   "source": [
    "file = ln.File(\n",
    "    '/mnt/c/Users/vale/Google Drive/Analysis/hca-benchmark-2019/h5ads/MARSseq_human_exp_mat.h5ad',\n",
    "    key = 'hca-benchmark-2019/h5ads/MARSseq_human_exp_mat.h5ad'\n",
    ")"
   ]
  },
  {
   "cell_type": "code",
   "execution_count": 44,
   "id": "6cd0fc2a",
   "metadata": {},
   "outputs": [
    {
     "name": "stdout",
     "output_type": "stream",
     "text": [
      "... uploading MARSseq_human_exp_mat.h5ad: 1.00\n",
      "\r"
     ]
    }
   ],
   "source": [
    "file.save()"
   ]
  },
  {
   "cell_type": "code",
   "execution_count": null,
   "id": "37cf85ac",
   "metadata": {},
   "outputs": [],
   "source": []
  },
  {
   "cell_type": "code",
   "execution_count": 45,
   "id": "e7588139",
   "metadata": {},
   "outputs": [
    {
     "name": "stdout",
     "output_type": "stream",
     "text": [
      "❗ no run & transform get linked, consider passing a `run` or calling ln.track()\n"
     ]
    }
   ],
   "source": [
    "file = ln.File(\n",
    "    '/mnt/c/Users/vale/Google Drive/Analysis/hca-benchmark-2019/h5ads/MARSseq_mouse_exp_mat.h5ad',\n",
    "    key = 'hca-benchmark-2019/h5ads/MARSseq_mouse_exp_mat.h5ad'\n",
    ")"
   ]
  },
  {
   "cell_type": "code",
   "execution_count": 46,
   "id": "5d678d9e",
   "metadata": {},
   "outputs": [
    {
     "name": "stdout",
     "output_type": "stream",
     "text": [
      "... uploading MARSseq_mouse_exp_mat.h5ad: 1.00\n",
      "\r"
     ]
    }
   ],
   "source": [
    "file.save()"
   ]
  },
  {
   "cell_type": "code",
   "execution_count": null,
   "id": "76a87fe8",
   "metadata": {},
   "outputs": [],
   "source": []
  },
  {
   "cell_type": "code",
   "execution_count": 47,
   "id": "ec4c54a6",
   "metadata": {},
   "outputs": [
    {
     "name": "stdout",
     "output_type": "stream",
     "text": [
      "❗ no run & transform get linked, consider passing a `run` or calling ln.track()\n"
     ]
    }
   ],
   "source": [
    "file = ln.File(\n",
    "    '/mnt/c/Users/vale/Google Drive/Analysis/hca-benchmark-2019/h5ads/QUARTZseq_human_exp_mat.h5ad',\n",
    "    key = 'hca-benchmark-2019/h5ads/QUARTZseq_human_exp_mat.h5ad'\n",
    ")"
   ]
  },
  {
   "cell_type": "code",
   "execution_count": 48,
   "id": "e7526952",
   "metadata": {},
   "outputs": [
    {
     "name": "stdout",
     "output_type": "stream",
     "text": [
      "... uploading QUARTZseq_human_exp_mat.h5ad: 1.00\n",
      "\r"
     ]
    }
   ],
   "source": [
    "file.save()"
   ]
  },
  {
   "cell_type": "code",
   "execution_count": null,
   "id": "f4818db9",
   "metadata": {},
   "outputs": [],
   "source": []
  },
  {
   "cell_type": "code",
   "execution_count": 49,
   "id": "aaa9093e",
   "metadata": {},
   "outputs": [
    {
     "name": "stdout",
     "output_type": "stream",
     "text": [
      "❗ no run & transform get linked, consider passing a `run` or calling ln.track()\n"
     ]
    }
   ],
   "source": [
    "file = ln.File(\n",
    "    '/mnt/c/Users/vale/Google Drive/Analysis/hca-benchmark-2019/h5ads/QUARTZseq_mouse_exp_mat.h5ad',\n",
    "    key = 'hca-benchmark-2019/h5ads/QUARTZseq_mouse_exp_mat.h5ad'\n",
    ")"
   ]
  },
  {
   "cell_type": "code",
   "execution_count": 50,
   "id": "3ed4b75e",
   "metadata": {},
   "outputs": [
    {
     "name": "stdout",
     "output_type": "stream",
     "text": [
      "... uploading QUARTZseq_mouse_exp_mat.h5ad: 1.00\n",
      "\r"
     ]
    }
   ],
   "source": [
    "file.save()"
   ]
  },
  {
   "cell_type": "code",
   "execution_count": null,
   "id": "bbdf3c2d",
   "metadata": {},
   "outputs": [],
   "source": []
  },
  {
   "cell_type": "code",
   "execution_count": 51,
   "id": "580c4657",
   "metadata": {},
   "outputs": [
    {
     "name": "stdout",
     "output_type": "stream",
     "text": [
      "❗ no run & transform get linked, consider passing a `run` or calling ln.track()\n"
     ]
    }
   ],
   "source": [
    "file = ln.File(\n",
    "    '/mnt/c/Users/vale/Google Drive/Analysis/hca-benchmark-2019/h5ads/SCRBseq_human_exp_mat.h5ad',\n",
    "    key = 'hca-benchmark-2019/h5ads/SCRBseq_human_exp_mat.h5ad'\n",
    ")"
   ]
  },
  {
   "cell_type": "code",
   "execution_count": 52,
   "id": "d5675cf1",
   "metadata": {},
   "outputs": [
    {
     "name": "stdout",
     "output_type": "stream",
     "text": [
      "... uploading SCRBseq_human_exp_mat.h5ad: 1.00\n",
      "\r"
     ]
    }
   ],
   "source": [
    "file.save()"
   ]
  },
  {
   "cell_type": "code",
   "execution_count": null,
   "id": "4acce2ba",
   "metadata": {},
   "outputs": [],
   "source": []
  },
  {
   "cell_type": "code",
   "execution_count": 53,
   "id": "6111e52e",
   "metadata": {},
   "outputs": [
    {
     "name": "stdout",
     "output_type": "stream",
     "text": [
      "❗ no run & transform get linked, consider passing a `run` or calling ln.track()\n"
     ]
    }
   ],
   "source": [
    "file = ln.File(\n",
    "    '/mnt/c/Users/vale/Google Drive/Analysis/hca-benchmark-2019/h5ads/SCRBseq_mouse_exp_mat.h5ad',\n",
    "    key = 'hca-benchmark-2019/h5ads/SCRBseq_mouse_exp_mat.h5ad'\n",
    ")"
   ]
  },
  {
   "cell_type": "code",
   "execution_count": 54,
   "id": "1e66b163",
   "metadata": {},
   "outputs": [
    {
     "name": "stdout",
     "output_type": "stream",
     "text": [
      "... uploading SCRBseq_mouse_exp_mat.h5ad: 1.00\n",
      "\r"
     ]
    }
   ],
   "source": [
    "file.save()"
   ]
  },
  {
   "cell_type": "code",
   "execution_count": null,
   "id": "42935459",
   "metadata": {},
   "outputs": [],
   "source": []
  },
  {
   "cell_type": "code",
   "execution_count": 55,
   "id": "ff2c04bd",
   "metadata": {},
   "outputs": [
    {
     "name": "stdout",
     "output_type": "stream",
     "text": [
      "❗ no run & transform get linked, consider passing a `run` or calling ln.track()\n"
     ]
    }
   ],
   "source": [
    "file = ln.File(\n",
    "    '/mnt/c/Users/vale/Google Drive/Analysis/hca-benchmark-2019/h5ads/SingleNuclei_human_exp_mat.h5ad',\n",
    "    key = 'hca-benchmark-2019/h5ads/SingleNuclei_human_exp_mat.h5ad'\n",
    ")"
   ]
  },
  {
   "cell_type": "code",
   "execution_count": 56,
   "id": "566a1f53",
   "metadata": {},
   "outputs": [
    {
     "name": "stdout",
     "output_type": "stream",
     "text": [
      "... uploading SingleNuclei_human_exp_mat.h5ad: 1.00\n",
      "\r"
     ]
    }
   ],
   "source": [
    "file.save()"
   ]
  },
  {
   "cell_type": "code",
   "execution_count": null,
   "id": "2a3fe816",
   "metadata": {},
   "outputs": [],
   "source": []
  },
  {
   "cell_type": "code",
   "execution_count": 57,
   "id": "665e3970",
   "metadata": {},
   "outputs": [
    {
     "name": "stdout",
     "output_type": "stream",
     "text": [
      "❗ no run & transform get linked, consider passing a `run` or calling ln.track()\n"
     ]
    }
   ],
   "source": [
    "file = ln.File(\n",
    "    '/mnt/c/Users/vale/Google Drive/Analysis/hca-benchmark-2019/h5ads/SingleNuclei_mouse_exp_mat.h5ad',\n",
    "    key = 'hca-benchmark-2019/h5ads/SingleNuclei_mouse_exp_mat.h5ad'\n",
    ")"
   ]
  },
  {
   "cell_type": "code",
   "execution_count": 58,
   "id": "574e0233",
   "metadata": {},
   "outputs": [
    {
     "name": "stdout",
     "output_type": "stream",
     "text": [
      "... uploading SingleNuclei_mouse_exp_mat.h5ad: 1.00\n",
      "\r"
     ]
    }
   ],
   "source": [
    "file.save()"
   ]
  },
  {
   "cell_type": "code",
   "execution_count": null,
   "id": "3daebf28",
   "metadata": {},
   "outputs": [],
   "source": []
  },
  {
   "cell_type": "code",
   "execution_count": 59,
   "id": "63753977",
   "metadata": {},
   "outputs": [
    {
     "name": "stdout",
     "output_type": "stream",
     "text": [
      "❗ no run & transform get linked, consider passing a `run` or calling ln.track()\n"
     ]
    }
   ],
   "source": [
    "file = ln.File(\n",
    "    '/mnt/c/Users/vale/Google Drive/Analysis/hca-benchmark-2019/h5ads/SMARTseq2_human_exp_mat.h5ad',\n",
    "    key = 'hca-benchmark-2019/h5ads/SMARTseq2_human_exp_mat.h5ad'\n",
    ")"
   ]
  },
  {
   "cell_type": "code",
   "execution_count": 60,
   "id": "26e9a8c7",
   "metadata": {},
   "outputs": [
    {
     "name": "stdout",
     "output_type": "stream",
     "text": [
      "... uploading SMARTseq2_human_exp_mat.h5ad: 1.00\n",
      "\r"
     ]
    }
   ],
   "source": [
    "file.save()"
   ]
  },
  {
   "cell_type": "code",
   "execution_count": null,
   "id": "d63d2d10",
   "metadata": {},
   "outputs": [],
   "source": []
  },
  {
   "cell_type": "code",
   "execution_count": 61,
   "id": "0139f026",
   "metadata": {},
   "outputs": [
    {
     "name": "stdout",
     "output_type": "stream",
     "text": [
      "❗ no run & transform get linked, consider passing a `run` or calling ln.track()\n"
     ]
    }
   ],
   "source": [
    "file = ln.File(\n",
    "    '/mnt/c/Users/vale/Google Drive/Analysis/hca-benchmark-2019/h5ads/SMARTseq2_mouse_exp_mat.h5ad',\n",
    "    key = 'hca-benchmark-2019/h5ads/SMARTseq2_mouse_exp_mat.h5ad'\n",
    ")"
   ]
  },
  {
   "cell_type": "code",
   "execution_count": 62,
   "id": "348124fc",
   "metadata": {},
   "outputs": [
    {
     "name": "stdout",
     "output_type": "stream",
     "text": [
      "... uploading SMARTseq2_mouse_exp_mat.h5ad: 1.00\n",
      "\r"
     ]
    }
   ],
   "source": [
    "file.save()"
   ]
  },
  {
   "cell_type": "code",
   "execution_count": null,
   "id": "04aa5836",
   "metadata": {},
   "outputs": [],
   "source": []
  },
  {
   "cell_type": "code",
   "execution_count": 63,
   "id": "a3fe95d7",
   "metadata": {},
   "outputs": [
    {
     "name": "stdout",
     "output_type": "stream",
     "text": [
      "❗ no run & transform get linked, consider passing a `run` or calling ln.track()\n"
     ]
    }
   ],
   "source": [
    "file = ln.File(\n",
    "    '/mnt/c/Users/vale/Google Drive/Analysis/kinchen-2018/kinchen_10x_data.h5ad',\n",
    "    key = 'kinchen-2018/kinchen_10x_data.h5ad'\n",
    ")"
   ]
  },
  {
   "cell_type": "code",
   "execution_count": 64,
   "id": "90a62038",
   "metadata": {},
   "outputs": [
    {
     "name": "stdout",
     "output_type": "stream",
     "text": [
      "... uploading kinchen_10x_data.h5ad: 1.00\n",
      "\r"
     ]
    }
   ],
   "source": [
    "file.save()"
   ]
  },
  {
   "cell_type": "code",
   "execution_count": null,
   "id": "0212fa66",
   "metadata": {},
   "outputs": [],
   "source": []
  },
  {
   "cell_type": "code",
   "execution_count": 65,
   "id": "d973a1ea",
   "metadata": {},
   "outputs": [
    {
     "name": "stdout",
     "output_type": "stream",
     "text": [
      "❗ no run & transform get linked, consider passing a `run` or calling ln.track()\n"
     ]
    }
   ],
   "source": [
    "file = ln.File(\n",
    "    '/mnt/c/Users/vale/Google Drive/Analysis/kinchen-2018/kinchen_c1_data.h5ad',\n",
    "    key = 'kinchen-2018/kinchen_c1_data.h5ad'\n",
    ")"
   ]
  },
  {
   "cell_type": "code",
   "execution_count": 66,
   "id": "cba369f0",
   "metadata": {},
   "outputs": [
    {
     "name": "stdout",
     "output_type": "stream",
     "text": [
      "... uploading kinchen_c1_data.h5ad: 1.00\n",
      "\r"
     ]
    }
   ],
   "source": [
    "file.save()"
   ]
  },
  {
   "cell_type": "code",
   "execution_count": null,
   "id": "9995f556",
   "metadata": {},
   "outputs": [],
   "source": []
  },
  {
   "cell_type": "code",
   "execution_count": 67,
   "id": "10b973d5",
   "metadata": {},
   "outputs": [
    {
     "name": "stdout",
     "output_type": "stream",
     "text": [
      "❗ no run & transform get linked, consider passing a `run` or calling ln.track()\n"
     ]
    }
   ],
   "source": [
    "file = ln.File(\n",
    "    '/mnt/c/Users/vale/Google Drive/Analysis/kinchen-2018/kinchen_human.h5ad',\n",
    "    key = 'kinchen-2018/kinchen_human.h5ad'\n",
    ")"
   ]
  },
  {
   "cell_type": "code",
   "execution_count": 68,
   "id": "815dbd94",
   "metadata": {},
   "outputs": [
    {
     "name": "stdout",
     "output_type": "stream",
     "text": [
      "... uploading kinchen_human.h5ad: 1.00\n",
      "\r"
     ]
    }
   ],
   "source": [
    "file.save()"
   ]
  },
  {
   "cell_type": "code",
   "execution_count": null,
   "id": "290e306c",
   "metadata": {},
   "outputs": [],
   "source": []
  },
  {
   "cell_type": "code",
   "execution_count": 69,
   "id": "128fe3bd",
   "metadata": {},
   "outputs": [
    {
     "name": "stdout",
     "output_type": "stream",
     "text": [
      "❗ no run & transform get linked, consider passing a `run` or calling ln.track()\n"
     ]
    }
   ],
   "source": [
    "file = ln.File(\n",
    "    '/mnt/c/Users/vale/Google Drive/Analysis/moffitt-et-al-2018/hypothalamic_GSE113576.h5ad',\n",
    "    key = 'moffitt-et-al-2018/hypothalamic_GSE113576.h5ad'\n",
    ")"
   ]
  },
  {
   "cell_type": "code",
   "execution_count": 70,
   "id": "c998d663",
   "metadata": {},
   "outputs": [
    {
     "name": "stdout",
     "output_type": "stream",
     "text": [
      "... uploading hypothalamic_GSE113576.h5ad: 1.00\n",
      "\r"
     ]
    }
   ],
   "source": [
    "file.save()"
   ]
  },
  {
   "cell_type": "code",
   "execution_count": null,
   "id": "dab9c671",
   "metadata": {},
   "outputs": [],
   "source": []
  },
  {
   "cell_type": "code",
   "execution_count": 71,
   "id": "b3845ce8",
   "metadata": {},
   "outputs": [
    {
     "name": "stdout",
     "output_type": "stream",
     "text": [
      "❗ no run & transform get linked, consider passing a `run` or calling ln.track()\n"
     ]
    }
   ],
   "source": [
    "file = ln.File(\n",
    "    '/mnt/c/Users/vale/Google Drive/Analysis/moffitt-et-al-2018/hypothalamic_merfish_combinatorial.h5ad',\n",
    "    key = 'moffitt-et-al-2018/hypothalamic_merfish_combinatorial.h5ad'\n",
    ")"
   ]
  },
  {
   "cell_type": "code",
   "execution_count": 72,
   "id": "39c5475d",
   "metadata": {},
   "outputs": [
    {
     "name": "stdout",
     "output_type": "stream",
     "text": [
      "... uploading hypothalamic_merfish_combinatorial.h5ad: 1.00\n",
      "\r"
     ]
    }
   ],
   "source": [
    "file.save()"
   ]
  },
  {
   "cell_type": "code",
   "execution_count": null,
   "id": "e71b162d",
   "metadata": {},
   "outputs": [],
   "source": []
  },
  {
   "cell_type": "code",
   "execution_count": 73,
   "id": "e4e9f1e6",
   "metadata": {},
   "outputs": [
    {
     "name": "stdout",
     "output_type": "stream",
     "text": [
      "❗ no run & transform get linked, consider passing a `run` or calling ln.track()\n",
      "❗ returning existing file with same hash: File(uid='S3AkMmSgE1RjRcBgrUxC', key='190523 mouse-embryo-atlas-2019/close_data.h5ad', suffix='.h5ad', accessor='AnnData', size=109882283, hash='Kk2V0AJ4PzADy-S8WqxEAZ', hash_type='sha1-fl', visibility=0, key_is_virtual=True, updated_at=2023-11-06 05:58:09, storage_id=1, created_by_id=1)\n"
     ]
    }
   ],
   "source": [
    "file = ln.File(\n",
    "    '/mnt/c/Users/vale/Google Drive/Analysis/mouse-embryo-atlas-2019/close_data.h5ad',\n",
    "    key = 'mouse-embryo-atlas-2019/close_data.h5ad'\n",
    ")"
   ]
  },
  {
   "cell_type": "code",
   "execution_count": 74,
   "id": "42769c91",
   "metadata": {},
   "outputs": [],
   "source": [
    "file.save()"
   ]
  },
  {
   "cell_type": "code",
   "execution_count": null,
   "id": "4f3735d3",
   "metadata": {},
   "outputs": [],
   "source": []
  },
  {
   "cell_type": "code",
   "execution_count": 75,
   "id": "2d52160f",
   "metadata": {},
   "outputs": [
    {
     "name": "stdout",
     "output_type": "stream",
     "text": [
      "❗ no run & transform get linked, consider passing a `run` or calling ln.track()\n",
      "❗ returning existing file with same hash: File(uid='09zz0M6SZKhM7rIbknWW', key='190523 mouse-embryo-atlas-2019/combined_atlas.h5ad', suffix='.h5ad', accessor='AnnData', size=4040036924, hash='Y0GkwZiUIVRKBe2qDHJAKa', hash_type='sha1-fl', visibility=0, key_is_virtual=True, updated_at=2023-11-06 06:01:43, storage_id=1, created_by_id=1)\n"
     ]
    }
   ],
   "source": [
    "file = ln.File(\n",
    "    '/mnt/c/Users/vale/Google Drive/Analysis/mouse-embryo-atlas-2019/combined_atlas.h5ad',\n",
    "    key = 'mouse-embryo-atlas-2019/combined_atlas.h5ad'\n",
    ")"
   ]
  },
  {
   "cell_type": "code",
   "execution_count": 76,
   "id": "abd267e7",
   "metadata": {},
   "outputs": [],
   "source": [
    "file.save()"
   ]
  },
  {
   "cell_type": "code",
   "execution_count": null,
   "id": "77573ac6",
   "metadata": {},
   "outputs": [],
   "source": []
  },
  {
   "cell_type": "code",
   "execution_count": 77,
   "id": "a434e722",
   "metadata": {},
   "outputs": [
    {
     "name": "stdout",
     "output_type": "stream",
     "text": [
      "❗ no run & transform get linked, consider passing a `run` or calling ln.track()\n"
     ]
    }
   ],
   "source": [
    "file = ln.File(\n",
    "    '/mnt/c/Users/vale/Google Drive/Analysis/starmap-2018/combinatorially_encoded/mpfc_160/20180417_BZ5_control.h5ad',\n",
    "    key = 'starmap-2018/combinatorially_encoded/mpfc_160/20180417_BZ5_control.h5ad'\n",
    ")"
   ]
  },
  {
   "cell_type": "code",
   "execution_count": 78,
   "id": "b303d7cc",
   "metadata": {},
   "outputs": [
    {
     "name": "stdout",
     "output_type": "stream",
     "text": [
      "... uploading 20180417_BZ5_control.h5ad: 1.00\n",
      "\r"
     ]
    }
   ],
   "source": [
    "file.save()"
   ]
  },
  {
   "cell_type": "code",
   "execution_count": null,
   "id": "6e4e05b3",
   "metadata": {},
   "outputs": [],
   "source": []
  },
  {
   "cell_type": "code",
   "execution_count": 79,
   "id": "edd1566a",
   "metadata": {},
   "outputs": [
    {
     "name": "stdout",
     "output_type": "stream",
     "text": [
      "❗ no run & transform get linked, consider passing a `run` or calling ln.track()\n"
     ]
    }
   ],
   "source": [
    "file = ln.File(\n",
    "    '/mnt/c/Users/vale/Google Drive/Analysis/starmap-2018/combinatorially_encoded/mpfc_160/20180419_BZ9_control.h5ad',\n",
    "    key = 'starmap-2018/combinatorially_encoded/mpfc_160/20180419_BZ9_control.h5ad'\n",
    ")"
   ]
  },
  {
   "cell_type": "code",
   "execution_count": 80,
   "id": "3d0e39ee",
   "metadata": {},
   "outputs": [
    {
     "name": "stdout",
     "output_type": "stream",
     "text": [
      "... uploading 20180419_BZ9_control.h5ad: 1.00\n",
      "\r"
     ]
    }
   ],
   "source": [
    "file.save()"
   ]
  },
  {
   "cell_type": "code",
   "execution_count": null,
   "id": "46dc11ec",
   "metadata": {},
   "outputs": [],
   "source": []
  },
  {
   "cell_type": "code",
   "execution_count": 81,
   "id": "3c609091",
   "metadata": {},
   "outputs": [
    {
     "name": "stdout",
     "output_type": "stream",
     "text": [
      "❗ no run & transform get linked, consider passing a `run` or calling ln.track()\n"
     ]
    }
   ],
   "source": [
    "file = ln.File(\n",
    "    '/mnt/c/Users/vale/Google Drive/Analysis/starmap-2018/combinatorially_encoded/mpfc_160/20180421_BZ19_cocaine.h5ad',\n",
    "    key = 'starmap-2018/combinatorially_encoded/mpfc_160/20180421_BZ19_cocaine.h5ad'\n",
    ")"
   ]
  },
  {
   "cell_type": "code",
   "execution_count": 82,
   "id": "473b3adf",
   "metadata": {},
   "outputs": [
    {
     "name": "stdout",
     "output_type": "stream",
     "text": [
      "... uploading 20180421_BZ19_cocaine.h5ad: 1.00\n",
      "\r"
     ]
    }
   ],
   "source": [
    "file.save()"
   ]
  },
  {
   "cell_type": "code",
   "execution_count": null,
   "id": "2c846134",
   "metadata": {},
   "outputs": [],
   "source": []
  },
  {
   "cell_type": "code",
   "execution_count": 84,
   "id": "0e36af26",
   "metadata": {},
   "outputs": [],
   "source": [
    "# file = ln.File(\n",
    "#     '/mnt/c/Users/vale/Google Drive/Analysis/starmap-2018/combinatorially_encoded/mpfc_160/20180424_BZ14_control.h5ad',\n",
    "#     key = 'starmap-2018/combinatorially_encoded/mpfc_160/20180424_BZ14_control.h5ad'\n",
    "# )"
   ]
  },
  {
   "cell_type": "code",
   "execution_count": null,
   "id": "e3f0f6fb",
   "metadata": {},
   "outputs": [],
   "source": []
  },
  {
   "cell_type": "code",
   "execution_count": null,
   "id": "a2294301",
   "metadata": {},
   "outputs": [],
   "source": []
  },
  {
   "cell_type": "code",
   "execution_count": null,
   "id": "c6217151",
   "metadata": {},
   "outputs": [],
   "source": []
  },
  {
   "cell_type": "code",
   "execution_count": null,
   "id": "df6b1676",
   "metadata": {},
   "outputs": [],
   "source": []
  },
  {
   "cell_type": "code",
   "execution_count": null,
   "id": "e569cf79",
   "metadata": {},
   "outputs": [],
   "source": []
  },
  {
   "cell_type": "code",
   "execution_count": null,
   "id": "8e93949b",
   "metadata": {},
   "outputs": [],
   "source": []
  },
  {
   "cell_type": "code",
   "execution_count": null,
   "id": "b9b05bba",
   "metadata": {},
   "outputs": [],
   "source": []
  },
  {
   "cell_type": "code",
   "execution_count": null,
   "id": "1f6b055b",
   "metadata": {},
   "outputs": [],
   "source": []
  },
  {
   "cell_type": "code",
   "execution_count": null,
   "id": "b090b39b",
   "metadata": {},
   "outputs": [],
   "source": []
  },
  {
   "cell_type": "code",
   "execution_count": null,
   "id": "06190fea",
   "metadata": {},
   "outputs": [],
   "source": []
  },
  {
   "cell_type": "code",
   "execution_count": null,
   "id": "3b09f140",
   "metadata": {},
   "outputs": [],
   "source": []
  },
  {
   "cell_type": "code",
   "execution_count": null,
   "id": "3b34145a",
   "metadata": {},
   "outputs": [],
   "source": []
  },
  {
   "cell_type": "code",
   "execution_count": null,
   "id": "d81f7985",
   "metadata": {},
   "outputs": [],
   "source": []
  },
  {
   "cell_type": "code",
   "execution_count": null,
   "id": "afca5434",
   "metadata": {},
   "outputs": [],
   "source": []
  },
  {
   "cell_type": "code",
   "execution_count": null,
   "id": "702ad438",
   "metadata": {},
   "outputs": [],
   "source": []
  },
  {
   "cell_type": "code",
   "execution_count": null,
   "id": "8614a190",
   "metadata": {},
   "outputs": [],
   "source": []
  },
  {
   "cell_type": "code",
   "execution_count": null,
   "id": "5609fdd2",
   "metadata": {},
   "outputs": [],
   "source": []
  },
  {
   "cell_type": "code",
   "execution_count": null,
   "id": "593cfc27",
   "metadata": {},
   "outputs": [],
   "source": []
  },
  {
   "cell_type": "code",
   "execution_count": null,
   "id": "2056681a",
   "metadata": {},
   "outputs": [],
   "source": []
  },
  {
   "cell_type": "code",
   "execution_count": null,
   "id": "d88f07eb",
   "metadata": {},
   "outputs": [],
   "source": []
  },
  {
   "cell_type": "code",
   "execution_count": null,
   "id": "0cc248ad",
   "metadata": {},
   "outputs": [],
   "source": []
  },
  {
   "cell_type": "code",
   "execution_count": null,
   "id": "ef5d4662",
   "metadata": {},
   "outputs": [],
   "source": []
  },
  {
   "cell_type": "code",
   "execution_count": null,
   "id": "313e14ab",
   "metadata": {},
   "outputs": [],
   "source": []
  },
  {
   "cell_type": "code",
   "execution_count": null,
   "id": "ee064529",
   "metadata": {},
   "outputs": [],
   "source": []
  },
  {
   "cell_type": "code",
   "execution_count": null,
   "id": "fef3c12f",
   "metadata": {},
   "outputs": [],
   "source": []
  }
 ],
 "metadata": {
  "kernelspec": {
   "display_name": "Python 3 (ipykernel)",
   "language": "python",
   "name": "python3"
  },
  "language_info": {
   "codemirror_mode": {
    "name": "ipython",
    "version": 3
   },
   "file_extension": ".py",
   "mimetype": "text/x-python",
   "name": "python",
   "nbconvert_exporter": "python",
   "pygments_lexer": "ipython3",
   "version": "3.10.11"
  }
 },
 "nbformat": 4,
 "nbformat_minor": 5
}
