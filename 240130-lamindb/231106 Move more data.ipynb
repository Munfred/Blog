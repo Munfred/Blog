{
 "cells": [
  {
   "cell_type": "code",
   "execution_count": 1,
   "id": "fd2e8edc",
   "metadata": {},
   "outputs": [
    {
     "name": "stdout",
     "output_type": "stream",
     "text": [
      "💡 loaded instance: vals/scrna (lamindb 0.59.3)\n"
     ]
    }
   ],
   "source": [
    "import glob\n",
    "\n",
    "import anndata\n",
    "import lamindb as ln\n",
    "import pandas as pd\n",
    "from tqdm import tqdm"
   ]
  },
  {
   "cell_type": "code",
   "execution_count": 2,
   "id": "ffff6bb5",
   "metadata": {},
   "outputs": [
    {
     "data": {
      "text/plain": [
       "S3Path('s3://vals-scrna/')"
      ]
     },
     "execution_count": 2,
     "metadata": {},
     "output_type": "execute_result"
    }
   ],
   "source": [
    "ln.settings.storage"
   ]
  },
  {
   "cell_type": "code",
   "execution_count": null,
   "id": "295c47c2",
   "metadata": {},
   "outputs": [],
   "source": []
  },
  {
   "cell_type": "code",
   "execution_count": 3,
   "id": "576b4e3d",
   "metadata": {},
   "outputs": [
    {
     "name": "stdout",
     "output_type": "stream",
     "text": [
      "❗ no run & transform get linked, consider passing a `run` or calling ln.track()\n"
     ]
    }
   ],
   "source": [
    "file = ln.File(\n",
    "    '/mnt/c/Users/vale/Google Drive/Analysis/starmap-2018/combinatorially_encoded/mpfc_160/20180424_BZ14_control.h5ad',\n",
    "    key = 'starmap-2018/combinatorially_encoded/mpfc_160/20180424_BZ14_control.h5ad'\n",
    ")"
   ]
  },
  {
   "cell_type": "code",
   "execution_count": 4,
   "id": "fdfaf579",
   "metadata": {},
   "outputs": [
    {
     "name": "stdout",
     "output_type": "stream",
     "text": [
      "... uploading 20180424_BZ14_control.h5ad: 1.00\n",
      "\r"
     ]
    }
   ],
   "source": [
    "file.save()"
   ]
  },
  {
   "cell_type": "code",
   "execution_count": null,
   "id": "4bde88df",
   "metadata": {},
   "outputs": [],
   "source": []
  },
  {
   "cell_type": "code",
   "execution_count": 5,
   "id": "577c10f3",
   "metadata": {},
   "outputs": [
    {
     "name": "stdout",
     "output_type": "stream",
     "text": [
      "❗ no run & transform get linked, consider passing a `run` or calling ln.track()\n"
     ]
    }
   ],
   "source": [
    "file = ln.File(\n",
    "    '/mnt/c/Users/vale/Google Drive/Analysis/starmap-2018/combinatorially_encoded/visual_1020/20180410-BY3_1kgenes.h5ad',\n",
    "    key = 'starmap-2018/combinatorially_encoded/visual_1020/20180410-BY3_1kgenes.h5ad'\n",
    ")"
   ]
  },
  {
   "cell_type": "code",
   "execution_count": 6,
   "id": "0644b667",
   "metadata": {},
   "outputs": [
    {
     "name": "stdout",
     "output_type": "stream",
     "text": [
      "... uploading 20180410-BY3_1kgenes.h5ad: 1.00\n",
      "\r"
     ]
    }
   ],
   "source": [
    "file.save()"
   ]
  },
  {
   "cell_type": "code",
   "execution_count": null,
   "id": "6a3d403e",
   "metadata": {},
   "outputs": [],
   "source": []
  },
  {
   "cell_type": "code",
   "execution_count": 7,
   "id": "63030036",
   "metadata": {},
   "outputs": [
    {
     "name": "stdout",
     "output_type": "stream",
     "text": [
      "❗ no run & transform get linked, consider passing a `run` or calling ln.track()\n"
     ]
    }
   ],
   "source": [
    "file = ln.File(\n",
    "    '/mnt/c/Users/vale/Google Drive/Analysis/starmap-2018/combinatorially_encoded/visual_1020/20180505_BY3_1kgenes.h5ad',\n",
    "    key = 'starmap-2018/combinatorially_encoded/visual_1020/20180505_BY3_1kgenes.h5ad'\n",
    ")"
   ]
  },
  {
   "cell_type": "code",
   "execution_count": 8,
   "id": "de22769d",
   "metadata": {},
   "outputs": [
    {
     "name": "stdout",
     "output_type": "stream",
     "text": [
      "... uploading 20180505_BY3_1kgenes.h5ad: 1.00\n",
      "\r"
     ]
    }
   ],
   "source": [
    "file.save()"
   ]
  },
  {
   "cell_type": "code",
   "execution_count": null,
   "id": "bd021bc3",
   "metadata": {},
   "outputs": [],
   "source": []
  },
  {
   "cell_type": "code",
   "execution_count": 9,
   "id": "a32ada49",
   "metadata": {},
   "outputs": [
    {
     "name": "stdout",
     "output_type": "stream",
     "text": [
      "❗ no run & transform get linked, consider passing a `run` or calling ln.track()\n"
     ]
    }
   ],
   "source": [
    "file = ln.File(\n",
    "    '/mnt/c/Users/vale/Google Drive/Analysis/starmap-2018/combinatorially_encoded/visual_160/20170915_BD2_dark.h5ad',\n",
    "    key = 'starmap-2018/combinatorially_encoded/visual_160/20170915_BD2_dark.h5ad'\n",
    ")"
   ]
  },
  {
   "cell_type": "code",
   "execution_count": 10,
   "id": "7274ed60",
   "metadata": {},
   "outputs": [
    {
     "name": "stdout",
     "output_type": "stream",
     "text": [
      "... uploading 20170915_BD2_dark.h5ad: 1.00\n",
      "\r"
     ]
    }
   ],
   "source": [
    "file.save()"
   ]
  },
  {
   "cell_type": "code",
   "execution_count": null,
   "id": "3168da89",
   "metadata": {},
   "outputs": [],
   "source": []
  },
  {
   "cell_type": "code",
   "execution_count": 11,
   "id": "08ae9715",
   "metadata": {},
   "outputs": [
    {
     "name": "stdout",
     "output_type": "stream",
     "text": [
      "❗ no run & transform get linked, consider passing a `run` or calling ln.track()\n"
     ]
    }
   ],
   "source": [
    "file = ln.File(\n",
    "    '/mnt/c/Users/vale/Google Drive/Analysis/starmap-2018/combinatorially_encoded/visual_160/20171110_BF2_dark.h5ad',\n",
    "    key = 'starmap-2018/combinatorially_encoded/visual_160/20171110_BF2_dark.h5ad'\n",
    ")"
   ]
  },
  {
   "cell_type": "code",
   "execution_count": 12,
   "id": "33f10fc3",
   "metadata": {},
   "outputs": [
    {
     "name": "stdout",
     "output_type": "stream",
     "text": [
      "... uploading 20171110_BF2_dark.h5ad: 1.00\n",
      "\r"
     ]
    }
   ],
   "source": [
    "file.save()"
   ]
  },
  {
   "cell_type": "code",
   "execution_count": null,
   "id": "19597e7d",
   "metadata": {},
   "outputs": [],
   "source": []
  },
  {
   "cell_type": "code",
   "execution_count": 13,
   "id": "0e2c5cda",
   "metadata": {},
   "outputs": [
    {
     "name": "stdout",
     "output_type": "stream",
     "text": [
      "❗ no run & transform get linked, consider passing a `run` or calling ln.track()\n"
     ]
    }
   ],
   "source": [
    "file = ln.File(\n",
    "    '/mnt/c/Users/vale/Google Drive/Analysis/starmap-2018/combinatorially_encoded/visual_160/20171115_BF5_light.h5ad',\n",
    "    key = 'starmap-2018/combinatorially_encoded/visual_160/20171115_BF5_light.h5ad'\n",
    ")"
   ]
  },
  {
   "cell_type": "code",
   "execution_count": 14,
   "id": "d663678e",
   "metadata": {},
   "outputs": [
    {
     "name": "stdout",
     "output_type": "stream",
     "text": [
      "... uploading 20171115_BF5_light.h5ad: 1.00\n",
      "\r"
     ]
    }
   ],
   "source": [
    "file.save()"
   ]
  },
  {
   "cell_type": "code",
   "execution_count": null,
   "id": "32862707",
   "metadata": {},
   "outputs": [],
   "source": []
  },
  {
   "cell_type": "code",
   "execution_count": 15,
   "id": "0ac1c392",
   "metadata": {},
   "outputs": [
    {
     "name": "stdout",
     "output_type": "stream",
     "text": [
      "❗ no run & transform get linked, consider passing a `run` or calling ln.track()\n"
     ]
    }
   ],
   "source": [
    "file = ln.File(\n",
    "    '/mnt/c/Users/vale/Google Drive/Analysis/starmap-2018/combinatorially_encoded/visual_160/20171120_BF4_light.h5ad',\n",
    "    key = 'starmap-2018/combinatorially_encoded/visual_160/20171120_BF4_light.h5ad'\n",
    ")"
   ]
  },
  {
   "cell_type": "code",
   "execution_count": 16,
   "id": "1a4a3db5",
   "metadata": {},
   "outputs": [
    {
     "name": "stdout",
     "output_type": "stream",
     "text": [
      "... uploading 20171120_BF4_light.h5ad: 1.00\n",
      "\r"
     ]
    }
   ],
   "source": [
    "file.save()"
   ]
  },
  {
   "cell_type": "code",
   "execution_count": null,
   "id": "008c1d27",
   "metadata": {},
   "outputs": [],
   "source": []
  },
  {
   "cell_type": "code",
   "execution_count": 17,
   "id": "6c52e14c",
   "metadata": {},
   "outputs": [
    {
     "name": "stdout",
     "output_type": "stream",
     "text": [
      "❗ no run & transform get linked, consider passing a `run` or calling ln.track()\n"
     ]
    }
   ],
   "source": [
    "file = ln.File(\n",
    "    '/mnt/c/Users/vale/Google Drive/Analysis/starmap-2018/sequentially_encoded/20180123_BS10_light.h5ad',\n",
    "    key = 'starmap-2018/sequentially_encoded/20180123_BS10_light.h5ad'\n",
    ")"
   ]
  },
  {
   "cell_type": "code",
   "execution_count": 18,
   "id": "36f85ab7",
   "metadata": {},
   "outputs": [
    {
     "name": "stdout",
     "output_type": "stream",
     "text": [
      "... uploading 20180123_BS10_light.h5ad: 1.00\n",
      "\r"
     ]
    }
   ],
   "source": [
    "file.save()"
   ]
  },
  {
   "cell_type": "code",
   "execution_count": 21,
   "id": "96197151",
   "metadata": {},
   "outputs": [],
   "source": [
    "ln.settings.verbosity = 'hint'"
   ]
  },
  {
   "cell_type": "code",
   "execution_count": null,
   "id": "172e616e",
   "metadata": {},
   "outputs": [],
   "source": []
  },
  {
   "cell_type": "code",
   "execution_count": 22,
   "id": "d75d70ce",
   "metadata": {},
   "outputs": [],
   "source": [
    "file_list = [\n",
    "    '/mnt/c/Users/vale/Google Drive/Analysis/tabula-muris-senis-2019/2019-06-Pisco-et-al-bioRxiv_Bladder_droplet.h5ad',\n",
    "    '/mnt/c/Users/vale/Google Drive/Analysis/tabula-muris-senis-2019/2019-06-Pisco-et-al-bioRxiv_Fat_droplet.h5ad',\n",
    "    '/mnt/c/Users/vale/Google Drive/Analysis/tabula-muris-senis-2019/2019-06-Pisco-et-al-bioRxiv_Heart_droplet.h5ad',\n",
    "    '/mnt/c/Users/vale/Google Drive/Analysis/tabula-muris-senis-2019/2019-06-Pisco-et-al-bioRxiv_Kidney_droplet.h5ad',\n",
    "    '/mnt/c/Users/vale/Google Drive/Analysis/tabula-muris-senis-2019/2019-06-Pisco-et-al-bioRxiv_Large_Intestine_droplet.h5ad',\n",
    "    '/mnt/c/Users/vale/Google Drive/Analysis/tabula-muris-senis-2019/2019-06-Pisco-et-al-bioRxiv_Limb_Muscle_droplet.h5ad',\n",
    "    '/mnt/c/Users/vale/Google Drive/Analysis/tabula-muris-senis-2019/2019-06-Pisco-et-al-bioRxiv_Liver_droplet.h5ad',\n",
    "    '/mnt/c/Users/vale/Google Drive/Analysis/tabula-muris-senis-2019/2019-06-Pisco-et-al-bioRxiv_Lung_droplet.h5ad',\n",
    "    '/mnt/c/Users/vale/Google Drive/Analysis/tabula-muris-senis-2019/2019-06-Pisco-et-al-bioRxiv_Mammary_Gland_droplet.h5ad',\n",
    "    '/mnt/c/Users/vale/Google Drive/Analysis/tabula-muris-senis-2019/2019-06-Pisco-et-al-bioRxiv_Marrow_droplet.h5ad',\n",
    "    '/mnt/c/Users/vale/Google Drive/Analysis/tabula-muris-senis-2019/2019-06-Pisco-et-al-bioRxiv_Pancreas_droplet.h5ad',\n",
    "    '/mnt/c/Users/vale/Google Drive/Analysis/tabula-muris-senis-2019/2019-06-Pisco-et-al-bioRxiv_Skin_droplet.h5ad',\n",
    "    '/mnt/c/Users/vale/Google Drive/Analysis/tabula-muris-senis-2019/2019-06-Pisco-et-al-bioRxiv_Spleen_droplet.h5ad',\n",
    "    '/mnt/c/Users/vale/Google Drive/Analysis/tabula-muris-senis-2019/2019-06-Pisco-et-al-bioRxiv_Thymus_droplet.h5ad',\n",
    "    '/mnt/c/Users/vale/Google Drive/Analysis/tabula-muris-senis-2019/2019-06-Pisco-et-al-bioRxiv_Tongue_droplet.h5ad',\n",
    "    '/mnt/c/Users/vale/Google Drive/Analysis/tabula-muris-senis-2019/2019-06-Pisco-et-al-bioRxiv_Trachea_droplet.h5ad',\n",
    "]"
   ]
  },
  {
   "cell_type": "code",
   "execution_count": 23,
   "id": "2f4f594c",
   "metadata": {},
   "outputs": [
    {
     "name": "stdout",
     "output_type": "stream",
     "text": [
      "/mnt/c/Users/vale/Google Drive/Analysis/tabula-muris-senis-2019/2019-06-Pisco-et-al-bioRxiv_Bladder_droplet.h5ad\n",
      "❗ no run & transform get linked, consider passing a `run` or calling ln.track()\n",
      "💡 file will be copied to default storage upon `save()` with key 'tabula-muris-senis-2019/2019-06-Pisco-et-al-bioRxiv_Bladder_droplet.h5ad'\n",
      "💡 data is AnnDataLike, consider using .from_anndata() to link var_names and obs.columns as features\n",
      "✅ storing file 'Utb7YR07wy2l25IETJI4' at 's3://vals-scrna/.lamindb/Utb7YR07wy2l25IETJI4.h5ad'\n",
      "... uploading 2019-06-Pisco-et-al-bioRxiv_Bladder_droplet.h5ad: 1.00\n",
      "/mnt/c/Users/vale/Google Drive/Analysis/tabula-muris-senis-2019/2019-06-Pisco-et-al-bioRxiv_Fat_droplet.h5ad\n",
      "❗ no run & transform get linked, consider passing a `run` or calling ln.track()\n",
      "💡 file will be copied to default storage upon `save()` with key 'tabula-muris-senis-2019/2019-06-Pisco-et-al-bioRxiv_Fat_droplet.h5ad'\n",
      "💡 data is AnnDataLike, consider using .from_anndata() to link var_names and obs.columns as features\n",
      "✅ storing file 'FnwIZiIys4lo9J1gQ466' at 's3://vals-scrna/.lamindb/FnwIZiIys4lo9J1gQ466.h5ad'\n",
      "... uploading 2019-06-Pisco-et-al-bioRxiv_Fat_droplet.h5ad: 1.00\n",
      "/mnt/c/Users/vale/Google Drive/Analysis/tabula-muris-senis-2019/2019-06-Pisco-et-al-bioRxiv_Heart_droplet.h5ad\n",
      "❗ no run & transform get linked, consider passing a `run` or calling ln.track()\n",
      "💡 file will be copied to default storage upon `save()` with key 'tabula-muris-senis-2019/2019-06-Pisco-et-al-bioRxiv_Heart_droplet.h5ad'\n",
      "💡 data is AnnDataLike, consider using .from_anndata() to link var_names and obs.columns as features\n",
      "✅ storing file 'tK6Jl5U7eAlyaIg8IBxj' at 's3://vals-scrna/.lamindb/tK6Jl5U7eAlyaIg8IBxj.h5ad'\n",
      "... uploading 2019-06-Pisco-et-al-bioRxiv_Heart_droplet.h5ad: 1.00\n",
      "/mnt/c/Users/vale/Google Drive/Analysis/tabula-muris-senis-2019/2019-06-Pisco-et-al-bioRxiv_Kidney_droplet.h5ad\n",
      "❗ no run & transform get linked, consider passing a `run` or calling ln.track()\n",
      "💡 file will be copied to default storage upon `save()` with key 'tabula-muris-senis-2019/2019-06-Pisco-et-al-bioRxiv_Kidney_droplet.h5ad'\n",
      "💡 data is AnnDataLike, consider using .from_anndata() to link var_names and obs.columns as features\n",
      "✅ storing file '0NaE7rmajiTjZ6NLTz41' at 's3://vals-scrna/.lamindb/0NaE7rmajiTjZ6NLTz41.h5ad'\n",
      "... uploading 2019-06-Pisco-et-al-bioRxiv_Kidney_droplet.h5ad: 1.00\n",
      "/mnt/c/Users/vale/Google Drive/Analysis/tabula-muris-senis-2019/2019-06-Pisco-et-al-bioRxiv_Large_Intestine_droplet.h5ad\n",
      "❗ no run & transform get linked, consider passing a `run` or calling ln.track()\n",
      "💡 file will be copied to default storage upon `save()` with key 'tabula-muris-senis-2019/2019-06-Pisco-et-al-bioRxiv_Large_Intestine_droplet.h5ad'\n",
      "💡 data is AnnDataLike, consider using .from_anndata() to link var_names and obs.columns as features\n",
      "✅ storing file 'PdiH0Ou1BMFJizpwhUHA' at 's3://vals-scrna/.lamindb/PdiH0Ou1BMFJizpwhUHA.h5ad'\n",
      "... uploading 2019-06-Pisco-et-al-bioRxiv_Large_Intestine_droplet.h5ad: 1.00\n",
      "/mnt/c/Users/vale/Google Drive/Analysis/tabula-muris-senis-2019/2019-06-Pisco-et-al-bioRxiv_Limb_Muscle_droplet.h5ad\n",
      "❗ no run & transform get linked, consider passing a `run` or calling ln.track()\n",
      "💡 file will be copied to default storage upon `save()` with key 'tabula-muris-senis-2019/2019-06-Pisco-et-al-bioRxiv_Limb_Muscle_droplet.h5ad'\n",
      "💡 data is AnnDataLike, consider using .from_anndata() to link var_names and obs.columns as features\n",
      "✅ storing file 'PxeoV3AF43UvnoZo8JZy' at 's3://vals-scrna/.lamindb/PxeoV3AF43UvnoZo8JZy.h5ad'\n",
      "... uploading 2019-06-Pisco-et-al-bioRxiv_Limb_Muscle_droplet.h5ad: 1.00\n",
      "/mnt/c/Users/vale/Google Drive/Analysis/tabula-muris-senis-2019/2019-06-Pisco-et-al-bioRxiv_Liver_droplet.h5ad\n",
      "❗ no run & transform get linked, consider passing a `run` or calling ln.track()\n",
      "💡 file will be copied to default storage upon `save()` with key 'tabula-muris-senis-2019/2019-06-Pisco-et-al-bioRxiv_Liver_droplet.h5ad'\n",
      "💡 data is AnnDataLike, consider using .from_anndata() to link var_names and obs.columns as features\n",
      "✅ storing file 'X2NdbGIMEULf9t5d1FLU' at 's3://vals-scrna/.lamindb/X2NdbGIMEULf9t5d1FLU.h5ad'\n",
      "... uploading 2019-06-Pisco-et-al-bioRxiv_Liver_droplet.h5ad: 1.00\n",
      "/mnt/c/Users/vale/Google Drive/Analysis/tabula-muris-senis-2019/2019-06-Pisco-et-al-bioRxiv_Lung_droplet.h5ad\n",
      "❗ no run & transform get linked, consider passing a `run` or calling ln.track()\n",
      "💡 file will be copied to default storage upon `save()` with key 'tabula-muris-senis-2019/2019-06-Pisco-et-al-bioRxiv_Lung_droplet.h5ad'\n",
      "💡 data is AnnDataLike, consider using .from_anndata() to link var_names and obs.columns as features\n",
      "✅ storing file '7ZuI9nlXbntzOJh1PPf4' at 's3://vals-scrna/.lamindb/7ZuI9nlXbntzOJh1PPf4.h5ad'\n",
      "... uploading 2019-06-Pisco-et-al-bioRxiv_Lung_droplet.h5ad: 1.00\n",
      "/mnt/c/Users/vale/Google Drive/Analysis/tabula-muris-senis-2019/2019-06-Pisco-et-al-bioRxiv_Mammary_Gland_droplet.h5ad\n",
      "❗ no run & transform get linked, consider passing a `run` or calling ln.track()\n",
      "💡 file will be copied to default storage upon `save()` with key 'tabula-muris-senis-2019/2019-06-Pisco-et-al-bioRxiv_Mammary_Gland_droplet.h5ad'\n",
      "💡 data is AnnDataLike, consider using .from_anndata() to link var_names and obs.columns as features\n",
      "✅ storing file 'x8nzi4Ano6oogo2MfbBP' at 's3://vals-scrna/.lamindb/x8nzi4Ano6oogo2MfbBP.h5ad'\n",
      "... uploading 2019-06-Pisco-et-al-bioRxiv_Mammary_Gland_droplet.h5ad: 1.00\n",
      "/mnt/c/Users/vale/Google Drive/Analysis/tabula-muris-senis-2019/2019-06-Pisco-et-al-bioRxiv_Marrow_droplet.h5ad\n",
      "❗ no run & transform get linked, consider passing a `run` or calling ln.track()\n",
      "💡 file will be copied to default storage upon `save()` with key 'tabula-muris-senis-2019/2019-06-Pisco-et-al-bioRxiv_Marrow_droplet.h5ad'\n",
      "💡 data is AnnDataLike, consider using .from_anndata() to link var_names and obs.columns as features\n",
      "✅ storing file 'jQKZjIaQ1QlSXRXw150T' at 's3://vals-scrna/.lamindb/jQKZjIaQ1QlSXRXw150T.h5ad'\n",
      "... uploading 2019-06-Pisco-et-al-bioRxiv_Marrow_droplet.h5ad: 1.00\n",
      "/mnt/c/Users/vale/Google Drive/Analysis/tabula-muris-senis-2019/2019-06-Pisco-et-al-bioRxiv_Pancreas_droplet.h5ad\n",
      "❗ no run & transform get linked, consider passing a `run` or calling ln.track()\n",
      "💡 file will be copied to default storage upon `save()` with key 'tabula-muris-senis-2019/2019-06-Pisco-et-al-bioRxiv_Pancreas_droplet.h5ad'\n",
      "💡 data is AnnDataLike, consider using .from_anndata() to link var_names and obs.columns as features\n",
      "✅ storing file '5cjFsTkY53JPDPcHwIlf' at 's3://vals-scrna/.lamindb/5cjFsTkY53JPDPcHwIlf.h5ad'\n",
      "... uploading 2019-06-Pisco-et-al-bioRxiv_Pancreas_droplet.h5ad: 1.00\n",
      "/mnt/c/Users/vale/Google Drive/Analysis/tabula-muris-senis-2019/2019-06-Pisco-et-al-bioRxiv_Skin_droplet.h5ad\n",
      "❗ no run & transform get linked, consider passing a `run` or calling ln.track()\n",
      "💡 file will be copied to default storage upon `save()` with key 'tabula-muris-senis-2019/2019-06-Pisco-et-al-bioRxiv_Skin_droplet.h5ad'\n",
      "💡 data is AnnDataLike, consider using .from_anndata() to link var_names and obs.columns as features\n",
      "✅ storing file 'dAnAOkj2UN5xIjndvy6h' at 's3://vals-scrna/.lamindb/dAnAOkj2UN5xIjndvy6h.h5ad'\n",
      "... uploading 2019-06-Pisco-et-al-bioRxiv_Skin_droplet.h5ad: 1.00\n",
      "/mnt/c/Users/vale/Google Drive/Analysis/tabula-muris-senis-2019/2019-06-Pisco-et-al-bioRxiv_Spleen_droplet.h5ad\n",
      "❗ no run & transform get linked, consider passing a `run` or calling ln.track()\n",
      "💡 file will be copied to default storage upon `save()` with key 'tabula-muris-senis-2019/2019-06-Pisco-et-al-bioRxiv_Spleen_droplet.h5ad'\n",
      "💡 data is AnnDataLike, consider using .from_anndata() to link var_names and obs.columns as features\n",
      "✅ storing file 'qMkOLOJSXj2zyU7J5xou' at 's3://vals-scrna/.lamindb/qMkOLOJSXj2zyU7J5xou.h5ad'\n",
      "... uploading 2019-06-Pisco-et-al-bioRxiv_Spleen_droplet.h5ad: 1.00\n",
      "/mnt/c/Users/vale/Google Drive/Analysis/tabula-muris-senis-2019/2019-06-Pisco-et-al-bioRxiv_Thymus_droplet.h5ad\n",
      "❗ no run & transform get linked, consider passing a `run` or calling ln.track()\n",
      "💡 file will be copied to default storage upon `save()` with key 'tabula-muris-senis-2019/2019-06-Pisco-et-al-bioRxiv_Thymus_droplet.h5ad'\n",
      "💡 data is AnnDataLike, consider using .from_anndata() to link var_names and obs.columns as features\n"
     ]
    },
    {
     "name": "stdout",
     "output_type": "stream",
     "text": [
      "✅ storing file 'zQdPEA2g5alEeafQ0dBO' at 's3://vals-scrna/.lamindb/zQdPEA2g5alEeafQ0dBO.h5ad'\n",
      "... uploading 2019-06-Pisco-et-al-bioRxiv_Thymus_droplet.h5ad: 1.00\n",
      "/mnt/c/Users/vale/Google Drive/Analysis/tabula-muris-senis-2019/2019-06-Pisco-et-al-bioRxiv_Tongue_droplet.h5ad\n",
      "❗ no run & transform get linked, consider passing a `run` or calling ln.track()\n",
      "💡 file will be copied to default storage upon `save()` with key 'tabula-muris-senis-2019/2019-06-Pisco-et-al-bioRxiv_Tongue_droplet.h5ad'\n",
      "💡 data is AnnDataLike, consider using .from_anndata() to link var_names and obs.columns as features\n",
      "✅ storing file 'Z512xiL8JlK30m9x25JJ' at 's3://vals-scrna/.lamindb/Z512xiL8JlK30m9x25JJ.h5ad'\n",
      "... uploading 2019-06-Pisco-et-al-bioRxiv_Tongue_droplet.h5ad: 1.00\n",
      "/mnt/c/Users/vale/Google Drive/Analysis/tabula-muris-senis-2019/2019-06-Pisco-et-al-bioRxiv_Trachea_droplet.h5ad\n",
      "❗ no run & transform get linked, consider passing a `run` or calling ln.track()\n",
      "💡 file will be copied to default storage upon `save()` with key 'tabula-muris-senis-2019/2019-06-Pisco-et-al-bioRxiv_Trachea_droplet.h5ad'\n",
      "💡 data is AnnDataLike, consider using .from_anndata() to link var_names and obs.columns as features\n",
      "✅ storing file 'JQMKFk26IHsSm6bxR4Ez' at 's3://vals-scrna/.lamindb/JQMKFk26IHsSm6bxR4Ez.h5ad'\n",
      "... uploading 2019-06-Pisco-et-al-bioRxiv_Trachea_droplet.h5ad: 1.00\n",
      "\r"
     ]
    }
   ],
   "source": [
    "for fname in file_list:\n",
    "    print(fname)\n",
    "    file = ln.File(fname, key = fname.replace('/mnt/c/Users/vale/Google Drive/Analysis/', ''))\n",
    "    file.save()"
   ]
  },
  {
   "cell_type": "code",
   "execution_count": null,
   "id": "13d104ad",
   "metadata": {},
   "outputs": [],
   "source": []
  },
  {
   "cell_type": "code",
   "execution_count": 24,
   "id": "233bae86",
   "metadata": {},
   "outputs": [
    {
     "name": "stdout",
     "output_type": "stream",
     "text": [
      "❗ no run & transform get linked, consider passing a `run` or calling ln.track()\n",
      "💡 file will be copied to default storage upon `save()` with key 'tabula-muris-senis-2019/Combined_dropet.h5ad'\n",
      "💡 data is AnnDataLike, consider using .from_anndata() to link var_names and obs.columns as features\n"
     ]
    }
   ],
   "source": [
    "file = ln.File(\n",
    "    '/mnt/c/Users/vale/Google Drive/Analysis/tabula-muris-senis-2019/Combined_dropet.h5ad',\n",
    "    key = 'tabula-muris-senis-2019/Combined_dropet.h5ad'\n",
    ")"
   ]
  },
  {
   "cell_type": "code",
   "execution_count": 25,
   "id": "2a371b98",
   "metadata": {},
   "outputs": [
    {
     "name": "stdout",
     "output_type": "stream",
     "text": [
      "✅ storing file '7I8iIf9ckTygLXlXDh6h' at 's3://vals-scrna/.lamindb/7I8iIf9ckTygLXlXDh6h.h5ad'\n",
      "... uploading Combined_dropet.h5ad: 1.00\n",
      "\r"
     ]
    }
   ],
   "source": [
    "file.save()"
   ]
  },
  {
   "cell_type": "code",
   "execution_count": null,
   "id": "28d93080",
   "metadata": {},
   "outputs": [],
   "source": []
  },
  {
   "cell_type": "code",
   "execution_count": 26,
   "id": "2f77c42f",
   "metadata": {},
   "outputs": [
    {
     "name": "stdout",
     "output_type": "stream",
     "text": [
      "❗ no run & transform get linked, consider passing a `run` or calling ln.track()\n",
      "💡 file will be copied to default storage upon `save()` with key 'tcells-5p-3p-2018/tcells.h5ad'\n",
      "💡 data is AnnDataLike, consider using .from_anndata() to link var_names and obs.columns as features\n"
     ]
    }
   ],
   "source": [
    "file = ln.File(\n",
    "    '/mnt/c/Users/vale/Google Drive/Analysis/tcells-5p-3p-2018/tcells.h5ad',\n",
    "    key = 'tcells-5p-3p-2018/tcells.h5ad'\n",
    ")"
   ]
  },
  {
   "cell_type": "code",
   "execution_count": 27,
   "id": "c71eab91",
   "metadata": {},
   "outputs": [
    {
     "name": "stdout",
     "output_type": "stream",
     "text": [
      "✅ storing file 'CeRopCROmBeqGofydrEF' at 's3://vals-scrna/.lamindb/CeRopCROmBeqGofydrEF.h5ad'\n",
      "... uploading tcells.h5ad: 1.00\n",
      "\r"
     ]
    }
   ],
   "source": [
    "file.save()"
   ]
  },
  {
   "cell_type": "code",
   "execution_count": null,
   "id": "525b57b5",
   "metadata": {},
   "outputs": [],
   "source": []
  },
  {
   "cell_type": "code",
   "execution_count": 28,
   "id": "98ff2c02",
   "metadata": {},
   "outputs": [
    {
     "name": "stdout",
     "output_type": "stream",
     "text": [
      "❗ no run & transform get linked, consider passing a `run` or calling ln.track()\n",
      "💡 file will be copied to default storage upon `save()` with key 'GSE76983/GSE76983_bone_marrow.h5ad'\n",
      "💡 data is AnnDataLike, consider using .from_anndata() to link var_names and obs.columns as features\n"
     ]
    }
   ],
   "source": [
    "file = ln.File(\n",
    "    '/mnt/c/Users/vale/Google Drive/Blog/200502 - d - SpatialDE on physically interacting single cells/GSE76983_bone_marrow.h5ad',\n",
    "    key = 'GSE76983/GSE76983_bone_marrow.h5ad'\n",
    ")"
   ]
  },
  {
   "cell_type": "code",
   "execution_count": 29,
   "id": "c40a0593",
   "metadata": {},
   "outputs": [
    {
     "name": "stdout",
     "output_type": "stream",
     "text": [
      "✅ storing file 'LpuJaGtryWq2wcEfAayY' at 's3://vals-scrna/.lamindb/LpuJaGtryWq2wcEfAayY.h5ad'\n",
      "... uploading GSE76983_bone_marrow.h5ad: 1.00\n",
      "\r"
     ]
    }
   ],
   "source": [
    "file.save()"
   ]
  },
  {
   "cell_type": "code",
   "execution_count": null,
   "id": "2f820969",
   "metadata": {},
   "outputs": [],
   "source": []
  },
  {
   "cell_type": "code",
   "execution_count": 30,
   "id": "4df49e1d",
   "metadata": {},
   "outputs": [
    {
     "name": "stdout",
     "output_type": "stream",
     "text": [
      "❗ no run & transform get linked, consider passing a `run` or calling ln.track()\n",
      "💡 file will be copied to default storage upon `save()` with key 'Smillie et al Cell 2019/combined.h5ad'\n",
      "💡 data is AnnDataLike, consider using .from_anndata() to link var_names and obs.columns as features\n"
     ]
    }
   ],
   "source": [
    "file = ln.File(\n",
    "    '/mnt/c/Users/vale/Google Drive/Blog/200717 - d - Summed poissons/Smillie et al Cell 2019/combined.h5ad',\n",
    "    key = 'Smillie et al Cell 2019/combined.h5ad'\n",
    ")"
   ]
  },
  {
   "cell_type": "code",
   "execution_count": 31,
   "id": "43469227",
   "metadata": {},
   "outputs": [
    {
     "name": "stdout",
     "output_type": "stream",
     "text": [
      "✅ storing file 'RjM3pkqsPK5NZTHf8ELY' at 's3://vals-scrna/.lamindb/RjM3pkqsPK5NZTHf8ELY.h5ad'\n",
      "... uploading combined.h5ad: 1.00\n",
      "\r"
     ]
    }
   ],
   "source": [
    "file.save()"
   ]
  },
  {
   "cell_type": "code",
   "execution_count": null,
   "id": "c223ed87",
   "metadata": {},
   "outputs": [],
   "source": []
  },
  {
   "cell_type": "code",
   "execution_count": 32,
   "id": "3240435f",
   "metadata": {},
   "outputs": [
    {
     "name": "stdout",
     "output_type": "stream",
     "text": [
      "❗ no run & transform get linked, consider passing a `run` or calling ln.track()\n",
      "💡 file will be copied to default storage upon `save()` with key 'GSE102827/GSE102827_merged_all_raw.h5ad'\n",
      "💡 data is AnnDataLike, consider using .from_anndata() to link var_names and obs.columns as features\n"
     ]
    }
   ],
   "source": [
    "file = ln.File(\n",
    "    '/mnt/c/Users/vale/Google Drive/Blog/200909 - A trip through scVI/GSE102827_merged_all_raw.h5ad',\n",
    "    key = 'GSE102827/GSE102827_merged_all_raw.h5ad'\n",
    ")"
   ]
  },
  {
   "cell_type": "code",
   "execution_count": 33,
   "id": "b8189f9a",
   "metadata": {},
   "outputs": [
    {
     "name": "stdout",
     "output_type": "stream",
     "text": [
      "✅ storing file '2pEwFSQ6kCUuyQiyTB8v' at 's3://vals-scrna/.lamindb/2pEwFSQ6kCUuyQiyTB8v.h5ad'\n",
      "... uploading GSE102827_merged_all_raw.h5ad: 1.00\n",
      "\r"
     ]
    }
   ],
   "source": [
    "file.save()"
   ]
  },
  {
   "cell_type": "code",
   "execution_count": null,
   "id": "fe6d110f",
   "metadata": {},
   "outputs": [],
   "source": []
  },
  {
   "cell_type": "code",
   "execution_count": 34,
   "id": "efba7474",
   "metadata": {},
   "outputs": [
    {
     "name": "stdout",
     "output_type": "stream",
     "text": [
      "❗ no run & transform get linked, consider passing a `run` or calling ln.track()\n",
      "❗ returning existing file with same hash: File(uid='RjM3pkqsPK5NZTHf8ELY', key='Smillie et al Cell 2019/combined.h5ad', suffix='.h5ad', accessor='AnnData', size=3121708476, hash='6NYD4W98Q-kjYvWX5Lb54A', hash_type='sha1-fl', visibility=0, key_is_virtual=True, updated_at=2023-11-07 04:35:23, storage_id=1, created_by_id=1)\n"
     ]
    }
   ],
   "source": [
    "file = ln.File(\n",
    "    '/mnt/c/Users/vale/Google Drive/Blog/201111 - Cell count regression/Smillie et al Cell 2019/combined.h5ad',\n",
    "    key = 'Smillie et al Cell 2019/combined2.h5ad'\n",
    ")"
   ]
  },
  {
   "cell_type": "code",
   "execution_count": null,
   "id": "225d39b2",
   "metadata": {},
   "outputs": [],
   "source": []
  },
  {
   "cell_type": "code",
   "execution_count": 35,
   "id": "0f16a8e4",
   "metadata": {},
   "outputs": [
    {
     "name": "stdout",
     "output_type": "stream",
     "text": [
      "❗ no run & transform get linked, consider passing a `run` or calling ln.track()\n",
      "💡 file will be copied to default storage upon `save()` with key 'GSE125527/20128_GSE125527.h5ad'\n",
      "💡 data is AnnDataLike, consider using .from_anndata() to link var_names and obs.columns as features\n"
     ]
    }
   ],
   "source": [
    "file = ln.File(\n",
    "    '/mnt/c/Users/vale/Google Drive/Blog/201226 - Disappointing VI for GLMMs/20128_GSE125527.h5ad',\n",
    "    key = 'GSE125527/20128_GSE125527.h5ad'\n",
    ")"
   ]
  },
  {
   "cell_type": "code",
   "execution_count": 36,
   "id": "838cb167",
   "metadata": {},
   "outputs": [
    {
     "name": "stdout",
     "output_type": "stream",
     "text": [
      "✅ storing file 'zvboQHYegVZhPj2PKpu1' at 's3://vals-scrna/.lamindb/zvboQHYegVZhPj2PKpu1.h5ad'\n",
      "... uploading 20128_GSE125527.h5ad: 1.00\n",
      "\r"
     ]
    }
   ],
   "source": [
    "file.save()"
   ]
  },
  {
   "cell_type": "code",
   "execution_count": null,
   "id": "6a5c93da",
   "metadata": {},
   "outputs": [],
   "source": []
  },
  {
   "cell_type": "code",
   "execution_count": 37,
   "id": "4221ac75",
   "metadata": {},
   "outputs": [
    {
     "name": "stdout",
     "output_type": "stream",
     "text": [
      "❗ no run & transform get linked, consider passing a `run` or calling ln.track()\n",
      "💡 file will be copied to default storage upon `save()` with key 'Boland et al/GSE125527.h5ad'\n",
      "💡 data is AnnDataLike, consider using .from_anndata() to link var_names and obs.columns as features\n"
     ]
    }
   ],
   "source": [
    "file = ln.File(\n",
    "    '/mnt/c/Users/vale/Google Drive/Blog/201226 - Disappointing VI for GLMMs/Boland et al/GSE125527.h5ad',\n",
    "    key = 'Boland et al/GSE125527.h5ad'\n",
    ")"
   ]
  },
  {
   "cell_type": "code",
   "execution_count": 38,
   "id": "965cc7c4",
   "metadata": {},
   "outputs": [
    {
     "name": "stdout",
     "output_type": "stream",
     "text": [
      "✅ storing file 'UWETAZbzAURlLQCyTV1d' at 's3://vals-scrna/.lamindb/UWETAZbzAURlLQCyTV1d.h5ad'\n",
      "... uploading GSE125527.h5ad: 1.00\n",
      "\r"
     ]
    }
   ],
   "source": [
    "file.save()"
   ]
  },
  {
   "cell_type": "code",
   "execution_count": null,
   "id": "c741fe3c",
   "metadata": {},
   "outputs": [],
   "source": []
  },
  {
   "cell_type": "code",
   "execution_count": 39,
   "id": "9a9b22cc",
   "metadata": {},
   "outputs": [
    {
     "name": "stdout",
     "output_type": "stream",
     "text": [
      "❗ no run & transform get linked, consider passing a `run` or calling ln.track()\n",
      "💡 file will be copied to default storage upon `save()` with key 'ubfest/gutenberg_paragraphs0117.h5ad'\n",
      "💡 data is AnnDataLike, consider using .from_anndata() to link var_names and obs.columns as features\n"
     ]
    }
   ],
   "source": [
    "file = ln.File(\n",
    "    '/mnt/c/Users/vale/Google Drive/Blog/201229 - d - Opinions on countries/ubfest/gutenberg_paragraphs0117.h5ad',\n",
    "    key = 'ubfest/gutenberg_paragraphs0117.h5ad'\n",
    ")"
   ]
  },
  {
   "cell_type": "code",
   "execution_count": 40,
   "id": "8eef0660",
   "metadata": {},
   "outputs": [
    {
     "name": "stdout",
     "output_type": "stream",
     "text": [
      "✅ storing file 'iGcbLXwRlpKQoJdirOeX' at 's3://vals-scrna/.lamindb/iGcbLXwRlpKQoJdirOeX.h5ad'\n",
      "... uploading gutenberg_paragraphs0117.h5ad: 1.00\n",
      "\r"
     ]
    }
   ],
   "source": [
    "file.save()"
   ]
  },
  {
   "cell_type": "code",
   "execution_count": null,
   "id": "9a31ea70",
   "metadata": {},
   "outputs": [],
   "source": []
  },
  {
   "cell_type": "code",
   "execution_count": 41,
   "id": "6b2d22a9",
   "metadata": {},
   "outputs": [
    {
     "name": "stdout",
     "output_type": "stream",
     "text": [
      "❗ no run & transform get linked, consider passing a `run` or calling ln.track()\n",
      "💡 file will be copied to default storage upon `save()` with key 'ubfest/gutenberg_sentences.h5ad'\n",
      "💡 data is AnnDataLike, consider using .from_anndata() to link var_names and obs.columns as features\n"
     ]
    }
   ],
   "source": [
    "file = ln.File(\n",
    "    '/mnt/c/Users/vale/Google Drive/Blog/201229 - d - Opinions on countries/ubfest/gutenberg_sentences.h5ad',\n",
    "    key = 'ubfest/gutenberg_sentences.h5ad'\n",
    ")"
   ]
  },
  {
   "cell_type": "code",
   "execution_count": 42,
   "id": "07191246",
   "metadata": {},
   "outputs": [
    {
     "name": "stdout",
     "output_type": "stream",
     "text": [
      "✅ storing file 'PtOjO6Qs4N0I4RD0Ydpk' at 's3://vals-scrna/.lamindb/PtOjO6Qs4N0I4RD0Ydpk.h5ad'\n",
      "... uploading gutenberg_sentences.h5ad: 1.00\n",
      "\r"
     ]
    }
   ],
   "source": [
    "file.save()"
   ]
  },
  {
   "cell_type": "code",
   "execution_count": null,
   "id": "f838d454",
   "metadata": {},
   "outputs": [],
   "source": []
  },
  {
   "cell_type": "code",
   "execution_count": 43,
   "id": "c5919d4f",
   "metadata": {},
   "outputs": [
    {
     "name": "stdout",
     "output_type": "stream",
     "text": [
      "❗ no run & transform get linked, consider passing a `run` or calling ln.track()\n",
      "💡 file will be copied to default storage upon `save()` with key 'GSE153697/GSE153697.h5ad'\n",
      "💡 data is AnnDataLike, consider using .from_anndata() to link var_names and obs.columns as features\n"
     ]
    }
   ],
   "source": [
    "file = ln.File(\n",
    "    '/mnt/c/Users/vale/Google Drive/Blog/210116 - d - Demultiplexing hashtags with scVI/GSE153697.h5ad',\n",
    "    key = 'GSE153697/GSE153697.h5ad'\n",
    ")"
   ]
  },
  {
   "cell_type": "code",
   "execution_count": 44,
   "id": "fb5e7fcd",
   "metadata": {},
   "outputs": [
    {
     "name": "stdout",
     "output_type": "stream",
     "text": [
      "✅ storing file '7o16jOhgZZ4T1hzSAsZ1' at 's3://vals-scrna/.lamindb/7o16jOhgZZ4T1hzSAsZ1.h5ad'\n",
      "... uploading GSE153697.h5ad: 1.00\n",
      "\r"
     ]
    }
   ],
   "source": [
    "file.save()"
   ]
  },
  {
   "cell_type": "code",
   "execution_count": null,
   "id": "dd2943a8",
   "metadata": {},
   "outputs": [],
   "source": []
  },
  {
   "cell_type": "code",
   "execution_count": 45,
   "id": "659cf69b",
   "metadata": {},
   "outputs": [
    {
     "name": "stdout",
     "output_type": "stream",
     "text": [
      "❗ no run & transform get linked, consider passing a `run` or calling ln.track()\n",
      "💡 file will be copied to default storage upon `save()` with key 'Ren et al 2021/GSE158055_covid19_meta.h5ad'\n",
      "💡 data is AnnDataLike, consider using .from_anndata() to link var_names and obs.columns as features\n"
     ]
    }
   ],
   "source": [
    "file = ln.File(\n",
    "    '/mnt/c/Users/vale/Google Drive/Blog/220308 - VAEs are explainable - DE in scVI/Ren et al 2021/GSE158055_covid19_meta.h5ad',\n",
    "    key = 'Ren et al 2021/GSE158055_covid19_meta.h5ad'\n",
    ")"
   ]
  },
  {
   "cell_type": "code",
   "execution_count": 46,
   "id": "51bd19ac",
   "metadata": {},
   "outputs": [
    {
     "name": "stdout",
     "output_type": "stream",
     "text": [
      "✅ storing file 'e8xobDD4Vjlh0AaqEVd6' at 's3://vals-scrna/.lamindb/e8xobDD4Vjlh0AaqEVd6.h5ad'\n",
      "... uploading GSE158055_covid19_meta.h5ad: 1.00\n",
      "\r"
     ]
    }
   ],
   "source": [
    "file.save()"
   ]
  },
  {
   "cell_type": "code",
   "execution_count": null,
   "id": "c4a2407c",
   "metadata": {},
   "outputs": [],
   "source": []
  },
  {
   "cell_type": "code",
   "execution_count": 47,
   "id": "de158c99",
   "metadata": {},
   "outputs": [
    {
     "name": "stdout",
     "output_type": "stream",
     "text": [
      "❗ no run & transform get linked, consider passing a `run` or calling ln.track()\n",
      "💡 file will be copied to default storage upon `save()` with key 'Ren et al 2021/GSE158055_covid19_meta_S-M040-1_pbmcs.h5ad'\n",
      "💡 data is AnnDataLike, consider using .from_anndata() to link var_names and obs.columns as features\n"
     ]
    }
   ],
   "source": [
    "file = ln.File(\n",
    "    '/mnt/c/Users/vale/Google Drive/Blog/220308 - VAEs are explainable - DE in scVI/Ren et al 2021/GSE158055_covid19_meta_S-M040-1_pbmcs.h5ad',\n",
    "    key = 'Ren et al 2021/GSE158055_covid19_meta_S-M040-1_pbmcs.h5ad'\n",
    ")"
   ]
  },
  {
   "cell_type": "code",
   "execution_count": 48,
   "id": "cf6ae816",
   "metadata": {},
   "outputs": [
    {
     "name": "stdout",
     "output_type": "stream",
     "text": [
      "✅ storing file '0c1Iv0vA8YNXz0zYOIcK' at 's3://vals-scrna/.lamindb/0c1Iv0vA8YNXz0zYOIcK.h5ad'\n",
      "... uploading GSE158055_covid19_meta_S-M040-1_pbmcs.h5ad: 1.00\n",
      "\r"
     ]
    }
   ],
   "source": [
    "file.save()"
   ]
  },
  {
   "cell_type": "code",
   "execution_count": null,
   "id": "75267edb",
   "metadata": {},
   "outputs": [],
   "source": []
  },
  {
   "cell_type": "code",
   "execution_count": 49,
   "id": "dded803e",
   "metadata": {},
   "outputs": [
    {
     "name": "stdout",
     "output_type": "stream",
     "text": [
      "❗ no run & transform get linked, consider passing a `run` or calling ln.track()\n",
      "💡 file will be copied to default storage upon `save()` with key 'Stephenson et al 2021/local.h5ad'\n",
      "💡 data is AnnDataLike, consider using .from_anndata() to link var_names and obs.columns as features\n"
     ]
    }
   ],
   "source": [
    "file = ln.File(\n",
    "    '/mnt/c/Users/vale/Google Drive/Blog/220308 - VAEs are explainable - DE in scVI/Stephenson et al 2021/local.h5ad',\n",
    "    key = 'Stephenson et al 2021/local.h5ad'\n",
    ")"
   ]
  },
  {
   "cell_type": "code",
   "execution_count": 50,
   "id": "a12d0b12",
   "metadata": {},
   "outputs": [
    {
     "name": "stdout",
     "output_type": "stream",
     "text": [
      "✅ storing file 'oWJjwuOBwUnwSEOgGgWT' at 's3://vals-scrna/.lamindb/oWJjwuOBwUnwSEOgGgWT.h5ad'\n",
      "... uploading local.h5ad: 1.00\n",
      "\r"
     ]
    }
   ],
   "source": [
    "file.save()"
   ]
  },
  {
   "cell_type": "code",
   "execution_count": null,
   "id": "efee5342",
   "metadata": {},
   "outputs": [],
   "source": []
  },
  {
   "cell_type": "code",
   "execution_count": 51,
   "id": "7cdbec4a",
   "metadata": {},
   "outputs": [
    {
     "name": "stdout",
     "output_type": "stream",
     "text": [
      "❗ no run & transform get linked, consider passing a `run` or calling ln.track()\n",
      "💡 file will be copied to default storage upon `save()` with key 'Stephenson et al 2021/sample_MH9143427.h5ad'\n",
      "💡 data is AnnDataLike, consider using .from_anndata() to link var_names and obs.columns as features\n"
     ]
    }
   ],
   "source": [
    "file = ln.File(\n",
    "    '/mnt/c/Users/vale/Google Drive/Blog/220308 - VAEs are explainable - DE in scVI/Stephenson et al 2021/sample_MH9143427.h5ad',\n",
    "    key = 'Stephenson et al 2021/sample_MH9143427.h5ad'\n",
    ")"
   ]
  },
  {
   "cell_type": "code",
   "execution_count": 52,
   "id": "c2cf25ca",
   "metadata": {},
   "outputs": [
    {
     "name": "stdout",
     "output_type": "stream",
     "text": [
      "✅ storing file 'cUVSLbbdbvRGorSB08rf' at 's3://vals-scrna/.lamindb/cUVSLbbdbvRGorSB08rf.h5ad'\n",
      "... uploading sample_MH9143427.h5ad: 1.00\n",
      "\r"
     ]
    }
   ],
   "source": [
    "file.save()"
   ]
  },
  {
   "cell_type": "code",
   "execution_count": null,
   "id": "99f1bf97",
   "metadata": {},
   "outputs": [],
   "source": []
  },
  {
   "cell_type": "code",
   "execution_count": 53,
   "id": "583c0eea",
   "metadata": {},
   "outputs": [
    {
     "name": "stdout",
     "output_type": "stream",
     "text": [
      "❗ no run & transform get linked, consider passing a `run` or calling ln.track()\n",
      "❗ returning existing file with same hash: File(uid='0c1Iv0vA8YNXz0zYOIcK', key='Ren et al 2021/GSE158055_covid19_meta_S-M040-1_pbmcs.h5ad', suffix='.h5ad', accessor='AnnData', size=148766109, hash='vSdYsesQOcDb2O95nlyVqf', hash_type='sha1-fl', visibility=0, key_is_virtual=True, updated_at=2023-11-07 05:06:11, storage_id=1, created_by_id=1)\n"
     ]
    }
   ],
   "source": [
    "file = ln.File(\n",
    "    '/mnt/c/Users/vale/Google Drive/Blog/230524 - Effect of binomial thinning on VAE encoding/Ren et al 2021/GSE158055_covid19_meta_S-M040-1_pbmcs.h5ad',\n",
    "    key = 'Ren et al 2021/GSE158055_covid19_meta_S-M040-1_pbmcs2.h5ad'\n",
    ")"
   ]
  },
  {
   "cell_type": "code",
   "execution_count": null,
   "id": "8c45e02e",
   "metadata": {},
   "outputs": [],
   "source": []
  },
  {
   "cell_type": "code",
   "execution_count": 54,
   "id": "16865228",
   "metadata": {},
   "outputs": [
    {
     "name": "stdout",
     "output_type": "stream",
     "text": [
      "❗ no run & transform get linked, consider passing a `run` or calling ln.track()\n",
      "💡 file will be copied to default storage upon `save()` with key 'imyoo/DET.h5ad'\n",
      "💡 data is AnnDataLike, consider using .from_anndata() to link var_names and obs.columns as features\n"
     ]
    }
   ],
   "source": [
    "file = ln.File(\n",
    "    '/mnt/c/Users/vale/Google Drive/Blog/230609- scHPL tutorial/DET.h5ad',\n",
    "    key = 'imyoo/DET.h5ad'\n",
    ")"
   ]
  },
  {
   "cell_type": "code",
   "execution_count": 55,
   "id": "676d7754",
   "metadata": {},
   "outputs": [
    {
     "name": "stdout",
     "output_type": "stream",
     "text": [
      "✅ storing file 'ofwspX6ueDenxSnPBvk3' at 's3://vals-scrna/.lamindb/ofwspX6ueDenxSnPBvk3.h5ad'\n",
      "... uploading DET.h5ad: 1.00\n",
      "\r"
     ]
    }
   ],
   "source": [
    "file.save()"
   ]
  },
  {
   "cell_type": "code",
   "execution_count": null,
   "id": "cb54d328",
   "metadata": {},
   "outputs": [],
   "source": []
  },
  {
   "cell_type": "code",
   "execution_count": 56,
   "id": "b59fa5c8",
   "metadata": {},
   "outputs": [
    {
     "name": "stdout",
     "output_type": "stream",
     "text": [
      "❗ no run & transform get linked, consider passing a `run` or calling ln.track()\n",
      "💡 file will be copied to default storage upon `save()` with key 'GSE213516/GSE213516.h5ad'\n",
      "💡 data is AnnDataLike, consider using .from_anndata() to link var_names and obs.columns as features\n"
     ]
    }
   ],
   "source": [
    "file = ln.File(\n",
    "    '/mnt/c/Users/vale/Google Drive/Blog/230813 - Animate posterior scVI predictions over epochs/GSE213516.h5ad',\n",
    "    key = 'GSE213516/GSE213516.h5ad'\n",
    ")"
   ]
  },
  {
   "cell_type": "code",
   "execution_count": 57,
   "id": "e8917a06",
   "metadata": {},
   "outputs": [
    {
     "name": "stdout",
     "output_type": "stream",
     "text": [
      "✅ storing file 'IsvltRxOI6t4reakU3L9' at 's3://vals-scrna/.lamindb/IsvltRxOI6t4reakU3L9.h5ad'\n",
      "... uploading GSE213516.h5ad: 1.00\n",
      "\r"
     ]
    }
   ],
   "source": [
    "file.save()"
   ]
  },
  {
   "cell_type": "code",
   "execution_count": null,
   "id": "c8b5ed64",
   "metadata": {},
   "outputs": [],
   "source": []
  },
  {
   "cell_type": "code",
   "execution_count": 58,
   "id": "9e6d0d20",
   "metadata": {},
   "outputs": [
    {
     "name": "stdout",
     "output_type": "stream",
     "text": [
      "❗ no run & transform get linked, consider passing a `run` or calling ln.track()\n",
      "💡 file will be copied to default storage upon `save()` with key 'GSE214695/GSE214695.h5ad'\n",
      "💡 data is AnnDataLike, consider using .from_anndata() to link var_names and obs.columns as features\n"
     ]
    }
   ],
   "source": [
    "file = ln.File(\n",
    "    '/mnt/c/Users/vale/Google Drive/Blog/230905 - Fraction counts outside CI vs reconstuction error over epochs/GSE214695.h5ad',\n",
    "    key = 'GSE214695/GSE214695.h5ad'\n",
    ")"
   ]
  },
  {
   "cell_type": "code",
   "execution_count": 59,
   "id": "eb83fc87",
   "metadata": {},
   "outputs": [
    {
     "name": "stdout",
     "output_type": "stream",
     "text": [
      "✅ storing file 'H3ehA0VQNEqgOaex2LcG' at 's3://vals-scrna/.lamindb/H3ehA0VQNEqgOaex2LcG.h5ad'\n",
      "... uploading GSE214695.h5ad: 1.00\n",
      "\r"
     ]
    }
   ],
   "source": [
    "file.save()"
   ]
  },
  {
   "cell_type": "code",
   "execution_count": null,
   "id": "3dcf2727",
   "metadata": {},
   "outputs": [],
   "source": []
  },
  {
   "cell_type": "code",
   "execution_count": 60,
   "id": "eb8ed080",
   "metadata": {},
   "outputs": [
    {
     "name": "stdout",
     "output_type": "stream",
     "text": [
      "❗ no run & transform get linked, consider passing a `run` or calling ln.track()\n",
      "💡 file will be copied to default storage upon `save()` with key 'cao_atlas/cao_atlas.h5ad'\n",
      "💡 data is AnnDataLike, consider using .from_anndata() to link var_names and obs.columns as features\n"
     ]
    }
   ],
   "source": [
    "file = ln.File(\n",
    "    '/mnt/c/Users/vale/Google Drive/Research Projects/Finished/linear-scvi/cao_atlas.h5ad',\n",
    "    key = 'cao_atlas/cao_atlas.h5ad'\n",
    ")"
   ]
  },
  {
   "cell_type": "code",
   "execution_count": 61,
   "id": "d6fced3f",
   "metadata": {},
   "outputs": [
    {
     "name": "stdout",
     "output_type": "stream",
     "text": [
      "✅ storing file 'q5584ZtQEIQ6ciGltFw9' at 's3://vals-scrna/.lamindb/q5584ZtQEIQ6ciGltFw9.h5ad'\n",
      "... uploading cao_atlas.h5ad: 1.00\n",
      "\r"
     ]
    }
   ],
   "source": [
    "file.save()"
   ]
  },
  {
   "cell_type": "code",
   "execution_count": null,
   "id": "e23ad138",
   "metadata": {},
   "outputs": [],
   "source": []
  },
  {
   "cell_type": "code",
   "execution_count": 62,
   "id": "127fe75f",
   "metadata": {},
   "outputs": [
    {
     "name": "stdout",
     "output_type": "stream",
     "text": [
      "❗ no run & transform get linked, consider passing a `run` or calling ln.track()\n",
      "💡 file will be copied to default storage upon `save()` with key 'pijuan_sala_atlas/pijuan_sala_atlas.h5ad'\n",
      "💡 data is AnnDataLike, consider using .from_anndata() to link var_names and obs.columns as features\n"
     ]
    }
   ],
   "source": [
    "file = ln.File(\n",
    "    '/mnt/c/Users/vale/Google Drive/Research Projects/Finished/linear-scvi/pijuan_sala_atlas.h5ad',\n",
    "    key = 'pijuan_sala_atlas/pijuan_sala_atlas.h5ad'\n",
    ")"
   ]
  },
  {
   "cell_type": "code",
   "execution_count": 63,
   "id": "09dfc83f",
   "metadata": {},
   "outputs": [
    {
     "name": "stdout",
     "output_type": "stream",
     "text": [
      "✅ storing file '2REMiccrkWSgI9xduZxY' at 's3://vals-scrna/.lamindb/2REMiccrkWSgI9xduZxY.h5ad'\n",
      "... uploading pijuan_sala_atlas.h5ad: 1.00\n",
      "\r"
     ]
    }
   ],
   "source": [
    "file.save()"
   ]
  },
  {
   "cell_type": "code",
   "execution_count": null,
   "id": "6ff0fa86",
   "metadata": {},
   "outputs": [],
   "source": []
  },
  {
   "cell_type": "code",
   "execution_count": 64,
   "id": "bc190751",
   "metadata": {},
   "outputs": [],
   "source": [
    "file_list = [\n",
    "    '/mnt/c/Users/vale/Google Drive/Research Projects/Finished/zero-inflation/Original/klein_indrops_control.h5ad',\n",
    "    '/mnt/c/Users/vale/Google Drive/Research Projects/Finished/zero-inflation/Original/klein_indrops_control_GSM1599501.h5ad',\n",
    "    '/mnt/c/Users/vale/Google Drive/Research Projects/Finished/zero-inflation/Original/macosko_dropseq_control.h5ad',\n",
    "    '/mnt/c/Users/vale/Google Drive/Research Projects/Finished/zero-inflation/Original/macosko_dropseq_control_GSM1629193.h5ad',\n",
    "    '/mnt/c/Users/vale/Google Drive/Research Projects/Finished/zero-inflation/Original/svensson_chromium_control.h5ad',\n",
    "    '/mnt/c/Users/vale/Google Drive/Research Projects/Finished/zero-inflation/Original/zheng_gemcode_control.h5ad'\n",
    "]"
   ]
  },
  {
   "cell_type": "code",
   "execution_count": 65,
   "id": "675314f6",
   "metadata": {},
   "outputs": [
    {
     "name": "stdout",
     "output_type": "stream",
     "text": [
      "/mnt/c/Users/vale/Google Drive/Research Projects/Finished/zero-inflation/Original/klein_indrops_control.h5ad\n",
      "❗ no run & transform get linked, consider passing a `run` or calling ln.track()\n",
      "💡 file will be copied to default storage upon `save()` with key 'Original/klein_indrops_control.h5ad'\n",
      "💡 data is AnnDataLike, consider using .from_anndata() to link var_names and obs.columns as features\n",
      "✅ storing file 'nfFyVQsKIwt2uoucIedJ' at 's3://vals-scrna/.lamindb/nfFyVQsKIwt2uoucIedJ.h5ad'\n",
      "... uploading klein_indrops_control.h5ad: 1.00\n",
      "/mnt/c/Users/vale/Google Drive/Research Projects/Finished/zero-inflation/Original/klein_indrops_control_GSM1599501.h5ad\n",
      "❗ no run & transform get linked, consider passing a `run` or calling ln.track()\n",
      "💡 file will be copied to default storage upon `save()` with key 'Original/klein_indrops_control_GSM1599501.h5ad'\n",
      "💡 data is AnnDataLike, consider using .from_anndata() to link var_names and obs.columns as features\n",
      "✅ storing file 'l6kQ7FRwD1fSoqPc4mM5' at 's3://vals-scrna/.lamindb/l6kQ7FRwD1fSoqPc4mM5.h5ad'\n",
      "... uploading klein_indrops_control_GSM1599501.h5ad: 1.00\n",
      "/mnt/c/Users/vale/Google Drive/Research Projects/Finished/zero-inflation/Original/macosko_dropseq_control.h5ad\n",
      "❗ no run & transform get linked, consider passing a `run` or calling ln.track()\n",
      "💡 file will be copied to default storage upon `save()` with key 'Original/macosko_dropseq_control.h5ad'\n",
      "💡 data is AnnDataLike, consider using .from_anndata() to link var_names and obs.columns as features\n",
      "✅ storing file 'jrEOmJAJwSjnE7cZTk5W' at 's3://vals-scrna/.lamindb/jrEOmJAJwSjnE7cZTk5W.h5ad'\n",
      "... uploading macosko_dropseq_control.h5ad: 1.00\n",
      "/mnt/c/Users/vale/Google Drive/Research Projects/Finished/zero-inflation/Original/macosko_dropseq_control_GSM1629193.h5ad\n",
      "❗ no run & transform get linked, consider passing a `run` or calling ln.track()\n",
      "💡 file will be copied to default storage upon `save()` with key 'Original/macosko_dropseq_control_GSM1629193.h5ad'\n",
      "💡 data is AnnDataLike, consider using .from_anndata() to link var_names and obs.columns as features\n",
      "✅ storing file 'l0ze0foHgbedvLBbHOBY' at 's3://vals-scrna/.lamindb/l0ze0foHgbedvLBbHOBY.h5ad'\n",
      "... uploading macosko_dropseq_control_GSM1629193.h5ad: 1.00\n",
      "/mnt/c/Users/vale/Google Drive/Research Projects/Finished/zero-inflation/Original/svensson_chromium_control.h5ad\n",
      "❗ no run & transform get linked, consider passing a `run` or calling ln.track()\n",
      "💡 file will be copied to default storage upon `save()` with key 'Original/svensson_chromium_control.h5ad'\n",
      "💡 data is AnnDataLike, consider using .from_anndata() to link var_names and obs.columns as features\n",
      "✅ storing file 'S6X8XJdmAWZq8hhwFLP2' at 's3://vals-scrna/.lamindb/S6X8XJdmAWZq8hhwFLP2.h5ad'\n",
      "... uploading svensson_chromium_control.h5ad: 1.00\n",
      "/mnt/c/Users/vale/Google Drive/Research Projects/Finished/zero-inflation/Original/zheng_gemcode_control.h5ad\n",
      "❗ no run & transform get linked, consider passing a `run` or calling ln.track()\n",
      "💡 file will be copied to default storage upon `save()` with key 'Original/zheng_gemcode_control.h5ad'\n",
      "💡 data is AnnDataLike, consider using .from_anndata() to link var_names and obs.columns as features\n",
      "✅ storing file 'l2damQHaPX5WZ2376o3Z' at 's3://vals-scrna/.lamindb/l2damQHaPX5WZ2376o3Z.h5ad'\n",
      "... uploading zheng_gemcode_control.h5ad: 1.00\n",
      "\r"
     ]
    }
   ],
   "source": [
    "for fname in file_list:\n",
    "    print(fname)\n",
    "    file = ln.File(fname, key = fname.replace('/mnt/c/Users/vale/Google Drive/Research Projects/Finished/zero-inflation/', ''))\n",
    "    file.save()"
   ]
  },
  {
   "cell_type": "code",
   "execution_count": null,
   "id": "c2ff54a4",
   "metadata": {},
   "outputs": [],
   "source": []
  },
  {
   "cell_type": "code",
   "execution_count": 66,
   "id": "9859a92e",
   "metadata": {},
   "outputs": [],
   "source": [
    "file_list = [\n",
    "    '/mnt/c/Users/vale/Google Drive/Research Projects/Finished/zero-inflation/Revision 1/Data/10x_v3_1k_PBMC.h5ad',\n",
    "    '/mnt/c/Users/vale/Google Drive/Research Projects/Finished/zero-inflation/Revision 1/Data/10x_v3_5k_HEK293T.h5ad',\n",
    "    '/mnt/c/Users/vale/Google Drive/Research Projects/Finished/zero-inflation/Revision 1/Data/10x_v3_5k_NIH3T3.h5ad',\n",
    "    '/mnt/c/Users/vale/Google Drive/Research Projects/Finished/zero-inflation/Revision 1/Data/fluidigm_GSE66053.h5ad',\n",
    "    '/mnt/c/Users/vale/Google Drive/Research Projects/Finished/zero-inflation/Revision 1/Data/klein_indrops_control_GSM1599501.h5ad',\n",
    "    '/mnt/c/Users/vale/Google Drive/Research Projects/Finished/zero-inflation/Revision 1/Data/macosko_dropseq_control_GSM1629193.h5ad',\n",
    "    '/mnt/c/Users/vale/Google Drive/Research Projects/Finished/zero-inflation/Revision 1/Data/svensson_chromium_control.h5ad',\n",
    "    '/mnt/c/Users/vale/Google Drive/Research Projects/Finished/zero-inflation/Revision 1/Data/zheng_gemcode_control.h5ad',\n",
    "    '/mnt/c/Users/vale/Google Drive/Research Projects/Finished/zero-inflation/Revision 1/Data/output/10x v3 HEK293T.h5ad',\n",
    "    '/mnt/c/Users/vale/Google Drive/Research Projects/Finished/zero-inflation/Revision 1/Data/output/10x v3 NIH3T3.h5ad',\n",
    "    '/mnt/c/Users/vale/Google Drive/Research Projects/Finished/zero-inflation/Revision 1/Data/output/10x v3 PBMC.h5ad',\n",
    "    '/mnt/c/Users/vale/Google Drive/Research Projects/Finished/zero-inflation/Revision 1/Data/output/Klein et al 2015.h5ad',\n",
    "    '/mnt/c/Users/vale/Google Drive/Research Projects/Finished/zero-inflation/Revision 1/Data/output/Macosko et al 2015.h5ad',\n",
    "    '/mnt/c/Users/vale/Google Drive/Research Projects/Finished/zero-inflation/Revision 1/Data/output/Padovan-Merhar et al 2015 (SMARTer).h5ad',\n",
    "    '/mnt/c/Users/vale/Google Drive/Research Projects/Finished/zero-inflation/Revision 1/Data/output/Svensson et al 2017 (1).h5ad',\n",
    "    '/mnt/c/Users/vale/Google Drive/Research Projects/Finished/zero-inflation/Revision 1/Data/output/Svensson et al 2017 (2).h5ad',\n",
    "    '/mnt/c/Users/vale/Google Drive/Research Projects/Finished/zero-inflation/Revision 1/Data/output/Zheng et al 2017.h5ad',\n",
    "    '/mnt/c/Users/vale/Google Drive/Research Projects/Finished/zero-inflation/Revision 1/Data/SMARTer/GSE66053.h5ad',\n",
    "]"
   ]
  },
  {
   "cell_type": "code",
   "execution_count": 67,
   "id": "554a9bc9",
   "metadata": {
    "scrolled": true
   },
   "outputs": [
    {
     "name": "stdout",
     "output_type": "stream",
     "text": [
      "/mnt/c/Users/vale/Google Drive/Research Projects/Finished/zero-inflation/Revision 1/Data/10x_v3_1k_PBMC.h5ad\n",
      "❗ no run & transform get linked, consider passing a `run` or calling ln.track()\n",
      "💡 file will be copied to default storage upon `save()` with key 'Data/10x_v3_1k_PBMC.h5ad'\n",
      "💡 data is AnnDataLike, consider using .from_anndata() to link var_names and obs.columns as features\n",
      "✅ storing file '4RlMYJj1SwbJEsDzHGdl' at 's3://vals-scrna/.lamindb/4RlMYJj1SwbJEsDzHGdl.h5ad'\n",
      "... uploading 10x_v3_1k_PBMC.h5ad: 1.00\n",
      "/mnt/c/Users/vale/Google Drive/Research Projects/Finished/zero-inflation/Revision 1/Data/10x_v3_5k_HEK293T.h5ad\n",
      "❗ no run & transform get linked, consider passing a `run` or calling ln.track()\n",
      "💡 file will be copied to default storage upon `save()` with key 'Data/10x_v3_5k_HEK293T.h5ad'\n",
      "💡 data is AnnDataLike, consider using .from_anndata() to link var_names and obs.columns as features\n",
      "✅ storing file 'rTKBQM8xSW3O9GxIRJ75' at 's3://vals-scrna/.lamindb/rTKBQM8xSW3O9GxIRJ75.h5ad'\n",
      "... uploading 10x_v3_5k_HEK293T.h5ad: 1.00\n",
      "/mnt/c/Users/vale/Google Drive/Research Projects/Finished/zero-inflation/Revision 1/Data/10x_v3_5k_NIH3T3.h5ad\n",
      "❗ no run & transform get linked, consider passing a `run` or calling ln.track()\n",
      "💡 file will be copied to default storage upon `save()` with key 'Data/10x_v3_5k_NIH3T3.h5ad'\n",
      "💡 data is AnnDataLike, consider using .from_anndata() to link var_names and obs.columns as features\n",
      "✅ storing file 'ELtG12CEVa0nrWT6kv7Y' at 's3://vals-scrna/.lamindb/ELtG12CEVa0nrWT6kv7Y.h5ad'\n",
      "... uploading 10x_v3_5k_NIH3T3.h5ad: 1.00\n",
      "/mnt/c/Users/vale/Google Drive/Research Projects/Finished/zero-inflation/Revision 1/Data/fluidigm_GSE66053.h5ad\n",
      "❗ no run & transform get linked, consider passing a `run` or calling ln.track()\n",
      "💡 file will be copied to default storage upon `save()` with key 'Data/fluidigm_GSE66053.h5ad'\n",
      "💡 data is AnnDataLike, consider using .from_anndata() to link var_names and obs.columns as features\n",
      "✅ storing file 'Kmo6CHLgV49fkyDgVnNo' at 's3://vals-scrna/.lamindb/Kmo6CHLgV49fkyDgVnNo.h5ad'\n",
      "... uploading fluidigm_GSE66053.h5ad: 1.00\n",
      "/mnt/c/Users/vale/Google Drive/Research Projects/Finished/zero-inflation/Revision 1/Data/klein_indrops_control_GSM1599501.h5ad\n",
      "❗ no run & transform get linked, consider passing a `run` or calling ln.track()\n",
      "❗ returning existing file with same hash: File(uid='l6kQ7FRwD1fSoqPc4mM5', key='Original/klein_indrops_control_GSM1599501.h5ad', suffix='.h5ad', accessor='AnnData', size=74763191, hash='YxgPWYXYywzbZmQTTnNuF6', hash_type='sha1-fl', visibility=0, key_is_virtual=True, updated_at=2023-11-07 06:09:47, storage_id=1, created_by_id=1)\n",
      "/mnt/c/Users/vale/Google Drive/Research Projects/Finished/zero-inflation/Revision 1/Data/macosko_dropseq_control_GSM1629193.h5ad\n",
      "❗ no run & transform get linked, consider passing a `run` or calling ln.track()\n",
      "❗ returning existing file with same hash: File(uid='l0ze0foHgbedvLBbHOBY', key='Original/macosko_dropseq_control_GSM1629193.h5ad', suffix='.h5ad', accessor='AnnData', size=50552, hash='AqzaivjKnVV82DbRXWBzsA', hash_type='md5', visibility=0, key_is_virtual=True, updated_at=2023-11-07 06:09:50, storage_id=1, created_by_id=1)\n",
      "/mnt/c/Users/vale/Google Drive/Research Projects/Finished/zero-inflation/Revision 1/Data/svensson_chromium_control.h5ad\n",
      "❗ no run & transform get linked, consider passing a `run` or calling ln.track()\n",
      "❗ returning existing file with same hash: File(uid='S6X8XJdmAWZq8hhwFLP2', key='Original/svensson_chromium_control.h5ad', suffix='.h5ad', accessor='AnnData', size=19735196, hash='5rHSPTQWZq-mKxcK0ohJoA', hash_type='md5', visibility=0, key_is_virtual=True, updated_at=2023-11-07 06:09:51, storage_id=1, created_by_id=1)\n",
      "/mnt/c/Users/vale/Google Drive/Research Projects/Finished/zero-inflation/Revision 1/Data/zheng_gemcode_control.h5ad\n",
      "❗ no run & transform get linked, consider passing a `run` or calling ln.track()\n",
      "❗ returning existing file with same hash: File(uid='l2damQHaPX5WZ2376o3Z', key='Original/zheng_gemcode_control.h5ad', suffix='.h5ad', accessor='AnnData', size=432264, hash='jE_1-485JQ68K4js61DghQ', hash_type='md5', visibility=0, key_is_virtual=True, updated_at=2023-11-07 06:09:52, storage_id=1, created_by_id=1)\n",
      "/mnt/c/Users/vale/Google Drive/Research Projects/Finished/zero-inflation/Revision 1/Data/output/10x v3 HEK293T.h5ad\n",
      "❗ no run & transform get linked, consider passing a `run` or calling ln.track()\n",
      "💡 file will be copied to default storage upon `save()` with key 'Data/output/10x v3 HEK293T.h5ad'\n",
      "💡 data is AnnDataLike, consider using .from_anndata() to link var_names and obs.columns as features\n",
      "✅ storing file 'EISxF5wIZKy9T3qeheZj' at 's3://vals-scrna/.lamindb/EISxF5wIZKy9T3qeheZj.h5ad'\n",
      "... uploading 10x v3 HEK293T.h5ad: 1.00\n",
      "/mnt/c/Users/vale/Google Drive/Research Projects/Finished/zero-inflation/Revision 1/Data/output/10x v3 NIH3T3.h5ad\n",
      "❗ no run & transform get linked, consider passing a `run` or calling ln.track()\n",
      "💡 file will be copied to default storage upon `save()` with key 'Data/output/10x v3 NIH3T3.h5ad'\n",
      "💡 data is AnnDataLike, consider using .from_anndata() to link var_names and obs.columns as features\n",
      "✅ storing file 'SllOTwjHL2ZfRg9aY3dq' at 's3://vals-scrna/.lamindb/SllOTwjHL2ZfRg9aY3dq.h5ad'\n",
      "... uploading 10x v3 NIH3T3.h5ad: 1.00\n",
      "/mnt/c/Users/vale/Google Drive/Research Projects/Finished/zero-inflation/Revision 1/Data/output/10x v3 PBMC.h5ad\n",
      "❗ no run & transform get linked, consider passing a `run` or calling ln.track()\n",
      "💡 file will be copied to default storage upon `save()` with key 'Data/output/10x v3 PBMC.h5ad'\n",
      "💡 data is AnnDataLike, consider using .from_anndata() to link var_names and obs.columns as features\n",
      "✅ storing file 'xPHT5wcjlaNW3kRwO5ZJ' at 's3://vals-scrna/.lamindb/xPHT5wcjlaNW3kRwO5ZJ.h5ad'\n",
      "... uploading 10x v3 PBMC.h5ad: 1.00\n",
      "/mnt/c/Users/vale/Google Drive/Research Projects/Finished/zero-inflation/Revision 1/Data/output/Klein et al 2015.h5ad\n",
      "❗ no run & transform get linked, consider passing a `run` or calling ln.track()\n",
      "💡 file will be copied to default storage upon `save()` with key 'Data/output/Klein et al 2015.h5ad'\n",
      "💡 data is AnnDataLike, consider using .from_anndata() to link var_names and obs.columns as features\n",
      "✅ storing file '1GvwXSmTHliNNI5HCDPf' at 's3://vals-scrna/.lamindb/1GvwXSmTHliNNI5HCDPf.h5ad'\n",
      "... uploading Klein et al 2015.h5ad: 1.00\n",
      "/mnt/c/Users/vale/Google Drive/Research Projects/Finished/zero-inflation/Revision 1/Data/output/Macosko et al 2015.h5ad\n",
      "❗ no run & transform get linked, consider passing a `run` or calling ln.track()\n",
      "💡 file will be copied to default storage upon `save()` with key 'Data/output/Macosko et al 2015.h5ad'\n",
      "💡 data is AnnDataLike, consider using .from_anndata() to link var_names and obs.columns as features\n",
      "✅ storing file 'IEf3HQvCoupYe5Dgjm32' at 's3://vals-scrna/.lamindb/IEf3HQvCoupYe5Dgjm32.h5ad'\n",
      "... uploading Macosko et al 2015.h5ad: 1.00\n",
      "/mnt/c/Users/vale/Google Drive/Research Projects/Finished/zero-inflation/Revision 1/Data/output/Padovan-Merhar et al 2015 (SMARTer).h5ad\n",
      "❗ no run & transform get linked, consider passing a `run` or calling ln.track()\n",
      "💡 file will be copied to default storage upon `save()` with key 'Data/output/Padovan-Merhar et al 2015 (SMARTer).h5ad'\n",
      "💡 data is AnnDataLike, consider using .from_anndata() to link var_names and obs.columns as features\n",
      "✅ storing file 'maJHzZ7HoBAaugd5SMHo' at 's3://vals-scrna/.lamindb/maJHzZ7HoBAaugd5SMHo.h5ad'\n",
      "... uploading Padovan-Merhar et al 2015 (SMARTer).h5ad: 1.00\n",
      "/mnt/c/Users/vale/Google Drive/Research Projects/Finished/zero-inflation/Revision 1/Data/output/Svensson et al 2017 (1).h5ad\n",
      "❗ no run & transform get linked, consider passing a `run` or calling ln.track()\n",
      "💡 file will be copied to default storage upon `save()` with key 'Data/output/Svensson et al 2017 (1).h5ad'\n",
      "💡 data is AnnDataLike, consider using .from_anndata() to link var_names and obs.columns as features\n",
      "✅ storing file 'zcRrtSdNIECKYCSt8ics' at 's3://vals-scrna/.lamindb/zcRrtSdNIECKYCSt8ics.h5ad'\n",
      "... uploading Svensson et al 2017 (1).h5ad: 1.00\n",
      "/mnt/c/Users/vale/Google Drive/Research Projects/Finished/zero-inflation/Revision 1/Data/output/Svensson et al 2017 (2).h5ad\n",
      "❗ no run & transform get linked, consider passing a `run` or calling ln.track()\n"
     ]
    },
    {
     "name": "stdout",
     "output_type": "stream",
     "text": [
      "💡 file will be copied to default storage upon `save()` with key 'Data/output/Svensson et al 2017 (2).h5ad'\n",
      "💡 data is AnnDataLike, consider using .from_anndata() to link var_names and obs.columns as features\n",
      "✅ storing file 'DeNeboYNBpcQQw15k2Eu' at 's3://vals-scrna/.lamindb/DeNeboYNBpcQQw15k2Eu.h5ad'\n",
      "... uploading Svensson et al 2017 (2).h5ad: 1.00\n",
      "/mnt/c/Users/vale/Google Drive/Research Projects/Finished/zero-inflation/Revision 1/Data/output/Zheng et al 2017.h5ad\n",
      "❗ no run & transform get linked, consider passing a `run` or calling ln.track()\n",
      "💡 file will be copied to default storage upon `save()` with key 'Data/output/Zheng et al 2017.h5ad'\n",
      "💡 data is AnnDataLike, consider using .from_anndata() to link var_names and obs.columns as features\n",
      "✅ storing file 'EBmLgPyHV4gRNqOoZBLY' at 's3://vals-scrna/.lamindb/EBmLgPyHV4gRNqOoZBLY.h5ad'\n",
      "... uploading Zheng et al 2017.h5ad: 1.00\n",
      "/mnt/c/Users/vale/Google Drive/Research Projects/Finished/zero-inflation/Revision 1/Data/SMARTer/GSE66053.h5ad\n",
      "❗ no run & transform get linked, consider passing a `run` or calling ln.track()\n",
      "💡 file will be copied to default storage upon `save()` with key 'Data/SMARTer/GSE66053.h5ad'\n",
      "💡 data is AnnDataLike, consider using .from_anndata() to link var_names and obs.columns as features\n",
      "✅ storing file 'ShbuMXazzVUYFwdQG0W1' at 's3://vals-scrna/.lamindb/ShbuMXazzVUYFwdQG0W1.h5ad'\n",
      "... uploading GSE66053.h5ad: 1.00\n",
      "\r"
     ]
    }
   ],
   "source": [
    "for fname in file_list:\n",
    "    print(fname)\n",
    "    file = ln.File(fname, key = fname.replace('/mnt/c/Users/vale/Google Drive/Research Projects/Finished/zero-inflation/Revision 1/', ''))\n",
    "    file.save()"
   ]
  },
  {
   "cell_type": "code",
   "execution_count": null,
   "id": "05399d2b",
   "metadata": {},
   "outputs": [],
   "source": []
  },
  {
   "cell_type": "code",
   "execution_count": 68,
   "id": "59616eb4",
   "metadata": {},
   "outputs": [],
   "source": [
    "file_list = [\n",
    "    '/mnt/c/Users/vale/Google Drive/Research Projects/Ongoing/Huwe/Data/CITE-Seq/GSE100866_CBMC_8K_13AB_10X.h5ad',\n",
    "    '/mnt/c/Users/vale/Google Drive/Research Projects/Ongoing/Huwe/Data/CROP-seq/cropseq_jurkat_tcr.h5ad',\n",
    "    '/mnt/c/Users/vale/Google Drive/Research Projects/Ongoing/Huwe/Data/Eng 2019/Eng_cortez_svz.h5ad',\n",
    "    '/mnt/c/Users/vale/Google Drive/Research Projects/Ongoing/Huwe/Data/Eng 2019/Eng_OB.h5ad',\n",
    "    '/mnt/c/Users/vale/Google Drive/Research Projects/Ongoing/Huwe/Data/Hrvatin 2017/GSE102827_merged_all_raw.h5ad',\n",
    "    '/mnt/c/Users/vale/Google Drive/Research Projects/Ongoing/Huwe/Data/MERFISH/MERFISH_140_rep6.h5ad',\n",
    "    '/mnt/c/Users/vale/Google Drive/Research Projects/Ongoing/Huwe/Data/Mizrak 2019/Mizrak_GSE109447_svz.h5ad',\n",
    "    '/mnt/c/Users/vale/Google Drive/Research Projects/Ongoing/Huwe/Data/Moffitt 2018/hypothalamic_GSE113576.h5ad',\n",
    "    '/mnt/c/Users/vale/Google Drive/Research Projects/Ongoing/Huwe/Data/Moffitt 2018/hypothalamic_merfish_combinatorial.h5ad',\n",
    "    '/mnt/c/Users/vale/Google Drive/Research Projects/Ongoing/Huwe/Data/osmFISH/GSE75330_Marques_et_al.h5ad',\n",
    "    '/mnt/c/Users/vale/Google Drive/Research Projects/Ongoing/Huwe/Data/osmFISH/osmFISH_SScortex_mouse_all_cells.h5ad',\n",
    "    '/mnt/c/Users/vale/Google Drive/Research Projects/Ongoing/Huwe/Data/Saunders 2018/F_GRCm38.81.P60Cortex_noRep5_FRONTALonly.has_annotation.h5ad',\n",
    "    '/mnt/c/Users/vale/Google Drive/Research Projects/Ongoing/Huwe/Data/Saunders 2018/F_GRCm38.81.P60Cortex_noRep5_POSTERIORonly.has_annotation.h5ad',\n",
    "    '/mnt/c/Users/vale/Google Drive/Research Projects/Ongoing/Huwe/Data/Saunders 2018/F_GRCm38.81.P60Hippocampus.h5ad',\n",
    "    '/mnt/c/Users/vale/Google Drive/Research Projects/Ongoing/Huwe/Data/seqFISH/seqfish_125g_sheet1.h5ad',\n",
    "    '/mnt/c/Users/vale/Google Drive/Research Projects/Ongoing/Huwe/Data/seqFISH/seqfish_249g_field43.h5ad',\n",
    "]"
   ]
  },
  {
   "cell_type": "code",
   "execution_count": 69,
   "id": "e8a6ad74",
   "metadata": {},
   "outputs": [
    {
     "name": "stdout",
     "output_type": "stream",
     "text": [
      "/mnt/c/Users/vale/Google Drive/Research Projects/Ongoing/Huwe/Data/CITE-Seq/GSE100866_CBMC_8K_13AB_10X.h5ad\n",
      "❗ no run & transform get linked, consider passing a `run` or calling ln.track()\n",
      "💡 file will be copied to default storage upon `save()` with key 'CITE-Seq/GSE100866_CBMC_8K_13AB_10X.h5ad'\n",
      "💡 data is AnnDataLike, consider using .from_anndata() to link var_names and obs.columns as features\n",
      "✅ storing file 'wifcdEHk3QFfTclvr7z2' at 's3://vals-scrna/.lamindb/wifcdEHk3QFfTclvr7z2.h5ad'\n",
      "... uploading GSE100866_CBMC_8K_13AB_10X.h5ad: 1.00\n",
      "/mnt/c/Users/vale/Google Drive/Research Projects/Ongoing/Huwe/Data/CROP-seq/cropseq_jurkat_tcr.h5ad\n",
      "❗ no run & transform get linked, consider passing a `run` or calling ln.track()\n",
      "💡 file will be copied to default storage upon `save()` with key 'CROP-seq/cropseq_jurkat_tcr.h5ad'\n",
      "💡 data is AnnDataLike, consider using .from_anndata() to link var_names and obs.columns as features\n",
      "✅ storing file '0d7ZhYptRpFF3AEoHItl' at 's3://vals-scrna/.lamindb/0d7ZhYptRpFF3AEoHItl.h5ad'\n",
      "... uploading cropseq_jurkat_tcr.h5ad: 1.00\n",
      "/mnt/c/Users/vale/Google Drive/Research Projects/Ongoing/Huwe/Data/Eng 2019/Eng_cortez_svz.h5ad\n",
      "❗ no run & transform get linked, consider passing a `run` or calling ln.track()\n",
      "💡 file will be copied to default storage upon `save()` with key 'Eng 2019/Eng_cortez_svz.h5ad'\n",
      "💡 data is AnnDataLike, consider using .from_anndata() to link var_names and obs.columns as features\n",
      "✅ storing file '0VQyhqlu1MyAFoDknN6I' at 's3://vals-scrna/.lamindb/0VQyhqlu1MyAFoDknN6I.h5ad'\n",
      "... uploading Eng_cortez_svz.h5ad: 1.00\n",
      "/mnt/c/Users/vale/Google Drive/Research Projects/Ongoing/Huwe/Data/Eng 2019/Eng_OB.h5ad\n",
      "❗ no run & transform get linked, consider passing a `run` or calling ln.track()\n",
      "💡 file will be copied to default storage upon `save()` with key 'Eng 2019/Eng_OB.h5ad'\n",
      "💡 data is AnnDataLike, consider using .from_anndata() to link var_names and obs.columns as features\n",
      "✅ storing file '09JBF9B74dGWe7hNXtZ2' at 's3://vals-scrna/.lamindb/09JBF9B74dGWe7hNXtZ2.h5ad'\n",
      "... uploading Eng_OB.h5ad: 1.00\n",
      "/mnt/c/Users/vale/Google Drive/Research Projects/Ongoing/Huwe/Data/Hrvatin 2017/GSE102827_merged_all_raw.h5ad\n",
      "❗ no run & transform get linked, consider passing a `run` or calling ln.track()\n",
      "❗ returning existing file with same hash: File(uid='2pEwFSQ6kCUuyQiyTB8v', key='GSE102827/GSE102827_merged_all_raw.h5ad', suffix='.h5ad', accessor='AnnData', size=212854755, hash='wc6rzL9ZkYFzbh69hfZUNu', hash_type='sha1-fl', visibility=0, key_is_virtual=True, updated_at=2023-11-07 04:38:37, storage_id=1, created_by_id=1)\n",
      "/mnt/c/Users/vale/Google Drive/Research Projects/Ongoing/Huwe/Data/MERFISH/MERFISH_140_rep6.h5ad\n",
      "❗ no run & transform get linked, consider passing a `run` or calling ln.track()\n",
      "💡 file will be copied to default storage upon `save()` with key 'MERFISH/MERFISH_140_rep6.h5ad'\n",
      "💡 data is AnnDataLike, consider using .from_anndata() to link var_names and obs.columns as features\n",
      "✅ storing file 'wfBpGUWkhJXJZrtWzfg1' at 's3://vals-scrna/.lamindb/wfBpGUWkhJXJZrtWzfg1.h5ad'\n",
      "... uploading MERFISH_140_rep6.h5ad: 1.00\n",
      "/mnt/c/Users/vale/Google Drive/Research Projects/Ongoing/Huwe/Data/Mizrak 2019/Mizrak_GSE109447_svz.h5ad\n",
      "❗ no run & transform get linked, consider passing a `run` or calling ln.track()\n",
      "💡 file will be copied to default storage upon `save()` with key 'Mizrak 2019/Mizrak_GSE109447_svz.h5ad'\n",
      "💡 data is AnnDataLike, consider using .from_anndata() to link var_names and obs.columns as features\n",
      "✅ storing file 'BNKvnm9L8AUTtMtxMuZC' at 's3://vals-scrna/.lamindb/BNKvnm9L8AUTtMtxMuZC.h5ad'\n",
      "... uploading Mizrak_GSE109447_svz.h5ad: 1.00\n",
      "/mnt/c/Users/vale/Google Drive/Research Projects/Ongoing/Huwe/Data/Moffitt 2018/hypothalamic_GSE113576.h5ad\n",
      "❗ no run & transform get linked, consider passing a `run` or calling ln.track()\n",
      "❗ returning existing file with same hash: File(uid='hMFLP6LGiQMrLq9jz3zc', key='moffitt-et-al-2018/hypothalamic_GSE113576.h5ad', suffix='.h5ad', accessor='AnnData', size=168433717, hash='LhI4gBDbHIV_HhhPPvr9Ia', hash_type='sha1-fl', visibility=0, key_is_virtual=True, updated_at=2023-11-06 17:00:56, storage_id=1, created_by_id=1)\n",
      "/mnt/c/Users/vale/Google Drive/Research Projects/Ongoing/Huwe/Data/Moffitt 2018/hypothalamic_merfish_combinatorial.h5ad\n",
      "❗ no run & transform get linked, consider passing a `run` or calling ln.track()\n",
      "❗ returning existing file with same hash: File(uid='213t0htLLBX2S2Xc94ta', key='moffitt-et-al-2018/hypothalamic_merfish_combinatorial.h5ad', suffix='.h5ad', accessor='AnnData', size=126513273, hash='yreo6fBAJpNuCUBO_ACqLk', hash_type='sha1-fl', visibility=0, key_is_virtual=True, updated_at=2023-11-06 17:01:33, storage_id=1, created_by_id=1)\n",
      "/mnt/c/Users/vale/Google Drive/Research Projects/Ongoing/Huwe/Data/osmFISH/GSE75330_Marques_et_al.h5ad\n",
      "❗ no run & transform get linked, consider passing a `run` or calling ln.track()\n",
      "💡 file will be copied to default storage upon `save()` with key 'osmFISH/GSE75330_Marques_et_al.h5ad'\n",
      "💡 data is AnnDataLike, consider using .from_anndata() to link var_names and obs.columns as features\n",
      "✅ storing file 'G2rpe5k8BMo4I8AlwFEN' at 's3://vals-scrna/.lamindb/G2rpe5k8BMo4I8AlwFEN.h5ad'\n",
      "... uploading GSE75330_Marques_et_al.h5ad: 1.00\n",
      "/mnt/c/Users/vale/Google Drive/Research Projects/Ongoing/Huwe/Data/osmFISH/osmFISH_SScortex_mouse_all_cells.h5ad\n",
      "❗ no run & transform get linked, consider passing a `run` or calling ln.track()\n",
      "💡 file will be copied to default storage upon `save()` with key 'osmFISH/osmFISH_SScortex_mouse_all_cells.h5ad'\n",
      "💡 data is AnnDataLike, consider using .from_anndata() to link var_names and obs.columns as features\n",
      "✅ storing file 'tVZfXglfG8uksgbZD9BN' at 's3://vals-scrna/.lamindb/tVZfXglfG8uksgbZD9BN.h5ad'\n",
      "... uploading osmFISH_SScortex_mouse_all_cells.h5ad: 1.00\n",
      "/mnt/c/Users/vale/Google Drive/Research Projects/Ongoing/Huwe/Data/Saunders 2018/F_GRCm38.81.P60Cortex_noRep5_FRONTALonly.has_annotation.h5ad\n",
      "❗ no run & transform get linked, consider passing a `run` or calling ln.track()\n",
      "❗ file has more than one suffix (path.suffixes), using only last suffix: '.h5ad' - if you want your file format to be recognized, make an issue: https://github.com/laminlabs/lamindb/issues/new\n",
      "❗ returning existing file with same hash: File(uid='H1dRhX4gKqoaTi5dVGTP', key='cortex-align-2018/Saunders 2018/F_GRCm38.81.P60Cortex_noRep5_FRONTALonly.has_annotation.h5ad', suffix='.h5ad', accessor='AnnData', size=310997375, hash='YCL8OjxV0el5YCogr6N5fh', hash_type='sha1-fl', visibility=0, key_is_virtual=True, updated_at=2023-11-06 07:01:17, storage_id=1, created_by_id=1)\n",
      "/mnt/c/Users/vale/Google Drive/Research Projects/Ongoing/Huwe/Data/Saunders 2018/F_GRCm38.81.P60Cortex_noRep5_POSTERIORonly.has_annotation.h5ad\n",
      "❗ no run & transform get linked, consider passing a `run` or calling ln.track()\n",
      "❗ file has more than one suffix (path.suffixes), using only last suffix: '.h5ad' - if you want your file format to be recognized, make an issue: https://github.com/laminlabs/lamindb/issues/new\n",
      "❗ returning existing file with same hash: File(uid='ZUv6XxN3FijVNupVGrcg', key='cortex-align-2018/Saunders 2018/F_GRCm38.81.P60Cortex_noRep5_POSTERIORonly.has_annotation.h5ad', suffix='.h5ad', accessor='AnnData', size=185146714, hash='SdNnWfmh6YYxyjDM2OxW2V', hash_type='sha1-fl', visibility=0, key_is_virtual=True, updated_at=2023-11-06 07:02:07, storage_id=1, created_by_id=1)\n",
      "/mnt/c/Users/vale/Google Drive/Research Projects/Ongoing/Huwe/Data/Saunders 2018/F_GRCm38.81.P60Hippocampus.h5ad\n",
      "❗ no run & transform get linked, consider passing a `run` or calling ln.track()\n",
      "❗ file has more than one suffix (path.suffixes), using only last suffix: '.h5ad' - if you want your file format to be recognized, make an issue: https://github.com/laminlabs/lamindb/issues/new\n",
      "💡 file will be copied to default storage upon `save()` with key 'Saunders 2018/F_GRCm38.81.P60Hippocampus.h5ad'\n",
      "💡 data is AnnDataLike, consider using .from_anndata() to link var_names and obs.columns as features\n",
      "✅ storing file 'h2tbXlZ3b8Zaa1NqqGS1' at 's3://vals-scrna/.lamindb/h2tbXlZ3b8Zaa1NqqGS1.h5ad'\n",
      "... uploading F_GRCm38.81.P60Hippocampus.h5ad: 1.00\n",
      "/mnt/c/Users/vale/Google Drive/Research Projects/Ongoing/Huwe/Data/seqFISH/seqfish_125g_sheet1.h5ad\n",
      "❗ no run & transform get linked, consider passing a `run` or calling ln.track()\n"
     ]
    },
    {
     "name": "stdout",
     "output_type": "stream",
     "text": [
      "❗ returning existing file with same hash: File(uid='pGbnYayWkq5p7uQlkPYi', key='SeqFISH/seqfish_125g_sheet1.h5ad', suffix='.h5ad', accessor='AnnData', size=868228, hash='aX6B8Ei3T6kZe2YXii8N1w', hash_type='md5', visibility=0, key_is_virtual=True, updated_at=2023-11-06 07:05:05, storage_id=1, created_by_id=1)\n",
      "/mnt/c/Users/vale/Google Drive/Research Projects/Ongoing/Huwe/Data/seqFISH/seqfish_249g_field43.h5ad\n",
      "❗ no run & transform get linked, consider passing a `run` or calling ln.track()\n",
      "❗ returning existing file with same hash: File(uid='GWaFoFtpgy50Yu6N70kF', key='SeqFISH/seqfish_249g_field43.h5ad', suffix='.h5ad', accessor='AnnData', size=88730, hash='s3AwDtIxCRVa4Ij2hylB_g', hash_type='md5', visibility=0, key_is_virtual=True, updated_at=2023-11-06 07:05:39, storage_id=1, created_by_id=1)\n"
     ]
    }
   ],
   "source": [
    "for fname in file_list:\n",
    "    print(fname)\n",
    "    file = ln.File(fname, key = fname.replace('/mnt/c/Users/vale/Google Drive/Research Projects/Ongoing/Huwe/Data/', ''))\n",
    "    file.save()"
   ]
  },
  {
   "cell_type": "code",
   "execution_count": null,
   "id": "6af6f0cb",
   "metadata": {},
   "outputs": [],
   "source": []
  },
  {
   "cell_type": "code",
   "execution_count": 70,
   "id": "d6c6ffad",
   "metadata": {},
   "outputs": [],
   "source": [
    "file_list = [\n",
    "'/mnt/c/Users/vale/Google Drive/Research Projects/Ongoing/Huwe/Data/Slide-seq/Puck_180413_7.h5ad', \n",
    "'/mnt/c/Users/vale/Google Drive/Research Projects/Ongoing/Huwe/Data/Slide-seq/Puck_180528_20.h5ad', \n",
    "'/mnt/c/Users/vale/Google Drive/Research Projects/Ongoing/Huwe/Data/Slide-seq/Puck_180528_22.h5ad', \n",
    "'/mnt/c/Users/vale/Google Drive/Research Projects/Ongoing/Huwe/Data/Slide-seq/Puck_180528_23.h5ad', \n",
    "'/mnt/c/Users/vale/Google Drive/Research Projects/Ongoing/Huwe/Data/Slide-seq/Puck_180531_13.h5ad', \n",
    "'/mnt/c/Users/vale/Google Drive/Research Projects/Ongoing/Huwe/Data/Slide-seq/Puck_180531_16.h5ad', \n",
    "'/mnt/c/Users/vale/Google Drive/Research Projects/Ongoing/Huwe/Data/Slide-seq/Puck_180531_17.h5ad', \n",
    "'/mnt/c/Users/vale/Google Drive/Research Projects/Ongoing/Huwe/Data/Slide-seq/Puck_180531_18.h5ad', \n",
    "'/mnt/c/Users/vale/Google Drive/Research Projects/Ongoing/Huwe/Data/Slide-seq/Puck_180531_19.h5ad', \n",
    "'/mnt/c/Users/vale/Google Drive/Research Projects/Ongoing/Huwe/Data/Slide-seq/Puck_180531_22.h5ad', \n",
    "'/mnt/c/Users/vale/Google Drive/Research Projects/Ongoing/Huwe/Data/Slide-seq/Puck_180531_23.h5ad', \n",
    "'/mnt/c/Users/vale/Google Drive/Research Projects/Ongoing/Huwe/Data/Slide-seq/Puck_180602_15.h5ad', \n",
    "'/mnt/c/Users/vale/Google Drive/Research Projects/Ongoing/Huwe/Data/Slide-seq/Puck_180602_16.h5ad', \n",
    "'/mnt/c/Users/vale/Google Drive/Research Projects/Ongoing/Huwe/Data/Slide-seq/Puck_180602_17.h5ad', \n",
    "'/mnt/c/Users/vale/Google Drive/Research Projects/Ongoing/Huwe/Data/Slide-seq/Puck_180602_18.h5ad', \n",
    "'/mnt/c/Users/vale/Google Drive/Research Projects/Ongoing/Huwe/Data/Slide-seq/Puck_180602_20.h5ad', \n",
    "'/mnt/c/Users/vale/Google Drive/Research Projects/Ongoing/Huwe/Data/Slide-seq/Puck_180602_21.h5ad', \n",
    "'/mnt/c/Users/vale/Google Drive/Research Projects/Ongoing/Huwe/Data/Slide-seq/Puck_180602_22.h5ad', \n",
    "'/mnt/c/Users/vale/Google Drive/Research Projects/Ongoing/Huwe/Data/Slide-seq/Puck_180602_23.h5ad', \n",
    "'/mnt/c/Users/vale/Google Drive/Research Projects/Ongoing/Huwe/Data/Slide-seq/Puck_180602_24.h5ad', \n",
    "'/mnt/c/Users/vale/Google Drive/Research Projects/Ongoing/Huwe/Data/Slide-seq/Puck_180611_1.h5ad', \n",
    "'/mnt/c/Users/vale/Google Drive/Research Projects/Ongoing/Huwe/Data/Slide-seq/Puck_180611_10.h5ad', \n",
    "'/mnt/c/Users/vale/Google Drive/Research Projects/Ongoing/Huwe/Data/Slide-seq/Puck_180611_11.h5ad', \n",
    "'/mnt/c/Users/vale/Google Drive/Research Projects/Ongoing/Huwe/Data/Slide-seq/Puck_180611_12.h5ad', \n",
    "'/mnt/c/Users/vale/Google Drive/Research Projects/Ongoing/Huwe/Data/Slide-seq/Puck_180611_13.h5ad', \n",
    "'/mnt/c/Users/vale/Google Drive/Research Projects/Ongoing/Huwe/Data/Slide-seq/Puck_180611_14.h5ad', \n",
    "'/mnt/c/Users/vale/Google Drive/Research Projects/Ongoing/Huwe/Data/Slide-seq/Puck_180611_16.h5ad', \n",
    "'/mnt/c/Users/vale/Google Drive/Research Projects/Ongoing/Huwe/Data/Slide-seq/Puck_180611_2.h5ad', \n",
    "'/mnt/c/Users/vale/Google Drive/Research Projects/Ongoing/Huwe/Data/Slide-seq/Puck_180611_3.h5ad', \n",
    "'/mnt/c/Users/vale/Google Drive/Research Projects/Ongoing/Huwe/Data/Slide-seq/Puck_180611_4.h5ad', \n",
    "'/mnt/c/Users/vale/Google Drive/Research Projects/Ongoing/Huwe/Data/Slide-seq/Puck_180611_5.h5ad', \n",
    "'/mnt/c/Users/vale/Google Drive/Research Projects/Ongoing/Huwe/Data/Slide-seq/Puck_180611_6.h5ad', \n",
    "'/mnt/c/Users/vale/Google Drive/Research Projects/Ongoing/Huwe/Data/Slide-seq/Puck_180611_7.h5ad', \n",
    "'/mnt/c/Users/vale/Google Drive/Research Projects/Ongoing/Huwe/Data/Slide-seq/Puck_180611_8.h5ad', \n",
    "'/mnt/c/Users/vale/Google Drive/Research Projects/Ongoing/Huwe/Data/Slide-seq/Puck_180611_9.h5ad', \n",
    "'/mnt/c/Users/vale/Google Drive/Research Projects/Ongoing/Huwe/Data/Slide-seq/Puck_180615_1.h5ad', \n",
    "'/mnt/c/Users/vale/Google Drive/Research Projects/Ongoing/Huwe/Data/Slide-seq/Puck_180615_10.h5ad', \n",
    "'/mnt/c/Users/vale/Google Drive/Research Projects/Ongoing/Huwe/Data/Slide-seq/Puck_180615_11.h5ad', \n",
    "'/mnt/c/Users/vale/Google Drive/Research Projects/Ongoing/Huwe/Data/Slide-seq/Puck_180615_12.h5ad', \n",
    "'/mnt/c/Users/vale/Google Drive/Research Projects/Ongoing/Huwe/Data/Slide-seq/Puck_180615_14.h5ad', \n",
    "'/mnt/c/Users/vale/Google Drive/Research Projects/Ongoing/Huwe/Data/Slide-seq/Puck_180615_16.h5ad', \n",
    "'/mnt/c/Users/vale/Google Drive/Research Projects/Ongoing/Huwe/Data/Slide-seq/Puck_180615_17.h5ad', \n",
    "'/mnt/c/Users/vale/Google Drive/Research Projects/Ongoing/Huwe/Data/Slide-seq/Puck_180615_18.h5ad', \n",
    "'/mnt/c/Users/vale/Google Drive/Research Projects/Ongoing/Huwe/Data/Slide-seq/Puck_180615_20.h5ad', \n",
    "'/mnt/c/Users/vale/Google Drive/Research Projects/Ongoing/Huwe/Data/Slide-seq/Puck_180615_21.h5ad', \n",
    "'/mnt/c/Users/vale/Google Drive/Research Projects/Ongoing/Huwe/Data/Slide-seq/Puck_180615_22.h5ad', \n",
    "'/mnt/c/Users/vale/Google Drive/Research Projects/Ongoing/Huwe/Data/Slide-seq/Puck_180615_3.h5ad', \n",
    "'/mnt/c/Users/vale/Google Drive/Research Projects/Ongoing/Huwe/Data/Slide-seq/Puck_180615_4.h5ad', \n",
    "'/mnt/c/Users/vale/Google Drive/Research Projects/Ongoing/Huwe/Data/Slide-seq/Puck_180615_5.h5ad', \n",
    "'/mnt/c/Users/vale/Google Drive/Research Projects/Ongoing/Huwe/Data/Slide-seq/Puck_180615_6.h5ad', \n",
    "'/mnt/c/Users/vale/Google Drive/Research Projects/Ongoing/Huwe/Data/Slide-seq/Puck_180615_7.h5ad', \n",
    "'/mnt/c/Users/vale/Google Drive/Research Projects/Ongoing/Huwe/Data/Slide-seq/Puck_180615_8.h5ad', \n",
    "'/mnt/c/Users/vale/Google Drive/Research Projects/Ongoing/Huwe/Data/Slide-seq/Puck_180618_12.h5ad', \n",
    "'/mnt/c/Users/vale/Google Drive/Research Projects/Ongoing/Huwe/Data/Slide-seq/Puck_180618_13.h5ad', \n",
    "'/mnt/c/Users/vale/Google Drive/Research Projects/Ongoing/Huwe/Data/Slide-seq/Puck_180618_14.h5ad', \n",
    "'/mnt/c/Users/vale/Google Drive/Research Projects/Ongoing/Huwe/Data/Slide-seq/Puck_180618_15.h5ad', \n",
    "'/mnt/c/Users/vale/Google Drive/Research Projects/Ongoing/Huwe/Data/Slide-seq/Puck_180618_16.h5ad', \n",
    "'/mnt/c/Users/vale/Google Drive/Research Projects/Ongoing/Huwe/Data/Slide-seq/Puck_180618_18.h5ad', \n",
    "'/mnt/c/Users/vale/Google Drive/Research Projects/Ongoing/Huwe/Data/Slide-seq/Puck_180618_20.h5ad', \n",
    "'/mnt/c/Users/vale/Google Drive/Research Projects/Ongoing/Huwe/Data/Slide-seq/Puck_180618_21.h5ad', \n",
    "'/mnt/c/Users/vale/Google Drive/Research Projects/Ongoing/Huwe/Data/Slide-seq/Puck_180618_24.h5ad', \n",
    "'/mnt/c/Users/vale/Google Drive/Research Projects/Ongoing/Huwe/Data/Slide-seq/Puck_180618_3.h5ad', \n",
    "'/mnt/c/Users/vale/Google Drive/Research Projects/Ongoing/Huwe/Data/Slide-seq/Puck_180618_4.h5ad', \n",
    "'/mnt/c/Users/vale/Google Drive/Research Projects/Ongoing/Huwe/Data/Slide-seq/Puck_180618_7.h5ad', \n",
    "'/mnt/c/Users/vale/Google Drive/Research Projects/Ongoing/Huwe/Data/Slide-seq/Puck_180620_1.h5ad', \n",
    "'/mnt/c/Users/vale/Google Drive/Research Projects/Ongoing/Huwe/Data/Slide-seq/Puck_180620_3.h5ad', \n",
    "'/mnt/c/Users/vale/Google Drive/Research Projects/Ongoing/Huwe/Data/Slide-seq/Puck_180620_4.h5ad', \n",
    "'/mnt/c/Users/vale/Google Drive/Research Projects/Ongoing/Huwe/Data/Slide-seq/Puck_180620_5.h5ad', \n",
    "'/mnt/c/Users/vale/Google Drive/Research Projects/Ongoing/Huwe/Data/Slide-seq/Puck_180728_15.h5ad', \n",
    "'/mnt/c/Users/vale/Google Drive/Research Projects/Ongoing/Huwe/Data/Slide-seq/Puck_180803_8.h5ad', \n",
    "'/mnt/c/Users/vale/Google Drive/Research Projects/Ongoing/Huwe/Data/Slide-seq/Puck_180819_1.h5ad', \n",
    "'/mnt/c/Users/vale/Google Drive/Research Projects/Ongoing/Huwe/Data/Slide-seq/Puck_180819_10.h5ad', \n",
    "'/mnt/c/Users/vale/Google Drive/Research Projects/Ongoing/Huwe/Data/Slide-seq/Puck_180819_11.h5ad', \n",
    "'/mnt/c/Users/vale/Google Drive/Research Projects/Ongoing/Huwe/Data/Slide-seq/Puck_180819_12.h5ad', \n",
    "'/mnt/c/Users/vale/Google Drive/Research Projects/Ongoing/Huwe/Data/Slide-seq/Puck_180819_13.h5ad', \n",
    "'/mnt/c/Users/vale/Google Drive/Research Projects/Ongoing/Huwe/Data/Slide-seq/Puck_180819_14.h5ad', \n",
    "'/mnt/c/Users/vale/Google Drive/Research Projects/Ongoing/Huwe/Data/Slide-seq/Puck_180819_16.h5ad', \n",
    "'/mnt/c/Users/vale/Google Drive/Research Projects/Ongoing/Huwe/Data/Slide-seq/Puck_180819_18.h5ad', \n",
    "'/mnt/c/Users/vale/Google Drive/Research Projects/Ongoing/Huwe/Data/Slide-seq/Puck_180819_19.h5ad', \n",
    "'/mnt/c/Users/vale/Google Drive/Research Projects/Ongoing/Huwe/Data/Slide-seq/Puck_180819_2.h5ad', \n",
    "'/mnt/c/Users/vale/Google Drive/Research Projects/Ongoing/Huwe/Data/Slide-seq/Puck_180819_24.h5ad', \n",
    "'/mnt/c/Users/vale/Google Drive/Research Projects/Ongoing/Huwe/Data/Slide-seq/Puck_180819_26.h5ad', \n",
    "'/mnt/c/Users/vale/Google Drive/Research Projects/Ongoing/Huwe/Data/Slide-seq/Puck_180819_3.h5ad', \n",
    "'/mnt/c/Users/vale/Google Drive/Research Projects/Ongoing/Huwe/Data/Slide-seq/Puck_180819_30.h5ad', \n",
    "'/mnt/c/Users/vale/Google Drive/Research Projects/Ongoing/Huwe/Data/Slide-seq/Puck_180819_4.h5ad', \n",
    "'/mnt/c/Users/vale/Google Drive/Research Projects/Ongoing/Huwe/Data/Slide-seq/Puck_180819_5.h5ad', \n",
    "'/mnt/c/Users/vale/Google Drive/Research Projects/Ongoing/Huwe/Data/Slide-seq/Puck_180819_6.h5ad', \n",
    "'/mnt/c/Users/vale/Google Drive/Research Projects/Ongoing/Huwe/Data/Slide-seq/Puck_180819_7.h5ad', \n",
    "'/mnt/c/Users/vale/Google Drive/Research Projects/Ongoing/Huwe/Data/Slide-seq/Puck_180819_8.h5ad', \n",
    "'/mnt/c/Users/vale/Google Drive/Research Projects/Ongoing/Huwe/Data/Slide-seq/Puck_180819_9.h5ad', \n",
    "'/mnt/c/Users/vale/Google Drive/Research Projects/Ongoing/Huwe/Data/Slide-seq/Puck_180821_12.h5ad', \n",
    "'/mnt/c/Users/vale/Google Drive/Research Projects/Ongoing/Huwe/Data/Slide-seq/Puck_180821_3.h5ad', \n",
    "'/mnt/c/Users/vale/Google Drive/Research Projects/Ongoing/Huwe/Data/Slide-seq/Puck_180821_8.h5ad', \n",
    "'/mnt/c/Users/vale/Google Drive/Research Projects/Ongoing/Huwe/Data/Slide-seq/Puck_180821_9.h5ad', \n",
    "]"
   ]
  },
  {
   "cell_type": "code",
   "execution_count": 71,
   "id": "dc1df92a",
   "metadata": {},
   "outputs": [
    {
     "name": "stdout",
     "output_type": "stream",
     "text": [
      "/mnt/c/Users/vale/Google Drive/Research Projects/Ongoing/Huwe/Data/Slide-seq/Puck_180413_7.h5ad\n",
      "❗ no run & transform get linked, consider passing a `run` or calling ln.track()\n",
      "💡 file will be copied to default storage upon `save()` with key 'Slide-seq/Puck_180413_7.h5ad'\n",
      "💡 data is AnnDataLike, consider using .from_anndata() to link var_names and obs.columns as features\n",
      "✅ storing file 'hW58iEIDRNTHQQWrlC5S' at 's3://vals-scrna/.lamindb/hW58iEIDRNTHQQWrlC5S.h5ad'\n",
      "... uploading Puck_180413_7.h5ad: 1.00\n",
      "/mnt/c/Users/vale/Google Drive/Research Projects/Ongoing/Huwe/Data/Slide-seq/Puck_180528_20.h5ad\n",
      "❗ no run & transform get linked, consider passing a `run` or calling ln.track()\n",
      "💡 file will be copied to default storage upon `save()` with key 'Slide-seq/Puck_180528_20.h5ad'\n",
      "💡 data is AnnDataLike, consider using .from_anndata() to link var_names and obs.columns as features\n",
      "✅ storing file 'Jd7AiL9MZozrxpfzIdxb' at 's3://vals-scrna/.lamindb/Jd7AiL9MZozrxpfzIdxb.h5ad'\n",
      "... uploading Puck_180528_20.h5ad: 1.00\n",
      "/mnt/c/Users/vale/Google Drive/Research Projects/Ongoing/Huwe/Data/Slide-seq/Puck_180528_22.h5ad\n",
      "❗ no run & transform get linked, consider passing a `run` or calling ln.track()\n",
      "💡 file will be copied to default storage upon `save()` with key 'Slide-seq/Puck_180528_22.h5ad'\n",
      "💡 data is AnnDataLike, consider using .from_anndata() to link var_names and obs.columns as features\n",
      "✅ storing file 'b4aQHuQr41LgqMf8gXS7' at 's3://vals-scrna/.lamindb/b4aQHuQr41LgqMf8gXS7.h5ad'\n",
      "... uploading Puck_180528_22.h5ad: 1.00\n",
      "/mnt/c/Users/vale/Google Drive/Research Projects/Ongoing/Huwe/Data/Slide-seq/Puck_180528_23.h5ad\n",
      "❗ no run & transform get linked, consider passing a `run` or calling ln.track()\n",
      "💡 file will be copied to default storage upon `save()` with key 'Slide-seq/Puck_180528_23.h5ad'\n",
      "💡 data is AnnDataLike, consider using .from_anndata() to link var_names and obs.columns as features\n",
      "✅ storing file 'VCENflQacXdyBw41RtMq' at 's3://vals-scrna/.lamindb/VCENflQacXdyBw41RtMq.h5ad'\n",
      "... uploading Puck_180528_23.h5ad: 1.00\n",
      "/mnt/c/Users/vale/Google Drive/Research Projects/Ongoing/Huwe/Data/Slide-seq/Puck_180531_13.h5ad\n",
      "❗ no run & transform get linked, consider passing a `run` or calling ln.track()\n",
      "💡 file will be copied to default storage upon `save()` with key 'Slide-seq/Puck_180531_13.h5ad'\n",
      "💡 data is AnnDataLike, consider using .from_anndata() to link var_names and obs.columns as features\n",
      "✅ storing file 'z0IKsV96DeeNO4pGLbvR' at 's3://vals-scrna/.lamindb/z0IKsV96DeeNO4pGLbvR.h5ad'\n",
      "... uploading Puck_180531_13.h5ad: 1.00\n",
      "/mnt/c/Users/vale/Google Drive/Research Projects/Ongoing/Huwe/Data/Slide-seq/Puck_180531_16.h5ad\n",
      "❗ no run & transform get linked, consider passing a `run` or calling ln.track()\n",
      "💡 file will be copied to default storage upon `save()` with key 'Slide-seq/Puck_180531_16.h5ad'\n",
      "💡 data is AnnDataLike, consider using .from_anndata() to link var_names and obs.columns as features\n",
      "✅ storing file 'omFl69OJCxBHum1QNz9p' at 's3://vals-scrna/.lamindb/omFl69OJCxBHum1QNz9p.h5ad'\n",
      "... uploading Puck_180531_16.h5ad: 1.00\n",
      "/mnt/c/Users/vale/Google Drive/Research Projects/Ongoing/Huwe/Data/Slide-seq/Puck_180531_17.h5ad\n",
      "❗ no run & transform get linked, consider passing a `run` or calling ln.track()\n",
      "💡 file will be copied to default storage upon `save()` with key 'Slide-seq/Puck_180531_17.h5ad'\n",
      "💡 data is AnnDataLike, consider using .from_anndata() to link var_names and obs.columns as features\n",
      "✅ storing file 'XhhBc3QN4sd9spwCZyVk' at 's3://vals-scrna/.lamindb/XhhBc3QN4sd9spwCZyVk.h5ad'\n",
      "... uploading Puck_180531_17.h5ad: 1.00\n",
      "/mnt/c/Users/vale/Google Drive/Research Projects/Ongoing/Huwe/Data/Slide-seq/Puck_180531_18.h5ad\n",
      "❗ no run & transform get linked, consider passing a `run` or calling ln.track()\n",
      "💡 file will be copied to default storage upon `save()` with key 'Slide-seq/Puck_180531_18.h5ad'\n",
      "💡 data is AnnDataLike, consider using .from_anndata() to link var_names and obs.columns as features\n",
      "✅ storing file 'cw8AMJOopw5ZSw2RdaoT' at 's3://vals-scrna/.lamindb/cw8AMJOopw5ZSw2RdaoT.h5ad'\n",
      "... uploading Puck_180531_18.h5ad: 1.00\n",
      "/mnt/c/Users/vale/Google Drive/Research Projects/Ongoing/Huwe/Data/Slide-seq/Puck_180531_19.h5ad\n",
      "❗ no run & transform get linked, consider passing a `run` or calling ln.track()\n",
      "💡 file will be copied to default storage upon `save()` with key 'Slide-seq/Puck_180531_19.h5ad'\n",
      "💡 data is AnnDataLike, consider using .from_anndata() to link var_names and obs.columns as features\n",
      "✅ storing file '0K9qzI1NgAbiPZTGEW5M' at 's3://vals-scrna/.lamindb/0K9qzI1NgAbiPZTGEW5M.h5ad'\n",
      "... uploading Puck_180531_19.h5ad: 1.00\n",
      "/mnt/c/Users/vale/Google Drive/Research Projects/Ongoing/Huwe/Data/Slide-seq/Puck_180531_22.h5ad\n",
      "❗ no run & transform get linked, consider passing a `run` or calling ln.track()\n",
      "💡 file will be copied to default storage upon `save()` with key 'Slide-seq/Puck_180531_22.h5ad'\n",
      "💡 data is AnnDataLike, consider using .from_anndata() to link var_names and obs.columns as features\n",
      "✅ storing file 'qVJCZFHfH1nKwE1NwNd9' at 's3://vals-scrna/.lamindb/qVJCZFHfH1nKwE1NwNd9.h5ad'\n",
      "... uploading Puck_180531_22.h5ad: 1.00\n",
      "/mnt/c/Users/vale/Google Drive/Research Projects/Ongoing/Huwe/Data/Slide-seq/Puck_180531_23.h5ad\n",
      "❗ no run & transform get linked, consider passing a `run` or calling ln.track()\n",
      "💡 file will be copied to default storage upon `save()` with key 'Slide-seq/Puck_180531_23.h5ad'\n",
      "💡 data is AnnDataLike, consider using .from_anndata() to link var_names and obs.columns as features\n",
      "✅ storing file '4GAbf8T6sF9WIxB6ZyFU' at 's3://vals-scrna/.lamindb/4GAbf8T6sF9WIxB6ZyFU.h5ad'\n",
      "... uploading Puck_180531_23.h5ad: 1.00\n",
      "/mnt/c/Users/vale/Google Drive/Research Projects/Ongoing/Huwe/Data/Slide-seq/Puck_180602_15.h5ad\n",
      "❗ no run & transform get linked, consider passing a `run` or calling ln.track()\n",
      "💡 file will be copied to default storage upon `save()` with key 'Slide-seq/Puck_180602_15.h5ad'\n",
      "💡 data is AnnDataLike, consider using .from_anndata() to link var_names and obs.columns as features\n",
      "✅ storing file '8y8bBnsYluOQSUIFaz1w' at 's3://vals-scrna/.lamindb/8y8bBnsYluOQSUIFaz1w.h5ad'\n",
      "... uploading Puck_180602_15.h5ad: 1.00\n",
      "/mnt/c/Users/vale/Google Drive/Research Projects/Ongoing/Huwe/Data/Slide-seq/Puck_180602_16.h5ad\n",
      "❗ no run & transform get linked, consider passing a `run` or calling ln.track()\n",
      "💡 file will be copied to default storage upon `save()` with key 'Slide-seq/Puck_180602_16.h5ad'\n",
      "💡 data is AnnDataLike, consider using .from_anndata() to link var_names and obs.columns as features\n",
      "✅ storing file 'EyhxibZzkGPuXiOUKIM4' at 's3://vals-scrna/.lamindb/EyhxibZzkGPuXiOUKIM4.h5ad'\n",
      "... uploading Puck_180602_16.h5ad: 1.00\n",
      "/mnt/c/Users/vale/Google Drive/Research Projects/Ongoing/Huwe/Data/Slide-seq/Puck_180602_17.h5ad\n",
      "❗ no run & transform get linked, consider passing a `run` or calling ln.track()\n",
      "💡 file will be copied to default storage upon `save()` with key 'Slide-seq/Puck_180602_17.h5ad'\n",
      "💡 data is AnnDataLike, consider using .from_anndata() to link var_names and obs.columns as features\n",
      "✅ storing file 'Sni9Yspj1rPDYp8DV7DO' at 's3://vals-scrna/.lamindb/Sni9Yspj1rPDYp8DV7DO.h5ad'\n",
      "... uploading Puck_180602_17.h5ad: 1.00\n",
      "/mnt/c/Users/vale/Google Drive/Research Projects/Ongoing/Huwe/Data/Slide-seq/Puck_180602_18.h5ad\n",
      "❗ no run & transform get linked, consider passing a `run` or calling ln.track()\n",
      "💡 file will be copied to default storage upon `save()` with key 'Slide-seq/Puck_180602_18.h5ad'\n",
      "💡 data is AnnDataLike, consider using .from_anndata() to link var_names and obs.columns as features\n",
      "✅ storing file 'rZzBYGYbw4qnb8w97mec' at 's3://vals-scrna/.lamindb/rZzBYGYbw4qnb8w97mec.h5ad'\n",
      "... uploading Puck_180602_18.h5ad: 1.00\n",
      "/mnt/c/Users/vale/Google Drive/Research Projects/Ongoing/Huwe/Data/Slide-seq/Puck_180602_20.h5ad\n",
      "❗ no run & transform get linked, consider passing a `run` or calling ln.track()\n",
      "💡 file will be copied to default storage upon `save()` with key 'Slide-seq/Puck_180602_20.h5ad'\n",
      "💡 data is AnnDataLike, consider using .from_anndata() to link var_names and obs.columns as features\n",
      "✅ storing file '2664GL0SJnjl8O6TFtWI' at 's3://vals-scrna/.lamindb/2664GL0SJnjl8O6TFtWI.h5ad'\n",
      "... uploading Puck_180602_20.h5ad: 1.00\n"
     ]
    },
    {
     "name": "stdout",
     "output_type": "stream",
     "text": [
      "/mnt/c/Users/vale/Google Drive/Research Projects/Ongoing/Huwe/Data/Slide-seq/Puck_180602_21.h5ad\n",
      "❗ no run & transform get linked, consider passing a `run` or calling ln.track()\n",
      "💡 file will be copied to default storage upon `save()` with key 'Slide-seq/Puck_180602_21.h5ad'\n",
      "💡 data is AnnDataLike, consider using .from_anndata() to link var_names and obs.columns as features\n",
      "✅ storing file 'XzW6SclwGMy8gxQniWQc' at 's3://vals-scrna/.lamindb/XzW6SclwGMy8gxQniWQc.h5ad'\n",
      "... uploading Puck_180602_21.h5ad: 1.00\n",
      "/mnt/c/Users/vale/Google Drive/Research Projects/Ongoing/Huwe/Data/Slide-seq/Puck_180602_22.h5ad\n",
      "❗ no run & transform get linked, consider passing a `run` or calling ln.track()\n",
      "💡 file will be copied to default storage upon `save()` with key 'Slide-seq/Puck_180602_22.h5ad'\n",
      "💡 data is AnnDataLike, consider using .from_anndata() to link var_names and obs.columns as features\n",
      "✅ storing file 'qyvuUsTMrXz6oghjktM1' at 's3://vals-scrna/.lamindb/qyvuUsTMrXz6oghjktM1.h5ad'\n",
      "... uploading Puck_180602_22.h5ad: 1.00\n",
      "/mnt/c/Users/vale/Google Drive/Research Projects/Ongoing/Huwe/Data/Slide-seq/Puck_180602_23.h5ad\n",
      "❗ no run & transform get linked, consider passing a `run` or calling ln.track()\n",
      "💡 file will be copied to default storage upon `save()` with key 'Slide-seq/Puck_180602_23.h5ad'\n",
      "💡 data is AnnDataLike, consider using .from_anndata() to link var_names and obs.columns as features\n",
      "✅ storing file '6U68pTJqdSMyIFxNKdNc' at 's3://vals-scrna/.lamindb/6U68pTJqdSMyIFxNKdNc.h5ad'\n",
      "... uploading Puck_180602_23.h5ad: 1.00\n",
      "/mnt/c/Users/vale/Google Drive/Research Projects/Ongoing/Huwe/Data/Slide-seq/Puck_180602_24.h5ad\n",
      "❗ no run & transform get linked, consider passing a `run` or calling ln.track()\n",
      "💡 file will be copied to default storage upon `save()` with key 'Slide-seq/Puck_180602_24.h5ad'\n",
      "💡 data is AnnDataLike, consider using .from_anndata() to link var_names and obs.columns as features\n",
      "✅ storing file 'ed7pYvLN6QFODoU9XYDP' at 's3://vals-scrna/.lamindb/ed7pYvLN6QFODoU9XYDP.h5ad'\n",
      "... uploading Puck_180602_24.h5ad: 1.00\n",
      "/mnt/c/Users/vale/Google Drive/Research Projects/Ongoing/Huwe/Data/Slide-seq/Puck_180611_1.h5ad\n",
      "❗ no run & transform get linked, consider passing a `run` or calling ln.track()\n",
      "💡 file will be copied to default storage upon `save()` with key 'Slide-seq/Puck_180611_1.h5ad'\n",
      "💡 data is AnnDataLike, consider using .from_anndata() to link var_names and obs.columns as features\n",
      "✅ storing file 'EFA9TxEr8G7IreJ4dus3' at 's3://vals-scrna/.lamindb/EFA9TxEr8G7IreJ4dus3.h5ad'\n",
      "... uploading Puck_180611_1.h5ad: 1.00\n",
      "/mnt/c/Users/vale/Google Drive/Research Projects/Ongoing/Huwe/Data/Slide-seq/Puck_180611_10.h5ad\n",
      "❗ no run & transform get linked, consider passing a `run` or calling ln.track()\n",
      "💡 file will be copied to default storage upon `save()` with key 'Slide-seq/Puck_180611_10.h5ad'\n",
      "💡 data is AnnDataLike, consider using .from_anndata() to link var_names and obs.columns as features\n",
      "✅ storing file '9GScyHbyJI5ywBMchRw5' at 's3://vals-scrna/.lamindb/9GScyHbyJI5ywBMchRw5.h5ad'\n",
      "... uploading Puck_180611_10.h5ad: 1.00\n",
      "/mnt/c/Users/vale/Google Drive/Research Projects/Ongoing/Huwe/Data/Slide-seq/Puck_180611_11.h5ad\n",
      "❗ no run & transform get linked, consider passing a `run` or calling ln.track()\n",
      "💡 file will be copied to default storage upon `save()` with key 'Slide-seq/Puck_180611_11.h5ad'\n",
      "💡 data is AnnDataLike, consider using .from_anndata() to link var_names and obs.columns as features\n",
      "✅ storing file 'EHESKUp00MVeC36o6Wry' at 's3://vals-scrna/.lamindb/EHESKUp00MVeC36o6Wry.h5ad'\n",
      "... uploading Puck_180611_11.h5ad: 1.00\n",
      "/mnt/c/Users/vale/Google Drive/Research Projects/Ongoing/Huwe/Data/Slide-seq/Puck_180611_12.h5ad\n",
      "❗ no run & transform get linked, consider passing a `run` or calling ln.track()\n",
      "💡 file will be copied to default storage upon `save()` with key 'Slide-seq/Puck_180611_12.h5ad'\n",
      "💡 data is AnnDataLike, consider using .from_anndata() to link var_names and obs.columns as features\n",
      "✅ storing file 'wkwBP6ToE4iS8gN6Yb3v' at 's3://vals-scrna/.lamindb/wkwBP6ToE4iS8gN6Yb3v.h5ad'\n",
      "... uploading Puck_180611_12.h5ad: 1.00\n",
      "/mnt/c/Users/vale/Google Drive/Research Projects/Ongoing/Huwe/Data/Slide-seq/Puck_180611_13.h5ad\n",
      "❗ no run & transform get linked, consider passing a `run` or calling ln.track()\n",
      "💡 file will be copied to default storage upon `save()` with key 'Slide-seq/Puck_180611_13.h5ad'\n",
      "💡 data is AnnDataLike, consider using .from_anndata() to link var_names and obs.columns as features\n",
      "✅ storing file 'oEqn8fUZDhIfzO5xPdhn' at 's3://vals-scrna/.lamindb/oEqn8fUZDhIfzO5xPdhn.h5ad'\n",
      "... uploading Puck_180611_13.h5ad: 1.00\n",
      "/mnt/c/Users/vale/Google Drive/Research Projects/Ongoing/Huwe/Data/Slide-seq/Puck_180611_14.h5ad\n",
      "❗ no run & transform get linked, consider passing a `run` or calling ln.track()\n",
      "💡 file will be copied to default storage upon `save()` with key 'Slide-seq/Puck_180611_14.h5ad'\n",
      "💡 data is AnnDataLike, consider using .from_anndata() to link var_names and obs.columns as features\n",
      "✅ storing file 'mOeWlsjNLBhvmHzuncr2' at 's3://vals-scrna/.lamindb/mOeWlsjNLBhvmHzuncr2.h5ad'\n",
      "... uploading Puck_180611_14.h5ad: 1.00\n",
      "/mnt/c/Users/vale/Google Drive/Research Projects/Ongoing/Huwe/Data/Slide-seq/Puck_180611_16.h5ad\n",
      "❗ no run & transform get linked, consider passing a `run` or calling ln.track()\n",
      "💡 file will be copied to default storage upon `save()` with key 'Slide-seq/Puck_180611_16.h5ad'\n",
      "💡 data is AnnDataLike, consider using .from_anndata() to link var_names and obs.columns as features\n",
      "✅ storing file 'HjlUTY8F4fdKeRzahDHa' at 's3://vals-scrna/.lamindb/HjlUTY8F4fdKeRzahDHa.h5ad'\n",
      "... uploading Puck_180611_16.h5ad: 1.00\n",
      "/mnt/c/Users/vale/Google Drive/Research Projects/Ongoing/Huwe/Data/Slide-seq/Puck_180611_2.h5ad\n",
      "❗ no run & transform get linked, consider passing a `run` or calling ln.track()\n",
      "💡 file will be copied to default storage upon `save()` with key 'Slide-seq/Puck_180611_2.h5ad'\n",
      "💡 data is AnnDataLike, consider using .from_anndata() to link var_names and obs.columns as features\n",
      "✅ storing file '3d2ppJdVREvpkV6F8im6' at 's3://vals-scrna/.lamindb/3d2ppJdVREvpkV6F8im6.h5ad'\n",
      "... uploading Puck_180611_2.h5ad: 1.00\n",
      "/mnt/c/Users/vale/Google Drive/Research Projects/Ongoing/Huwe/Data/Slide-seq/Puck_180611_3.h5ad\n",
      "❗ no run & transform get linked, consider passing a `run` or calling ln.track()\n",
      "💡 file will be copied to default storage upon `save()` with key 'Slide-seq/Puck_180611_3.h5ad'\n",
      "💡 data is AnnDataLike, consider using .from_anndata() to link var_names and obs.columns as features\n",
      "✅ storing file 'OKjsV3Pp5c7sUYVUm9uZ' at 's3://vals-scrna/.lamindb/OKjsV3Pp5c7sUYVUm9uZ.h5ad'\n",
      "... uploading Puck_180611_3.h5ad: 1.00\n",
      "/mnt/c/Users/vale/Google Drive/Research Projects/Ongoing/Huwe/Data/Slide-seq/Puck_180611_4.h5ad\n",
      "❗ no run & transform get linked, consider passing a `run` or calling ln.track()\n",
      "💡 file will be copied to default storage upon `save()` with key 'Slide-seq/Puck_180611_4.h5ad'\n",
      "💡 data is AnnDataLike, consider using .from_anndata() to link var_names and obs.columns as features\n",
      "✅ storing file 'TIv3vLbljcDw1FDYOgaS' at 's3://vals-scrna/.lamindb/TIv3vLbljcDw1FDYOgaS.h5ad'\n",
      "... uploading Puck_180611_4.h5ad: 1.00\n",
      "/mnt/c/Users/vale/Google Drive/Research Projects/Ongoing/Huwe/Data/Slide-seq/Puck_180611_5.h5ad\n",
      "❗ no run & transform get linked, consider passing a `run` or calling ln.track()\n",
      "💡 file will be copied to default storage upon `save()` with key 'Slide-seq/Puck_180611_5.h5ad'\n",
      "💡 data is AnnDataLike, consider using .from_anndata() to link var_names and obs.columns as features\n",
      "✅ storing file 'Iz84tniGCOplYNdY1iS6' at 's3://vals-scrna/.lamindb/Iz84tniGCOplYNdY1iS6.h5ad'\n",
      "... uploading Puck_180611_5.h5ad: 1.00\n",
      "/mnt/c/Users/vale/Google Drive/Research Projects/Ongoing/Huwe/Data/Slide-seq/Puck_180611_6.h5ad\n",
      "❗ no run & transform get linked, consider passing a `run` or calling ln.track()\n",
      "💡 file will be copied to default storage upon `save()` with key 'Slide-seq/Puck_180611_6.h5ad'\n",
      "💡 data is AnnDataLike, consider using .from_anndata() to link var_names and obs.columns as features\n",
      "✅ storing file '6N2pdsCUvD00vYizqnnG' at 's3://vals-scrna/.lamindb/6N2pdsCUvD00vYizqnnG.h5ad'\n",
      "... uploading Puck_180611_6.h5ad: 1.00\n"
     ]
    },
    {
     "name": "stdout",
     "output_type": "stream",
     "text": [
      "/mnt/c/Users/vale/Google Drive/Research Projects/Ongoing/Huwe/Data/Slide-seq/Puck_180611_7.h5ad\n",
      "❗ no run & transform get linked, consider passing a `run` or calling ln.track()\n",
      "💡 file will be copied to default storage upon `save()` with key 'Slide-seq/Puck_180611_7.h5ad'\n",
      "💡 data is AnnDataLike, consider using .from_anndata() to link var_names and obs.columns as features\n",
      "✅ storing file 'ZH6X4sKhMQyEtHk65m05' at 's3://vals-scrna/.lamindb/ZH6X4sKhMQyEtHk65m05.h5ad'\n",
      "... uploading Puck_180611_7.h5ad: 1.00\n",
      "/mnt/c/Users/vale/Google Drive/Research Projects/Ongoing/Huwe/Data/Slide-seq/Puck_180611_8.h5ad\n",
      "❗ no run & transform get linked, consider passing a `run` or calling ln.track()\n",
      "💡 file will be copied to default storage upon `save()` with key 'Slide-seq/Puck_180611_8.h5ad'\n",
      "💡 data is AnnDataLike, consider using .from_anndata() to link var_names and obs.columns as features\n",
      "✅ storing file '6iYnGDw9iWnI0frC3KcI' at 's3://vals-scrna/.lamindb/6iYnGDw9iWnI0frC3KcI.h5ad'\n",
      "... uploading Puck_180611_8.h5ad: 1.00\n",
      "/mnt/c/Users/vale/Google Drive/Research Projects/Ongoing/Huwe/Data/Slide-seq/Puck_180611_9.h5ad\n",
      "❗ no run & transform get linked, consider passing a `run` or calling ln.track()\n",
      "💡 file will be copied to default storage upon `save()` with key 'Slide-seq/Puck_180611_9.h5ad'\n",
      "💡 data is AnnDataLike, consider using .from_anndata() to link var_names and obs.columns as features\n",
      "✅ storing file 'CZvv5EfGG8ORwgrMhb8b' at 's3://vals-scrna/.lamindb/CZvv5EfGG8ORwgrMhb8b.h5ad'\n",
      "... uploading Puck_180611_9.h5ad: 1.00\n",
      "/mnt/c/Users/vale/Google Drive/Research Projects/Ongoing/Huwe/Data/Slide-seq/Puck_180615_1.h5ad\n",
      "❗ no run & transform get linked, consider passing a `run` or calling ln.track()\n",
      "💡 file will be copied to default storage upon `save()` with key 'Slide-seq/Puck_180615_1.h5ad'\n",
      "💡 data is AnnDataLike, consider using .from_anndata() to link var_names and obs.columns as features\n",
      "✅ storing file 'rf5XGSOwYfGJhDTetjIk' at 's3://vals-scrna/.lamindb/rf5XGSOwYfGJhDTetjIk.h5ad'\n",
      "... uploading Puck_180615_1.h5ad: 1.00\n",
      "/mnt/c/Users/vale/Google Drive/Research Projects/Ongoing/Huwe/Data/Slide-seq/Puck_180615_10.h5ad\n",
      "❗ no run & transform get linked, consider passing a `run` or calling ln.track()\n",
      "💡 file will be copied to default storage upon `save()` with key 'Slide-seq/Puck_180615_10.h5ad'\n",
      "💡 data is AnnDataLike, consider using .from_anndata() to link var_names and obs.columns as features\n",
      "✅ storing file 'rJbmFbQ2nglwo5QB336T' at 's3://vals-scrna/.lamindb/rJbmFbQ2nglwo5QB336T.h5ad'\n",
      "... uploading Puck_180615_10.h5ad: 1.00\n",
      "/mnt/c/Users/vale/Google Drive/Research Projects/Ongoing/Huwe/Data/Slide-seq/Puck_180615_11.h5ad\n",
      "❗ no run & transform get linked, consider passing a `run` or calling ln.track()\n",
      "💡 file will be copied to default storage upon `save()` with key 'Slide-seq/Puck_180615_11.h5ad'\n",
      "💡 data is AnnDataLike, consider using .from_anndata() to link var_names and obs.columns as features\n",
      "✅ storing file 'opToLQABawIhA9THxv20' at 's3://vals-scrna/.lamindb/opToLQABawIhA9THxv20.h5ad'\n",
      "... uploading Puck_180615_11.h5ad: 1.00\n",
      "/mnt/c/Users/vale/Google Drive/Research Projects/Ongoing/Huwe/Data/Slide-seq/Puck_180615_12.h5ad\n",
      "❗ no run & transform get linked, consider passing a `run` or calling ln.track()\n",
      "💡 file will be copied to default storage upon `save()` with key 'Slide-seq/Puck_180615_12.h5ad'\n",
      "💡 data is AnnDataLike, consider using .from_anndata() to link var_names and obs.columns as features\n",
      "✅ storing file '0paD1KxGcEnyqVsfdItd' at 's3://vals-scrna/.lamindb/0paD1KxGcEnyqVsfdItd.h5ad'\n",
      "... uploading Puck_180615_12.h5ad: 1.00\n",
      "/mnt/c/Users/vale/Google Drive/Research Projects/Ongoing/Huwe/Data/Slide-seq/Puck_180615_14.h5ad\n",
      "❗ no run & transform get linked, consider passing a `run` or calling ln.track()\n",
      "💡 file will be copied to default storage upon `save()` with key 'Slide-seq/Puck_180615_14.h5ad'\n",
      "💡 data is AnnDataLike, consider using .from_anndata() to link var_names and obs.columns as features\n",
      "✅ storing file 'jiml8boEm4wdGX9RtV51' at 's3://vals-scrna/.lamindb/jiml8boEm4wdGX9RtV51.h5ad'\n",
      "... uploading Puck_180615_14.h5ad: 1.00\n",
      "/mnt/c/Users/vale/Google Drive/Research Projects/Ongoing/Huwe/Data/Slide-seq/Puck_180615_16.h5ad\n",
      "❗ no run & transform get linked, consider passing a `run` or calling ln.track()\n",
      "💡 file will be copied to default storage upon `save()` with key 'Slide-seq/Puck_180615_16.h5ad'\n",
      "💡 data is AnnDataLike, consider using .from_anndata() to link var_names and obs.columns as features\n",
      "✅ storing file 'J3bbBKczIW96cx3g29tW' at 's3://vals-scrna/.lamindb/J3bbBKczIW96cx3g29tW.h5ad'\n",
      "... uploading Puck_180615_16.h5ad: 1.00\n",
      "/mnt/c/Users/vale/Google Drive/Research Projects/Ongoing/Huwe/Data/Slide-seq/Puck_180615_17.h5ad\n",
      "❗ no run & transform get linked, consider passing a `run` or calling ln.track()\n",
      "💡 file will be copied to default storage upon `save()` with key 'Slide-seq/Puck_180615_17.h5ad'\n",
      "💡 data is AnnDataLike, consider using .from_anndata() to link var_names and obs.columns as features\n",
      "✅ storing file '2Unvq4t7fimNdMPshtjK' at 's3://vals-scrna/.lamindb/2Unvq4t7fimNdMPshtjK.h5ad'\n",
      "... uploading Puck_180615_17.h5ad: 1.00\n",
      "/mnt/c/Users/vale/Google Drive/Research Projects/Ongoing/Huwe/Data/Slide-seq/Puck_180615_18.h5ad\n",
      "❗ no run & transform get linked, consider passing a `run` or calling ln.track()\n",
      "💡 file will be copied to default storage upon `save()` with key 'Slide-seq/Puck_180615_18.h5ad'\n",
      "💡 data is AnnDataLike, consider using .from_anndata() to link var_names and obs.columns as features\n",
      "✅ storing file 'IKXoQrw0UzmUd2iLfaiu' at 's3://vals-scrna/.lamindb/IKXoQrw0UzmUd2iLfaiu.h5ad'\n",
      "... uploading Puck_180615_18.h5ad: 1.00\n",
      "/mnt/c/Users/vale/Google Drive/Research Projects/Ongoing/Huwe/Data/Slide-seq/Puck_180615_20.h5ad\n",
      "❗ no run & transform get linked, consider passing a `run` or calling ln.track()\n",
      "💡 file will be copied to default storage upon `save()` with key 'Slide-seq/Puck_180615_20.h5ad'\n",
      "💡 data is AnnDataLike, consider using .from_anndata() to link var_names and obs.columns as features\n",
      "✅ storing file 'pGbQkfC8qHdFxB2HENQB' at 's3://vals-scrna/.lamindb/pGbQkfC8qHdFxB2HENQB.h5ad'\n",
      "... uploading Puck_180615_20.h5ad: 1.00\n",
      "/mnt/c/Users/vale/Google Drive/Research Projects/Ongoing/Huwe/Data/Slide-seq/Puck_180615_21.h5ad\n",
      "❗ no run & transform get linked, consider passing a `run` or calling ln.track()\n",
      "💡 file will be copied to default storage upon `save()` with key 'Slide-seq/Puck_180615_21.h5ad'\n",
      "💡 data is AnnDataLike, consider using .from_anndata() to link var_names and obs.columns as features\n",
      "✅ storing file 'YdkrAmta2JHOjNiil55x' at 's3://vals-scrna/.lamindb/YdkrAmta2JHOjNiil55x.h5ad'\n",
      "... uploading Puck_180615_21.h5ad: 1.00\n",
      "/mnt/c/Users/vale/Google Drive/Research Projects/Ongoing/Huwe/Data/Slide-seq/Puck_180615_22.h5ad\n",
      "❗ no run & transform get linked, consider passing a `run` or calling ln.track()\n",
      "💡 file will be copied to default storage upon `save()` with key 'Slide-seq/Puck_180615_22.h5ad'\n",
      "💡 data is AnnDataLike, consider using .from_anndata() to link var_names and obs.columns as features\n",
      "✅ storing file 'jTJaTEA2LjbtUbqXXpia' at 's3://vals-scrna/.lamindb/jTJaTEA2LjbtUbqXXpia.h5ad'\n",
      "... uploading Puck_180615_22.h5ad: 1.00\n",
      "/mnt/c/Users/vale/Google Drive/Research Projects/Ongoing/Huwe/Data/Slide-seq/Puck_180615_3.h5ad\n",
      "❗ no run & transform get linked, consider passing a `run` or calling ln.track()\n",
      "💡 file will be copied to default storage upon `save()` with key 'Slide-seq/Puck_180615_3.h5ad'\n",
      "💡 data is AnnDataLike, consider using .from_anndata() to link var_names and obs.columns as features\n",
      "✅ storing file 'Kb6YttbKE2J2vLZVKc8C' at 's3://vals-scrna/.lamindb/Kb6YttbKE2J2vLZVKc8C.h5ad'\n",
      "... uploading Puck_180615_3.h5ad: 1.00\n",
      "/mnt/c/Users/vale/Google Drive/Research Projects/Ongoing/Huwe/Data/Slide-seq/Puck_180615_4.h5ad\n",
      "❗ no run & transform get linked, consider passing a `run` or calling ln.track()\n",
      "💡 file will be copied to default storage upon `save()` with key 'Slide-seq/Puck_180615_4.h5ad'\n",
      "💡 data is AnnDataLike, consider using .from_anndata() to link var_names and obs.columns as features\n",
      "✅ storing file 'Wrnhals1xiZAYSEngwN7' at 's3://vals-scrna/.lamindb/Wrnhals1xiZAYSEngwN7.h5ad'\n",
      "... uploading Puck_180615_4.h5ad: 1.00\n"
     ]
    },
    {
     "name": "stdout",
     "output_type": "stream",
     "text": [
      "/mnt/c/Users/vale/Google Drive/Research Projects/Ongoing/Huwe/Data/Slide-seq/Puck_180615_5.h5ad\n",
      "❗ no run & transform get linked, consider passing a `run` or calling ln.track()\n",
      "💡 file will be copied to default storage upon `save()` with key 'Slide-seq/Puck_180615_5.h5ad'\n",
      "💡 data is AnnDataLike, consider using .from_anndata() to link var_names and obs.columns as features\n",
      "✅ storing file 'wwttY8uY97cj9HIyHCB6' at 's3://vals-scrna/.lamindb/wwttY8uY97cj9HIyHCB6.h5ad'\n",
      "... uploading Puck_180615_5.h5ad: 1.00\n",
      "/mnt/c/Users/vale/Google Drive/Research Projects/Ongoing/Huwe/Data/Slide-seq/Puck_180615_6.h5ad\n",
      "❗ no run & transform get linked, consider passing a `run` or calling ln.track()\n",
      "💡 file will be copied to default storage upon `save()` with key 'Slide-seq/Puck_180615_6.h5ad'\n",
      "💡 data is AnnDataLike, consider using .from_anndata() to link var_names and obs.columns as features\n",
      "✅ storing file 'b2yRqlO4bC8IXK8hcyi6' at 's3://vals-scrna/.lamindb/b2yRqlO4bC8IXK8hcyi6.h5ad'\n",
      "... uploading Puck_180615_6.h5ad: 1.00\n",
      "/mnt/c/Users/vale/Google Drive/Research Projects/Ongoing/Huwe/Data/Slide-seq/Puck_180615_7.h5ad\n",
      "❗ no run & transform get linked, consider passing a `run` or calling ln.track()\n",
      "💡 file will be copied to default storage upon `save()` with key 'Slide-seq/Puck_180615_7.h5ad'\n",
      "💡 data is AnnDataLike, consider using .from_anndata() to link var_names and obs.columns as features\n",
      "✅ storing file 'r9WcLNTuTdcieSlCEYik' at 's3://vals-scrna/.lamindb/r9WcLNTuTdcieSlCEYik.h5ad'\n",
      "... uploading Puck_180615_7.h5ad: 1.00\n",
      "/mnt/c/Users/vale/Google Drive/Research Projects/Ongoing/Huwe/Data/Slide-seq/Puck_180615_8.h5ad\n",
      "❗ no run & transform get linked, consider passing a `run` or calling ln.track()\n",
      "💡 file will be copied to default storage upon `save()` with key 'Slide-seq/Puck_180615_8.h5ad'\n",
      "💡 data is AnnDataLike, consider using .from_anndata() to link var_names and obs.columns as features\n",
      "✅ storing file 'Hmi5waKLo6By8y63wLfd' at 's3://vals-scrna/.lamindb/Hmi5waKLo6By8y63wLfd.h5ad'\n",
      "... uploading Puck_180615_8.h5ad: 1.00\n",
      "/mnt/c/Users/vale/Google Drive/Research Projects/Ongoing/Huwe/Data/Slide-seq/Puck_180618_12.h5ad\n",
      "❗ no run & transform get linked, consider passing a `run` or calling ln.track()\n",
      "💡 file will be copied to default storage upon `save()` with key 'Slide-seq/Puck_180618_12.h5ad'\n",
      "💡 data is AnnDataLike, consider using .from_anndata() to link var_names and obs.columns as features\n",
      "✅ storing file 'VzTgZlOfBqGOYO7WxsNz' at 's3://vals-scrna/.lamindb/VzTgZlOfBqGOYO7WxsNz.h5ad'\n",
      "... uploading Puck_180618_12.h5ad: 1.00\n",
      "/mnt/c/Users/vale/Google Drive/Research Projects/Ongoing/Huwe/Data/Slide-seq/Puck_180618_13.h5ad\n",
      "❗ no run & transform get linked, consider passing a `run` or calling ln.track()\n",
      "💡 file will be copied to default storage upon `save()` with key 'Slide-seq/Puck_180618_13.h5ad'\n",
      "💡 data is AnnDataLike, consider using .from_anndata() to link var_names and obs.columns as features\n",
      "✅ storing file 'fBP1qAsii25qRe69Usnn' at 's3://vals-scrna/.lamindb/fBP1qAsii25qRe69Usnn.h5ad'\n",
      "... uploading Puck_180618_13.h5ad: 1.00\n",
      "/mnt/c/Users/vale/Google Drive/Research Projects/Ongoing/Huwe/Data/Slide-seq/Puck_180618_14.h5ad\n",
      "❗ no run & transform get linked, consider passing a `run` or calling ln.track()\n",
      "💡 file will be copied to default storage upon `save()` with key 'Slide-seq/Puck_180618_14.h5ad'\n",
      "💡 data is AnnDataLike, consider using .from_anndata() to link var_names and obs.columns as features\n",
      "✅ storing file '1WQbaHtGuSWZJyr6PWk0' at 's3://vals-scrna/.lamindb/1WQbaHtGuSWZJyr6PWk0.h5ad'\n",
      "... uploading Puck_180618_14.h5ad: 1.00\n",
      "/mnt/c/Users/vale/Google Drive/Research Projects/Ongoing/Huwe/Data/Slide-seq/Puck_180618_15.h5ad\n",
      "❗ no run & transform get linked, consider passing a `run` or calling ln.track()\n",
      "💡 file will be copied to default storage upon `save()` with key 'Slide-seq/Puck_180618_15.h5ad'\n",
      "💡 data is AnnDataLike, consider using .from_anndata() to link var_names and obs.columns as features\n",
      "✅ storing file 'Zx1IptWo9bhgk3QM4BdA' at 's3://vals-scrna/.lamindb/Zx1IptWo9bhgk3QM4BdA.h5ad'\n",
      "... uploading Puck_180618_15.h5ad: 1.00\n",
      "/mnt/c/Users/vale/Google Drive/Research Projects/Ongoing/Huwe/Data/Slide-seq/Puck_180618_16.h5ad\n",
      "❗ no run & transform get linked, consider passing a `run` or calling ln.track()\n",
      "💡 file will be copied to default storage upon `save()` with key 'Slide-seq/Puck_180618_16.h5ad'\n",
      "💡 data is AnnDataLike, consider using .from_anndata() to link var_names and obs.columns as features\n",
      "✅ storing file 'DxU8b1nOR48KXK9ZjMhG' at 's3://vals-scrna/.lamindb/DxU8b1nOR48KXK9ZjMhG.h5ad'\n",
      "... uploading Puck_180618_16.h5ad: 1.00\n",
      "/mnt/c/Users/vale/Google Drive/Research Projects/Ongoing/Huwe/Data/Slide-seq/Puck_180618_18.h5ad\n",
      "❗ no run & transform get linked, consider passing a `run` or calling ln.track()\n",
      "💡 file will be copied to default storage upon `save()` with key 'Slide-seq/Puck_180618_18.h5ad'\n",
      "💡 data is AnnDataLike, consider using .from_anndata() to link var_names and obs.columns as features\n",
      "✅ storing file 'kjBGnSAi0Njasg1VhjN9' at 's3://vals-scrna/.lamindb/kjBGnSAi0Njasg1VhjN9.h5ad'\n",
      "... uploading Puck_180618_18.h5ad: 1.00\n",
      "/mnt/c/Users/vale/Google Drive/Research Projects/Ongoing/Huwe/Data/Slide-seq/Puck_180618_20.h5ad\n",
      "❗ no run & transform get linked, consider passing a `run` or calling ln.track()\n",
      "💡 file will be copied to default storage upon `save()` with key 'Slide-seq/Puck_180618_20.h5ad'\n",
      "💡 data is AnnDataLike, consider using .from_anndata() to link var_names and obs.columns as features\n",
      "✅ storing file 'BwN91w0CvUWofzCIsJR5' at 's3://vals-scrna/.lamindb/BwN91w0CvUWofzCIsJR5.h5ad'\n",
      "... uploading Puck_180618_20.h5ad: 1.00\n",
      "/mnt/c/Users/vale/Google Drive/Research Projects/Ongoing/Huwe/Data/Slide-seq/Puck_180618_21.h5ad\n",
      "❗ no run & transform get linked, consider passing a `run` or calling ln.track()\n",
      "💡 file will be copied to default storage upon `save()` with key 'Slide-seq/Puck_180618_21.h5ad'\n",
      "💡 data is AnnDataLike, consider using .from_anndata() to link var_names and obs.columns as features\n",
      "✅ storing file '5FFSH7czKjK1aImWZLUd' at 's3://vals-scrna/.lamindb/5FFSH7czKjK1aImWZLUd.h5ad'\n",
      "... uploading Puck_180618_21.h5ad: 1.00\n",
      "/mnt/c/Users/vale/Google Drive/Research Projects/Ongoing/Huwe/Data/Slide-seq/Puck_180618_24.h5ad\n",
      "❗ no run & transform get linked, consider passing a `run` or calling ln.track()\n",
      "💡 file will be copied to default storage upon `save()` with key 'Slide-seq/Puck_180618_24.h5ad'\n",
      "💡 data is AnnDataLike, consider using .from_anndata() to link var_names and obs.columns as features\n",
      "✅ storing file 'YfrOPkRDfRU0SE6lwkz9' at 's3://vals-scrna/.lamindb/YfrOPkRDfRU0SE6lwkz9.h5ad'\n",
      "... uploading Puck_180618_24.h5ad: 1.00\n",
      "/mnt/c/Users/vale/Google Drive/Research Projects/Ongoing/Huwe/Data/Slide-seq/Puck_180618_3.h5ad\n",
      "❗ no run & transform get linked, consider passing a `run` or calling ln.track()\n",
      "💡 file will be copied to default storage upon `save()` with key 'Slide-seq/Puck_180618_3.h5ad'\n",
      "💡 data is AnnDataLike, consider using .from_anndata() to link var_names and obs.columns as features\n",
      "✅ storing file 'ppbYDUwki9gAv5hFBMxr' at 's3://vals-scrna/.lamindb/ppbYDUwki9gAv5hFBMxr.h5ad'\n",
      "... uploading Puck_180618_3.h5ad: 1.00\n",
      "/mnt/c/Users/vale/Google Drive/Research Projects/Ongoing/Huwe/Data/Slide-seq/Puck_180618_4.h5ad\n",
      "❗ no run & transform get linked, consider passing a `run` or calling ln.track()\n",
      "💡 file will be copied to default storage upon `save()` with key 'Slide-seq/Puck_180618_4.h5ad'\n",
      "💡 data is AnnDataLike, consider using .from_anndata() to link var_names and obs.columns as features\n",
      "✅ storing file 'pbvNAxMhUJ2OGbvl1cUD' at 's3://vals-scrna/.lamindb/pbvNAxMhUJ2OGbvl1cUD.h5ad'\n",
      "... uploading Puck_180618_4.h5ad: 1.00\n",
      "/mnt/c/Users/vale/Google Drive/Research Projects/Ongoing/Huwe/Data/Slide-seq/Puck_180618_7.h5ad\n",
      "❗ no run & transform get linked, consider passing a `run` or calling ln.track()\n",
      "💡 file will be copied to default storage upon `save()` with key 'Slide-seq/Puck_180618_7.h5ad'\n",
      "💡 data is AnnDataLike, consider using .from_anndata() to link var_names and obs.columns as features\n",
      "✅ storing file 'feb0LhLan2HUSPsPyDQc' at 's3://vals-scrna/.lamindb/feb0LhLan2HUSPsPyDQc.h5ad'\n",
      "... uploading Puck_180618_7.h5ad: 1.00\n"
     ]
    },
    {
     "name": "stdout",
     "output_type": "stream",
     "text": [
      "/mnt/c/Users/vale/Google Drive/Research Projects/Ongoing/Huwe/Data/Slide-seq/Puck_180620_1.h5ad\n",
      "❗ no run & transform get linked, consider passing a `run` or calling ln.track()\n",
      "💡 file will be copied to default storage upon `save()` with key 'Slide-seq/Puck_180620_1.h5ad'\n",
      "💡 data is AnnDataLike, consider using .from_anndata() to link var_names and obs.columns as features\n",
      "✅ storing file 'Phjo57c4XkmZXMh0mBc9' at 's3://vals-scrna/.lamindb/Phjo57c4XkmZXMh0mBc9.h5ad'\n",
      "... uploading Puck_180620_1.h5ad: 1.00\n",
      "/mnt/c/Users/vale/Google Drive/Research Projects/Ongoing/Huwe/Data/Slide-seq/Puck_180620_3.h5ad\n",
      "❗ no run & transform get linked, consider passing a `run` or calling ln.track()\n",
      "💡 file will be copied to default storage upon `save()` with key 'Slide-seq/Puck_180620_3.h5ad'\n",
      "💡 data is AnnDataLike, consider using .from_anndata() to link var_names and obs.columns as features\n",
      "✅ storing file 'ALjeQc27FLjtVjJImSOJ' at 's3://vals-scrna/.lamindb/ALjeQc27FLjtVjJImSOJ.h5ad'\n",
      "... uploading Puck_180620_3.h5ad: 1.00\n",
      "/mnt/c/Users/vale/Google Drive/Research Projects/Ongoing/Huwe/Data/Slide-seq/Puck_180620_4.h5ad\n",
      "❗ no run & transform get linked, consider passing a `run` or calling ln.track()\n",
      "💡 file will be copied to default storage upon `save()` with key 'Slide-seq/Puck_180620_4.h5ad'\n",
      "💡 data is AnnDataLike, consider using .from_anndata() to link var_names and obs.columns as features\n",
      "✅ storing file 'KGNyOYqhEStxSLtkILpx' at 's3://vals-scrna/.lamindb/KGNyOYqhEStxSLtkILpx.h5ad'\n",
      "... uploading Puck_180620_4.h5ad: 1.00\n",
      "/mnt/c/Users/vale/Google Drive/Research Projects/Ongoing/Huwe/Data/Slide-seq/Puck_180620_5.h5ad\n",
      "❗ no run & transform get linked, consider passing a `run` or calling ln.track()\n",
      "💡 file will be copied to default storage upon `save()` with key 'Slide-seq/Puck_180620_5.h5ad'\n",
      "💡 data is AnnDataLike, consider using .from_anndata() to link var_names and obs.columns as features\n",
      "✅ storing file 'cuHXvzTJeS60tycgZkWP' at 's3://vals-scrna/.lamindb/cuHXvzTJeS60tycgZkWP.h5ad'\n",
      "... uploading Puck_180620_5.h5ad: 1.00\n",
      "/mnt/c/Users/vale/Google Drive/Research Projects/Ongoing/Huwe/Data/Slide-seq/Puck_180728_15.h5ad\n",
      "❗ no run & transform get linked, consider passing a `run` or calling ln.track()\n",
      "💡 file will be copied to default storage upon `save()` with key 'Slide-seq/Puck_180728_15.h5ad'\n",
      "💡 data is AnnDataLike, consider using .from_anndata() to link var_names and obs.columns as features\n",
      "✅ storing file 'u2xGt5dnJ4Jks7cUy8DZ' at 's3://vals-scrna/.lamindb/u2xGt5dnJ4Jks7cUy8DZ.h5ad'\n",
      "... uploading Puck_180728_15.h5ad: 1.00\n",
      "/mnt/c/Users/vale/Google Drive/Research Projects/Ongoing/Huwe/Data/Slide-seq/Puck_180803_8.h5ad\n",
      "❗ no run & transform get linked, consider passing a `run` or calling ln.track()\n",
      "💡 file will be copied to default storage upon `save()` with key 'Slide-seq/Puck_180803_8.h5ad'\n",
      "💡 data is AnnDataLike, consider using .from_anndata() to link var_names and obs.columns as features\n",
      "✅ storing file 'ilsSUmvRmgggAoMxXshN' at 's3://vals-scrna/.lamindb/ilsSUmvRmgggAoMxXshN.h5ad'\n",
      "... uploading Puck_180803_8.h5ad: 1.00\n",
      "/mnt/c/Users/vale/Google Drive/Research Projects/Ongoing/Huwe/Data/Slide-seq/Puck_180819_1.h5ad\n",
      "❗ no run & transform get linked, consider passing a `run` or calling ln.track()\n",
      "💡 file will be copied to default storage upon `save()` with key 'Slide-seq/Puck_180819_1.h5ad'\n",
      "💡 data is AnnDataLike, consider using .from_anndata() to link var_names and obs.columns as features\n",
      "✅ storing file '7ZZkic4JcJBTcXB0Aiav' at 's3://vals-scrna/.lamindb/7ZZkic4JcJBTcXB0Aiav.h5ad'\n",
      "... uploading Puck_180819_1.h5ad: 1.00\n",
      "/mnt/c/Users/vale/Google Drive/Research Projects/Ongoing/Huwe/Data/Slide-seq/Puck_180819_10.h5ad\n",
      "❗ no run & transform get linked, consider passing a `run` or calling ln.track()\n",
      "💡 file will be copied to default storage upon `save()` with key 'Slide-seq/Puck_180819_10.h5ad'\n",
      "💡 data is AnnDataLike, consider using .from_anndata() to link var_names and obs.columns as features\n",
      "✅ storing file '8wCvpioqkIczJ9DqOow2' at 's3://vals-scrna/.lamindb/8wCvpioqkIczJ9DqOow2.h5ad'\n",
      "... uploading Puck_180819_10.h5ad: 1.00\n",
      "/mnt/c/Users/vale/Google Drive/Research Projects/Ongoing/Huwe/Data/Slide-seq/Puck_180819_11.h5ad\n",
      "❗ no run & transform get linked, consider passing a `run` or calling ln.track()\n",
      "💡 file will be copied to default storage upon `save()` with key 'Slide-seq/Puck_180819_11.h5ad'\n",
      "💡 data is AnnDataLike, consider using .from_anndata() to link var_names and obs.columns as features\n",
      "✅ storing file 're9bXZsi6wFPuih46tjU' at 's3://vals-scrna/.lamindb/re9bXZsi6wFPuih46tjU.h5ad'\n",
      "... uploading Puck_180819_11.h5ad: 1.00\n",
      "/mnt/c/Users/vale/Google Drive/Research Projects/Ongoing/Huwe/Data/Slide-seq/Puck_180819_12.h5ad\n",
      "❗ no run & transform get linked, consider passing a `run` or calling ln.track()\n",
      "💡 file will be copied to default storage upon `save()` with key 'Slide-seq/Puck_180819_12.h5ad'\n",
      "💡 data is AnnDataLike, consider using .from_anndata() to link var_names and obs.columns as features\n",
      "✅ storing file 'BYnGGE0n9stBZsqm5MvF' at 's3://vals-scrna/.lamindb/BYnGGE0n9stBZsqm5MvF.h5ad'\n",
      "... uploading Puck_180819_12.h5ad: 1.00\n",
      "/mnt/c/Users/vale/Google Drive/Research Projects/Ongoing/Huwe/Data/Slide-seq/Puck_180819_13.h5ad\n",
      "❗ no run & transform get linked, consider passing a `run` or calling ln.track()\n",
      "💡 file will be copied to default storage upon `save()` with key 'Slide-seq/Puck_180819_13.h5ad'\n",
      "💡 data is AnnDataLike, consider using .from_anndata() to link var_names and obs.columns as features\n",
      "✅ storing file 'XzKAFLWxDhzrLLu3FcQ9' at 's3://vals-scrna/.lamindb/XzKAFLWxDhzrLLu3FcQ9.h5ad'\n",
      "... uploading Puck_180819_13.h5ad: 1.00\n",
      "/mnt/c/Users/vale/Google Drive/Research Projects/Ongoing/Huwe/Data/Slide-seq/Puck_180819_14.h5ad\n",
      "❗ no run & transform get linked, consider passing a `run` or calling ln.track()\n",
      "💡 file will be copied to default storage upon `save()` with key 'Slide-seq/Puck_180819_14.h5ad'\n",
      "💡 data is AnnDataLike, consider using .from_anndata() to link var_names and obs.columns as features\n",
      "✅ storing file 'pVEiR25FqowMu5qwyGuS' at 's3://vals-scrna/.lamindb/pVEiR25FqowMu5qwyGuS.h5ad'\n",
      "... uploading Puck_180819_14.h5ad: 1.00\n",
      "/mnt/c/Users/vale/Google Drive/Research Projects/Ongoing/Huwe/Data/Slide-seq/Puck_180819_16.h5ad\n",
      "❗ no run & transform get linked, consider passing a `run` or calling ln.track()\n",
      "💡 file will be copied to default storage upon `save()` with key 'Slide-seq/Puck_180819_16.h5ad'\n",
      "💡 data is AnnDataLike, consider using .from_anndata() to link var_names and obs.columns as features\n",
      "✅ storing file 'rJ4vGaRdUxlrYmn3PDjw' at 's3://vals-scrna/.lamindb/rJ4vGaRdUxlrYmn3PDjw.h5ad'\n",
      "... uploading Puck_180819_16.h5ad: 1.00\n",
      "/mnt/c/Users/vale/Google Drive/Research Projects/Ongoing/Huwe/Data/Slide-seq/Puck_180819_18.h5ad\n",
      "❗ no run & transform get linked, consider passing a `run` or calling ln.track()\n",
      "💡 file will be copied to default storage upon `save()` with key 'Slide-seq/Puck_180819_18.h5ad'\n",
      "💡 data is AnnDataLike, consider using .from_anndata() to link var_names and obs.columns as features\n",
      "✅ storing file 'OsQg7jKD3t68OEiCxIB6' at 's3://vals-scrna/.lamindb/OsQg7jKD3t68OEiCxIB6.h5ad'\n",
      "... uploading Puck_180819_18.h5ad: 1.00\n",
      "/mnt/c/Users/vale/Google Drive/Research Projects/Ongoing/Huwe/Data/Slide-seq/Puck_180819_19.h5ad\n",
      "❗ no run & transform get linked, consider passing a `run` or calling ln.track()\n",
      "💡 file will be copied to default storage upon `save()` with key 'Slide-seq/Puck_180819_19.h5ad'\n",
      "💡 data is AnnDataLike, consider using .from_anndata() to link var_names and obs.columns as features\n",
      "✅ storing file 'QURjsFMhSmYOVTQtkHLM' at 's3://vals-scrna/.lamindb/QURjsFMhSmYOVTQtkHLM.h5ad'\n",
      "... uploading Puck_180819_19.h5ad: 1.00\n",
      "/mnt/c/Users/vale/Google Drive/Research Projects/Ongoing/Huwe/Data/Slide-seq/Puck_180819_2.h5ad\n",
      "❗ no run & transform get linked, consider passing a `run` or calling ln.track()\n",
      "💡 file will be copied to default storage upon `save()` with key 'Slide-seq/Puck_180819_2.h5ad'\n",
      "💡 data is AnnDataLike, consider using .from_anndata() to link var_names and obs.columns as features\n",
      "✅ storing file 'bMtp4EhBdF4xzPdJXUiA' at 's3://vals-scrna/.lamindb/bMtp4EhBdF4xzPdJXUiA.h5ad'\n",
      "... uploading Puck_180819_2.h5ad: 1.00\n"
     ]
    },
    {
     "name": "stdout",
     "output_type": "stream",
     "text": [
      "/mnt/c/Users/vale/Google Drive/Research Projects/Ongoing/Huwe/Data/Slide-seq/Puck_180819_24.h5ad\n",
      "❗ no run & transform get linked, consider passing a `run` or calling ln.track()\n",
      "💡 file will be copied to default storage upon `save()` with key 'Slide-seq/Puck_180819_24.h5ad'\n",
      "💡 data is AnnDataLike, consider using .from_anndata() to link var_names and obs.columns as features\n",
      "✅ storing file 'UJRsKfgSzPCZjSspiPje' at 's3://vals-scrna/.lamindb/UJRsKfgSzPCZjSspiPje.h5ad'\n",
      "... uploading Puck_180819_24.h5ad: 1.00\n",
      "/mnt/c/Users/vale/Google Drive/Research Projects/Ongoing/Huwe/Data/Slide-seq/Puck_180819_26.h5ad\n",
      "❗ no run & transform get linked, consider passing a `run` or calling ln.track()\n",
      "💡 file will be copied to default storage upon `save()` with key 'Slide-seq/Puck_180819_26.h5ad'\n",
      "💡 data is AnnDataLike, consider using .from_anndata() to link var_names and obs.columns as features\n",
      "✅ storing file '54MKdOGyI8RQt2kplIlL' at 's3://vals-scrna/.lamindb/54MKdOGyI8RQt2kplIlL.h5ad'\n",
      "... uploading Puck_180819_26.h5ad: 1.00\n",
      "/mnt/c/Users/vale/Google Drive/Research Projects/Ongoing/Huwe/Data/Slide-seq/Puck_180819_3.h5ad\n",
      "❗ no run & transform get linked, consider passing a `run` or calling ln.track()\n",
      "💡 file will be copied to default storage upon `save()` with key 'Slide-seq/Puck_180819_3.h5ad'\n",
      "💡 data is AnnDataLike, consider using .from_anndata() to link var_names and obs.columns as features\n",
      "✅ storing file 'wz7rP5uuAdNPbVwYLkDn' at 's3://vals-scrna/.lamindb/wz7rP5uuAdNPbVwYLkDn.h5ad'\n",
      "... uploading Puck_180819_3.h5ad: 1.00\n",
      "/mnt/c/Users/vale/Google Drive/Research Projects/Ongoing/Huwe/Data/Slide-seq/Puck_180819_30.h5ad\n",
      "❗ no run & transform get linked, consider passing a `run` or calling ln.track()\n",
      "💡 file will be copied to default storage upon `save()` with key 'Slide-seq/Puck_180819_30.h5ad'\n",
      "💡 data is AnnDataLike, consider using .from_anndata() to link var_names and obs.columns as features\n",
      "✅ storing file 'NmK8r47sphnUsFjAP9O2' at 's3://vals-scrna/.lamindb/NmK8r47sphnUsFjAP9O2.h5ad'\n",
      "... uploading Puck_180819_30.h5ad: 1.00\n",
      "/mnt/c/Users/vale/Google Drive/Research Projects/Ongoing/Huwe/Data/Slide-seq/Puck_180819_4.h5ad\n",
      "❗ no run & transform get linked, consider passing a `run` or calling ln.track()\n",
      "💡 file will be copied to default storage upon `save()` with key 'Slide-seq/Puck_180819_4.h5ad'\n",
      "💡 data is AnnDataLike, consider using .from_anndata() to link var_names and obs.columns as features\n",
      "✅ storing file 'mN6VNKWJJThPPV3smq34' at 's3://vals-scrna/.lamindb/mN6VNKWJJThPPV3smq34.h5ad'\n",
      "... uploading Puck_180819_4.h5ad: 1.00\n",
      "/mnt/c/Users/vale/Google Drive/Research Projects/Ongoing/Huwe/Data/Slide-seq/Puck_180819_5.h5ad\n",
      "❗ no run & transform get linked, consider passing a `run` or calling ln.track()\n",
      "💡 file will be copied to default storage upon `save()` with key 'Slide-seq/Puck_180819_5.h5ad'\n",
      "💡 data is AnnDataLike, consider using .from_anndata() to link var_names and obs.columns as features\n",
      "✅ storing file 'y3qyrbCjeYvJ8EhAjJGI' at 's3://vals-scrna/.lamindb/y3qyrbCjeYvJ8EhAjJGI.h5ad'\n",
      "... uploading Puck_180819_5.h5ad: 1.00\n",
      "/mnt/c/Users/vale/Google Drive/Research Projects/Ongoing/Huwe/Data/Slide-seq/Puck_180819_6.h5ad\n",
      "❗ no run & transform get linked, consider passing a `run` or calling ln.track()\n",
      "💡 file will be copied to default storage upon `save()` with key 'Slide-seq/Puck_180819_6.h5ad'\n",
      "💡 data is AnnDataLike, consider using .from_anndata() to link var_names and obs.columns as features\n",
      "✅ storing file 'XNFFDLBMN7xfzjmxU3ZN' at 's3://vals-scrna/.lamindb/XNFFDLBMN7xfzjmxU3ZN.h5ad'\n",
      "... uploading Puck_180819_6.h5ad: 1.00\n",
      "/mnt/c/Users/vale/Google Drive/Research Projects/Ongoing/Huwe/Data/Slide-seq/Puck_180819_7.h5ad\n",
      "❗ no run & transform get linked, consider passing a `run` or calling ln.track()\n",
      "💡 file will be copied to default storage upon `save()` with key 'Slide-seq/Puck_180819_7.h5ad'\n",
      "💡 data is AnnDataLike, consider using .from_anndata() to link var_names and obs.columns as features\n",
      "✅ storing file 'CbR3uiW31luyzUKETvWH' at 's3://vals-scrna/.lamindb/CbR3uiW31luyzUKETvWH.h5ad'\n",
      "... uploading Puck_180819_7.h5ad: 1.00\n",
      "/mnt/c/Users/vale/Google Drive/Research Projects/Ongoing/Huwe/Data/Slide-seq/Puck_180819_8.h5ad\n",
      "❗ no run & transform get linked, consider passing a `run` or calling ln.track()\n",
      "💡 file will be copied to default storage upon `save()` with key 'Slide-seq/Puck_180819_8.h5ad'\n",
      "💡 data is AnnDataLike, consider using .from_anndata() to link var_names and obs.columns as features\n",
      "✅ storing file 'Cs9gYdAdCUA8g5L44ESD' at 's3://vals-scrna/.lamindb/Cs9gYdAdCUA8g5L44ESD.h5ad'\n",
      "... uploading Puck_180819_8.h5ad: 1.00\n",
      "/mnt/c/Users/vale/Google Drive/Research Projects/Ongoing/Huwe/Data/Slide-seq/Puck_180819_9.h5ad\n",
      "❗ no run & transform get linked, consider passing a `run` or calling ln.track()\n",
      "💡 file will be copied to default storage upon `save()` with key 'Slide-seq/Puck_180819_9.h5ad'\n",
      "💡 data is AnnDataLike, consider using .from_anndata() to link var_names and obs.columns as features\n",
      "✅ storing file 'yHXy2fEjWpJtWmDtV3Q9' at 's3://vals-scrna/.lamindb/yHXy2fEjWpJtWmDtV3Q9.h5ad'\n",
      "... uploading Puck_180819_9.h5ad: 1.00\n",
      "/mnt/c/Users/vale/Google Drive/Research Projects/Ongoing/Huwe/Data/Slide-seq/Puck_180821_12.h5ad\n",
      "❗ no run & transform get linked, consider passing a `run` or calling ln.track()\n",
      "💡 file will be copied to default storage upon `save()` with key 'Slide-seq/Puck_180821_12.h5ad'\n",
      "💡 data is AnnDataLike, consider using .from_anndata() to link var_names and obs.columns as features\n",
      "✅ storing file 'FoxKaR9SB1AVYO4mybUO' at 's3://vals-scrna/.lamindb/FoxKaR9SB1AVYO4mybUO.h5ad'\n",
      "... uploading Puck_180821_12.h5ad: 1.00\n",
      "/mnt/c/Users/vale/Google Drive/Research Projects/Ongoing/Huwe/Data/Slide-seq/Puck_180821_3.h5ad\n",
      "❗ no run & transform get linked, consider passing a `run` or calling ln.track()\n",
      "💡 file will be copied to default storage upon `save()` with key 'Slide-seq/Puck_180821_3.h5ad'\n",
      "💡 data is AnnDataLike, consider using .from_anndata() to link var_names and obs.columns as features\n",
      "✅ storing file 'X20i0wxSCSnM8YWmCO7q' at 's3://vals-scrna/.lamindb/X20i0wxSCSnM8YWmCO7q.h5ad'\n",
      "... uploading Puck_180821_3.h5ad: 1.00\n",
      "/mnt/c/Users/vale/Google Drive/Research Projects/Ongoing/Huwe/Data/Slide-seq/Puck_180821_8.h5ad\n",
      "❗ no run & transform get linked, consider passing a `run` or calling ln.track()\n",
      "💡 file will be copied to default storage upon `save()` with key 'Slide-seq/Puck_180821_8.h5ad'\n",
      "💡 data is AnnDataLike, consider using .from_anndata() to link var_names and obs.columns as features\n",
      "✅ storing file 'KQqq6HZXHRRlLDiR41Bl' at 's3://vals-scrna/.lamindb/KQqq6HZXHRRlLDiR41Bl.h5ad'\n",
      "... uploading Puck_180821_8.h5ad: 1.00\n",
      "/mnt/c/Users/vale/Google Drive/Research Projects/Ongoing/Huwe/Data/Slide-seq/Puck_180821_9.h5ad\n",
      "❗ no run & transform get linked, consider passing a `run` or calling ln.track()\n",
      "💡 file will be copied to default storage upon `save()` with key 'Slide-seq/Puck_180821_9.h5ad'\n",
      "💡 data is AnnDataLike, consider using .from_anndata() to link var_names and obs.columns as features\n",
      "✅ storing file 'jGAzJSfnOyXKg6SCcSLW' at 's3://vals-scrna/.lamindb/jGAzJSfnOyXKg6SCcSLW.h5ad'\n",
      "... uploading Puck_180821_9.h5ad: 1.00\n",
      "\r"
     ]
    }
   ],
   "source": [
    "for fname in file_list:\n",
    "    print(fname)\n",
    "    file = ln.File(fname, key = fname.replace('/mnt/c/Users/vale/Google Drive/Research Projects/Ongoing/Huwe/Data/', ''))\n",
    "    file.save()"
   ]
  },
  {
   "cell_type": "code",
   "execution_count": null,
   "id": "b9eb3aa7",
   "metadata": {},
   "outputs": [],
   "source": []
  },
  {
   "cell_type": "code",
   "execution_count": 72,
   "id": "1aea434a",
   "metadata": {},
   "outputs": [
    {
     "name": "stdout",
     "output_type": "stream",
     "text": [
      "❗ no run & transform get linked, consider passing a `run` or calling ln.track()\n",
      "💡 file will be copied to default storage upon `save()` with key 'Slide-seq/slide_seq_sagittal_hippocampus.h5ad'\n",
      "💡 data is AnnDataLike, consider using .from_anndata() to link var_names and obs.columns as features\n"
     ]
    }
   ],
   "source": [
    "file = ln.File(\n",
    "    '/mnt/c/Users/vale/Google Drive/Research Projects/Ongoing/Huwe/Data/Slide-seq/slide_seq_sagittal_hippocampus.h5ad',\n",
    "    key = 'Slide-seq/slide_seq_sagittal_hippocampus.h5ad'\n",
    ")"
   ]
  },
  {
   "cell_type": "code",
   "execution_count": 73,
   "id": "7b3a1cd7",
   "metadata": {},
   "outputs": [
    {
     "name": "stdout",
     "output_type": "stream",
     "text": [
      "✅ storing file 'xwOMBGwlquJFXbE10y7A' at 's3://vals-scrna/.lamindb/xwOMBGwlquJFXbE10y7A.h5ad'\n",
      "... uploading slide_seq_sagittal_hippocampus.h5ad: 1.00\n",
      "\r"
     ]
    }
   ],
   "source": [
    "file.save()"
   ]
  },
  {
   "cell_type": "code",
   "execution_count": null,
   "id": "f192b5fc",
   "metadata": {},
   "outputs": [],
   "source": []
  },
  {
   "cell_type": "code",
   "execution_count": 74,
   "id": "8587efe2",
   "metadata": {},
   "outputs": [
    {
     "name": "stdout",
     "output_type": "stream",
     "text": [
      "❗ no run & transform get linked, consider passing a `run` or calling ln.track()\n",
      "💡 file will be copied to default storage upon `save()` with key 'ST-MOb/ST-MOb.h5ad'\n",
      "💡 data is AnnDataLike, consider using .from_anndata() to link var_names and obs.columns as features\n"
     ]
    }
   ],
   "source": [
    "file = ln.File(\n",
    "    '/mnt/c/Users/vale/Google Drive/Research Projects/Ongoing/Huwe/Data/ST-MOb/ST-MOb.h5ad',\n",
    "    key = 'ST-MOb/ST-MOb.h5ad'\n",
    ")"
   ]
  },
  {
   "cell_type": "code",
   "execution_count": 75,
   "id": "1863627a",
   "metadata": {},
   "outputs": [
    {
     "name": "stdout",
     "output_type": "stream",
     "text": [
      "✅ storing file 'ptQOo0RJyS7rgJUvMPry' at 's3://vals-scrna/.lamindb/ptQOo0RJyS7rgJUvMPry.h5ad'\n",
      "... uploading ST-MOb.h5ad: 1.00\n",
      "\r"
     ]
    }
   ],
   "source": [
    "file.save()"
   ]
  },
  {
   "cell_type": "code",
   "execution_count": null,
   "id": "06f3650c",
   "metadata": {},
   "outputs": [],
   "source": []
  },
  {
   "cell_type": "code",
   "execution_count": 76,
   "id": "07e614db",
   "metadata": {},
   "outputs": [],
   "source": [
    "file_list = [\n",
    "'/mnt/c/Users/vale/Google Drive/Research Projects/Ongoing/Huwe/Data/STARmap/combinatorially_encoded/mpfc_160/20180417_BZ5_control.h5ad', \n",
    "'/mnt/c/Users/vale/Google Drive/Research Projects/Ongoing/Huwe/Data/STARmap/combinatorially_encoded/mpfc_160/20180419_BZ9_control.h5ad', \n",
    "'/mnt/c/Users/vale/Google Drive/Research Projects/Ongoing/Huwe/Data/STARmap/combinatorially_encoded/mpfc_160/20180421_BZ19_cocaine.h5ad', \n",
    "'/mnt/c/Users/vale/Google Drive/Research Projects/Ongoing/Huwe/Data/STARmap/combinatorially_encoded/mpfc_160/20180424_BZ14_control.h5ad', \n",
    "'/mnt/c/Users/vale/Google Drive/Research Projects/Ongoing/Huwe/Data/STARmap/combinatorially_encoded/visual_1020/20180410-BY3_1kgenes.h5ad', \n",
    "'/mnt/c/Users/vale/Google Drive/Research Projects/Ongoing/Huwe/Data/STARmap/combinatorially_encoded/visual_1020/20180505_BY3_1kgenes.h5ad', \n",
    "'/mnt/c/Users/vale/Google Drive/Research Projects/Ongoing/Huwe/Data/STARmap/combinatorially_encoded/visual_160/20170915_BD2_dark.h5ad', \n",
    "'/mnt/c/Users/vale/Google Drive/Research Projects/Ongoing/Huwe/Data/STARmap/combinatorially_encoded/visual_160/20171110_BF2_dark.h5ad', \n",
    "'/mnt/c/Users/vale/Google Drive/Research Projects/Ongoing/Huwe/Data/STARmap/combinatorially_encoded/visual_160/20171115_BF5_light.h5ad', \n",
    "'/mnt/c/Users/vale/Google Drive/Research Projects/Ongoing/Huwe/Data/STARmap/combinatorially_encoded/visual_160/20171120_BF4_light.h5ad', \n",
    "]"
   ]
  },
  {
   "cell_type": "code",
   "execution_count": 77,
   "id": "52e0a4e9",
   "metadata": {},
   "outputs": [
    {
     "name": "stdout",
     "output_type": "stream",
     "text": [
      "/mnt/c/Users/vale/Google Drive/Research Projects/Ongoing/Huwe/Data/STARmap/combinatorially_encoded/mpfc_160/20180417_BZ5_control.h5ad\n",
      "❗ no run & transform get linked, consider passing a `run` or calling ln.track()\n",
      "❗ returning existing file with same hash: File(uid='DoDaxu17T2a6CgjFdcRy', key='starmap-2018/combinatorially_encoded/mpfc_160/20180417_BZ5_control.h5ad', suffix='.h5ad', accessor='AnnData', size=156137, hash='G5g4iHKhXVGOfz_56g_Dbg', hash_type='md5', visibility=0, key_is_virtual=True, updated_at=2023-11-06 17:06:40, storage_id=1, created_by_id=1)\n",
      "/mnt/c/Users/vale/Google Drive/Research Projects/Ongoing/Huwe/Data/STARmap/combinatorially_encoded/mpfc_160/20180419_BZ9_control.h5ad\n",
      "❗ no run & transform get linked, consider passing a `run` or calling ln.track()\n",
      "❗ returning existing file with same hash: File(uid='SiulqpMSFCbyx0vcQ6UD', key='starmap-2018/combinatorially_encoded/mpfc_160/20180419_BZ9_control.h5ad', suffix='.h5ad', accessor='AnnData', size=145596, hash='jbw4RducbQYWeJgIxlUnIA', hash_type='md5', visibility=0, key_is_virtual=True, updated_at=2023-11-06 17:07:12, storage_id=1, created_by_id=1)\n",
      "/mnt/c/Users/vale/Google Drive/Research Projects/Ongoing/Huwe/Data/STARmap/combinatorially_encoded/mpfc_160/20180421_BZ19_cocaine.h5ad\n",
      "❗ no run & transform get linked, consider passing a `run` or calling ln.track()\n",
      "❗ returning existing file with same hash: File(uid='gGcXwHV0efhJo3PNmsrp', key='starmap-2018/combinatorially_encoded/mpfc_160/20180421_BZ19_cocaine.h5ad', suffix='.h5ad', accessor='AnnData', size=166053, hash='aHHX8mqHeGTfOWL7lQmMiQ', hash_type='md5', visibility=0, key_is_virtual=True, updated_at=2023-11-06 17:07:52, storage_id=1, created_by_id=1)\n",
      "/mnt/c/Users/vale/Google Drive/Research Projects/Ongoing/Huwe/Data/STARmap/combinatorially_encoded/mpfc_160/20180424_BZ14_control.h5ad\n",
      "❗ no run & transform get linked, consider passing a `run` or calling ln.track()\n",
      "❗ returning existing file with same hash: File(uid='DBeK2oWhgJy5flzx8j1S', key='starmap-2018/combinatorially_encoded/mpfc_160/20180424_BZ14_control.h5ad', suffix='.h5ad', accessor='AnnData', size=156520, hash='fePgcjw-scPNUsAfLZhTMw', hash_type='md5', visibility=0, key_is_virtual=True, updated_at=2023-11-07 03:56:12, storage_id=1, created_by_id=1)\n",
      "/mnt/c/Users/vale/Google Drive/Research Projects/Ongoing/Huwe/Data/STARmap/combinatorially_encoded/visual_1020/20180410-BY3_1kgenes.h5ad\n",
      "❗ no run & transform get linked, consider passing a `run` or calling ln.track()\n",
      "❗ returning existing file with same hash: File(uid='X7Cl5FlETk5CIijnoAm2', key='starmap-2018/combinatorially_encoded/visual_1020/20180410-BY3_1kgenes.h5ad', suffix='.h5ad', accessor='AnnData', size=481835, hash='Ksy5sl3cIR_6-87LhJN9kQ', hash_type='md5', visibility=0, key_is_virtual=True, updated_at=2023-11-07 03:57:07, storage_id=1, created_by_id=1)\n",
      "/mnt/c/Users/vale/Google Drive/Research Projects/Ongoing/Huwe/Data/STARmap/combinatorially_encoded/visual_1020/20180505_BY3_1kgenes.h5ad\n",
      "❗ no run & transform get linked, consider passing a `run` or calling ln.track()\n",
      "❗ returning existing file with same hash: File(uid='p12ueDtPUK1N536Wdjce', key='starmap-2018/combinatorially_encoded/visual_1020/20180505_BY3_1kgenes.h5ad', suffix='.h5ad', accessor='AnnData', size=625683, hash='w1cCQRX0eRApBTEHeAd3dw', hash_type='md5', visibility=0, key_is_virtual=True, updated_at=2023-11-07 03:57:44, storage_id=1, created_by_id=1)\n",
      "/mnt/c/Users/vale/Google Drive/Research Projects/Ongoing/Huwe/Data/STARmap/combinatorially_encoded/visual_160/20170915_BD2_dark.h5ad\n",
      "❗ no run & transform get linked, consider passing a `run` or calling ln.track()\n",
      "❗ returning existing file with same hash: File(uid='z30pvupgc3znNae1K5pB', key='starmap-2018/combinatorially_encoded/visual_160/20170915_BD2_dark.h5ad', suffix='.h5ad', accessor='AnnData', size=128650, hash='0NeXjVtm9ii2JZi03Gko0A', hash_type='md5', visibility=0, key_is_virtual=True, updated_at=2023-11-07 03:58:57, storage_id=1, created_by_id=1)\n",
      "/mnt/c/Users/vale/Google Drive/Research Projects/Ongoing/Huwe/Data/STARmap/combinatorially_encoded/visual_160/20171110_BF2_dark.h5ad\n",
      "❗ no run & transform get linked, consider passing a `run` or calling ln.track()\n",
      "❗ returning existing file with same hash: File(uid='BPJofLzZAONaGoDBWBmP', key='starmap-2018/combinatorially_encoded/visual_160/20171110_BF2_dark.h5ad', suffix='.h5ad', accessor='AnnData', size=174479, hash='q_bgWzs0aOJduOylPUM1BA', hash_type='md5', visibility=0, key_is_virtual=True, updated_at=2023-11-07 03:59:33, storage_id=1, created_by_id=1)\n",
      "/mnt/c/Users/vale/Google Drive/Research Projects/Ongoing/Huwe/Data/STARmap/combinatorially_encoded/visual_160/20171115_BF5_light.h5ad\n",
      "❗ no run & transform get linked, consider passing a `run` or calling ln.track()\n",
      "❗ returning existing file with same hash: File(uid='Ek2r6x4Rk7y8UIgEh1hd', key='starmap-2018/combinatorially_encoded/visual_160/20171115_BF5_light.h5ad', suffix='.h5ad', accessor='AnnData', size=137367, hash='-DkjOelkWpm7Wone27wxkA', hash_type='md5', visibility=0, key_is_virtual=True, updated_at=2023-11-07 04:00:06, storage_id=1, created_by_id=1)\n",
      "/mnt/c/Users/vale/Google Drive/Research Projects/Ongoing/Huwe/Data/STARmap/combinatorially_encoded/visual_160/20171120_BF4_light.h5ad\n",
      "❗ no run & transform get linked, consider passing a `run` or calling ln.track()\n",
      "❗ returning existing file with same hash: File(uid='ITR6L4kXefSgkhYduxIF', key='starmap-2018/combinatorially_encoded/visual_160/20171120_BF4_light.h5ad', suffix='.h5ad', accessor='AnnData', size=112173, hash='KiFQHhDwqpcL2uC01QYKOg', hash_type='md5', visibility=0, key_is_virtual=True, updated_at=2023-11-07 04:00:34, storage_id=1, created_by_id=1)\n"
     ]
    }
   ],
   "source": [
    "for fname in file_list:\n",
    "    print(fname)\n",
    "    file = ln.File(fname, key = fname.replace('/mnt/c/Users/vale/Google Drive/Research Projects/Ongoing/Huwe/Data/', ''))\n",
    "    file.save()"
   ]
  },
  {
   "cell_type": "code",
   "execution_count": null,
   "id": "04d79427",
   "metadata": {},
   "outputs": [],
   "source": []
  },
  {
   "cell_type": "code",
   "execution_count": 78,
   "id": "eb3d8df4",
   "metadata": {},
   "outputs": [
    {
     "name": "stdout",
     "output_type": "stream",
     "text": [
      "❗ no run & transform get linked, consider passing a `run` or calling ln.track()\n",
      "❗ returning existing file with same hash: File(uid='Zkkyxd89G1VkflDs3LnM', key='starmap-2018/sequentially_encoded/20180123_BS10_light.h5ad', suffix='.h5ad', accessor='AnnData', size=2607891, hash='Yx1LLVIP5kdeLlWbON_s5A', hash_type='md5', visibility=0, key_is_virtual=True, updated_at=2023-11-07 04:01:35, storage_id=1, created_by_id=1)\n"
     ]
    }
   ],
   "source": [
    "file = ln.File(\n",
    "    '/mnt/c/Users/vale/Google Drive/Research Projects/Ongoing/Huwe/Data/STARmap/sequentially_encoded/20180123_BS10_light.h5ad',\n",
    "    key = 'STARmap/sequentially_encoded/20180123_BS10_light.h5ad'\n",
    ")"
   ]
  },
  {
   "cell_type": "code",
   "execution_count": null,
   "id": "6049d20f",
   "metadata": {},
   "outputs": [],
   "source": []
  },
  {
   "cell_type": "code",
   "execution_count": 79,
   "id": "7df10dd3",
   "metadata": {},
   "outputs": [
    {
     "name": "stdout",
     "output_type": "stream",
     "text": [
      "❗ no run & transform get linked, consider passing a `run` or calling ln.track()\n",
      "💡 file will be copied to default storage upon `save()` with key 'Tepe 2018/Tepe_GSE121891_OB.h5ad'\n",
      "💡 data is AnnDataLike, consider using .from_anndata() to link var_names and obs.columns as features\n"
     ]
    }
   ],
   "source": [
    "file = ln.File(\n",
    "    '/mnt/c/Users/vale/Google Drive/Research Projects/Ongoing/Huwe/Data/Tepe 2018/Tepe_GSE121891_OB.h5ad',\n",
    "    key = 'Tepe 2018/Tepe_GSE121891_OB.h5ad'\n",
    ")"
   ]
  },
  {
   "cell_type": "code",
   "execution_count": 80,
   "id": "204e3991",
   "metadata": {},
   "outputs": [
    {
     "name": "stdout",
     "output_type": "stream",
     "text": [
      "✅ storing file 'xJhlrBTIFjhkTAzPAEy9' at 's3://vals-scrna/.lamindb/xJhlrBTIFjhkTAzPAEy9.h5ad'\n",
      "... uploading Tepe_GSE121891_OB.h5ad: 1.00\n",
      "\r"
     ]
    }
   ],
   "source": [
    "file.save()"
   ]
  },
  {
   "cell_type": "code",
   "execution_count": null,
   "id": "00f4887f",
   "metadata": {},
   "outputs": [],
   "source": []
  },
  {
   "cell_type": "code",
   "execution_count": 81,
   "id": "56451a71",
   "metadata": {},
   "outputs": [],
   "source": [
    "file_list = [\n",
    "'/mnt/c/Users/vale/Google Drive/Research Projects/Ongoing/Huwe/Data/Zeisel 2018/l1_cortex1.h5ad',\n",
    "'/mnt/c/Users/vale/Google Drive/Research Projects/Ongoing/Huwe/Data/Zeisel 2018/l1_hippocampus.h5ad',\n",
    "'/mnt/c/Users/vale/Google Drive/Research Projects/Ongoing/Huwe/Data/Zeisel 2018/l1_hypothalamus.h5ad',\n",
    "]"
   ]
  },
  {
   "cell_type": "code",
   "execution_count": 82,
   "id": "db441eb8",
   "metadata": {},
   "outputs": [
    {
     "name": "stdout",
     "output_type": "stream",
     "text": [
      "/mnt/c/Users/vale/Google Drive/Research Projects/Ongoing/Huwe/Data/Zeisel 2018/l1_cortex1.h5ad\n",
      "❗ no run & transform get linked, consider passing a `run` or calling ln.track()\n",
      "❗ returning existing file with same hash: File(uid='qBrdzdp8jundX1cvyQBu', key='cortex-align-2018/Zeisel 2018/l1_cortex1.h5ad', suffix='.h5ad', accessor='AnnData', size=59477597, hash='Xkf_tWCEud-KR5vYvaA-6q', hash_type='sha1-fl', visibility=0, key_is_virtual=True, updated_at=2023-11-06 07:03:10, storage_id=1, created_by_id=1)\n",
      "/mnt/c/Users/vale/Google Drive/Research Projects/Ongoing/Huwe/Data/Zeisel 2018/l1_hippocampus.h5ad\n",
      "❗ no run & transform get linked, consider passing a `run` or calling ln.track()\n",
      "💡 file will be copied to default storage upon `save()` with key 'Zeisel 2018/l1_hippocampus.h5ad'\n",
      "💡 data is AnnDataLike, consider using .from_anndata() to link var_names and obs.columns as features\n",
      "✅ storing file '2ikJvc061he26FaflKz8' at 's3://vals-scrna/.lamindb/2ikJvc061he26FaflKz8.h5ad'\n",
      "... uploading l1_hippocampus.h5ad: 1.00\n",
      "/mnt/c/Users/vale/Google Drive/Research Projects/Ongoing/Huwe/Data/Zeisel 2018/l1_hypothalamus.h5ad\n",
      "❗ no run & transform get linked, consider passing a `run` or calling ln.track()\n",
      "💡 file will be copied to default storage upon `save()` with key 'Zeisel 2018/l1_hypothalamus.h5ad'\n",
      "💡 data is AnnDataLike, consider using .from_anndata() to link var_names and obs.columns as features\n",
      "✅ storing file 'uBGydAbA1psc2Yx7NKiC' at 's3://vals-scrna/.lamindb/uBGydAbA1psc2Yx7NKiC.h5ad'\n",
      "... uploading l1_hypothalamus.h5ad: 1.00\n",
      "\r"
     ]
    }
   ],
   "source": [
    "for fname in file_list:\n",
    "    print(fname)\n",
    "    file = ln.File(fname, key = fname.replace('/mnt/c/Users/vale/Google Drive/Research Projects/Ongoing/Huwe/Data/', ''))\n",
    "    file.save()"
   ]
  },
  {
   "cell_type": "code",
   "execution_count": null,
   "id": "bd48f486",
   "metadata": {},
   "outputs": [],
   "source": []
  },
  {
   "cell_type": "code",
   "execution_count": 83,
   "id": "1a439f19",
   "metadata": {},
   "outputs": [
    {
     "name": "stdout",
     "output_type": "stream",
     "text": [
      "❗ no run & transform get linked, consider passing a `run` or calling ln.track()\n",
      "💡 file will be copied to default storage upon `save()` with key 'Zywitza 2018/Zywitza_GSE111527_svz.h5ad'\n",
      "💡 data is AnnDataLike, consider using .from_anndata() to link var_names and obs.columns as features\n"
     ]
    }
   ],
   "source": [
    "file = ln.File(\n",
    "    '/mnt/c/Users/vale/Google Drive/Research Projects/Ongoing/Huwe/Data/Zywitza 2018/Zywitza_GSE111527_svz.h5ad',\n",
    "    key = 'Zywitza 2018/Zywitza_GSE111527_svz.h5ad'\n",
    ")"
   ]
  },
  {
   "cell_type": "code",
   "execution_count": 84,
   "id": "f1ba298d",
   "metadata": {},
   "outputs": [
    {
     "name": "stdout",
     "output_type": "stream",
     "text": [
      "✅ storing file 'cMUlfeg3rJOCkay0VTPx' at 's3://vals-scrna/.lamindb/cMUlfeg3rJOCkay0VTPx.h5ad'\n",
      "... uploading Zywitza_GSE111527_svz.h5ad: 1.00\n",
      "\r"
     ]
    }
   ],
   "source": [
    "file.save()"
   ]
  },
  {
   "cell_type": "code",
   "execution_count": null,
   "id": "5f449c06",
   "metadata": {},
   "outputs": [],
   "source": []
  },
  {
   "cell_type": "code",
   "execution_count": 85,
   "id": "1a80a28d",
   "metadata": {},
   "outputs": [],
   "source": [
    "file_list = [\n",
    "'/mnt/c/Users/vale/Google Drive/Research Projects/Ongoing/Microglia-kinetics/Experiments/scRNA-seq/210403.prototype.pseudobulk.h5ad', \n",
    "'/mnt/c/Users/vale/Google Drive/Research Projects/Ongoing/Microglia-kinetics/Experiments/scRNA-seq/microglia_timecourse.210809.h5ad', \n",
    "'/mnt/c/Users/vale/Google Drive/Research Projects/Ongoing/Microglia-kinetics/Experiments/scRNA-seq/microglia_timecourse.h5ad', \n",
    "'/mnt/c/Users/vale/Google Drive/Research Projects/Ongoing/Microglia-kinetics/Experiments/scRNA-seq/microglia_timecourse_modeled.h5ad', \n",
    "]"
   ]
  },
  {
   "cell_type": "code",
   "execution_count": 86,
   "id": "15e5dab1",
   "metadata": {},
   "outputs": [
    {
     "name": "stdout",
     "output_type": "stream",
     "text": [
      "/mnt/c/Users/vale/Google Drive/Research Projects/Ongoing/Microglia-kinetics/Experiments/scRNA-seq/210403.prototype.pseudobulk.h5ad\n",
      "❗ no run & transform get linked, consider passing a `run` or calling ln.track()\n",
      "❗ file has more than one suffix (path.suffixes), using only last suffix: '.h5ad' - if you want your file format to be recognized, make an issue: https://github.com/laminlabs/lamindb/issues/new\n",
      "💡 file will be copied to default storage upon `save()` with key 'Microglia-kinetics/210403.prototype.pseudobulk.h5ad'\n",
      "💡 data is AnnDataLike, consider using .from_anndata() to link var_names and obs.columns as features\n",
      "✅ storing file 'k5VgWcHxVFaPNFV4O4bn' at 's3://vals-scrna/.lamindb/k5VgWcHxVFaPNFV4O4bn.h5ad'\n",
      "... uploading 210403.prototype.pseudobulk.h5ad: 1.00\n",
      "/mnt/c/Users/vale/Google Drive/Research Projects/Ongoing/Microglia-kinetics/Experiments/scRNA-seq/microglia_timecourse.210809.h5ad\n",
      "❗ no run & transform get linked, consider passing a `run` or calling ln.track()\n",
      "❗ file has more than one suffix (path.suffixes), using only last suffix: '.h5ad' - if you want your file format to be recognized, make an issue: https://github.com/laminlabs/lamindb/issues/new\n",
      "💡 file will be copied to default storage upon `save()` with key 'Microglia-kinetics/microglia_timecourse.210809.h5ad'\n",
      "💡 data is AnnDataLike, consider using .from_anndata() to link var_names and obs.columns as features\n",
      "✅ storing file 'o8aMP3VMxbbO5O6hXb8w' at 's3://vals-scrna/.lamindb/o8aMP3VMxbbO5O6hXb8w.h5ad'\n",
      "... uploading microglia_timecourse.210809.h5ad: 1.00\n",
      "/mnt/c/Users/vale/Google Drive/Research Projects/Ongoing/Microglia-kinetics/Experiments/scRNA-seq/microglia_timecourse.h5ad\n",
      "❗ no run & transform get linked, consider passing a `run` or calling ln.track()\n",
      "💡 file will be copied to default storage upon `save()` with key 'Microglia-kinetics/microglia_timecourse.h5ad'\n",
      "💡 data is AnnDataLike, consider using .from_anndata() to link var_names and obs.columns as features\n",
      "✅ storing file 'QzksACePBBPInLzP5vUF' at 's3://vals-scrna/.lamindb/QzksACePBBPInLzP5vUF.h5ad'\n",
      "... uploading microglia_timecourse.h5ad: 1.00\n",
      "/mnt/c/Users/vale/Google Drive/Research Projects/Ongoing/Microglia-kinetics/Experiments/scRNA-seq/microglia_timecourse_modeled.h5ad\n",
      "❗ no run & transform get linked, consider passing a `run` or calling ln.track()\n",
      "💡 file will be copied to default storage upon `save()` with key 'Microglia-kinetics/microglia_timecourse_modeled.h5ad'\n",
      "💡 data is AnnDataLike, consider using .from_anndata() to link var_names and obs.columns as features\n",
      "✅ storing file 'yXgBdRN2dPFUCxnjSd0B' at 's3://vals-scrna/.lamindb/yXgBdRN2dPFUCxnjSd0B.h5ad'\n",
      "... uploading microglia_timecourse_modeled.h5ad: 1.00\n",
      "\r"
     ]
    }
   ],
   "source": [
    "for fname in file_list:\n",
    "    print(fname)\n",
    "    file = ln.File(fname, key = fname.replace(\n",
    "        '/mnt/c/Users/vale/Google Drive/Research Projects/Ongoing/Microglia-kinetics/Experiments/scRNA-seq/',\n",
    "        'Microglia-kinetics/'\n",
    "    ))\n",
    "    file.save()"
   ]
  },
  {
   "cell_type": "code",
   "execution_count": null,
   "id": "f0d76e6f",
   "metadata": {},
   "outputs": [],
   "source": []
  },
  {
   "cell_type": "code",
   "execution_count": 87,
   "id": "0e806998",
   "metadata": {},
   "outputs": [
    {
     "name": "stdout",
     "output_type": "stream",
     "text": [
      "❗ no run & transform get linked, consider passing a `run` or calling ln.track()\n",
      "💡 file will be copied to default storage upon `save()` with key 'GSE103967/GSE103967.h5ad'\n",
      "💡 data is AnnDataLike, consider using .from_anndata() to link var_names and obs.columns as features\n"
     ]
    }
   ],
   "source": [
    "file = ln.File(\n",
    "    '/mnt/c/Users/vale/Google Drive/Reviews/180727 Deng et al NMethods Review/43766_0_other_1_pbz7l3/my own data/GSE103967.h5ad',\n",
    "    key = 'GSE103967/GSE103967.h5ad'\n",
    ")"
   ]
  },
  {
   "cell_type": "code",
   "execution_count": 88,
   "id": "53bad00f",
   "metadata": {},
   "outputs": [
    {
     "name": "stdout",
     "output_type": "stream",
     "text": [
      "✅ storing file 'wxXfuql3OnDkYcmA50qm' at 's3://vals-scrna/.lamindb/wxXfuql3OnDkYcmA50qm.h5ad'\n",
      "... uploading GSE103967.h5ad: 1.00\n",
      "\r"
     ]
    }
   ],
   "source": [
    "file.save()"
   ]
  },
  {
   "cell_type": "code",
   "execution_count": null,
   "id": "b9094849",
   "metadata": {},
   "outputs": [],
   "source": []
  },
  {
   "cell_type": "code",
   "execution_count": 89,
   "id": "a6a980b6",
   "metadata": {},
   "outputs": [
    {
     "data": {
      "text/html": [
       "<div>\n",
       "<style scoped>\n",
       "    .dataframe tbody tr th:only-of-type {\n",
       "        vertical-align: middle;\n",
       "    }\n",
       "\n",
       "    .dataframe tbody tr th {\n",
       "        vertical-align: top;\n",
       "    }\n",
       "\n",
       "    .dataframe thead th {\n",
       "        text-align: right;\n",
       "    }\n",
       "</style>\n",
       "<table border=\"1\" class=\"dataframe\">\n",
       "  <thead>\n",
       "    <tr style=\"text-align: right;\">\n",
       "      <th></th>\n",
       "      <th>key</th>\n",
       "      <th>description</th>\n",
       "      <th>score</th>\n",
       "    </tr>\n",
       "    <tr>\n",
       "      <th>uid</th>\n",
       "      <th></th>\n",
       "      <th></th>\n",
       "      <th></th>\n",
       "    </tr>\n",
       "  </thead>\n",
       "  <tbody>\n",
       "    <tr>\n",
       "      <th>pGbnYayWkq5p7uQlkPYi</th>\n",
       "      <td>SeqFISH/seqfish_125g_sheet1.h5ad</td>\n",
       "      <td></td>\n",
       "      <td>90.0</td>\n",
       "    </tr>\n",
       "    <tr>\n",
       "      <th>GWaFoFtpgy50Yu6N70kF</th>\n",
       "      <td>SeqFISH/seqfish_249g_field43.h5ad</td>\n",
       "      <td></td>\n",
       "      <td>90.0</td>\n",
       "    </tr>\n",
       "    <tr>\n",
       "      <th>G2rpe5k8BMo4I8AlwFEN</th>\n",
       "      <td>osmFISH/GSE75330_Marques_et_al.h5ad</td>\n",
       "      <td></td>\n",
       "      <td>65.8</td>\n",
       "    </tr>\n",
       "    <tr>\n",
       "      <th>wfBpGUWkhJXJZrtWzfg1</th>\n",
       "      <td>MERFISH/MERFISH_140_rep6.h5ad</td>\n",
       "      <td></td>\n",
       "      <td>64.3</td>\n",
       "    </tr>\n",
       "    <tr>\n",
       "      <th>tVZfXglfG8uksgbZD9BN</th>\n",
       "      <td>osmFISH/osmFISH_SScortex_mouse_all_cells.h5ad</td>\n",
       "      <td></td>\n",
       "      <td>64.3</td>\n",
       "    </tr>\n",
       "    <tr>\n",
       "      <th>7I8iIf9ckTygLXlXDh6h</th>\n",
       "      <td>tabula-muris-senis-2019/Combined_dropet.h5ad</td>\n",
       "      <td></td>\n",
       "      <td>51.4</td>\n",
       "    </tr>\n",
       "    <tr>\n",
       "      <th>xwOMBGwlquJFXbE10y7A</th>\n",
       "      <td>Slide-seq/slide_seq_sagittal_hippocampus.h5ad</td>\n",
       "      <td></td>\n",
       "      <td>51.4</td>\n",
       "    </tr>\n",
       "    <tr>\n",
       "      <th>sldZpTLoJ3qwC3b0CnL5</th>\n",
       "      <td>hca-benchmark-2019/h5ads/CELseq2_human_exp_mat...</td>\n",
       "      <td></td>\n",
       "      <td>51.4</td>\n",
       "    </tr>\n",
       "    <tr>\n",
       "      <th>po7CwseAIZEm28ZlXyf2</th>\n",
       "      <td>hca-benchmark-2019/h5ads/Dropseq_human_exp_mat...</td>\n",
       "      <td></td>\n",
       "      <td>51.4</td>\n",
       "    </tr>\n",
       "    <tr>\n",
       "      <th>DunmoAgD0aPYi13yZCUt</th>\n",
       "      <td>hca-benchmark-2019/h5ads/MARSseq_human_exp_mat...</td>\n",
       "      <td></td>\n",
       "      <td>51.4</td>\n",
       "    </tr>\n",
       "    <tr>\n",
       "      <th>KKo0UJyO8kgViz9RF46c</th>\n",
       "      <td>hca-benchmark-2019/h5ads/QUARTZseq_human_exp_m...</td>\n",
       "      <td></td>\n",
       "      <td>51.4</td>\n",
       "    </tr>\n",
       "    <tr>\n",
       "      <th>o4kqoTm6Y2YlN2Pptmo7</th>\n",
       "      <td>hca-benchmark-2019/h5ads/SCRBseq_human_exp_mat...</td>\n",
       "      <td></td>\n",
       "      <td>51.4</td>\n",
       "    </tr>\n",
       "    <tr>\n",
       "      <th>QkBMV2uz6fdtCKTxVtlz</th>\n",
       "      <td>hca-benchmark-2019/h5ads/SMARTseq2_human_exp_m...</td>\n",
       "      <td></td>\n",
       "      <td>51.4</td>\n",
       "    </tr>\n",
       "    <tr>\n",
       "      <th>cdlt92ovrT8yS6zaPDDP</th>\n",
       "      <td>hca-benchmark-2019/h5ads/ddSEQ_human_exp_mat.h5ad</td>\n",
       "      <td></td>\n",
       "      <td>51.4</td>\n",
       "    </tr>\n",
       "    <tr>\n",
       "      <th>wifcdEHk3QFfTclvr7z2</th>\n",
       "      <td>CITE-Seq/GSE100866_CBMC_8K_13AB_10X.h5ad</td>\n",
       "      <td></td>\n",
       "      <td>51.4</td>\n",
       "    </tr>\n",
       "    <tr>\n",
       "      <th>yR69rovxSVsJJCNUFfd7</th>\n",
       "      <td>hca-benchmark-2019/h5ads/QUARTZseq_mouse_exp_m...</td>\n",
       "      <td></td>\n",
       "      <td>51.3</td>\n",
       "    </tr>\n",
       "    <tr>\n",
       "      <th>9veqhuXPTDE1bvhD7Z0A</th>\n",
       "      <td>hca-benchmark-2019/h5ads/SCRBseq_mouse_exp_mat...</td>\n",
       "      <td></td>\n",
       "      <td>51.3</td>\n",
       "    </tr>\n",
       "    <tr>\n",
       "      <th>uBGydAbA1psc2Yx7NKiC</th>\n",
       "      <td>Zeisel 2018/l1_hypothalamus.h5ad</td>\n",
       "      <td></td>\n",
       "      <td>49.1</td>\n",
       "    </tr>\n",
       "    <tr>\n",
       "      <th>2ikJvc061he26FaflKz8</th>\n",
       "      <td>Zeisel 2018/l1_hippocampus.h5ad</td>\n",
       "      <td></td>\n",
       "      <td>49.1</td>\n",
       "    </tr>\n",
       "    <tr>\n",
       "      <th>jrEOmJAJwSjnE7cZTk5W</th>\n",
       "      <td>Original/macosko_dropseq_control.h5ad</td>\n",
       "      <td></td>\n",
       "      <td>48.9</td>\n",
       "    </tr>\n",
       "  </tbody>\n",
       "</table>\n",
       "</div>"
      ],
      "text/plain": [
       "                                                                    key   \n",
       "uid                                                                       \n",
       "pGbnYayWkq5p7uQlkPYi                   SeqFISH/seqfish_125g_sheet1.h5ad  \\\n",
       "GWaFoFtpgy50Yu6N70kF                  SeqFISH/seqfish_249g_field43.h5ad   \n",
       "G2rpe5k8BMo4I8AlwFEN                osmFISH/GSE75330_Marques_et_al.h5ad   \n",
       "wfBpGUWkhJXJZrtWzfg1                      MERFISH/MERFISH_140_rep6.h5ad   \n",
       "tVZfXglfG8uksgbZD9BN      osmFISH/osmFISH_SScortex_mouse_all_cells.h5ad   \n",
       "7I8iIf9ckTygLXlXDh6h       tabula-muris-senis-2019/Combined_dropet.h5ad   \n",
       "xwOMBGwlquJFXbE10y7A      Slide-seq/slide_seq_sagittal_hippocampus.h5ad   \n",
       "sldZpTLoJ3qwC3b0CnL5  hca-benchmark-2019/h5ads/CELseq2_human_exp_mat...   \n",
       "po7CwseAIZEm28ZlXyf2  hca-benchmark-2019/h5ads/Dropseq_human_exp_mat...   \n",
       "DunmoAgD0aPYi13yZCUt  hca-benchmark-2019/h5ads/MARSseq_human_exp_mat...   \n",
       "KKo0UJyO8kgViz9RF46c  hca-benchmark-2019/h5ads/QUARTZseq_human_exp_m...   \n",
       "o4kqoTm6Y2YlN2Pptmo7  hca-benchmark-2019/h5ads/SCRBseq_human_exp_mat...   \n",
       "QkBMV2uz6fdtCKTxVtlz  hca-benchmark-2019/h5ads/SMARTseq2_human_exp_m...   \n",
       "cdlt92ovrT8yS6zaPDDP  hca-benchmark-2019/h5ads/ddSEQ_human_exp_mat.h5ad   \n",
       "wifcdEHk3QFfTclvr7z2           CITE-Seq/GSE100866_CBMC_8K_13AB_10X.h5ad   \n",
       "yR69rovxSVsJJCNUFfd7  hca-benchmark-2019/h5ads/QUARTZseq_mouse_exp_m...   \n",
       "9veqhuXPTDE1bvhD7Z0A  hca-benchmark-2019/h5ads/SCRBseq_mouse_exp_mat...   \n",
       "uBGydAbA1psc2Yx7NKiC                   Zeisel 2018/l1_hypothalamus.h5ad   \n",
       "2ikJvc061he26FaflKz8                    Zeisel 2018/l1_hippocampus.h5ad   \n",
       "jrEOmJAJwSjnE7cZTk5W              Original/macosko_dropseq_control.h5ad   \n",
       "\n",
       "                     description  score  \n",
       "uid                                      \n",
       "pGbnYayWkq5p7uQlkPYi               90.0  \n",
       "GWaFoFtpgy50Yu6N70kF               90.0  \n",
       "G2rpe5k8BMo4I8AlwFEN               65.8  \n",
       "wfBpGUWkhJXJZrtWzfg1               64.3  \n",
       "tVZfXglfG8uksgbZD9BN               64.3  \n",
       "7I8iIf9ckTygLXlXDh6h               51.4  \n",
       "xwOMBGwlquJFXbE10y7A               51.4  \n",
       "sldZpTLoJ3qwC3b0CnL5               51.4  \n",
       "po7CwseAIZEm28ZlXyf2               51.4  \n",
       "DunmoAgD0aPYi13yZCUt               51.4  \n",
       "KKo0UJyO8kgViz9RF46c               51.4  \n",
       "o4kqoTm6Y2YlN2Pptmo7               51.4  \n",
       "QkBMV2uz6fdtCKTxVtlz               51.4  \n",
       "cdlt92ovrT8yS6zaPDDP               51.4  \n",
       "wifcdEHk3QFfTclvr7z2               51.4  \n",
       "yR69rovxSVsJJCNUFfd7               51.3  \n",
       "9veqhuXPTDE1bvhD7Z0A               51.3  \n",
       "uBGydAbA1psc2Yx7NKiC               49.1  \n",
       "2ikJvc061he26FaflKz8               49.1  \n",
       "jrEOmJAJwSjnE7cZTk5W               48.9  "
      ]
     },
     "execution_count": 89,
     "metadata": {},
     "output_type": "execute_result"
    }
   ],
   "source": [
    "ln.File.search('seqFISH')"
   ]
  },
  {
   "cell_type": "code",
   "execution_count": null,
   "id": "46a7f2de",
   "metadata": {},
   "outputs": [],
   "source": []
  },
  {
   "cell_type": "code",
   "execution_count": 91,
   "id": "c69b92d8",
   "metadata": {},
   "outputs": [],
   "source": [
    "ulabels = ln.ULabel.lookup()"
   ]
  },
  {
   "cell_type": "code",
   "execution_count": null,
   "id": "18167bd5",
   "metadata": {},
   "outputs": [],
   "source": []
  },
  {
   "cell_type": "code",
   "execution_count": 95,
   "id": "703f08b4",
   "metadata": {},
   "outputs": [],
   "source": [
    "file = ln.File.filter(key = 'SeqFISH/seqfish_249g_field43.h5ad').one()"
   ]
  },
  {
   "cell_type": "code",
   "execution_count": 96,
   "id": "22f57f2f",
   "metadata": {},
   "outputs": [
    {
     "data": {
      "text/plain": [
       "S3Path('s3://vals-scrna/.lamindb/GWaFoFtpgy50Yu6N70kF.h5ad')"
      ]
     },
     "execution_count": 96,
     "metadata": {},
     "output_type": "execute_result"
    }
   ],
   "source": [
    "file.path"
   ]
  },
  {
   "cell_type": "code",
   "execution_count": 98,
   "id": "d9e711cf",
   "metadata": {},
   "outputs": [
    {
     "name": "stdout",
     "output_type": "stream",
     "text": [
      "💡 you can auto-track this file as a run input by calling `ln.track()`\n"
     ]
    }
   ],
   "source": [
    "adata = file.backed()"
   ]
  },
  {
   "cell_type": "code",
   "execution_count": null,
   "id": "50706005",
   "metadata": {},
   "outputs": [],
   "source": []
  },
  {
   "cell_type": "code",
   "execution_count": 99,
   "id": "24f4df25",
   "metadata": {},
   "outputs": [
    {
     "data": {
      "text/plain": [
       "AnnDataAccessor object with n_obs × n_vars = 257 × 249\n",
       "  constructed for the AnnData object GWaFoFtpgy50Yu6N70kF.h5ad\n",
       "    obs: ['index', 'x', 'y', 'z', 'field', 'total_count']\n",
       "    var: ['index']"
      ]
     },
     "execution_count": 99,
     "metadata": {},
     "output_type": "execute_result"
    }
   ],
   "source": [
    "adata"
   ]
  },
  {
   "cell_type": "code",
   "execution_count": null,
   "id": "41910d96",
   "metadata": {},
   "outputs": [],
   "source": []
  },
  {
   "cell_type": "code",
   "execution_count": 102,
   "id": "6b761d3c",
   "metadata": {},
   "outputs": [
    {
     "data": {
      "text/html": [
       "<div>\n",
       "<style scoped>\n",
       "    .dataframe tbody tr th:only-of-type {\n",
       "        vertical-align: middle;\n",
       "    }\n",
       "\n",
       "    .dataframe tbody tr th {\n",
       "        vertical-align: top;\n",
       "    }\n",
       "\n",
       "    .dataframe thead th {\n",
       "        text-align: right;\n",
       "    }\n",
       "</style>\n",
       "<table border=\"1\" class=\"dataframe\">\n",
       "  <thead>\n",
       "    <tr style=\"text-align: right;\">\n",
       "      <th></th>\n",
       "      <th>uid</th>\n",
       "      <th>storage_id</th>\n",
       "      <th>key</th>\n",
       "      <th>suffix</th>\n",
       "      <th>accessor</th>\n",
       "      <th>description</th>\n",
       "      <th>version</th>\n",
       "      <th>size</th>\n",
       "      <th>hash</th>\n",
       "      <th>hash_type</th>\n",
       "      <th>transform_id</th>\n",
       "      <th>run_id</th>\n",
       "      <th>initial_version_id</th>\n",
       "      <th>visibility</th>\n",
       "      <th>key_is_virtual</th>\n",
       "      <th>updated_at</th>\n",
       "      <th>created_by_id</th>\n",
       "    </tr>\n",
       "    <tr>\n",
       "      <th>id</th>\n",
       "      <th></th>\n",
       "      <th></th>\n",
       "      <th></th>\n",
       "      <th></th>\n",
       "      <th></th>\n",
       "      <th></th>\n",
       "      <th></th>\n",
       "      <th></th>\n",
       "      <th></th>\n",
       "      <th></th>\n",
       "      <th></th>\n",
       "      <th></th>\n",
       "      <th></th>\n",
       "      <th></th>\n",
       "      <th></th>\n",
       "      <th></th>\n",
       "      <th></th>\n",
       "    </tr>\n",
       "  </thead>\n",
       "  <tbody>\n",
       "    <tr>\n",
       "      <th>1</th>\n",
       "      <td>zTK2A6kOxRKV6T6ZQTdo</td>\n",
       "      <td>1</td>\n",
       "      <td>210303 Cao development atlas/GSE156793_S3_gene...</td>\n",
       "      <td>.h5ad</td>\n",
       "      <td>AnnData</td>\n",
       "      <td>None</td>\n",
       "      <td>None</td>\n",
       "      <td>32573799218</td>\n",
       "      <td>RHevSG1VMsSWjH4SFLLqxe</td>\n",
       "      <td>sha1-fl</td>\n",
       "      <td>None</td>\n",
       "      <td>None</td>\n",
       "      <td>None</td>\n",
       "      <td>0</td>\n",
       "      <td>True</td>\n",
       "      <td>2023-11-06 04:46:20.406836+00:00</td>\n",
       "      <td>1</td>\n",
       "    </tr>\n",
       "    <tr>\n",
       "      <th>4</th>\n",
       "      <td>UmqVwiiMtMDeTlHzh7ly</td>\n",
       "      <td>1</td>\n",
       "      <td>191205-tissue-stability/lung.cellxgene.h5ad</td>\n",
       "      <td>.h5ad</td>\n",
       "      <td>AnnData</td>\n",
       "      <td>None</td>\n",
       "      <td>None</td>\n",
       "      <td>1379378416</td>\n",
       "      <td>6xxwBVEwNWEyNuZDK65WH1</td>\n",
       "      <td>sha1-fl</td>\n",
       "      <td>None</td>\n",
       "      <td>None</td>\n",
       "      <td>None</td>\n",
       "      <td>0</td>\n",
       "      <td>True</td>\n",
       "      <td>2023-11-06 06:16:05.047672+00:00</td>\n",
       "      <td>1</td>\n",
       "    </tr>\n",
       "    <tr>\n",
       "      <th>5</th>\n",
       "      <td>GUNjmLxnM03jFBFaJnTf</td>\n",
       "      <td>1</td>\n",
       "      <td>200326-HCL/HCL_combined.h5ad</td>\n",
       "      <td>.h5ad</td>\n",
       "      <td>AnnData</td>\n",
       "      <td>None</td>\n",
       "      <td>None</td>\n",
       "      <td>2472793015</td>\n",
       "      <td>YFpXjk7iF64pPWJpo4S6a_</td>\n",
       "      <td>sha1-fl</td>\n",
       "      <td>None</td>\n",
       "      <td>None</td>\n",
       "      <td>None</td>\n",
       "      <td>0</td>\n",
       "      <td>True</td>\n",
       "      <td>2023-11-06 06:44:09.870444+00:00</td>\n",
       "      <td>1</td>\n",
       "    </tr>\n",
       "    <tr>\n",
       "      <th>6</th>\n",
       "      <td>h6PQfcyCXeJXyE5Ddk4b</td>\n",
       "      <td>1</td>\n",
       "      <td>200326-HCL/HCL_Fig1_adata.h5ad</td>\n",
       "      <td>.h5ad</td>\n",
       "      <td>AnnData</td>\n",
       "      <td>None</td>\n",
       "      <td>None</td>\n",
       "      <td>830846460</td>\n",
       "      <td>BKA9kBbjP3EjaHbhc8jWMJ</td>\n",
       "      <td>sha1-fl</td>\n",
       "      <td>None</td>\n",
       "      <td>None</td>\n",
       "      <td>None</td>\n",
       "      <td>0</td>\n",
       "      <td>True</td>\n",
       "      <td>2023-11-06 06:46:55.199089+00:00</td>\n",
       "      <td>1</td>\n",
       "    </tr>\n",
       "    <tr>\n",
       "      <th>7</th>\n",
       "      <td>mJZEoiGLRkKWslUroK7u</td>\n",
       "      <td>1</td>\n",
       "      <td>200428-slideseq-comparison/stickels_et_al_2020...</td>\n",
       "      <td>.h5ad</td>\n",
       "      <td>AnnData</td>\n",
       "      <td>None</td>\n",
       "      <td>None</td>\n",
       "      <td>1121724727</td>\n",
       "      <td>IQqURIh73_YFykDSZ-BuPA</td>\n",
       "      <td>sha1-fl</td>\n",
       "      <td>None</td>\n",
       "      <td>None</td>\n",
       "      <td>None</td>\n",
       "      <td>0</td>\n",
       "      <td>True</td>\n",
       "      <td>2023-11-06 06:48:22.547165+00:00</td>\n",
       "      <td>1</td>\n",
       "    </tr>\n",
       "    <tr>\n",
       "      <th>...</th>\n",
       "      <td>...</td>\n",
       "      <td>...</td>\n",
       "      <td>...</td>\n",
       "      <td>...</td>\n",
       "      <td>...</td>\n",
       "      <td>...</td>\n",
       "      <td>...</td>\n",
       "      <td>...</td>\n",
       "      <td>...</td>\n",
       "      <td>...</td>\n",
       "      <td>...</td>\n",
       "      <td>...</td>\n",
       "      <td>...</td>\n",
       "      <td>...</td>\n",
       "      <td>...</td>\n",
       "      <td>...</td>\n",
       "      <td>...</td>\n",
       "    </tr>\n",
       "    <tr>\n",
       "      <th>232</th>\n",
       "      <td>k5VgWcHxVFaPNFV4O4bn</td>\n",
       "      <td>1</td>\n",
       "      <td>Microglia-kinetics/210403.prototype.pseudobulk...</td>\n",
       "      <td>.h5ad</td>\n",
       "      <td>AnnData</td>\n",
       "      <td>None</td>\n",
       "      <td>None</td>\n",
       "      <td>1236256</td>\n",
       "      <td>VmQ3VA8TVfP-pmBPMcX34g</td>\n",
       "      <td>md5</td>\n",
       "      <td>None</td>\n",
       "      <td>None</td>\n",
       "      <td>None</td>\n",
       "      <td>0</td>\n",
       "      <td>True</td>\n",
       "      <td>2023-11-07 06:49:19.140266+00:00</td>\n",
       "      <td>1</td>\n",
       "    </tr>\n",
       "    <tr>\n",
       "      <th>233</th>\n",
       "      <td>o8aMP3VMxbbO5O6hXb8w</td>\n",
       "      <td>1</td>\n",
       "      <td>Microglia-kinetics/microglia_timecourse.210809...</td>\n",
       "      <td>.h5ad</td>\n",
       "      <td>AnnData</td>\n",
       "      <td>None</td>\n",
       "      <td>None</td>\n",
       "      <td>190746444</td>\n",
       "      <td>ony44H_kQkQGhUiagZGvx5</td>\n",
       "      <td>sha1-fl</td>\n",
       "      <td>None</td>\n",
       "      <td>None</td>\n",
       "      <td>None</td>\n",
       "      <td>0</td>\n",
       "      <td>True</td>\n",
       "      <td>2023-11-07 06:49:20.848895+00:00</td>\n",
       "      <td>1</td>\n",
       "    </tr>\n",
       "    <tr>\n",
       "      <th>234</th>\n",
       "      <td>QzksACePBBPInLzP5vUF</td>\n",
       "      <td>1</td>\n",
       "      <td>Microglia-kinetics/microglia_timecourse.h5ad</td>\n",
       "      <td>.h5ad</td>\n",
       "      <td>AnnData</td>\n",
       "      <td>None</td>\n",
       "      <td>None</td>\n",
       "      <td>391330368</td>\n",
       "      <td>Pplrmfk0KAfggpRsa4-IiC</td>\n",
       "      <td>sha1-fl</td>\n",
       "      <td>None</td>\n",
       "      <td>None</td>\n",
       "      <td>None</td>\n",
       "      <td>0</td>\n",
       "      <td>True</td>\n",
       "      <td>2023-11-07 06:49:27.763870+00:00</td>\n",
       "      <td>1</td>\n",
       "    </tr>\n",
       "    <tr>\n",
       "      <th>235</th>\n",
       "      <td>yXgBdRN2dPFUCxnjSd0B</td>\n",
       "      <td>1</td>\n",
       "      <td>Microglia-kinetics/microglia_timecourse_modele...</td>\n",
       "      <td>.h5ad</td>\n",
       "      <td>AnnData</td>\n",
       "      <td>None</td>\n",
       "      <td>None</td>\n",
       "      <td>582559020</td>\n",
       "      <td>Gm8gHx6IpT_jtBUSYNcdN6</td>\n",
       "      <td>sha1-fl</td>\n",
       "      <td>None</td>\n",
       "      <td>None</td>\n",
       "      <td>None</td>\n",
       "      <td>0</td>\n",
       "      <td>True</td>\n",
       "      <td>2023-11-07 06:49:41.359132+00:00</td>\n",
       "      <td>1</td>\n",
       "    </tr>\n",
       "    <tr>\n",
       "      <th>236</th>\n",
       "      <td>wxXfuql3OnDkYcmA50qm</td>\n",
       "      <td>1</td>\n",
       "      <td>GSE103967/GSE103967.h5ad</td>\n",
       "      <td>.h5ad</td>\n",
       "      <td>AnnData</td>\n",
       "      <td>None</td>\n",
       "      <td>None</td>\n",
       "      <td>56465251</td>\n",
       "      <td>0-kpDT1Vv-AP5Jq1J3MLon</td>\n",
       "      <td>sha1-fl</td>\n",
       "      <td>None</td>\n",
       "      <td>None</td>\n",
       "      <td>None</td>\n",
       "      <td>0</td>\n",
       "      <td>True</td>\n",
       "      <td>2023-11-07 06:53:36.599398+00:00</td>\n",
       "      <td>1</td>\n",
       "    </tr>\n",
       "  </tbody>\n",
       "</table>\n",
       "<p>236 rows × 17 columns</p>\n",
       "</div>"
      ],
      "text/plain": [
       "                      uid  storage_id   \n",
       "id                                      \n",
       "1    zTK2A6kOxRKV6T6ZQTdo           1  \\\n",
       "4    UmqVwiiMtMDeTlHzh7ly           1   \n",
       "5    GUNjmLxnM03jFBFaJnTf           1   \n",
       "6    h6PQfcyCXeJXyE5Ddk4b           1   \n",
       "7    mJZEoiGLRkKWslUroK7u           1   \n",
       "..                    ...         ...   \n",
       "232  k5VgWcHxVFaPNFV4O4bn           1   \n",
       "233  o8aMP3VMxbbO5O6hXb8w           1   \n",
       "234  QzksACePBBPInLzP5vUF           1   \n",
       "235  yXgBdRN2dPFUCxnjSd0B           1   \n",
       "236  wxXfuql3OnDkYcmA50qm           1   \n",
       "\n",
       "                                                   key suffix accessor   \n",
       "id                                                                       \n",
       "1    210303 Cao development atlas/GSE156793_S3_gene...  .h5ad  AnnData  \\\n",
       "4          191205-tissue-stability/lung.cellxgene.h5ad  .h5ad  AnnData   \n",
       "5                         200326-HCL/HCL_combined.h5ad  .h5ad  AnnData   \n",
       "6                       200326-HCL/HCL_Fig1_adata.h5ad  .h5ad  AnnData   \n",
       "7    200428-slideseq-comparison/stickels_et_al_2020...  .h5ad  AnnData   \n",
       "..                                                 ...    ...      ...   \n",
       "232  Microglia-kinetics/210403.prototype.pseudobulk...  .h5ad  AnnData   \n",
       "233  Microglia-kinetics/microglia_timecourse.210809...  .h5ad  AnnData   \n",
       "234       Microglia-kinetics/microglia_timecourse.h5ad  .h5ad  AnnData   \n",
       "235  Microglia-kinetics/microglia_timecourse_modele...  .h5ad  AnnData   \n",
       "236                           GSE103967/GSE103967.h5ad  .h5ad  AnnData   \n",
       "\n",
       "    description version         size                    hash hash_type   \n",
       "id                                                                       \n",
       "1          None    None  32573799218  RHevSG1VMsSWjH4SFLLqxe   sha1-fl  \\\n",
       "4          None    None   1379378416  6xxwBVEwNWEyNuZDK65WH1   sha1-fl   \n",
       "5          None    None   2472793015  YFpXjk7iF64pPWJpo4S6a_   sha1-fl   \n",
       "6          None    None    830846460  BKA9kBbjP3EjaHbhc8jWMJ   sha1-fl   \n",
       "7          None    None   1121724727  IQqURIh73_YFykDSZ-BuPA   sha1-fl   \n",
       "..          ...     ...          ...                     ...       ...   \n",
       "232        None    None      1236256  VmQ3VA8TVfP-pmBPMcX34g       md5   \n",
       "233        None    None    190746444  ony44H_kQkQGhUiagZGvx5   sha1-fl   \n",
       "234        None    None    391330368  Pplrmfk0KAfggpRsa4-IiC   sha1-fl   \n",
       "235        None    None    582559020  Gm8gHx6IpT_jtBUSYNcdN6   sha1-fl   \n",
       "236        None    None     56465251  0-kpDT1Vv-AP5Jq1J3MLon   sha1-fl   \n",
       "\n",
       "    transform_id run_id initial_version_id  visibility  key_is_virtual   \n",
       "id                                                                       \n",
       "1           None   None               None           0            True  \\\n",
       "4           None   None               None           0            True   \n",
       "5           None   None               None           0            True   \n",
       "6           None   None               None           0            True   \n",
       "7           None   None               None           0            True   \n",
       "..           ...    ...                ...         ...             ...   \n",
       "232         None   None               None           0            True   \n",
       "233         None   None               None           0            True   \n",
       "234         None   None               None           0            True   \n",
       "235         None   None               None           0            True   \n",
       "236         None   None               None           0            True   \n",
       "\n",
       "                          updated_at  created_by_id  \n",
       "id                                                   \n",
       "1   2023-11-06 04:46:20.406836+00:00              1  \n",
       "4   2023-11-06 06:16:05.047672+00:00              1  \n",
       "5   2023-11-06 06:44:09.870444+00:00              1  \n",
       "6   2023-11-06 06:46:55.199089+00:00              1  \n",
       "7   2023-11-06 06:48:22.547165+00:00              1  \n",
       "..                               ...            ...  \n",
       "232 2023-11-07 06:49:19.140266+00:00              1  \n",
       "233 2023-11-07 06:49:20.848895+00:00              1  \n",
       "234 2023-11-07 06:49:27.763870+00:00              1  \n",
       "235 2023-11-07 06:49:41.359132+00:00              1  \n",
       "236 2023-11-07 06:53:36.599398+00:00              1  \n",
       "\n",
       "[236 rows x 17 columns]"
      ]
     },
     "execution_count": 102,
     "metadata": {},
     "output_type": "execute_result"
    }
   ],
   "source": [
    "ln.File.filter().df()"
   ]
  },
  {
   "cell_type": "code",
   "execution_count": null,
   "id": "044814a3",
   "metadata": {},
   "outputs": [],
   "source": []
  },
  {
   "cell_type": "code",
   "execution_count": 104,
   "id": "c3969727",
   "metadata": {},
   "outputs": [],
   "source": [
    "qset = ln.File.filter()"
   ]
  },
  {
   "cell_type": "code",
   "execution_count": null,
   "id": "98bac098",
   "metadata": {},
   "outputs": [],
   "source": [
    "qset.df()"
   ]
  },
  {
   "cell_type": "code",
   "execution_count": null,
   "id": "fbf71966",
   "metadata": {},
   "outputs": [],
   "source": []
  },
  {
   "cell_type": "code",
   "execution_count": null,
   "id": "c403f448",
   "metadata": {},
   "outputs": [],
   "source": []
  },
  {
   "cell_type": "code",
   "execution_count": 105,
   "id": "db249140",
   "metadata": {},
   "outputs": [
    {
     "ename": "NameError",
     "evalue": "name 'lb' is not defined",
     "output_type": "error",
     "traceback": [
      "\u001b[0;31m---------------------------------------------------------------------------\u001b[0m",
      "\u001b[0;31mNameError\u001b[0m                                 Traceback (most recent call last)",
      "Cell \u001b[0;32mIn[105], line 1\u001b[0m\n\u001b[0;32m----> 1\u001b[0m \u001b[43mlb\u001b[49m\n",
      "\u001b[0;31mNameError\u001b[0m: name 'lb' is not defined"
     ]
    }
   ],
   "source": [
    "lb"
   ]
  },
  {
   "cell_type": "code",
   "execution_count": null,
   "id": "b1380289",
   "metadata": {},
   "outputs": [],
   "source": []
  },
  {
   "cell_type": "code",
   "execution_count": null,
   "id": "659b34ab",
   "metadata": {},
   "outputs": [],
   "source": []
  },
  {
   "cell_type": "code",
   "execution_count": 107,
   "id": "0effa714",
   "metadata": {},
   "outputs": [
    {
     "data": {
      "text/html": [
       "<div>\n",
       "<style scoped>\n",
       "    .dataframe tbody tr th:only-of-type {\n",
       "        vertical-align: middle;\n",
       "    }\n",
       "\n",
       "    .dataframe tbody tr th {\n",
       "        vertical-align: top;\n",
       "    }\n",
       "\n",
       "    .dataframe thead th {\n",
       "        text-align: right;\n",
       "    }\n",
       "</style>\n",
       "<table border=\"1\" class=\"dataframe\">\n",
       "  <thead>\n",
       "    <tr style=\"text-align: right;\">\n",
       "      <th></th>\n",
       "    </tr>\n",
       "  </thead>\n",
       "  <tbody>\n",
       "  </tbody>\n",
       "</table>\n",
       "</div>"
      ],
      "text/plain": [
       "Empty DataFrame\n",
       "Columns: []\n",
       "Index: []"
      ]
     },
     "execution_count": 107,
     "metadata": {},
     "output_type": "execute_result"
    }
   ],
   "source": [
    "ln.Dataset.search('seqFISH')"
   ]
  },
  {
   "cell_type": "code",
   "execution_count": null,
   "id": "ebcd0443",
   "metadata": {},
   "outputs": [],
   "source": []
  },
  {
   "cell_type": "code",
   "execution_count": null,
   "id": "40183a9e",
   "metadata": {},
   "outputs": [],
   "source": []
  },
  {
   "cell_type": "code",
   "execution_count": null,
   "id": "38de3994",
   "metadata": {},
   "outputs": [],
   "source": []
  },
  {
   "cell_type": "code",
   "execution_count": null,
   "id": "6463b4e7",
   "metadata": {},
   "outputs": [],
   "source": []
  },
  {
   "cell_type": "code",
   "execution_count": null,
   "id": "5a592d50",
   "metadata": {},
   "outputs": [],
   "source": []
  },
  {
   "cell_type": "code",
   "execution_count": null,
   "id": "0470c447",
   "metadata": {},
   "outputs": [],
   "source": []
  },
  {
   "cell_type": "code",
   "execution_count": null,
   "id": "1d6d5fe8",
   "metadata": {},
   "outputs": [],
   "source": []
  },
  {
   "cell_type": "code",
   "execution_count": null,
   "id": "1d1bb03d",
   "metadata": {},
   "outputs": [],
   "source": []
  },
  {
   "cell_type": "code",
   "execution_count": null,
   "id": "ad92c6a6",
   "metadata": {},
   "outputs": [],
   "source": []
  },
  {
   "cell_type": "code",
   "execution_count": null,
   "id": "62b5ce1b",
   "metadata": {},
   "outputs": [],
   "source": []
  },
  {
   "cell_type": "code",
   "execution_count": null,
   "id": "12942d0e",
   "metadata": {},
   "outputs": [],
   "source": []
  },
  {
   "cell_type": "code",
   "execution_count": null,
   "id": "3e822c47",
   "metadata": {},
   "outputs": [],
   "source": []
  },
  {
   "cell_type": "code",
   "execution_count": null,
   "id": "e766d236",
   "metadata": {},
   "outputs": [],
   "source": []
  },
  {
   "cell_type": "code",
   "execution_count": null,
   "id": "ae191a13",
   "metadata": {},
   "outputs": [],
   "source": []
  },
  {
   "cell_type": "code",
   "execution_count": null,
   "id": "5aa6cb2e",
   "metadata": {},
   "outputs": [],
   "source": []
  },
  {
   "cell_type": "code",
   "execution_count": null,
   "id": "602cefd7",
   "metadata": {},
   "outputs": [],
   "source": []
  },
  {
   "cell_type": "code",
   "execution_count": null,
   "id": "fdb0f2e5",
   "metadata": {},
   "outputs": [],
   "source": []
  },
  {
   "cell_type": "code",
   "execution_count": null,
   "id": "bc848820",
   "metadata": {},
   "outputs": [],
   "source": []
  },
  {
   "cell_type": "code",
   "execution_count": null,
   "id": "5f2e029f",
   "metadata": {},
   "outputs": [],
   "source": []
  },
  {
   "cell_type": "code",
   "execution_count": null,
   "id": "735b0de9",
   "metadata": {},
   "outputs": [],
   "source": []
  },
  {
   "cell_type": "code",
   "execution_count": null,
   "id": "08403790",
   "metadata": {},
   "outputs": [],
   "source": []
  },
  {
   "cell_type": "code",
   "execution_count": null,
   "id": "38c4eb11",
   "metadata": {},
   "outputs": [],
   "source": []
  },
  {
   "cell_type": "code",
   "execution_count": null,
   "id": "20a7827c",
   "metadata": {},
   "outputs": [],
   "source": []
  },
  {
   "cell_type": "code",
   "execution_count": null,
   "id": "d4e3dcd7",
   "metadata": {},
   "outputs": [],
   "source": []
  },
  {
   "cell_type": "code",
   "execution_count": null,
   "id": "45f79290",
   "metadata": {},
   "outputs": [],
   "source": []
  },
  {
   "cell_type": "code",
   "execution_count": null,
   "id": "69294299",
   "metadata": {},
   "outputs": [],
   "source": []
  },
  {
   "cell_type": "code",
   "execution_count": null,
   "id": "f21f5792",
   "metadata": {},
   "outputs": [],
   "source": []
  },
  {
   "cell_type": "code",
   "execution_count": null,
   "id": "77f715e2",
   "metadata": {},
   "outputs": [],
   "source": []
  },
  {
   "cell_type": "code",
   "execution_count": null,
   "id": "f0c67b31",
   "metadata": {},
   "outputs": [],
   "source": []
  },
  {
   "cell_type": "code",
   "execution_count": null,
   "id": "7e156bf0",
   "metadata": {},
   "outputs": [],
   "source": []
  },
  {
   "cell_type": "code",
   "execution_count": null,
   "id": "c79362f1",
   "metadata": {},
   "outputs": [],
   "source": []
  },
  {
   "cell_type": "code",
   "execution_count": null,
   "id": "ca2bef6a",
   "metadata": {},
   "outputs": [],
   "source": []
  },
  {
   "cell_type": "code",
   "execution_count": null,
   "id": "8bd77f99",
   "metadata": {},
   "outputs": [],
   "source": []
  },
  {
   "cell_type": "code",
   "execution_count": null,
   "id": "9056f03f",
   "metadata": {},
   "outputs": [],
   "source": []
  },
  {
   "cell_type": "code",
   "execution_count": null,
   "id": "82610214",
   "metadata": {},
   "outputs": [],
   "source": []
  },
  {
   "cell_type": "code",
   "execution_count": null,
   "id": "72fec772",
   "metadata": {},
   "outputs": [],
   "source": []
  },
  {
   "cell_type": "code",
   "execution_count": null,
   "id": "5280f375",
   "metadata": {},
   "outputs": [],
   "source": []
  },
  {
   "cell_type": "code",
   "execution_count": null,
   "id": "bf447935",
   "metadata": {},
   "outputs": [],
   "source": []
  },
  {
   "cell_type": "code",
   "execution_count": null,
   "id": "285641d5",
   "metadata": {},
   "outputs": [],
   "source": []
  }
 ],
 "metadata": {
  "kernelspec": {
   "display_name": "Python 3 (ipykernel)",
   "language": "python",
   "name": "python3"
  },
  "language_info": {
   "codemirror_mode": {
    "name": "ipython",
    "version": 3
   },
   "file_extension": ".py",
   "mimetype": "text/x-python",
   "name": "python",
   "nbconvert_exporter": "python",
   "pygments_lexer": "ipython3",
   "version": "3.10.11"
  }
 },
 "nbformat": 4,
 "nbformat_minor": 5
}
