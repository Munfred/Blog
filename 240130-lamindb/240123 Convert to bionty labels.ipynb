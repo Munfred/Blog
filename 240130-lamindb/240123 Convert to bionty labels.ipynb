{
 "cells": [
  {
   "cell_type": "code",
   "execution_count": 1,
   "id": "b7a09a6a-36fd-4132-b2b9-c844ececb1b3",
   "metadata": {},
   "outputs": [
    {
     "name": "stdout",
     "output_type": "stream",
     "text": [
      "✅ wrote new records from public sources.yaml to /home/vale/.lamin/bionty/versions/sources_local.yaml!\n",
      "\n",
      "if you see this message repeatedly, run: bt.reset_sources()\n",
      "💡 lamindb instance: vals/scrna\n"
     ]
    }
   ],
   "source": [
    "import glob\n",
    "\n",
    "import anndata\n",
    "import lamindb as ln\n",
    "import lnschema_bionty as lb\n",
    "import pandas as pd\n",
    "from tqdm import tqdm"
   ]
  },
  {
   "cell_type": "code",
   "execution_count": null,
   "id": "b62a8fb3-330f-42c1-bf6c-a7c1f8d5b04e",
   "metadata": {},
   "outputs": [],
   "source": []
  },
  {
   "cell_type": "code",
   "execution_count": 5,
   "id": "bc09f7a7-1706-4de4-a0c0-e589773cc242",
   "metadata": {},
   "outputs": [],
   "source": [
    "record = lb.Organism.from_public(name = 'mouse')"
   ]
  },
  {
   "cell_type": "code",
   "execution_count": 6,
   "id": "d9cd7e75-7f15-4ea8-9942-f253347cee97",
   "metadata": {},
   "outputs": [],
   "source": [
    "record.save()"
   ]
  },
  {
   "cell_type": "code",
   "execution_count": null,
   "id": "bffd0d29-1d83-4948-b5de-5750e764e779",
   "metadata": {},
   "outputs": [],
   "source": []
  },
  {
   "cell_type": "code",
   "execution_count": null,
   "id": "6bc452e3-a4cd-4232-b2d1-0ca126f07873",
   "metadata": {},
   "outputs": [],
   "source": []
  },
  {
   "cell_type": "code",
   "execution_count": null,
   "id": "a9fd72f9-316e-45a4-b167-3d07136d1c72",
   "metadata": {},
   "outputs": [],
   "source": []
  },
  {
   "cell_type": "code",
   "execution_count": 3,
   "id": "1f9cdc11-571f-4f08-9d9a-5ad8691aacde",
   "metadata": {},
   "outputs": [
    {
     "data": {
      "text/plain": [
       "Tissue(uid='1ZZDYCXU', name='spleen', ontology_id='UBERON:0002106', description='The Organ That Functions To Filter Blood And To Store Red Corpuscles And Platelets.', public_source_id=75, created_by_id=1)"
      ]
     },
     "execution_count": 3,
     "metadata": {},
     "output_type": "execute_result"
    }
   ],
   "source": [
    "lb.Tissue.from_public(name = 'spleen')"
   ]
  },
  {
   "cell_type": "code",
   "execution_count": 4,
   "id": "886e37cd-ae4c-47eb-90d7-cbb73c8ae339",
   "metadata": {},
   "outputs": [
    {
     "name": "stdout",
     "output_type": "stream",
     "text": [
      "❗ \u001b[1;91mdid not create\u001b[0m ExperimentalFactor record for \u001b[1;93m1 non-validated\u001b[0m \u001b[3mname\u001b[0m: \u001b[1;93m'Chromium'\u001b[0m\n"
     ]
    }
   ],
   "source": [
    "lb.ExperimentalFactor.from_public(name = 'Chromium')"
   ]
  },
  {
   "cell_type": "code",
   "execution_count": null,
   "id": "497b4762-2672-4b53-959e-d064836ce07b",
   "metadata": {},
   "outputs": [],
   "source": []
  },
  {
   "cell_type": "code",
   "execution_count": 13,
   "id": "eda18987-57bd-4aa8-871e-2ac2611ce383",
   "metadata": {},
   "outputs": [],
   "source": [
    "artifact = ln.Artifact.filter(uid = 'cMUlfeg3rJOCkay0VTPx').one()"
   ]
  },
  {
   "cell_type": "code",
   "execution_count": 14,
   "id": "d08c94b4-6344-4296-ad3c-4412f7d87f57",
   "metadata": {},
   "outputs": [
    {
     "data": {
      "text/plain": [
       "Artifact(uid='cMUlfeg3rJOCkay0VTPx', key='Zywitza 2018/Zywitza_GSE111527_svz.h5ad', suffix='.h5ad', accessor='AnnData', size=145907593, hash='8pHkCvAZLmfp8e5vxr0qej', hash_type='sha1-fl', visibility=1, key_is_virtual=True, updated_at=2024-01-21 07:29:49 UTC, storage_id=1, created_by_id=1)"
      ]
     },
     "execution_count": 14,
     "metadata": {},
     "output_type": "execute_result"
    }
   ],
   "source": [
    "artifact"
   ]
  },
  {
   "cell_type": "code",
   "execution_count": null,
   "id": "7963f533-d6b3-48b7-a67b-642e7b956b97",
   "metadata": {},
   "outputs": [],
   "source": [
    "artifact.labels.add("
   ]
  },
  {
   "cell_type": "code",
   "execution_count": null,
   "id": "39a9b2c9-2284-4727-9e7d-73870d8d7e0f",
   "metadata": {},
   "outputs": [],
   "source": []
  },
  {
   "cell_type": "code",
   "execution_count": null,
   "id": "0684c40a-c0b3-4a7a-9546-70d09d79646f",
   "metadata": {},
   "outputs": [],
   "source": []
  },
  {
   "cell_type": "code",
   "execution_count": null,
   "id": "c2a0f8d7-f145-4298-89eb-444f825551b6",
   "metadata": {},
   "outputs": [],
   "source": []
  },
  {
   "cell_type": "code",
   "execution_count": null,
   "id": "630d7a1d-44e8-4b38-a52d-ca42e9570e1c",
   "metadata": {},
   "outputs": [],
   "source": []
  },
  {
   "cell_type": "code",
   "execution_count": null,
   "id": "4f0d6c83-dca8-4b4e-9984-cef1854fc20c",
   "metadata": {},
   "outputs": [],
   "source": []
  },
  {
   "cell_type": "code",
   "execution_count": null,
   "id": "0e3bbf6e-1c9d-4394-8014-b810326d0094",
   "metadata": {},
   "outputs": [],
   "source": []
  }
 ],
 "metadata": {
  "kernelspec": {
   "display_name": "Python 3 (ipykernel)",
   "language": "python",
   "name": "python3"
  },
  "language_info": {
   "codemirror_mode": {
    "name": "ipython",
    "version": 3
   },
   "file_extension": ".py",
   "mimetype": "text/x-python",
   "name": "python",
   "nbconvert_exporter": "python",
   "pygments_lexer": "ipython3",
   "version": "3.10.11"
  }
 },
 "nbformat": 4,
 "nbformat_minor": 5
}
