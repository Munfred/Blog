{
 "cells": [
  {
   "cell_type": "code",
   "execution_count": 10,
   "id": "25e19435-5d0f-4637-84d2-571bbf51692e",
   "metadata": {},
   "outputs": [],
   "source": [
    "import glob\n",
    "\n",
    "import anndata\n",
    "import lamindb as ln\n",
    "import lnschema_bionty as lb\n",
    "import pandas as pd\n",
    "from tqdm import tqdm"
   ]
  },
  {
   "cell_type": "code",
   "execution_count": null,
   "id": "c9015e60-3dc1-49a2-a277-f77383427e88",
   "metadata": {},
   "outputs": [],
   "source": []
  },
  {
   "cell_type": "code",
   "execution_count": 5,
   "id": "4b6af81a-097a-452c-b314-260f45f1f5ef",
   "metadata": {},
   "outputs": [],
   "source": [
    "feature = ln.Feature.filter(name = 'DOI').one()"
   ]
  },
  {
   "cell_type": "code",
   "execution_count": 6,
   "id": "afa497af-3e68-479b-b29b-884cccd877c5",
   "metadata": {},
   "outputs": [
    {
     "data": {
      "text/plain": [
       "Feature(uid='hw3aPfzP1lep', name='DOI', type='str', description='DOI of source publication', registries='core.ULabel', updated_at=2023-12-06 05:01:44 UTC, created_by_id=1)"
      ]
     },
     "execution_count": 6,
     "metadata": {},
     "output_type": "execute_result"
    }
   ],
   "source": [
    "feature"
   ]
  },
  {
   "cell_type": "code",
   "execution_count": 7,
   "id": "cb024e6d-43d0-4743-8047-8bb34daf64b1",
   "metadata": {},
   "outputs": [],
   "source": [
    "feature.type = 'category'\n",
    "feature.name = 'doi'  # lower-case convention\n",
    "\n",
    "feature.save()"
   ]
  },
  {
   "cell_type": "code",
   "execution_count": 8,
   "id": "d3536338-99c8-4319-84d8-b2b541f47f6b",
   "metadata": {},
   "outputs": [
    {
     "data": {
      "text/plain": [
       "Feature(uid='hw3aPfzP1lep', name='doi', type='category', description='DOI of source publication', registries='core.ULabel', updated_at=2023-12-12 05:18:31 UTC, created_by_id=1)"
      ]
     },
     "execution_count": 8,
     "metadata": {},
     "output_type": "execute_result"
    }
   ],
   "source": [
    "feature"
   ]
  },
  {
   "cell_type": "code",
   "execution_count": null,
   "id": "b145c99c-ceea-4ff4-9ed0-24297050e77d",
   "metadata": {},
   "outputs": [],
   "source": []
  },
  {
   "cell_type": "code",
   "execution_count": 9,
   "id": "6ed16c20-f0e9-4f18-b3a1-a7dd168c1064",
   "metadata": {},
   "outputs": [
    {
     "name": "stdout",
     "output_type": "stream",
     "text": [
      "\u001b[1;92mFile\u001b[0m(uid='UWETAZbzAURlLQCyTV1d', key='Boland et al/GSE125527.h5ad', suffix='.h5ad', accessor='AnnData', size=526865612, hash='5c33pdXfI7munQb_UJV8bO', hash_type='sha1-fl', visibility=1, key_is_virtual=True, updated_at=2023-12-06 05:17:25 UTC)\n",
      "\n",
      "\u001b[1;92mProvenance\u001b[0m:\n",
      "  🗃️ storage: Storage(uid='3wVRAheC', root='s3://vals-scrna', type='s3', region='us-west-1', updated_at=2023-11-05 20:36:19 UTC, created_by_id=1)\n",
      "  👤 created_by: User(uid='8joZB4lw', handle='vals', updated_at=2023-11-05 20:36:19 UTC)\n",
      "\u001b[1;92mFeatures\u001b[0m:\n",
      "  \u001b[1mexternal\u001b[0m: FeatureSet(uid='sUW7EfGxKDsnbaiNKmfa', n=1, registry='core.Feature', hash='GDHfHpyDTyVSYOGwgu69', updated_at=2023-12-06 05:21:44 UTC, created_by_id=1)\n",
      "    🔗 doi (1, \u001b[3mcore.ULabel\u001b[0m): '10.1126/sciimmunol.abb4432'\n",
      "\u001b[1;92mLabels\u001b[0m:\n",
      "  🏷️ ulabels (1, \u001b[3mcore.ULabel\u001b[0m): '10.1126/sciimmunol.abb4432'\n",
      "\n"
     ]
    }
   ],
   "source": [
    "file = ln.File.filter(uid = 'UWETAZbzAURlLQCyTV1d').one()\n",
    "file.describe()"
   ]
  },
  {
   "cell_type": "code",
   "execution_count": 11,
   "id": "3c81c19a-2375-4149-8af3-d20e8c3eb6bf",
   "metadata": {},
   "outputs": [
    {
     "data": {
      "text/plain": [
       "\u001b[1;92mFeatures\u001b[0m:\n",
       "  \u001b[1mexternal\u001b[0m: FeatureSet(uid='sUW7EfGxKDsnbaiNKmfa', n=1, registry='core.Feature', hash='GDHfHpyDTyVSYOGwgu69', updated_at=2023-12-06 05:21:44 UTC, created_by_id=1)\n",
       "    🔗 doi (1, \u001b[3mcore.ULabel\u001b[0m): '10.1126/sciimmunol.abb4432'"
      ]
     },
     "execution_count": 11,
     "metadata": {},
     "output_type": "execute_result"
    }
   ],
   "source": [
    "file.features"
   ]
  },
  {
   "cell_type": "code",
   "execution_count": null,
   "id": "c09fa440-80c2-413d-ac3a-d922f117490c",
   "metadata": {},
   "outputs": [],
   "source": []
  },
  {
   "cell_type": "code",
   "execution_count": 35,
   "id": "a943a4d3-1ea0-4a42-b784-6925d52e5f0c",
   "metadata": {},
   "outputs": [],
   "source": [
    "studies = pd.read_csv('https://nxn.se/single-cell-studies/data.tsv', sep = '\\t').set_index('DOI')"
   ]
  },
  {
   "cell_type": "code",
   "execution_count": 37,
   "id": "9ef9e13d-a149-4fd6-aa74-d1e729c96db4",
   "metadata": {},
   "outputs": [
    {
     "data": {
      "text/plain": [
       "Shorthand                                                             Boland et al SImmunology\n",
       "Authors                                      Brigid S. Boland, Zhaoren He, Matthew S. Tsai,...\n",
       "Journal                                                                          Sci. Immunol.\n",
       "Title                                        Heterogeneity and clonal relationships of adap...\n",
       "Date                                                                                  20200822\n",
       "bioRxiv DOI                                                                                NaN\n",
       "Reported cells total                                                                    68,945\n",
       "Organism                                                                                 Human\n",
       "Tissue                                                                           Blood, Rectum\n",
       "Technique                                                                             Chromium\n",
       "Data location                                                                        GSE125527\n",
       "Panel size                                                                                 NaN\n",
       "Measurement                                                                            RNA-seq\n",
       "Cell source                                                                       Immune cells\n",
       "Disease                                                                     Ulcerative colitis\n",
       "Contrasts                                                  UC vs Healthy, Blood vs Rectum, TCR\n",
       "Developmental stage                                                                        NaN\n",
       "Number of reported cell types or clusters                                                    4\n",
       "Cell clustering                                                                            Yes\n",
       "Pseudotime                                                                                  No\n",
       "RNA Velocity                                                                                No\n",
       "PCA                                                                                         No\n",
       "tSNE                                                                                       Yes\n",
       "H5AD location                                https://storage.googleapis.com/h5ad/10.1126-sc...\n",
       "Isolation                                                                                  NaN\n",
       "BC --> Cell ID _OR_ BC --> Cluster ID                                                GSE125527\n",
       "Number individuals                                                                        16.0\n",
       "Name: 10.1126/sciimmunol.abb4432, dtype: object"
      ]
     },
     "execution_count": 37,
     "metadata": {},
     "output_type": "execute_result"
    }
   ],
   "source": [
    "studies.loc['10.1126/sciimmunol.abb4432']"
   ]
  },
  {
   "cell_type": "code",
   "execution_count": null,
   "id": "35515c3a-4bfd-445b-8a1f-578273441889",
   "metadata": {},
   "outputs": [],
   "source": []
  },
  {
   "cell_type": "code",
   "execution_count": 41,
   "id": "afc7f300-298d-40c4-95d9-efd0c317798a",
   "metadata": {},
   "outputs": [
    {
     "ename": "FileNotFoundError",
     "evalue": "[Errno 2] No such file or directory: '/home/vale/.lamin/bionty/versions/.lamindb_current_sources.yaml'",
     "output_type": "error",
     "traceback": [
      "\u001b[0;31m---------------------------------------------------------------------------\u001b[0m",
      "\u001b[0;31mFileNotFoundError\u001b[0m                         Traceback (most recent call last)",
      "Cell \u001b[0;32mIn[41], line 1\u001b[0m\n\u001b[0;32m----> 1\u001b[0m \u001b[43mlb\u001b[49m\u001b[38;5;241;43m.\u001b[39;49m\u001b[43mOrganism\u001b[49m\u001b[38;5;241;43m.\u001b[39;49m\u001b[43mfrom_bionty\u001b[49m\u001b[43m(\u001b[49m\u001b[43mname\u001b[49m\u001b[43m \u001b[49m\u001b[38;5;241;43m=\u001b[39;49m\u001b[43m \u001b[49m\u001b[38;5;124;43m'\u001b[39;49m\u001b[38;5;124;43mhuman\u001b[39;49m\u001b[38;5;124;43m'\u001b[39;49m\u001b[43m)\u001b[49m\n",
      "File \u001b[0;32m~/mambaforge/lib/python3.10/site-packages/lnschema_bionty/models.py:158\u001b[0m, in \u001b[0;36mBioRegistry.from_bionty\u001b[0;34m(cls, **kwargs)\u001b[0m\n\u001b[1;32m    156\u001b[0m k \u001b[38;5;241m=\u001b[39m \u001b[38;5;28mnext\u001b[39m(\u001b[38;5;28miter\u001b[39m(kv))\n\u001b[1;32m    157\u001b[0m v \u001b[38;5;241m=\u001b[39m kwargs\u001b[38;5;241m.\u001b[39mpop(k)\n\u001b[0;32m--> 158\u001b[0m results \u001b[38;5;241m=\u001b[39m \u001b[38;5;28;43mcls\u001b[39;49m\u001b[38;5;241;43m.\u001b[39;49m\u001b[43mfrom_values\u001b[49m\u001b[43m(\u001b[49m\u001b[43m[\u001b[49m\u001b[43mv\u001b[49m\u001b[43m]\u001b[49m\u001b[43m,\u001b[49m\u001b[43m \u001b[49m\u001b[43mfield\u001b[49m\u001b[38;5;241;43m=\u001b[39;49m\u001b[38;5;28;43mgetattr\u001b[39;49m\u001b[43m(\u001b[49m\u001b[38;5;28;43mcls\u001b[39;49m\u001b[43m,\u001b[49m\u001b[43m \u001b[49m\u001b[43mk\u001b[49m\u001b[43m)\u001b[49m\u001b[43m,\u001b[49m\u001b[43m \u001b[49m\u001b[38;5;241;43m*\u001b[39;49m\u001b[38;5;241;43m*\u001b[39;49m\u001b[43mkwargs\u001b[49m\u001b[43m)\u001b[49m\n\u001b[1;32m    159\u001b[0m \u001b[38;5;28;01mif\u001b[39;00m \u001b[38;5;28mlen\u001b[39m(results) \u001b[38;5;241m==\u001b[39m \u001b[38;5;241m1\u001b[39m:\n\u001b[1;32m    160\u001b[0m     \u001b[38;5;28;01mreturn\u001b[39;00m results[\u001b[38;5;241m0\u001b[39m]\n",
      "File \u001b[0;32m~/mambaforge/lib/python3.10/site-packages/lamindb/_registry.py:131\u001b[0m, in \u001b[0;36mfrom_values\u001b[0;34m(cls, values, field, **kwargs)\u001b[0m\n\u001b[1;32m    129\u001b[0m from_bionty \u001b[38;5;241m=\u001b[39m \u001b[38;5;28;01mTrue\u001b[39;00m \u001b[38;5;28;01mif\u001b[39;00m \u001b[38;5;28mcls\u001b[39m\u001b[38;5;241m.\u001b[39m\u001b[38;5;18m__module__\u001b[39m\u001b[38;5;241m.\u001b[39mstartswith(\u001b[38;5;124m\"\u001b[39m\u001b[38;5;124mlnschema_bionty.\u001b[39m\u001b[38;5;124m\"\u001b[39m) \u001b[38;5;28;01melse\u001b[39;00m \u001b[38;5;28;01mFalse\u001b[39;00m\n\u001b[1;32m    130\u001b[0m field_str \u001b[38;5;241m=\u001b[39m get_default_str_field(\u001b[38;5;28mcls\u001b[39m, field\u001b[38;5;241m=\u001b[39mfield)\n\u001b[0;32m--> 131\u001b[0m \u001b[38;5;28;01mreturn\u001b[39;00m \u001b[43mget_or_create_records\u001b[49m\u001b[43m(\u001b[49m\n\u001b[1;32m    132\u001b[0m \u001b[43m    \u001b[49m\u001b[43miterable\u001b[49m\u001b[38;5;241;43m=\u001b[39;49m\u001b[43mvalues\u001b[49m\u001b[43m,\u001b[49m\n\u001b[1;32m    133\u001b[0m \u001b[43m    \u001b[49m\u001b[43mfield\u001b[49m\u001b[38;5;241;43m=\u001b[39;49m\u001b[38;5;28;43mgetattr\u001b[39;49m\u001b[43m(\u001b[49m\u001b[38;5;28;43mcls\u001b[39;49m\u001b[43m,\u001b[49m\u001b[43m \u001b[49m\u001b[43mfield_str\u001b[49m\u001b[43m)\u001b[49m\u001b[43m,\u001b[49m\n\u001b[1;32m    134\u001b[0m \u001b[43m    \u001b[49m\u001b[43mfrom_bionty\u001b[49m\u001b[38;5;241;43m=\u001b[39;49m\u001b[43mfrom_bionty\u001b[49m\u001b[43m,\u001b[49m\n\u001b[1;32m    135\u001b[0m \u001b[43m    \u001b[49m\u001b[38;5;241;43m*\u001b[39;49m\u001b[38;5;241;43m*\u001b[39;49m\u001b[43mkwargs\u001b[49m\u001b[43m,\u001b[49m\n\u001b[1;32m    136\u001b[0m \u001b[43m\u001b[49m\u001b[43m)\u001b[49m\n",
      "File \u001b[0;32m~/mambaforge/lib/python3.10/site-packages/lamindb/_from_values.py:29\u001b[0m, in \u001b[0;36mget_or_create_records\u001b[0;34m(iterable, field, from_bionty, **kwargs)\u001b[0m\n\u001b[1;32m     26\u001b[0m iterable_idx \u001b[38;5;241m=\u001b[39m index_iterable(iterable)\n\u001b[1;32m     28\u001b[0m \u001b[38;5;66;03m# returns existing records & non-existing values\u001b[39;00m\n\u001b[0;32m---> 29\u001b[0m records, nonexist_values, msg \u001b[38;5;241m=\u001b[39m \u001b[43mget_existing_records\u001b[49m\u001b[43m(\u001b[49m\n\u001b[1;32m     30\u001b[0m \u001b[43m    \u001b[49m\u001b[43miterable_idx\u001b[49m\u001b[38;5;241;43m=\u001b[39;49m\u001b[43miterable_idx\u001b[49m\u001b[43m,\u001b[49m\u001b[43m \u001b[49m\u001b[43mfield\u001b[49m\u001b[38;5;241;43m=\u001b[39;49m\u001b[43mfield\u001b[49m\u001b[43m,\u001b[49m\u001b[43m \u001b[49m\u001b[43mkwargs\u001b[49m\u001b[38;5;241;43m=\u001b[39;49m\u001b[43mkwargs\u001b[49m\n\u001b[1;32m     31\u001b[0m \u001b[43m\u001b[49m\u001b[43m)\u001b[49m\n\u001b[1;32m     33\u001b[0m \u001b[38;5;66;03m# new records to be created based on new values\u001b[39;00m\n\u001b[1;32m     34\u001b[0m \u001b[38;5;28;01mif\u001b[39;00m \u001b[38;5;28mlen\u001b[39m(nonexist_values) \u001b[38;5;241m>\u001b[39m \u001b[38;5;241m0\u001b[39m:\n",
      "File \u001b[0;32m~/mambaforge/lib/python3.10/site-packages/lamindb/_from_values.py:97\u001b[0m, in \u001b[0;36mget_existing_records\u001b[0;34m(iterable_idx, field, kwargs)\u001b[0m\n\u001b[1;32m     93\u001b[0m         condition\u001b[38;5;241m.\u001b[39mupdate({\u001b[38;5;124m\"\u001b[39m\u001b[38;5;124morganism\u001b[39m\u001b[38;5;124m\"\u001b[39m: organism_record})\n\u001b[1;32m     95\u001b[0m \u001b[38;5;66;03m# standardize based on the DB reference\u001b[39;00m\n\u001b[1;32m     96\u001b[0m \u001b[38;5;66;03m# log synonyms mapped terms\u001b[39;00m\n\u001b[0;32m---> 97\u001b[0m result \u001b[38;5;241m=\u001b[39m \u001b[43mmodel\u001b[49m\u001b[38;5;241;43m.\u001b[39;49m\u001b[43minspect\u001b[49m\u001b[43m(\u001b[49m\n\u001b[1;32m     98\u001b[0m \u001b[43m    \u001b[49m\u001b[43miterable_idx\u001b[49m\u001b[43m,\u001b[49m\u001b[43m \u001b[49m\u001b[43mfield\u001b[49m\u001b[38;5;241;43m=\u001b[39;49m\u001b[43mfield\u001b[49m\u001b[43m,\u001b[49m\u001b[43m \u001b[49m\u001b[43morganism\u001b[49m\u001b[38;5;241;43m=\u001b[39;49m\u001b[43mkwargs\u001b[49m\u001b[38;5;241;43m.\u001b[39;49m\u001b[43mget\u001b[49m\u001b[43m(\u001b[49m\u001b[38;5;124;43m\"\u001b[39;49m\u001b[38;5;124;43morganism\u001b[39;49m\u001b[38;5;124;43m\"\u001b[39;49m\u001b[43m)\u001b[49m\u001b[43m,\u001b[49m\u001b[43m \u001b[49m\u001b[43mmute\u001b[49m\u001b[38;5;241;43m=\u001b[39;49m\u001b[38;5;28;43;01mTrue\u001b[39;49;00m\n\u001b[1;32m     99\u001b[0m \u001b[43m\u001b[49m\u001b[43m)\u001b[49m\n\u001b[1;32m    100\u001b[0m syn_mapper \u001b[38;5;241m=\u001b[39m result\u001b[38;5;241m.\u001b[39msynonyms_mapper\n\u001b[1;32m    102\u001b[0m syn_msg \u001b[38;5;241m=\u001b[39m \u001b[38;5;124m\"\u001b[39m\u001b[38;5;124m\"\u001b[39m\n",
      "File \u001b[0;32m~/mambaforge/lib/python3.10/site-packages/lamindb/_validate.py:31\u001b[0m, in \u001b[0;36minspect\u001b[0;34m(cls, values, field, mute, **kwargs)\u001b[0m\n\u001b[1;32m     20\u001b[0m \u001b[38;5;129m@classmethod\u001b[39m  \u001b[38;5;66;03m# type: ignore\u001b[39;00m\n\u001b[1;32m     21\u001b[0m \u001b[38;5;129m@doc_args\u001b[39m(CanValidate\u001b[38;5;241m.\u001b[39minspect\u001b[38;5;241m.\u001b[39m\u001b[38;5;18m__doc__\u001b[39m)\n\u001b[1;32m     22\u001b[0m \u001b[38;5;28;01mdef\u001b[39;00m \u001b[38;5;21minspect\u001b[39m(\n\u001b[0;32m   (...)\u001b[0m\n\u001b[1;32m     28\u001b[0m     \u001b[38;5;241m*\u001b[39m\u001b[38;5;241m*\u001b[39mkwargs,\n\u001b[1;32m     29\u001b[0m ) \u001b[38;5;241m-\u001b[39m\u001b[38;5;241m>\u001b[39m InspectResult:\n\u001b[1;32m     30\u001b[0m \u001b[38;5;250m    \u001b[39m\u001b[38;5;124;03m\"\"\"{}\"\"\"\u001b[39;00m\n\u001b[0;32m---> 31\u001b[0m     \u001b[38;5;28;01mreturn\u001b[39;00m \u001b[43m_inspect\u001b[49m\u001b[43m(\u001b[49m\n\u001b[1;32m     32\u001b[0m \u001b[43m        \u001b[49m\u001b[38;5;28;43mcls\u001b[39;49m\u001b[38;5;241;43m=\u001b[39;49m\u001b[38;5;28;43mcls\u001b[39;49m\u001b[43m,\u001b[49m\n\u001b[1;32m     33\u001b[0m \u001b[43m        \u001b[49m\u001b[43mvalues\u001b[49m\u001b[38;5;241;43m=\u001b[39;49m\u001b[43mvalues\u001b[49m\u001b[43m,\u001b[49m\n\u001b[1;32m     34\u001b[0m \u001b[43m        \u001b[49m\u001b[43mfield\u001b[49m\u001b[38;5;241;43m=\u001b[39;49m\u001b[43mfield\u001b[49m\u001b[43m,\u001b[49m\n\u001b[1;32m     35\u001b[0m \u001b[43m        \u001b[49m\u001b[43mmute\u001b[49m\u001b[38;5;241;43m=\u001b[39;49m\u001b[43mmute\u001b[49m\u001b[43m,\u001b[49m\n\u001b[1;32m     36\u001b[0m \u001b[43m        \u001b[49m\u001b[38;5;241;43m*\u001b[39;49m\u001b[38;5;241;43m*\u001b[39;49m\u001b[43mkwargs\u001b[49m\u001b[43m,\u001b[49m\n\u001b[1;32m     37\u001b[0m \u001b[43m    \u001b[49m\u001b[43m)\u001b[49m\n",
      "File \u001b[0;32m~/mambaforge/lib/python3.10/site-packages/lamindb/_validate.py:87\u001b[0m, in \u001b[0;36m_inspect\u001b[0;34m(cls, values, field, mute, **kwargs)\u001b[0m\n\u001b[1;32m     85\u001b[0m \u001b[38;5;28;01mif\u001b[39;00m \u001b[38;5;28mlen\u001b[39m(nonval) \u001b[38;5;241m>\u001b[39m \u001b[38;5;241m0\u001b[39m \u001b[38;5;129;01mand\u001b[39;00m orm\u001b[38;5;241m.\u001b[39m__get_schema_name__() \u001b[38;5;241m==\u001b[39m \u001b[38;5;124m\"\u001b[39m\u001b[38;5;124mbionty\u001b[39m\u001b[38;5;124m\"\u001b[39m:\n\u001b[1;32m     86\u001b[0m     \u001b[38;5;28;01mtry\u001b[39;00m:\n\u001b[0;32m---> 87\u001b[0m         bionty_result \u001b[38;5;241m=\u001b[39m \u001b[43morm\u001b[49m\u001b[38;5;241;43m.\u001b[39;49m\u001b[43mbionty\u001b[49m\u001b[43m(\u001b[49m\u001b[43morganism\u001b[49m\u001b[38;5;241;43m=\u001b[39;49m\u001b[43mkwargs\u001b[49m\u001b[38;5;241;43m.\u001b[39;49m\u001b[43mget\u001b[49m\u001b[43m(\u001b[49m\u001b[38;5;124;43m\"\u001b[39;49m\u001b[38;5;124;43morganism\u001b[39;49m\u001b[38;5;124;43m\"\u001b[39;49m\u001b[43m)\u001b[49m\u001b[43m)\u001b[49m\u001b[38;5;241m.\u001b[39minspect(\n\u001b[1;32m     88\u001b[0m             values\u001b[38;5;241m=\u001b[39mnonval, field\u001b[38;5;241m=\u001b[39mfield, mute\u001b[38;5;241m=\u001b[39m\u001b[38;5;28;01mTrue\u001b[39;00m, \u001b[38;5;241m*\u001b[39m\u001b[38;5;241m*\u001b[39mkwargs\n\u001b[1;32m     89\u001b[0m         )\n\u001b[1;32m     90\u001b[0m         bionty_validated \u001b[38;5;241m=\u001b[39m bionty_result\u001b[38;5;241m.\u001b[39mvalidated\n\u001b[1;32m     91\u001b[0m         bionty_mapper \u001b[38;5;241m=\u001b[39m bionty_result\u001b[38;5;241m.\u001b[39msynonyms_mapper\n",
      "File \u001b[0;32m~/mambaforge/lib/python3.10/site-packages/lnschema_bionty/models.py:125\u001b[0m, in \u001b[0;36mBioRegistry.bionty\u001b[0;34m(cls, organism, bionty_source, **kwargs)\u001b[0m\n\u001b[1;32m    123\u001b[0m     source \u001b[38;5;241m=\u001b[39m \u001b[38;5;28;01mNone\u001b[39;00m\n\u001b[1;32m    124\u001b[0m     version \u001b[38;5;241m=\u001b[39m \u001b[38;5;28;01mNone\u001b[39;00m\n\u001b[0;32m--> 125\u001b[0m bionty_object \u001b[38;5;241m=\u001b[39m \u001b[38;5;28;43mgetattr\u001b[39;49m\u001b[43m(\u001b[49m\u001b[43mbt\u001b[49m\u001b[43m,\u001b[49m\u001b[43m \u001b[49m\u001b[38;5;28;43mcls\u001b[39;49m\u001b[38;5;241;43m.\u001b[39;49m\u001b[38;5;18;43m__name__\u001b[39;49m\u001b[43m)\u001b[49m\u001b[43m(\u001b[49m\u001b[43morganism\u001b[49m\u001b[38;5;241;43m=\u001b[39;49m\u001b[43morganism\u001b[49m\u001b[43m,\u001b[49m\u001b[43m \u001b[49m\u001b[43msource\u001b[49m\u001b[38;5;241;43m=\u001b[39;49m\u001b[43msource\u001b[49m\u001b[43m,\u001b[49m\u001b[43m \u001b[49m\u001b[43mversion\u001b[49m\u001b[38;5;241;43m=\u001b[39;49m\u001b[43mversion\u001b[49m\u001b[43m)\u001b[49m\n\u001b[1;32m    127\u001b[0m \u001b[38;5;28;01mreturn\u001b[39;00m bionty_object\n",
      "File \u001b[0;32m~/mambaforge/lib/python3.10/site-packages/bionty/entities/_organism.py:32\u001b[0m, in \u001b[0;36mOrganism.__init__\u001b[0;34m(self, organism, source, version, **kwargs)\u001b[0m\n\u001b[1;32m     23\u001b[0m \u001b[38;5;28;01mdef\u001b[39;00m \u001b[38;5;21m__init__\u001b[39m(\n\u001b[1;32m     24\u001b[0m     \u001b[38;5;28mself\u001b[39m,\n\u001b[1;32m     25\u001b[0m     organism: Optional[\n\u001b[0;32m   (...)\u001b[0m\n\u001b[1;32m     30\u001b[0m     \u001b[38;5;241m*\u001b[39m\u001b[38;5;241m*\u001b[39mkwargs,\n\u001b[1;32m     31\u001b[0m ):\n\u001b[0;32m---> 32\u001b[0m     \u001b[38;5;28;43msuper\u001b[39;49m\u001b[43m(\u001b[49m\u001b[43m)\u001b[49m\u001b[38;5;241;43m.\u001b[39;49m\u001b[38;5;21;43m__init__\u001b[39;49m\u001b[43m(\u001b[49m\u001b[43morganism\u001b[49m\u001b[38;5;241;43m=\u001b[39;49m\u001b[43morganism\u001b[49m\u001b[43m,\u001b[49m\u001b[43m \u001b[49m\u001b[43msource\u001b[49m\u001b[38;5;241;43m=\u001b[39;49m\u001b[43msource\u001b[49m\u001b[43m,\u001b[49m\u001b[43m \u001b[49m\u001b[43mversion\u001b[49m\u001b[38;5;241;43m=\u001b[39;49m\u001b[43mversion\u001b[49m\u001b[43m,\u001b[49m\u001b[43m \u001b[49m\u001b[38;5;241;43m*\u001b[39;49m\u001b[38;5;241;43m*\u001b[39;49m\u001b[43mkwargs\u001b[49m\u001b[43m)\u001b[49m\n",
      "File \u001b[0;32m~/mambaforge/lib/python3.10/site-packages/bionty/_bionty.py:65\u001b[0m, in \u001b[0;36mBionty.__init__\u001b[0;34m(self, source, version, organism, include_id_prefixes, **kwargs)\u001b[0m\n\u001b[1;32m     63\u001b[0m \u001b[38;5;28;01mif\u001b[39;00m organism \u001b[38;5;129;01mis\u001b[39;00m \u001b[38;5;28;01mNone\u001b[39;00m \u001b[38;5;129;01mand\u001b[39;00m kwargs\u001b[38;5;241m.\u001b[39mget(\u001b[38;5;124m\"\u001b[39m\u001b[38;5;124mspecies\u001b[39m\u001b[38;5;124m\"\u001b[39m) \u001b[38;5;129;01mis\u001b[39;00m \u001b[38;5;129;01mnot\u001b[39;00m \u001b[38;5;28;01mNone\u001b[39;00m:\n\u001b[1;32m     64\u001b[0m     organism \u001b[38;5;241m=\u001b[39m kwargs\u001b[38;5;241m.\u001b[39mget(\u001b[38;5;124m\"\u001b[39m\u001b[38;5;124mspecies\u001b[39m\u001b[38;5;124m\"\u001b[39m)\n\u001b[0;32m---> 65\u001b[0m \u001b[38;5;28;43mself\u001b[39;49m\u001b[38;5;241;43m.\u001b[39;49m\u001b[43m_fetch_sources\u001b[49m\u001b[43m(\u001b[49m\u001b[43m)\u001b[49m\n\u001b[1;32m     66\u001b[0m \u001b[38;5;28;01mtry\u001b[39;00m:\n\u001b[1;32m     67\u001b[0m     \u001b[38;5;66;03m# match user input organism, source and version with currently used sources\u001b[39;00m\n\u001b[1;32m     68\u001b[0m     current \u001b[38;5;241m=\u001b[39m \u001b[38;5;28mself\u001b[39m\u001b[38;5;241m.\u001b[39m_match_sources(\n\u001b[1;32m     69\u001b[0m         \u001b[38;5;28mself\u001b[39m\u001b[38;5;241m.\u001b[39m_current_sources,\n\u001b[1;32m     70\u001b[0m         source\u001b[38;5;241m=\u001b[39msource,\n\u001b[1;32m     71\u001b[0m         version\u001b[38;5;241m=\u001b[39mversion,\n\u001b[1;32m     72\u001b[0m         organism\u001b[38;5;241m=\u001b[39morganism,\n\u001b[1;32m     73\u001b[0m     )\n",
      "File \u001b[0;32m~/mambaforge/lib/python3.10/site-packages/bionty/_bionty.py:211\u001b[0m, in \u001b[0;36mBionty._fetch_sources\u001b[0;34m(self)\u001b[0m\n\u001b[1;32m    207\u001b[0m \u001b[38;5;28;01mdef\u001b[39;00m \u001b[38;5;21m_subset_to_entity\u001b[39m(df: pd\u001b[38;5;241m.\u001b[39mDataFrame, key: \u001b[38;5;28mstr\u001b[39m):\n\u001b[1;32m    208\u001b[0m     \u001b[38;5;28;01mreturn\u001b[39;00m df\u001b[38;5;241m.\u001b[39mloc[[key]] \u001b[38;5;28;01mif\u001b[39;00m \u001b[38;5;28misinstance\u001b[39m(df\u001b[38;5;241m.\u001b[39mloc[key], pd\u001b[38;5;241m.\u001b[39mSeries) \u001b[38;5;28;01melse\u001b[39;00m df\u001b[38;5;241m.\u001b[39mloc[key]\n\u001b[1;32m    210\u001b[0m \u001b[38;5;28mself\u001b[39m\u001b[38;5;241m.\u001b[39m_current_sources \u001b[38;5;241m=\u001b[39m _subset_to_entity(\n\u001b[0;32m--> 211\u001b[0m     \u001b[43mdisplay_currently_used_sources\u001b[49m\u001b[43m(\u001b[49m\u001b[43m)\u001b[49m, \u001b[38;5;28mself\u001b[39m\u001b[38;5;241m.\u001b[39m\u001b[38;5;18m__class__\u001b[39m\u001b[38;5;241m.\u001b[39m\u001b[38;5;18m__name__\u001b[39m\n\u001b[1;32m    212\u001b[0m )\n\u001b[1;32m    214\u001b[0m \u001b[38;5;28mself\u001b[39m\u001b[38;5;241m.\u001b[39m_all_sources \u001b[38;5;241m=\u001b[39m _subset_to_entity(\n\u001b[1;32m    215\u001b[0m     display_available_sources(), \u001b[38;5;28mself\u001b[39m\u001b[38;5;241m.\u001b[39m\u001b[38;5;18m__class__\u001b[39m\u001b[38;5;241m.\u001b[39m\u001b[38;5;18m__name__\u001b[39m\n\u001b[1;32m    216\u001b[0m )\n",
      "File \u001b[0;32m~/mambaforge/lib/python3.10/site-packages/bionty/_display_sources.py:38\u001b[0m, in \u001b[0;36mdisplay_currently_used_sources\u001b[0;34m()\u001b[0m\n\u001b[1;32m     24\u001b[0m \u001b[38;5;250m\u001b[39m\u001b[38;5;124;03m\"\"\"Displays all currently used sources.\u001b[39;00m\n\u001b[1;32m     25\u001b[0m \n\u001b[1;32m     26\u001b[0m \u001b[38;5;124;03mActive version is unique for entity + organism.\u001b[39;00m\n\u001b[0;32m   (...)\u001b[0m\n\u001b[1;32m     30\u001b[0m \u001b[38;5;124;03m    >>> bt.display_currently_used_sources()\u001b[39;00m\n\u001b[1;32m     31\u001b[0m \u001b[38;5;124;03m\"\"\"\u001b[39;00m\n\u001b[1;32m     32\u001b[0m VERSIONS_FILE_PATH \u001b[38;5;241m=\u001b[39m (\n\u001b[1;32m     33\u001b[0m     settings\u001b[38;5;241m.\u001b[39mlamindb_sources\n\u001b[1;32m     34\u001b[0m     \u001b[38;5;28;01mif\u001b[39;00m LAMINDB_INSTANCE_LOADED()\n\u001b[1;32m     35\u001b[0m     \u001b[38;5;28;01melse\u001b[39;00m settings\u001b[38;5;241m.\u001b[39mcurrent_sources\n\u001b[1;32m     36\u001b[0m )\n\u001b[0;32m---> 38\u001b[0m versions \u001b[38;5;241m=\u001b[39m \u001b[43mload_yaml\u001b[49m\u001b[43m(\u001b[49m\u001b[43mVERSIONS_FILE_PATH\u001b[49m\u001b[38;5;241;43m.\u001b[39;49m\u001b[43mresolve\u001b[49m\u001b[43m(\u001b[49m\u001b[43m)\u001b[49m\u001b[43m)\u001b[49m\n\u001b[1;32m     40\u001b[0m df_rows \u001b[38;5;241m=\u001b[39m []\n\u001b[1;32m     41\u001b[0m \u001b[38;5;28;01mfor\u001b[39;00m bionty_class, bionty_class_data \u001b[38;5;129;01min\u001b[39;00m versions\u001b[38;5;241m.\u001b[39mitems():\n",
      "File \u001b[0;32m~/mambaforge/lib/python3.10/site-packages/bionty/dev/_io.py:15\u001b[0m, in \u001b[0;36mload_yaml\u001b[0;34m(filename, convert_dates)\u001b[0m\n\u001b[1;32m     12\u001b[0m \u001b[38;5;28;01mdef\u001b[39;00m \u001b[38;5;21mload_yaml\u001b[39m(\n\u001b[1;32m     13\u001b[0m     filename: Union[\u001b[38;5;28mstr\u001b[39m, Path], convert_dates: \u001b[38;5;28mbool\u001b[39m \u001b[38;5;241m=\u001b[39m \u001b[38;5;28;01mTrue\u001b[39;00m\n\u001b[1;32m     14\u001b[0m ):  \u001b[38;5;66;03m# pragma: no cover\u001b[39;00m\n\u001b[0;32m---> 15\u001b[0m     \u001b[38;5;28;01mwith\u001b[39;00m \u001b[38;5;28;43mopen\u001b[39;49m\u001b[43m(\u001b[49m\u001b[43mfilename\u001b[49m\u001b[43m,\u001b[49m\u001b[43m \u001b[49m\u001b[38;5;124;43m\"\u001b[39;49m\u001b[38;5;124;43mr\u001b[39;49m\u001b[38;5;124;43m\"\u001b[39;49m\u001b[43m)\u001b[49m \u001b[38;5;28;01mas\u001b[39;00m f:\n\u001b[1;32m     16\u001b[0m         \u001b[38;5;28;01mreturn\u001b[39;00m yaml\u001b[38;5;241m.\u001b[39msafe_load(f)\n",
      "\u001b[0;31mFileNotFoundError\u001b[0m: [Errno 2] No such file or directory: '/home/vale/.lamin/bionty/versions/.lamindb_current_sources.yaml'"
     ]
    }
   ],
   "source": [
    "lb.Organism.from_bionty(name = 'human')"
   ]
  },
  {
   "cell_type": "code",
   "execution_count": null,
   "id": "111c0bd4-c51f-4867-92cc-e55a1b365fc5",
   "metadata": {},
   "outputs": [],
   "source": []
  },
  {
   "cell_type": "code",
   "execution_count": null,
   "id": "799ffd33-779c-486b-add2-fc3cb6711296",
   "metadata": {},
   "outputs": [],
   "source": []
  },
  {
   "cell_type": "code",
   "execution_count": null,
   "id": "ce083dc4-72a1-482a-8e91-bcee44184f2f",
   "metadata": {},
   "outputs": [],
   "source": []
  },
  {
   "cell_type": "code",
   "execution_count": null,
   "id": "f28b31e2-e5d3-4539-affe-0008a51ea68e",
   "metadata": {},
   "outputs": [],
   "source": []
  },
  {
   "cell_type": "code",
   "execution_count": null,
   "id": "126af57c-3356-4332-97a8-64b66fa95028",
   "metadata": {},
   "outputs": [],
   "source": []
  },
  {
   "cell_type": "code",
   "execution_count": null,
   "id": "54fb4628-519a-4018-adf2-bc5b8bcb06ba",
   "metadata": {},
   "outputs": [],
   "source": []
  },
  {
   "cell_type": "code",
   "execution_count": null,
   "id": "f32a2208-ef00-455c-af33-1d1bf1c9d694",
   "metadata": {},
   "outputs": [],
   "source": []
  },
  {
   "cell_type": "code",
   "execution_count": null,
   "id": "ce3d2810-ee53-4173-b52d-3f65f57e77aa",
   "metadata": {},
   "outputs": [],
   "source": []
  },
  {
   "cell_type": "code",
   "execution_count": null,
   "id": "e3906f64-2f52-4bc0-8cef-27cfa0ca84ee",
   "metadata": {},
   "outputs": [],
   "source": []
  },
  {
   "cell_type": "code",
   "execution_count": null,
   "id": "ae51dbd5-8729-4b23-85b8-22610fb80e8f",
   "metadata": {},
   "outputs": [],
   "source": []
  }
 ],
 "metadata": {
  "kernelspec": {
   "display_name": "Python 3 (ipykernel)",
   "language": "python",
   "name": "python3"
  },
  "language_info": {
   "codemirror_mode": {
    "name": "ipython",
    "version": 3
   },
   "file_extension": ".py",
   "mimetype": "text/x-python",
   "name": "python",
   "nbconvert_exporter": "python",
   "pygments_lexer": "ipython3",
   "version": "3.10.11"
  }
 },
 "nbformat": 4,
 "nbformat_minor": 5
}
