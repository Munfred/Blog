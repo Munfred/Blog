{
 "cells": [
  {
   "cell_type": "code",
   "execution_count": 1,
   "id": "29708b65-bd64-4082-8a11-861aa5e4cef6",
   "metadata": {},
   "outputs": [
    {
     "name": "stdout",
     "output_type": "stream",
     "text": [
      "✅ wrote new records from public sources.yaml to /home/vale/.lamin/bionty/versions/sources_local.yaml!\n",
      "\n",
      "if you see this message repeatedly, run: bt.reset_sources()\n",
      "💡 lamindb instance: vals/scrna\n"
     ]
    }
   ],
   "source": [
    "import glob\n",
    "\n",
    "import anndata\n",
    "import lamindb as ln\n",
    "import lnschema_bionty as lb\n",
    "import pandas as pd\n",
    "from tqdm import tqdm"
   ]
  },
  {
   "cell_type": "code",
   "execution_count": null,
   "id": "4887a34c-aad3-4f27-8fb5-0fcd6f790eb8",
   "metadata": {},
   "outputs": [],
   "source": []
  },
  {
   "cell_type": "code",
   "execution_count": 4,
   "id": "9cdb3dc5-87d3-4ed2-88f6-c3052d5740ba",
   "metadata": {},
   "outputs": [
    {
     "data": {
      "text/plain": [
       "Organism(uid='EeBGvIYd', name='human', ontology_id='NCBITaxon:9606', scientific_name='homo_sapiens', bionty_source_id=51, created_by_id=1)"
      ]
     },
     "execution_count": 4,
     "metadata": {},
     "output_type": "execute_result"
    }
   ],
   "source": [
    "lb.Organism.from_bionty(name = 'human')"
   ]
  },
  {
   "cell_type": "code",
   "execution_count": 8,
   "id": "051df39d-09fb-43c4-9e9e-a5c34c2b2435",
   "metadata": {},
   "outputs": [
    {
     "data": {
      "text/plain": [
       "Organism(uid='Is9wp9mQ', name='mouse', ontology_id='NCBITaxon:10090', scientific_name='mus_musculus', bionty_source_id=51, created_by_id=1)"
      ]
     },
     "execution_count": 8,
     "metadata": {},
     "output_type": "execute_result"
    }
   ],
   "source": [
    "lb.Organism.from_bionty(name = 'mouse')"
   ]
  },
  {
   "cell_type": "code",
   "execution_count": null,
   "id": "58fcd5af-e149-48c3-94db-4a9b220caa8c",
   "metadata": {},
   "outputs": [],
   "source": []
  },
  {
   "cell_type": "code",
   "execution_count": 12,
   "id": "4a5329a7-00a0-4bea-83ad-5ad717f60b0b",
   "metadata": {},
   "outputs": [
    {
     "data": {
      "text/plain": [
       "Tissue(uid='DRLGiHK7', name='rectum', ontology_id='UBERON:0001052', synonyms='terminal portion of intestine', description='The Terminal Portion Of The Intestinal Tube, Terminating With The Anus.', bionty_source_id=75, created_by_id=1)"
      ]
     },
     "execution_count": 12,
     "metadata": {},
     "output_type": "execute_result"
    }
   ],
   "source": [
    "lb.Tissue.from_bionty(name = 'Rectum')"
   ]
  },
  {
   "cell_type": "code",
   "execution_count": 13,
   "id": "0d69a62f-d52b-42f3-87d2-131f02eba6df",
   "metadata": {},
   "outputs": [
    {
     "data": {
      "text/plain": [
       "\u001b[0;31mInit signature:\u001b[0m \u001b[0mlb\u001b[0m\u001b[0;34m.\u001b[0m\u001b[0mReadout\u001b[0m\u001b[0;34m(\u001b[0m\u001b[0;34m*\u001b[0m\u001b[0margs\u001b[0m\u001b[0;34m,\u001b[0m \u001b[0;34m**\u001b[0m\u001b[0mkwargs\u001b[0m\u001b[0;34m)\u001b[0m\u001b[0;34m\u001b[0m\u001b[0;34m\u001b[0m\u001b[0m\n",
       "\u001b[0;31mDocstring:\u001b[0m     \n",
       "Experimental factors - `Experimental Factor Ontology <https://www.ebi.ac.uk/ols/ontologies/efo>`__.\n",
       "\n",
       "\n",
       "Notes:\n",
       "    For more info, see tutorial :doc:`bio-registries`\n",
       "\n",
       "    Bulk create ExperimentalFactor records via :class:`~lamindb.dev.Registry.from_values`.\n",
       "\n",
       "Examples:\n",
       "    >>> standard_name = lb.ExperimentalFactor.bionty().standardize([\"scRNA-seq\"])\n",
       "    >>> record = lb.ExperimentalFactor.from_bionty(name=standard_name)\n",
       "\u001b[0;31mFile:\u001b[0m           ~/mambaforge/lib/python3.10/site-packages/lnschema_bionty/models.py\n",
       "\u001b[0;31mType:\u001b[0m           ModelBase\n",
       "\u001b[0;31mSubclasses:\u001b[0m     "
      ]
     },
     "metadata": {},
     "output_type": "display_data"
    }
   ],
   "source": [
    "lb.Readout?"
   ]
  },
  {
   "cell_type": "code",
   "execution_count": null,
   "id": "2868d82c-6e06-402a-99ff-d6e1b6ddb276",
   "metadata": {},
   "outputs": [],
   "source": []
  },
  {
   "cell_type": "code",
   "execution_count": 17,
   "id": "352b7bd5-85f2-49ed-9bc7-29c607fa9774",
   "metadata": {},
   "outputs": [
    {
     "name": "stdout",
     "output_type": "stream",
     "text": [
      "❗ \u001b[1;91mdid not create\u001b[0m ExperimentalFactor record for \u001b[1;93m1 non-validated\u001b[0m \u001b[3mname\u001b[0m: \u001b[1;93m'Chromium'\u001b[0m\n"
     ]
    }
   ],
   "source": [
    "lb.Readout.from_bionty(name = 'Chromium')"
   ]
  },
  {
   "cell_type": "code",
   "execution_count": null,
   "id": "7528e9fb-9c1e-4f91-92e7-b750086bf1f3",
   "metadata": {},
   "outputs": [],
   "source": []
  },
  {
   "cell_type": "code",
   "execution_count": null,
   "id": "f789608d-c370-4ffb-bdb6-3e2f282dc7e0",
   "metadata": {},
   "outputs": [],
   "source": []
  },
  {
   "cell_type": "code",
   "execution_count": null,
   "id": "329ca809-881f-4a73-8d28-5a1f15414401",
   "metadata": {},
   "outputs": [],
   "source": []
  },
  {
   "cell_type": "code",
   "execution_count": null,
   "id": "b072f2e7-2959-4d47-8f12-1b8f27a7eade",
   "metadata": {},
   "outputs": [],
   "source": []
  },
  {
   "cell_type": "code",
   "execution_count": null,
   "id": "9cd63838-f4c3-4a01-b381-bd474be1688a",
   "metadata": {},
   "outputs": [],
   "source": []
  },
  {
   "cell_type": "code",
   "execution_count": null,
   "id": "c0b88270-bb71-458a-a8a1-c399c578e80f",
   "metadata": {},
   "outputs": [],
   "source": []
  },
  {
   "cell_type": "code",
   "execution_count": null,
   "id": "840a0d97-5f2d-4e80-9f33-4b81f152dede",
   "metadata": {},
   "outputs": [],
   "source": []
  }
 ],
 "metadata": {
  "kernelspec": {
   "display_name": "Python 3 (ipykernel)",
   "language": "python",
   "name": "python3"
  },
  "language_info": {
   "codemirror_mode": {
    "name": "ipython",
    "version": 3
   },
   "file_extension": ".py",
   "mimetype": "text/x-python",
   "name": "python",
   "nbconvert_exporter": "python",
   "pygments_lexer": "ipython3",
   "version": "3.10.11"
  }
 },
 "nbformat": 4,
 "nbformat_minor": 5
}
