{
 "cells": [
  {
   "cell_type": "code",
   "execution_count": 36,
   "id": "bf0e3deb",
   "metadata": {},
   "outputs": [],
   "source": [
    "import glob\n",
    "\n",
    "import anndata\n",
    "import lamindb as ln\n",
    "import pandas as pd\n",
    "from tqdm import tqdm"
   ]
  },
  {
   "cell_type": "code",
   "execution_count": 2,
   "id": "cfafb6b8",
   "metadata": {
    "scrolled": true
   },
   "outputs": [
    {
     "data": {
      "text/plain": [
       "S3Path('s3://vals-scrna/')"
      ]
     },
     "execution_count": 2,
     "metadata": {},
     "output_type": "execute_result"
    }
   ],
   "source": [
    "ln.settings.storage"
   ]
  },
  {
   "cell_type": "code",
   "execution_count": null,
   "id": "b62e59b8",
   "metadata": {},
   "outputs": [],
   "source": []
  },
  {
   "cell_type": "code",
   "execution_count": 34,
   "id": "c81b0ba3",
   "metadata": {},
   "outputs": [
    {
     "name": "stderr",
     "output_type": "stream",
     "text": [
      "100%|███████████████████████████████████████████████████████████████████████████████████████████████████████████████████████████████████████████████████████████████████████████████████████████████████████████████████████████████████████████████| 308/308 [00:00<00:00, 1690897.42it/s]\n"
     ]
    }
   ],
   "source": [
    "all_files = []\n",
    "for f in tqdm(glob.glob('/mnt/c/Users/vale/Google Drive/**/*.h5ad', recursive = True)):\n",
    "    all_files += [f]"
   ]
  },
  {
   "cell_type": "code",
   "execution_count": 39,
   "id": "07399714",
   "metadata": {},
   "outputs": [],
   "source": [
    "pd.DataFrame(all_files, columns = ['filename']).to_csv('h5ad_file_list.csv', index = False)"
   ]
  },
  {
   "cell_type": "code",
   "execution_count": null,
   "id": "b08a189b",
   "metadata": {},
   "outputs": [],
   "source": []
  },
  {
   "cell_type": "code",
   "execution_count": null,
   "id": "13a72166",
   "metadata": {},
   "outputs": [],
   "source": []
  },
  {
   "cell_type": "code",
   "execution_count": 16,
   "id": "bf4899eb",
   "metadata": {},
   "outputs": [],
   "source": [
    "filepath = '/mnt/c/Users/vale/Google Drive/Analysis/210303 Cao development atlas/GSE156793_S3_gene_count.h5ad'"
   ]
  },
  {
   "cell_type": "code",
   "execution_count": 12,
   "id": "d73612a2",
   "metadata": {},
   "outputs": [],
   "source": [
    "adata = anndata.read(filepath)"
   ]
  },
  {
   "cell_type": "code",
   "execution_count": 13,
   "id": "9a5817a9",
   "metadata": {},
   "outputs": [
    {
     "data": {
      "text/plain": [
       "AnnData object with n_obs × n_vars = 4062980 × 63561\n",
       "    obs: 'All_reads', 'Assay', 'Batch', 'Development_day', 'Exon_reads', 'Experiment_batch', 'Fetus_id', 'Intron_reads', 'Main_cluster_name', 'Main_cluster_umap_1', 'Main_cluster_umap_2', 'Organ', 'Organ_cell_lineage', 'RT_group', 'Sex', 'Size_Factor', 'batch', 'sample'\n",
       "    var: 'exon_intron', 'gene_id', 'gene_short_name', 'gene_type', 'index'"
      ]
     },
     "execution_count": 13,
     "metadata": {},
     "output_type": "execute_result"
    }
   ],
   "source": [
    "adata"
   ]
  },
  {
   "cell_type": "code",
   "execution_count": 15,
   "id": "c7c857ee",
   "metadata": {},
   "outputs": [
    {
     "data": {
      "text/plain": [
       "array([1., 1., 1., 1., 2., 3., 1., 1., 1., 3.], dtype=float32)"
      ]
     },
     "execution_count": 15,
     "metadata": {},
     "output_type": "execute_result"
    }
   ],
   "source": [
    "adata.X.data[:10]"
   ]
  },
  {
   "cell_type": "code",
   "execution_count": 19,
   "id": "c999a5fc",
   "metadata": {},
   "outputs": [
    {
     "name": "stdout",
     "output_type": "stream",
     "text": [
      "❗ no run & transform get linked, consider passing a `run` or calling ln.track()\n"
     ]
    }
   ],
   "source": [
    "file = ln.File(adata, key = '210303 Cao development atlas/GSE156793_S3_gene_count.h5ad')"
   ]
  },
  {
   "cell_type": "code",
   "execution_count": 23,
   "id": "a9eded98",
   "metadata": {},
   "outputs": [
    {
     "name": "stdout",
     "output_type": "stream",
     "text": [
      "... uploading zTK2A6kOxRKV6T6ZQTdo.h5ad: 1.00\n",
      "\r"
     ]
    }
   ],
   "source": [
    "file.save()"
   ]
  },
  {
   "cell_type": "code",
   "execution_count": null,
   "id": "3e1db072",
   "metadata": {},
   "outputs": [],
   "source": []
  },
  {
   "cell_type": "code",
   "execution_count": 40,
   "id": "466f69ff",
   "metadata": {},
   "outputs": [
    {
     "name": "stdout",
     "output_type": "stream",
     "text": [
      "❗ no run & transform get linked, consider passing a `run` or calling ln.track()\n"
     ]
    }
   ],
   "source": [
    "file = ln.File(\n",
    "    '/mnt/c/Users/vale/Google Drive/Analysis/190523 mouse-embryo-atlas-2019/close_data.h5ad',\n",
    "    key = '190523 mouse-embryo-atlas-2019/close_data.h5ad'\n",
    ")"
   ]
  },
  {
   "cell_type": "code",
   "execution_count": 42,
   "id": "00858d67",
   "metadata": {},
   "outputs": [
    {
     "name": "stdout",
     "output_type": "stream",
     "text": [
      "... uploading close_data.h5ad: 1.00\n",
      "\r"
     ]
    }
   ],
   "source": [
    "file.save()"
   ]
  },
  {
   "cell_type": "code",
   "execution_count": null,
   "id": "0d377ec2",
   "metadata": {},
   "outputs": [],
   "source": []
  },
  {
   "cell_type": "code",
   "execution_count": 48,
   "id": "b6a80213",
   "metadata": {},
   "outputs": [
    {
     "data": {
      "text/html": [
       "<div>\n",
       "<style scoped>\n",
       "    .dataframe tbody tr th:only-of-type {\n",
       "        vertical-align: middle;\n",
       "    }\n",
       "\n",
       "    .dataframe tbody tr th {\n",
       "        vertical-align: top;\n",
       "    }\n",
       "\n",
       "    .dataframe thead th {\n",
       "        text-align: right;\n",
       "    }\n",
       "</style>\n",
       "<table border=\"1\" class=\"dataframe\">\n",
       "  <thead>\n",
       "    <tr style=\"text-align: right;\">\n",
       "      <th></th>\n",
       "      <th>uid</th>\n",
       "      <th>storage_id</th>\n",
       "      <th>key</th>\n",
       "      <th>suffix</th>\n",
       "      <th>accessor</th>\n",
       "      <th>description</th>\n",
       "      <th>version</th>\n",
       "      <th>size</th>\n",
       "      <th>hash</th>\n",
       "      <th>hash_type</th>\n",
       "      <th>transform_id</th>\n",
       "      <th>run_id</th>\n",
       "      <th>initial_version_id</th>\n",
       "      <th>visibility</th>\n",
       "      <th>key_is_virtual</th>\n",
       "      <th>updated_at</th>\n",
       "      <th>created_by_id</th>\n",
       "    </tr>\n",
       "    <tr>\n",
       "      <th>id</th>\n",
       "      <th></th>\n",
       "      <th></th>\n",
       "      <th></th>\n",
       "      <th></th>\n",
       "      <th></th>\n",
       "      <th></th>\n",
       "      <th></th>\n",
       "      <th></th>\n",
       "      <th></th>\n",
       "      <th></th>\n",
       "      <th></th>\n",
       "      <th></th>\n",
       "      <th></th>\n",
       "      <th></th>\n",
       "      <th></th>\n",
       "      <th></th>\n",
       "      <th></th>\n",
       "    </tr>\n",
       "  </thead>\n",
       "  <tbody>\n",
       "    <tr>\n",
       "      <th>1</th>\n",
       "      <td>zTK2A6kOxRKV6T6ZQTdo</td>\n",
       "      <td>1</td>\n",
       "      <td>210303 Cao development atlas/GSE156793_S3_gene...</td>\n",
       "      <td>.h5ad</td>\n",
       "      <td>AnnData</td>\n",
       "      <td>None</td>\n",
       "      <td>None</td>\n",
       "      <td>32573799218</td>\n",
       "      <td>RHevSG1VMsSWjH4SFLLqxe</td>\n",
       "      <td>sha1-fl</td>\n",
       "      <td>None</td>\n",
       "      <td>None</td>\n",
       "      <td>None</td>\n",
       "      <td>0</td>\n",
       "      <td>True</td>\n",
       "      <td>2023-11-06 04:46:20.406836+00:00</td>\n",
       "      <td>1</td>\n",
       "    </tr>\n",
       "    <tr>\n",
       "      <th>2</th>\n",
       "      <td>S3AkMmSgE1RjRcBgrUxC</td>\n",
       "      <td>1</td>\n",
       "      <td>190523 mouse-embryo-atlas-2019/close_data.h5ad</td>\n",
       "      <td>.h5ad</td>\n",
       "      <td>AnnData</td>\n",
       "      <td>None</td>\n",
       "      <td>None</td>\n",
       "      <td>109882283</td>\n",
       "      <td>Kk2V0AJ4PzADy-S8WqxEAZ</td>\n",
       "      <td>sha1-fl</td>\n",
       "      <td>None</td>\n",
       "      <td>None</td>\n",
       "      <td>None</td>\n",
       "      <td>0</td>\n",
       "      <td>True</td>\n",
       "      <td>2023-11-06 05:58:09.804484+00:00</td>\n",
       "      <td>1</td>\n",
       "    </tr>\n",
       "  </tbody>\n",
       "</table>\n",
       "</div>"
      ],
      "text/plain": [
       "                     uid  storage_id   \n",
       "id                                     \n",
       "1   zTK2A6kOxRKV6T6ZQTdo           1  \\\n",
       "2   S3AkMmSgE1RjRcBgrUxC           1   \n",
       "\n",
       "                                                  key suffix accessor   \n",
       "id                                                                      \n",
       "1   210303 Cao development atlas/GSE156793_S3_gene...  .h5ad  AnnData  \\\n",
       "2      190523 mouse-embryo-atlas-2019/close_data.h5ad  .h5ad  AnnData   \n",
       "\n",
       "   description version         size                    hash hash_type   \n",
       "id                                                                      \n",
       "1         None    None  32573799218  RHevSG1VMsSWjH4SFLLqxe   sha1-fl  \\\n",
       "2         None    None    109882283  Kk2V0AJ4PzADy-S8WqxEAZ   sha1-fl   \n",
       "\n",
       "   transform_id run_id initial_version_id  visibility  key_is_virtual   \n",
       "id                                                                      \n",
       "1          None   None               None           0            True  \\\n",
       "2          None   None               None           0            True   \n",
       "\n",
       "                         updated_at  created_by_id  \n",
       "id                                                  \n",
       "1  2023-11-06 04:46:20.406836+00:00              1  \n",
       "2  2023-11-06 05:58:09.804484+00:00              1  "
      ]
     },
     "execution_count": 48,
     "metadata": {},
     "output_type": "execute_result"
    }
   ],
   "source": [
    "ln.File.filter().df()"
   ]
  },
  {
   "cell_type": "code",
   "execution_count": null,
   "id": "f0c03e3e",
   "metadata": {},
   "outputs": [],
   "source": []
  },
  {
   "cell_type": "code",
   "execution_count": 49,
   "id": "93a43793",
   "metadata": {},
   "outputs": [
    {
     "name": "stdout",
     "output_type": "stream",
     "text": [
      "❗ no run & transform get linked, consider passing a `run` or calling ln.track()\n"
     ]
    }
   ],
   "source": [
    "file = ln.File(\n",
    "    '/mnt/c/Users/vale/Google Drive/Analysis/190523 mouse-embryo-atlas-2019/combined_atlas.h5ad',\n",
    "    key = '190523 mouse-embryo-atlas-2019/combined_atlas.h5ad'\n",
    ")"
   ]
  },
  {
   "cell_type": "code",
   "execution_count": 50,
   "id": "698d021a",
   "metadata": {},
   "outputs": [
    {
     "name": "stdout",
     "output_type": "stream",
     "text": [
      "... uploading combined_atlas.h5ad: 1.00\n",
      "\r"
     ]
    }
   ],
   "source": [
    "file.save()"
   ]
  },
  {
   "cell_type": "code",
   "execution_count": null,
   "id": "317ec112",
   "metadata": {},
   "outputs": [],
   "source": []
  },
  {
   "cell_type": "code",
   "execution_count": 51,
   "id": "b71c26f3",
   "metadata": {},
   "outputs": [
    {
     "name": "stdout",
     "output_type": "stream",
     "text": [
      "❗ no run & transform get linked, consider passing a `run` or calling ln.track()\n",
      "❗ file has more than one suffix (path.suffixes), using only last suffix: '.h5ad' - if you want your file format to be recognized, make an issue: https://github.com/laminlabs/lamindb/issues/new\n"
     ]
    }
   ],
   "source": [
    "file = ln.File(\n",
    "    '/mnt/c/Users/vale/Google Drive/Analysis/191205-tissue-stability/lung.cellxgene.h5ad',\n",
    "    key = '191205-tissue-stability/lung.cellxgene.h5ad'\n",
    ")"
   ]
  },
  {
   "cell_type": "code",
   "execution_count": 52,
   "id": "9c1b698e",
   "metadata": {},
   "outputs": [
    {
     "name": "stdout",
     "output_type": "stream",
     "text": [
      "... uploading lung.cellxgene.h5ad: 1.00\n",
      "\r"
     ]
    }
   ],
   "source": [
    "file.save()"
   ]
  },
  {
   "cell_type": "code",
   "execution_count": null,
   "id": "6380ca8b",
   "metadata": {},
   "outputs": [],
   "source": []
  },
  {
   "cell_type": "code",
   "execution_count": 53,
   "id": "c6c102f4",
   "metadata": {},
   "outputs": [
    {
     "name": "stdout",
     "output_type": "stream",
     "text": [
      "❗ no run & transform get linked, consider passing a `run` or calling ln.track()\n"
     ]
    }
   ],
   "source": [
    "file = ln.File(\n",
    "    '/mnt/c/Users/vale/Google Drive/Analysis/200326-HCL/HCL_combined.h5ad',\n",
    "    key = '200326-HCL/HCL_combined.h5ad'\n",
    ")"
   ]
  },
  {
   "cell_type": "code",
   "execution_count": 54,
   "id": "09fb9501",
   "metadata": {},
   "outputs": [
    {
     "name": "stdout",
     "output_type": "stream",
     "text": [
      "... uploading HCL_combined.h5ad: 1.00\n",
      "\r"
     ]
    }
   ],
   "source": [
    "file.save()"
   ]
  },
  {
   "cell_type": "code",
   "execution_count": null,
   "id": "0e54ed01",
   "metadata": {},
   "outputs": [],
   "source": []
  },
  {
   "cell_type": "code",
   "execution_count": 55,
   "id": "00f118a8",
   "metadata": {},
   "outputs": [
    {
     "name": "stdout",
     "output_type": "stream",
     "text": [
      "❗ no run & transform get linked, consider passing a `run` or calling ln.track()\n"
     ]
    }
   ],
   "source": [
    "file = ln.File(\n",
    "    '/mnt/c/Users/vale/Google Drive/Analysis/200326-HCL/HCL_Fig1_adata.h5ad',\n",
    "    key = '200326-HCL/HCL_Fig1_adata.h5ad'\n",
    ")"
   ]
  },
  {
   "cell_type": "code",
   "execution_count": 56,
   "id": "9c5ee2cf",
   "metadata": {},
   "outputs": [
    {
     "name": "stdout",
     "output_type": "stream",
     "text": [
      "... uploading HCL_Fig1_adata.h5ad: 1.00\n",
      "\r"
     ]
    }
   ],
   "source": [
    "file.save()"
   ]
  },
  {
   "cell_type": "code",
   "execution_count": null,
   "id": "f1a8af44",
   "metadata": {},
   "outputs": [],
   "source": []
  },
  {
   "cell_type": "code",
   "execution_count": 57,
   "id": "b7818030",
   "metadata": {},
   "outputs": [
    {
     "name": "stdout",
     "output_type": "stream",
     "text": [
      "❗ no run & transform get linked, consider passing a `run` or calling ln.track()\n"
     ]
    }
   ],
   "source": [
    "file = ln.File(\n",
    "    '/mnt/c/Users/vale/Google Drive/Analysis/200428-slideseq-comparison/stickels_et_al_2020_slide_seqV2.h5ad',\n",
    "    key = '200428-slideseq-comparison/stickels_et_al_2020_slide_seqV2.h5ad'\n",
    ")"
   ]
  },
  {
   "cell_type": "code",
   "execution_count": 58,
   "id": "10b7c97f",
   "metadata": {},
   "outputs": [
    {
     "name": "stdout",
     "output_type": "stream",
     "text": [
      "... uploading stickels_et_al_2020_slide_seqV2.h5ad: 1.00\n",
      "\r"
     ]
    }
   ],
   "source": [
    "file.save()"
   ]
  },
  {
   "cell_type": "code",
   "execution_count": null,
   "id": "2e4e2cfb",
   "metadata": {},
   "outputs": [],
   "source": []
  },
  {
   "cell_type": "code",
   "execution_count": 59,
   "id": "c62b0545",
   "metadata": {},
   "outputs": [
    {
     "name": "stdout",
     "output_type": "stream",
     "text": [
      "❗ no run & transform get linked, consider passing a `run` or calling ln.track()\n",
      "❗ file has more than one suffix (path.suffixes), using only last suffix: '.h5ad' - if you want your file format to be recognized, make an issue: https://github.com/laminlabs/lamindb/issues/new\n"
     ]
    }
   ],
   "source": [
    "file = ln.File(\n",
    "    '/mnt/c/Users/vale/Google Drive/Analysis/210419 Communicating results/SCP1052.lung.counts.h5ad',\n",
    "    key = '210419 Communicating results/SCP1052.lung.counts.h5ad'\n",
    ")"
   ]
  },
  {
   "cell_type": "code",
   "execution_count": 60,
   "id": "8b038c50",
   "metadata": {},
   "outputs": [
    {
     "name": "stdout",
     "output_type": "stream",
     "text": [
      "... uploading SCP1052.lung.counts.h5ad: 1.00\n",
      "\r"
     ]
    }
   ],
   "source": [
    "file.save()"
   ]
  },
  {
   "cell_type": "code",
   "execution_count": null,
   "id": "cc223146",
   "metadata": {},
   "outputs": [],
   "source": []
  },
  {
   "cell_type": "code",
   "execution_count": 61,
   "id": "81c076ba",
   "metadata": {},
   "outputs": [
    {
     "data": {
      "text/html": [
       "<div>\n",
       "<style scoped>\n",
       "    .dataframe tbody tr th:only-of-type {\n",
       "        vertical-align: middle;\n",
       "    }\n",
       "\n",
       "    .dataframe tbody tr th {\n",
       "        vertical-align: top;\n",
       "    }\n",
       "\n",
       "    .dataframe thead th {\n",
       "        text-align: right;\n",
       "    }\n",
       "</style>\n",
       "<table border=\"1\" class=\"dataframe\">\n",
       "  <thead>\n",
       "    <tr style=\"text-align: right;\">\n",
       "      <th></th>\n",
       "      <th>uid</th>\n",
       "      <th>storage_id</th>\n",
       "      <th>key</th>\n",
       "      <th>suffix</th>\n",
       "      <th>accessor</th>\n",
       "      <th>description</th>\n",
       "      <th>version</th>\n",
       "      <th>size</th>\n",
       "      <th>hash</th>\n",
       "      <th>hash_type</th>\n",
       "      <th>transform_id</th>\n",
       "      <th>run_id</th>\n",
       "      <th>initial_version_id</th>\n",
       "      <th>visibility</th>\n",
       "      <th>key_is_virtual</th>\n",
       "      <th>updated_at</th>\n",
       "      <th>created_by_id</th>\n",
       "    </tr>\n",
       "    <tr>\n",
       "      <th>id</th>\n",
       "      <th></th>\n",
       "      <th></th>\n",
       "      <th></th>\n",
       "      <th></th>\n",
       "      <th></th>\n",
       "      <th></th>\n",
       "      <th></th>\n",
       "      <th></th>\n",
       "      <th></th>\n",
       "      <th></th>\n",
       "      <th></th>\n",
       "      <th></th>\n",
       "      <th></th>\n",
       "      <th></th>\n",
       "      <th></th>\n",
       "      <th></th>\n",
       "      <th></th>\n",
       "    </tr>\n",
       "  </thead>\n",
       "  <tbody>\n",
       "    <tr>\n",
       "      <th>1</th>\n",
       "      <td>zTK2A6kOxRKV6T6ZQTdo</td>\n",
       "      <td>1</td>\n",
       "      <td>210303 Cao development atlas/GSE156793_S3_gene...</td>\n",
       "      <td>.h5ad</td>\n",
       "      <td>AnnData</td>\n",
       "      <td>None</td>\n",
       "      <td>None</td>\n",
       "      <td>32573799218</td>\n",
       "      <td>RHevSG1VMsSWjH4SFLLqxe</td>\n",
       "      <td>sha1-fl</td>\n",
       "      <td>None</td>\n",
       "      <td>None</td>\n",
       "      <td>None</td>\n",
       "      <td>0</td>\n",
       "      <td>True</td>\n",
       "      <td>2023-11-06 04:46:20.406836+00:00</td>\n",
       "      <td>1</td>\n",
       "    </tr>\n",
       "    <tr>\n",
       "      <th>2</th>\n",
       "      <td>S3AkMmSgE1RjRcBgrUxC</td>\n",
       "      <td>1</td>\n",
       "      <td>190523 mouse-embryo-atlas-2019/close_data.h5ad</td>\n",
       "      <td>.h5ad</td>\n",
       "      <td>AnnData</td>\n",
       "      <td>None</td>\n",
       "      <td>None</td>\n",
       "      <td>109882283</td>\n",
       "      <td>Kk2V0AJ4PzADy-S8WqxEAZ</td>\n",
       "      <td>sha1-fl</td>\n",
       "      <td>None</td>\n",
       "      <td>None</td>\n",
       "      <td>None</td>\n",
       "      <td>0</td>\n",
       "      <td>True</td>\n",
       "      <td>2023-11-06 05:58:09.804484+00:00</td>\n",
       "      <td>1</td>\n",
       "    </tr>\n",
       "    <tr>\n",
       "      <th>3</th>\n",
       "      <td>09zz0M6SZKhM7rIbknWW</td>\n",
       "      <td>1</td>\n",
       "      <td>190523 mouse-embryo-atlas-2019/combined_atlas....</td>\n",
       "      <td>.h5ad</td>\n",
       "      <td>AnnData</td>\n",
       "      <td>None</td>\n",
       "      <td>None</td>\n",
       "      <td>4040036924</td>\n",
       "      <td>Y0GkwZiUIVRKBe2qDHJAKa</td>\n",
       "      <td>sha1-fl</td>\n",
       "      <td>None</td>\n",
       "      <td>None</td>\n",
       "      <td>None</td>\n",
       "      <td>0</td>\n",
       "      <td>True</td>\n",
       "      <td>2023-11-06 06:01:43.795916+00:00</td>\n",
       "      <td>1</td>\n",
       "    </tr>\n",
       "    <tr>\n",
       "      <th>4</th>\n",
       "      <td>UmqVwiiMtMDeTlHzh7ly</td>\n",
       "      <td>1</td>\n",
       "      <td>191205-tissue-stability/lung.cellxgene.h5ad</td>\n",
       "      <td>.h5ad</td>\n",
       "      <td>AnnData</td>\n",
       "      <td>None</td>\n",
       "      <td>None</td>\n",
       "      <td>1379378416</td>\n",
       "      <td>6xxwBVEwNWEyNuZDK65WH1</td>\n",
       "      <td>sha1-fl</td>\n",
       "      <td>None</td>\n",
       "      <td>None</td>\n",
       "      <td>None</td>\n",
       "      <td>0</td>\n",
       "      <td>True</td>\n",
       "      <td>2023-11-06 06:16:05.047672+00:00</td>\n",
       "      <td>1</td>\n",
       "    </tr>\n",
       "    <tr>\n",
       "      <th>5</th>\n",
       "      <td>GUNjmLxnM03jFBFaJnTf</td>\n",
       "      <td>1</td>\n",
       "      <td>200326-HCL/HCL_combined.h5ad</td>\n",
       "      <td>.h5ad</td>\n",
       "      <td>AnnData</td>\n",
       "      <td>None</td>\n",
       "      <td>None</td>\n",
       "      <td>2472793015</td>\n",
       "      <td>YFpXjk7iF64pPWJpo4S6a_</td>\n",
       "      <td>sha1-fl</td>\n",
       "      <td>None</td>\n",
       "      <td>None</td>\n",
       "      <td>None</td>\n",
       "      <td>0</td>\n",
       "      <td>True</td>\n",
       "      <td>2023-11-06 06:44:09.870444+00:00</td>\n",
       "      <td>1</td>\n",
       "    </tr>\n",
       "    <tr>\n",
       "      <th>6</th>\n",
       "      <td>h6PQfcyCXeJXyE5Ddk4b</td>\n",
       "      <td>1</td>\n",
       "      <td>200326-HCL/HCL_Fig1_adata.h5ad</td>\n",
       "      <td>.h5ad</td>\n",
       "      <td>AnnData</td>\n",
       "      <td>None</td>\n",
       "      <td>None</td>\n",
       "      <td>830846460</td>\n",
       "      <td>BKA9kBbjP3EjaHbhc8jWMJ</td>\n",
       "      <td>sha1-fl</td>\n",
       "      <td>None</td>\n",
       "      <td>None</td>\n",
       "      <td>None</td>\n",
       "      <td>0</td>\n",
       "      <td>True</td>\n",
       "      <td>2023-11-06 06:46:55.199089+00:00</td>\n",
       "      <td>1</td>\n",
       "    </tr>\n",
       "    <tr>\n",
       "      <th>7</th>\n",
       "      <td>mJZEoiGLRkKWslUroK7u</td>\n",
       "      <td>1</td>\n",
       "      <td>200428-slideseq-comparison/stickels_et_al_2020...</td>\n",
       "      <td>.h5ad</td>\n",
       "      <td>AnnData</td>\n",
       "      <td>None</td>\n",
       "      <td>None</td>\n",
       "      <td>1121724727</td>\n",
       "      <td>IQqURIh73_YFykDSZ-BuPA</td>\n",
       "      <td>sha1-fl</td>\n",
       "      <td>None</td>\n",
       "      <td>None</td>\n",
       "      <td>None</td>\n",
       "      <td>0</td>\n",
       "      <td>True</td>\n",
       "      <td>2023-11-06 06:48:22.547165+00:00</td>\n",
       "      <td>1</td>\n",
       "    </tr>\n",
       "    <tr>\n",
       "      <th>8</th>\n",
       "      <td>JYKk5lg6RxqrNBPEjW8L</td>\n",
       "      <td>1</td>\n",
       "      <td>210419 Communicating results/SCP1052.lung.coun...</td>\n",
       "      <td>.h5ad</td>\n",
       "      <td>AnnData</td>\n",
       "      <td>None</td>\n",
       "      <td>None</td>\n",
       "      <td>5155015648</td>\n",
       "      <td>AhndxeepaJT6dlSh20MqO4</td>\n",
       "      <td>sha1-fl</td>\n",
       "      <td>None</td>\n",
       "      <td>None</td>\n",
       "      <td>None</td>\n",
       "      <td>0</td>\n",
       "      <td>True</td>\n",
       "      <td>2023-11-06 06:50:01.631445+00:00</td>\n",
       "      <td>1</td>\n",
       "    </tr>\n",
       "  </tbody>\n",
       "</table>\n",
       "</div>"
      ],
      "text/plain": [
       "                     uid  storage_id   \n",
       "id                                     \n",
       "1   zTK2A6kOxRKV6T6ZQTdo           1  \\\n",
       "2   S3AkMmSgE1RjRcBgrUxC           1   \n",
       "3   09zz0M6SZKhM7rIbknWW           1   \n",
       "4   UmqVwiiMtMDeTlHzh7ly           1   \n",
       "5   GUNjmLxnM03jFBFaJnTf           1   \n",
       "6   h6PQfcyCXeJXyE5Ddk4b           1   \n",
       "7   mJZEoiGLRkKWslUroK7u           1   \n",
       "8   JYKk5lg6RxqrNBPEjW8L           1   \n",
       "\n",
       "                                                  key suffix accessor   \n",
       "id                                                                      \n",
       "1   210303 Cao development atlas/GSE156793_S3_gene...  .h5ad  AnnData  \\\n",
       "2      190523 mouse-embryo-atlas-2019/close_data.h5ad  .h5ad  AnnData   \n",
       "3   190523 mouse-embryo-atlas-2019/combined_atlas....  .h5ad  AnnData   \n",
       "4         191205-tissue-stability/lung.cellxgene.h5ad  .h5ad  AnnData   \n",
       "5                        200326-HCL/HCL_combined.h5ad  .h5ad  AnnData   \n",
       "6                      200326-HCL/HCL_Fig1_adata.h5ad  .h5ad  AnnData   \n",
       "7   200428-slideseq-comparison/stickels_et_al_2020...  .h5ad  AnnData   \n",
       "8   210419 Communicating results/SCP1052.lung.coun...  .h5ad  AnnData   \n",
       "\n",
       "   description version         size                    hash hash_type   \n",
       "id                                                                      \n",
       "1         None    None  32573799218  RHevSG1VMsSWjH4SFLLqxe   sha1-fl  \\\n",
       "2         None    None    109882283  Kk2V0AJ4PzADy-S8WqxEAZ   sha1-fl   \n",
       "3         None    None   4040036924  Y0GkwZiUIVRKBe2qDHJAKa   sha1-fl   \n",
       "4         None    None   1379378416  6xxwBVEwNWEyNuZDK65WH1   sha1-fl   \n",
       "5         None    None   2472793015  YFpXjk7iF64pPWJpo4S6a_   sha1-fl   \n",
       "6         None    None    830846460  BKA9kBbjP3EjaHbhc8jWMJ   sha1-fl   \n",
       "7         None    None   1121724727  IQqURIh73_YFykDSZ-BuPA   sha1-fl   \n",
       "8         None    None   5155015648  AhndxeepaJT6dlSh20MqO4   sha1-fl   \n",
       "\n",
       "   transform_id run_id initial_version_id  visibility  key_is_virtual   \n",
       "id                                                                      \n",
       "1          None   None               None           0            True  \\\n",
       "2          None   None               None           0            True   \n",
       "3          None   None               None           0            True   \n",
       "4          None   None               None           0            True   \n",
       "5          None   None               None           0            True   \n",
       "6          None   None               None           0            True   \n",
       "7          None   None               None           0            True   \n",
       "8          None   None               None           0            True   \n",
       "\n",
       "                         updated_at  created_by_id  \n",
       "id                                                  \n",
       "1  2023-11-06 04:46:20.406836+00:00              1  \n",
       "2  2023-11-06 05:58:09.804484+00:00              1  \n",
       "3  2023-11-06 06:01:43.795916+00:00              1  \n",
       "4  2023-11-06 06:16:05.047672+00:00              1  \n",
       "5  2023-11-06 06:44:09.870444+00:00              1  \n",
       "6  2023-11-06 06:46:55.199089+00:00              1  \n",
       "7  2023-11-06 06:48:22.547165+00:00              1  \n",
       "8  2023-11-06 06:50:01.631445+00:00              1  "
      ]
     },
     "execution_count": 61,
     "metadata": {},
     "output_type": "execute_result"
    }
   ],
   "source": [
    "ln.File.filter().df()"
   ]
  },
  {
   "cell_type": "code",
   "execution_count": null,
   "id": "4ef404da",
   "metadata": {},
   "outputs": [],
   "source": []
  },
  {
   "cell_type": "code",
   "execution_count": 62,
   "id": "1b5ead58",
   "metadata": {},
   "outputs": [
    {
     "name": "stdout",
     "output_type": "stream",
     "text": [
      "❗ no run & transform get linked, consider passing a `run` or calling ln.track()\n",
      "❗ file has more than one suffix (path.suffixes), using only last suffix: '.h5ad' - if you want your file format to be recognized, make an issue: https://github.com/laminlabs/lamindb/issues/new\n"
     ]
    }
   ],
   "source": [
    "file = ln.File(\n",
    "    '/mnt/c/Users/vale/Google Drive/Analysis/210419 Communicating results/SCP1052.lung.h5ad',\n",
    "    key = '210419 Communicating results/SCP1052.lung.h5ad'\n",
    ")"
   ]
  },
  {
   "cell_type": "code",
   "execution_count": 63,
   "id": "f4be5b25",
   "metadata": {},
   "outputs": [
    {
     "name": "stdout",
     "output_type": "stream",
     "text": [
      "... uploading SCP1052.lung.h5ad: 1.00\n",
      "\r"
     ]
    }
   ],
   "source": [
    "file.save()"
   ]
  },
  {
   "cell_type": "code",
   "execution_count": null,
   "id": "227ee04d",
   "metadata": {},
   "outputs": [],
   "source": []
  },
  {
   "cell_type": "code",
   "execution_count": 64,
   "id": "0e389848",
   "metadata": {},
   "outputs": [
    {
     "name": "stdout",
     "output_type": "stream",
     "text": [
      "❗ no run & transform get linked, consider passing a `run` or calling ln.track()\n",
      "❗ file has more than one suffix (path.suffixes), using only last suffix: '.h5ad' - if you want your file format to be recognized, make an issue: https://github.com/laminlabs/lamindb/issues/new\n"
     ]
    }
   ],
   "source": [
    "file = ln.File(\n",
    "    '/mnt/c/Users/vale/Google Drive/Analysis/220222 Exploratory analysis with scVI/GSE138266.220222.fitted.with.scVI.h5ad',\n",
    "    key = '220222 Exploratory analysis with scVI/GSE138266.220222.fitted.with.scVI.h5ad'\n",
    ")"
   ]
  },
  {
   "cell_type": "code",
   "execution_count": 65,
   "id": "470b796f",
   "metadata": {},
   "outputs": [
    {
     "name": "stdout",
     "output_type": "stream",
     "text": [
      "... uploading GSE138266.220222.fitted.with.scVI.h5ad: 1.00\n",
      "\r"
     ]
    }
   ],
   "source": [
    "file.save()"
   ]
  },
  {
   "cell_type": "code",
   "execution_count": null,
   "id": "82b1774d",
   "metadata": {},
   "outputs": [],
   "source": []
  },
  {
   "cell_type": "code",
   "execution_count": 66,
   "id": "e227ab63",
   "metadata": {},
   "outputs": [
    {
     "name": "stdout",
     "output_type": "stream",
     "text": [
      "❗ no run & transform get linked, consider passing a `run` or calling ln.track()\n"
     ]
    }
   ],
   "source": [
    "file = ln.File(\n",
    "    '/mnt/c/Users/vale/Google Drive/Analysis/220222 Exploratory analysis with scVI/GSE138266.h5ad',\n",
    "    key = '220222 Exploratory analysis with scVI/GSE138266.h5ad'\n",
    ")"
   ]
  },
  {
   "cell_type": "code",
   "execution_count": 67,
   "id": "6b05c21d",
   "metadata": {},
   "outputs": [
    {
     "name": "stdout",
     "output_type": "stream",
     "text": [
      "... uploading GSE138266.h5ad: 1.00\n",
      "\r"
     ]
    }
   ],
   "source": [
    "file.save()"
   ]
  },
  {
   "cell_type": "code",
   "execution_count": null,
   "id": "4d2e4fd4",
   "metadata": {},
   "outputs": [],
   "source": []
  },
  {
   "cell_type": "code",
   "execution_count": 68,
   "id": "85b598dc",
   "metadata": {},
   "outputs": [
    {
     "name": "stdout",
     "output_type": "stream",
     "text": [
      "❗ no run & transform get linked, consider passing a `run` or calling ln.track()\n",
      "❗ file has more than one suffix (path.suffixes), using only last suffix: '.h5ad' - if you want your file format to be recognized, make an issue: https://github.com/laminlabs/lamindb/issues/new\n"
     ]
    }
   ],
   "source": [
    "file = ln.File(\n",
    "    '/mnt/c/Users/vale/Google Drive/Analysis/cortex-align-2018/Saunders 2018/F_GRCm38.81.P60Cortex_noRep5_FRONTALonly.has_annotation.h5ad',\n",
    "    key = 'cortex-align-2018/Saunders 2018/F_GRCm38.81.P60Cortex_noRep5_FRONTALonly.has_annotation.h5ad'\n",
    ")"
   ]
  },
  {
   "cell_type": "code",
   "execution_count": 69,
   "id": "ac55f233",
   "metadata": {},
   "outputs": [
    {
     "name": "stdout",
     "output_type": "stream",
     "text": [
      "... uploading F_GRCm38.81.P60Cortex_noRep5_FRONTALonly.has_annotation.h5ad: 1.00\n",
      "\r"
     ]
    }
   ],
   "source": [
    "file.save()"
   ]
  },
  {
   "cell_type": "code",
   "execution_count": null,
   "id": "a659e3b0",
   "metadata": {},
   "outputs": [],
   "source": []
  },
  {
   "cell_type": "code",
   "execution_count": 70,
   "id": "c176aaba",
   "metadata": {},
   "outputs": [
    {
     "name": "stdout",
     "output_type": "stream",
     "text": [
      "❗ no run & transform get linked, consider passing a `run` or calling ln.track()\n",
      "❗ file has more than one suffix (path.suffixes), using only last suffix: '.h5ad' - if you want your file format to be recognized, make an issue: https://github.com/laminlabs/lamindb/issues/new\n"
     ]
    }
   ],
   "source": [
    "file = ln.File(\n",
    "    '/mnt/c/Users/vale/Google Drive/Analysis/cortex-align-2018/Saunders 2018/F_GRCm38.81.P60Cortex_noRep5_POSTERIORonly.has_annotation.h5ad',\n",
    "    key = 'cortex-align-2018/Saunders 2018/F_GRCm38.81.P60Cortex_noRep5_POSTERIORonly.has_annotation.h5ad'\n",
    ")"
   ]
  },
  {
   "cell_type": "code",
   "execution_count": 71,
   "id": "304aa998",
   "metadata": {},
   "outputs": [
    {
     "name": "stdout",
     "output_type": "stream",
     "text": [
      "... uploading F_GRCm38.81.P60Cortex_noRep5_POSTERIORonly.has_annotation.h5ad: 1.00\n",
      "\r"
     ]
    }
   ],
   "source": [
    "file.save()"
   ]
  },
  {
   "cell_type": "code",
   "execution_count": null,
   "id": "b4452f26",
   "metadata": {},
   "outputs": [],
   "source": []
  },
  {
   "cell_type": "code",
   "execution_count": 72,
   "id": "a3a1486b",
   "metadata": {},
   "outputs": [
    {
     "name": "stdout",
     "output_type": "stream",
     "text": [
      "❗ no run & transform get linked, consider passing a `run` or calling ln.track()\n"
     ]
    }
   ],
   "source": [
    "file = ln.File(\n",
    "    '/mnt/c/Users/vale/Google Drive/Analysis/cortex-align-2018/Zeisel 2018/l1_cortex1.h5ad',\n",
    "    key = 'cortex-align-2018/Zeisel 2018/l1_cortex1.h5ad'\n",
    ")"
   ]
  },
  {
   "cell_type": "code",
   "execution_count": 73,
   "id": "1c7778f8",
   "metadata": {},
   "outputs": [
    {
     "name": "stdout",
     "output_type": "stream",
     "text": [
      "... uploading l1_cortex1.h5ad: 1.00\n",
      "\r"
     ]
    }
   ],
   "source": [
    "file.save()"
   ]
  },
  {
   "cell_type": "code",
   "execution_count": null,
   "id": "73f3fe10",
   "metadata": {},
   "outputs": [],
   "source": []
  },
  {
   "cell_type": "code",
   "execution_count": 74,
   "id": "d24f9102",
   "metadata": {},
   "outputs": [
    {
     "name": "stdout",
     "output_type": "stream",
     "text": [
      "❗ no run & transform get linked, consider passing a `run` or calling ln.track()\n"
     ]
    }
   ],
   "source": [
    "file = ln.File(\n",
    "    '/mnt/c/Users/vale/Google Drive/Analysis/cortex-align-2018/Zeisel 2018/l1_cortex2.h5ad',\n",
    "    key = 'cortex-align-2018/Zeisel 2018/l1_cortex2.h5ad'\n",
    ")"
   ]
  },
  {
   "cell_type": "code",
   "execution_count": 75,
   "id": "649ae90a",
   "metadata": {},
   "outputs": [
    {
     "name": "stdout",
     "output_type": "stream",
     "text": [
      "... uploading l1_cortex2.h5ad: 1.00\n",
      "\r"
     ]
    }
   ],
   "source": [
    "file.save()"
   ]
  },
  {
   "cell_type": "code",
   "execution_count": null,
   "id": "d96f8f3b",
   "metadata": {},
   "outputs": [],
   "source": []
  },
  {
   "cell_type": "code",
   "execution_count": 76,
   "id": "48b63646",
   "metadata": {},
   "outputs": [
    {
     "name": "stdout",
     "output_type": "stream",
     "text": [
      "❗ no run & transform get linked, consider passing a `run` or calling ln.track()\n"
     ]
    }
   ],
   "source": [
    "file = ln.File(\n",
    "    '/mnt/c/Users/vale/Google Drive/Analysis/cortex-align-2018/Zeisel 2018/l1_cortex3.h5ad',\n",
    "    key = 'cortex-align-2018/Zeisel 2018/l1_cortex3.h5ad'\n",
    ")"
   ]
  },
  {
   "cell_type": "code",
   "execution_count": 77,
   "id": "3e583d57",
   "metadata": {},
   "outputs": [
    {
     "name": "stdout",
     "output_type": "stream",
     "text": [
      "... uploading l1_cortex3.h5ad: 1.00\n",
      "\r"
     ]
    }
   ],
   "source": [
    "file.save()"
   ]
  },
  {
   "cell_type": "code",
   "execution_count": null,
   "id": "aa4365d1",
   "metadata": {},
   "outputs": [],
   "source": []
  },
  {
   "cell_type": "code",
   "execution_count": 78,
   "id": "24064b95",
   "metadata": {},
   "outputs": [
    {
     "name": "stdout",
     "output_type": "stream",
     "text": [
      "❗ no run & transform get linked, consider passing a `run` or calling ln.track()\n"
     ]
    }
   ],
   "source": [
    "file = ln.File(\n",
    "    '/mnt/c/Users/vale/Google Drive/Analysis/data/SeqFISH/seqfish_125g_sheet1.h5ad',\n",
    "    key = 'SeqFISH/seqfish_125g_sheet1.h5ad'\n",
    ")"
   ]
  },
  {
   "cell_type": "code",
   "execution_count": 79,
   "id": "cf82258d",
   "metadata": {},
   "outputs": [
    {
     "name": "stdout",
     "output_type": "stream",
     "text": [
      "... uploading seqfish_125g_sheet1.h5ad: 1.00\n",
      "\r"
     ]
    }
   ],
   "source": [
    "file.save()"
   ]
  },
  {
   "cell_type": "code",
   "execution_count": null,
   "id": "41040561",
   "metadata": {},
   "outputs": [],
   "source": []
  },
  {
   "cell_type": "code",
   "execution_count": 80,
   "id": "57ae2037",
   "metadata": {},
   "outputs": [
    {
     "name": "stdout",
     "output_type": "stream",
     "text": [
      "❗ no run & transform get linked, consider passing a `run` or calling ln.track()\n"
     ]
    }
   ],
   "source": [
    "file = ln.File(\n",
    "    '/mnt/c/Users/vale/Google Drive/Analysis/data/SeqFISH/seqfish_249g_field43.h5ad',\n",
    "    key = 'SeqFISH/seqfish_249g_field43.h5ad'\n",
    ")"
   ]
  },
  {
   "cell_type": "code",
   "execution_count": 81,
   "id": "ef511a38",
   "metadata": {},
   "outputs": [
    {
     "name": "stdout",
     "output_type": "stream",
     "text": [
      "... uploading seqfish_249g_field43.h5ad: 1.00\n",
      "\r"
     ]
    }
   ],
   "source": [
    "file.save()"
   ]
  },
  {
   "cell_type": "code",
   "execution_count": null,
   "id": "476fcc9f",
   "metadata": {},
   "outputs": [],
   "source": []
  },
  {
   "cell_type": "code",
   "execution_count": 82,
   "id": "6074d1c1",
   "metadata": {},
   "outputs": [
    {
     "name": "stdout",
     "output_type": "stream",
     "text": [
      "❗ no run & transform get linked, consider passing a `run` or calling ln.track()\n"
     ]
    }
   ],
   "source": [
    "file = ln.File(\n",
    "    '/mnt/c/Users/vale/Google Drive/Analysis/hca-benchmark-2019/human_benchmark_all_technologies.h5ad',\n",
    "    key = 'hca-benchmark-2019/human_benchmark_all_technologies.h5ad'\n",
    ")"
   ]
  },
  {
   "cell_type": "code",
   "execution_count": 83,
   "id": "d3766ea2",
   "metadata": {},
   "outputs": [
    {
     "name": "stdout",
     "output_type": "stream",
     "text": [
      "... uploading human_benchmark_all_technologies.h5ad: 1.00\n",
      "\r"
     ]
    }
   ],
   "source": [
    "file.save()"
   ]
  },
  {
   "cell_type": "code",
   "execution_count": null,
   "id": "e2841b9e",
   "metadata": {},
   "outputs": [],
   "source": []
  },
  {
   "cell_type": "code",
   "execution_count": 84,
   "id": "658bc02b",
   "metadata": {},
   "outputs": [
    {
     "name": "stdout",
     "output_type": "stream",
     "text": [
      "❗ no run & transform get linked, consider passing a `run` or calling ln.track()\n"
     ]
    }
   ],
   "source": [
    "file = ln.File(\n",
    "    '/mnt/c/Users/vale/Google Drive/Analysis/hca-benchmark-2019/mouse_benchmark_all_technologies.h5ad',\n",
    "    key = 'hca-benchmark-2019/mouse_benchmark_all_technologies.h5ad'\n",
    ")"
   ]
  },
  {
   "cell_type": "code",
   "execution_count": 85,
   "id": "1fd5b5d8",
   "metadata": {},
   "outputs": [
    {
     "name": "stdout",
     "output_type": "stream",
     "text": [
      "... uploading mouse_benchmark_all_technologies.h5ad: 1.00\n",
      "\r"
     ]
    }
   ],
   "source": [
    "file.save()"
   ]
  },
  {
   "cell_type": "code",
   "execution_count": null,
   "id": "9d313df4",
   "metadata": {},
   "outputs": [],
   "source": []
  },
  {
   "cell_type": "code",
   "execution_count": 88,
   "id": "a9f728c0",
   "metadata": {},
   "outputs": [
    {
     "data": {
      "text/html": [
       "<div>\n",
       "<style scoped>\n",
       "    .dataframe tbody tr th:only-of-type {\n",
       "        vertical-align: middle;\n",
       "    }\n",
       "\n",
       "    .dataframe tbody tr th {\n",
       "        vertical-align: top;\n",
       "    }\n",
       "\n",
       "    .dataframe thead th {\n",
       "        text-align: right;\n",
       "    }\n",
       "</style>\n",
       "<table border=\"1\" class=\"dataframe\">\n",
       "  <thead>\n",
       "    <tr style=\"text-align: right;\">\n",
       "      <th></th>\n",
       "      <th>uid</th>\n",
       "      <th>key</th>\n",
       "      <th>size</th>\n",
       "      <th>accessor</th>\n",
       "    </tr>\n",
       "    <tr>\n",
       "      <th>id</th>\n",
       "      <th></th>\n",
       "      <th></th>\n",
       "      <th></th>\n",
       "      <th></th>\n",
       "    </tr>\n",
       "  </thead>\n",
       "  <tbody>\n",
       "    <tr>\n",
       "      <th>1</th>\n",
       "      <td>zTK2A6kOxRKV6T6ZQTdo</td>\n",
       "      <td>210303 Cao development atlas/GSE156793_S3_gene...</td>\n",
       "      <td>32573799218</td>\n",
       "      <td>AnnData</td>\n",
       "    </tr>\n",
       "    <tr>\n",
       "      <th>2</th>\n",
       "      <td>S3AkMmSgE1RjRcBgrUxC</td>\n",
       "      <td>190523 mouse-embryo-atlas-2019/close_data.h5ad</td>\n",
       "      <td>109882283</td>\n",
       "      <td>AnnData</td>\n",
       "    </tr>\n",
       "    <tr>\n",
       "      <th>3</th>\n",
       "      <td>09zz0M6SZKhM7rIbknWW</td>\n",
       "      <td>190523 mouse-embryo-atlas-2019/combined_atlas....</td>\n",
       "      <td>4040036924</td>\n",
       "      <td>AnnData</td>\n",
       "    </tr>\n",
       "    <tr>\n",
       "      <th>4</th>\n",
       "      <td>UmqVwiiMtMDeTlHzh7ly</td>\n",
       "      <td>191205-tissue-stability/lung.cellxgene.h5ad</td>\n",
       "      <td>1379378416</td>\n",
       "      <td>AnnData</td>\n",
       "    </tr>\n",
       "    <tr>\n",
       "      <th>5</th>\n",
       "      <td>GUNjmLxnM03jFBFaJnTf</td>\n",
       "      <td>200326-HCL/HCL_combined.h5ad</td>\n",
       "      <td>2472793015</td>\n",
       "      <td>AnnData</td>\n",
       "    </tr>\n",
       "    <tr>\n",
       "      <th>6</th>\n",
       "      <td>h6PQfcyCXeJXyE5Ddk4b</td>\n",
       "      <td>200326-HCL/HCL_Fig1_adata.h5ad</td>\n",
       "      <td>830846460</td>\n",
       "      <td>AnnData</td>\n",
       "    </tr>\n",
       "    <tr>\n",
       "      <th>7</th>\n",
       "      <td>mJZEoiGLRkKWslUroK7u</td>\n",
       "      <td>200428-slideseq-comparison/stickels_et_al_2020...</td>\n",
       "      <td>1121724727</td>\n",
       "      <td>AnnData</td>\n",
       "    </tr>\n",
       "    <tr>\n",
       "      <th>8</th>\n",
       "      <td>JYKk5lg6RxqrNBPEjW8L</td>\n",
       "      <td>210419 Communicating results/SCP1052.lung.coun...</td>\n",
       "      <td>5155015648</td>\n",
       "      <td>AnnData</td>\n",
       "    </tr>\n",
       "    <tr>\n",
       "      <th>9</th>\n",
       "      <td>VpVTQ0xFcHHzdeBcEhHN</td>\n",
       "      <td>210419 Communicating results/SCP1052.lung.h5ad</td>\n",
       "      <td>1717843053</td>\n",
       "      <td>AnnData</td>\n",
       "    </tr>\n",
       "    <tr>\n",
       "      <th>10</th>\n",
       "      <td>ZbAhp5ASiaOaKBqpOFQ2</td>\n",
       "      <td>220222 Exploratory analysis with scVI/GSE13826...</td>\n",
       "      <td>1246663095</td>\n",
       "      <td>AnnData</td>\n",
       "    </tr>\n",
       "    <tr>\n",
       "      <th>11</th>\n",
       "      <td>bEIwnqnBRf3ewAjRzNOY</td>\n",
       "      <td>220222 Exploratory analysis with scVI/GSE13826...</td>\n",
       "      <td>619244593</td>\n",
       "      <td>AnnData</td>\n",
       "    </tr>\n",
       "    <tr>\n",
       "      <th>12</th>\n",
       "      <td>H1dRhX4gKqoaTi5dVGTP</td>\n",
       "      <td>cortex-align-2018/Saunders 2018/F_GRCm38.81.P6...</td>\n",
       "      <td>310997375</td>\n",
       "      <td>AnnData</td>\n",
       "    </tr>\n",
       "    <tr>\n",
       "      <th>13</th>\n",
       "      <td>ZUv6XxN3FijVNupVGrcg</td>\n",
       "      <td>cortex-align-2018/Saunders 2018/F_GRCm38.81.P6...</td>\n",
       "      <td>185146714</td>\n",
       "      <td>AnnData</td>\n",
       "    </tr>\n",
       "    <tr>\n",
       "      <th>14</th>\n",
       "      <td>qBrdzdp8jundX1cvyQBu</td>\n",
       "      <td>cortex-align-2018/Zeisel 2018/l1_cortex1.h5ad</td>\n",
       "      <td>59477597</td>\n",
       "      <td>AnnData</td>\n",
       "    </tr>\n",
       "    <tr>\n",
       "      <th>15</th>\n",
       "      <td>88k1xpSWBdJzEbYUf6MZ</td>\n",
       "      <td>cortex-align-2018/Zeisel 2018/l1_cortex2.h5ad</td>\n",
       "      <td>77363974</td>\n",
       "      <td>AnnData</td>\n",
       "    </tr>\n",
       "    <tr>\n",
       "      <th>16</th>\n",
       "      <td>UDH0CAo3JHo0uQUiAtUV</td>\n",
       "      <td>cortex-align-2018/Zeisel 2018/l1_cortex3.h5ad</td>\n",
       "      <td>64354637</td>\n",
       "      <td>AnnData</td>\n",
       "    </tr>\n",
       "    <tr>\n",
       "      <th>17</th>\n",
       "      <td>pGbnYayWkq5p7uQlkPYi</td>\n",
       "      <td>SeqFISH/seqfish_125g_sheet1.h5ad</td>\n",
       "      <td>868228</td>\n",
       "      <td>AnnData</td>\n",
       "    </tr>\n",
       "    <tr>\n",
       "      <th>18</th>\n",
       "      <td>GWaFoFtpgy50Yu6N70kF</td>\n",
       "      <td>SeqFISH/seqfish_249g_field43.h5ad</td>\n",
       "      <td>88730</td>\n",
       "      <td>AnnData</td>\n",
       "    </tr>\n",
       "    <tr>\n",
       "      <th>19</th>\n",
       "      <td>3JJpQCr2jaPXJ0kjwfjW</td>\n",
       "      <td>hca-benchmark-2019/human_benchmark_all_technol...</td>\n",
       "      <td>1261819492</td>\n",
       "      <td>AnnData</td>\n",
       "    </tr>\n",
       "    <tr>\n",
       "      <th>20</th>\n",
       "      <td>Jikm8jMBVkjn4waM4Znl</td>\n",
       "      <td>hca-benchmark-2019/mouse_benchmark_all_technol...</td>\n",
       "      <td>826356672</td>\n",
       "      <td>AnnData</td>\n",
       "    </tr>\n",
       "  </tbody>\n",
       "</table>\n",
       "</div>"
      ],
      "text/plain": [
       "                     uid                                                key   \n",
       "id                                                                            \n",
       "1   zTK2A6kOxRKV6T6ZQTdo  210303 Cao development atlas/GSE156793_S3_gene...  \\\n",
       "2   S3AkMmSgE1RjRcBgrUxC     190523 mouse-embryo-atlas-2019/close_data.h5ad   \n",
       "3   09zz0M6SZKhM7rIbknWW  190523 mouse-embryo-atlas-2019/combined_atlas....   \n",
       "4   UmqVwiiMtMDeTlHzh7ly        191205-tissue-stability/lung.cellxgene.h5ad   \n",
       "5   GUNjmLxnM03jFBFaJnTf                       200326-HCL/HCL_combined.h5ad   \n",
       "6   h6PQfcyCXeJXyE5Ddk4b                     200326-HCL/HCL_Fig1_adata.h5ad   \n",
       "7   mJZEoiGLRkKWslUroK7u  200428-slideseq-comparison/stickels_et_al_2020...   \n",
       "8   JYKk5lg6RxqrNBPEjW8L  210419 Communicating results/SCP1052.lung.coun...   \n",
       "9   VpVTQ0xFcHHzdeBcEhHN     210419 Communicating results/SCP1052.lung.h5ad   \n",
       "10  ZbAhp5ASiaOaKBqpOFQ2  220222 Exploratory analysis with scVI/GSE13826...   \n",
       "11  bEIwnqnBRf3ewAjRzNOY  220222 Exploratory analysis with scVI/GSE13826...   \n",
       "12  H1dRhX4gKqoaTi5dVGTP  cortex-align-2018/Saunders 2018/F_GRCm38.81.P6...   \n",
       "13  ZUv6XxN3FijVNupVGrcg  cortex-align-2018/Saunders 2018/F_GRCm38.81.P6...   \n",
       "14  qBrdzdp8jundX1cvyQBu      cortex-align-2018/Zeisel 2018/l1_cortex1.h5ad   \n",
       "15  88k1xpSWBdJzEbYUf6MZ      cortex-align-2018/Zeisel 2018/l1_cortex2.h5ad   \n",
       "16  UDH0CAo3JHo0uQUiAtUV      cortex-align-2018/Zeisel 2018/l1_cortex3.h5ad   \n",
       "17  pGbnYayWkq5p7uQlkPYi                   SeqFISH/seqfish_125g_sheet1.h5ad   \n",
       "18  GWaFoFtpgy50Yu6N70kF                  SeqFISH/seqfish_249g_field43.h5ad   \n",
       "19  3JJpQCr2jaPXJ0kjwfjW  hca-benchmark-2019/human_benchmark_all_technol...   \n",
       "20  Jikm8jMBVkjn4waM4Znl  hca-benchmark-2019/mouse_benchmark_all_technol...   \n",
       "\n",
       "           size accessor  \n",
       "id                        \n",
       "1   32573799218  AnnData  \n",
       "2     109882283  AnnData  \n",
       "3    4040036924  AnnData  \n",
       "4    1379378416  AnnData  \n",
       "5    2472793015  AnnData  \n",
       "6     830846460  AnnData  \n",
       "7    1121724727  AnnData  \n",
       "8    5155015648  AnnData  \n",
       "9    1717843053  AnnData  \n",
       "10   1246663095  AnnData  \n",
       "11    619244593  AnnData  \n",
       "12    310997375  AnnData  \n",
       "13    185146714  AnnData  \n",
       "14     59477597  AnnData  \n",
       "15     77363974  AnnData  \n",
       "16     64354637  AnnData  \n",
       "17       868228  AnnData  \n",
       "18        88730  AnnData  \n",
       "19   1261819492  AnnData  \n",
       "20    826356672  AnnData  "
      ]
     },
     "execution_count": 88,
     "metadata": {},
     "output_type": "execute_result"
    }
   ],
   "source": [
    "ln.File.filter().df()[['uid', 'key', 'size', 'accessor']]"
   ]
  },
  {
   "cell_type": "code",
   "execution_count": null,
   "id": "8f36ed22",
   "metadata": {},
   "outputs": [],
   "source": []
  },
  {
   "cell_type": "code",
   "execution_count": 89,
   "id": "7e06b45c",
   "metadata": {},
   "outputs": [
    {
     "name": "stdout",
     "output_type": "stream",
     "text": [
      "❗ no run & transform get linked, consider passing a `run` or calling ln.track()\n"
     ]
    }
   ],
   "source": [
    "file = ln.File(\n",
    "    '/mnt/c/Users/vale/Google Drive/Analysis/hca-benchmark-2019/Ding/2019-05-Ding-et-al-bioRxiv_cortex_umis.h5ad',\n",
    "    key = 'hca-benchmark-2019/Ding/2019-05-Ding-et-al-bioRxiv_cortex_umis.h5ad'\n",
    ")"
   ]
  },
  {
   "cell_type": "code",
   "execution_count": 90,
   "id": "407e0e54",
   "metadata": {},
   "outputs": [
    {
     "name": "stdout",
     "output_type": "stream",
     "text": [
      "... uploading 2019-05-Ding-et-al-bioRxiv_cortex_umis.h5ad: 1.00\n",
      "\r"
     ]
    }
   ],
   "source": [
    "file.save()"
   ]
  },
  {
   "cell_type": "code",
   "execution_count": null,
   "id": "38698720",
   "metadata": {},
   "outputs": [],
   "source": []
  },
  {
   "cell_type": "code",
   "execution_count": 93,
   "id": "07c94ece",
   "metadata": {
    "scrolled": false
   },
   "outputs": [
    {
     "name": "stdout",
     "output_type": "stream",
     "text": [
      "❗ no run & transform get linked, consider passing a `run` or calling ln.track()\n"
     ]
    },
    {
     "ename": "InterfaceError",
     "evalue": "connection already closed",
     "output_type": "error",
     "traceback": [
      "\u001b[0;31m---------------------------------------------------------------------------\u001b[0m",
      "\u001b[0;31mInterfaceError\u001b[0m                            Traceback (most recent call last)",
      "File \u001b[0;32m~/mambaforge/lib/python3.10/site-packages/django/db/backends/base/base.py:308\u001b[0m, in \u001b[0;36mBaseDatabaseWrapper._cursor\u001b[0;34m(self, name)\u001b[0m\n\u001b[1;32m    307\u001b[0m \u001b[38;5;28;01mwith\u001b[39;00m \u001b[38;5;28mself\u001b[39m\u001b[38;5;241m.\u001b[39mwrap_database_errors:\n\u001b[0;32m--> 308\u001b[0m     \u001b[38;5;28;01mreturn\u001b[39;00m \u001b[38;5;28mself\u001b[39m\u001b[38;5;241m.\u001b[39m_prepare_cursor(\u001b[38;5;28;43mself\u001b[39;49m\u001b[38;5;241;43m.\u001b[39;49m\u001b[43mcreate_cursor\u001b[49m\u001b[43m(\u001b[49m\u001b[43mname\u001b[49m\u001b[43m)\u001b[49m)\n",
      "File \u001b[0;32m~/mambaforge/lib/python3.10/site-packages/django/utils/asyncio.py:26\u001b[0m, in \u001b[0;36masync_unsafe.<locals>.decorator.<locals>.inner\u001b[0;34m(*args, **kwargs)\u001b[0m\n\u001b[1;32m     25\u001b[0m \u001b[38;5;66;03m# Pass onward.\u001b[39;00m\n\u001b[0;32m---> 26\u001b[0m \u001b[38;5;28;01mreturn\u001b[39;00m \u001b[43mfunc\u001b[49m\u001b[43m(\u001b[49m\u001b[38;5;241;43m*\u001b[39;49m\u001b[43margs\u001b[49m\u001b[43m,\u001b[49m\u001b[43m \u001b[49m\u001b[38;5;241;43m*\u001b[39;49m\u001b[38;5;241;43m*\u001b[39;49m\u001b[43mkwargs\u001b[49m\u001b[43m)\u001b[49m\n",
      "File \u001b[0;32m~/mambaforge/lib/python3.10/site-packages/django/db/backends/postgresql/base.py:330\u001b[0m, in \u001b[0;36mDatabaseWrapper.create_cursor\u001b[0;34m(self, name)\u001b[0m\n\u001b[1;32m    329\u001b[0m \u001b[38;5;28;01melse\u001b[39;00m:\n\u001b[0;32m--> 330\u001b[0m     cursor \u001b[38;5;241m=\u001b[39m \u001b[38;5;28;43mself\u001b[39;49m\u001b[38;5;241;43m.\u001b[39;49m\u001b[43mconnection\u001b[49m\u001b[38;5;241;43m.\u001b[39;49m\u001b[43mcursor\u001b[49m\u001b[43m(\u001b[49m\u001b[43m)\u001b[49m\n\u001b[1;32m    332\u001b[0m \u001b[38;5;28;01mif\u001b[39;00m is_psycopg3:\n\u001b[1;32m    333\u001b[0m     \u001b[38;5;66;03m# Register the cursor timezone only if the connection disagrees, to\u001b[39;00m\n\u001b[1;32m    334\u001b[0m     \u001b[38;5;66;03m# avoid copying the adapter map.\u001b[39;00m\n",
      "\u001b[0;31mInterfaceError\u001b[0m: connection already closed",
      "\nThe above exception was the direct cause of the following exception:\n",
      "\u001b[0;31mInterfaceError\u001b[0m                            Traceback (most recent call last)",
      "Cell \u001b[0;32mIn[93], line 1\u001b[0m\n\u001b[0;32m----> 1\u001b[0m file \u001b[38;5;241m=\u001b[39m \u001b[43mln\u001b[49m\u001b[38;5;241;43m.\u001b[39;49m\u001b[43mFile\u001b[49m\u001b[43m(\u001b[49m\n\u001b[1;32m      2\u001b[0m \u001b[43m    \u001b[49m\u001b[38;5;124;43m'\u001b[39;49m\u001b[38;5;124;43m/mnt/c/Users/vale/Google Drive/Analysis/hca-benchmark-2019/Ding/PBMC/PBMC_read_counts.h5ad\u001b[39;49m\u001b[38;5;124;43m'\u001b[39;49m\u001b[43m,\u001b[49m\n\u001b[1;32m      3\u001b[0m \u001b[43m    \u001b[49m\u001b[43mkey\u001b[49m\u001b[43m \u001b[49m\u001b[38;5;241;43m=\u001b[39;49m\u001b[43m \u001b[49m\u001b[38;5;124;43m'\u001b[39;49m\u001b[38;5;124;43mhca-benchmark-2019/Ding/PBMC/PBMC_read_counts.h5ad\u001b[39;49m\u001b[38;5;124;43m'\u001b[39;49m\n\u001b[1;32m      4\u001b[0m \u001b[43m)\u001b[49m\n",
      "File \u001b[0;32m~/mambaforge/lib/python3.10/site-packages/lamindb/_file.py:499\u001b[0m, in \u001b[0;36m__init__\u001b[0;34m(file, *args, **kwargs)\u001b[0m\n\u001b[1;32m    494\u001b[0m     \u001b[38;5;28;01mif\u001b[39;00m initial_version_id \u001b[38;5;129;01mis\u001b[39;00m \u001b[38;5;28;01mNone\u001b[39;00m:\n\u001b[1;32m    495\u001b[0m         logger\u001b[38;5;241m.\u001b[39minfo(\n\u001b[1;32m    496\u001b[0m             \u001b[38;5;124m\"\u001b[39m\u001b[38;5;124minitializing versioning for this file! create future versions of it\u001b[39m\u001b[38;5;124m\"\u001b[39m\n\u001b[1;32m    497\u001b[0m             \u001b[38;5;124m\"\u001b[39m\u001b[38;5;124m using ln.File(..., is_new_version_of=old_file)\u001b[39m\u001b[38;5;124m\"\u001b[39m\n\u001b[1;32m    498\u001b[0m         )\n\u001b[0;32m--> 499\u001b[0m kwargs_or_file, privates \u001b[38;5;241m=\u001b[39m \u001b[43mget_file_kwargs_from_data\u001b[49m\u001b[43m(\u001b[49m\n\u001b[1;32m    500\u001b[0m \u001b[43m    \u001b[49m\u001b[43mdata\u001b[49m\u001b[38;5;241;43m=\u001b[39;49m\u001b[43mdata\u001b[49m\u001b[43m,\u001b[49m\n\u001b[1;32m    501\u001b[0m \u001b[43m    \u001b[49m\u001b[43mkey\u001b[49m\u001b[38;5;241;43m=\u001b[39;49m\u001b[43mkey\u001b[49m\u001b[43m,\u001b[49m\n\u001b[1;32m    502\u001b[0m \u001b[43m    \u001b[49m\u001b[43mrun\u001b[49m\u001b[38;5;241;43m=\u001b[39;49m\u001b[43mrun\u001b[49m\u001b[43m,\u001b[49m\n\u001b[1;32m    503\u001b[0m \u001b[43m    \u001b[49m\u001b[38;5;28;43mformat\u001b[39;49m\u001b[38;5;241;43m=\u001b[39;49m\u001b[38;5;28;43mformat\u001b[39;49m\u001b[43m,\u001b[49m\n\u001b[1;32m    504\u001b[0m \u001b[43m    \u001b[49m\u001b[43mprovisional_uid\u001b[49m\u001b[38;5;241;43m=\u001b[39;49m\u001b[43mprovisional_uid\u001b[49m\u001b[43m,\u001b[49m\n\u001b[1;32m    505\u001b[0m \u001b[43m    \u001b[49m\u001b[43mskip_check_exists\u001b[49m\u001b[38;5;241;43m=\u001b[39;49m\u001b[43mskip_check_exists\u001b[49m\u001b[43m,\u001b[49m\n\u001b[1;32m    506\u001b[0m \u001b[43m\u001b[49m\u001b[43m)\u001b[49m\n\u001b[1;32m    508\u001b[0m \u001b[38;5;66;03m# an object with the same hash already exists\u001b[39;00m\n\u001b[1;32m    509\u001b[0m \u001b[38;5;28;01mif\u001b[39;00m \u001b[38;5;28misinstance\u001b[39m(kwargs_or_file, File):\n",
      "File \u001b[0;32m~/mambaforge/lib/python3.10/site-packages/lamindb/_file.py:312\u001b[0m, in \u001b[0;36mget_file_kwargs_from_data\u001b[0;34m(data, key, run, format, provisional_uid, skip_check_exists)\u001b[0m\n\u001b[1;32m    302\u001b[0m \u001b[38;5;28;01mdef\u001b[39;00m \u001b[38;5;21mget_file_kwargs_from_data\u001b[39m(\n\u001b[1;32m    303\u001b[0m     \u001b[38;5;241m*\u001b[39m,\n\u001b[1;32m    304\u001b[0m     data: Union[Path, UPath, \u001b[38;5;28mstr\u001b[39m, pd\u001b[38;5;241m.\u001b[39mDataFrame, AnnData],\n\u001b[0;32m   (...)\u001b[0m\n\u001b[1;32m    309\u001b[0m     skip_check_exists: \u001b[38;5;28mbool\u001b[39m \u001b[38;5;241m=\u001b[39m \u001b[38;5;28;01mFalse\u001b[39;00m,\n\u001b[1;32m    310\u001b[0m ):\n\u001b[1;32m    311\u001b[0m     run \u001b[38;5;241m=\u001b[39m get_run(run)\n\u001b[0;32m--> 312\u001b[0m     memory_rep, filepath, suffix, storage, use_existing_storage_key \u001b[38;5;241m=\u001b[39m \u001b[43mprocess_data\u001b[49m\u001b[43m(\u001b[49m\n\u001b[1;32m    313\u001b[0m \u001b[43m        \u001b[49m\u001b[43mprovisional_uid\u001b[49m\u001b[43m,\u001b[49m\u001b[43m \u001b[49m\u001b[43mdata\u001b[49m\u001b[43m,\u001b[49m\u001b[43m \u001b[49m\u001b[38;5;28;43mformat\u001b[39;49m\u001b[43m,\u001b[49m\u001b[43m \u001b[49m\u001b[43mkey\u001b[49m\u001b[43m,\u001b[49m\u001b[43m \u001b[49m\u001b[43mskip_check_exists\u001b[49m\n\u001b[1;32m    314\u001b[0m \u001b[43m    \u001b[49m\u001b[43m)\u001b[49m\n\u001b[1;32m    315\u001b[0m     \u001b[38;5;66;03m# the following will return a localpath that is not None if filepath is local\u001b[39;00m\n\u001b[1;32m    316\u001b[0m     \u001b[38;5;66;03m# it will return a cloudpath that is not None if filepath is on the cloud\u001b[39;00m\n\u001b[1;32m    317\u001b[0m     local_filepath, cloud_filepath, size, hash_and_type \u001b[38;5;241m=\u001b[39m get_path_size_hash(\n\u001b[1;32m    318\u001b[0m         filepath,\n\u001b[1;32m    319\u001b[0m         memory_rep,\n\u001b[1;32m    320\u001b[0m         suffix,\n\u001b[1;32m    321\u001b[0m     )\n",
      "File \u001b[0;32m~/mambaforge/lib/python3.10/site-packages/lamindb/_file.py:115\u001b[0m, in \u001b[0;36mprocess_data\u001b[0;34m(provisional_uid, data, format, key, skip_existence_check)\u001b[0m\n\u001b[1;32m    113\u001b[0m \u001b[38;5;28;01mif\u001b[39;00m \u001b[38;5;28misinstance\u001b[39m(data, (\u001b[38;5;28mstr\u001b[39m, Path, UPath)):  \u001b[38;5;66;03m# PathLike, spelled out\u001b[39;00m\n\u001b[1;32m    114\u001b[0m     filepath \u001b[38;5;241m=\u001b[39m create_path(data)\n\u001b[0;32m--> 115\u001b[0m     storage, use_existing_storage_key \u001b[38;5;241m=\u001b[39m \u001b[43mprocess_pathlike\u001b[49m\u001b[43m(\u001b[49m\n\u001b[1;32m    116\u001b[0m \u001b[43m        \u001b[49m\u001b[43mfilepath\u001b[49m\u001b[43m,\u001b[49m\u001b[43m \u001b[49m\u001b[43mskip_existence_check\u001b[49m\u001b[38;5;241;43m=\u001b[39;49m\u001b[43mskip_existence_check\u001b[49m\n\u001b[1;32m    117\u001b[0m \u001b[43m    \u001b[49m\u001b[43m)\u001b[49m\n\u001b[1;32m    118\u001b[0m     suffix \u001b[38;5;241m=\u001b[39m extract_suffix_from_path(filepath)\n\u001b[1;32m    119\u001b[0m     memory_rep \u001b[38;5;241m=\u001b[39m \u001b[38;5;28;01mNone\u001b[39;00m\n",
      "File \u001b[0;32m~/mambaforge/lib/python3.10/site-packages/lamindb/_file.py:75\u001b[0m, in \u001b[0;36mprocess_pathlike\u001b[0;34m(filepath, skip_existence_check)\u001b[0m\n\u001b[1;32m     71\u001b[0m     \u001b[38;5;28;01mreturn\u001b[39;00m default_storage, use_existing_storage_key\n\u001b[1;32m     72\u001b[0m \u001b[38;5;28;01melse\u001b[39;00m:\n\u001b[1;32m     73\u001b[0m     \u001b[38;5;66;03m# check whether the path is part of one of the existing\u001b[39;00m\n\u001b[1;32m     74\u001b[0m     \u001b[38;5;66;03m# already-registered storage locations\u001b[39;00m\n\u001b[0;32m---> 75\u001b[0m     result \u001b[38;5;241m=\u001b[39m \u001b[43mcheck_path_in_existing_storage\u001b[49m\u001b[43m(\u001b[49m\u001b[43mfilepath\u001b[49m\u001b[43m)\u001b[49m\n\u001b[1;32m     76\u001b[0m     \u001b[38;5;28;01mif\u001b[39;00m \u001b[38;5;28misinstance\u001b[39m(result, Storage):\n\u001b[1;32m     77\u001b[0m         use_existing_storage_key \u001b[38;5;241m=\u001b[39m \u001b[38;5;28;01mTrue\u001b[39;00m\n",
      "File \u001b[0;32m~/mambaforge/lib/python3.10/site-packages/lamindb/_file.py:252\u001b[0m, in \u001b[0;36mcheck_path_in_existing_storage\u001b[0;34m(filepath)\u001b[0m\n\u001b[1;32m    249\u001b[0m \u001b[38;5;28;01mdef\u001b[39;00m \u001b[38;5;21mcheck_path_in_existing_storage\u001b[39m(\n\u001b[1;32m    250\u001b[0m     filepath: Union[Path, UPath]\n\u001b[1;32m    251\u001b[0m ) \u001b[38;5;241m-\u001b[39m\u001b[38;5;241m>\u001b[39m Union[Storage, \u001b[38;5;28mbool\u001b[39m]:\n\u001b[0;32m--> 252\u001b[0m     \u001b[38;5;28;01mfor\u001b[39;00m storage \u001b[38;5;129;01min\u001b[39;00m Storage\u001b[38;5;241m.\u001b[39mfilter()\u001b[38;5;241m.\u001b[39mall():\n\u001b[1;32m    253\u001b[0m         \u001b[38;5;66;03m# if path is part of storage, return it\u001b[39;00m\n\u001b[1;32m    254\u001b[0m         \u001b[38;5;28;01mif\u001b[39;00m check_path_is_child_of_root(filepath, root\u001b[38;5;241m=\u001b[39mcreate_path(storage\u001b[38;5;241m.\u001b[39mroot)):\n\u001b[1;32m    255\u001b[0m             \u001b[38;5;28;01mreturn\u001b[39;00m storage\n",
      "File \u001b[0;32m~/mambaforge/lib/python3.10/site-packages/django/db/models/query.py:398\u001b[0m, in \u001b[0;36mQuerySet.__iter__\u001b[0;34m(self)\u001b[0m\n\u001b[1;32m    383\u001b[0m \u001b[38;5;28;01mdef\u001b[39;00m \u001b[38;5;21m__iter__\u001b[39m(\u001b[38;5;28mself\u001b[39m):\n\u001b[1;32m    384\u001b[0m \u001b[38;5;250m    \u001b[39m\u001b[38;5;124;03m\"\"\"\u001b[39;00m\n\u001b[1;32m    385\u001b[0m \u001b[38;5;124;03m    The queryset iterator protocol uses three nested iterators in the\u001b[39;00m\n\u001b[1;32m    386\u001b[0m \u001b[38;5;124;03m    default case:\u001b[39;00m\n\u001b[0;32m   (...)\u001b[0m\n\u001b[1;32m    396\u001b[0m \u001b[38;5;124;03m           - Responsible for turning the rows into model objects.\u001b[39;00m\n\u001b[1;32m    397\u001b[0m \u001b[38;5;124;03m    \"\"\"\u001b[39;00m\n\u001b[0;32m--> 398\u001b[0m     \u001b[38;5;28;43mself\u001b[39;49m\u001b[38;5;241;43m.\u001b[39;49m\u001b[43m_fetch_all\u001b[49m\u001b[43m(\u001b[49m\u001b[43m)\u001b[49m\n\u001b[1;32m    399\u001b[0m     \u001b[38;5;28;01mreturn\u001b[39;00m \u001b[38;5;28miter\u001b[39m(\u001b[38;5;28mself\u001b[39m\u001b[38;5;241m.\u001b[39m_result_cache)\n",
      "File \u001b[0;32m~/mambaforge/lib/python3.10/site-packages/django/db/models/query.py:1881\u001b[0m, in \u001b[0;36mQuerySet._fetch_all\u001b[0;34m(self)\u001b[0m\n\u001b[1;32m   1879\u001b[0m \u001b[38;5;28;01mdef\u001b[39;00m \u001b[38;5;21m_fetch_all\u001b[39m(\u001b[38;5;28mself\u001b[39m):\n\u001b[1;32m   1880\u001b[0m     \u001b[38;5;28;01mif\u001b[39;00m \u001b[38;5;28mself\u001b[39m\u001b[38;5;241m.\u001b[39m_result_cache \u001b[38;5;129;01mis\u001b[39;00m \u001b[38;5;28;01mNone\u001b[39;00m:\n\u001b[0;32m-> 1881\u001b[0m         \u001b[38;5;28mself\u001b[39m\u001b[38;5;241m.\u001b[39m_result_cache \u001b[38;5;241m=\u001b[39m \u001b[38;5;28;43mlist\u001b[39;49m\u001b[43m(\u001b[49m\u001b[38;5;28;43mself\u001b[39;49m\u001b[38;5;241;43m.\u001b[39;49m\u001b[43m_iterable_class\u001b[49m\u001b[43m(\u001b[49m\u001b[38;5;28;43mself\u001b[39;49m\u001b[43m)\u001b[49m\u001b[43m)\u001b[49m\n\u001b[1;32m   1882\u001b[0m     \u001b[38;5;28;01mif\u001b[39;00m \u001b[38;5;28mself\u001b[39m\u001b[38;5;241m.\u001b[39m_prefetch_related_lookups \u001b[38;5;129;01mand\u001b[39;00m \u001b[38;5;129;01mnot\u001b[39;00m \u001b[38;5;28mself\u001b[39m\u001b[38;5;241m.\u001b[39m_prefetch_done:\n\u001b[1;32m   1883\u001b[0m         \u001b[38;5;28mself\u001b[39m\u001b[38;5;241m.\u001b[39m_prefetch_related_objects()\n",
      "File \u001b[0;32m~/mambaforge/lib/python3.10/site-packages/django/db/models/query.py:91\u001b[0m, in \u001b[0;36mModelIterable.__iter__\u001b[0;34m(self)\u001b[0m\n\u001b[1;32m     88\u001b[0m compiler \u001b[38;5;241m=\u001b[39m queryset\u001b[38;5;241m.\u001b[39mquery\u001b[38;5;241m.\u001b[39mget_compiler(using\u001b[38;5;241m=\u001b[39mdb)\n\u001b[1;32m     89\u001b[0m \u001b[38;5;66;03m# Execute the query. This will also fill compiler.select, klass_info,\u001b[39;00m\n\u001b[1;32m     90\u001b[0m \u001b[38;5;66;03m# and annotations.\u001b[39;00m\n\u001b[0;32m---> 91\u001b[0m results \u001b[38;5;241m=\u001b[39m \u001b[43mcompiler\u001b[49m\u001b[38;5;241;43m.\u001b[39;49m\u001b[43mexecute_sql\u001b[49m\u001b[43m(\u001b[49m\n\u001b[1;32m     92\u001b[0m \u001b[43m    \u001b[49m\u001b[43mchunked_fetch\u001b[49m\u001b[38;5;241;43m=\u001b[39;49m\u001b[38;5;28;43mself\u001b[39;49m\u001b[38;5;241;43m.\u001b[39;49m\u001b[43mchunked_fetch\u001b[49m\u001b[43m,\u001b[49m\u001b[43m \u001b[49m\u001b[43mchunk_size\u001b[49m\u001b[38;5;241;43m=\u001b[39;49m\u001b[38;5;28;43mself\u001b[39;49m\u001b[38;5;241;43m.\u001b[39;49m\u001b[43mchunk_size\u001b[49m\n\u001b[1;32m     93\u001b[0m \u001b[43m\u001b[49m\u001b[43m)\u001b[49m\n\u001b[1;32m     94\u001b[0m select, klass_info, annotation_col_map \u001b[38;5;241m=\u001b[39m (\n\u001b[1;32m     95\u001b[0m     compiler\u001b[38;5;241m.\u001b[39mselect,\n\u001b[1;32m     96\u001b[0m     compiler\u001b[38;5;241m.\u001b[39mklass_info,\n\u001b[1;32m     97\u001b[0m     compiler\u001b[38;5;241m.\u001b[39mannotation_col_map,\n\u001b[1;32m     98\u001b[0m )\n\u001b[1;32m     99\u001b[0m model_cls \u001b[38;5;241m=\u001b[39m klass_info[\u001b[38;5;124m\"\u001b[39m\u001b[38;5;124mmodel\u001b[39m\u001b[38;5;124m\"\u001b[39m]\n",
      "File \u001b[0;32m~/mambaforge/lib/python3.10/site-packages/django/db/models/sql/compiler.py:1560\u001b[0m, in \u001b[0;36mSQLCompiler.execute_sql\u001b[0;34m(self, result_type, chunked_fetch, chunk_size)\u001b[0m\n\u001b[1;32m   1558\u001b[0m     cursor \u001b[38;5;241m=\u001b[39m \u001b[38;5;28mself\u001b[39m\u001b[38;5;241m.\u001b[39mconnection\u001b[38;5;241m.\u001b[39mchunked_cursor()\n\u001b[1;32m   1559\u001b[0m \u001b[38;5;28;01melse\u001b[39;00m:\n\u001b[0;32m-> 1560\u001b[0m     cursor \u001b[38;5;241m=\u001b[39m \u001b[38;5;28;43mself\u001b[39;49m\u001b[38;5;241;43m.\u001b[39;49m\u001b[43mconnection\u001b[49m\u001b[38;5;241;43m.\u001b[39;49m\u001b[43mcursor\u001b[49m\u001b[43m(\u001b[49m\u001b[43m)\u001b[49m\n\u001b[1;32m   1561\u001b[0m \u001b[38;5;28;01mtry\u001b[39;00m:\n\u001b[1;32m   1562\u001b[0m     cursor\u001b[38;5;241m.\u001b[39mexecute(sql, params)\n",
      "File \u001b[0;32m~/mambaforge/lib/python3.10/site-packages/django/utils/asyncio.py:26\u001b[0m, in \u001b[0;36masync_unsafe.<locals>.decorator.<locals>.inner\u001b[0;34m(*args, **kwargs)\u001b[0m\n\u001b[1;32m     24\u001b[0m         \u001b[38;5;28;01mraise\u001b[39;00m SynchronousOnlyOperation(message)\n\u001b[1;32m     25\u001b[0m \u001b[38;5;66;03m# Pass onward.\u001b[39;00m\n\u001b[0;32m---> 26\u001b[0m \u001b[38;5;28;01mreturn\u001b[39;00m \u001b[43mfunc\u001b[49m\u001b[43m(\u001b[49m\u001b[38;5;241;43m*\u001b[39;49m\u001b[43margs\u001b[49m\u001b[43m,\u001b[49m\u001b[43m \u001b[49m\u001b[38;5;241;43m*\u001b[39;49m\u001b[38;5;241;43m*\u001b[39;49m\u001b[43mkwargs\u001b[49m\u001b[43m)\u001b[49m\n",
      "File \u001b[0;32m~/mambaforge/lib/python3.10/site-packages/django/db/backends/base/base.py:330\u001b[0m, in \u001b[0;36mBaseDatabaseWrapper.cursor\u001b[0;34m(self)\u001b[0m\n\u001b[1;32m    327\u001b[0m \u001b[38;5;129m@async_unsafe\u001b[39m\n\u001b[1;32m    328\u001b[0m \u001b[38;5;28;01mdef\u001b[39;00m \u001b[38;5;21mcursor\u001b[39m(\u001b[38;5;28mself\u001b[39m):\n\u001b[1;32m    329\u001b[0m \u001b[38;5;250m    \u001b[39m\u001b[38;5;124;03m\"\"\"Create a cursor, opening a connection if necessary.\"\"\"\u001b[39;00m\n\u001b[0;32m--> 330\u001b[0m     \u001b[38;5;28;01mreturn\u001b[39;00m \u001b[38;5;28;43mself\u001b[39;49m\u001b[38;5;241;43m.\u001b[39;49m\u001b[43m_cursor\u001b[49m\u001b[43m(\u001b[49m\u001b[43m)\u001b[49m\n",
      "File \u001b[0;32m~/mambaforge/lib/python3.10/site-packages/django/db/backends/base/base.py:307\u001b[0m, in \u001b[0;36mBaseDatabaseWrapper._cursor\u001b[0;34m(self, name)\u001b[0m\n\u001b[1;32m    305\u001b[0m \u001b[38;5;28mself\u001b[39m\u001b[38;5;241m.\u001b[39mclose_if_health_check_failed()\n\u001b[1;32m    306\u001b[0m \u001b[38;5;28mself\u001b[39m\u001b[38;5;241m.\u001b[39mensure_connection()\n\u001b[0;32m--> 307\u001b[0m \u001b[38;5;28;01mwith\u001b[39;00m \u001b[38;5;28mself\u001b[39m\u001b[38;5;241m.\u001b[39mwrap_database_errors:\n\u001b[1;32m    308\u001b[0m     \u001b[38;5;28;01mreturn\u001b[39;00m \u001b[38;5;28mself\u001b[39m\u001b[38;5;241m.\u001b[39m_prepare_cursor(\u001b[38;5;28mself\u001b[39m\u001b[38;5;241m.\u001b[39mcreate_cursor(name))\n",
      "File \u001b[0;32m~/mambaforge/lib/python3.10/site-packages/django/db/utils.py:91\u001b[0m, in \u001b[0;36mDatabaseErrorWrapper.__exit__\u001b[0;34m(self, exc_type, exc_value, traceback)\u001b[0m\n\u001b[1;32m     89\u001b[0m \u001b[38;5;28;01mif\u001b[39;00m dj_exc_type \u001b[38;5;129;01mnot\u001b[39;00m \u001b[38;5;129;01min\u001b[39;00m (DataError, IntegrityError):\n\u001b[1;32m     90\u001b[0m     \u001b[38;5;28mself\u001b[39m\u001b[38;5;241m.\u001b[39mwrapper\u001b[38;5;241m.\u001b[39merrors_occurred \u001b[38;5;241m=\u001b[39m \u001b[38;5;28;01mTrue\u001b[39;00m\n\u001b[0;32m---> 91\u001b[0m \u001b[38;5;28;01mraise\u001b[39;00m dj_exc_value\u001b[38;5;241m.\u001b[39mwith_traceback(traceback) \u001b[38;5;28;01mfrom\u001b[39;00m \u001b[38;5;21;01mexc_value\u001b[39;00m\n",
      "File \u001b[0;32m~/mambaforge/lib/python3.10/site-packages/django/db/backends/base/base.py:308\u001b[0m, in \u001b[0;36mBaseDatabaseWrapper._cursor\u001b[0;34m(self, name)\u001b[0m\n\u001b[1;32m    306\u001b[0m \u001b[38;5;28mself\u001b[39m\u001b[38;5;241m.\u001b[39mensure_connection()\n\u001b[1;32m    307\u001b[0m \u001b[38;5;28;01mwith\u001b[39;00m \u001b[38;5;28mself\u001b[39m\u001b[38;5;241m.\u001b[39mwrap_database_errors:\n\u001b[0;32m--> 308\u001b[0m     \u001b[38;5;28;01mreturn\u001b[39;00m \u001b[38;5;28mself\u001b[39m\u001b[38;5;241m.\u001b[39m_prepare_cursor(\u001b[38;5;28;43mself\u001b[39;49m\u001b[38;5;241;43m.\u001b[39;49m\u001b[43mcreate_cursor\u001b[49m\u001b[43m(\u001b[49m\u001b[43mname\u001b[49m\u001b[43m)\u001b[49m)\n",
      "File \u001b[0;32m~/mambaforge/lib/python3.10/site-packages/django/utils/asyncio.py:26\u001b[0m, in \u001b[0;36masync_unsafe.<locals>.decorator.<locals>.inner\u001b[0;34m(*args, **kwargs)\u001b[0m\n\u001b[1;32m     24\u001b[0m         \u001b[38;5;28;01mraise\u001b[39;00m SynchronousOnlyOperation(message)\n\u001b[1;32m     25\u001b[0m \u001b[38;5;66;03m# Pass onward.\u001b[39;00m\n\u001b[0;32m---> 26\u001b[0m \u001b[38;5;28;01mreturn\u001b[39;00m \u001b[43mfunc\u001b[49m\u001b[43m(\u001b[49m\u001b[38;5;241;43m*\u001b[39;49m\u001b[43margs\u001b[49m\u001b[43m,\u001b[49m\u001b[43m \u001b[49m\u001b[38;5;241;43m*\u001b[39;49m\u001b[38;5;241;43m*\u001b[39;49m\u001b[43mkwargs\u001b[49m\u001b[43m)\u001b[49m\n",
      "File \u001b[0;32m~/mambaforge/lib/python3.10/site-packages/django/db/backends/postgresql/base.py:330\u001b[0m, in \u001b[0;36mDatabaseWrapper.create_cursor\u001b[0;34m(self, name)\u001b[0m\n\u001b[1;32m    326\u001b[0m     cursor \u001b[38;5;241m=\u001b[39m \u001b[38;5;28mself\u001b[39m\u001b[38;5;241m.\u001b[39mconnection\u001b[38;5;241m.\u001b[39mcursor(\n\u001b[1;32m    327\u001b[0m         name, scrollable\u001b[38;5;241m=\u001b[39m\u001b[38;5;28;01mFalse\u001b[39;00m, withhold\u001b[38;5;241m=\u001b[39m\u001b[38;5;28mself\u001b[39m\u001b[38;5;241m.\u001b[39mconnection\u001b[38;5;241m.\u001b[39mautocommit\n\u001b[1;32m    328\u001b[0m     )\n\u001b[1;32m    329\u001b[0m \u001b[38;5;28;01melse\u001b[39;00m:\n\u001b[0;32m--> 330\u001b[0m     cursor \u001b[38;5;241m=\u001b[39m \u001b[38;5;28;43mself\u001b[39;49m\u001b[38;5;241;43m.\u001b[39;49m\u001b[43mconnection\u001b[49m\u001b[38;5;241;43m.\u001b[39;49m\u001b[43mcursor\u001b[49m\u001b[43m(\u001b[49m\u001b[43m)\u001b[49m\n\u001b[1;32m    332\u001b[0m \u001b[38;5;28;01mif\u001b[39;00m is_psycopg3:\n\u001b[1;32m    333\u001b[0m     \u001b[38;5;66;03m# Register the cursor timezone only if the connection disagrees, to\u001b[39;00m\n\u001b[1;32m    334\u001b[0m     \u001b[38;5;66;03m# avoid copying the adapter map.\u001b[39;00m\n\u001b[1;32m    335\u001b[0m     tzloader \u001b[38;5;241m=\u001b[39m \u001b[38;5;28mself\u001b[39m\u001b[38;5;241m.\u001b[39mconnection\u001b[38;5;241m.\u001b[39madapters\u001b[38;5;241m.\u001b[39mget_loader(TIMESTAMPTZ_OID, Format\u001b[38;5;241m.\u001b[39mTEXT)\n",
      "\u001b[0;31mInterfaceError\u001b[0m: connection already closed"
     ]
    }
   ],
   "source": [
    "file = ln.File(\n",
    "    '/mnt/c/Users/vale/Google Drive/Analysis/hca-benchmark-2019/Ding/PBMC/PBMC_read_counts.h5ad',\n",
    "    key = 'hca-benchmark-2019/Ding/PBMC/PBMC_read_counts.h5ad'\n",
    ")"
   ]
  },
  {
   "cell_type": "code",
   "execution_count": null,
   "id": "b0d20c19",
   "metadata": {},
   "outputs": [],
   "source": []
  },
  {
   "cell_type": "code",
   "execution_count": null,
   "id": "809b272d",
   "metadata": {},
   "outputs": [],
   "source": []
  },
  {
   "cell_type": "code",
   "execution_count": null,
   "id": "f609acd7",
   "metadata": {},
   "outputs": [],
   "source": []
  },
  {
   "cell_type": "code",
   "execution_count": null,
   "id": "7470a1a6",
   "metadata": {},
   "outputs": [],
   "source": []
  },
  {
   "cell_type": "code",
   "execution_count": null,
   "id": "9cc57844",
   "metadata": {},
   "outputs": [],
   "source": []
  },
  {
   "cell_type": "code",
   "execution_count": null,
   "id": "e606b988",
   "metadata": {},
   "outputs": [],
   "source": []
  },
  {
   "cell_type": "code",
   "execution_count": null,
   "id": "afd9b649",
   "metadata": {},
   "outputs": [],
   "source": []
  },
  {
   "cell_type": "code",
   "execution_count": null,
   "id": "d8070e17",
   "metadata": {},
   "outputs": [],
   "source": []
  },
  {
   "cell_type": "code",
   "execution_count": null,
   "id": "4014351f",
   "metadata": {},
   "outputs": [],
   "source": []
  },
  {
   "cell_type": "code",
   "execution_count": null,
   "id": "3052ba33",
   "metadata": {},
   "outputs": [],
   "source": []
  },
  {
   "cell_type": "code",
   "execution_count": null,
   "id": "871dff7d",
   "metadata": {},
   "outputs": [],
   "source": []
  },
  {
   "cell_type": "code",
   "execution_count": null,
   "id": "57ec78bb",
   "metadata": {},
   "outputs": [],
   "source": []
  },
  {
   "cell_type": "code",
   "execution_count": null,
   "id": "e5003818",
   "metadata": {},
   "outputs": [],
   "source": []
  },
  {
   "cell_type": "code",
   "execution_count": null,
   "id": "3041b8f7",
   "metadata": {},
   "outputs": [],
   "source": []
  },
  {
   "cell_type": "code",
   "execution_count": null,
   "id": "30acc9fd",
   "metadata": {},
   "outputs": [],
   "source": []
  },
  {
   "cell_type": "code",
   "execution_count": null,
   "id": "100f553b",
   "metadata": {},
   "outputs": [],
   "source": []
  },
  {
   "cell_type": "code",
   "execution_count": null,
   "id": "d08865f9",
   "metadata": {},
   "outputs": [],
   "source": []
  },
  {
   "cell_type": "code",
   "execution_count": null,
   "id": "bf4be9e5",
   "metadata": {},
   "outputs": [],
   "source": []
  },
  {
   "cell_type": "code",
   "execution_count": null,
   "id": "53ec552e",
   "metadata": {},
   "outputs": [],
   "source": []
  },
  {
   "cell_type": "code",
   "execution_count": null,
   "id": "8a719f7b",
   "metadata": {},
   "outputs": [],
   "source": []
  },
  {
   "cell_type": "code",
   "execution_count": null,
   "id": "4815ad64",
   "metadata": {},
   "outputs": [],
   "source": []
  }
 ],
 "metadata": {
  "kernelspec": {
   "display_name": "Python 3 (ipykernel)",
   "language": "python",
   "name": "python3"
  },
  "language_info": {
   "codemirror_mode": {
    "name": "ipython",
    "version": 3
   },
   "file_extension": ".py",
   "mimetype": "text/x-python",
   "name": "python",
   "nbconvert_exporter": "python",
   "pygments_lexer": "ipython3",
   "version": "3.10.11"
  }
 },
 "nbformat": 4,
 "nbformat_minor": 5
}
