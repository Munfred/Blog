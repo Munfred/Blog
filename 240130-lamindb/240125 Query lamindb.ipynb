{
 "cells": [
  {
   "cell_type": "code",
   "execution_count": 1,
   "id": "afc50a80-f5fa-45f3-9fb1-40b524ec0319",
   "metadata": {
    "id": "afc50a80-f5fa-45f3-9fb1-40b524ec0319",
    "outputId": "fc38b0c7-a7d9-4228-b65d-ddeb7521f78a"
   },
   "outputs": [
    {
     "name": "stdout",
     "output_type": "stream",
     "text": [
      "✅ wrote new records from public sources.yaml to /home/vale/.lamin/bionty/versions/sources_local.yaml!\n",
      "\n",
      "if you see this message repeatedly, run: bt.reset_sources()\n",
      "💡 loaded instance: vals/scrna\n",
      "\u001b[0m"
     ]
    }
   ],
   "source": [
    "!lamin load vals/scrna"
   ]
  },
  {
   "cell_type": "code",
   "execution_count": 2,
   "id": "c872c5c4-a4b4-48ed-b288-bfb4ff5142b1",
   "metadata": {
    "id": "c872c5c4-a4b4-48ed-b288-bfb4ff5142b1",
    "outputId": "7c3eaa21-344e-4d30-8293-65adefe37d05"
   },
   "outputs": [
    {
     "name": "stdout",
     "output_type": "stream",
     "text": [
      "✅ wrote new records from public sources.yaml to /home/vale/.lamin/bionty/versions/sources_local.yaml!\n",
      "\n",
      "if you see this message repeatedly, run: bt.reset_sources()\n",
      "💡 lamindb instance: vals/scrna\n"
     ]
    }
   ],
   "source": [
    "import lamindb as ln\n",
    "import lnschema_bionty as lb\n",
    "import pandas as pd\n",
    "\n",
    "ln.settings.verbosity = \"hint\""
   ]
  },
  {
   "cell_type": "code",
   "execution_count": null,
   "id": "1875a01e-2b6a-43b2-a640-1e82078a05be",
   "metadata": {
    "id": "1875a01e-2b6a-43b2-a640-1e82078a05be"
   },
   "outputs": [],
   "source": []
  },
  {
   "cell_type": "code",
   "execution_count": 3,
   "id": "0dc722d8-9bdc-44b2-8043-38e0d4881fee",
   "metadata": {
    "id": "0dc722d8-9bdc-44b2-8043-38e0d4881fee",
    "outputId": "1f537001-0b2c-411f-9e91-210a44dc56f4"
   },
   "outputs": [
    {
     "data": {
      "text/plain": [
       "236"
      ]
     },
     "execution_count": 3,
     "metadata": {},
     "output_type": "execute_result"
    }
   ],
   "source": [
    "ln.Artifact.filter().all().count()"
   ]
  },
  {
   "cell_type": "code",
   "execution_count": 4,
   "id": "bf5bb841-af3c-4da2-a519-2e75fa5e0ea8",
   "metadata": {
    "id": "bf5bb841-af3c-4da2-a519-2e75fa5e0ea8"
   },
   "outputs": [],
   "source": [
    "tissue_lookup = lb.Tissue.lookup()"
   ]
  },
  {
   "cell_type": "code",
   "execution_count": null,
   "id": "cb9e008c-5136-43e0-a893-841fdbec3e5f",
   "metadata": {
    "id": "cb9e008c-5136-43e0-a893-841fdbec3e5f"
   },
   "outputs": [],
   "source": []
  },
  {
   "cell_type": "code",
   "execution_count": 5,
   "id": "dbe6c674-c66c-4360-8466-abb707c919fe",
   "metadata": {
    "id": "dbe6c674-c66c-4360-8466-abb707c919fe"
   },
   "outputs": [],
   "source": [
    "experimental_factors = lb.ExperimentalFactor.lookup()"
   ]
  },
  {
   "cell_type": "code",
   "execution_count": 6,
   "id": "9962d8e0-b1d1-42ee-bcec-e26ce7d3c2bd",
   "metadata": {
    "id": "9962d8e0-b1d1-42ee-bcec-e26ce7d3c2bd",
    "outputId": "60f136b5-0fc5-472c-989e-3f66e7c0c9ff"
   },
   "outputs": [
    {
     "data": {
      "text/plain": [
       "ExperimentalFactor(uid='4UXwchPa', name='Drop-seq', ontology_id='EFO:0008722', description='Analyze Mrna Transcripts From Individual Cells In Droplets (Drop-Seq).', molecule='RNA assay', updated_at=2024-01-25 09:40:24 UTC, public_source_id=85, created_by_id=3)"
      ]
     },
     "execution_count": 6,
     "metadata": {},
     "output_type": "execute_result"
    }
   ],
   "source": [
    "experimental_factors.drop_seq"
   ]
  },
  {
   "cell_type": "code",
   "execution_count": null,
   "id": "c10a77e7-b748-4d77-a606-e3215e36405c",
   "metadata": {
    "id": "c10a77e7-b748-4d77-a606-e3215e36405c"
   },
   "outputs": [],
   "source": []
  },
  {
   "cell_type": "code",
   "execution_count": null,
   "id": "8f20a162-6907-46bf-8a89-1c180798069c",
   "metadata": {
    "id": "8f20a162-6907-46bf-8a89-1c180798069c"
   },
   "outputs": [],
   "source": []
  },
  {
   "cell_type": "code",
   "execution_count": 21,
   "id": "d11efdef-cfa4-4d7d-b0df-c19f5f61e6c1",
   "metadata": {
    "id": "d11efdef-cfa4-4d7d-b0df-c19f5f61e6c1",
    "outputId": "53f0e543-a659-4f88-e7ce-eda53df63195"
   },
   "outputs": [
    {
     "name": "stdout",
     "output_type": "stream",
     "text": [
      "                     uid  storage_id   \n",
      "id                                     \n",
      "15  88k1xpSWBdJzEbYUf6MZ           1  \\\n",
      "16  UDH0CAo3JHo0uQUiAtUV           1   \n",
      "21  kFvwhKtIBY0mhQTOqaOX           1   \n",
      "22  PBAwUla9eERbI1KJQADZ           1   \n",
      "23  HW9uS90M2PVyeX50o6ct           1   \n",
      "\n",
      "                                                  key suffix accessor   \n",
      "id                                                                      \n",
      "15      cortex-align-2018/Zeisel 2018/l1_cortex2.h5ad  .h5ad  AnnData  \\\n",
      "16      cortex-align-2018/Zeisel 2018/l1_cortex3.h5ad  .h5ad  AnnData   \n",
      "21  hca-benchmark-2019/Ding/2019-05-Ding-et-al-bio...  .h5ad  AnnData   \n",
      "22  hca-benchmark-2019/Ding/PBMC/PBMC_read_counts....  .h5ad  AnnData   \n",
      "23  hca-benchmark-2019/Ding/PBMC/PBMC_umi_counts.h5ad  .h5ad  AnnData   \n",
      "\n",
      "   description version       size                    hash hash_type n_objects   \n",
      "id                                                                              \n",
      "15        None    None   77363974  SlY49Cv9vnMGofdSCMOj90   sha1-fl      None  \\\n",
      "16        None    None   64354637  ZVFW2H_B1ZlD9KK_WKS11T   sha1-fl      None   \n",
      "21        None    None  224711660  e7bzC5ZhAV-e_swr_6jQie   sha1-fl      None   \n",
      "22        None    None  307531280  DaQIiOBzYf5VjXmOmWE1tQ   sha1-fl      None   \n",
      "23        None    None  296120754  aKSloGAGbodFRA8PlBR1Vz   sha1-fl      None   \n",
      "\n",
      "   n_observations transform_id run_id  visibility  key_is_virtual   \n",
      "id                                                                  \n",
      "15           None         None   None           1            True  \\\n",
      "16           None         None   None           1            True   \n",
      "21           None         None   None           1            True   \n",
      "22           None         None   None           1            True   \n",
      "23           None         None   None           1            True   \n",
      "\n",
      "                         created_at                       updated_at   \n",
      "id                                                                     \n",
      "15 2023-11-06 07:03:39.184199+00:00 2024-01-21 07:04:35.258135+00:00  \\\n",
      "16 2023-11-06 07:04:08.454681+00:00 2024-01-21 07:04:38.216085+00:00   \n",
      "21 2023-11-06 07:16:59.839767+00:00 2024-01-21 07:06:08.275496+00:00   \n",
      "22 2023-11-06 16:19:26.830698+00:00 2024-01-21 07:06:18.767072+00:00   \n",
      "23 2023-11-06 16:20:20.747104+00:00 2024-01-21 07:06:29.318662+00:00   \n",
      "\n",
      "    created_by_id  \n",
      "id                 \n",
      "15              1  \n",
      "16              1  \n",
      "21              1  \n",
      "22              1  \n",
      "23              1  \n"
     ]
    }
   ],
   "source": [
    "query = (\n",
    "    ln.Artifact\n",
    "    .filter(organism__name = 'mouse')\n",
    "    .filter(tissues__name = 'brain')\n",
    "    .filter(experimental_factors__name = 'Chromium')\n",
    ")\n",
    "\n",
    "print(query.df().head())"
   ]
  },
  {
   "cell_type": "code",
   "execution_count": null,
   "id": "2ec03023-0121-4fec-9020-10b499bf9ae1",
   "metadata": {
    "id": "2ec03023-0121-4fec-9020-10b499bf9ae1"
   },
   "outputs": [],
   "source": []
  },
  {
   "cell_type": "code",
   "execution_count": 8,
   "id": "e86df530-631c-4822-9383-b3094a1bd506",
   "metadata": {
    "id": "e86df530-631c-4822-9383-b3094a1bd506",
    "outputId": "bd14ca2f-880f-4cac-8086-fe06cd3d70dd"
   },
   "outputs": [
    {
     "name": "stdout",
     "output_type": "stream",
     "text": [
      "\u001b[1;92mArtifact\u001b[0m(uid='88k1xpSWBdJzEbYUf6MZ', key='cortex-align-2018/Zeisel 2018/l1_cortex2.h5ad', suffix='.h5ad', accessor='AnnData', size=77363974, hash='SlY49Cv9vnMGofdSCMOj90', hash_type='sha1-fl', visibility=1, key_is_virtual=True, updated_at=2024-01-21 07:04:35 UTC)\n",
      "\n",
      "\u001b[1;92mProvenance\u001b[0m:\n",
      "  🗃️ storage: Storage(uid='3wVRAheC', root='s3://vals-scrna', type='s3', region='us-west-1', updated_at=2023-11-05 20:36:19 UTC, created_by_id=1)\n",
      "  👤 created_by: User(uid='8joZB4lw', handle='vals', updated_at=2023-11-05 20:36:19 UTC)\n",
      "  ⬇️ input_of (\u001b[3mcore.Run\u001b[0m): ['2024-01-25 15:18:34 UTC']\n",
      "\u001b[1;92mFeatures\u001b[0m:\n",
      "  \u001b[1mexternal\u001b[0m: FeatureSet(uid='b20JpuwZ5gfBUAvcS8jP', n=3, registry='core.Feature', hash='iKuEmOyrwt4opSDzC-dF', updated_at=2024-01-21 07:29:48 UTC, created_by_id=1)\n",
      "    🔗 organism (1, \u001b[3mbionty.Organism\u001b[0m): 'mouse'\n",
      "    🔗 tissue (1, \u001b[3mbionty.Tissue\u001b[0m): 'brain'\n",
      "    🔗 technique (1, \u001b[3mbionty.ExperimentalFactor\u001b[0m): 'Chromium'\n",
      "\u001b[1;92mLabels\u001b[0m:\n",
      "  🏷️ organism (1, \u001b[3mbionty.Organism\u001b[0m): 'mouse'\n",
      "  🏷️ tissues (1, \u001b[3mbionty.Tissue\u001b[0m): 'brain'\n",
      "  🏷️ experimental_factors (1, \u001b[3mbionty.ExperimentalFactor\u001b[0m): 'Chromium'\n",
      "\n"
     ]
    }
   ],
   "source": [
    "artifact = query.first()\n",
    "artifact.describe()"
   ]
  },
  {
   "cell_type": "code",
   "execution_count": null,
   "id": "41945681-8540-4e19-abbc-e60668de4b62",
   "metadata": {
    "id": "41945681-8540-4e19-abbc-e60668de4b62"
   },
   "outputs": [],
   "source": []
  },
  {
   "cell_type": "code",
   "execution_count": 9,
   "id": "a28d5991-af8b-4e55-a72b-f64ee196718c",
   "metadata": {
    "id": "a28d5991-af8b-4e55-a72b-f64ee196718c",
    "outputId": "1fd068ba-0bb8-4b13-f1b7-d45051967855"
   },
   "outputs": [
    {
     "name": "stdout",
     "output_type": "stream",
     "text": [
      "💡 you can auto-track these data as a run input by calling `ln.track()`\n"
     ]
    }
   ],
   "source": [
    "adata = artifact.load()"
   ]
  },
  {
   "cell_type": "code",
   "execution_count": 10,
   "id": "fd815876-3ec5-4af3-8615-6a51e8e29be7",
   "metadata": {
    "id": "fd815876-3ec5-4af3-8615-6a51e8e29be7",
    "outputId": "7fc6c9df-5bfe-412f-fc2e-2086bb7307b5"
   },
   "outputs": [
    {
     "data": {
      "text/plain": [
       "AnnData object with n_obs × n_vars = 20811 × 27998\n",
       "    obs: 'Age', 'AnalysisPool', 'AnalysisProject', 'CellConc', 'Cell_Conc', 'ChipID', 'Class', 'ClassProbability_Astrocyte', 'ClassProbability_Astrocyte,Immune', 'ClassProbability_Astrocyte,Neurons', 'ClassProbability_Astrocyte,Oligos', 'ClassProbability_Astrocyte,Vascular', 'ClassProbability_Bergmann-glia', 'ClassProbability_Blood', 'ClassProbability_Blood,Vascular', 'ClassProbability_Enteric-glia', 'ClassProbability_Enteric-glia,Cycling', 'ClassProbability_Ependymal', 'ClassProbability_Ex-Neurons', 'ClassProbability_Ex-Vascular', 'ClassProbability_Immune', 'ClassProbability_Immune,Neurons', 'ClassProbability_Immune,Oligos', 'ClassProbability_Neurons', 'ClassProbability_Neurons,Cycling', 'ClassProbability_Neurons,Oligos', 'ClassProbability_Neurons,Satellite-glia', 'ClassProbability_Neurons,Vascular', 'ClassProbability_OEC', 'ClassProbability_Oligos', 'ClassProbability_Oligos,Cycling', 'ClassProbability_Oligos,Vascular', 'ClassProbability_Satellite-glia', 'ClassProbability_Satellite-glia,Cycling', 'ClassProbability_Satellite-glia,Schwann', 'ClassProbability_Schwann', 'ClassProbability_Ttr', 'ClassProbability_Vascular', 'Clusters', 'Comments', 'DateCaptured', 'Date_Captured', 'DonorID', 'Flowcell', 'Fraction Reads in Cells', 'Label', 'Mean Reads per Cell', 'Median Genes per Cell', 'MitoRiboRatio', 'NGI_PlateWell', 'NumPooledAnimals', 'Num_Pooled_Animals', 'Number of Reads', 'Outliers', 'PCRCycles', 'PCR_Cycles', 'PassedQC', 'PlugDate', 'Plug_Date', 'Project', 'Q30 Bases in Barcode', 'Q30 Bases in UMI', 'Reads Mapped Confidently to Exonic Regions', 'Reads Mapped Confidently to Intergenic Regions', 'Reads Mapped Confidently to Intronic Regions', 'Reads Mapped Confidently to Transcriptome', 'SampleID', 'SampleIndex', 'SampleOK', 'Sample_Index', 'SeqComment', 'SeqLibDate', 'SeqLibOk', 'Seq_Comment', 'Seq_Lib_Date', 'Seq_Lib_Ok', 'Serial_Number', 'Sex', 'Species', 'Strain', 'Subclass', 'TargetNumCells', 'Target_Num_Cells', 'TimepointPool', 'Tissue', 'Transcriptome', 'Valid Barcodes', '_KMeans_10', '_LogCV', '_LogMean', '_NGenes', '_Total', '_Valid', '_X', '_Y', '_tSNE1', '_tSNE2', 'cDNAConcNanogramPerMicroliter', 'cDNALibOk', 'cDNA_Lib_Ok', 'ngperul_cDNA', 'ClusterName', 'Description', 'Probable_location'\n",
       "    var: 'Accession', '_LogCV', '_LogMean', '_Selected', '_Total', '_Valid'"
      ]
     },
     "execution_count": 10,
     "metadata": {},
     "output_type": "execute_result"
    }
   ],
   "source": [
    "adata"
   ]
  },
  {
   "cell_type": "code",
   "execution_count": null,
   "id": "23efd84e-8ad3-46be-ba4c-1d9b92b5907f",
   "metadata": {
    "id": "23efd84e-8ad3-46be-ba4c-1d9b92b5907f"
   },
   "outputs": [],
   "source": []
  },
  {
   "cell_type": "code",
   "execution_count": null,
   "id": "52d4544d-aba7-4f3d-b3f5-ec229b34a26f",
   "metadata": {
    "id": "52d4544d-aba7-4f3d-b3f5-ec229b34a26f"
   },
   "outputs": [],
   "source": []
  },
  {
   "cell_type": "code",
   "execution_count": 11,
   "id": "70d98d1d-a196-4745-9406-21c2653990bb",
   "metadata": {
    "id": "70d98d1d-a196-4745-9406-21c2653990bb",
    "outputId": "7e506744-35ef-4c2e-f726-95d02ec396df"
   },
   "outputs": [
    {
     "data": {
      "text/plain": [
       "tissues__name\n",
       "blood           39\n",
       "colon           35\n",
       "cell culture    30\n",
       "brain            3\n",
       "lung             3\n",
       "dtype: int64"
      ]
     },
     "execution_count": 11,
     "metadata": {},
     "output_type": "execute_result"
    }
   ],
   "source": [
    "query = (\n",
    "    ln.Artifact\n",
    "    .filter(organism__name = 'human')\n",
    "    .filter(experimental_factors__name = 'Chromium')\n",
    ")\n",
    "\n",
    "(\n",
    "    query\n",
    "    .df(include = 'tissues__name')\n",
    "    .explode('tissues__name')\n",
    "    .groupby(['tissues__name'])\n",
    "    .size()\n",
    "    .sort_values(ascending = False)\n",
    "    .head(5)\n",
    ")"
   ]
  },
  {
   "cell_type": "code",
   "execution_count": null,
   "id": "f5d13794-a274-47dc-a0bd-d8c57dab350d",
   "metadata": {
    "id": "f5d13794-a274-47dc-a0bd-d8c57dab350d"
   },
   "outputs": [],
   "source": []
  },
  {
   "cell_type": "code",
   "execution_count": 16,
   "id": "24bf573f-15a4-4835-880a-770bb5d22f20",
   "metadata": {
    "id": "24bf573f-15a4-4835-880a-770bb5d22f20",
    "outputId": "69026d06-af2f-4320-cc39-afe1d217ffc9"
   },
   "outputs": [
    {
     "name": "stdout",
     "output_type": "stream",
     "text": [
      "                     uid  storage_id   \n",
      "id                                     \n",
      "90  UWETAZbzAURlLQCyTV1d           1  \\\n",
      "10  ZbAhp5ASiaOaKBqpOFQ2           1   \n",
      "11  bEIwnqnBRf3ewAjRzNOY           1   \n",
      "24  S2hi2e0q1t0rr2KL667H           1   \n",
      "25  GZN0nW18UUQ1JOfUPyQR           1   \n",
      "\n",
      "                                                  key suffix accessor   \n",
      "id                                                                      \n",
      "90                        Boland et al/GSE125527.h5ad  .h5ad  AnnData  \\\n",
      "10  220222 Exploratory analysis with scVI/GSE13826...  .h5ad  AnnData   \n",
      "11  220222 Exploratory analysis with scVI/GSE13826...  .h5ad  AnnData   \n",
      "24  hca-benchmark-2019/h5ads/10X2x5Kcell250Kreads_...  .h5ad  AnnData   \n",
      "25  hca-benchmark-2019/h5ads/10X2x5Kcell250Kreads_...  .h5ad  AnnData   \n",
      "\n",
      "   description version        size                    hash hash_type   \n",
      "id                                                                     \n",
      "90        None    None   526865612  5c33pdXfI7munQb_UJV8bO   sha1-fl  \\\n",
      "10        None    None  1246663095  hFW_l02ns5NOOE9pCOX64h   sha1-fl   \n",
      "11        None    None   619244593  Fj40Pif5bUgrAt4vllmHY2   sha1-fl   \n",
      "24        None    None   232265080  yZysuTc6RctVHhd2E2H3lc   sha1-fl   \n",
      "25        None    None   245881240  w9nksKG3qtOHaKmYxNYmge   sha1-fl   \n",
      "\n",
      "   n_objects n_observations transform_id run_id  visibility  key_is_virtual   \n",
      "id                                                                            \n",
      "90      None           None         None   None           1            True  \\\n",
      "10      None           None         None   None           1            True   \n",
      "11      None           None         None   None           1            True   \n",
      "24      None           None         None   None           1            True   \n",
      "25      None           None         None   None           1            True   \n",
      "\n",
      "                         created_at                       updated_at   \n",
      "id                                                                     \n",
      "90 2023-11-07 04:42:48.631068+00:00 2024-01-21 07:04:08.645070+00:00  \\\n",
      "10 2023-11-06 06:58:09.539943+00:00 2024-01-21 07:04:00.774051+00:00   \n",
      "11 2023-11-06 06:59:46.752959+00:00 2024-01-21 07:04:04.738173+00:00   \n",
      "24 2023-11-06 16:25:39.070645+00:00 2024-01-21 07:06:44.435484+00:00   \n",
      "25 2023-11-06 16:26:15.070279+00:00 2024-01-21 07:06:59.559525+00:00   \n",
      "\n",
      "    created_by_id  \n",
      "id                 \n",
      "90              1  \n",
      "10              1  \n",
      "11              1  \n",
      "24              1  \n",
      "25              1  \n"
     ]
    }
   ],
   "source": [
    "query = (\n",
    "    ln.Artifact\n",
    "    .filter(organism__name = 'human')\n",
    "    .filter(tissues__name = 'blood')\n",
    "    .filter(experimental_factors__name = 'Chromium')\n",
    ")\n",
    "\n",
    "print(query.df().head())"
   ]
  },
  {
   "cell_type": "code",
   "execution_count": null,
   "id": "1b9235d6-44d7-49aa-82ed-4da2e99abf98",
   "metadata": {},
   "outputs": [],
   "source": []
  },
  {
   "cell_type": "code",
   "execution_count": null,
   "id": "66e7c935-8ccb-4cda-806b-1cdb836b234d",
   "metadata": {},
   "outputs": [],
   "source": []
  },
  {
   "cell_type": "code",
   "execution_count": 17,
   "id": "6c31436e-3a28-440a-b421-2e6d0931e4ee",
   "metadata": {
    "id": "6c31436e-3a28-440a-b421-2e6d0931e4ee",
    "outputId": "b4ee5dbe-975b-4233-9f92-b181e89540a3"
   },
   "outputs": [
    {
     "name": "stdout",
     "output_type": "stream",
     "text": [
      "\u001b[1;92mArtifact\u001b[0m(uid='UWETAZbzAURlLQCyTV1d', key='Boland et al/GSE125527.h5ad', suffix='.h5ad', accessor='AnnData', size=526865612, hash='5c33pdXfI7munQb_UJV8bO', hash_type='sha1-fl', visibility=1, key_is_virtual=True, updated_at=2024-01-21 07:04:08 UTC)\n",
      "\n",
      "\u001b[1;92mProvenance\u001b[0m:\n",
      "  🗃️ storage: Storage(uid='3wVRAheC', root='s3://vals-scrna', type='s3', region='us-west-1', updated_at=2023-11-05 20:36:19 UTC, created_by_id=1)\n",
      "  👤 created_by: User(uid='8joZB4lw', handle='vals', updated_at=2023-11-05 20:36:19 UTC)\n",
      "  ⬇️ input_of (\u001b[3mcore.Run\u001b[0m): ['2024-01-25 15:18:34 UTC']\n",
      "\u001b[1;92mFeatures\u001b[0m:\n",
      "  \u001b[1mexternal\u001b[0m: FeatureSet(uid='b20JpuwZ5gfBUAvcS8jP', n=3, registry='core.Feature', hash='iKuEmOyrwt4opSDzC-dF', updated_at=2024-01-21 07:29:48 UTC, created_by_id=1)\n",
      "    🔗 organism (1, \u001b[3mbionty.Organism\u001b[0m): 'human'\n",
      "    🔗 tissue (2, \u001b[3mbionty.Tissue\u001b[0m): 'rectum', 'blood'\n",
      "    🔗 technique (1, \u001b[3mbionty.ExperimentalFactor\u001b[0m): 'Chromium'\n",
      "\u001b[1;92mLabels\u001b[0m:\n",
      "  🏷️ organism (1, \u001b[3mbionty.Organism\u001b[0m): 'human'\n",
      "  🏷️ tissues (2, \u001b[3mbionty.Tissue\u001b[0m): 'rectum', 'blood'\n",
      "  🏷️ experimental_factors (1, \u001b[3mbionty.ExperimentalFactor\u001b[0m): 'Chromium'\n",
      "\n"
     ]
    }
   ],
   "source": [
    "artifact = query.first()\n",
    "artifact.describe()"
   ]
  },
  {
   "cell_type": "code",
   "execution_count": null,
   "id": "e6aaae8d-2580-4000-8875-fcf81c69e360",
   "metadata": {
    "id": "e6aaae8d-2580-4000-8875-fcf81c69e360"
   },
   "outputs": [],
   "source": []
  },
  {
   "cell_type": "code",
   "execution_count": 18,
   "id": "9c472ca3-1f96-4d36-bc82-730c053cc46c",
   "metadata": {
    "id": "9c472ca3-1f96-4d36-bc82-730c053cc46c",
    "outputId": "3a893f00-4287-473d-a652-0d6d8d40aa0e"
   },
   "outputs": [
    {
     "name": "stdout",
     "output_type": "stream",
     "text": [
      "💡 you can auto-track these data as a run input by calling `ln.track()`\n"
     ]
    }
   ],
   "source": [
    "adata = artifact.load()"
   ]
  },
  {
   "cell_type": "code",
   "execution_count": 19,
   "id": "3b82a694-2ff4-4b15-bd2a-f86dfb2a4a27",
   "metadata": {
    "id": "3b82a694-2ff4-4b15-bd2a-f86dfb2a4a27",
    "outputId": "314655e3-9b88-46dc-ed79-80962b3d3679"
   },
   "outputs": [
    {
     "data": {
      "text/plain": [
       "AnnData object with n_obs × n_vars = 68627 × 10160\n",
       "    obs: 'cell_id', 'patient_assignment', 'tissue_assignment', 'disease_assignment', 'celltype'"
      ]
     },
     "execution_count": 19,
     "metadata": {},
     "output_type": "execute_result"
    }
   ],
   "source": [
    "adata"
   ]
  },
  {
   "cell_type": "code",
   "execution_count": 20,
   "id": "3a161120-53cd-481e-aca6-fda070164fa2",
   "metadata": {
    "id": "3a161120-53cd-481e-aca6-fda070164fa2",
    "outputId": "a1da1a61-e986-4968-fef2-da07a52354d8"
   },
   "outputs": [
    {
     "name": "stdout",
     "output_type": "stream",
     "text": [
      "                     cell_id patient_assignment tissue_assignment   \n",
      "AAACCTGCATGGTAGG-1         1                 C1                 R  \\\n",
      "AAACGGGAGATAGGAG-1         2                 C1                 R   \n",
      "AACACGTGTGTGCCTG-1         3                 C1                 R   \n",
      "AACCGCGGTTCAGACT-1         4                 C1                 R   \n",
      "AACCGCGTCTCGCATC-1         5                 C1                 R   \n",
      "...                      ...                ...               ...   \n",
      "AAAGATGAGAATGTGT-30    68623                 C9              PBMC   \n",
      "CGACTTCGTGACTACT-30    68624                 C9              PBMC   \n",
      "GTATTCTCAAGCCATT-30    68625                 C9              PBMC   \n",
      "TGCCCATAGTTGCAGG-30    68626                 C9              PBMC   \n",
      "TGGTTCCAGACGCACA-30    68627                 C9              PBMC   \n",
      "\n",
      "                    disease_assignment celltype  \n",
      "AAACCTGCATGGTAGG-1             healthy        T  \n",
      "AAACGGGAGATAGGAG-1             healthy        T  \n",
      "AACACGTGTGTGCCTG-1             healthy        T  \n",
      "AACCGCGGTTCAGACT-1             healthy        T  \n",
      "AACCGCGTCTCGCATC-1             healthy        T  \n",
      "...                                ...      ...  \n",
      "AAAGATGAGAATGTGT-30            healthy        T  \n",
      "CGACTTCGTGACTACT-30            healthy        T  \n",
      "GTATTCTCAAGCCATT-30            healthy        T  \n",
      "TGCCCATAGTTGCAGG-30            healthy        T  \n",
      "TGGTTCCAGACGCACA-30            healthy        T  \n",
      "\n",
      "[68627 rows x 5 columns]\n"
     ]
    }
   ],
   "source": [
    "print(adata.obs)"
   ]
  },
  {
   "cell_type": "code",
   "execution_count": null,
   "id": "5722bf21-fdd4-499e-8b2a-c82f6951c369",
   "metadata": {
    "id": "5722bf21-fdd4-499e-8b2a-c82f6951c369"
   },
   "outputs": [],
   "source": []
  },
  {
   "cell_type": "code",
   "execution_count": null,
   "id": "493ed153-cc3b-4865-91b4-3c7e97a18499",
   "metadata": {},
   "outputs": [],
   "source": []
  },
  {
   "cell_type": "code",
   "execution_count": null,
   "id": "affb4f16-2b1f-468e-8105-94466cdf49ec",
   "metadata": {},
   "outputs": [],
   "source": []
  },
  {
   "cell_type": "code",
   "execution_count": null,
   "id": "38308c05-00a7-438a-b767-a0b4c546ccfe",
   "metadata": {
    "id": "38308c05-00a7-438a-b767-a0b4c546ccfe"
   },
   "outputs": [],
   "source": []
  },
  {
   "cell_type": "code",
   "execution_count": null,
   "id": "50a3533a-6b61-4619-9bc3-94e8f2700206",
   "metadata": {
    "id": "50a3533a-6b61-4619-9bc3-94e8f2700206"
   },
   "outputs": [],
   "source": []
  },
  {
   "cell_type": "code",
   "execution_count": null,
   "id": "799e1074-ce7a-4e17-95c9-c51a47c1e6a4",
   "metadata": {
    "id": "799e1074-ce7a-4e17-95c9-c51a47c1e6a4"
   },
   "outputs": [],
   "source": []
  },
  {
   "cell_type": "code",
   "execution_count": null,
   "id": "299a2847-7382-49e1-b694-aa09891aed28",
   "metadata": {
    "id": "299a2847-7382-49e1-b694-aa09891aed28"
   },
   "outputs": [],
   "source": []
  },
  {
   "cell_type": "code",
   "execution_count": null,
   "id": "26f9b592-8ce3-4682-88f5-c1ec862df5f3",
   "metadata": {
    "id": "26f9b592-8ce3-4682-88f5-c1ec862df5f3"
   },
   "outputs": [],
   "source": []
  },
  {
   "cell_type": "code",
   "execution_count": null,
   "id": "8cd1c669-0f09-491c-bea3-712a8bb6e2b2",
   "metadata": {
    "id": "8cd1c669-0f09-491c-bea3-712a8bb6e2b2"
   },
   "outputs": [],
   "source": []
  },
  {
   "cell_type": "code",
   "execution_count": null,
   "id": "c6c6ad81-6cf1-4a12-8ecf-e24bf0e2e46f",
   "metadata": {
    "id": "c6c6ad81-6cf1-4a12-8ecf-e24bf0e2e46f"
   },
   "outputs": [],
   "source": []
  },
  {
   "cell_type": "code",
   "execution_count": null,
   "id": "d0e416fe-241b-4c68-8762-5b106f2da2f0",
   "metadata": {
    "id": "d0e416fe-241b-4c68-8762-5b106f2da2f0"
   },
   "outputs": [],
   "source": []
  },
  {
   "cell_type": "code",
   "execution_count": null,
   "id": "3191b0dc-9608-4078-ac20-e44739ce5f33",
   "metadata": {
    "id": "3191b0dc-9608-4078-ac20-e44739ce5f33"
   },
   "outputs": [],
   "source": []
  }
 ],
 "metadata": {
  "colab": {
   "provenance": []
  },
  "kernelspec": {
   "display_name": "Python 3 (ipykernel)",
   "language": "python",
   "name": "python3"
  },
  "language_info": {
   "codemirror_mode": {
    "name": "ipython",
    "version": 3
   },
   "file_extension": ".py",
   "mimetype": "text/x-python",
   "name": "python",
   "nbconvert_exporter": "python",
   "pygments_lexer": "ipython3",
   "version": "3.10.11"
  }
 },
 "nbformat": 4,
 "nbformat_minor": 5
}
