{
 "cells": [
  {
   "cell_type": "code",
   "execution_count": 1,
   "id": "bf54db62",
   "metadata": {},
   "outputs": [
    {
     "name": "stdout",
     "output_type": "stream",
     "text": [
      "✅ wrote new records from public sources.yaml to /home/vale/.lamin/bionty/versions/sources_local.yaml!\n",
      "\n",
      "if you see this message repeatedly, run: bt.reset_sources()\n",
      "💡 lamindb instance: vals/scrna\n"
     ]
    }
   ],
   "source": [
    "import glob\n",
    "\n",
    "import anndata\n",
    "import lamindb as ln\n",
    "import pandas as pd\n",
    "from tqdm import tqdm"
   ]
  },
  {
   "cell_type": "code",
   "execution_count": 2,
   "id": "f417a9e8",
   "metadata": {},
   "outputs": [],
   "source": [
    "ln.settings.verbosity = 'info'"
   ]
  },
  {
   "cell_type": "code",
   "execution_count": null,
   "id": "cdb924db",
   "metadata": {},
   "outputs": [],
   "source": []
  },
  {
   "cell_type": "code",
   "execution_count": 19,
   "id": "91286ec7",
   "metadata": {
    "scrolled": false
   },
   "outputs": [],
   "source": [
    "all_files = ln.File.filter(suffix = '.h5ad').df()"
   ]
  },
  {
   "cell_type": "code",
   "execution_count": 21,
   "id": "a07e006a",
   "metadata": {},
   "outputs": [],
   "source": [
    "all_files.to_csv('all_files.tsv', sep = '\\t')"
   ]
  },
  {
   "cell_type": "code",
   "execution_count": null,
   "id": "e315c374",
   "metadata": {},
   "outputs": [],
   "source": []
  },
  {
   "cell_type": "code",
   "execution_count": 24,
   "id": "d2c77cc7",
   "metadata": {},
   "outputs": [],
   "source": [
    "ln.Feature(name = 'DOI', type = 'str', description = 'DOI of source publication').save()"
   ]
  },
  {
   "cell_type": "code",
   "execution_count": 35,
   "id": "73f83f55",
   "metadata": {},
   "outputs": [],
   "source": [
    "features = ln.Feature.lookup()"
   ]
  },
  {
   "cell_type": "code",
   "execution_count": null,
   "id": "869f8e9d",
   "metadata": {},
   "outputs": [],
   "source": []
  },
  {
   "cell_type": "code",
   "execution_count": 30,
   "id": "726af33b",
   "metadata": {},
   "outputs": [
    {
     "data": {
      "text/plain": [
       "File(uid='UWETAZbzAURlLQCyTV1d', key='Boland et al/GSE125527.h5ad', suffix='.h5ad', accessor='AnnData', size=526865612, hash='5c33pdXfI7munQb_UJV8bO', hash_type='sha1-fl', visibility=1, key_is_virtual=True, updated_at=2023-11-07 04:42:48 UTC, storage_id=1, created_by_id=1)"
      ]
     },
     "execution_count": 30,
     "metadata": {},
     "output_type": "execute_result"
    }
   ],
   "source": [
    "file = ln.File.filter(uid = 'UWETAZbzAURlLQCyTV1d').one()\n",
    "file"
   ]
  },
  {
   "cell_type": "code",
   "execution_count": 40,
   "id": "51d0eeed",
   "metadata": {},
   "outputs": [
    {
     "name": "stdout",
     "output_type": "stream",
     "text": [
      "✅ loaded ULabel record with exact same name: '10.1126/sciimmunol.abb4432'\n"
     ]
    }
   ],
   "source": [
    "label = ln.ULabel(name = '10.1126/sciimmunol.abb4432')\n",
    "label.save()"
   ]
  },
  {
   "cell_type": "code",
   "execution_count": 41,
   "id": "934c7c8f",
   "metadata": {},
   "outputs": [],
   "source": [
    "file.labels.add(label, feature = features.doi)"
   ]
  },
  {
   "cell_type": "code",
   "execution_count": 43,
   "id": "380cfafd",
   "metadata": {},
   "outputs": [
    {
     "name": "stdout",
     "output_type": "stream",
     "text": [
      "\u001b[1;92mFile\u001b[0m(uid='UWETAZbzAURlLQCyTV1d', key='Boland et al/GSE125527.h5ad', suffix='.h5ad', accessor='AnnData', size=526865612, hash='5c33pdXfI7munQb_UJV8bO', hash_type='sha1-fl', visibility=1, key_is_virtual=True, updated_at=2023-11-07 04:42:48 UTC)\n",
      "\n",
      "\u001b[1;92mProvenance\u001b[0m:\n",
      "  🗃️ storage: Storage(uid='3wVRAheC', root='s3://vals-scrna', type='s3', region='us-west-1', updated_at=2023-11-05 20:36:19 UTC, created_by_id=1)\n",
      "  👤 created_by: User(uid='8joZB4lw', handle='vals', updated_at=2023-11-05 20:36:19 UTC)\n",
      "\u001b[1;92mFeatures\u001b[0m:\n",
      "  \u001b[1mexternal\u001b[0m: FeatureSet(uid='sUW7EfGxKDsnbaiNKmfa', n=1, registry='core.Feature', hash='GDHfHpyDTyVSYOGwgu69', updated_at=2023-12-06 05:01:45 UTC, created_by_id=1)\n",
      "    DOI (str)\n",
      "\u001b[1;92mLabels\u001b[0m:\n",
      "  🏷️ ulabels (1, \u001b[3mcore.ULabel\u001b[0m): '10.1126/sciimmunol.abb4432'\n",
      "\n"
     ]
    }
   ],
   "source": [
    "file.describe()"
   ]
  },
  {
   "cell_type": "code",
   "execution_count": 48,
   "id": "fb7afa11",
   "metadata": {},
   "outputs": [],
   "source": [
    "file.save()"
   ]
  },
  {
   "cell_type": "code",
   "execution_count": null,
   "id": "06b9e471",
   "metadata": {},
   "outputs": [],
   "source": []
  },
  {
   "cell_type": "code",
   "execution_count": 72,
   "id": "54da80ab",
   "metadata": {},
   "outputs": [],
   "source": [
    "doi_list = pd.read_csv('all_files - dois.tsv', sep = '\\t').fillna('NA')"
   ]
  },
  {
   "cell_type": "code",
   "execution_count": 73,
   "id": "c1fb2cd7",
   "metadata": {},
   "outputs": [
    {
     "data": {
      "text/html": [
       "<div>\n",
       "<style scoped>\n",
       "    .dataframe tbody tr th:only-of-type {\n",
       "        vertical-align: middle;\n",
       "    }\n",
       "\n",
       "    .dataframe tbody tr th {\n",
       "        vertical-align: top;\n",
       "    }\n",
       "\n",
       "    .dataframe thead th {\n",
       "        text-align: right;\n",
       "    }\n",
       "</style>\n",
       "<table border=\"1\" class=\"dataframe\">\n",
       "  <thead>\n",
       "    <tr style=\"text-align: right;\">\n",
       "      <th></th>\n",
       "      <th>uid</th>\n",
       "      <th>key</th>\n",
       "      <th>DOI</th>\n",
       "    </tr>\n",
       "  </thead>\n",
       "  <tbody>\n",
       "    <tr>\n",
       "      <th>0</th>\n",
       "      <td>S3AkMmSgE1RjRcBgrUxC</td>\n",
       "      <td>190523 mouse-embryo-atlas-2019/close_data.h5ad</td>\n",
       "      <td>NA</td>\n",
       "    </tr>\n",
       "    <tr>\n",
       "      <th>1</th>\n",
       "      <td>09zz0M6SZKhM7rIbknWW</td>\n",
       "      <td>190523 mouse-embryo-atlas-2019/combined_atlas....</td>\n",
       "      <td>NA</td>\n",
       "    </tr>\n",
       "    <tr>\n",
       "      <th>2</th>\n",
       "      <td>UmqVwiiMtMDeTlHzh7ly</td>\n",
       "      <td>191205-tissue-stability/lung.cellxgene.h5ad</td>\n",
       "      <td>10.1186/s13059-019-1906-x</td>\n",
       "    </tr>\n",
       "    <tr>\n",
       "      <th>3</th>\n",
       "      <td>GUNjmLxnM03jFBFaJnTf</td>\n",
       "      <td>200326-HCL/HCL_combined.h5ad</td>\n",
       "      <td>10.1038/s41586-020-2157-4</td>\n",
       "    </tr>\n",
       "    <tr>\n",
       "      <th>4</th>\n",
       "      <td>h6PQfcyCXeJXyE5Ddk4b</td>\n",
       "      <td>200326-HCL/HCL_Fig1_adata.h5ad</td>\n",
       "      <td>10.1038/s41586-020-2157-4</td>\n",
       "    </tr>\n",
       "  </tbody>\n",
       "</table>\n",
       "</div>"
      ],
      "text/plain": [
       "                    uid                                                key   \n",
       "0  S3AkMmSgE1RjRcBgrUxC     190523 mouse-embryo-atlas-2019/close_data.h5ad  \\\n",
       "1  09zz0M6SZKhM7rIbknWW  190523 mouse-embryo-atlas-2019/combined_atlas....   \n",
       "2  UmqVwiiMtMDeTlHzh7ly        191205-tissue-stability/lung.cellxgene.h5ad   \n",
       "3  GUNjmLxnM03jFBFaJnTf                       200326-HCL/HCL_combined.h5ad   \n",
       "4  h6PQfcyCXeJXyE5Ddk4b                     200326-HCL/HCL_Fig1_adata.h5ad   \n",
       "\n",
       "                         DOI  \n",
       "0                         NA  \n",
       "1                         NA  \n",
       "2  10.1186/s13059-019-1906-x  \n",
       "3  10.1038/s41586-020-2157-4  \n",
       "4  10.1038/s41586-020-2157-4  "
      ]
     },
     "execution_count": 73,
     "metadata": {},
     "output_type": "execute_result"
    }
   ],
   "source": [
    "doi_list.head()"
   ]
  },
  {
   "cell_type": "code",
   "execution_count": 74,
   "id": "f7ad86b3",
   "metadata": {},
   "outputs": [
    {
     "name": "stderr",
     "output_type": "stream",
     "text": [
      "\r",
      "0it [00:00, ?it/s]"
     ]
    },
    {
     "name": "stdout",
     "output_type": "stream",
     "text": [
      "✅ loaded: FeatureSet(uid='sUW7EfGxKDsnbaiNKmfa', n=1, registry='core.Feature', hash='GDHfHpyDTyVSYOGwgu69', updated_at=2023-12-06 05:01:45 UTC, created_by_id=1)\n",
      "✅ linked new feature 'DOI' together with new feature set FeatureSet(uid='sUW7EfGxKDsnbaiNKmfa', n=1, registry='core.Feature', hash='GDHfHpyDTyVSYOGwgu69', updated_at=2023-12-06 05:17:12 UTC, created_by_id=1)\n"
     ]
    },
    {
     "name": "stderr",
     "output_type": "stream",
     "text": [
      "\r",
      "1it [00:01,  1.10s/it]"
     ]
    },
    {
     "name": "stdout",
     "output_type": "stream",
     "text": [
      "✅ loaded ULabel record with exact same name: 'NA'\n",
      "✅ loaded: FeatureSet(uid='sUW7EfGxKDsnbaiNKmfa', n=1, registry='core.Feature', hash='GDHfHpyDTyVSYOGwgu69', updated_at=2023-12-06 05:17:12 UTC, created_by_id=1)\n",
      "✅ linked new feature 'DOI' together with new feature set FeatureSet(uid='sUW7EfGxKDsnbaiNKmfa', n=1, registry='core.Feature', hash='GDHfHpyDTyVSYOGwgu69', updated_at=2023-12-06 05:17:13 UTC, created_by_id=1)\n"
     ]
    },
    {
     "name": "stderr",
     "output_type": "stream",
     "text": [
      "\r",
      "2it [00:02,  1.15s/it]"
     ]
    },
    {
     "name": "stdout",
     "output_type": "stream",
     "text": [
      "✅ loaded: FeatureSet(uid='sUW7EfGxKDsnbaiNKmfa', n=1, registry='core.Feature', hash='GDHfHpyDTyVSYOGwgu69', updated_at=2023-12-06 05:17:13 UTC, created_by_id=1)\n",
      "✅ linked new feature 'DOI' together with new feature set FeatureSet(uid='sUW7EfGxKDsnbaiNKmfa', n=1, registry='core.Feature', hash='GDHfHpyDTyVSYOGwgu69', updated_at=2023-12-06 05:17:14 UTC, created_by_id=1)\n"
     ]
    },
    {
     "name": "stderr",
     "output_type": "stream",
     "text": [
      "\r",
      "3it [00:03,  1.12s/it]"
     ]
    },
    {
     "name": "stdout",
     "output_type": "stream",
     "text": [
      "✅ loaded: FeatureSet(uid='sUW7EfGxKDsnbaiNKmfa', n=1, registry='core.Feature', hash='GDHfHpyDTyVSYOGwgu69', updated_at=2023-12-06 05:17:14 UTC, created_by_id=1)\n",
      "✅ linked new feature 'DOI' together with new feature set FeatureSet(uid='sUW7EfGxKDsnbaiNKmfa', n=1, registry='core.Feature', hash='GDHfHpyDTyVSYOGwgu69', updated_at=2023-12-06 05:17:15 UTC, created_by_id=1)\n"
     ]
    },
    {
     "name": "stderr",
     "output_type": "stream",
     "text": [
      "\r",
      "4it [00:04,  1.11s/it]"
     ]
    },
    {
     "name": "stdout",
     "output_type": "stream",
     "text": [
      "✅ loaded ULabel record with exact same name: '10.1038/s41586-020-2157-4'\n",
      "✅ loaded: FeatureSet(uid='sUW7EfGxKDsnbaiNKmfa', n=1, registry='core.Feature', hash='GDHfHpyDTyVSYOGwgu69', updated_at=2023-12-06 05:17:15 UTC, created_by_id=1)\n",
      "✅ linked new feature 'DOI' together with new feature set FeatureSet(uid='sUW7EfGxKDsnbaiNKmfa', n=1, registry='core.Feature', hash='GDHfHpyDTyVSYOGwgu69', updated_at=2023-12-06 05:17:16 UTC, created_by_id=1)\n"
     ]
    },
    {
     "name": "stderr",
     "output_type": "stream",
     "text": [
      "\r",
      "5it [00:05,  1.13s/it]"
     ]
    },
    {
     "name": "stdout",
     "output_type": "stream",
     "text": [
      "✅ loaded: FeatureSet(uid='sUW7EfGxKDsnbaiNKmfa', n=1, registry='core.Feature', hash='GDHfHpyDTyVSYOGwgu69', updated_at=2023-12-06 05:17:16 UTC, created_by_id=1)\n",
      "✅ linked new feature 'DOI' together with new feature set FeatureSet(uid='sUW7EfGxKDsnbaiNKmfa', n=1, registry='core.Feature', hash='GDHfHpyDTyVSYOGwgu69', updated_at=2023-12-06 05:17:18 UTC, created_by_id=1)\n"
     ]
    },
    {
     "name": "stderr",
     "output_type": "stream",
     "text": [
      "\r",
      "6it [00:06,  1.13s/it]"
     ]
    },
    {
     "name": "stdout",
     "output_type": "stream",
     "text": [
      "✅ loaded: FeatureSet(uid='sUW7EfGxKDsnbaiNKmfa', n=1, registry='core.Feature', hash='GDHfHpyDTyVSYOGwgu69', updated_at=2023-12-06 05:17:18 UTC, created_by_id=1)\n",
      "✅ linked new feature 'DOI' together with new feature set FeatureSet(uid='sUW7EfGxKDsnbaiNKmfa', n=1, registry='core.Feature', hash='GDHfHpyDTyVSYOGwgu69', updated_at=2023-12-06 05:17:19 UTC, created_by_id=1)\n"
     ]
    },
    {
     "name": "stderr",
     "output_type": "stream",
     "text": [
      "\r",
      "7it [00:07,  1.12s/it]"
     ]
    },
    {
     "name": "stdout",
     "output_type": "stream",
     "text": [
      "✅ loaded: FeatureSet(uid='sUW7EfGxKDsnbaiNKmfa', n=1, registry='core.Feature', hash='GDHfHpyDTyVSYOGwgu69', updated_at=2023-12-06 05:17:19 UTC, created_by_id=1)\n",
      "✅ linked new feature 'DOI' together with new feature set FeatureSet(uid='sUW7EfGxKDsnbaiNKmfa', n=1, registry='core.Feature', hash='GDHfHpyDTyVSYOGwgu69', updated_at=2023-12-06 05:17:20 UTC, created_by_id=1)\n"
     ]
    },
    {
     "name": "stderr",
     "output_type": "stream",
     "text": [
      "\r",
      "8it [00:08,  1.11s/it]"
     ]
    },
    {
     "name": "stdout",
     "output_type": "stream",
     "text": [
      "✅ loaded ULabel record with exact same name: '10.1038/s41586-021-03570-8'\n",
      "✅ loaded: FeatureSet(uid='sUW7EfGxKDsnbaiNKmfa', n=1, registry='core.Feature', hash='GDHfHpyDTyVSYOGwgu69', updated_at=2023-12-06 05:17:20 UTC, created_by_id=1)\n",
      "✅ linked new feature 'DOI' together with new feature set FeatureSet(uid='sUW7EfGxKDsnbaiNKmfa', n=1, registry='core.Feature', hash='GDHfHpyDTyVSYOGwgu69', updated_at=2023-12-06 05:17:21 UTC, created_by_id=1)\n"
     ]
    },
    {
     "name": "stderr",
     "output_type": "stream",
     "text": [
      "\r",
      "9it [00:10,  1.13s/it]"
     ]
    },
    {
     "name": "stdout",
     "output_type": "stream",
     "text": [
      "✅ loaded: FeatureSet(uid='sUW7EfGxKDsnbaiNKmfa', n=1, registry='core.Feature', hash='GDHfHpyDTyVSYOGwgu69', updated_at=2023-12-06 05:17:21 UTC, created_by_id=1)\n",
      "✅ linked new feature 'DOI' together with new feature set FeatureSet(uid='sUW7EfGxKDsnbaiNKmfa', n=1, registry='core.Feature', hash='GDHfHpyDTyVSYOGwgu69', updated_at=2023-12-06 05:17:22 UTC, created_by_id=1)\n"
     ]
    },
    {
     "name": "stderr",
     "output_type": "stream",
     "text": [
      "\r",
      "10it [00:11,  1.12s/it]"
     ]
    },
    {
     "name": "stdout",
     "output_type": "stream",
     "text": [
      "✅ loaded ULabel record with exact same name: '10.1038/s41467-019-14118-w'\n",
      "✅ loaded: FeatureSet(uid='sUW7EfGxKDsnbaiNKmfa', n=1, registry='core.Feature', hash='GDHfHpyDTyVSYOGwgu69', updated_at=2023-12-06 05:17:22 UTC, created_by_id=1)\n",
      "✅ linked new feature 'DOI' together with new feature set FeatureSet(uid='sUW7EfGxKDsnbaiNKmfa', n=1, registry='core.Feature', hash='GDHfHpyDTyVSYOGwgu69', updated_at=2023-12-06 05:17:23 UTC, created_by_id=1)\n"
     ]
    },
    {
     "name": "stderr",
     "output_type": "stream",
     "text": [
      "\r",
      "11it [00:12,  1.13s/it]"
     ]
    },
    {
     "name": "stdout",
     "output_type": "stream",
     "text": [
      "✅ loaded ULabel record with exact same name: '10.1126/sciimmunol.abb4432'\n"
     ]
    },
    {
     "name": "stderr",
     "output_type": "stream",
     "text": [
      "\r",
      "12it [00:13,  1.17s/it]"
     ]
    },
    {
     "name": "stdout",
     "output_type": "stream",
     "text": [
      "✅ loaded: FeatureSet(uid='sUW7EfGxKDsnbaiNKmfa', n=1, registry='core.Feature', hash='GDHfHpyDTyVSYOGwgu69', updated_at=2023-12-06 05:17:23 UTC, created_by_id=1)\n",
      "✅ linked new feature 'DOI' together with new feature set FeatureSet(uid='sUW7EfGxKDsnbaiNKmfa', n=1, registry='core.Feature', hash='GDHfHpyDTyVSYOGwgu69', updated_at=2023-12-06 05:17:26 UTC, created_by_id=1)\n"
     ]
    },
    {
     "name": "stderr",
     "output_type": "stream",
     "text": [
      "\r",
      "13it [00:14,  1.15s/it]"
     ]
    },
    {
     "name": "stdout",
     "output_type": "stream",
     "text": [
      "✅ loaded: FeatureSet(uid='sUW7EfGxKDsnbaiNKmfa', n=1, registry='core.Feature', hash='GDHfHpyDTyVSYOGwgu69', updated_at=2023-12-06 05:17:26 UTC, created_by_id=1)\n",
      "✅ linked new feature 'DOI' together with new feature set FeatureSet(uid='sUW7EfGxKDsnbaiNKmfa', n=1, registry='core.Feature', hash='GDHfHpyDTyVSYOGwgu69', updated_at=2023-12-06 05:17:27 UTC, created_by_id=1)\n"
     ]
    },
    {
     "name": "stderr",
     "output_type": "stream",
     "text": [
      "\r",
      "14it [00:15,  1.14s/it]"
     ]
    },
    {
     "name": "stdout",
     "output_type": "stream",
     "text": [
      "✅ loaded: FeatureSet(uid='sUW7EfGxKDsnbaiNKmfa', n=1, registry='core.Feature', hash='GDHfHpyDTyVSYOGwgu69', updated_at=2023-12-06 05:17:27 UTC, created_by_id=1)\n",
      "✅ linked new feature 'DOI' together with new feature set FeatureSet(uid='sUW7EfGxKDsnbaiNKmfa', n=1, registry='core.Feature', hash='GDHfHpyDTyVSYOGwgu69', updated_at=2023-12-06 05:17:28 UTC, created_by_id=1)\n"
     ]
    },
    {
     "name": "stderr",
     "output_type": "stream",
     "text": [
      "\r",
      "15it [00:16,  1.12s/it]"
     ]
    },
    {
     "name": "stdout",
     "output_type": "stream",
     "text": [
      "✅ loaded ULabel record with exact same name: '10.1016/j.cell.2018.07.028'\n",
      "✅ loaded: FeatureSet(uid='sUW7EfGxKDsnbaiNKmfa', n=1, registry='core.Feature', hash='GDHfHpyDTyVSYOGwgu69', updated_at=2023-12-06 05:17:28 UTC, created_by_id=1)\n",
      "✅ linked new feature 'DOI' together with new feature set FeatureSet(uid='sUW7EfGxKDsnbaiNKmfa', n=1, registry='core.Feature', hash='GDHfHpyDTyVSYOGwgu69', updated_at=2023-12-06 05:17:29 UTC, created_by_id=1)\n"
     ]
    },
    {
     "name": "stderr",
     "output_type": "stream",
     "text": [
      "\r",
      "16it [00:18,  1.13s/it]"
     ]
    },
    {
     "name": "stdout",
     "output_type": "stream",
     "text": [
      "❗ record with similar name exist! did you mean to load it?\n"
     ]
    },
    {
     "data": {
      "text/html": [
       "<div>\n",
       "<style scoped>\n",
       "    .dataframe tbody tr th:only-of-type {\n",
       "        vertical-align: middle;\n",
       "    }\n",
       "\n",
       "    .dataframe tbody tr th {\n",
       "        vertical-align: top;\n",
       "    }\n",
       "\n",
       "    .dataframe thead th {\n",
       "        text-align: right;\n",
       "    }\n",
       "</style>\n",
       "<table border=\"1\" class=\"dataframe\">\n",
       "  <thead>\n",
       "    <tr style=\"text-align: right;\">\n",
       "      <th></th>\n",
       "      <th>uid</th>\n",
       "      <th>score</th>\n",
       "    </tr>\n",
       "    <tr>\n",
       "      <th>name</th>\n",
       "      <th></th>\n",
       "      <th></th>\n",
       "    </tr>\n",
       "  </thead>\n",
       "  <tbody>\n",
       "    <tr>\n",
       "      <th>10.1016/j.cell.2018.07.028</th>\n",
       "      <td>JT8eMDzu</td>\n",
       "      <td>92.3</td>\n",
       "    </tr>\n",
       "  </tbody>\n",
       "</table>\n",
       "</div>"
      ],
      "text/plain": [
       "                                 uid  score\n",
       "name                                       \n",
       "10.1016/j.cell.2018.07.028  JT8eMDzu   92.3"
      ]
     },
     "metadata": {},
     "output_type": "display_data"
    },
    {
     "name": "stdout",
     "output_type": "stream",
     "text": [
      "✅ loaded: FeatureSet(uid='sUW7EfGxKDsnbaiNKmfa', n=1, registry='core.Feature', hash='GDHfHpyDTyVSYOGwgu69', updated_at=2023-12-06 05:17:29 UTC, created_by_id=1)\n",
      "✅ linked new feature 'DOI' together with new feature set FeatureSet(uid='sUW7EfGxKDsnbaiNKmfa', n=1, registry='core.Feature', hash='GDHfHpyDTyVSYOGwgu69', updated_at=2023-12-06 05:17:30 UTC, created_by_id=1)\n"
     ]
    },
    {
     "name": "stderr",
     "output_type": "stream",
     "text": [
      "\r",
      "17it [00:19,  1.12s/it]"
     ]
    },
    {
     "name": "stdout",
     "output_type": "stream",
     "text": [
      "✅ loaded ULabel record with exact same name: '10.1016/j.cell.2018.06.021'\n",
      "✅ loaded: FeatureSet(uid='sUW7EfGxKDsnbaiNKmfa', n=1, registry='core.Feature', hash='GDHfHpyDTyVSYOGwgu69', updated_at=2023-12-06 05:17:30 UTC, created_by_id=1)\n",
      "✅ linked new feature 'DOI' together with new feature set FeatureSet(uid='sUW7EfGxKDsnbaiNKmfa', n=1, registry='core.Feature', hash='GDHfHpyDTyVSYOGwgu69', updated_at=2023-12-06 05:17:31 UTC, created_by_id=1)\n"
     ]
    },
    {
     "name": "stderr",
     "output_type": "stream",
     "text": [
      "\r",
      "18it [00:20,  1.13s/it]"
     ]
    },
    {
     "name": "stdout",
     "output_type": "stream",
     "text": [
      "✅ loaded ULabel record with exact same name: '10.1016/j.cell.2018.06.021'\n",
      "✅ loaded: FeatureSet(uid='sUW7EfGxKDsnbaiNKmfa', n=1, registry='core.Feature', hash='GDHfHpyDTyVSYOGwgu69', updated_at=2023-12-06 05:17:31 UTC, created_by_id=1)\n",
      "✅ linked new feature 'DOI' together with new feature set FeatureSet(uid='sUW7EfGxKDsnbaiNKmfa', n=1, registry='core.Feature', hash='GDHfHpyDTyVSYOGwgu69', updated_at=2023-12-06 05:17:32 UTC, created_by_id=1)\n"
     ]
    },
    {
     "name": "stderr",
     "output_type": "stream",
     "text": [
      "\r",
      "19it [00:21,  1.14s/it]"
     ]
    },
    {
     "name": "stdout",
     "output_type": "stream",
     "text": [
      "✅ loaded: FeatureSet(uid='sUW7EfGxKDsnbaiNKmfa', n=1, registry='core.Feature', hash='GDHfHpyDTyVSYOGwgu69', updated_at=2023-12-06 05:17:32 UTC, created_by_id=1)\n",
      "✅ linked new feature 'DOI' together with new feature set FeatureSet(uid='sUW7EfGxKDsnbaiNKmfa', n=1, registry='core.Feature', hash='GDHfHpyDTyVSYOGwgu69', updated_at=2023-12-06 05:17:33 UTC, created_by_id=1)\n"
     ]
    },
    {
     "name": "stderr",
     "output_type": "stream",
     "text": [
      "\r",
      "20it [00:22,  1.13s/it]"
     ]
    },
    {
     "name": "stdout",
     "output_type": "stream",
     "text": [
      "✅ loaded ULabel record with exact same name: 'NA'\n",
      "✅ loaded: FeatureSet(uid='sUW7EfGxKDsnbaiNKmfa', n=1, registry='core.Feature', hash='GDHfHpyDTyVSYOGwgu69', updated_at=2023-12-06 05:17:33 UTC, created_by_id=1)\n",
      "✅ linked new feature 'DOI' together with new feature set FeatureSet(uid='sUW7EfGxKDsnbaiNKmfa', n=1, registry='core.Feature', hash='GDHfHpyDTyVSYOGwgu69', updated_at=2023-12-06 05:17:35 UTC, created_by_id=1)\n"
     ]
    },
    {
     "name": "stderr",
     "output_type": "stream",
     "text": [
      "\r",
      "21it [00:23,  1.14s/it]"
     ]
    },
    {
     "name": "stdout",
     "output_type": "stream",
     "text": [
      "✅ loaded ULabel record with exact same name: 'NA'\n",
      "✅ loaded: FeatureSet(uid='sUW7EfGxKDsnbaiNKmfa', n=1, registry='core.Feature', hash='GDHfHpyDTyVSYOGwgu69', updated_at=2023-12-06 05:17:35 UTC, created_by_id=1)\n",
      "✅ linked new feature 'DOI' together with new feature set FeatureSet(uid='sUW7EfGxKDsnbaiNKmfa', n=1, registry='core.Feature', hash='GDHfHpyDTyVSYOGwgu69', updated_at=2023-12-06 05:17:36 UTC, created_by_id=1)\n"
     ]
    },
    {
     "name": "stderr",
     "output_type": "stream",
     "text": [
      "\r",
      "22it [00:24,  1.16s/it]"
     ]
    },
    {
     "name": "stdout",
     "output_type": "stream",
     "text": [
      "✅ loaded ULabel record with exact same name: 'NA'\n",
      "✅ loaded: FeatureSet(uid='sUW7EfGxKDsnbaiNKmfa', n=1, registry='core.Feature', hash='GDHfHpyDTyVSYOGwgu69', updated_at=2023-12-06 05:17:36 UTC, created_by_id=1)\n",
      "✅ linked new feature 'DOI' together with new feature set FeatureSet(uid='sUW7EfGxKDsnbaiNKmfa', n=1, registry='core.Feature', hash='GDHfHpyDTyVSYOGwgu69', updated_at=2023-12-06 05:17:37 UTC, created_by_id=1)\n"
     ]
    },
    {
     "name": "stderr",
     "output_type": "stream",
     "text": [
      "\r",
      "23it [00:26,  1.16s/it]"
     ]
    },
    {
     "name": "stdout",
     "output_type": "stream",
     "text": [
      "✅ loaded: FeatureSet(uid='sUW7EfGxKDsnbaiNKmfa', n=1, registry='core.Feature', hash='GDHfHpyDTyVSYOGwgu69', updated_at=2023-12-06 05:17:37 UTC, created_by_id=1)\n",
      "✅ linked new feature 'DOI' together with new feature set FeatureSet(uid='sUW7EfGxKDsnbaiNKmfa', n=1, registry='core.Feature', hash='GDHfHpyDTyVSYOGwgu69', updated_at=2023-12-06 05:17:38 UTC, created_by_id=1)\n"
     ]
    },
    {
     "name": "stderr",
     "output_type": "stream",
     "text": [
      "\r",
      "24it [00:27,  1.14s/it]"
     ]
    },
    {
     "name": "stdout",
     "output_type": "stream",
     "text": [
      "✅ loaded ULabel record with exact same name: 'NA'\n",
      "✅ loaded: FeatureSet(uid='sUW7EfGxKDsnbaiNKmfa', n=1, registry='core.Feature', hash='GDHfHpyDTyVSYOGwgu69', updated_at=2023-12-06 05:17:38 UTC, created_by_id=1)\n",
      "✅ linked new feature 'DOI' together with new feature set FeatureSet(uid='sUW7EfGxKDsnbaiNKmfa', n=1, registry='core.Feature', hash='GDHfHpyDTyVSYOGwgu69', updated_at=2023-12-06 05:17:39 UTC, created_by_id=1)\n"
     ]
    },
    {
     "name": "stderr",
     "output_type": "stream",
     "text": [
      "\r",
      "25it [00:28,  1.15s/it]"
     ]
    },
    {
     "name": "stdout",
     "output_type": "stream",
     "text": [
      "✅ loaded ULabel record with exact same name: 'NA'\n",
      "✅ loaded: FeatureSet(uid='sUW7EfGxKDsnbaiNKmfa', n=1, registry='core.Feature', hash='GDHfHpyDTyVSYOGwgu69', updated_at=2023-12-06 05:17:39 UTC, created_by_id=1)\n",
      "✅ linked new feature 'DOI' together with new feature set FeatureSet(uid='sUW7EfGxKDsnbaiNKmfa', n=1, registry='core.Feature', hash='GDHfHpyDTyVSYOGwgu69', updated_at=2023-12-06 05:17:40 UTC, created_by_id=1)\n"
     ]
    },
    {
     "name": "stderr",
     "output_type": "stream",
     "text": [
      "\r",
      "26it [00:29,  1.15s/it]"
     ]
    },
    {
     "name": "stdout",
     "output_type": "stream",
     "text": [
      "✅ loaded ULabel record with exact same name: 'NA'\n",
      "✅ loaded: FeatureSet(uid='sUW7EfGxKDsnbaiNKmfa', n=1, registry='core.Feature', hash='GDHfHpyDTyVSYOGwgu69', updated_at=2023-12-06 05:17:40 UTC, created_by_id=1)\n",
      "✅ linked new feature 'DOI' together with new feature set FeatureSet(uid='sUW7EfGxKDsnbaiNKmfa', n=1, registry='core.Feature', hash='GDHfHpyDTyVSYOGwgu69', updated_at=2023-12-06 05:17:42 UTC, created_by_id=1)\n"
     ]
    },
    {
     "name": "stderr",
     "output_type": "stream",
     "text": [
      "\r",
      "27it [00:30,  1.16s/it]"
     ]
    },
    {
     "name": "stdout",
     "output_type": "stream",
     "text": [
      "✅ loaded: FeatureSet(uid='sUW7EfGxKDsnbaiNKmfa', n=1, registry='core.Feature', hash='GDHfHpyDTyVSYOGwgu69', updated_at=2023-12-06 05:17:42 UTC, created_by_id=1)\n",
      "✅ linked new feature 'DOI' together with new feature set FeatureSet(uid='sUW7EfGxKDsnbaiNKmfa', n=1, registry='core.Feature', hash='GDHfHpyDTyVSYOGwgu69', updated_at=2023-12-06 05:17:43 UTC, created_by_id=1)\n"
     ]
    },
    {
     "name": "stderr",
     "output_type": "stream",
     "text": [
      "\r",
      "28it [00:31,  1.14s/it]"
     ]
    },
    {
     "name": "stdout",
     "output_type": "stream",
     "text": [
      "✅ loaded: FeatureSet(uid='sUW7EfGxKDsnbaiNKmfa', n=1, registry='core.Feature', hash='GDHfHpyDTyVSYOGwgu69', updated_at=2023-12-06 05:17:43 UTC, created_by_id=1)\n",
      "✅ linked new feature 'DOI' together with new feature set FeatureSet(uid='sUW7EfGxKDsnbaiNKmfa', n=1, registry='core.Feature', hash='GDHfHpyDTyVSYOGwgu69', updated_at=2023-12-06 05:17:44 UTC, created_by_id=1)\n"
     ]
    },
    {
     "name": "stderr",
     "output_type": "stream",
     "text": [
      "\r",
      "29it [00:32,  1.14s/it]"
     ]
    },
    {
     "name": "stdout",
     "output_type": "stream",
     "text": [
      "✅ loaded ULabel record with exact same name: '10.1016/j.molcel.2015.03.005'\n",
      "✅ loaded: FeatureSet(uid='sUW7EfGxKDsnbaiNKmfa', n=1, registry='core.Feature', hash='GDHfHpyDTyVSYOGwgu69', updated_at=2023-12-06 05:17:44 UTC, created_by_id=1)\n",
      "✅ linked new feature 'DOI' together with new feature set FeatureSet(uid='sUW7EfGxKDsnbaiNKmfa', n=1, registry='core.Feature', hash='GDHfHpyDTyVSYOGwgu69', updated_at=2023-12-06 05:17:45 UTC, created_by_id=1)\n"
     ]
    },
    {
     "name": "stderr",
     "output_type": "stream",
     "text": [
      "\r",
      "30it [00:34,  1.16s/it]"
     ]
    },
    {
     "name": "stdout",
     "output_type": "stream",
     "text": [
      "✅ loaded: FeatureSet(uid='sUW7EfGxKDsnbaiNKmfa', n=1, registry='core.Feature', hash='GDHfHpyDTyVSYOGwgu69', updated_at=2023-12-06 05:17:45 UTC, created_by_id=1)\n",
      "✅ linked new feature 'DOI' together with new feature set FeatureSet(uid='sUW7EfGxKDsnbaiNKmfa', n=1, registry='core.Feature', hash='GDHfHpyDTyVSYOGwgu69', updated_at=2023-12-06 05:17:46 UTC, created_by_id=1)\n"
     ]
    },
    {
     "name": "stderr",
     "output_type": "stream",
     "text": [
      "\r",
      "31it [00:35,  1.14s/it]"
     ]
    },
    {
     "name": "stdout",
     "output_type": "stream",
     "text": [
      "✅ loaded ULabel record with exact same name: '10.1038/nmeth.4220'\n",
      "✅ loaded: FeatureSet(uid='sUW7EfGxKDsnbaiNKmfa', n=1, registry='core.Feature', hash='GDHfHpyDTyVSYOGwgu69', updated_at=2023-12-06 05:17:46 UTC, created_by_id=1)\n",
      "✅ linked new feature 'DOI' together with new feature set FeatureSet(uid='sUW7EfGxKDsnbaiNKmfa', n=1, registry='core.Feature', hash='GDHfHpyDTyVSYOGwgu69', updated_at=2023-12-06 05:17:47 UTC, created_by_id=1)\n"
     ]
    },
    {
     "name": "stderr",
     "output_type": "stream",
     "text": [
      "\r",
      "32it [00:36,  1.16s/it]"
     ]
    },
    {
     "name": "stdout",
     "output_type": "stream",
     "text": [
      "✅ loaded: FeatureSet(uid='sUW7EfGxKDsnbaiNKmfa', n=1, registry='core.Feature', hash='GDHfHpyDTyVSYOGwgu69', updated_at=2023-12-06 05:17:47 UTC, created_by_id=1)\n",
      "✅ linked new feature 'DOI' together with new feature set FeatureSet(uid='sUW7EfGxKDsnbaiNKmfa', n=1, registry='core.Feature', hash='GDHfHpyDTyVSYOGwgu69', updated_at=2023-12-06 05:17:48 UTC, created_by_id=1)\n"
     ]
    },
    {
     "name": "stderr",
     "output_type": "stream",
     "text": [
      "\r",
      "33it [00:37,  1.14s/it]"
     ]
    },
    {
     "name": "stdout",
     "output_type": "stream",
     "text": [
      "✅ loaded ULabel record with exact same name: '10.1016/j.molcel.2015.03.005'\n",
      "✅ loaded: FeatureSet(uid='sUW7EfGxKDsnbaiNKmfa', n=1, registry='core.Feature', hash='GDHfHpyDTyVSYOGwgu69', updated_at=2023-12-06 05:17:48 UTC, created_by_id=1)\n",
      "✅ linked new feature 'DOI' together with new feature set FeatureSet(uid='sUW7EfGxKDsnbaiNKmfa', n=1, registry='core.Feature', hash='GDHfHpyDTyVSYOGwgu69', updated_at=2023-12-06 05:17:50 UTC, created_by_id=1)\n"
     ]
    },
    {
     "name": "stderr",
     "output_type": "stream",
     "text": [
      "\r",
      "34it [00:38,  1.15s/it]"
     ]
    },
    {
     "name": "stdout",
     "output_type": "stream",
     "text": [
      "✅ loaded: FeatureSet(uid='sUW7EfGxKDsnbaiNKmfa', n=1, registry='core.Feature', hash='GDHfHpyDTyVSYOGwgu69', updated_at=2023-12-06 05:17:50 UTC, created_by_id=1)\n",
      "✅ linked new feature 'DOI' together with new feature set FeatureSet(uid='sUW7EfGxKDsnbaiNKmfa', n=1, registry='core.Feature', hash='GDHfHpyDTyVSYOGwgu69', updated_at=2023-12-06 05:17:51 UTC, created_by_id=1)\n"
     ]
    },
    {
     "name": "stderr",
     "output_type": "stream",
     "text": [
      "\r",
      "35it [00:39,  1.14s/it]"
     ]
    },
    {
     "name": "stdout",
     "output_type": "stream",
     "text": [
      "✅ loaded ULabel record with exact same name: '10.1038/s41586-019-1049-y'\n",
      "✅ loaded: FeatureSet(uid='sUW7EfGxKDsnbaiNKmfa', n=1, registry='core.Feature', hash='GDHfHpyDTyVSYOGwgu69', updated_at=2023-12-06 05:17:51 UTC, created_by_id=1)\n",
      "✅ linked new feature 'DOI' together with new feature set FeatureSet(uid='sUW7EfGxKDsnbaiNKmfa', n=1, registry='core.Feature', hash='GDHfHpyDTyVSYOGwgu69', updated_at=2023-12-06 05:17:52 UTC, created_by_id=1)\n"
     ]
    },
    {
     "name": "stderr",
     "output_type": "stream",
     "text": [
      "\r",
      "36it [00:41,  1.15s/it]"
     ]
    },
    {
     "name": "stdout",
     "output_type": "stream",
     "text": [
      "✅ loaded: FeatureSet(uid='sUW7EfGxKDsnbaiNKmfa', n=1, registry='core.Feature', hash='GDHfHpyDTyVSYOGwgu69', updated_at=2023-12-06 05:17:52 UTC, created_by_id=1)\n",
      "✅ linked new feature 'DOI' together with new feature set FeatureSet(uid='sUW7EfGxKDsnbaiNKmfa', n=1, registry='core.Feature', hash='GDHfHpyDTyVSYOGwgu69', updated_at=2023-12-06 05:17:53 UTC, created_by_id=1)\n"
     ]
    },
    {
     "name": "stderr",
     "output_type": "stream",
     "text": [
      "\r",
      "37it [00:42,  1.14s/it]"
     ]
    },
    {
     "name": "stdout",
     "output_type": "stream",
     "text": [
      "✅ loaded: FeatureSet(uid='sUW7EfGxKDsnbaiNKmfa', n=1, registry='core.Feature', hash='GDHfHpyDTyVSYOGwgu69', updated_at=2023-12-06 05:17:53 UTC, created_by_id=1)\n",
      "✅ linked new feature 'DOI' together with new feature set FeatureSet(uid='sUW7EfGxKDsnbaiNKmfa', n=1, registry='core.Feature', hash='GDHfHpyDTyVSYOGwgu69', updated_at=2023-12-06 05:17:54 UTC, created_by_id=1)\n"
     ]
    },
    {
     "name": "stderr",
     "output_type": "stream",
     "text": [
      "\r",
      "38it [00:43,  1.13s/it]"
     ]
    },
    {
     "name": "stdout",
     "output_type": "stream",
     "text": [
      "✅ loaded ULabel record with exact same name: '10.1126/sciimmunol.abb4432'\n",
      "✅ loaded: FeatureSet(uid='sUW7EfGxKDsnbaiNKmfa', n=1, registry='core.Feature', hash='GDHfHpyDTyVSYOGwgu69', updated_at=2023-12-06 05:17:54 UTC, created_by_id=1)\n",
      "✅ linked new feature 'DOI' together with new feature set FeatureSet(uid='sUW7EfGxKDsnbaiNKmfa', n=1, registry='core.Feature', hash='GDHfHpyDTyVSYOGwgu69', updated_at=2023-12-06 05:17:55 UTC, created_by_id=1)\n"
     ]
    },
    {
     "name": "stderr",
     "output_type": "stream",
     "text": [
      "\r",
      "39it [00:44,  1.14s/it]"
     ]
    },
    {
     "name": "stdout",
     "output_type": "stream",
     "text": [
      "✅ loaded: FeatureSet(uid='sUW7EfGxKDsnbaiNKmfa', n=1, registry='core.Feature', hash='GDHfHpyDTyVSYOGwgu69', updated_at=2023-12-06 05:17:55 UTC, created_by_id=1)\n",
      "✅ linked new feature 'DOI' together with new feature set FeatureSet(uid='sUW7EfGxKDsnbaiNKmfa', n=1, registry='core.Feature', hash='GDHfHpyDTyVSYOGwgu69', updated_at=2023-12-06 05:17:56 UTC, created_by_id=1)\n"
     ]
    },
    {
     "name": "stderr",
     "output_type": "stream",
     "text": [
      "\r",
      "40it [00:45,  1.12s/it]"
     ]
    },
    {
     "name": "stdout",
     "output_type": "stream",
     "text": [
      "✅ loaded: FeatureSet(uid='sUW7EfGxKDsnbaiNKmfa', n=1, registry='core.Feature', hash='GDHfHpyDTyVSYOGwgu69', updated_at=2023-12-06 05:17:56 UTC, created_by_id=1)\n",
      "✅ linked new feature 'DOI' together with new feature set FeatureSet(uid='sUW7EfGxKDsnbaiNKmfa', n=1, registry='core.Feature', hash='GDHfHpyDTyVSYOGwgu69', updated_at=2023-12-06 05:17:57 UTC, created_by_id=1)\n"
     ]
    },
    {
     "name": "stderr",
     "output_type": "stream",
     "text": [
      "\r",
      "41it [00:46,  1.12s/it]"
     ]
    },
    {
     "name": "stdout",
     "output_type": "stream",
     "text": [
      "✅ loaded: FeatureSet(uid='sUW7EfGxKDsnbaiNKmfa', n=1, registry='core.Feature', hash='GDHfHpyDTyVSYOGwgu69', updated_at=2023-12-06 05:17:57 UTC, created_by_id=1)\n",
      "✅ linked new feature 'DOI' together with new feature set FeatureSet(uid='sUW7EfGxKDsnbaiNKmfa', n=1, registry='core.Feature', hash='GDHfHpyDTyVSYOGwgu69', updated_at=2023-12-06 05:17:59 UTC, created_by_id=1)\n"
     ]
    },
    {
     "name": "stderr",
     "output_type": "stream",
     "text": [
      "\r",
      "42it [00:47,  1.11s/it]"
     ]
    },
    {
     "name": "stdout",
     "output_type": "stream",
     "text": [
      "✅ loaded: FeatureSet(uid='sUW7EfGxKDsnbaiNKmfa', n=1, registry='core.Feature', hash='GDHfHpyDTyVSYOGwgu69', updated_at=2023-12-06 05:17:59 UTC, created_by_id=1)\n",
      "✅ linked new feature 'DOI' together with new feature set FeatureSet(uid='sUW7EfGxKDsnbaiNKmfa', n=1, registry='core.Feature', hash='GDHfHpyDTyVSYOGwgu69', updated_at=2023-12-06 05:18:00 UTC, created_by_id=1)\n"
     ]
    },
    {
     "name": "stderr",
     "output_type": "stream",
     "text": [
      "\r",
      "43it [00:48,  1.11s/it]"
     ]
    },
    {
     "name": "stdout",
     "output_type": "stream",
     "text": [
      "✅ loaded: FeatureSet(uid='sUW7EfGxKDsnbaiNKmfa', n=1, registry='core.Feature', hash='GDHfHpyDTyVSYOGwgu69', updated_at=2023-12-06 05:18:00 UTC, created_by_id=1)\n",
      "✅ linked new feature 'DOI' together with new feature set FeatureSet(uid='sUW7EfGxKDsnbaiNKmfa', n=1, registry='core.Feature', hash='GDHfHpyDTyVSYOGwgu69', updated_at=2023-12-06 05:18:01 UTC, created_by_id=1)\n"
     ]
    },
    {
     "name": "stderr",
     "output_type": "stream",
     "text": [
      "\r",
      "44it [00:49,  1.11s/it]"
     ]
    },
    {
     "name": "stdout",
     "output_type": "stream",
     "text": [
      "✅ loaded ULabel record with exact same name: '10.1038/s41587-020-0465-8'\n",
      "✅ loaded: FeatureSet(uid='sUW7EfGxKDsnbaiNKmfa', n=1, registry='core.Feature', hash='GDHfHpyDTyVSYOGwgu69', updated_at=2023-12-06 05:18:01 UTC, created_by_id=1)\n",
      "✅ linked new feature 'DOI' together with new feature set FeatureSet(uid='sUW7EfGxKDsnbaiNKmfa', n=1, registry='core.Feature', hash='GDHfHpyDTyVSYOGwgu69', updated_at=2023-12-06 05:18:02 UTC, created_by_id=1)\n"
     ]
    },
    {
     "name": "stderr",
     "output_type": "stream",
     "text": [
      "\r",
      "45it [00:51,  1.12s/it]"
     ]
    },
    {
     "name": "stdout",
     "output_type": "stream",
     "text": [
      "✅ loaded ULabel record with exact same name: '10.1038/s41587-020-0465-8'\n",
      "✅ loaded: FeatureSet(uid='sUW7EfGxKDsnbaiNKmfa', n=1, registry='core.Feature', hash='GDHfHpyDTyVSYOGwgu69', updated_at=2023-12-06 05:18:02 UTC, created_by_id=1)\n",
      "✅ linked new feature 'DOI' together with new feature set FeatureSet(uid='sUW7EfGxKDsnbaiNKmfa', n=1, registry='core.Feature', hash='GDHfHpyDTyVSYOGwgu69', updated_at=2023-12-06 05:18:03 UTC, created_by_id=1)\n"
     ]
    },
    {
     "name": "stderr",
     "output_type": "stream",
     "text": [
      "\r",
      "46it [00:52,  1.13s/it]"
     ]
    },
    {
     "name": "stdout",
     "output_type": "stream",
     "text": [
      "❗ record with similar name exist! did you mean to load it?\n"
     ]
    },
    {
     "data": {
      "text/html": [
       "<div>\n",
       "<style scoped>\n",
       "    .dataframe tbody tr th:only-of-type {\n",
       "        vertical-align: middle;\n",
       "    }\n",
       "\n",
       "    .dataframe tbody tr th {\n",
       "        vertical-align: top;\n",
       "    }\n",
       "\n",
       "    .dataframe thead th {\n",
       "        text-align: right;\n",
       "    }\n",
       "</style>\n",
       "<table border=\"1\" class=\"dataframe\">\n",
       "  <thead>\n",
       "    <tr style=\"text-align: right;\">\n",
       "      <th></th>\n",
       "      <th>uid</th>\n",
       "      <th>score</th>\n",
       "    </tr>\n",
       "    <tr>\n",
       "      <th>name</th>\n",
       "      <th></th>\n",
       "      <th></th>\n",
       "    </tr>\n",
       "  </thead>\n",
       "  <tbody>\n",
       "    <tr>\n",
       "      <th>10.1038/s41587-020-0465-8</th>\n",
       "      <td>3NEaqtvX</td>\n",
       "      <td>92.0</td>\n",
       "    </tr>\n",
       "  </tbody>\n",
       "</table>\n",
       "</div>"
      ],
      "text/plain": [
       "                                uid  score\n",
       "name                                      \n",
       "10.1038/s41587-020-0465-8  3NEaqtvX   92.0"
      ]
     },
     "metadata": {},
     "output_type": "display_data"
    },
    {
     "name": "stdout",
     "output_type": "stream",
     "text": [
      "✅ loaded: FeatureSet(uid='sUW7EfGxKDsnbaiNKmfa', n=1, registry='core.Feature', hash='GDHfHpyDTyVSYOGwgu69', updated_at=2023-12-06 05:18:03 UTC, created_by_id=1)\n",
      "✅ linked new feature 'DOI' together with new feature set FeatureSet(uid='sUW7EfGxKDsnbaiNKmfa', n=1, registry='core.Feature', hash='GDHfHpyDTyVSYOGwgu69', updated_at=2023-12-06 05:18:04 UTC, created_by_id=1)\n"
     ]
    },
    {
     "name": "stderr",
     "output_type": "stream",
     "text": [
      "\r",
      "47it [00:53,  1.12s/it]"
     ]
    },
    {
     "name": "stdout",
     "output_type": "stream",
     "text": [
      "✅ loaded ULabel record with exact same name: '10.1038/s41587-020-0469-4'\n",
      "✅ loaded: FeatureSet(uid='sUW7EfGxKDsnbaiNKmfa', n=1, registry='core.Feature', hash='GDHfHpyDTyVSYOGwgu69', updated_at=2023-12-06 05:18:04 UTC, created_by_id=1)\n",
      "✅ linked new feature 'DOI' together with new feature set FeatureSet(uid='sUW7EfGxKDsnbaiNKmfa', n=1, registry='core.Feature', hash='GDHfHpyDTyVSYOGwgu69', updated_at=2023-12-06 05:18:05 UTC, created_by_id=1)\n"
     ]
    },
    {
     "name": "stderr",
     "output_type": "stream",
     "text": [
      "\r",
      "48it [00:54,  1.13s/it]"
     ]
    },
    {
     "name": "stdout",
     "output_type": "stream",
     "text": [
      "✅ loaded ULabel record with exact same name: '10.1038/s41587-020-0469-4'\n",
      "✅ loaded: FeatureSet(uid='sUW7EfGxKDsnbaiNKmfa', n=1, registry='core.Feature', hash='GDHfHpyDTyVSYOGwgu69', updated_at=2023-12-06 05:18:05 UTC, created_by_id=1)\n",
      "✅ linked new feature 'DOI' together with new feature set FeatureSet(uid='sUW7EfGxKDsnbaiNKmfa', n=1, registry='core.Feature', hash='GDHfHpyDTyVSYOGwgu69', updated_at=2023-12-06 05:18:06 UTC, created_by_id=1)\n"
     ]
    },
    {
     "name": "stderr",
     "output_type": "stream",
     "text": [
      "\r",
      "49it [00:55,  1.14s/it]"
     ]
    },
    {
     "name": "stdout",
     "output_type": "stream",
     "text": [
      "✅ loaded ULabel record with exact same name: '10.1038/s41587-020-0469-4'\n",
      "✅ loaded: FeatureSet(uid='sUW7EfGxKDsnbaiNKmfa', n=1, registry='core.Feature', hash='GDHfHpyDTyVSYOGwgu69', updated_at=2023-12-06 05:18:06 UTC, created_by_id=1)\n",
      "✅ linked new feature 'DOI' together with new feature set FeatureSet(uid='sUW7EfGxKDsnbaiNKmfa', n=1, registry='core.Feature', hash='GDHfHpyDTyVSYOGwgu69', updated_at=2023-12-06 05:18:08 UTC, created_by_id=1)\n"
     ]
    },
    {
     "name": "stderr",
     "output_type": "stream",
     "text": [
      "\r",
      "50it [00:56,  1.14s/it]"
     ]
    },
    {
     "name": "stdout",
     "output_type": "stream",
     "text": [
      "✅ loaded ULabel record with exact same name: '10.1038/s41587-020-0469-4'\n",
      "✅ loaded: FeatureSet(uid='sUW7EfGxKDsnbaiNKmfa', n=1, registry='core.Feature', hash='GDHfHpyDTyVSYOGwgu69', updated_at=2023-12-06 05:18:08 UTC, created_by_id=1)\n",
      "✅ linked new feature 'DOI' together with new feature set FeatureSet(uid='sUW7EfGxKDsnbaiNKmfa', n=1, registry='core.Feature', hash='GDHfHpyDTyVSYOGwgu69', updated_at=2023-12-06 05:18:09 UTC, created_by_id=1)\n"
     ]
    },
    {
     "name": "stderr",
     "output_type": "stream",
     "text": [
      "\r",
      "51it [00:57,  1.15s/it]"
     ]
    },
    {
     "name": "stdout",
     "output_type": "stream",
     "text": [
      "✅ loaded ULabel record with exact same name: '10.1038/s41587-020-0469-4'\n",
      "✅ loaded: FeatureSet(uid='sUW7EfGxKDsnbaiNKmfa', n=1, registry='core.Feature', hash='GDHfHpyDTyVSYOGwgu69', updated_at=2023-12-06 05:18:09 UTC, created_by_id=1)\n",
      "✅ linked new feature 'DOI' together with new feature set FeatureSet(uid='sUW7EfGxKDsnbaiNKmfa', n=1, registry='core.Feature', hash='GDHfHpyDTyVSYOGwgu69', updated_at=2023-12-06 05:18:10 UTC, created_by_id=1)\n"
     ]
    },
    {
     "name": "stderr",
     "output_type": "stream",
     "text": [
      "\r",
      "52it [00:59,  1.16s/it]"
     ]
    },
    {
     "name": "stdout",
     "output_type": "stream",
     "text": [
      "✅ loaded ULabel record with exact same name: '10.1038/s41587-020-0469-4'\n",
      "✅ loaded: FeatureSet(uid='sUW7EfGxKDsnbaiNKmfa', n=1, registry='core.Feature', hash='GDHfHpyDTyVSYOGwgu69', updated_at=2023-12-06 05:18:10 UTC, created_by_id=1)\n",
      "✅ linked new feature 'DOI' together with new feature set FeatureSet(uid='sUW7EfGxKDsnbaiNKmfa', n=1, registry='core.Feature', hash='GDHfHpyDTyVSYOGwgu69', updated_at=2023-12-06 05:18:11 UTC, created_by_id=1)\n"
     ]
    },
    {
     "name": "stderr",
     "output_type": "stream",
     "text": [
      "\r",
      "53it [01:00,  1.16s/it]"
     ]
    },
    {
     "name": "stdout",
     "output_type": "stream",
     "text": [
      "✅ loaded ULabel record with exact same name: '10.1038/s41587-020-0469-4'\n",
      "✅ loaded: FeatureSet(uid='sUW7EfGxKDsnbaiNKmfa', n=1, registry='core.Feature', hash='GDHfHpyDTyVSYOGwgu69', updated_at=2023-12-06 05:18:11 UTC, created_by_id=1)\n",
      "✅ linked new feature 'DOI' together with new feature set FeatureSet(uid='sUW7EfGxKDsnbaiNKmfa', n=1, registry='core.Feature', hash='GDHfHpyDTyVSYOGwgu69', updated_at=2023-12-06 05:18:12 UTC, created_by_id=1)\n"
     ]
    },
    {
     "name": "stderr",
     "output_type": "stream",
     "text": [
      "\r",
      "54it [01:01,  1.16s/it]"
     ]
    },
    {
     "name": "stdout",
     "output_type": "stream",
     "text": [
      "✅ loaded ULabel record with exact same name: '10.1038/s41587-020-0469-4'\n",
      "✅ loaded: FeatureSet(uid='sUW7EfGxKDsnbaiNKmfa', n=1, registry='core.Feature', hash='GDHfHpyDTyVSYOGwgu69', updated_at=2023-12-06 05:18:12 UTC, created_by_id=1)\n",
      "✅ linked new feature 'DOI' together with new feature set FeatureSet(uid='sUW7EfGxKDsnbaiNKmfa', n=1, registry='core.Feature', hash='GDHfHpyDTyVSYOGwgu69', updated_at=2023-12-06 05:18:13 UTC, created_by_id=1)\n"
     ]
    },
    {
     "name": "stderr",
     "output_type": "stream",
     "text": [
      "\r",
      "55it [01:02,  1.16s/it]"
     ]
    },
    {
     "name": "stdout",
     "output_type": "stream",
     "text": [
      "✅ loaded ULabel record with exact same name: '10.1038/s41587-020-0469-4'\n",
      "✅ loaded: FeatureSet(uid='sUW7EfGxKDsnbaiNKmfa', n=1, registry='core.Feature', hash='GDHfHpyDTyVSYOGwgu69', updated_at=2023-12-06 05:18:13 UTC, created_by_id=1)\n",
      "✅ linked new feature 'DOI' together with new feature set FeatureSet(uid='sUW7EfGxKDsnbaiNKmfa', n=1, registry='core.Feature', hash='GDHfHpyDTyVSYOGwgu69', updated_at=2023-12-06 05:18:15 UTC, created_by_id=1)\n"
     ]
    },
    {
     "name": "stderr",
     "output_type": "stream",
     "text": [
      "\r",
      "56it [01:03,  1.16s/it]"
     ]
    },
    {
     "name": "stdout",
     "output_type": "stream",
     "text": [
      "✅ loaded ULabel record with exact same name: '10.1038/s41587-020-0469-4'\n",
      "✅ loaded: FeatureSet(uid='sUW7EfGxKDsnbaiNKmfa', n=1, registry='core.Feature', hash='GDHfHpyDTyVSYOGwgu69', updated_at=2023-12-06 05:18:15 UTC, created_by_id=1)\n",
      "✅ linked new feature 'DOI' together with new feature set FeatureSet(uid='sUW7EfGxKDsnbaiNKmfa', n=1, registry='core.Feature', hash='GDHfHpyDTyVSYOGwgu69', updated_at=2023-12-06 05:18:16 UTC, created_by_id=1)\n"
     ]
    },
    {
     "name": "stderr",
     "output_type": "stream",
     "text": [
      "\r",
      "57it [01:04,  1.16s/it]"
     ]
    },
    {
     "name": "stdout",
     "output_type": "stream",
     "text": [
      "✅ loaded ULabel record with exact same name: '10.1038/s41587-020-0469-4'\n",
      "✅ loaded: FeatureSet(uid='sUW7EfGxKDsnbaiNKmfa', n=1, registry='core.Feature', hash='GDHfHpyDTyVSYOGwgu69', updated_at=2023-12-06 05:18:16 UTC, created_by_id=1)\n",
      "✅ linked new feature 'DOI' together with new feature set FeatureSet(uid='sUW7EfGxKDsnbaiNKmfa', n=1, registry='core.Feature', hash='GDHfHpyDTyVSYOGwgu69', updated_at=2023-12-06 05:18:17 UTC, created_by_id=1)\n"
     ]
    },
    {
     "name": "stderr",
     "output_type": "stream",
     "text": [
      "\r",
      "58it [01:06,  1.15s/it]"
     ]
    },
    {
     "name": "stdout",
     "output_type": "stream",
     "text": [
      "✅ loaded ULabel record with exact same name: '10.1038/s41587-020-0469-4'\n",
      "✅ loaded: FeatureSet(uid='sUW7EfGxKDsnbaiNKmfa', n=1, registry='core.Feature', hash='GDHfHpyDTyVSYOGwgu69', updated_at=2023-12-06 05:18:17 UTC, created_by_id=1)\n",
      "✅ linked new feature 'DOI' together with new feature set FeatureSet(uid='sUW7EfGxKDsnbaiNKmfa', n=1, registry='core.Feature', hash='GDHfHpyDTyVSYOGwgu69', updated_at=2023-12-06 05:18:18 UTC, created_by_id=1)\n"
     ]
    },
    {
     "name": "stderr",
     "output_type": "stream",
     "text": [
      "\r",
      "59it [01:07,  1.16s/it]"
     ]
    },
    {
     "name": "stdout",
     "output_type": "stream",
     "text": [
      "✅ loaded ULabel record with exact same name: '10.1038/s41587-020-0469-4'\n",
      "✅ loaded: FeatureSet(uid='sUW7EfGxKDsnbaiNKmfa', n=1, registry='core.Feature', hash='GDHfHpyDTyVSYOGwgu69', updated_at=2023-12-06 05:18:18 UTC, created_by_id=1)\n",
      "✅ linked new feature 'DOI' together with new feature set FeatureSet(uid='sUW7EfGxKDsnbaiNKmfa', n=1, registry='core.Feature', hash='GDHfHpyDTyVSYOGwgu69', updated_at=2023-12-06 05:18:19 UTC, created_by_id=1)\n"
     ]
    },
    {
     "name": "stderr",
     "output_type": "stream",
     "text": [
      "\r",
      "60it [01:08,  1.16s/it]"
     ]
    },
    {
     "name": "stdout",
     "output_type": "stream",
     "text": [
      "✅ loaded ULabel record with exact same name: '10.1038/s41587-020-0469-4'\n",
      "✅ loaded: FeatureSet(uid='sUW7EfGxKDsnbaiNKmfa', n=1, registry='core.Feature', hash='GDHfHpyDTyVSYOGwgu69', updated_at=2023-12-06 05:18:19 UTC, created_by_id=1)\n",
      "✅ linked new feature 'DOI' together with new feature set FeatureSet(uid='sUW7EfGxKDsnbaiNKmfa', n=1, registry='core.Feature', hash='GDHfHpyDTyVSYOGwgu69', updated_at=2023-12-06 05:18:20 UTC, created_by_id=1)\n"
     ]
    },
    {
     "name": "stderr",
     "output_type": "stream",
     "text": [
      "\r",
      "61it [01:09,  1.16s/it]"
     ]
    },
    {
     "name": "stdout",
     "output_type": "stream",
     "text": [
      "✅ loaded ULabel record with exact same name: '10.1038/s41587-020-0469-4'\n",
      "✅ loaded: FeatureSet(uid='sUW7EfGxKDsnbaiNKmfa', n=1, registry='core.Feature', hash='GDHfHpyDTyVSYOGwgu69', updated_at=2023-12-06 05:18:20 UTC, created_by_id=1)\n",
      "✅ linked new feature 'DOI' together with new feature set FeatureSet(uid='sUW7EfGxKDsnbaiNKmfa', n=1, registry='core.Feature', hash='GDHfHpyDTyVSYOGwgu69', updated_at=2023-12-06 05:18:22 UTC, created_by_id=1)\n"
     ]
    },
    {
     "name": "stderr",
     "output_type": "stream",
     "text": [
      "\r",
      "62it [01:10,  1.16s/it]"
     ]
    },
    {
     "name": "stdout",
     "output_type": "stream",
     "text": [
      "✅ loaded ULabel record with exact same name: '10.1038/s41587-020-0469-4'\n",
      "✅ loaded: FeatureSet(uid='sUW7EfGxKDsnbaiNKmfa', n=1, registry='core.Feature', hash='GDHfHpyDTyVSYOGwgu69', updated_at=2023-12-06 05:18:22 UTC, created_by_id=1)\n",
      "✅ linked new feature 'DOI' together with new feature set FeatureSet(uid='sUW7EfGxKDsnbaiNKmfa', n=1, registry='core.Feature', hash='GDHfHpyDTyVSYOGwgu69', updated_at=2023-12-06 05:18:23 UTC, created_by_id=1)\n"
     ]
    },
    {
     "name": "stderr",
     "output_type": "stream",
     "text": [
      "\r",
      "63it [01:11,  1.16s/it]"
     ]
    },
    {
     "name": "stdout",
     "output_type": "stream",
     "text": [
      "✅ loaded ULabel record with exact same name: '10.1038/s41587-020-0469-4'\n",
      "✅ loaded: FeatureSet(uid='sUW7EfGxKDsnbaiNKmfa', n=1, registry='core.Feature', hash='GDHfHpyDTyVSYOGwgu69', updated_at=2023-12-06 05:18:23 UTC, created_by_id=1)\n",
      "✅ linked new feature 'DOI' together with new feature set FeatureSet(uid='sUW7EfGxKDsnbaiNKmfa', n=1, registry='core.Feature', hash='GDHfHpyDTyVSYOGwgu69', updated_at=2023-12-06 05:18:24 UTC, created_by_id=1)\n"
     ]
    },
    {
     "name": "stderr",
     "output_type": "stream",
     "text": [
      "\r",
      "64it [01:13,  1.16s/it]"
     ]
    },
    {
     "name": "stdout",
     "output_type": "stream",
     "text": [
      "✅ loaded ULabel record with exact same name: '10.1038/s41587-020-0469-4'\n",
      "✅ loaded: FeatureSet(uid='sUW7EfGxKDsnbaiNKmfa', n=1, registry='core.Feature', hash='GDHfHpyDTyVSYOGwgu69', updated_at=2023-12-06 05:18:24 UTC, created_by_id=1)\n",
      "✅ linked new feature 'DOI' together with new feature set FeatureSet(uid='sUW7EfGxKDsnbaiNKmfa', n=1, registry='core.Feature', hash='GDHfHpyDTyVSYOGwgu69', updated_at=2023-12-06 05:18:25 UTC, created_by_id=1)\n"
     ]
    },
    {
     "name": "stderr",
     "output_type": "stream",
     "text": [
      "\r",
      "65it [01:14,  1.16s/it]"
     ]
    },
    {
     "name": "stdout",
     "output_type": "stream",
     "text": [
      "✅ loaded ULabel record with exact same name: '10.1038/s41587-020-0469-4'\n",
      "✅ loaded: FeatureSet(uid='sUW7EfGxKDsnbaiNKmfa', n=1, registry='core.Feature', hash='GDHfHpyDTyVSYOGwgu69', updated_at=2023-12-06 05:18:25 UTC, created_by_id=1)\n",
      "✅ linked new feature 'DOI' together with new feature set FeatureSet(uid='sUW7EfGxKDsnbaiNKmfa', n=1, registry='core.Feature', hash='GDHfHpyDTyVSYOGwgu69', updated_at=2023-12-06 05:18:26 UTC, created_by_id=1)\n"
     ]
    },
    {
     "name": "stderr",
     "output_type": "stream",
     "text": [
      "\r",
      "66it [01:15,  1.16s/it]"
     ]
    },
    {
     "name": "stdout",
     "output_type": "stream",
     "text": [
      "✅ loaded ULabel record with exact same name: '10.1038/s41587-020-0469-4'\n",
      "✅ loaded: FeatureSet(uid='sUW7EfGxKDsnbaiNKmfa', n=1, registry='core.Feature', hash='GDHfHpyDTyVSYOGwgu69', updated_at=2023-12-06 05:18:26 UTC, created_by_id=1)\n",
      "✅ linked new feature 'DOI' together with new feature set FeatureSet(uid='sUW7EfGxKDsnbaiNKmfa', n=1, registry='core.Feature', hash='GDHfHpyDTyVSYOGwgu69', updated_at=2023-12-06 05:18:27 UTC, created_by_id=1)\n"
     ]
    },
    {
     "name": "stderr",
     "output_type": "stream",
     "text": [
      "\r",
      "67it [01:16,  1.15s/it]"
     ]
    },
    {
     "name": "stdout",
     "output_type": "stream",
     "text": [
      "✅ loaded ULabel record with exact same name: '10.1038/s41587-020-0469-4'\n",
      "✅ loaded: FeatureSet(uid='sUW7EfGxKDsnbaiNKmfa', n=1, registry='core.Feature', hash='GDHfHpyDTyVSYOGwgu69', updated_at=2023-12-06 05:18:27 UTC, created_by_id=1)\n",
      "✅ linked new feature 'DOI' together with new feature set FeatureSet(uid='sUW7EfGxKDsnbaiNKmfa', n=1, registry='core.Feature', hash='GDHfHpyDTyVSYOGwgu69', updated_at=2023-12-06 05:18:28 UTC, created_by_id=1)\n"
     ]
    },
    {
     "name": "stderr",
     "output_type": "stream",
     "text": [
      "\r",
      "68it [01:17,  1.15s/it]"
     ]
    },
    {
     "name": "stdout",
     "output_type": "stream",
     "text": [
      "✅ loaded ULabel record with exact same name: '10.1038/s41587-020-0469-4'\n",
      "✅ loaded: FeatureSet(uid='sUW7EfGxKDsnbaiNKmfa', n=1, registry='core.Feature', hash='GDHfHpyDTyVSYOGwgu69', updated_at=2023-12-06 05:18:28 UTC, created_by_id=1)\n",
      "✅ linked new feature 'DOI' together with new feature set FeatureSet(uid='sUW7EfGxKDsnbaiNKmfa', n=1, registry='core.Feature', hash='GDHfHpyDTyVSYOGwgu69', updated_at=2023-12-06 05:18:30 UTC, created_by_id=1)\n"
     ]
    },
    {
     "name": "stderr",
     "output_type": "stream",
     "text": [
      "\r",
      "69it [01:18,  1.16s/it]"
     ]
    },
    {
     "name": "stdout",
     "output_type": "stream",
     "text": [
      "✅ loaded ULabel record with exact same name: '10.1038/s41587-020-0469-4'\n",
      "✅ loaded: FeatureSet(uid='sUW7EfGxKDsnbaiNKmfa', n=1, registry='core.Feature', hash='GDHfHpyDTyVSYOGwgu69', updated_at=2023-12-06 05:18:30 UTC, created_by_id=1)\n",
      "✅ linked new feature 'DOI' together with new feature set FeatureSet(uid='sUW7EfGxKDsnbaiNKmfa', n=1, registry='core.Feature', hash='GDHfHpyDTyVSYOGwgu69', updated_at=2023-12-06 05:18:31 UTC, created_by_id=1)\n"
     ]
    },
    {
     "name": "stderr",
     "output_type": "stream",
     "text": [
      "\r",
      "70it [01:19,  1.16s/it]"
     ]
    },
    {
     "name": "stdout",
     "output_type": "stream",
     "text": [
      "✅ loaded ULabel record with exact same name: '10.1038/s41587-020-0469-4'\n",
      "✅ loaded: FeatureSet(uid='sUW7EfGxKDsnbaiNKmfa', n=1, registry='core.Feature', hash='GDHfHpyDTyVSYOGwgu69', updated_at=2023-12-06 05:18:31 UTC, created_by_id=1)\n",
      "✅ linked new feature 'DOI' together with new feature set FeatureSet(uid='sUW7EfGxKDsnbaiNKmfa', n=1, registry='core.Feature', hash='GDHfHpyDTyVSYOGwgu69', updated_at=2023-12-06 05:18:32 UTC, created_by_id=1)\n"
     ]
    },
    {
     "name": "stderr",
     "output_type": "stream",
     "text": [
      "\r",
      "71it [01:21,  1.16s/it]"
     ]
    },
    {
     "name": "stdout",
     "output_type": "stream",
     "text": [
      "✅ loaded ULabel record with exact same name: '10.1038/s41587-020-0469-4'\n",
      "✅ loaded: FeatureSet(uid='sUW7EfGxKDsnbaiNKmfa', n=1, registry='core.Feature', hash='GDHfHpyDTyVSYOGwgu69', updated_at=2023-12-06 05:18:32 UTC, created_by_id=1)\n",
      "✅ linked new feature 'DOI' together with new feature set FeatureSet(uid='sUW7EfGxKDsnbaiNKmfa', n=1, registry='core.Feature', hash='GDHfHpyDTyVSYOGwgu69', updated_at=2023-12-06 05:18:33 UTC, created_by_id=1)\n"
     ]
    },
    {
     "name": "stderr",
     "output_type": "stream",
     "text": [
      "\r",
      "72it [01:22,  1.16s/it]"
     ]
    },
    {
     "name": "stdout",
     "output_type": "stream",
     "text": [
      "✅ loaded ULabel record with exact same name: '10.1038/s41587-020-0469-4'\n",
      "✅ loaded: FeatureSet(uid='sUW7EfGxKDsnbaiNKmfa', n=1, registry='core.Feature', hash='GDHfHpyDTyVSYOGwgu69', updated_at=2023-12-06 05:18:33 UTC, created_by_id=1)\n",
      "✅ linked new feature 'DOI' together with new feature set FeatureSet(uid='sUW7EfGxKDsnbaiNKmfa', n=1, registry='core.Feature', hash='GDHfHpyDTyVSYOGwgu69', updated_at=2023-12-06 05:18:34 UTC, created_by_id=1)\n"
     ]
    },
    {
     "name": "stderr",
     "output_type": "stream",
     "text": [
      "\r",
      "73it [01:23,  1.16s/it]"
     ]
    },
    {
     "name": "stdout",
     "output_type": "stream",
     "text": [
      "✅ loaded ULabel record with exact same name: '10.1038/s41587-020-0469-4'\n",
      "✅ loaded: FeatureSet(uid='sUW7EfGxKDsnbaiNKmfa', n=1, registry='core.Feature', hash='GDHfHpyDTyVSYOGwgu69', updated_at=2023-12-06 05:18:34 UTC, created_by_id=1)\n",
      "✅ linked new feature 'DOI' together with new feature set FeatureSet(uid='sUW7EfGxKDsnbaiNKmfa', n=1, registry='core.Feature', hash='GDHfHpyDTyVSYOGwgu69', updated_at=2023-12-06 05:18:35 UTC, created_by_id=1)\n"
     ]
    },
    {
     "name": "stderr",
     "output_type": "stream",
     "text": [
      "\r",
      "74it [01:24,  1.17s/it]"
     ]
    },
    {
     "name": "stdout",
     "output_type": "stream",
     "text": [
      "✅ loaded ULabel record with exact same name: '10.1038/s41587-020-0469-4'\n",
      "✅ loaded: FeatureSet(uid='sUW7EfGxKDsnbaiNKmfa', n=1, registry='core.Feature', hash='GDHfHpyDTyVSYOGwgu69', updated_at=2023-12-06 05:18:35 UTC, created_by_id=1)\n",
      "✅ linked new feature 'DOI' together with new feature set FeatureSet(uid='sUW7EfGxKDsnbaiNKmfa', n=1, registry='core.Feature', hash='GDHfHpyDTyVSYOGwgu69', updated_at=2023-12-06 05:18:37 UTC, created_by_id=1)\n"
     ]
    },
    {
     "name": "stderr",
     "output_type": "stream",
     "text": [
      "\r",
      "75it [01:25,  1.16s/it]"
     ]
    },
    {
     "name": "stdout",
     "output_type": "stream",
     "text": [
      "✅ loaded ULabel record with exact same name: '10.1038/s41587-020-0469-4'\n",
      "✅ loaded: FeatureSet(uid='sUW7EfGxKDsnbaiNKmfa', n=1, registry='core.Feature', hash='GDHfHpyDTyVSYOGwgu69', updated_at=2023-12-06 05:18:37 UTC, created_by_id=1)\n",
      "✅ linked new feature 'DOI' together with new feature set FeatureSet(uid='sUW7EfGxKDsnbaiNKmfa', n=1, registry='core.Feature', hash='GDHfHpyDTyVSYOGwgu69', updated_at=2023-12-06 05:18:38 UTC, created_by_id=1)\n"
     ]
    },
    {
     "name": "stderr",
     "output_type": "stream",
     "text": [
      "\r",
      "76it [01:26,  1.16s/it]"
     ]
    },
    {
     "name": "stdout",
     "output_type": "stream",
     "text": [
      "✅ loaded ULabel record with exact same name: 'NA'\n",
      "✅ loaded: FeatureSet(uid='sUW7EfGxKDsnbaiNKmfa', n=1, registry='core.Feature', hash='GDHfHpyDTyVSYOGwgu69', updated_at=2023-12-06 05:18:38 UTC, created_by_id=1)\n",
      "✅ linked new feature 'DOI' together with new feature set FeatureSet(uid='sUW7EfGxKDsnbaiNKmfa', n=1, registry='core.Feature', hash='GDHfHpyDTyVSYOGwgu69', updated_at=2023-12-06 05:18:39 UTC, created_by_id=1)\n"
     ]
    },
    {
     "name": "stderr",
     "output_type": "stream",
     "text": [
      "\r",
      "77it [01:28,  1.16s/it]"
     ]
    },
    {
     "name": "stdout",
     "output_type": "stream",
     "text": [
      "✅ loaded: FeatureSet(uid='sUW7EfGxKDsnbaiNKmfa', n=1, registry='core.Feature', hash='GDHfHpyDTyVSYOGwgu69', updated_at=2023-12-06 05:18:39 UTC, created_by_id=1)\n",
      "✅ linked new feature 'DOI' together with new feature set FeatureSet(uid='sUW7EfGxKDsnbaiNKmfa', n=1, registry='core.Feature', hash='GDHfHpyDTyVSYOGwgu69', updated_at=2023-12-06 05:18:40 UTC, created_by_id=1)\n"
     ]
    },
    {
     "name": "stderr",
     "output_type": "stream",
     "text": [
      "\r",
      "78it [01:29,  1.14s/it]"
     ]
    },
    {
     "name": "stdout",
     "output_type": "stream",
     "text": [
      "✅ loaded ULabel record with exact same name: '10.1016/j.cell.2018.08.067'\n",
      "✅ loaded: FeatureSet(uid='sUW7EfGxKDsnbaiNKmfa', n=1, registry='core.Feature', hash='GDHfHpyDTyVSYOGwgu69', updated_at=2023-12-06 05:18:40 UTC, created_by_id=1)\n",
      "✅ linked new feature 'DOI' together with new feature set FeatureSet(uid='sUW7EfGxKDsnbaiNKmfa', n=1, registry='core.Feature', hash='GDHfHpyDTyVSYOGwgu69', updated_at=2023-12-06 05:18:41 UTC, created_by_id=1)\n"
     ]
    },
    {
     "name": "stderr",
     "output_type": "stream",
     "text": [
      "\r",
      "79it [01:30,  1.15s/it]"
     ]
    },
    {
     "name": "stdout",
     "output_type": "stream",
     "text": [
      "✅ loaded ULabel record with exact same name: '10.1016/j.cell.2018.08.067'\n",
      "✅ loaded: FeatureSet(uid='sUW7EfGxKDsnbaiNKmfa', n=1, registry='core.Feature', hash='GDHfHpyDTyVSYOGwgu69', updated_at=2023-12-06 05:18:41 UTC, created_by_id=1)\n",
      "✅ linked new feature 'DOI' together with new feature set FeatureSet(uid='sUW7EfGxKDsnbaiNKmfa', n=1, registry='core.Feature', hash='GDHfHpyDTyVSYOGwgu69', updated_at=2023-12-06 05:18:42 UTC, created_by_id=1)\n"
     ]
    },
    {
     "name": "stderr",
     "output_type": "stream",
     "text": [
      "\r",
      "80it [01:31,  1.17s/it]"
     ]
    },
    {
     "name": "stdout",
     "output_type": "stream",
     "text": [
      "✅ loaded: FeatureSet(uid='sUW7EfGxKDsnbaiNKmfa', n=1, registry='core.Feature', hash='GDHfHpyDTyVSYOGwgu69', updated_at=2023-12-06 05:18:42 UTC, created_by_id=1)\n",
      "✅ linked new feature 'DOI' together with new feature set FeatureSet(uid='sUW7EfGxKDsnbaiNKmfa', n=1, registry='core.Feature', hash='GDHfHpyDTyVSYOGwgu69', updated_at=2023-12-06 05:18:43 UTC, created_by_id=1)\n"
     ]
    },
    {
     "name": "stderr",
     "output_type": "stream",
     "text": [
      "\r",
      "81it [01:32,  1.14s/it]"
     ]
    },
    {
     "name": "stdout",
     "output_type": "stream",
     "text": [
      "✅ loaded ULabel record with exact same name: 'NA'\n",
      "✅ loaded: FeatureSet(uid='sUW7EfGxKDsnbaiNKmfa', n=1, registry='core.Feature', hash='GDHfHpyDTyVSYOGwgu69', updated_at=2023-12-06 05:18:43 UTC, created_by_id=1)\n",
      "✅ linked new feature 'DOI' together with new feature set FeatureSet(uid='sUW7EfGxKDsnbaiNKmfa', n=1, registry='core.Feature', hash='GDHfHpyDTyVSYOGwgu69', updated_at=2023-12-06 05:18:45 UTC, created_by_id=1)\n"
     ]
    },
    {
     "name": "stderr",
     "output_type": "stream",
     "text": [
      "\r",
      "82it [01:33,  1.15s/it]"
     ]
    },
    {
     "name": "stdout",
     "output_type": "stream",
     "text": [
      "✅ loaded ULabel record with exact same name: 'NA'\n",
      "✅ loaded: FeatureSet(uid='sUW7EfGxKDsnbaiNKmfa', n=1, registry='core.Feature', hash='GDHfHpyDTyVSYOGwgu69', updated_at=2023-12-06 05:18:45 UTC, created_by_id=1)\n",
      "✅ linked new feature 'DOI' together with new feature set FeatureSet(uid='sUW7EfGxKDsnbaiNKmfa', n=1, registry='core.Feature', hash='GDHfHpyDTyVSYOGwgu69', updated_at=2023-12-06 05:18:46 UTC, created_by_id=1)\n"
     ]
    },
    {
     "name": "stderr",
     "output_type": "stream",
     "text": [
      "\r",
      "83it [01:34,  1.15s/it]"
     ]
    },
    {
     "name": "stdout",
     "output_type": "stream",
     "text": [
      "✅ loaded ULabel record with exact same name: 'NA'\n",
      "✅ loaded: FeatureSet(uid='sUW7EfGxKDsnbaiNKmfa', n=1, registry='core.Feature', hash='GDHfHpyDTyVSYOGwgu69', updated_at=2023-12-06 05:18:46 UTC, created_by_id=1)\n",
      "✅ linked new feature 'DOI' together with new feature set FeatureSet(uid='sUW7EfGxKDsnbaiNKmfa', n=1, registry='core.Feature', hash='GDHfHpyDTyVSYOGwgu69', updated_at=2023-12-06 05:18:47 UTC, created_by_id=1)\n"
     ]
    },
    {
     "name": "stderr",
     "output_type": "stream",
     "text": [
      "\r",
      "84it [01:36,  1.16s/it]"
     ]
    },
    {
     "name": "stdout",
     "output_type": "stream",
     "text": [
      "✅ loaded ULabel record with exact same name: 'NA'\n",
      "✅ loaded: FeatureSet(uid='sUW7EfGxKDsnbaiNKmfa', n=1, registry='core.Feature', hash='GDHfHpyDTyVSYOGwgu69', updated_at=2023-12-06 05:18:47 UTC, created_by_id=1)\n",
      "✅ linked new feature 'DOI' together with new feature set FeatureSet(uid='sUW7EfGxKDsnbaiNKmfa', n=1, registry='core.Feature', hash='GDHfHpyDTyVSYOGwgu69', updated_at=2023-12-06 05:18:48 UTC, created_by_id=1)\n"
     ]
    },
    {
     "name": "stderr",
     "output_type": "stream",
     "text": [
      "\r",
      "85it [01:37,  1.16s/it]"
     ]
    },
    {
     "name": "stdout",
     "output_type": "stream",
     "text": [
      "✅ loaded: FeatureSet(uid='sUW7EfGxKDsnbaiNKmfa', n=1, registry='core.Feature', hash='GDHfHpyDTyVSYOGwgu69', updated_at=2023-12-06 05:18:48 UTC, created_by_id=1)\n",
      "✅ linked new feature 'DOI' together with new feature set FeatureSet(uid='sUW7EfGxKDsnbaiNKmfa', n=1, registry='core.Feature', hash='GDHfHpyDTyVSYOGwgu69', updated_at=2023-12-06 05:18:49 UTC, created_by_id=1)\n"
     ]
    },
    {
     "name": "stderr",
     "output_type": "stream",
     "text": [
      "\r",
      "86it [01:38,  1.13s/it]"
     ]
    },
    {
     "name": "stdout",
     "output_type": "stream",
     "text": [
      "✅ loaded: FeatureSet(uid='sUW7EfGxKDsnbaiNKmfa', n=1, registry='core.Feature', hash='GDHfHpyDTyVSYOGwgu69', updated_at=2023-12-06 05:18:49 UTC, created_by_id=1)\n",
      "✅ linked new feature 'DOI' together with new feature set FeatureSet(uid='sUW7EfGxKDsnbaiNKmfa', n=1, registry='core.Feature', hash='GDHfHpyDTyVSYOGwgu69', updated_at=2023-12-06 05:18:50 UTC, created_by_id=1)\n"
     ]
    },
    {
     "name": "stderr",
     "output_type": "stream",
     "text": [
      "\r",
      "87it [01:39,  1.13s/it]"
     ]
    },
    {
     "name": "stdout",
     "output_type": "stream",
     "text": [
      "✅ loaded ULabel record with exact same name: '10.1126/science.aau5324'\n",
      "✅ loaded: FeatureSet(uid='sUW7EfGxKDsnbaiNKmfa', n=1, registry='core.Feature', hash='GDHfHpyDTyVSYOGwgu69', updated_at=2023-12-06 05:18:50 UTC, created_by_id=1)\n",
      "✅ linked new feature 'DOI' together with new feature set FeatureSet(uid='sUW7EfGxKDsnbaiNKmfa', n=1, registry='core.Feature', hash='GDHfHpyDTyVSYOGwgu69', updated_at=2023-12-06 05:18:52 UTC, created_by_id=1)\n"
     ]
    },
    {
     "name": "stderr",
     "output_type": "stream",
     "text": [
      "\r",
      "88it [01:40,  1.14s/it]"
     ]
    },
    {
     "name": "stdout",
     "output_type": "stream",
     "text": [
      "✅ loaded ULabel record with exact same name: '10.1016/j.cell.2015.04.044'\n",
      "✅ loaded: FeatureSet(uid='sUW7EfGxKDsnbaiNKmfa', n=1, registry='core.Feature', hash='GDHfHpyDTyVSYOGwgu69', updated_at=2023-12-06 05:18:52 UTC, created_by_id=1)\n",
      "✅ linked new feature 'DOI' together with new feature set FeatureSet(uid='sUW7EfGxKDsnbaiNKmfa', n=1, registry='core.Feature', hash='GDHfHpyDTyVSYOGwgu69', updated_at=2023-12-06 05:18:53 UTC, created_by_id=1)\n"
     ]
    },
    {
     "name": "stderr",
     "output_type": "stream",
     "text": [
      "\r",
      "89it [01:41,  1.15s/it]"
     ]
    },
    {
     "name": "stdout",
     "output_type": "stream",
     "text": [
      "✅ loaded ULabel record with exact same name: '10.1016/j.cell.2015.04.044'\n",
      "✅ loaded: FeatureSet(uid='sUW7EfGxKDsnbaiNKmfa', n=1, registry='core.Feature', hash='GDHfHpyDTyVSYOGwgu69', updated_at=2023-12-06 05:18:53 UTC, created_by_id=1)\n",
      "✅ linked new feature 'DOI' together with new feature set FeatureSet(uid='sUW7EfGxKDsnbaiNKmfa', n=1, registry='core.Feature', hash='GDHfHpyDTyVSYOGwgu69', updated_at=2023-12-06 05:18:54 UTC, created_by_id=1)\n"
     ]
    },
    {
     "name": "stderr",
     "output_type": "stream",
     "text": [
      "\r",
      "90it [01:42,  1.15s/it]"
     ]
    },
    {
     "name": "stdout",
     "output_type": "stream",
     "text": [
      "✅ loaded ULabel record with exact same name: '10.1016/j.cell.2015.05.002'\n",
      "✅ loaded: FeatureSet(uid='sUW7EfGxKDsnbaiNKmfa', n=1, registry='core.Feature', hash='GDHfHpyDTyVSYOGwgu69', updated_at=2023-12-06 05:18:54 UTC, created_by_id=1)\n",
      "✅ linked new feature 'DOI' together with new feature set FeatureSet(uid='sUW7EfGxKDsnbaiNKmfa', n=1, registry='core.Feature', hash='GDHfHpyDTyVSYOGwgu69', updated_at=2023-12-06 05:18:55 UTC, created_by_id=1)\n"
     ]
    },
    {
     "name": "stderr",
     "output_type": "stream",
     "text": [
      "\r",
      "91it [01:44,  1.16s/it]"
     ]
    },
    {
     "name": "stdout",
     "output_type": "stream",
     "text": [
      "✅ loaded ULabel record with exact same name: '10.1016/j.cell.2015.05.002'\n",
      "✅ loaded: FeatureSet(uid='sUW7EfGxKDsnbaiNKmfa', n=1, registry='core.Feature', hash='GDHfHpyDTyVSYOGwgu69', updated_at=2023-12-06 05:18:55 UTC, created_by_id=1)\n",
      "✅ linked new feature 'DOI' together with new feature set FeatureSet(uid='sUW7EfGxKDsnbaiNKmfa', n=1, registry='core.Feature', hash='GDHfHpyDTyVSYOGwgu69', updated_at=2023-12-06 05:18:56 UTC, created_by_id=1)\n"
     ]
    },
    {
     "name": "stderr",
     "output_type": "stream",
     "text": [
      "\r",
      "92it [01:45,  1.15s/it]"
     ]
    },
    {
     "name": "stdout",
     "output_type": "stream",
     "text": [
      "✅ loaded ULabel record with exact same name: '10.1038/nmeth.4220'\n",
      "✅ loaded: FeatureSet(uid='sUW7EfGxKDsnbaiNKmfa', n=1, registry='core.Feature', hash='GDHfHpyDTyVSYOGwgu69', updated_at=2023-12-06 05:18:56 UTC, created_by_id=1)\n",
      "✅ linked new feature 'DOI' together with new feature set FeatureSet(uid='sUW7EfGxKDsnbaiNKmfa', n=1, registry='core.Feature', hash='GDHfHpyDTyVSYOGwgu69', updated_at=2023-12-06 05:18:57 UTC, created_by_id=1)\n"
     ]
    },
    {
     "name": "stderr",
     "output_type": "stream",
     "text": [
      "\r",
      "93it [01:46,  1.15s/it]"
     ]
    },
    {
     "name": "stdout",
     "output_type": "stream",
     "text": [
      "✅ loaded ULabel record with exact same name: '10.1038/ncomms14049'\n",
      "✅ loaded: FeatureSet(uid='sUW7EfGxKDsnbaiNKmfa', n=1, registry='core.Feature', hash='GDHfHpyDTyVSYOGwgu69', updated_at=2023-12-06 05:18:57 UTC, created_by_id=1)\n",
      "✅ linked new feature 'DOI' together with new feature set FeatureSet(uid='sUW7EfGxKDsnbaiNKmfa', n=1, registry='core.Feature', hash='GDHfHpyDTyVSYOGwgu69', updated_at=2023-12-06 05:18:58 UTC, created_by_id=1)\n"
     ]
    },
    {
     "name": "stderr",
     "output_type": "stream",
     "text": [
      "\r",
      "94it [01:47,  1.15s/it]"
     ]
    },
    {
     "name": "stdout",
     "output_type": "stream",
     "text": [
      "✅ loaded: FeatureSet(uid='sUW7EfGxKDsnbaiNKmfa', n=1, registry='core.Feature', hash='GDHfHpyDTyVSYOGwgu69', updated_at=2023-12-06 05:18:58 UTC, created_by_id=1)\n",
      "✅ linked new feature 'DOI' together with new feature set FeatureSet(uid='sUW7EfGxKDsnbaiNKmfa', n=1, registry='core.Feature', hash='GDHfHpyDTyVSYOGwgu69', updated_at=2023-12-06 05:19:00 UTC, created_by_id=1)\n"
     ]
    },
    {
     "name": "stderr",
     "output_type": "stream",
     "text": [
      "\r",
      "95it [01:48,  1.14s/it]"
     ]
    },
    {
     "name": "stdout",
     "output_type": "stream",
     "text": [
      "✅ loaded: FeatureSet(uid='sUW7EfGxKDsnbaiNKmfa', n=1, registry='core.Feature', hash='GDHfHpyDTyVSYOGwgu69', updated_at=2023-12-06 05:19:00 UTC, created_by_id=1)\n",
      "✅ linked new feature 'DOI' together with new feature set FeatureSet(uid='sUW7EfGxKDsnbaiNKmfa', n=1, registry='core.Feature', hash='GDHfHpyDTyVSYOGwgu69', updated_at=2023-12-06 05:19:01 UTC, created_by_id=1)\n"
     ]
    },
    {
     "name": "stderr",
     "output_type": "stream",
     "text": [
      "\r",
      "96it [01:49,  1.14s/it]"
     ]
    },
    {
     "name": "stdout",
     "output_type": "stream",
     "text": [
      "✅ loaded: FeatureSet(uid='sUW7EfGxKDsnbaiNKmfa', n=1, registry='core.Feature', hash='GDHfHpyDTyVSYOGwgu69', updated_at=2023-12-06 05:19:01 UTC, created_by_id=1)\n",
      "✅ linked new feature 'DOI' together with new feature set FeatureSet(uid='sUW7EfGxKDsnbaiNKmfa', n=1, registry='core.Feature', hash='GDHfHpyDTyVSYOGwgu69', updated_at=2023-12-06 05:19:02 UTC, created_by_id=1)\n"
     ]
    },
    {
     "name": "stderr",
     "output_type": "stream",
     "text": [
      "\r",
      "97it [01:50,  1.14s/it]"
     ]
    },
    {
     "name": "stdout",
     "output_type": "stream",
     "text": [
      "✅ loaded: FeatureSet(uid='sUW7EfGxKDsnbaiNKmfa', n=1, registry='core.Feature', hash='GDHfHpyDTyVSYOGwgu69', updated_at=2023-12-06 05:19:02 UTC, created_by_id=1)\n",
      "✅ linked new feature 'DOI' together with new feature set FeatureSet(uid='sUW7EfGxKDsnbaiNKmfa', n=1, registry='core.Feature', hash='GDHfHpyDTyVSYOGwgu69', updated_at=2023-12-06 05:19:03 UTC, created_by_id=1)\n"
     ]
    },
    {
     "name": "stderr",
     "output_type": "stream",
     "text": [
      "\r",
      "98it [01:52,  1.13s/it]"
     ]
    },
    {
     "name": "stdout",
     "output_type": "stream",
     "text": [
      "✅ loaded ULabel record with exact same name: '10.1016/j.cell.2021.01.053'\n",
      "✅ loaded: FeatureSet(uid='sUW7EfGxKDsnbaiNKmfa', n=1, registry='core.Feature', hash='GDHfHpyDTyVSYOGwgu69', updated_at=2023-12-06 05:19:03 UTC, created_by_id=1)\n",
      "✅ linked new feature 'DOI' together with new feature set FeatureSet(uid='sUW7EfGxKDsnbaiNKmfa', n=1, registry='core.Feature', hash='GDHfHpyDTyVSYOGwgu69', updated_at=2023-12-06 05:19:04 UTC, created_by_id=1)\n"
     ]
    },
    {
     "name": "stderr",
     "output_type": "stream",
     "text": [
      "\r",
      "99it [01:53,  1.15s/it]"
     ]
    },
    {
     "name": "stdout",
     "output_type": "stream",
     "text": [
      "✅ loaded ULabel record with exact same name: '10.1016/j.cell.2018.07.028'\n",
      "✅ loaded: FeatureSet(uid='sUW7EfGxKDsnbaiNKmfa', n=1, registry='core.Feature', hash='GDHfHpyDTyVSYOGwgu69', updated_at=2023-12-06 05:19:04 UTC, created_by_id=1)\n",
      "✅ linked new feature 'DOI' together with new feature set FeatureSet(uid='sUW7EfGxKDsnbaiNKmfa', n=1, registry='core.Feature', hash='GDHfHpyDTyVSYOGwgu69', updated_at=2023-12-06 05:19:05 UTC, created_by_id=1)\n"
     ]
    },
    {
     "name": "stderr",
     "output_type": "stream",
     "text": [
      "\r",
      "100it [01:54,  1.15s/it]"
     ]
    },
    {
     "name": "stdout",
     "output_type": "stream",
     "text": [
      "✅ loaded: FeatureSet(uid='sUW7EfGxKDsnbaiNKmfa', n=1, registry='core.Feature', hash='GDHfHpyDTyVSYOGwgu69', updated_at=2023-12-06 05:19:05 UTC, created_by_id=1)\n",
      "✅ linked new feature 'DOI' together with new feature set FeatureSet(uid='sUW7EfGxKDsnbaiNKmfa', n=1, registry='core.Feature', hash='GDHfHpyDTyVSYOGwgu69', updated_at=2023-12-06 05:19:06 UTC, created_by_id=1)\n"
     ]
    },
    {
     "name": "stderr",
     "output_type": "stream",
     "text": [
      "\r",
      "101it [01:55,  1.14s/it]"
     ]
    },
    {
     "name": "stdout",
     "output_type": "stream",
     "text": [
      "✅ loaded ULabel record with exact same name: '10.1016/j.neuron.2016.10.001'\n",
      "✅ loaded: FeatureSet(uid='sUW7EfGxKDsnbaiNKmfa', n=1, registry='core.Feature', hash='GDHfHpyDTyVSYOGwgu69', updated_at=2023-12-06 05:19:06 UTC, created_by_id=1)\n",
      "✅ linked new feature 'DOI' together with new feature set FeatureSet(uid='sUW7EfGxKDsnbaiNKmfa', n=1, registry='core.Feature', hash='GDHfHpyDTyVSYOGwgu69', updated_at=2023-12-06 05:19:08 UTC, created_by_id=1)\n"
     ]
    },
    {
     "name": "stderr",
     "output_type": "stream",
     "text": [
      "\r",
      "102it [01:56,  1.15s/it]"
     ]
    },
    {
     "name": "stdout",
     "output_type": "stream",
     "text": [
      "✅ loaded: FeatureSet(uid='sUW7EfGxKDsnbaiNKmfa', n=1, registry='core.Feature', hash='GDHfHpyDTyVSYOGwgu69', updated_at=2023-12-06 05:19:08 UTC, created_by_id=1)\n",
      "✅ linked new feature 'DOI' together with new feature set FeatureSet(uid='sUW7EfGxKDsnbaiNKmfa', n=1, registry='core.Feature', hash='GDHfHpyDTyVSYOGwgu69', updated_at=2023-12-06 05:19:09 UTC, created_by_id=1)\n"
     ]
    },
    {
     "name": "stderr",
     "output_type": "stream",
     "text": [
      "\r",
      "103it [01:57,  1.16s/it]"
     ]
    },
    {
     "name": "stdout",
     "output_type": "stream",
     "text": [
      "✅ loaded ULabel record with exact same name: '10.1126/science.aaw1219'\n",
      "✅ loaded: FeatureSet(uid='sUW7EfGxKDsnbaiNKmfa', n=1, registry='core.Feature', hash='GDHfHpyDTyVSYOGwgu69', updated_at=2023-12-06 05:19:09 UTC, created_by_id=1)\n",
      "✅ linked new feature 'DOI' together with new feature set FeatureSet(uid='sUW7EfGxKDsnbaiNKmfa', n=1, registry='core.Feature', hash='GDHfHpyDTyVSYOGwgu69', updated_at=2023-12-06 05:19:10 UTC, created_by_id=1)\n"
     ]
    },
    {
     "name": "stderr",
     "output_type": "stream",
     "text": [
      "\r",
      "104it [01:59,  1.16s/it]"
     ]
    },
    {
     "name": "stdout",
     "output_type": "stream",
     "text": [
      "✅ loaded ULabel record with exact same name: '10.1126/science.aaw1219'\n",
      "✅ loaded: FeatureSet(uid='sUW7EfGxKDsnbaiNKmfa', n=1, registry='core.Feature', hash='GDHfHpyDTyVSYOGwgu69', updated_at=2023-12-06 05:19:10 UTC, created_by_id=1)\n",
      "✅ linked new feature 'DOI' together with new feature set FeatureSet(uid='sUW7EfGxKDsnbaiNKmfa', n=1, registry='core.Feature', hash='GDHfHpyDTyVSYOGwgu69', updated_at=2023-12-06 05:19:11 UTC, created_by_id=1)\n"
     ]
    },
    {
     "name": "stderr",
     "output_type": "stream",
     "text": [
      "\r",
      "105it [02:00,  1.16s/it]"
     ]
    },
    {
     "name": "stdout",
     "output_type": "stream",
     "text": [
      "✅ loaded ULabel record with exact same name: '10.1126/science.aaw1219'\n",
      "✅ loaded: FeatureSet(uid='sUW7EfGxKDsnbaiNKmfa', n=1, registry='core.Feature', hash='GDHfHpyDTyVSYOGwgu69', updated_at=2023-12-06 05:19:11 UTC, created_by_id=1)\n",
      "✅ linked new feature 'DOI' together with new feature set FeatureSet(uid='sUW7EfGxKDsnbaiNKmfa', n=1, registry='core.Feature', hash='GDHfHpyDTyVSYOGwgu69', updated_at=2023-12-06 05:19:12 UTC, created_by_id=1)\n"
     ]
    },
    {
     "name": "stderr",
     "output_type": "stream",
     "text": [
      "\r",
      "106it [02:01,  1.16s/it]"
     ]
    },
    {
     "name": "stdout",
     "output_type": "stream",
     "text": [
      "✅ loaded ULabel record with exact same name: '10.1126/science.aaw1219'\n",
      "✅ loaded: FeatureSet(uid='sUW7EfGxKDsnbaiNKmfa', n=1, registry='core.Feature', hash='GDHfHpyDTyVSYOGwgu69', updated_at=2023-12-06 05:19:12 UTC, created_by_id=1)\n",
      "✅ linked new feature 'DOI' together with new feature set FeatureSet(uid='sUW7EfGxKDsnbaiNKmfa', n=1, registry='core.Feature', hash='GDHfHpyDTyVSYOGwgu69', updated_at=2023-12-06 05:19:13 UTC, created_by_id=1)\n"
     ]
    },
    {
     "name": "stderr",
     "output_type": "stream",
     "text": [
      "\r",
      "107it [02:02,  1.16s/it]"
     ]
    },
    {
     "name": "stdout",
     "output_type": "stream",
     "text": [
      "✅ loaded ULabel record with exact same name: '10.1126/science.aaw1219'\n",
      "✅ loaded: FeatureSet(uid='sUW7EfGxKDsnbaiNKmfa', n=1, registry='core.Feature', hash='GDHfHpyDTyVSYOGwgu69', updated_at=2023-12-06 05:19:13 UTC, created_by_id=1)\n",
      "✅ linked new feature 'DOI' together with new feature set FeatureSet(uid='sUW7EfGxKDsnbaiNKmfa', n=1, registry='core.Feature', hash='GDHfHpyDTyVSYOGwgu69', updated_at=2023-12-06 05:19:15 UTC, created_by_id=1)\n"
     ]
    },
    {
     "name": "stderr",
     "output_type": "stream",
     "text": [
      "\r",
      "108it [02:03,  1.16s/it]"
     ]
    },
    {
     "name": "stdout",
     "output_type": "stream",
     "text": [
      "✅ loaded ULabel record with exact same name: '10.1126/science.aaw1219'\n",
      "✅ loaded: FeatureSet(uid='sUW7EfGxKDsnbaiNKmfa', n=1, registry='core.Feature', hash='GDHfHpyDTyVSYOGwgu69', updated_at=2023-12-06 05:19:15 UTC, created_by_id=1)\n",
      "✅ linked new feature 'DOI' together with new feature set FeatureSet(uid='sUW7EfGxKDsnbaiNKmfa', n=1, registry='core.Feature', hash='GDHfHpyDTyVSYOGwgu69', updated_at=2023-12-06 05:19:16 UTC, created_by_id=1)\n"
     ]
    },
    {
     "name": "stderr",
     "output_type": "stream",
     "text": [
      "\r",
      "109it [02:04,  1.16s/it]"
     ]
    },
    {
     "name": "stdout",
     "output_type": "stream",
     "text": [
      "✅ loaded ULabel record with exact same name: '10.1126/science.aaw1219'\n",
      "✅ loaded: FeatureSet(uid='sUW7EfGxKDsnbaiNKmfa', n=1, registry='core.Feature', hash='GDHfHpyDTyVSYOGwgu69', updated_at=2023-12-06 05:19:16 UTC, created_by_id=1)\n",
      "✅ linked new feature 'DOI' together with new feature set FeatureSet(uid='sUW7EfGxKDsnbaiNKmfa', n=1, registry='core.Feature', hash='GDHfHpyDTyVSYOGwgu69', updated_at=2023-12-06 05:19:17 UTC, created_by_id=1)\n"
     ]
    },
    {
     "name": "stderr",
     "output_type": "stream",
     "text": [
      "\r",
      "110it [02:06,  1.16s/it]"
     ]
    },
    {
     "name": "stdout",
     "output_type": "stream",
     "text": [
      "✅ loaded ULabel record with exact same name: '10.1126/science.aaw1219'\n",
      "✅ loaded: FeatureSet(uid='sUW7EfGxKDsnbaiNKmfa', n=1, registry='core.Feature', hash='GDHfHpyDTyVSYOGwgu69', updated_at=2023-12-06 05:19:17 UTC, created_by_id=1)\n",
      "✅ linked new feature 'DOI' together with new feature set FeatureSet(uid='sUW7EfGxKDsnbaiNKmfa', n=1, registry='core.Feature', hash='GDHfHpyDTyVSYOGwgu69', updated_at=2023-12-06 05:19:18 UTC, created_by_id=1)\n"
     ]
    },
    {
     "name": "stderr",
     "output_type": "stream",
     "text": [
      "\r",
      "111it [02:07,  1.16s/it]"
     ]
    },
    {
     "name": "stdout",
     "output_type": "stream",
     "text": [
      "✅ loaded ULabel record with exact same name: '10.1126/science.aaw1219'\n",
      "✅ loaded: FeatureSet(uid='sUW7EfGxKDsnbaiNKmfa', n=1, registry='core.Feature', hash='GDHfHpyDTyVSYOGwgu69', updated_at=2023-12-06 05:19:18 UTC, created_by_id=1)\n",
      "✅ linked new feature 'DOI' together with new feature set FeatureSet(uid='sUW7EfGxKDsnbaiNKmfa', n=1, registry='core.Feature', hash='GDHfHpyDTyVSYOGwgu69', updated_at=2023-12-06 05:19:19 UTC, created_by_id=1)\n"
     ]
    },
    {
     "name": "stderr",
     "output_type": "stream",
     "text": [
      "\r",
      "112it [02:08,  1.16s/it]"
     ]
    },
    {
     "name": "stdout",
     "output_type": "stream",
     "text": [
      "✅ loaded ULabel record with exact same name: '10.1126/science.aaw1219'\n",
      "✅ loaded: FeatureSet(uid='sUW7EfGxKDsnbaiNKmfa', n=1, registry='core.Feature', hash='GDHfHpyDTyVSYOGwgu69', updated_at=2023-12-06 05:19:19 UTC, created_by_id=1)\n",
      "✅ linked new feature 'DOI' together with new feature set FeatureSet(uid='sUW7EfGxKDsnbaiNKmfa', n=1, registry='core.Feature', hash='GDHfHpyDTyVSYOGwgu69', updated_at=2023-12-06 05:19:20 UTC, created_by_id=1)\n"
     ]
    },
    {
     "name": "stderr",
     "output_type": "stream",
     "text": [
      "\r",
      "113it [02:09,  1.16s/it]"
     ]
    },
    {
     "name": "stdout",
     "output_type": "stream",
     "text": [
      "✅ loaded ULabel record with exact same name: '10.1126/science.aaw1219'\n",
      "✅ loaded: FeatureSet(uid='sUW7EfGxKDsnbaiNKmfa', n=1, registry='core.Feature', hash='GDHfHpyDTyVSYOGwgu69', updated_at=2023-12-06 05:19:20 UTC, created_by_id=1)\n",
      "✅ linked new feature 'DOI' together with new feature set FeatureSet(uid='sUW7EfGxKDsnbaiNKmfa', n=1, registry='core.Feature', hash='GDHfHpyDTyVSYOGwgu69', updated_at=2023-12-06 05:19:22 UTC, created_by_id=1)\n"
     ]
    },
    {
     "name": "stderr",
     "output_type": "stream",
     "text": [
      "\r",
      "114it [02:10,  1.16s/it]"
     ]
    },
    {
     "name": "stdout",
     "output_type": "stream",
     "text": [
      "✅ loaded ULabel record with exact same name: '10.1126/science.aaw1219'\n",
      "✅ loaded: FeatureSet(uid='sUW7EfGxKDsnbaiNKmfa', n=1, registry='core.Feature', hash='GDHfHpyDTyVSYOGwgu69', updated_at=2023-12-06 05:19:22 UTC, created_by_id=1)\n",
      "✅ linked new feature 'DOI' together with new feature set FeatureSet(uid='sUW7EfGxKDsnbaiNKmfa', n=1, registry='core.Feature', hash='GDHfHpyDTyVSYOGwgu69', updated_at=2023-12-06 05:19:23 UTC, created_by_id=1)\n"
     ]
    },
    {
     "name": "stderr",
     "output_type": "stream",
     "text": [
      "\r",
      "115it [02:11,  1.16s/it]"
     ]
    },
    {
     "name": "stdout",
     "output_type": "stream",
     "text": [
      "✅ loaded ULabel record with exact same name: '10.1126/science.aaw1219'\n",
      "✅ loaded: FeatureSet(uid='sUW7EfGxKDsnbaiNKmfa', n=1, registry='core.Feature', hash='GDHfHpyDTyVSYOGwgu69', updated_at=2023-12-06 05:19:23 UTC, created_by_id=1)\n",
      "✅ linked new feature 'DOI' together with new feature set FeatureSet(uid='sUW7EfGxKDsnbaiNKmfa', n=1, registry='core.Feature', hash='GDHfHpyDTyVSYOGwgu69', updated_at=2023-12-06 05:19:24 UTC, created_by_id=1)\n"
     ]
    },
    {
     "name": "stderr",
     "output_type": "stream",
     "text": [
      "\r",
      "116it [02:13,  1.17s/it]"
     ]
    },
    {
     "name": "stdout",
     "output_type": "stream",
     "text": [
      "✅ loaded ULabel record with exact same name: '10.1126/science.aaw1219'\n",
      "✅ loaded: FeatureSet(uid='sUW7EfGxKDsnbaiNKmfa', n=1, registry='core.Feature', hash='GDHfHpyDTyVSYOGwgu69', updated_at=2023-12-06 05:19:24 UTC, created_by_id=1)\n",
      "✅ linked new feature 'DOI' together with new feature set FeatureSet(uid='sUW7EfGxKDsnbaiNKmfa', n=1, registry='core.Feature', hash='GDHfHpyDTyVSYOGwgu69', updated_at=2023-12-06 05:19:25 UTC, created_by_id=1)\n"
     ]
    },
    {
     "name": "stderr",
     "output_type": "stream",
     "text": [
      "\r",
      "117it [02:14,  1.16s/it]"
     ]
    },
    {
     "name": "stdout",
     "output_type": "stream",
     "text": [
      "✅ loaded ULabel record with exact same name: '10.1126/science.aaw1219'\n",
      "✅ loaded: FeatureSet(uid='sUW7EfGxKDsnbaiNKmfa', n=1, registry='core.Feature', hash='GDHfHpyDTyVSYOGwgu69', updated_at=2023-12-06 05:19:25 UTC, created_by_id=1)\n",
      "✅ linked new feature 'DOI' together with new feature set FeatureSet(uid='sUW7EfGxKDsnbaiNKmfa', n=1, registry='core.Feature', hash='GDHfHpyDTyVSYOGwgu69', updated_at=2023-12-06 05:19:26 UTC, created_by_id=1)\n"
     ]
    },
    {
     "name": "stderr",
     "output_type": "stream",
     "text": [
      "\r",
      "118it [02:15,  1.16s/it]"
     ]
    },
    {
     "name": "stdout",
     "output_type": "stream",
     "text": [
      "✅ loaded ULabel record with exact same name: '10.1126/science.aaw1219'\n",
      "✅ loaded: FeatureSet(uid='sUW7EfGxKDsnbaiNKmfa', n=1, registry='core.Feature', hash='GDHfHpyDTyVSYOGwgu69', updated_at=2023-12-06 05:19:26 UTC, created_by_id=1)\n",
      "✅ linked new feature 'DOI' together with new feature set FeatureSet(uid='sUW7EfGxKDsnbaiNKmfa', n=1, registry='core.Feature', hash='GDHfHpyDTyVSYOGwgu69', updated_at=2023-12-06 05:19:27 UTC, created_by_id=1)\n"
     ]
    },
    {
     "name": "stderr",
     "output_type": "stream",
     "text": [
      "\r",
      "119it [02:16,  1.16s/it]"
     ]
    },
    {
     "name": "stdout",
     "output_type": "stream",
     "text": [
      "✅ loaded ULabel record with exact same name: '10.1126/science.aaw1219'\n",
      "✅ loaded: FeatureSet(uid='sUW7EfGxKDsnbaiNKmfa', n=1, registry='core.Feature', hash='GDHfHpyDTyVSYOGwgu69', updated_at=2023-12-06 05:19:27 UTC, created_by_id=1)\n",
      "✅ linked new feature 'DOI' together with new feature set FeatureSet(uid='sUW7EfGxKDsnbaiNKmfa', n=1, registry='core.Feature', hash='GDHfHpyDTyVSYOGwgu69', updated_at=2023-12-06 05:19:28 UTC, created_by_id=1)\n"
     ]
    },
    {
     "name": "stderr",
     "output_type": "stream",
     "text": [
      "\r",
      "120it [02:17,  1.16s/it]"
     ]
    },
    {
     "name": "stdout",
     "output_type": "stream",
     "text": [
      "✅ loaded ULabel record with exact same name: '10.1126/science.aaw1219'\n",
      "✅ loaded: FeatureSet(uid='sUW7EfGxKDsnbaiNKmfa', n=1, registry='core.Feature', hash='GDHfHpyDTyVSYOGwgu69', updated_at=2023-12-06 05:19:28 UTC, created_by_id=1)\n",
      "✅ linked new feature 'DOI' together with new feature set FeatureSet(uid='sUW7EfGxKDsnbaiNKmfa', n=1, registry='core.Feature', hash='GDHfHpyDTyVSYOGwgu69', updated_at=2023-12-06 05:19:30 UTC, created_by_id=1)\n"
     ]
    },
    {
     "name": "stderr",
     "output_type": "stream",
     "text": [
      "\r",
      "121it [02:18,  1.16s/it]"
     ]
    },
    {
     "name": "stdout",
     "output_type": "stream",
     "text": [
      "✅ loaded ULabel record with exact same name: '10.1126/science.aaw1219'\n",
      "✅ loaded: FeatureSet(uid='sUW7EfGxKDsnbaiNKmfa', n=1, registry='core.Feature', hash='GDHfHpyDTyVSYOGwgu69', updated_at=2023-12-06 05:19:30 UTC, created_by_id=1)\n",
      "✅ linked new feature 'DOI' together with new feature set FeatureSet(uid='sUW7EfGxKDsnbaiNKmfa', n=1, registry='core.Feature', hash='GDHfHpyDTyVSYOGwgu69', updated_at=2023-12-06 05:19:31 UTC, created_by_id=1)\n"
     ]
    },
    {
     "name": "stderr",
     "output_type": "stream",
     "text": [
      "\r",
      "122it [02:20,  1.17s/it]"
     ]
    },
    {
     "name": "stdout",
     "output_type": "stream",
     "text": [
      "✅ loaded ULabel record with exact same name: '10.1126/science.aaw1219'\n",
      "✅ loaded: FeatureSet(uid='sUW7EfGxKDsnbaiNKmfa', n=1, registry='core.Feature', hash='GDHfHpyDTyVSYOGwgu69', updated_at=2023-12-06 05:19:31 UTC, created_by_id=1)\n",
      "✅ linked new feature 'DOI' together with new feature set FeatureSet(uid='sUW7EfGxKDsnbaiNKmfa', n=1, registry='core.Feature', hash='GDHfHpyDTyVSYOGwgu69', updated_at=2023-12-06 05:19:32 UTC, created_by_id=1)\n"
     ]
    },
    {
     "name": "stderr",
     "output_type": "stream",
     "text": [
      "\r",
      "123it [02:21,  1.17s/it]"
     ]
    },
    {
     "name": "stdout",
     "output_type": "stream",
     "text": [
      "✅ loaded ULabel record with exact same name: '10.1126/science.aaw1219'\n",
      "✅ loaded: FeatureSet(uid='sUW7EfGxKDsnbaiNKmfa', n=1, registry='core.Feature', hash='GDHfHpyDTyVSYOGwgu69', updated_at=2023-12-06 05:19:32 UTC, created_by_id=1)\n",
      "✅ linked new feature 'DOI' together with new feature set FeatureSet(uid='sUW7EfGxKDsnbaiNKmfa', n=1, registry='core.Feature', hash='GDHfHpyDTyVSYOGwgu69', updated_at=2023-12-06 05:19:33 UTC, created_by_id=1)\n"
     ]
    },
    {
     "name": "stderr",
     "output_type": "stream",
     "text": [
      "\r",
      "124it [02:22,  1.17s/it]"
     ]
    },
    {
     "name": "stdout",
     "output_type": "stream",
     "text": [
      "✅ loaded ULabel record with exact same name: '10.1126/science.aaw1219'\n",
      "✅ loaded: FeatureSet(uid='sUW7EfGxKDsnbaiNKmfa', n=1, registry='core.Feature', hash='GDHfHpyDTyVSYOGwgu69', updated_at=2023-12-06 05:19:33 UTC, created_by_id=1)\n",
      "✅ linked new feature 'DOI' together with new feature set FeatureSet(uid='sUW7EfGxKDsnbaiNKmfa', n=1, registry='core.Feature', hash='GDHfHpyDTyVSYOGwgu69', updated_at=2023-12-06 05:19:34 UTC, created_by_id=1)\n"
     ]
    },
    {
     "name": "stderr",
     "output_type": "stream",
     "text": [
      "\r",
      "125it [02:23,  1.17s/it]"
     ]
    },
    {
     "name": "stdout",
     "output_type": "stream",
     "text": [
      "✅ loaded ULabel record with exact same name: '10.1126/science.aaw1219'\n",
      "✅ loaded: FeatureSet(uid='sUW7EfGxKDsnbaiNKmfa', n=1, registry='core.Feature', hash='GDHfHpyDTyVSYOGwgu69', updated_at=2023-12-06 05:19:34 UTC, created_by_id=1)\n",
      "✅ linked new feature 'DOI' together with new feature set FeatureSet(uid='sUW7EfGxKDsnbaiNKmfa', n=1, registry='core.Feature', hash='GDHfHpyDTyVSYOGwgu69', updated_at=2023-12-06 05:19:36 UTC, created_by_id=1)\n"
     ]
    },
    {
     "name": "stderr",
     "output_type": "stream",
     "text": [
      "\r",
      "126it [02:24,  1.17s/it]"
     ]
    },
    {
     "name": "stdout",
     "output_type": "stream",
     "text": [
      "✅ loaded ULabel record with exact same name: '10.1126/science.aaw1219'\n",
      "✅ loaded: FeatureSet(uid='sUW7EfGxKDsnbaiNKmfa', n=1, registry='core.Feature', hash='GDHfHpyDTyVSYOGwgu69', updated_at=2023-12-06 05:19:36 UTC, created_by_id=1)\n",
      "✅ linked new feature 'DOI' together with new feature set FeatureSet(uid='sUW7EfGxKDsnbaiNKmfa', n=1, registry='core.Feature', hash='GDHfHpyDTyVSYOGwgu69', updated_at=2023-12-06 05:19:37 UTC, created_by_id=1)\n"
     ]
    },
    {
     "name": "stderr",
     "output_type": "stream",
     "text": [
      "\r",
      "127it [02:25,  1.17s/it]"
     ]
    },
    {
     "name": "stdout",
     "output_type": "stream",
     "text": [
      "✅ loaded ULabel record with exact same name: '10.1126/science.aaw1219'\n",
      "✅ loaded: FeatureSet(uid='sUW7EfGxKDsnbaiNKmfa', n=1, registry='core.Feature', hash='GDHfHpyDTyVSYOGwgu69', updated_at=2023-12-06 05:19:37 UTC, created_by_id=1)\n",
      "✅ linked new feature 'DOI' together with new feature set FeatureSet(uid='sUW7EfGxKDsnbaiNKmfa', n=1, registry='core.Feature', hash='GDHfHpyDTyVSYOGwgu69', updated_at=2023-12-06 05:19:38 UTC, created_by_id=1)\n"
     ]
    },
    {
     "name": "stderr",
     "output_type": "stream",
     "text": [
      "\r",
      "128it [02:27,  1.16s/it]"
     ]
    },
    {
     "name": "stdout",
     "output_type": "stream",
     "text": [
      "✅ loaded ULabel record with exact same name: '10.1126/science.aaw1219'\n",
      "✅ loaded: FeatureSet(uid='sUW7EfGxKDsnbaiNKmfa', n=1, registry='core.Feature', hash='GDHfHpyDTyVSYOGwgu69', updated_at=2023-12-06 05:19:38 UTC, created_by_id=1)\n",
      "✅ linked new feature 'DOI' together with new feature set FeatureSet(uid='sUW7EfGxKDsnbaiNKmfa', n=1, registry='core.Feature', hash='GDHfHpyDTyVSYOGwgu69', updated_at=2023-12-06 05:19:39 UTC, created_by_id=1)\n"
     ]
    },
    {
     "name": "stderr",
     "output_type": "stream",
     "text": [
      "\r",
      "129it [02:28,  1.17s/it]"
     ]
    },
    {
     "name": "stdout",
     "output_type": "stream",
     "text": [
      "✅ loaded ULabel record with exact same name: '10.1126/science.aaw1219'\n",
      "✅ loaded: FeatureSet(uid='sUW7EfGxKDsnbaiNKmfa', n=1, registry='core.Feature', hash='GDHfHpyDTyVSYOGwgu69', updated_at=2023-12-06 05:19:39 UTC, created_by_id=1)\n",
      "✅ linked new feature 'DOI' together with new feature set FeatureSet(uid='sUW7EfGxKDsnbaiNKmfa', n=1, registry='core.Feature', hash='GDHfHpyDTyVSYOGwgu69', updated_at=2023-12-06 05:19:40 UTC, created_by_id=1)\n"
     ]
    },
    {
     "name": "stderr",
     "output_type": "stream",
     "text": [
      "\r",
      "130it [02:29,  1.17s/it]"
     ]
    },
    {
     "name": "stdout",
     "output_type": "stream",
     "text": [
      "✅ loaded ULabel record with exact same name: '10.1126/science.aaw1219'\n",
      "✅ loaded: FeatureSet(uid='sUW7EfGxKDsnbaiNKmfa', n=1, registry='core.Feature', hash='GDHfHpyDTyVSYOGwgu69', updated_at=2023-12-06 05:19:40 UTC, created_by_id=1)\n",
      "✅ linked new feature 'DOI' together with new feature set FeatureSet(uid='sUW7EfGxKDsnbaiNKmfa', n=1, registry='core.Feature', hash='GDHfHpyDTyVSYOGwgu69', updated_at=2023-12-06 05:19:41 UTC, created_by_id=1)\n"
     ]
    },
    {
     "name": "stderr",
     "output_type": "stream",
     "text": [
      "\r",
      "131it [02:30,  1.17s/it]"
     ]
    },
    {
     "name": "stdout",
     "output_type": "stream",
     "text": [
      "✅ loaded ULabel record with exact same name: '10.1126/science.aaw1219'\n",
      "✅ loaded: FeatureSet(uid='sUW7EfGxKDsnbaiNKmfa', n=1, registry='core.Feature', hash='GDHfHpyDTyVSYOGwgu69', updated_at=2023-12-06 05:19:41 UTC, created_by_id=1)\n",
      "✅ linked new feature 'DOI' together with new feature set FeatureSet(uid='sUW7EfGxKDsnbaiNKmfa', n=1, registry='core.Feature', hash='GDHfHpyDTyVSYOGwgu69', updated_at=2023-12-06 05:19:43 UTC, created_by_id=1)\n"
     ]
    },
    {
     "name": "stderr",
     "output_type": "stream",
     "text": [
      "\r",
      "132it [02:31,  1.16s/it]"
     ]
    },
    {
     "name": "stdout",
     "output_type": "stream",
     "text": [
      "✅ loaded ULabel record with exact same name: '10.1126/science.aaw1219'\n",
      "✅ loaded: FeatureSet(uid='sUW7EfGxKDsnbaiNKmfa', n=1, registry='core.Feature', hash='GDHfHpyDTyVSYOGwgu69', updated_at=2023-12-06 05:19:43 UTC, created_by_id=1)\n",
      "✅ linked new feature 'DOI' together with new feature set FeatureSet(uid='sUW7EfGxKDsnbaiNKmfa', n=1, registry='core.Feature', hash='GDHfHpyDTyVSYOGwgu69', updated_at=2023-12-06 05:19:44 UTC, created_by_id=1)\n"
     ]
    },
    {
     "name": "stderr",
     "output_type": "stream",
     "text": [
      "\r",
      "133it [02:32,  1.16s/it]"
     ]
    },
    {
     "name": "stdout",
     "output_type": "stream",
     "text": [
      "✅ loaded ULabel record with exact same name: '10.1126/science.aaw1219'\n",
      "✅ loaded: FeatureSet(uid='sUW7EfGxKDsnbaiNKmfa', n=1, registry='core.Feature', hash='GDHfHpyDTyVSYOGwgu69', updated_at=2023-12-06 05:19:44 UTC, created_by_id=1)\n",
      "✅ linked new feature 'DOI' together with new feature set FeatureSet(uid='sUW7EfGxKDsnbaiNKmfa', n=1, registry='core.Feature', hash='GDHfHpyDTyVSYOGwgu69', updated_at=2023-12-06 05:19:45 UTC, created_by_id=1)\n"
     ]
    },
    {
     "name": "stderr",
     "output_type": "stream",
     "text": [
      "\r",
      "134it [02:33,  1.16s/it]"
     ]
    },
    {
     "name": "stdout",
     "output_type": "stream",
     "text": [
      "✅ loaded ULabel record with exact same name: '10.1126/science.aaw1219'\n",
      "✅ loaded: FeatureSet(uid='sUW7EfGxKDsnbaiNKmfa', n=1, registry='core.Feature', hash='GDHfHpyDTyVSYOGwgu69', updated_at=2023-12-06 05:19:45 UTC, created_by_id=1)\n",
      "✅ linked new feature 'DOI' together with new feature set FeatureSet(uid='sUW7EfGxKDsnbaiNKmfa', n=1, registry='core.Feature', hash='GDHfHpyDTyVSYOGwgu69', updated_at=2023-12-06 05:19:46 UTC, created_by_id=1)\n"
     ]
    },
    {
     "name": "stderr",
     "output_type": "stream",
     "text": [
      "\r",
      "135it [02:35,  1.16s/it]"
     ]
    },
    {
     "name": "stdout",
     "output_type": "stream",
     "text": [
      "✅ loaded ULabel record with exact same name: '10.1126/science.aaw1219'\n",
      "✅ loaded: FeatureSet(uid='sUW7EfGxKDsnbaiNKmfa', n=1, registry='core.Feature', hash='GDHfHpyDTyVSYOGwgu69', updated_at=2023-12-06 05:19:46 UTC, created_by_id=1)\n",
      "✅ linked new feature 'DOI' together with new feature set FeatureSet(uid='sUW7EfGxKDsnbaiNKmfa', n=1, registry='core.Feature', hash='GDHfHpyDTyVSYOGwgu69', updated_at=2023-12-06 05:19:47 UTC, created_by_id=1)\n"
     ]
    },
    {
     "name": "stderr",
     "output_type": "stream",
     "text": [
      "\r",
      "136it [02:36,  1.16s/it]"
     ]
    },
    {
     "name": "stdout",
     "output_type": "stream",
     "text": [
      "✅ loaded ULabel record with exact same name: '10.1126/science.aaw1219'\n",
      "✅ loaded: FeatureSet(uid='sUW7EfGxKDsnbaiNKmfa', n=1, registry='core.Feature', hash='GDHfHpyDTyVSYOGwgu69', updated_at=2023-12-06 05:19:47 UTC, created_by_id=1)\n",
      "✅ linked new feature 'DOI' together with new feature set FeatureSet(uid='sUW7EfGxKDsnbaiNKmfa', n=1, registry='core.Feature', hash='GDHfHpyDTyVSYOGwgu69', updated_at=2023-12-06 05:19:48 UTC, created_by_id=1)\n"
     ]
    },
    {
     "name": "stderr",
     "output_type": "stream",
     "text": [
      "\r",
      "137it [02:37,  1.16s/it]"
     ]
    },
    {
     "name": "stdout",
     "output_type": "stream",
     "text": [
      "✅ loaded ULabel record with exact same name: '10.1126/science.aaw1219'\n",
      "✅ loaded: FeatureSet(uid='sUW7EfGxKDsnbaiNKmfa', n=1, registry='core.Feature', hash='GDHfHpyDTyVSYOGwgu69', updated_at=2023-12-06 05:19:48 UTC, created_by_id=1)\n",
      "✅ linked new feature 'DOI' together with new feature set FeatureSet(uid='sUW7EfGxKDsnbaiNKmfa', n=1, registry='core.Feature', hash='GDHfHpyDTyVSYOGwgu69', updated_at=2023-12-06 05:19:49 UTC, created_by_id=1)\n"
     ]
    },
    {
     "name": "stderr",
     "output_type": "stream",
     "text": [
      "\r",
      "138it [02:38,  1.15s/it]"
     ]
    },
    {
     "name": "stdout",
     "output_type": "stream",
     "text": [
      "✅ loaded ULabel record with exact same name: '10.1126/science.aaw1219'\n",
      "✅ loaded: FeatureSet(uid='sUW7EfGxKDsnbaiNKmfa', n=1, registry='core.Feature', hash='GDHfHpyDTyVSYOGwgu69', updated_at=2023-12-06 05:19:49 UTC, created_by_id=1)\n",
      "✅ linked new feature 'DOI' together with new feature set FeatureSet(uid='sUW7EfGxKDsnbaiNKmfa', n=1, registry='core.Feature', hash='GDHfHpyDTyVSYOGwgu69', updated_at=2023-12-06 05:19:51 UTC, created_by_id=1)\n"
     ]
    },
    {
     "name": "stderr",
     "output_type": "stream",
     "text": [
      "\r",
      "139it [02:39,  1.16s/it]"
     ]
    },
    {
     "name": "stdout",
     "output_type": "stream",
     "text": [
      "✅ loaded ULabel record with exact same name: '10.1126/science.aaw1219'\n",
      "✅ loaded: FeatureSet(uid='sUW7EfGxKDsnbaiNKmfa', n=1, registry='core.Feature', hash='GDHfHpyDTyVSYOGwgu69', updated_at=2023-12-06 05:19:51 UTC, created_by_id=1)\n",
      "✅ linked new feature 'DOI' together with new feature set FeatureSet(uid='sUW7EfGxKDsnbaiNKmfa', n=1, registry='core.Feature', hash='GDHfHpyDTyVSYOGwgu69', updated_at=2023-12-06 05:19:52 UTC, created_by_id=1)\n"
     ]
    },
    {
     "name": "stderr",
     "output_type": "stream",
     "text": [
      "\r",
      "140it [02:40,  1.16s/it]"
     ]
    },
    {
     "name": "stdout",
     "output_type": "stream",
     "text": [
      "✅ loaded ULabel record with exact same name: '10.1126/science.aaw1219'\n",
      "✅ loaded: FeatureSet(uid='sUW7EfGxKDsnbaiNKmfa', n=1, registry='core.Feature', hash='GDHfHpyDTyVSYOGwgu69', updated_at=2023-12-06 05:19:52 UTC, created_by_id=1)\n",
      "✅ linked new feature 'DOI' together with new feature set FeatureSet(uid='sUW7EfGxKDsnbaiNKmfa', n=1, registry='core.Feature', hash='GDHfHpyDTyVSYOGwgu69', updated_at=2023-12-06 05:19:53 UTC, created_by_id=1)\n"
     ]
    },
    {
     "name": "stderr",
     "output_type": "stream",
     "text": [
      "\r",
      "141it [02:42,  1.16s/it]"
     ]
    },
    {
     "name": "stdout",
     "output_type": "stream",
     "text": [
      "✅ loaded ULabel record with exact same name: '10.1126/science.aaw1219'\n",
      "✅ loaded: FeatureSet(uid='sUW7EfGxKDsnbaiNKmfa', n=1, registry='core.Feature', hash='GDHfHpyDTyVSYOGwgu69', updated_at=2023-12-06 05:19:53 UTC, created_by_id=1)\n",
      "✅ linked new feature 'DOI' together with new feature set FeatureSet(uid='sUW7EfGxKDsnbaiNKmfa', n=1, registry='core.Feature', hash='GDHfHpyDTyVSYOGwgu69', updated_at=2023-12-06 05:19:54 UTC, created_by_id=1)\n"
     ]
    },
    {
     "name": "stderr",
     "output_type": "stream",
     "text": [
      "\r",
      "142it [02:43,  1.16s/it]"
     ]
    },
    {
     "name": "stdout",
     "output_type": "stream",
     "text": [
      "✅ loaded ULabel record with exact same name: '10.1126/science.aaw1219'\n",
      "✅ loaded: FeatureSet(uid='sUW7EfGxKDsnbaiNKmfa', n=1, registry='core.Feature', hash='GDHfHpyDTyVSYOGwgu69', updated_at=2023-12-06 05:19:54 UTC, created_by_id=1)\n",
      "✅ linked new feature 'DOI' together with new feature set FeatureSet(uid='sUW7EfGxKDsnbaiNKmfa', n=1, registry='core.Feature', hash='GDHfHpyDTyVSYOGwgu69', updated_at=2023-12-06 05:19:55 UTC, created_by_id=1)\n"
     ]
    },
    {
     "name": "stderr",
     "output_type": "stream",
     "text": [
      "\r",
      "143it [02:44,  1.16s/it]"
     ]
    },
    {
     "name": "stdout",
     "output_type": "stream",
     "text": [
      "✅ loaded ULabel record with exact same name: '10.1126/science.aaw1219'\n",
      "✅ loaded: FeatureSet(uid='sUW7EfGxKDsnbaiNKmfa', n=1, registry='core.Feature', hash='GDHfHpyDTyVSYOGwgu69', updated_at=2023-12-06 05:19:55 UTC, created_by_id=1)\n",
      "✅ linked new feature 'DOI' together with new feature set FeatureSet(uid='sUW7EfGxKDsnbaiNKmfa', n=1, registry='core.Feature', hash='GDHfHpyDTyVSYOGwgu69', updated_at=2023-12-06 05:19:56 UTC, created_by_id=1)\n"
     ]
    },
    {
     "name": "stderr",
     "output_type": "stream",
     "text": [
      "\r",
      "144it [02:45,  1.16s/it]"
     ]
    },
    {
     "name": "stdout",
     "output_type": "stream",
     "text": [
      "✅ loaded ULabel record with exact same name: '10.1126/science.aaw1219'\n",
      "✅ loaded: FeatureSet(uid='sUW7EfGxKDsnbaiNKmfa', n=1, registry='core.Feature', hash='GDHfHpyDTyVSYOGwgu69', updated_at=2023-12-06 05:19:56 UTC, created_by_id=1)\n",
      "✅ linked new feature 'DOI' together with new feature set FeatureSet(uid='sUW7EfGxKDsnbaiNKmfa', n=1, registry='core.Feature', hash='GDHfHpyDTyVSYOGwgu69', updated_at=2023-12-06 05:19:58 UTC, created_by_id=1)\n"
     ]
    },
    {
     "name": "stderr",
     "output_type": "stream",
     "text": [
      "\r",
      "145it [02:46,  1.16s/it]"
     ]
    },
    {
     "name": "stdout",
     "output_type": "stream",
     "text": [
      "✅ loaded ULabel record with exact same name: '10.1126/science.aaw1219'\n",
      "✅ loaded: FeatureSet(uid='sUW7EfGxKDsnbaiNKmfa', n=1, registry='core.Feature', hash='GDHfHpyDTyVSYOGwgu69', updated_at=2023-12-06 05:19:58 UTC, created_by_id=1)\n",
      "✅ linked new feature 'DOI' together with new feature set FeatureSet(uid='sUW7EfGxKDsnbaiNKmfa', n=1, registry='core.Feature', hash='GDHfHpyDTyVSYOGwgu69', updated_at=2023-12-06 05:19:59 UTC, created_by_id=1)\n"
     ]
    },
    {
     "name": "stderr",
     "output_type": "stream",
     "text": [
      "\r",
      "146it [02:47,  1.16s/it]"
     ]
    },
    {
     "name": "stdout",
     "output_type": "stream",
     "text": [
      "✅ loaded ULabel record with exact same name: '10.1126/science.aaw1219'\n",
      "✅ loaded: FeatureSet(uid='sUW7EfGxKDsnbaiNKmfa', n=1, registry='core.Feature', hash='GDHfHpyDTyVSYOGwgu69', updated_at=2023-12-06 05:19:59 UTC, created_by_id=1)\n",
      "✅ linked new feature 'DOI' together with new feature set FeatureSet(uid='sUW7EfGxKDsnbaiNKmfa', n=1, registry='core.Feature', hash='GDHfHpyDTyVSYOGwgu69', updated_at=2023-12-06 05:20:00 UTC, created_by_id=1)\n"
     ]
    },
    {
     "name": "stderr",
     "output_type": "stream",
     "text": [
      "\r",
      "147it [02:49,  1.17s/it]"
     ]
    },
    {
     "name": "stdout",
     "output_type": "stream",
     "text": [
      "✅ loaded ULabel record with exact same name: '10.1126/science.aaw1219'\n",
      "✅ loaded: FeatureSet(uid='sUW7EfGxKDsnbaiNKmfa', n=1, registry='core.Feature', hash='GDHfHpyDTyVSYOGwgu69', updated_at=2023-12-06 05:20:00 UTC, created_by_id=1)\n",
      "✅ linked new feature 'DOI' together with new feature set FeatureSet(uid='sUW7EfGxKDsnbaiNKmfa', n=1, registry='core.Feature', hash='GDHfHpyDTyVSYOGwgu69', updated_at=2023-12-06 05:20:01 UTC, created_by_id=1)\n"
     ]
    },
    {
     "name": "stderr",
     "output_type": "stream",
     "text": [
      "\r",
      "148it [02:50,  1.17s/it]"
     ]
    },
    {
     "name": "stdout",
     "output_type": "stream",
     "text": [
      "✅ loaded ULabel record with exact same name: '10.1126/science.aaw1219'\n",
      "✅ loaded: FeatureSet(uid='sUW7EfGxKDsnbaiNKmfa', n=1, registry='core.Feature', hash='GDHfHpyDTyVSYOGwgu69', updated_at=2023-12-06 05:20:01 UTC, created_by_id=1)\n",
      "✅ linked new feature 'DOI' together with new feature set FeatureSet(uid='sUW7EfGxKDsnbaiNKmfa', n=1, registry='core.Feature', hash='GDHfHpyDTyVSYOGwgu69', updated_at=2023-12-06 05:20:02 UTC, created_by_id=1)\n"
     ]
    },
    {
     "name": "stderr",
     "output_type": "stream",
     "text": [
      "\r",
      "149it [02:51,  1.16s/it]"
     ]
    },
    {
     "name": "stdout",
     "output_type": "stream",
     "text": [
      "✅ loaded ULabel record with exact same name: '10.1126/science.aaw1219'\n",
      "✅ loaded: FeatureSet(uid='sUW7EfGxKDsnbaiNKmfa', n=1, registry='core.Feature', hash='GDHfHpyDTyVSYOGwgu69', updated_at=2023-12-06 05:20:02 UTC, created_by_id=1)\n",
      "✅ linked new feature 'DOI' together with new feature set FeatureSet(uid='sUW7EfGxKDsnbaiNKmfa', n=1, registry='core.Feature', hash='GDHfHpyDTyVSYOGwgu69', updated_at=2023-12-06 05:20:03 UTC, created_by_id=1)\n"
     ]
    },
    {
     "name": "stderr",
     "output_type": "stream",
     "text": [
      "\r",
      "150it [02:52,  1.17s/it]"
     ]
    },
    {
     "name": "stdout",
     "output_type": "stream",
     "text": [
      "✅ loaded ULabel record with exact same name: '10.1126/science.aaw1219'\n",
      "✅ loaded: FeatureSet(uid='sUW7EfGxKDsnbaiNKmfa', n=1, registry='core.Feature', hash='GDHfHpyDTyVSYOGwgu69', updated_at=2023-12-06 05:20:03 UTC, created_by_id=1)\n",
      "✅ linked new feature 'DOI' together with new feature set FeatureSet(uid='sUW7EfGxKDsnbaiNKmfa', n=1, registry='core.Feature', hash='GDHfHpyDTyVSYOGwgu69', updated_at=2023-12-06 05:20:05 UTC, created_by_id=1)\n"
     ]
    },
    {
     "name": "stderr",
     "output_type": "stream",
     "text": [
      "\r",
      "151it [02:53,  1.16s/it]"
     ]
    },
    {
     "name": "stdout",
     "output_type": "stream",
     "text": [
      "✅ loaded ULabel record with exact same name: '10.1126/science.aaw1219'\n",
      "✅ loaded: FeatureSet(uid='sUW7EfGxKDsnbaiNKmfa', n=1, registry='core.Feature', hash='GDHfHpyDTyVSYOGwgu69', updated_at=2023-12-06 05:20:05 UTC, created_by_id=1)\n",
      "✅ linked new feature 'DOI' together with new feature set FeatureSet(uid='sUW7EfGxKDsnbaiNKmfa', n=1, registry='core.Feature', hash='GDHfHpyDTyVSYOGwgu69', updated_at=2023-12-06 05:20:06 UTC, created_by_id=1)\n"
     ]
    },
    {
     "name": "stderr",
     "output_type": "stream",
     "text": [
      "\r",
      "152it [02:54,  1.16s/it]"
     ]
    },
    {
     "name": "stdout",
     "output_type": "stream",
     "text": [
      "✅ loaded ULabel record with exact same name: '10.1126/science.aaw1219'\n",
      "✅ loaded: FeatureSet(uid='sUW7EfGxKDsnbaiNKmfa', n=1, registry='core.Feature', hash='GDHfHpyDTyVSYOGwgu69', updated_at=2023-12-06 05:20:06 UTC, created_by_id=1)\n",
      "✅ linked new feature 'DOI' together with new feature set FeatureSet(uid='sUW7EfGxKDsnbaiNKmfa', n=1, registry='core.Feature', hash='GDHfHpyDTyVSYOGwgu69', updated_at=2023-12-06 05:20:07 UTC, created_by_id=1)\n"
     ]
    },
    {
     "name": "stderr",
     "output_type": "stream",
     "text": [
      "\r",
      "153it [02:56,  1.16s/it]"
     ]
    },
    {
     "name": "stdout",
     "output_type": "stream",
     "text": [
      "✅ loaded ULabel record with exact same name: '10.1126/science.aaw1219'\n",
      "✅ loaded: FeatureSet(uid='sUW7EfGxKDsnbaiNKmfa', n=1, registry='core.Feature', hash='GDHfHpyDTyVSYOGwgu69', updated_at=2023-12-06 05:20:07 UTC, created_by_id=1)\n",
      "✅ linked new feature 'DOI' together with new feature set FeatureSet(uid='sUW7EfGxKDsnbaiNKmfa', n=1, registry='core.Feature', hash='GDHfHpyDTyVSYOGwgu69', updated_at=2023-12-06 05:20:08 UTC, created_by_id=1)\n"
     ]
    },
    {
     "name": "stderr",
     "output_type": "stream",
     "text": [
      "\r",
      "154it [02:57,  1.16s/it]"
     ]
    },
    {
     "name": "stdout",
     "output_type": "stream",
     "text": [
      "✅ loaded ULabel record with exact same name: '10.1126/science.aaw1219'\n",
      "✅ loaded: FeatureSet(uid='sUW7EfGxKDsnbaiNKmfa', n=1, registry='core.Feature', hash='GDHfHpyDTyVSYOGwgu69', updated_at=2023-12-06 05:20:08 UTC, created_by_id=1)\n",
      "✅ linked new feature 'DOI' together with new feature set FeatureSet(uid='sUW7EfGxKDsnbaiNKmfa', n=1, registry='core.Feature', hash='GDHfHpyDTyVSYOGwgu69', updated_at=2023-12-06 05:20:09 UTC, created_by_id=1)\n"
     ]
    },
    {
     "name": "stderr",
     "output_type": "stream",
     "text": [
      "\r",
      "155it [02:58,  1.16s/it]"
     ]
    },
    {
     "name": "stdout",
     "output_type": "stream",
     "text": [
      "✅ loaded ULabel record with exact same name: '10.1126/science.aaw1219'\n",
      "✅ loaded: FeatureSet(uid='sUW7EfGxKDsnbaiNKmfa', n=1, registry='core.Feature', hash='GDHfHpyDTyVSYOGwgu69', updated_at=2023-12-06 05:20:09 UTC, created_by_id=1)\n",
      "✅ linked new feature 'DOI' together with new feature set FeatureSet(uid='sUW7EfGxKDsnbaiNKmfa', n=1, registry='core.Feature', hash='GDHfHpyDTyVSYOGwgu69', updated_at=2023-12-06 05:20:10 UTC, created_by_id=1)\n"
     ]
    },
    {
     "name": "stderr",
     "output_type": "stream",
     "text": [
      "\r",
      "156it [02:59,  1.16s/it]"
     ]
    },
    {
     "name": "stdout",
     "output_type": "stream",
     "text": [
      "✅ loaded ULabel record with exact same name: '10.1126/science.aaw1219'\n",
      "✅ loaded: FeatureSet(uid='sUW7EfGxKDsnbaiNKmfa', n=1, registry='core.Feature', hash='GDHfHpyDTyVSYOGwgu69', updated_at=2023-12-06 05:20:10 UTC, created_by_id=1)\n",
      "✅ linked new feature 'DOI' together with new feature set FeatureSet(uid='sUW7EfGxKDsnbaiNKmfa', n=1, registry='core.Feature', hash='GDHfHpyDTyVSYOGwgu69', updated_at=2023-12-06 05:20:12 UTC, created_by_id=1)\n"
     ]
    },
    {
     "name": "stderr",
     "output_type": "stream",
     "text": [
      "\r",
      "157it [03:00,  1.16s/it]"
     ]
    },
    {
     "name": "stdout",
     "output_type": "stream",
     "text": [
      "✅ loaded ULabel record with exact same name: '10.1126/science.aaw1219'\n",
      "✅ loaded: FeatureSet(uid='sUW7EfGxKDsnbaiNKmfa', n=1, registry='core.Feature', hash='GDHfHpyDTyVSYOGwgu69', updated_at=2023-12-06 05:20:12 UTC, created_by_id=1)\n",
      "✅ linked new feature 'DOI' together with new feature set FeatureSet(uid='sUW7EfGxKDsnbaiNKmfa', n=1, registry='core.Feature', hash='GDHfHpyDTyVSYOGwgu69', updated_at=2023-12-06 05:20:13 UTC, created_by_id=1)\n"
     ]
    },
    {
     "name": "stderr",
     "output_type": "stream",
     "text": [
      "\r",
      "158it [03:01,  1.16s/it]"
     ]
    },
    {
     "name": "stdout",
     "output_type": "stream",
     "text": [
      "✅ loaded ULabel record with exact same name: '10.1126/science.aaw1219'\n",
      "✅ loaded: FeatureSet(uid='sUW7EfGxKDsnbaiNKmfa', n=1, registry='core.Feature', hash='GDHfHpyDTyVSYOGwgu69', updated_at=2023-12-06 05:20:13 UTC, created_by_id=1)\n",
      "✅ linked new feature 'DOI' together with new feature set FeatureSet(uid='sUW7EfGxKDsnbaiNKmfa', n=1, registry='core.Feature', hash='GDHfHpyDTyVSYOGwgu69', updated_at=2023-12-06 05:20:14 UTC, created_by_id=1)\n"
     ]
    },
    {
     "name": "stderr",
     "output_type": "stream",
     "text": [
      "\r",
      "159it [03:02,  1.16s/it]"
     ]
    },
    {
     "name": "stdout",
     "output_type": "stream",
     "text": [
      "✅ loaded ULabel record with exact same name: '10.1126/science.aaw1219'\n",
      "✅ loaded: FeatureSet(uid='sUW7EfGxKDsnbaiNKmfa', n=1, registry='core.Feature', hash='GDHfHpyDTyVSYOGwgu69', updated_at=2023-12-06 05:20:14 UTC, created_by_id=1)\n",
      "✅ linked new feature 'DOI' together with new feature set FeatureSet(uid='sUW7EfGxKDsnbaiNKmfa', n=1, registry='core.Feature', hash='GDHfHpyDTyVSYOGwgu69', updated_at=2023-12-06 05:20:15 UTC, created_by_id=1)\n"
     ]
    },
    {
     "name": "stderr",
     "output_type": "stream",
     "text": [
      "\r",
      "160it [03:04,  1.16s/it]"
     ]
    },
    {
     "name": "stdout",
     "output_type": "stream",
     "text": [
      "✅ loaded ULabel record with exact same name: '10.1126/science.aaw1219'\n",
      "✅ loaded: FeatureSet(uid='sUW7EfGxKDsnbaiNKmfa', n=1, registry='core.Feature', hash='GDHfHpyDTyVSYOGwgu69', updated_at=2023-12-06 05:20:15 UTC, created_by_id=1)\n",
      "✅ linked new feature 'DOI' together with new feature set FeatureSet(uid='sUW7EfGxKDsnbaiNKmfa', n=1, registry='core.Feature', hash='GDHfHpyDTyVSYOGwgu69', updated_at=2023-12-06 05:20:16 UTC, created_by_id=1)\n"
     ]
    },
    {
     "name": "stderr",
     "output_type": "stream",
     "text": [
      "\r",
      "161it [03:05,  1.16s/it]"
     ]
    },
    {
     "name": "stdout",
     "output_type": "stream",
     "text": [
      "✅ loaded ULabel record with exact same name: '10.1126/science.aaw1219'\n",
      "✅ loaded: FeatureSet(uid='sUW7EfGxKDsnbaiNKmfa', n=1, registry='core.Feature', hash='GDHfHpyDTyVSYOGwgu69', updated_at=2023-12-06 05:20:16 UTC, created_by_id=1)\n",
      "✅ linked new feature 'DOI' together with new feature set FeatureSet(uid='sUW7EfGxKDsnbaiNKmfa', n=1, registry='core.Feature', hash='GDHfHpyDTyVSYOGwgu69', updated_at=2023-12-06 05:20:17 UTC, created_by_id=1)\n"
     ]
    },
    {
     "name": "stderr",
     "output_type": "stream",
     "text": [
      "\r",
      "162it [03:06,  1.16s/it]"
     ]
    },
    {
     "name": "stdout",
     "output_type": "stream",
     "text": [
      "✅ loaded ULabel record with exact same name: '10.1126/science.aaw1219'\n",
      "✅ loaded: FeatureSet(uid='sUW7EfGxKDsnbaiNKmfa', n=1, registry='core.Feature', hash='GDHfHpyDTyVSYOGwgu69', updated_at=2023-12-06 05:20:17 UTC, created_by_id=1)\n",
      "✅ linked new feature 'DOI' together with new feature set FeatureSet(uid='sUW7EfGxKDsnbaiNKmfa', n=1, registry='core.Feature', hash='GDHfHpyDTyVSYOGwgu69', updated_at=2023-12-06 05:20:18 UTC, created_by_id=1)\n"
     ]
    },
    {
     "name": "stderr",
     "output_type": "stream",
     "text": [
      "\r",
      "163it [03:07,  1.16s/it]"
     ]
    },
    {
     "name": "stdout",
     "output_type": "stream",
     "text": [
      "✅ loaded ULabel record with exact same name: '10.1126/science.aaw1219'\n",
      "✅ loaded: FeatureSet(uid='sUW7EfGxKDsnbaiNKmfa', n=1, registry='core.Feature', hash='GDHfHpyDTyVSYOGwgu69', updated_at=2023-12-06 05:20:18 UTC, created_by_id=1)\n",
      "✅ linked new feature 'DOI' together with new feature set FeatureSet(uid='sUW7EfGxKDsnbaiNKmfa', n=1, registry='core.Feature', hash='GDHfHpyDTyVSYOGwgu69', updated_at=2023-12-06 05:20:20 UTC, created_by_id=1)\n"
     ]
    },
    {
     "name": "stderr",
     "output_type": "stream",
     "text": [
      "\r",
      "164it [03:08,  1.16s/it]"
     ]
    },
    {
     "name": "stdout",
     "output_type": "stream",
     "text": [
      "✅ loaded ULabel record with exact same name: '10.1126/science.aaw1219'\n",
      "✅ loaded: FeatureSet(uid='sUW7EfGxKDsnbaiNKmfa', n=1, registry='core.Feature', hash='GDHfHpyDTyVSYOGwgu69', updated_at=2023-12-06 05:20:20 UTC, created_by_id=1)\n",
      "✅ linked new feature 'DOI' together with new feature set FeatureSet(uid='sUW7EfGxKDsnbaiNKmfa', n=1, registry='core.Feature', hash='GDHfHpyDTyVSYOGwgu69', updated_at=2023-12-06 05:20:21 UTC, created_by_id=1)\n"
     ]
    },
    {
     "name": "stderr",
     "output_type": "stream",
     "text": [
      "\r",
      "165it [03:09,  1.16s/it]"
     ]
    },
    {
     "name": "stdout",
     "output_type": "stream",
     "text": [
      "✅ loaded ULabel record with exact same name: '10.1126/science.aaw1219'\n",
      "✅ loaded: FeatureSet(uid='sUW7EfGxKDsnbaiNKmfa', n=1, registry='core.Feature', hash='GDHfHpyDTyVSYOGwgu69', updated_at=2023-12-06 05:20:21 UTC, created_by_id=1)\n",
      "✅ linked new feature 'DOI' together with new feature set FeatureSet(uid='sUW7EfGxKDsnbaiNKmfa', n=1, registry='core.Feature', hash='GDHfHpyDTyVSYOGwgu69', updated_at=2023-12-06 05:20:22 UTC, created_by_id=1)\n"
     ]
    },
    {
     "name": "stderr",
     "output_type": "stream",
     "text": [
      "\r",
      "166it [03:11,  1.17s/it]"
     ]
    },
    {
     "name": "stdout",
     "output_type": "stream",
     "text": [
      "✅ loaded ULabel record with exact same name: '10.1126/science.aaw1219'\n",
      "✅ loaded: FeatureSet(uid='sUW7EfGxKDsnbaiNKmfa', n=1, registry='core.Feature', hash='GDHfHpyDTyVSYOGwgu69', updated_at=2023-12-06 05:20:22 UTC, created_by_id=1)\n",
      "✅ linked new feature 'DOI' together with new feature set FeatureSet(uid='sUW7EfGxKDsnbaiNKmfa', n=1, registry='core.Feature', hash='GDHfHpyDTyVSYOGwgu69', updated_at=2023-12-06 05:20:23 UTC, created_by_id=1)\n"
     ]
    },
    {
     "name": "stderr",
     "output_type": "stream",
     "text": [
      "\r",
      "167it [03:12,  1.17s/it]"
     ]
    },
    {
     "name": "stdout",
     "output_type": "stream",
     "text": [
      "✅ loaded ULabel record with exact same name: '10.1126/science.aaw1219'\n",
      "✅ loaded: FeatureSet(uid='sUW7EfGxKDsnbaiNKmfa', n=1, registry='core.Feature', hash='GDHfHpyDTyVSYOGwgu69', updated_at=2023-12-06 05:20:23 UTC, created_by_id=1)\n",
      "✅ linked new feature 'DOI' together with new feature set FeatureSet(uid='sUW7EfGxKDsnbaiNKmfa', n=1, registry='core.Feature', hash='GDHfHpyDTyVSYOGwgu69', updated_at=2023-12-06 05:20:24 UTC, created_by_id=1)\n"
     ]
    },
    {
     "name": "stderr",
     "output_type": "stream",
     "text": [
      "\r",
      "168it [03:13,  1.17s/it]"
     ]
    },
    {
     "name": "stdout",
     "output_type": "stream",
     "text": [
      "✅ loaded ULabel record with exact same name: '10.1126/science.aaw1219'\n",
      "✅ loaded: FeatureSet(uid='sUW7EfGxKDsnbaiNKmfa', n=1, registry='core.Feature', hash='GDHfHpyDTyVSYOGwgu69', updated_at=2023-12-06 05:20:24 UTC, created_by_id=1)\n",
      "✅ linked new feature 'DOI' together with new feature set FeatureSet(uid='sUW7EfGxKDsnbaiNKmfa', n=1, registry='core.Feature', hash='GDHfHpyDTyVSYOGwgu69', updated_at=2023-12-06 05:20:25 UTC, created_by_id=1)\n"
     ]
    },
    {
     "name": "stderr",
     "output_type": "stream",
     "text": [
      "\r",
      "169it [03:14,  1.16s/it]"
     ]
    },
    {
     "name": "stdout",
     "output_type": "stream",
     "text": [
      "✅ loaded ULabel record with exact same name: '10.1126/science.aaw1219'\n",
      "✅ loaded: FeatureSet(uid='sUW7EfGxKDsnbaiNKmfa', n=1, registry='core.Feature', hash='GDHfHpyDTyVSYOGwgu69', updated_at=2023-12-06 05:20:25 UTC, created_by_id=1)\n",
      "✅ linked new feature 'DOI' together with new feature set FeatureSet(uid='sUW7EfGxKDsnbaiNKmfa', n=1, registry='core.Feature', hash='GDHfHpyDTyVSYOGwgu69', updated_at=2023-12-06 05:20:27 UTC, created_by_id=1)\n"
     ]
    },
    {
     "name": "stderr",
     "output_type": "stream",
     "text": [
      "\r",
      "170it [03:15,  1.16s/it]"
     ]
    },
    {
     "name": "stdout",
     "output_type": "stream",
     "text": [
      "✅ loaded ULabel record with exact same name: '10.1126/science.aaw1219'\n",
      "✅ loaded: FeatureSet(uid='sUW7EfGxKDsnbaiNKmfa', n=1, registry='core.Feature', hash='GDHfHpyDTyVSYOGwgu69', updated_at=2023-12-06 05:20:27 UTC, created_by_id=1)\n",
      "✅ linked new feature 'DOI' together with new feature set FeatureSet(uid='sUW7EfGxKDsnbaiNKmfa', n=1, registry='core.Feature', hash='GDHfHpyDTyVSYOGwgu69', updated_at=2023-12-06 05:20:28 UTC, created_by_id=1)\n"
     ]
    },
    {
     "name": "stderr",
     "output_type": "stream",
     "text": [
      "\r",
      "171it [03:16,  1.16s/it]"
     ]
    },
    {
     "name": "stdout",
     "output_type": "stream",
     "text": [
      "✅ loaded ULabel record with exact same name: '10.1126/science.aaw1219'\n",
      "✅ loaded: FeatureSet(uid='sUW7EfGxKDsnbaiNKmfa', n=1, registry='core.Feature', hash='GDHfHpyDTyVSYOGwgu69', updated_at=2023-12-06 05:20:28 UTC, created_by_id=1)\n",
      "✅ linked new feature 'DOI' together with new feature set FeatureSet(uid='sUW7EfGxKDsnbaiNKmfa', n=1, registry='core.Feature', hash='GDHfHpyDTyVSYOGwgu69', updated_at=2023-12-06 05:20:29 UTC, created_by_id=1)\n"
     ]
    },
    {
     "name": "stderr",
     "output_type": "stream",
     "text": [
      "\r",
      "172it [03:18,  1.16s/it]"
     ]
    },
    {
     "name": "stdout",
     "output_type": "stream",
     "text": [
      "✅ loaded ULabel record with exact same name: '10.1126/science.aaw1219'\n",
      "✅ loaded: FeatureSet(uid='sUW7EfGxKDsnbaiNKmfa', n=1, registry='core.Feature', hash='GDHfHpyDTyVSYOGwgu69', updated_at=2023-12-06 05:20:29 UTC, created_by_id=1)\n",
      "✅ linked new feature 'DOI' together with new feature set FeatureSet(uid='sUW7EfGxKDsnbaiNKmfa', n=1, registry='core.Feature', hash='GDHfHpyDTyVSYOGwgu69', updated_at=2023-12-06 05:20:30 UTC, created_by_id=1)\n"
     ]
    },
    {
     "name": "stderr",
     "output_type": "stream",
     "text": [
      "\r",
      "173it [03:19,  1.16s/it]"
     ]
    },
    {
     "name": "stdout",
     "output_type": "stream",
     "text": [
      "✅ loaded ULabel record with exact same name: '10.1126/science.aaw1219'\n",
      "✅ loaded: FeatureSet(uid='sUW7EfGxKDsnbaiNKmfa', n=1, registry='core.Feature', hash='GDHfHpyDTyVSYOGwgu69', updated_at=2023-12-06 05:20:30 UTC, created_by_id=1)\n",
      "✅ linked new feature 'DOI' together with new feature set FeatureSet(uid='sUW7EfGxKDsnbaiNKmfa', n=1, registry='core.Feature', hash='GDHfHpyDTyVSYOGwgu69', updated_at=2023-12-06 05:20:31 UTC, created_by_id=1)\n"
     ]
    },
    {
     "name": "stderr",
     "output_type": "stream",
     "text": [
      "\r",
      "174it [03:20,  1.17s/it]"
     ]
    },
    {
     "name": "stdout",
     "output_type": "stream",
     "text": [
      "✅ loaded ULabel record with exact same name: '10.1126/science.aaw1219'\n",
      "✅ loaded: FeatureSet(uid='sUW7EfGxKDsnbaiNKmfa', n=1, registry='core.Feature', hash='GDHfHpyDTyVSYOGwgu69', updated_at=2023-12-06 05:20:31 UTC, created_by_id=1)\n",
      "✅ linked new feature 'DOI' together with new feature set FeatureSet(uid='sUW7EfGxKDsnbaiNKmfa', n=1, registry='core.Feature', hash='GDHfHpyDTyVSYOGwgu69', updated_at=2023-12-06 05:20:32 UTC, created_by_id=1)\n"
     ]
    },
    {
     "name": "stderr",
     "output_type": "stream",
     "text": [
      "\r",
      "175it [03:21,  1.17s/it]"
     ]
    },
    {
     "name": "stdout",
     "output_type": "stream",
     "text": [
      "✅ loaded ULabel record with exact same name: '10.1126/science.aaw1219'\n",
      "✅ loaded: FeatureSet(uid='sUW7EfGxKDsnbaiNKmfa', n=1, registry='core.Feature', hash='GDHfHpyDTyVSYOGwgu69', updated_at=2023-12-06 05:20:32 UTC, created_by_id=1)\n",
      "✅ linked new feature 'DOI' together with new feature set FeatureSet(uid='sUW7EfGxKDsnbaiNKmfa', n=1, registry='core.Feature', hash='GDHfHpyDTyVSYOGwgu69', updated_at=2023-12-06 05:20:34 UTC, created_by_id=1)\n"
     ]
    },
    {
     "name": "stderr",
     "output_type": "stream",
     "text": [
      "\r",
      "176it [03:22,  1.17s/it]"
     ]
    },
    {
     "name": "stdout",
     "output_type": "stream",
     "text": [
      "✅ loaded ULabel record with exact same name: '10.1126/science.aaw1219'\n",
      "✅ loaded: FeatureSet(uid='sUW7EfGxKDsnbaiNKmfa', n=1, registry='core.Feature', hash='GDHfHpyDTyVSYOGwgu69', updated_at=2023-12-06 05:20:34 UTC, created_by_id=1)\n",
      "✅ linked new feature 'DOI' together with new feature set FeatureSet(uid='sUW7EfGxKDsnbaiNKmfa', n=1, registry='core.Feature', hash='GDHfHpyDTyVSYOGwgu69', updated_at=2023-12-06 05:20:35 UTC, created_by_id=1)\n"
     ]
    },
    {
     "name": "stderr",
     "output_type": "stream",
     "text": [
      "\r",
      "177it [03:23,  1.17s/it]"
     ]
    },
    {
     "name": "stdout",
     "output_type": "stream",
     "text": [
      "✅ loaded ULabel record with exact same name: '10.1126/science.aaw1219'\n",
      "✅ loaded: FeatureSet(uid='sUW7EfGxKDsnbaiNKmfa', n=1, registry='core.Feature', hash='GDHfHpyDTyVSYOGwgu69', updated_at=2023-12-06 05:20:35 UTC, created_by_id=1)\n",
      "✅ linked new feature 'DOI' together with new feature set FeatureSet(uid='sUW7EfGxKDsnbaiNKmfa', n=1, registry='core.Feature', hash='GDHfHpyDTyVSYOGwgu69', updated_at=2023-12-06 05:20:36 UTC, created_by_id=1)\n"
     ]
    },
    {
     "name": "stderr",
     "output_type": "stream",
     "text": [
      "\r",
      "178it [03:25,  1.18s/it]"
     ]
    },
    {
     "name": "stdout",
     "output_type": "stream",
     "text": [
      "✅ loaded ULabel record with exact same name: '10.1126/science.aaw1219'\n",
      "✅ loaded: FeatureSet(uid='sUW7EfGxKDsnbaiNKmfa', n=1, registry='core.Feature', hash='GDHfHpyDTyVSYOGwgu69', updated_at=2023-12-06 05:20:36 UTC, created_by_id=1)\n",
      "✅ linked new feature 'DOI' together with new feature set FeatureSet(uid='sUW7EfGxKDsnbaiNKmfa', n=1, registry='core.Feature', hash='GDHfHpyDTyVSYOGwgu69', updated_at=2023-12-06 05:20:37 UTC, created_by_id=1)\n"
     ]
    },
    {
     "name": "stderr",
     "output_type": "stream",
     "text": [
      "\r",
      "179it [03:26,  1.17s/it]"
     ]
    },
    {
     "name": "stdout",
     "output_type": "stream",
     "text": [
      "✅ loaded ULabel record with exact same name: '10.1126/science.aaw1219'\n",
      "✅ loaded: FeatureSet(uid='sUW7EfGxKDsnbaiNKmfa', n=1, registry='core.Feature', hash='GDHfHpyDTyVSYOGwgu69', updated_at=2023-12-06 05:20:37 UTC, created_by_id=1)\n",
      "✅ linked new feature 'DOI' together with new feature set FeatureSet(uid='sUW7EfGxKDsnbaiNKmfa', n=1, registry='core.Feature', hash='GDHfHpyDTyVSYOGwgu69', updated_at=2023-12-06 05:20:38 UTC, created_by_id=1)\n"
     ]
    },
    {
     "name": "stderr",
     "output_type": "stream",
     "text": [
      "\r",
      "180it [03:27,  1.17s/it]"
     ]
    },
    {
     "name": "stdout",
     "output_type": "stream",
     "text": [
      "✅ loaded ULabel record with exact same name: '10.1126/science.aaw1219'\n",
      "✅ loaded: FeatureSet(uid='sUW7EfGxKDsnbaiNKmfa', n=1, registry='core.Feature', hash='GDHfHpyDTyVSYOGwgu69', updated_at=2023-12-06 05:20:38 UTC, created_by_id=1)\n",
      "✅ linked new feature 'DOI' together with new feature set FeatureSet(uid='sUW7EfGxKDsnbaiNKmfa', n=1, registry='core.Feature', hash='GDHfHpyDTyVSYOGwgu69', updated_at=2023-12-06 05:20:40 UTC, created_by_id=1)\n"
     ]
    },
    {
     "name": "stderr",
     "output_type": "stream",
     "text": [
      "\r",
      "181it [03:28,  1.17s/it]"
     ]
    },
    {
     "name": "stdout",
     "output_type": "stream",
     "text": [
      "✅ loaded ULabel record with exact same name: '10.1126/science.aaw1219'\n",
      "✅ loaded: FeatureSet(uid='sUW7EfGxKDsnbaiNKmfa', n=1, registry='core.Feature', hash='GDHfHpyDTyVSYOGwgu69', updated_at=2023-12-06 05:20:40 UTC, created_by_id=1)\n",
      "✅ linked new feature 'DOI' together with new feature set FeatureSet(uid='sUW7EfGxKDsnbaiNKmfa', n=1, registry='core.Feature', hash='GDHfHpyDTyVSYOGwgu69', updated_at=2023-12-06 05:20:41 UTC, created_by_id=1)\n"
     ]
    },
    {
     "name": "stderr",
     "output_type": "stream",
     "text": [
      "\r",
      "182it [03:29,  1.17s/it]"
     ]
    },
    {
     "name": "stdout",
     "output_type": "stream",
     "text": [
      "✅ loaded ULabel record with exact same name: '10.1126/science.aaw1219'\n",
      "✅ loaded: FeatureSet(uid='sUW7EfGxKDsnbaiNKmfa', n=1, registry='core.Feature', hash='GDHfHpyDTyVSYOGwgu69', updated_at=2023-12-06 05:20:41 UTC, created_by_id=1)\n",
      "✅ linked new feature 'DOI' together with new feature set FeatureSet(uid='sUW7EfGxKDsnbaiNKmfa', n=1, registry='core.Feature', hash='GDHfHpyDTyVSYOGwgu69', updated_at=2023-12-06 05:20:42 UTC, created_by_id=1)\n"
     ]
    },
    {
     "name": "stderr",
     "output_type": "stream",
     "text": [
      "\r",
      "183it [03:30,  1.17s/it]"
     ]
    },
    {
     "name": "stdout",
     "output_type": "stream",
     "text": [
      "✅ loaded ULabel record with exact same name: '10.1126/science.aaw1219'\n",
      "✅ loaded: FeatureSet(uid='sUW7EfGxKDsnbaiNKmfa', n=1, registry='core.Feature', hash='GDHfHpyDTyVSYOGwgu69', updated_at=2023-12-06 05:20:42 UTC, created_by_id=1)\n",
      "✅ linked new feature 'DOI' together with new feature set FeatureSet(uid='sUW7EfGxKDsnbaiNKmfa', n=1, registry='core.Feature', hash='GDHfHpyDTyVSYOGwgu69', updated_at=2023-12-06 05:20:43 UTC, created_by_id=1)\n"
     ]
    },
    {
     "name": "stderr",
     "output_type": "stream",
     "text": [
      "\r",
      "184it [03:32,  1.17s/it]"
     ]
    },
    {
     "name": "stdout",
     "output_type": "stream",
     "text": [
      "✅ loaded ULabel record with exact same name: '10.1126/science.aaw1219'\n",
      "✅ loaded: FeatureSet(uid='sUW7EfGxKDsnbaiNKmfa', n=1, registry='core.Feature', hash='GDHfHpyDTyVSYOGwgu69', updated_at=2023-12-06 05:20:43 UTC, created_by_id=1)\n",
      "✅ linked new feature 'DOI' together with new feature set FeatureSet(uid='sUW7EfGxKDsnbaiNKmfa', n=1, registry='core.Feature', hash='GDHfHpyDTyVSYOGwgu69', updated_at=2023-12-06 05:20:44 UTC, created_by_id=1)\n"
     ]
    },
    {
     "name": "stderr",
     "output_type": "stream",
     "text": [
      "\r",
      "185it [03:33,  1.16s/it]"
     ]
    },
    {
     "name": "stdout",
     "output_type": "stream",
     "text": [
      "✅ loaded ULabel record with exact same name: '10.1126/science.aaw1219'\n",
      "✅ loaded: FeatureSet(uid='sUW7EfGxKDsnbaiNKmfa', n=1, registry='core.Feature', hash='GDHfHpyDTyVSYOGwgu69', updated_at=2023-12-06 05:20:44 UTC, created_by_id=1)\n",
      "✅ linked new feature 'DOI' together with new feature set FeatureSet(uid='sUW7EfGxKDsnbaiNKmfa', n=1, registry='core.Feature', hash='GDHfHpyDTyVSYOGwgu69', updated_at=2023-12-06 05:20:45 UTC, created_by_id=1)\n"
     ]
    },
    {
     "name": "stderr",
     "output_type": "stream",
     "text": [
      "\r",
      "186it [03:34,  1.16s/it]"
     ]
    },
    {
     "name": "stdout",
     "output_type": "stream",
     "text": [
      "✅ loaded ULabel record with exact same name: '10.1126/science.aaw1219'\n",
      "✅ loaded: FeatureSet(uid='sUW7EfGxKDsnbaiNKmfa', n=1, registry='core.Feature', hash='GDHfHpyDTyVSYOGwgu69', updated_at=2023-12-06 05:20:45 UTC, created_by_id=1)\n",
      "✅ linked new feature 'DOI' together with new feature set FeatureSet(uid='sUW7EfGxKDsnbaiNKmfa', n=1, registry='core.Feature', hash='GDHfHpyDTyVSYOGwgu69', updated_at=2023-12-06 05:20:46 UTC, created_by_id=1)\n"
     ]
    },
    {
     "name": "stderr",
     "output_type": "stream",
     "text": [
      "\r",
      "187it [03:35,  1.17s/it]"
     ]
    },
    {
     "name": "stdout",
     "output_type": "stream",
     "text": [
      "✅ loaded ULabel record with exact same name: '10.1126/science.aaw1219'\n",
      "✅ loaded: FeatureSet(uid='sUW7EfGxKDsnbaiNKmfa', n=1, registry='core.Feature', hash='GDHfHpyDTyVSYOGwgu69', updated_at=2023-12-06 05:20:46 UTC, created_by_id=1)\n",
      "✅ linked new feature 'DOI' together with new feature set FeatureSet(uid='sUW7EfGxKDsnbaiNKmfa', n=1, registry='core.Feature', hash='GDHfHpyDTyVSYOGwgu69', updated_at=2023-12-06 05:20:48 UTC, created_by_id=1)\n"
     ]
    },
    {
     "name": "stderr",
     "output_type": "stream",
     "text": [
      "\r",
      "188it [03:36,  1.19s/it]"
     ]
    },
    {
     "name": "stdout",
     "output_type": "stream",
     "text": [
      "✅ loaded ULabel record with exact same name: '10.1126/science.aaw1219'\n",
      "✅ loaded: FeatureSet(uid='sUW7EfGxKDsnbaiNKmfa', n=1, registry='core.Feature', hash='GDHfHpyDTyVSYOGwgu69', updated_at=2023-12-06 05:20:48 UTC, created_by_id=1)\n",
      "✅ linked new feature 'DOI' together with new feature set FeatureSet(uid='sUW7EfGxKDsnbaiNKmfa', n=1, registry='core.Feature', hash='GDHfHpyDTyVSYOGwgu69', updated_at=2023-12-06 05:20:49 UTC, created_by_id=1)\n"
     ]
    },
    {
     "name": "stderr",
     "output_type": "stream",
     "text": [
      "\r",
      "189it [03:38,  1.18s/it]"
     ]
    },
    {
     "name": "stdout",
     "output_type": "stream",
     "text": [
      "✅ loaded ULabel record with exact same name: '10.1126/science.aaw1219'\n",
      "✅ loaded: FeatureSet(uid='sUW7EfGxKDsnbaiNKmfa', n=1, registry='core.Feature', hash='GDHfHpyDTyVSYOGwgu69', updated_at=2023-12-06 05:20:49 UTC, created_by_id=1)\n",
      "✅ linked new feature 'DOI' together with new feature set FeatureSet(uid='sUW7EfGxKDsnbaiNKmfa', n=1, registry='core.Feature', hash='GDHfHpyDTyVSYOGwgu69', updated_at=2023-12-06 05:20:50 UTC, created_by_id=1)\n"
     ]
    },
    {
     "name": "stderr",
     "output_type": "stream",
     "text": [
      "\r",
      "190it [03:39,  1.17s/it]"
     ]
    },
    {
     "name": "stdout",
     "output_type": "stream",
     "text": [
      "✅ loaded ULabel record with exact same name: '10.1126/science.aaw1219'\n",
      "✅ loaded: FeatureSet(uid='sUW7EfGxKDsnbaiNKmfa', n=1, registry='core.Feature', hash='GDHfHpyDTyVSYOGwgu69', updated_at=2023-12-06 05:20:50 UTC, created_by_id=1)\n",
      "✅ linked new feature 'DOI' together with new feature set FeatureSet(uid='sUW7EfGxKDsnbaiNKmfa', n=1, registry='core.Feature', hash='GDHfHpyDTyVSYOGwgu69', updated_at=2023-12-06 05:20:51 UTC, created_by_id=1)\n"
     ]
    },
    {
     "name": "stderr",
     "output_type": "stream",
     "text": [
      "\r",
      "191it [03:40,  1.17s/it]"
     ]
    },
    {
     "name": "stdout",
     "output_type": "stream",
     "text": [
      "✅ loaded ULabel record with exact same name: '10.1126/science.aaw1219'\n",
      "✅ loaded: FeatureSet(uid='sUW7EfGxKDsnbaiNKmfa', n=1, registry='core.Feature', hash='GDHfHpyDTyVSYOGwgu69', updated_at=2023-12-06 05:20:51 UTC, created_by_id=1)\n",
      "✅ linked new feature 'DOI' together with new feature set FeatureSet(uid='sUW7EfGxKDsnbaiNKmfa', n=1, registry='core.Feature', hash='GDHfHpyDTyVSYOGwgu69', updated_at=2023-12-06 05:20:52 UTC, created_by_id=1)\n"
     ]
    },
    {
     "name": "stderr",
     "output_type": "stream",
     "text": [
      "\r",
      "192it [03:41,  1.17s/it]"
     ]
    },
    {
     "name": "stdout",
     "output_type": "stream",
     "text": [
      "✅ loaded ULabel record with exact same name: '10.1126/science.aaw1219'\n",
      "✅ loaded: FeatureSet(uid='sUW7EfGxKDsnbaiNKmfa', n=1, registry='core.Feature', hash='GDHfHpyDTyVSYOGwgu69', updated_at=2023-12-06 05:20:52 UTC, created_by_id=1)\n",
      "✅ linked new feature 'DOI' together with new feature set FeatureSet(uid='sUW7EfGxKDsnbaiNKmfa', n=1, registry='core.Feature', hash='GDHfHpyDTyVSYOGwgu69', updated_at=2023-12-06 05:20:54 UTC, created_by_id=1)\n"
     ]
    },
    {
     "name": "stderr",
     "output_type": "stream",
     "text": [
      "\r",
      "193it [03:42,  1.17s/it]"
     ]
    },
    {
     "name": "stdout",
     "output_type": "stream",
     "text": [
      "✅ loaded ULabel record with exact same name: '10.1126/science.aaw1219'\n",
      "✅ loaded: FeatureSet(uid='sUW7EfGxKDsnbaiNKmfa', n=1, registry='core.Feature', hash='GDHfHpyDTyVSYOGwgu69', updated_at=2023-12-06 05:20:54 UTC, created_by_id=1)\n",
      "✅ linked new feature 'DOI' together with new feature set FeatureSet(uid='sUW7EfGxKDsnbaiNKmfa', n=1, registry='core.Feature', hash='GDHfHpyDTyVSYOGwgu69', updated_at=2023-12-06 05:20:55 UTC, created_by_id=1)\n"
     ]
    },
    {
     "name": "stderr",
     "output_type": "stream",
     "text": [
      "\r",
      "194it [03:43,  1.17s/it]"
     ]
    },
    {
     "name": "stdout",
     "output_type": "stream",
     "text": [
      "✅ loaded ULabel record with exact same name: '10.1126/science.aaw1219'\n",
      "✅ loaded: FeatureSet(uid='sUW7EfGxKDsnbaiNKmfa', n=1, registry='core.Feature', hash='GDHfHpyDTyVSYOGwgu69', updated_at=2023-12-06 05:20:55 UTC, created_by_id=1)\n",
      "✅ linked new feature 'DOI' together with new feature set FeatureSet(uid='sUW7EfGxKDsnbaiNKmfa', n=1, registry='core.Feature', hash='GDHfHpyDTyVSYOGwgu69', updated_at=2023-12-06 05:20:56 UTC, created_by_id=1)\n"
     ]
    },
    {
     "name": "stderr",
     "output_type": "stream",
     "text": [
      "\r",
      "195it [03:45,  1.17s/it]"
     ]
    },
    {
     "name": "stdout",
     "output_type": "stream",
     "text": [
      "✅ loaded ULabel record with exact same name: '10.1126/science.aaw1219'\n",
      "✅ loaded: FeatureSet(uid='sUW7EfGxKDsnbaiNKmfa', n=1, registry='core.Feature', hash='GDHfHpyDTyVSYOGwgu69', updated_at=2023-12-06 05:20:56 UTC, created_by_id=1)\n",
      "✅ linked new feature 'DOI' together with new feature set FeatureSet(uid='sUW7EfGxKDsnbaiNKmfa', n=1, registry='core.Feature', hash='GDHfHpyDTyVSYOGwgu69', updated_at=2023-12-06 05:20:57 UTC, created_by_id=1)\n"
     ]
    },
    {
     "name": "stderr",
     "output_type": "stream",
     "text": [
      "\r",
      "196it [03:46,  1.17s/it]"
     ]
    },
    {
     "name": "stdout",
     "output_type": "stream",
     "text": [
      "✅ loaded ULabel record with exact same name: '10.1126/science.aaw1219'\n",
      "✅ loaded: FeatureSet(uid='sUW7EfGxKDsnbaiNKmfa', n=1, registry='core.Feature', hash='GDHfHpyDTyVSYOGwgu69', updated_at=2023-12-06 05:20:57 UTC, created_by_id=1)\n",
      "✅ linked new feature 'DOI' together with new feature set FeatureSet(uid='sUW7EfGxKDsnbaiNKmfa', n=1, registry='core.Feature', hash='GDHfHpyDTyVSYOGwgu69', updated_at=2023-12-06 05:20:58 UTC, created_by_id=1)\n"
     ]
    },
    {
     "name": "stderr",
     "output_type": "stream",
     "text": [
      "\r",
      "197it [03:47,  1.17s/it]"
     ]
    },
    {
     "name": "stdout",
     "output_type": "stream",
     "text": [
      "❗ record with similar name exist! did you mean to load it?\n"
     ]
    },
    {
     "data": {
      "text/html": [
       "<div>\n",
       "<style scoped>\n",
       "    .dataframe tbody tr th:only-of-type {\n",
       "        vertical-align: middle;\n",
       "    }\n",
       "\n",
       "    .dataframe tbody tr th {\n",
       "        vertical-align: top;\n",
       "    }\n",
       "\n",
       "    .dataframe thead th {\n",
       "        text-align: right;\n",
       "    }\n",
       "</style>\n",
       "<table border=\"1\" class=\"dataframe\">\n",
       "  <thead>\n",
       "    <tr style=\"text-align: right;\">\n",
       "      <th></th>\n",
       "      <th>uid</th>\n",
       "      <th>score</th>\n",
       "    </tr>\n",
       "    <tr>\n",
       "      <th>name</th>\n",
       "      <th></th>\n",
       "      <th></th>\n",
       "    </tr>\n",
       "  </thead>\n",
       "  <tbody>\n",
       "    <tr>\n",
       "      <th>10.1016/j.cell.2018.06.021</th>\n",
       "      <td>aIgIT1FT</td>\n",
       "      <td>92.3</td>\n",
       "    </tr>\n",
       "  </tbody>\n",
       "</table>\n",
       "</div>"
      ],
      "text/plain": [
       "                                 uid  score\n",
       "name                                       \n",
       "10.1016/j.cell.2018.06.021  aIgIT1FT   92.3"
      ]
     },
     "metadata": {},
     "output_type": "display_data"
    },
    {
     "name": "stdout",
     "output_type": "stream",
     "text": [
      "✅ loaded: FeatureSet(uid='sUW7EfGxKDsnbaiNKmfa', n=1, registry='core.Feature', hash='GDHfHpyDTyVSYOGwgu69', updated_at=2023-12-06 05:20:58 UTC, created_by_id=1)\n",
      "✅ linked new feature 'DOI' together with new feature set FeatureSet(uid='sUW7EfGxKDsnbaiNKmfa', n=1, registry='core.Feature', hash='GDHfHpyDTyVSYOGwgu69', updated_at=2023-12-06 05:20:59 UTC, created_by_id=1)\n"
     ]
    },
    {
     "name": "stderr",
     "output_type": "stream",
     "text": [
      "\r",
      "198it [03:48,  1.16s/it]"
     ]
    },
    {
     "name": "stdout",
     "output_type": "stream",
     "text": [
      "❗ record with similar name exist! did you mean to load it?\n"
     ]
    },
    {
     "data": {
      "text/html": [
       "<div>\n",
       "<style scoped>\n",
       "    .dataframe tbody tr th:only-of-type {\n",
       "        vertical-align: middle;\n",
       "    }\n",
       "\n",
       "    .dataframe tbody tr th {\n",
       "        vertical-align: top;\n",
       "    }\n",
       "\n",
       "    .dataframe thead th {\n",
       "        text-align: right;\n",
       "    }\n",
       "</style>\n",
       "<table border=\"1\" class=\"dataframe\">\n",
       "  <thead>\n",
       "    <tr style=\"text-align: right;\">\n",
       "      <th></th>\n",
       "      <th>uid</th>\n",
       "      <th>score</th>\n",
       "    </tr>\n",
       "    <tr>\n",
       "      <th>name</th>\n",
       "      <th></th>\n",
       "      <th></th>\n",
       "    </tr>\n",
       "  </thead>\n",
       "  <tbody>\n",
       "    <tr>\n",
       "      <th>10.1126/science.aaf6463</th>\n",
       "      <td>WgJdjuh2</td>\n",
       "      <td>91.3</td>\n",
       "    </tr>\n",
       "  </tbody>\n",
       "</table>\n",
       "</div>"
      ],
      "text/plain": [
       "                              uid  score\n",
       "name                                    \n",
       "10.1126/science.aaf6463  WgJdjuh2   91.3"
      ]
     },
     "metadata": {},
     "output_type": "display_data"
    },
    {
     "name": "stdout",
     "output_type": "stream",
     "text": [
      "✅ loaded: FeatureSet(uid='sUW7EfGxKDsnbaiNKmfa', n=1, registry='core.Feature', hash='GDHfHpyDTyVSYOGwgu69', updated_at=2023-12-06 05:20:59 UTC, created_by_id=1)\n",
      "✅ linked new feature 'DOI' together with new feature set FeatureSet(uid='sUW7EfGxKDsnbaiNKmfa', n=1, registry='core.Feature', hash='GDHfHpyDTyVSYOGwgu69', updated_at=2023-12-06 05:21:00 UTC, created_by_id=1)\n"
     ]
    },
    {
     "name": "stderr",
     "output_type": "stream",
     "text": [
      "\r",
      "199it [03:49,  1.15s/it]"
     ]
    },
    {
     "name": "stdout",
     "output_type": "stream",
     "text": [
      "✅ loaded: FeatureSet(uid='sUW7EfGxKDsnbaiNKmfa', n=1, registry='core.Feature', hash='GDHfHpyDTyVSYOGwgu69', updated_at=2023-12-06 05:21:00 UTC, created_by_id=1)\n",
      "✅ linked new feature 'DOI' together with new feature set FeatureSet(uid='sUW7EfGxKDsnbaiNKmfa', n=1, registry='core.Feature', hash='GDHfHpyDTyVSYOGwgu69', updated_at=2023-12-06 05:21:02 UTC, created_by_id=1)\n"
     ]
    },
    {
     "name": "stderr",
     "output_type": "stream",
     "text": [
      "\r",
      "200it [03:50,  1.14s/it]"
     ]
    },
    {
     "name": "stdout",
     "output_type": "stream",
     "text": [
      "✅ loaded ULabel record with exact same name: '10.1126/science.aat5691'\n",
      "✅ loaded: FeatureSet(uid='sUW7EfGxKDsnbaiNKmfa', n=1, registry='core.Feature', hash='GDHfHpyDTyVSYOGwgu69', updated_at=2023-12-06 05:21:02 UTC, created_by_id=1)\n",
      "✅ linked new feature 'DOI' together with new feature set FeatureSet(uid='sUW7EfGxKDsnbaiNKmfa', n=1, registry='core.Feature', hash='GDHfHpyDTyVSYOGwgu69', updated_at=2023-12-06 05:21:03 UTC, created_by_id=1)\n"
     ]
    },
    {
     "name": "stderr",
     "output_type": "stream",
     "text": [
      "\r",
      "201it [03:51,  1.15s/it]"
     ]
    },
    {
     "name": "stdout",
     "output_type": "stream",
     "text": [
      "✅ loaded ULabel record with exact same name: '10.1126/science.aat5691'\n",
      "✅ loaded: FeatureSet(uid='sUW7EfGxKDsnbaiNKmfa', n=1, registry='core.Feature', hash='GDHfHpyDTyVSYOGwgu69', updated_at=2023-12-06 05:21:03 UTC, created_by_id=1)\n",
      "✅ linked new feature 'DOI' together with new feature set FeatureSet(uid='sUW7EfGxKDsnbaiNKmfa', n=1, registry='core.Feature', hash='GDHfHpyDTyVSYOGwgu69', updated_at=2023-12-06 05:21:04 UTC, created_by_id=1)\n"
     ]
    },
    {
     "name": "stderr",
     "output_type": "stream",
     "text": [
      "\r",
      "202it [03:53,  1.16s/it]"
     ]
    },
    {
     "name": "stdout",
     "output_type": "stream",
     "text": [
      "✅ loaded ULabel record with exact same name: '10.1126/science.aat5691'\n",
      "✅ loaded: FeatureSet(uid='sUW7EfGxKDsnbaiNKmfa', n=1, registry='core.Feature', hash='GDHfHpyDTyVSYOGwgu69', updated_at=2023-12-06 05:21:04 UTC, created_by_id=1)\n",
      "✅ linked new feature 'DOI' together with new feature set FeatureSet(uid='sUW7EfGxKDsnbaiNKmfa', n=1, registry='core.Feature', hash='GDHfHpyDTyVSYOGwgu69', updated_at=2023-12-06 05:21:05 UTC, created_by_id=1)\n"
     ]
    },
    {
     "name": "stderr",
     "output_type": "stream",
     "text": [
      "\r",
      "203it [03:54,  1.16s/it]"
     ]
    },
    {
     "name": "stdout",
     "output_type": "stream",
     "text": [
      "✅ loaded ULabel record with exact same name: '10.1126/science.aat5691'\n",
      "✅ loaded: FeatureSet(uid='sUW7EfGxKDsnbaiNKmfa', n=1, registry='core.Feature', hash='GDHfHpyDTyVSYOGwgu69', updated_at=2023-12-06 05:21:05 UTC, created_by_id=1)\n",
      "✅ linked new feature 'DOI' together with new feature set FeatureSet(uid='sUW7EfGxKDsnbaiNKmfa', n=1, registry='core.Feature', hash='GDHfHpyDTyVSYOGwgu69', updated_at=2023-12-06 05:21:06 UTC, created_by_id=1)\n"
     ]
    },
    {
     "name": "stderr",
     "output_type": "stream",
     "text": [
      "\r",
      "204it [03:55,  1.16s/it]"
     ]
    },
    {
     "name": "stdout",
     "output_type": "stream",
     "text": [
      "✅ loaded ULabel record with exact same name: '10.1126/science.aat5691'\n",
      "✅ loaded: FeatureSet(uid='sUW7EfGxKDsnbaiNKmfa', n=1, registry='core.Feature', hash='GDHfHpyDTyVSYOGwgu69', updated_at=2023-12-06 05:21:06 UTC, created_by_id=1)\n",
      "✅ linked new feature 'DOI' together with new feature set FeatureSet(uid='sUW7EfGxKDsnbaiNKmfa', n=1, registry='core.Feature', hash='GDHfHpyDTyVSYOGwgu69', updated_at=2023-12-06 05:21:07 UTC, created_by_id=1)\n"
     ]
    },
    {
     "name": "stderr",
     "output_type": "stream",
     "text": [
      "\r",
      "205it [03:56,  1.16s/it]"
     ]
    },
    {
     "name": "stdout",
     "output_type": "stream",
     "text": [
      "✅ loaded ULabel record with exact same name: '10.1126/science.aat5691'\n",
      "✅ loaded: FeatureSet(uid='sUW7EfGxKDsnbaiNKmfa', n=1, registry='core.Feature', hash='GDHfHpyDTyVSYOGwgu69', updated_at=2023-12-06 05:21:07 UTC, created_by_id=1)\n",
      "✅ linked new feature 'DOI' together with new feature set FeatureSet(uid='sUW7EfGxKDsnbaiNKmfa', n=1, registry='core.Feature', hash='GDHfHpyDTyVSYOGwgu69', updated_at=2023-12-06 05:21:09 UTC, created_by_id=1)\n"
     ]
    },
    {
     "name": "stderr",
     "output_type": "stream",
     "text": [
      "\r",
      "206it [03:57,  1.17s/it]"
     ]
    },
    {
     "name": "stdout",
     "output_type": "stream",
     "text": [
      "✅ loaded ULabel record with exact same name: '10.1126/science.aat5691'\n",
      "✅ loaded: FeatureSet(uid='sUW7EfGxKDsnbaiNKmfa', n=1, registry='core.Feature', hash='GDHfHpyDTyVSYOGwgu69', updated_at=2023-12-06 05:21:09 UTC, created_by_id=1)\n",
      "✅ linked new feature 'DOI' together with new feature set FeatureSet(uid='sUW7EfGxKDsnbaiNKmfa', n=1, registry='core.Feature', hash='GDHfHpyDTyVSYOGwgu69', updated_at=2023-12-06 05:21:10 UTC, created_by_id=1)\n"
     ]
    },
    {
     "name": "stderr",
     "output_type": "stream",
     "text": [
      "\r",
      "207it [03:58,  1.17s/it]"
     ]
    },
    {
     "name": "stdout",
     "output_type": "stream",
     "text": [
      "✅ loaded ULabel record with exact same name: '10.1126/science.aat5691'\n",
      "✅ loaded: FeatureSet(uid='sUW7EfGxKDsnbaiNKmfa', n=1, registry='core.Feature', hash='GDHfHpyDTyVSYOGwgu69', updated_at=2023-12-06 05:21:10 UTC, created_by_id=1)\n",
      "✅ linked new feature 'DOI' together with new feature set FeatureSet(uid='sUW7EfGxKDsnbaiNKmfa', n=1, registry='core.Feature', hash='GDHfHpyDTyVSYOGwgu69', updated_at=2023-12-06 05:21:11 UTC, created_by_id=1)\n"
     ]
    },
    {
     "name": "stderr",
     "output_type": "stream",
     "text": [
      "\r",
      "208it [04:00,  1.17s/it]"
     ]
    },
    {
     "name": "stdout",
     "output_type": "stream",
     "text": [
      "✅ loaded ULabel record with exact same name: '10.1126/science.aat5691'\n",
      "✅ loaded: FeatureSet(uid='sUW7EfGxKDsnbaiNKmfa', n=1, registry='core.Feature', hash='GDHfHpyDTyVSYOGwgu69', updated_at=2023-12-06 05:21:11 UTC, created_by_id=1)\n",
      "✅ linked new feature 'DOI' together with new feature set FeatureSet(uid='sUW7EfGxKDsnbaiNKmfa', n=1, registry='core.Feature', hash='GDHfHpyDTyVSYOGwgu69', updated_at=2023-12-06 05:21:12 UTC, created_by_id=1)\n"
     ]
    },
    {
     "name": "stderr",
     "output_type": "stream",
     "text": [
      "\r",
      "209it [04:01,  1.18s/it]"
     ]
    },
    {
     "name": "stdout",
     "output_type": "stream",
     "text": [
      "✅ loaded ULabel record with exact same name: '10.1126/science.aat5691'\n",
      "✅ loaded: FeatureSet(uid='sUW7EfGxKDsnbaiNKmfa', n=1, registry='core.Feature', hash='GDHfHpyDTyVSYOGwgu69', updated_at=2023-12-06 05:21:12 UTC, created_by_id=1)\n",
      "✅ linked new feature 'DOI' together with new feature set FeatureSet(uid='sUW7EfGxKDsnbaiNKmfa', n=1, registry='core.Feature', hash='GDHfHpyDTyVSYOGwgu69', updated_at=2023-12-06 05:21:13 UTC, created_by_id=1)\n"
     ]
    },
    {
     "name": "stderr",
     "output_type": "stream",
     "text": [
      "\r",
      "210it [04:02,  1.17s/it]"
     ]
    },
    {
     "name": "stdout",
     "output_type": "stream",
     "text": [
      "✅ loaded: FeatureSet(uid='sUW7EfGxKDsnbaiNKmfa', n=1, registry='core.Feature', hash='GDHfHpyDTyVSYOGwgu69', updated_at=2023-12-06 05:21:13 UTC, created_by_id=1)\n",
      "✅ linked new feature 'DOI' together with new feature set FeatureSet(uid='sUW7EfGxKDsnbaiNKmfa', n=1, registry='core.Feature', hash='GDHfHpyDTyVSYOGwgu69', updated_at=2023-12-06 05:21:14 UTC, created_by_id=1)\n"
     ]
    },
    {
     "name": "stderr",
     "output_type": "stream",
     "text": [
      "\r",
      "211it [04:03,  1.15s/it]"
     ]
    },
    {
     "name": "stdout",
     "output_type": "stream",
     "text": [
      "✅ loaded ULabel record with exact same name: '10.1038/s41591-021-01329-2'\n",
      "✅ loaded: FeatureSet(uid='sUW7EfGxKDsnbaiNKmfa', n=1, registry='core.Feature', hash='GDHfHpyDTyVSYOGwgu69', updated_at=2023-12-06 05:21:14 UTC, created_by_id=1)\n",
      "✅ linked new feature 'DOI' together with new feature set FeatureSet(uid='sUW7EfGxKDsnbaiNKmfa', n=1, registry='core.Feature', hash='GDHfHpyDTyVSYOGwgu69', updated_at=2023-12-06 05:21:16 UTC, created_by_id=1)\n"
     ]
    },
    {
     "name": "stderr",
     "output_type": "stream",
     "text": [
      "\r",
      "212it [04:04,  1.16s/it]"
     ]
    },
    {
     "name": "stdout",
     "output_type": "stream",
     "text": [
      "✅ loaded: FeatureSet(uid='sUW7EfGxKDsnbaiNKmfa', n=1, registry='core.Feature', hash='GDHfHpyDTyVSYOGwgu69', updated_at=2023-12-06 05:21:16 UTC, created_by_id=1)\n",
      "✅ linked new feature 'DOI' together with new feature set FeatureSet(uid='sUW7EfGxKDsnbaiNKmfa', n=1, registry='core.Feature', hash='GDHfHpyDTyVSYOGwgu69', updated_at=2023-12-06 05:21:17 UTC, created_by_id=1)\n"
     ]
    },
    {
     "name": "stderr",
     "output_type": "stream",
     "text": [
      "\r",
      "213it [04:05,  1.14s/it]"
     ]
    },
    {
     "name": "stdout",
     "output_type": "stream",
     "text": [
      "✅ loaded ULabel record with exact same name: '10.1038/s41586-020-2496-1'\n",
      "✅ loaded: FeatureSet(uid='sUW7EfGxKDsnbaiNKmfa', n=1, registry='core.Feature', hash='GDHfHpyDTyVSYOGwgu69', updated_at=2023-12-06 05:21:17 UTC, created_by_id=1)\n",
      "✅ linked new feature 'DOI' together with new feature set FeatureSet(uid='sUW7EfGxKDsnbaiNKmfa', n=1, registry='core.Feature', hash='GDHfHpyDTyVSYOGwgu69', updated_at=2023-12-06 05:21:18 UTC, created_by_id=1)\n"
     ]
    },
    {
     "name": "stderr",
     "output_type": "stream",
     "text": [
      "\r",
      "214it [04:07,  1.15s/it]"
     ]
    },
    {
     "name": "stdout",
     "output_type": "stream",
     "text": [
      "✅ loaded ULabel record with exact same name: '10.1038/s41586-020-2496-1'\n",
      "✅ loaded: FeatureSet(uid='sUW7EfGxKDsnbaiNKmfa', n=1, registry='core.Feature', hash='GDHfHpyDTyVSYOGwgu69', updated_at=2023-12-06 05:21:18 UTC, created_by_id=1)\n",
      "✅ linked new feature 'DOI' together with new feature set FeatureSet(uid='sUW7EfGxKDsnbaiNKmfa', n=1, registry='core.Feature', hash='GDHfHpyDTyVSYOGwgu69', updated_at=2023-12-06 05:21:19 UTC, created_by_id=1)\n"
     ]
    },
    {
     "name": "stderr",
     "output_type": "stream",
     "text": [
      "\r",
      "215it [04:08,  1.15s/it]"
     ]
    },
    {
     "name": "stdout",
     "output_type": "stream",
     "text": [
      "✅ loaded ULabel record with exact same name: '10.1038/s41586-020-2496-1'\n",
      "✅ loaded: FeatureSet(uid='sUW7EfGxKDsnbaiNKmfa', n=1, registry='core.Feature', hash='GDHfHpyDTyVSYOGwgu69', updated_at=2023-12-06 05:21:19 UTC, created_by_id=1)\n",
      "✅ linked new feature 'DOI' together with new feature set FeatureSet(uid='sUW7EfGxKDsnbaiNKmfa', n=1, registry='core.Feature', hash='GDHfHpyDTyVSYOGwgu69', updated_at=2023-12-06 05:21:20 UTC, created_by_id=1)\n"
     ]
    },
    {
     "name": "stderr",
     "output_type": "stream",
     "text": [
      "\r",
      "216it [04:09,  1.16s/it]"
     ]
    },
    {
     "name": "stdout",
     "output_type": "stream",
     "text": [
      "✅ loaded ULabel record with exact same name: '10.1038/s41586-020-2496-1'\n",
      "✅ loaded: FeatureSet(uid='sUW7EfGxKDsnbaiNKmfa', n=1, registry='core.Feature', hash='GDHfHpyDTyVSYOGwgu69', updated_at=2023-12-06 05:21:20 UTC, created_by_id=1)\n",
      "✅ linked new feature 'DOI' together with new feature set FeatureSet(uid='sUW7EfGxKDsnbaiNKmfa', n=1, registry='core.Feature', hash='GDHfHpyDTyVSYOGwgu69', updated_at=2023-12-06 05:21:21 UTC, created_by_id=1)\n"
     ]
    },
    {
     "name": "stderr",
     "output_type": "stream",
     "text": [
      "\r",
      "217it [04:10,  1.16s/it]"
     ]
    },
    {
     "name": "stdout",
     "output_type": "stream",
     "text": [
      "✅ loaded ULabel record with exact same name: '10.1038/s41586-020-2496-1'\n",
      "✅ loaded: FeatureSet(uid='sUW7EfGxKDsnbaiNKmfa', n=1, registry='core.Feature', hash='GDHfHpyDTyVSYOGwgu69', updated_at=2023-12-06 05:21:21 UTC, created_by_id=1)\n",
      "✅ linked new feature 'DOI' together with new feature set FeatureSet(uid='sUW7EfGxKDsnbaiNKmfa', n=1, registry='core.Feature', hash='GDHfHpyDTyVSYOGwgu69', updated_at=2023-12-06 05:21:23 UTC, created_by_id=1)\n"
     ]
    },
    {
     "name": "stderr",
     "output_type": "stream",
     "text": [
      "\r",
      "218it [04:11,  1.16s/it]"
     ]
    },
    {
     "name": "stdout",
     "output_type": "stream",
     "text": [
      "✅ loaded ULabel record with exact same name: '10.1038/s41586-020-2496-1'\n",
      "✅ loaded: FeatureSet(uid='sUW7EfGxKDsnbaiNKmfa', n=1, registry='core.Feature', hash='GDHfHpyDTyVSYOGwgu69', updated_at=2023-12-06 05:21:23 UTC, created_by_id=1)\n",
      "✅ linked new feature 'DOI' together with new feature set FeatureSet(uid='sUW7EfGxKDsnbaiNKmfa', n=1, registry='core.Feature', hash='GDHfHpyDTyVSYOGwgu69', updated_at=2023-12-06 05:21:24 UTC, created_by_id=1)\n"
     ]
    },
    {
     "name": "stderr",
     "output_type": "stream",
     "text": [
      "\r",
      "219it [04:12,  1.16s/it]"
     ]
    },
    {
     "name": "stdout",
     "output_type": "stream",
     "text": [
      "✅ loaded ULabel record with exact same name: '10.1038/s41586-020-2496-1'\n",
      "✅ loaded: FeatureSet(uid='sUW7EfGxKDsnbaiNKmfa', n=1, registry='core.Feature', hash='GDHfHpyDTyVSYOGwgu69', updated_at=2023-12-06 05:21:24 UTC, created_by_id=1)\n",
      "✅ linked new feature 'DOI' together with new feature set FeatureSet(uid='sUW7EfGxKDsnbaiNKmfa', n=1, registry='core.Feature', hash='GDHfHpyDTyVSYOGwgu69', updated_at=2023-12-06 05:21:25 UTC, created_by_id=1)\n"
     ]
    },
    {
     "name": "stderr",
     "output_type": "stream",
     "text": [
      "\r",
      "220it [04:13,  1.16s/it]"
     ]
    },
    {
     "name": "stdout",
     "output_type": "stream",
     "text": [
      "✅ loaded ULabel record with exact same name: '10.1038/s41586-020-2496-1'\n",
      "✅ loaded: FeatureSet(uid='sUW7EfGxKDsnbaiNKmfa', n=1, registry='core.Feature', hash='GDHfHpyDTyVSYOGwgu69', updated_at=2023-12-06 05:21:25 UTC, created_by_id=1)\n",
      "✅ linked new feature 'DOI' together with new feature set FeatureSet(uid='sUW7EfGxKDsnbaiNKmfa', n=1, registry='core.Feature', hash='GDHfHpyDTyVSYOGwgu69', updated_at=2023-12-06 05:21:26 UTC, created_by_id=1)\n"
     ]
    },
    {
     "name": "stderr",
     "output_type": "stream",
     "text": [
      "\r",
      "221it [04:15,  1.16s/it]"
     ]
    },
    {
     "name": "stdout",
     "output_type": "stream",
     "text": [
      "✅ loaded ULabel record with exact same name: '10.1038/s41586-020-2496-1'\n",
      "✅ loaded: FeatureSet(uid='sUW7EfGxKDsnbaiNKmfa', n=1, registry='core.Feature', hash='GDHfHpyDTyVSYOGwgu69', updated_at=2023-12-06 05:21:26 UTC, created_by_id=1)\n",
      "✅ linked new feature 'DOI' together with new feature set FeatureSet(uid='sUW7EfGxKDsnbaiNKmfa', n=1, registry='core.Feature', hash='GDHfHpyDTyVSYOGwgu69', updated_at=2023-12-06 05:21:27 UTC, created_by_id=1)\n"
     ]
    },
    {
     "name": "stderr",
     "output_type": "stream",
     "text": [
      "\r",
      "222it [04:16,  1.17s/it]"
     ]
    },
    {
     "name": "stdout",
     "output_type": "stream",
     "text": [
      "✅ loaded ULabel record with exact same name: '10.1038/s41586-020-2496-1'\n",
      "✅ loaded: FeatureSet(uid='sUW7EfGxKDsnbaiNKmfa', n=1, registry='core.Feature', hash='GDHfHpyDTyVSYOGwgu69', updated_at=2023-12-06 05:21:27 UTC, created_by_id=1)\n",
      "✅ linked new feature 'DOI' together with new feature set FeatureSet(uid='sUW7EfGxKDsnbaiNKmfa', n=1, registry='core.Feature', hash='GDHfHpyDTyVSYOGwgu69', updated_at=2023-12-06 05:21:28 UTC, created_by_id=1)\n"
     ]
    },
    {
     "name": "stderr",
     "output_type": "stream",
     "text": [
      "\r",
      "223it [04:17,  1.16s/it]"
     ]
    },
    {
     "name": "stdout",
     "output_type": "stream",
     "text": [
      "✅ loaded ULabel record with exact same name: '10.1038/s41586-020-2496-1'\n",
      "✅ loaded: FeatureSet(uid='sUW7EfGxKDsnbaiNKmfa', n=1, registry='core.Feature', hash='GDHfHpyDTyVSYOGwgu69', updated_at=2023-12-06 05:21:28 UTC, created_by_id=1)\n",
      "✅ linked new feature 'DOI' together with new feature set FeatureSet(uid='sUW7EfGxKDsnbaiNKmfa', n=1, registry='core.Feature', hash='GDHfHpyDTyVSYOGwgu69', updated_at=2023-12-06 05:21:30 UTC, created_by_id=1)\n"
     ]
    },
    {
     "name": "stderr",
     "output_type": "stream",
     "text": [
      "\r",
      "224it [04:18,  1.16s/it]"
     ]
    },
    {
     "name": "stdout",
     "output_type": "stream",
     "text": [
      "✅ loaded ULabel record with exact same name: '10.1038/s41586-020-2496-1'\n",
      "✅ loaded: FeatureSet(uid='sUW7EfGxKDsnbaiNKmfa', n=1, registry='core.Feature', hash='GDHfHpyDTyVSYOGwgu69', updated_at=2023-12-06 05:21:30 UTC, created_by_id=1)\n",
      "✅ linked new feature 'DOI' together with new feature set FeatureSet(uid='sUW7EfGxKDsnbaiNKmfa', n=1, registry='core.Feature', hash='GDHfHpyDTyVSYOGwgu69', updated_at=2023-12-06 05:21:31 UTC, created_by_id=1)\n"
     ]
    },
    {
     "name": "stderr",
     "output_type": "stream",
     "text": [
      "\r",
      "225it [04:19,  1.17s/it]"
     ]
    },
    {
     "name": "stdout",
     "output_type": "stream",
     "text": [
      "✅ loaded ULabel record with exact same name: '10.1038/s41586-020-2496-1'\n",
      "✅ loaded: FeatureSet(uid='sUW7EfGxKDsnbaiNKmfa', n=1, registry='core.Feature', hash='GDHfHpyDTyVSYOGwgu69', updated_at=2023-12-06 05:21:31 UTC, created_by_id=1)\n",
      "✅ linked new feature 'DOI' together with new feature set FeatureSet(uid='sUW7EfGxKDsnbaiNKmfa', n=1, registry='core.Feature', hash='GDHfHpyDTyVSYOGwgu69', updated_at=2023-12-06 05:21:32 UTC, created_by_id=1)\n"
     ]
    },
    {
     "name": "stderr",
     "output_type": "stream",
     "text": [
      "\r",
      "226it [04:21,  1.18s/it]"
     ]
    },
    {
     "name": "stdout",
     "output_type": "stream",
     "text": [
      "✅ loaded ULabel record with exact same name: '10.1038/s41586-020-2496-1'\n",
      "✅ loaded: FeatureSet(uid='sUW7EfGxKDsnbaiNKmfa', n=1, registry='core.Feature', hash='GDHfHpyDTyVSYOGwgu69', updated_at=2023-12-06 05:21:32 UTC, created_by_id=1)\n",
      "✅ linked new feature 'DOI' together with new feature set FeatureSet(uid='sUW7EfGxKDsnbaiNKmfa', n=1, registry='core.Feature', hash='GDHfHpyDTyVSYOGwgu69', updated_at=2023-12-06 05:21:33 UTC, created_by_id=1)\n"
     ]
    },
    {
     "name": "stderr",
     "output_type": "stream",
     "text": [
      "\r",
      "227it [04:22,  1.18s/it]"
     ]
    },
    {
     "name": "stdout",
     "output_type": "stream",
     "text": [
      "✅ loaded ULabel record with exact same name: '10.1038/s41586-020-2496-1'\n",
      "✅ loaded: FeatureSet(uid='sUW7EfGxKDsnbaiNKmfa', n=1, registry='core.Feature', hash='GDHfHpyDTyVSYOGwgu69', updated_at=2023-12-06 05:21:33 UTC, created_by_id=1)\n",
      "✅ linked new feature 'DOI' together with new feature set FeatureSet(uid='sUW7EfGxKDsnbaiNKmfa', n=1, registry='core.Feature', hash='GDHfHpyDTyVSYOGwgu69', updated_at=2023-12-06 05:21:34 UTC, created_by_id=1)\n"
     ]
    },
    {
     "name": "stderr",
     "output_type": "stream",
     "text": [
      "\r",
      "228it [04:23,  1.18s/it]"
     ]
    },
    {
     "name": "stdout",
     "output_type": "stream",
     "text": [
      "✅ loaded ULabel record with exact same name: '10.1038/s41586-020-2496-1'\n",
      "✅ loaded: FeatureSet(uid='sUW7EfGxKDsnbaiNKmfa', n=1, registry='core.Feature', hash='GDHfHpyDTyVSYOGwgu69', updated_at=2023-12-06 05:21:34 UTC, created_by_id=1)\n",
      "✅ linked new feature 'DOI' together with new feature set FeatureSet(uid='sUW7EfGxKDsnbaiNKmfa', n=1, registry='core.Feature', hash='GDHfHpyDTyVSYOGwgu69', updated_at=2023-12-06 05:21:35 UTC, created_by_id=1)\n"
     ]
    },
    {
     "name": "stderr",
     "output_type": "stream",
     "text": [
      "\r",
      "229it [04:24,  1.18s/it]"
     ]
    },
    {
     "name": "stdout",
     "output_type": "stream",
     "text": [
      "✅ loaded ULabel record with exact same name: 'NA'\n",
      "✅ loaded: FeatureSet(uid='sUW7EfGxKDsnbaiNKmfa', n=1, registry='core.Feature', hash='GDHfHpyDTyVSYOGwgu69', updated_at=2023-12-06 05:21:35 UTC, created_by_id=1)\n",
      "✅ linked new feature 'DOI' together with new feature set FeatureSet(uid='sUW7EfGxKDsnbaiNKmfa', n=1, registry='core.Feature', hash='GDHfHpyDTyVSYOGwgu69', updated_at=2023-12-06 05:21:37 UTC, created_by_id=1)\n"
     ]
    },
    {
     "name": "stderr",
     "output_type": "stream",
     "text": [
      "\r",
      "230it [04:25,  1.18s/it]"
     ]
    },
    {
     "name": "stdout",
     "output_type": "stream",
     "text": [
      "❗ records with similar names exist! did you mean to load one of them?\n"
     ]
    },
    {
     "data": {
      "text/html": [
       "<div>\n",
       "<style scoped>\n",
       "    .dataframe tbody tr th:only-of-type {\n",
       "        vertical-align: middle;\n",
       "    }\n",
       "\n",
       "    .dataframe tbody tr th {\n",
       "        vertical-align: top;\n",
       "    }\n",
       "\n",
       "    .dataframe thead th {\n",
       "        text-align: right;\n",
       "    }\n",
       "</style>\n",
       "<table border=\"1\" class=\"dataframe\">\n",
       "  <thead>\n",
       "    <tr style=\"text-align: right;\">\n",
       "      <th></th>\n",
       "      <th>uid</th>\n",
       "      <th>score</th>\n",
       "    </tr>\n",
       "    <tr>\n",
       "      <th>name</th>\n",
       "      <th></th>\n",
       "      <th></th>\n",
       "    </tr>\n",
       "  </thead>\n",
       "  <tbody>\n",
       "    <tr>\n",
       "      <th>10.1016/j.celrep.2018.11.003</th>\n",
       "      <td>byh3vZWF</td>\n",
       "      <td>96.4</td>\n",
       "    </tr>\n",
       "    <tr>\n",
       "      <th>10.1016/j.celrep.2018.12.044</th>\n",
       "      <td>LHKW7ftI</td>\n",
       "      <td>92.9</td>\n",
       "    </tr>\n",
       "  </tbody>\n",
       "</table>\n",
       "</div>"
      ],
      "text/plain": [
       "                                   uid  score\n",
       "name                                         \n",
       "10.1016/j.celrep.2018.11.003  byh3vZWF   96.4\n",
       "10.1016/j.celrep.2018.12.044  LHKW7ftI   92.9"
      ]
     },
     "metadata": {},
     "output_type": "display_data"
    },
    {
     "name": "stdout",
     "output_type": "stream",
     "text": [
      "✅ loaded: FeatureSet(uid='sUW7EfGxKDsnbaiNKmfa', n=1, registry='core.Feature', hash='GDHfHpyDTyVSYOGwgu69', updated_at=2023-12-06 05:21:37 UTC, created_by_id=1)\n",
      "✅ linked new feature 'DOI' together with new feature set FeatureSet(uid='sUW7EfGxKDsnbaiNKmfa', n=1, registry='core.Feature', hash='GDHfHpyDTyVSYOGwgu69', updated_at=2023-12-06 05:21:38 UTC, created_by_id=1)\n"
     ]
    },
    {
     "name": "stderr",
     "output_type": "stream",
     "text": [
      "\r",
      "231it [04:26,  1.16s/it]"
     ]
    },
    {
     "name": "stdout",
     "output_type": "stream",
     "text": [
      "✅ loaded ULabel record with exact same name: 'NA'\n",
      "✅ loaded: FeatureSet(uid='sUW7EfGxKDsnbaiNKmfa', n=1, registry='core.Feature', hash='GDHfHpyDTyVSYOGwgu69', updated_at=2023-12-06 05:21:38 UTC, created_by_id=1)\n",
      "✅ linked new feature 'DOI' together with new feature set FeatureSet(uid='sUW7EfGxKDsnbaiNKmfa', n=1, registry='core.Feature', hash='GDHfHpyDTyVSYOGwgu69', updated_at=2023-12-06 05:21:39 UTC, created_by_id=1)\n"
     ]
    },
    {
     "name": "stderr",
     "output_type": "stream",
     "text": [
      "\r",
      "232it [04:28,  1.16s/it]"
     ]
    },
    {
     "name": "stdout",
     "output_type": "stream",
     "text": [
      "✅ loaded ULabel record with exact same name: 'NA'\n",
      "✅ loaded: FeatureSet(uid='sUW7EfGxKDsnbaiNKmfa', n=1, registry='core.Feature', hash='GDHfHpyDTyVSYOGwgu69', updated_at=2023-12-06 05:21:39 UTC, created_by_id=1)\n",
      "✅ linked new feature 'DOI' together with new feature set FeatureSet(uid='sUW7EfGxKDsnbaiNKmfa', n=1, registry='core.Feature', hash='GDHfHpyDTyVSYOGwgu69', updated_at=2023-12-06 05:21:40 UTC, created_by_id=1)\n"
     ]
    },
    {
     "name": "stderr",
     "output_type": "stream",
     "text": [
      "\r",
      "233it [04:29,  1.17s/it]"
     ]
    },
    {
     "name": "stdout",
     "output_type": "stream",
     "text": [
      "✅ loaded ULabel record with exact same name: '10.1016/j.cell.2018.06.021'\n",
      "✅ loaded: FeatureSet(uid='sUW7EfGxKDsnbaiNKmfa', n=1, registry='core.Feature', hash='GDHfHpyDTyVSYOGwgu69', updated_at=2023-12-06 05:21:40 UTC, created_by_id=1)\n",
      "✅ linked new feature 'DOI' together with new feature set FeatureSet(uid='sUW7EfGxKDsnbaiNKmfa', n=1, registry='core.Feature', hash='GDHfHpyDTyVSYOGwgu69', updated_at=2023-12-06 05:21:41 UTC, created_by_id=1)\n"
     ]
    },
    {
     "name": "stderr",
     "output_type": "stream",
     "text": [
      "\r",
      "234it [04:30,  1.17s/it]"
     ]
    },
    {
     "name": "stdout",
     "output_type": "stream",
     "text": [
      "✅ loaded ULabel record with exact same name: '10.1016/j.cell.2018.06.021'\n",
      "✅ loaded: FeatureSet(uid='sUW7EfGxKDsnbaiNKmfa', n=1, registry='core.Feature', hash='GDHfHpyDTyVSYOGwgu69', updated_at=2023-12-06 05:21:41 UTC, created_by_id=1)\n",
      "✅ linked new feature 'DOI' together with new feature set FeatureSet(uid='sUW7EfGxKDsnbaiNKmfa', n=1, registry='core.Feature', hash='GDHfHpyDTyVSYOGwgu69', updated_at=2023-12-06 05:21:42 UTC, created_by_id=1)\n"
     ]
    },
    {
     "name": "stderr",
     "output_type": "stream",
     "text": [
      "\r",
      "235it [04:31,  1.18s/it]"
     ]
    },
    {
     "name": "stdout",
     "output_type": "stream",
     "text": [
      "✅ loaded ULabel record with exact same name: '10.1016/j.celrep.2018.11.003'\n",
      "✅ loaded: FeatureSet(uid='sUW7EfGxKDsnbaiNKmfa', n=1, registry='core.Feature', hash='GDHfHpyDTyVSYOGwgu69', updated_at=2023-12-06 05:21:42 UTC, created_by_id=1)\n",
      "✅ linked new feature 'DOI' together with new feature set FeatureSet(uid='sUW7EfGxKDsnbaiNKmfa', n=1, registry='core.Feature', hash='GDHfHpyDTyVSYOGwgu69', updated_at=2023-12-06 05:21:44 UTC, created_by_id=1)\n"
     ]
    },
    {
     "name": "stderr",
     "output_type": "stream",
     "text": [
      "236it [04:32,  1.16s/it]\n"
     ]
    }
   ],
   "source": [
    "for i_, r in tqdm(doi_list.iterrows()):\n",
    "    file = ln.File.filter(uid = r['uid']).one()\n",
    "\n",
    "    label = ln.ULabel(name = r['DOI'])\n",
    "    label.save()\n",
    "\n",
    "    file.labels.add(label, feature = features.doi)\n",
    "    file.save()"
   ]
  },
  {
   "cell_type": "code",
   "execution_count": null,
   "id": "e95b2ab9",
   "metadata": {},
   "outputs": [],
   "source": []
  },
  {
   "cell_type": "code",
   "execution_count": 75,
   "id": "39a4032e",
   "metadata": {},
   "outputs": [
    {
     "name": "stdout",
     "output_type": "stream",
     "text": [
      "\u001b[1;92mFile\u001b[0m(uid='cMUlfeg3rJOCkay0VTPx', key='Zywitza 2018/Zywitza_GSE111527_svz.h5ad', suffix='.h5ad', accessor='AnnData', size=145907593, hash='8pHkCvAZLmfp8e5vxr0qej', hash_type='sha1-fl', visibility=1, key_is_virtual=True, updated_at=2023-12-06 05:21:44 UTC)\n",
      "\n",
      "\u001b[1;92mProvenance\u001b[0m:\n",
      "  🗃️ storage: Storage(uid='3wVRAheC', root='s3://vals-scrna', type='s3', region='us-west-1', updated_at=2023-11-05 20:36:19 UTC, created_by_id=1)\n",
      "  👤 created_by: User(uid='8joZB4lw', handle='vals', updated_at=2023-11-05 20:36:19 UTC)\n",
      "\u001b[1;92mFeatures\u001b[0m:\n",
      "  \u001b[1mexternal\u001b[0m: FeatureSet(uid='sUW7EfGxKDsnbaiNKmfa', n=1, registry='core.Feature', hash='GDHfHpyDTyVSYOGwgu69', updated_at=2023-12-06 05:21:44 UTC, created_by_id=1)\n",
      "    DOI (str)\n",
      "\u001b[1;92mLabels\u001b[0m:\n",
      "  🏷️ ulabels (1, \u001b[3mcore.ULabel\u001b[0m): '10.1016/j.celrep.2018.11.003'\n",
      "\n"
     ]
    }
   ],
   "source": [
    "file.describe()"
   ]
  },
  {
   "cell_type": "code",
   "execution_count": null,
   "id": "667f7029",
   "metadata": {},
   "outputs": [],
   "source": []
  },
  {
   "cell_type": "code",
   "execution_count": null,
   "id": "089de559",
   "metadata": {},
   "outputs": [],
   "source": []
  },
  {
   "cell_type": "code",
   "execution_count": null,
   "id": "25519416",
   "metadata": {},
   "outputs": [],
   "source": []
  },
  {
   "cell_type": "code",
   "execution_count": null,
   "id": "2752a754",
   "metadata": {},
   "outputs": [],
   "source": []
  },
  {
   "cell_type": "code",
   "execution_count": null,
   "id": "c6ad7120",
   "metadata": {},
   "outputs": [],
   "source": []
  },
  {
   "cell_type": "code",
   "execution_count": null,
   "id": "6b24f036",
   "metadata": {},
   "outputs": [],
   "source": []
  },
  {
   "cell_type": "code",
   "execution_count": null,
   "id": "b3978a87",
   "metadata": {},
   "outputs": [],
   "source": []
  },
  {
   "cell_type": "code",
   "execution_count": null,
   "id": "1ca2ac2b",
   "metadata": {},
   "outputs": [],
   "source": []
  }
 ],
 "metadata": {
  "kernelspec": {
   "display_name": "Python 3 (ipykernel)",
   "language": "python",
   "name": "python3"
  },
  "language_info": {
   "codemirror_mode": {
    "name": "ipython",
    "version": 3
   },
   "file_extension": ".py",
   "mimetype": "text/x-python",
   "name": "python",
   "nbconvert_exporter": "python",
   "pygments_lexer": "ipython3",
   "version": "3.10.11"
  }
 },
 "nbformat": 4,
 "nbformat_minor": 5
}
