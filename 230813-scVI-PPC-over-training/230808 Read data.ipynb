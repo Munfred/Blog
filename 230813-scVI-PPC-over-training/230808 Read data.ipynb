{
 "cells": [
  {
   "cell_type": "code",
   "execution_count": 29,
   "id": "96992640",
   "metadata": {},
   "outputs": [],
   "source": [
    "from glob import glob\n",
    "\n",
    "import anndata\n",
    "import pandas as pd\n",
    "from tqdm import tqdm"
   ]
  },
  {
   "cell_type": "code",
   "execution_count": null,
   "id": "93b265d1",
   "metadata": {},
   "outputs": [],
   "source": []
  },
  {
   "cell_type": "code",
   "execution_count": 38,
   "id": "a0c37a4a",
   "metadata": {},
   "outputs": [
    {
     "name": "stderr",
     "output_type": "stream",
     "text": [
      "100%|█████████████████████████████████████████████████████████████████████████████████████████████████████████████████████████████████████████████████████████████████████████████████████████████| 17/17 [05:49<00:00, 20.58s/it]\n"
     ]
    }
   ],
   "source": [
    "adatas = []\n",
    "for fname in tqdm(glob('GSE213516_RAW/*_matrix.mtx.gz')):\n",
    "    adata = anndata.read_mtx(fname).T\n",
    "    \n",
    "    obs = (\n",
    "        pd.read_csv(\n",
    "            fname.replace('_matrix.mtx.gz', '_barcodes.tsv.gz'),\n",
    "            names = ['barcode']\n",
    "        )\n",
    "        .set_index('barcode')\n",
    "    )\n",
    "    \n",
    "    var = (\n",
    "        pd.read_csv(\n",
    "            fname.replace('_matrix.mtx.gz', '_features.tsv.gz'),\n",
    "            sep = '\\t',\n",
    "            names = ['gene_id', 'gene_name', 'feature_type']\n",
    "        )\n",
    "        .set_index('gene_name')\n",
    "    )\n",
    "    \n",
    "    adata.obs = obs\n",
    "    adata.var = var\n",
    "\n",
    "    adata.var_names_make_unique()\n",
    "    adata.obs_names_make_unique()\n",
    "    \n",
    "    adata.obs['sample_name'] = fname.replace('_matrix.mtx.gz', '')\n",
    "    \n",
    "    adatas += [adata]\n"
   ]
  },
  {
   "cell_type": "code",
   "execution_count": null,
   "id": "e1aaac86",
   "metadata": {},
   "outputs": [],
   "source": []
  },
  {
   "cell_type": "code",
   "execution_count": 42,
   "id": "7a72be7b",
   "metadata": {},
   "outputs": [],
   "source": [
    "alladata = anndata.concat(adatas, index_unique = '-', merge = 'same')"
   ]
  },
  {
   "cell_type": "code",
   "execution_count": 43,
   "id": "f815818d",
   "metadata": {},
   "outputs": [
    {
     "data": {
      "text/plain": [
       "AnnData object with n_obs × n_vars = 139761 × 33538\n",
       "    obs: 'sample_name'\n",
       "    var: 'gene_id', 'feature_type'"
      ]
     },
     "execution_count": 43,
     "metadata": {},
     "output_type": "execute_result"
    }
   ],
   "source": [
    "alladata"
   ]
  },
  {
   "cell_type": "code",
   "execution_count": 44,
   "id": "054b4ff1",
   "metadata": {},
   "outputs": [
    {
     "data": {
      "text/html": [
       "<div>\n",
       "<style scoped>\n",
       "    .dataframe tbody tr th:only-of-type {\n",
       "        vertical-align: middle;\n",
       "    }\n",
       "\n",
       "    .dataframe tbody tr th {\n",
       "        vertical-align: top;\n",
       "    }\n",
       "\n",
       "    .dataframe thead th {\n",
       "        text-align: right;\n",
       "    }\n",
       "</style>\n",
       "<table border=\"1\" class=\"dataframe\">\n",
       "  <thead>\n",
       "    <tr style=\"text-align: right;\">\n",
       "      <th></th>\n",
       "      <th>gene_id</th>\n",
       "      <th>feature_type</th>\n",
       "    </tr>\n",
       "    <tr>\n",
       "      <th>gene_name</th>\n",
       "      <th></th>\n",
       "      <th></th>\n",
       "    </tr>\n",
       "  </thead>\n",
       "  <tbody>\n",
       "    <tr>\n",
       "      <th>MIR1302-2HG</th>\n",
       "      <td>ENSG00000243485</td>\n",
       "      <td>Gene Expression</td>\n",
       "    </tr>\n",
       "    <tr>\n",
       "      <th>FAM138A</th>\n",
       "      <td>ENSG00000237613</td>\n",
       "      <td>Gene Expression</td>\n",
       "    </tr>\n",
       "    <tr>\n",
       "      <th>OR4F5</th>\n",
       "      <td>ENSG00000186092</td>\n",
       "      <td>Gene Expression</td>\n",
       "    </tr>\n",
       "    <tr>\n",
       "      <th>AL627309.1</th>\n",
       "      <td>ENSG00000238009</td>\n",
       "      <td>Gene Expression</td>\n",
       "    </tr>\n",
       "    <tr>\n",
       "      <th>AL627309.3</th>\n",
       "      <td>ENSG00000239945</td>\n",
       "      <td>Gene Expression</td>\n",
       "    </tr>\n",
       "    <tr>\n",
       "      <th>...</th>\n",
       "      <td>...</td>\n",
       "      <td>...</td>\n",
       "    </tr>\n",
       "    <tr>\n",
       "      <th>AC233755.2</th>\n",
       "      <td>ENSG00000277856</td>\n",
       "      <td>Gene Expression</td>\n",
       "    </tr>\n",
       "    <tr>\n",
       "      <th>AC233755.1</th>\n",
       "      <td>ENSG00000275063</td>\n",
       "      <td>Gene Expression</td>\n",
       "    </tr>\n",
       "    <tr>\n",
       "      <th>AC240274.1</th>\n",
       "      <td>ENSG00000271254</td>\n",
       "      <td>Gene Expression</td>\n",
       "    </tr>\n",
       "    <tr>\n",
       "      <th>AC213203.1</th>\n",
       "      <td>ENSG00000277475</td>\n",
       "      <td>Gene Expression</td>\n",
       "    </tr>\n",
       "    <tr>\n",
       "      <th>FAM231C</th>\n",
       "      <td>ENSG00000268674</td>\n",
       "      <td>Gene Expression</td>\n",
       "    </tr>\n",
       "  </tbody>\n",
       "</table>\n",
       "<p>33538 rows × 2 columns</p>\n",
       "</div>"
      ],
      "text/plain": [
       "                     gene_id     feature_type\n",
       "gene_name                                    \n",
       "MIR1302-2HG  ENSG00000243485  Gene Expression\n",
       "FAM138A      ENSG00000237613  Gene Expression\n",
       "OR4F5        ENSG00000186092  Gene Expression\n",
       "AL627309.1   ENSG00000238009  Gene Expression\n",
       "AL627309.3   ENSG00000239945  Gene Expression\n",
       "...                      ...              ...\n",
       "AC233755.2   ENSG00000277856  Gene Expression\n",
       "AC233755.1   ENSG00000275063  Gene Expression\n",
       "AC240274.1   ENSG00000271254  Gene Expression\n",
       "AC213203.1   ENSG00000277475  Gene Expression\n",
       "FAM231C      ENSG00000268674  Gene Expression\n",
       "\n",
       "[33538 rows x 2 columns]"
      ]
     },
     "execution_count": 44,
     "metadata": {},
     "output_type": "execute_result"
    }
   ],
   "source": [
    "alladata.var"
   ]
  },
  {
   "cell_type": "code",
   "execution_count": 45,
   "id": "7b6a83e0",
   "metadata": {},
   "outputs": [
    {
     "data": {
      "text/html": [
       "<div>\n",
       "<style scoped>\n",
       "    .dataframe tbody tr th:only-of-type {\n",
       "        vertical-align: middle;\n",
       "    }\n",
       "\n",
       "    .dataframe tbody tr th {\n",
       "        vertical-align: top;\n",
       "    }\n",
       "\n",
       "    .dataframe thead th {\n",
       "        text-align: right;\n",
       "    }\n",
       "</style>\n",
       "<table border=\"1\" class=\"dataframe\">\n",
       "  <thead>\n",
       "    <tr style=\"text-align: right;\">\n",
       "      <th></th>\n",
       "      <th>sample_name</th>\n",
       "    </tr>\n",
       "    <tr>\n",
       "      <th>barcode</th>\n",
       "      <th></th>\n",
       "    </tr>\n",
       "  </thead>\n",
       "  <tbody>\n",
       "    <tr>\n",
       "      <th>AAACCTGAGACGCTTT-1-0</th>\n",
       "      <td>GSE213516_RAW/GSM6588511_F30</td>\n",
       "    </tr>\n",
       "    <tr>\n",
       "      <th>AAACCTGAGAGACGAA-1-0</th>\n",
       "      <td>GSE213516_RAW/GSM6588511_F30</td>\n",
       "    </tr>\n",
       "    <tr>\n",
       "      <th>AAACCTGAGCTACCTA-1-0</th>\n",
       "      <td>GSE213516_RAW/GSM6588511_F30</td>\n",
       "    </tr>\n",
       "    <tr>\n",
       "      <th>AAACCTGAGGATGGAA-1-0</th>\n",
       "      <td>GSE213516_RAW/GSM6588511_F30</td>\n",
       "    </tr>\n",
       "    <tr>\n",
       "      <th>AAACCTGCAAACTGCT-1-0</th>\n",
       "      <td>GSE213516_RAW/GSM6588511_F30</td>\n",
       "    </tr>\n",
       "    <tr>\n",
       "      <th>...</th>\n",
       "      <td>...</td>\n",
       "    </tr>\n",
       "    <tr>\n",
       "      <th>TTTGTCATCCTACAGA-1-16</th>\n",
       "      <td>GSE213516_RAW/GSM6588527_M74</td>\n",
       "    </tr>\n",
       "    <tr>\n",
       "      <th>TTTGTCATCCTCAACC-1-16</th>\n",
       "      <td>GSE213516_RAW/GSM6588527_M74</td>\n",
       "    </tr>\n",
       "    <tr>\n",
       "      <th>TTTGTCATCCTTGGTC-1-16</th>\n",
       "      <td>GSE213516_RAW/GSM6588527_M74</td>\n",
       "    </tr>\n",
       "    <tr>\n",
       "      <th>TTTGTCATCTGTGCAA-1-16</th>\n",
       "      <td>GSE213516_RAW/GSM6588527_M74</td>\n",
       "    </tr>\n",
       "    <tr>\n",
       "      <th>TTTGTCATCTTTAGTC-1-16</th>\n",
       "      <td>GSE213516_RAW/GSM6588527_M74</td>\n",
       "    </tr>\n",
       "  </tbody>\n",
       "</table>\n",
       "<p>139761 rows × 1 columns</p>\n",
       "</div>"
      ],
      "text/plain": [
       "                                        sample_name\n",
       "barcode                                            \n",
       "AAACCTGAGACGCTTT-1-0   GSE213516_RAW/GSM6588511_F30\n",
       "AAACCTGAGAGACGAA-1-0   GSE213516_RAW/GSM6588511_F30\n",
       "AAACCTGAGCTACCTA-1-0   GSE213516_RAW/GSM6588511_F30\n",
       "AAACCTGAGGATGGAA-1-0   GSE213516_RAW/GSM6588511_F30\n",
       "AAACCTGCAAACTGCT-1-0   GSE213516_RAW/GSM6588511_F30\n",
       "...                                             ...\n",
       "TTTGTCATCCTACAGA-1-16  GSE213516_RAW/GSM6588527_M74\n",
       "TTTGTCATCCTCAACC-1-16  GSE213516_RAW/GSM6588527_M74\n",
       "TTTGTCATCCTTGGTC-1-16  GSE213516_RAW/GSM6588527_M74\n",
       "TTTGTCATCTGTGCAA-1-16  GSE213516_RAW/GSM6588527_M74\n",
       "TTTGTCATCTTTAGTC-1-16  GSE213516_RAW/GSM6588527_M74\n",
       "\n",
       "[139761 rows x 1 columns]"
      ]
     },
     "execution_count": 45,
     "metadata": {},
     "output_type": "execute_result"
    }
   ],
   "source": [
    "alladata.obs"
   ]
  },
  {
   "cell_type": "code",
   "execution_count": 46,
   "id": "d7f0689a",
   "metadata": {},
   "outputs": [
    {
     "data": {
      "text/plain": [
       "<139761x33538 sparse matrix of type '<class 'numpy.float32'>'\n",
       "\twith 226886859 stored elements in Compressed Sparse Row format>"
      ]
     },
     "execution_count": 46,
     "metadata": {},
     "output_type": "execute_result"
    }
   ],
   "source": [
    "alladata.X"
   ]
  },
  {
   "cell_type": "code",
   "execution_count": 47,
   "id": "d73fc28d",
   "metadata": {},
   "outputs": [
    {
     "data": {
      "text/plain": [
       "array([ 1.,  1.,  1.,  1., 11.,  1.,  1.,  1.,  1.,  2.,  2., 29.,  1.,\n",
       "        1.,  1.,  1.,  3.,  1., 14.,  1.,  1.,  1.,  1.,  1.,  5.,  1.,\n",
       "        2.,  1.,  1.,  1.,  1.,  1.,  1.,  3.,  1.,  2.,  1.,  2.,  1.,\n",
       "        2.,  1.,  1.,  1.,  1., 42.,  1.,  1.,  2.,  1.,  1.,  1.,  1.,\n",
       "        1.,  2.,  1.,  1.,  1.,  1.,  2.,  1.,  1.,  6.,  1.,  1.,  1.,\n",
       "        1.,  1.,  1.,  3.,  1.,  5.,  1.,  1.,  1.,  1.,  1.,  1.,  1.,\n",
       "        1.,  2.,  2.,  1.,  9.,  1.,  1.,  2.,  1.,  1.,  1.,  4., 85.,\n",
       "        1.,  1.,  1.,  1.,  1.,  2.,  1.,  3.,  1.], dtype=float32)"
      ]
     },
     "execution_count": 47,
     "metadata": {},
     "output_type": "execute_result"
    }
   ],
   "source": [
    "alladata.X.data[:100]"
   ]
  },
  {
   "cell_type": "code",
   "execution_count": 48,
   "id": "7d91906c",
   "metadata": {},
   "outputs": [],
   "source": [
    "alladata.write('GSE213516.h5ad')"
   ]
  },
  {
   "cell_type": "code",
   "execution_count": null,
   "id": "aa1864ce",
   "metadata": {},
   "outputs": [],
   "source": []
  },
  {
   "cell_type": "code",
   "execution_count": 49,
   "id": "323a4151",
   "metadata": {},
   "outputs": [
    {
     "name": "stdout",
     "output_type": "stream",
     "text": [
      "total 1.8G\r\n",
      "-rwxrwxrwx 1 vale vale  12K Aug  8 22:21 \u001b[0m\u001b[01;32m'230808 Read data.ipynb'\u001b[0m*\r\n",
      "-rwxrwxrwx 2 vale vale 1.8G Aug  8 22:22  \u001b[01;32mGSE213516.h5ad\u001b[0m*\r\n",
      "drwxrwxrwx 1 vale vale 4.0K Aug  8 21:45  \u001b[34;42mGSE213516_RAW\u001b[0m/\r\n"
     ]
    }
   ],
   "source": [
    "ls -lh"
   ]
  },
  {
   "cell_type": "code",
   "execution_count": null,
   "id": "aed82577",
   "metadata": {},
   "outputs": [],
   "source": []
  },
  {
   "cell_type": "code",
   "execution_count": null,
   "id": "3f900717",
   "metadata": {},
   "outputs": [],
   "source": []
  }
 ],
 "metadata": {
  "kernelspec": {
   "display_name": "Python 3 (ipykernel)",
   "language": "python",
   "name": "python3"
  },
  "language_info": {
   "codemirror_mode": {
    "name": "ipython",
    "version": 3
   },
   "file_extension": ".py",
   "mimetype": "text/x-python",
   "name": "python",
   "nbconvert_exporter": "python",
   "pygments_lexer": "ipython3",
   "version": "3.10.11"
  }
 },
 "nbformat": 4,
 "nbformat_minor": 5
}
