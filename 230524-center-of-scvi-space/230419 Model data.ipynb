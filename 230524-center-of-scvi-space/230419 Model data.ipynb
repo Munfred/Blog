{
 "cells": [
  {
   "cell_type": "code",
   "execution_count": 10,
   "id": "08fdb31b",
   "metadata": {},
   "outputs": [],
   "source": [
    "from glob import glob\n",
    "\n",
    "import anndata\n",
    "import numpy as np\n",
    "import pandas as pd\n",
    "import plotnine as p\n",
    "from scipy import stats\n",
    "import scvi\n",
    "\n",
    "%matplotlib inline"
   ]
  },
  {
   "cell_type": "code",
   "execution_count": 3,
   "id": "7b497345",
   "metadata": {},
   "outputs": [],
   "source": [
    "adata = anndata.read('Ren et al 2021/GSE158055_covid19_meta_S-M040-1_pbmcs.h5ad')"
   ]
  },
  {
   "cell_type": "code",
   "execution_count": 4,
   "id": "a3da9ea6",
   "metadata": {},
   "outputs": [
    {
     "data": {
      "text/plain": [
       "AnnData object with n_obs × n_vars = 14565 × 27943\n",
       "    obs: 'Meta sample', 'Sample name', 'title', 'organism', 'Patients', 'City', 'Age', 'Sex', 'Sample type', 'CoVID-19 severity', 'Sample time', 'Sampling day (Days after symptom onset)', 'SARS-CoV-2', 'Single cell sequencing platform', 'BCR single cell sequencing', 'TCR single cell sequencing', 'Outcome', 'Comorbidities', 'COVID-19-related medication and anti-microbials', 'Leukocytes [G/L]', 'Neutrophils [G/L]', 'Lymphocytes [G/L]', 'Unpublished', 'geo accession', 'instrument model'"
      ]
     },
     "execution_count": 4,
     "metadata": {},
     "output_type": "execute_result"
    }
   ],
   "source": [
    "adata"
   ]
  },
  {
   "cell_type": "code",
   "execution_count": null,
   "id": "f548211d",
   "metadata": {},
   "outputs": [],
   "source": []
  },
  {
   "cell_type": "code",
   "execution_count": 5,
   "id": "b7e240d1",
   "metadata": {},
   "outputs": [],
   "source": [
    "gene_panel = [\n",
    "    'CLEC9A', 'CADM1', 'CLEC10A', 'CD1C', 'CD14', 'VCAN', 'CCR7', 'LAMP3', 'AXL', 'SIGLEC6', 'LILRA4', 'ITM2C',\n",
    "    'GZMB', 'IL1B', 'IER3', 'LDLR', 'CD83', 'S100A12', 'CSF3R', 'FCGR3A', 'MS4A7', 'LILRB1', 'CSF1R',\n",
    "    'CDKN1C', 'C1QA', 'C1QB', 'C1QC', 'CCR1', 'MARCO', 'MKI67', 'TOP2A',\n",
    "    \n",
    "    'CD141', 'CLEC9A', 'KIT', 'BTLA', 'CD1C', 'CD101', 'FCER1a', 'CD5', 'CD123', 'CD45RA', 'CD304', 'CD14',\n",
    "    'CD99', 'CD64', 'CR1', 'ITGAM', 'CD16', 'C5AR1', 'CX3CR1',\n",
    "    \n",
    "    'NFKBIA', 'FOSB', 'IL1B', 'S100A8', 'S100A9', 'CD74', 'B2M', 'FTL', 'IL16', 'CCL2', 'CCL8', 'CCL7',\n",
    "    'CCL4L2', 'CCL3', 'CCL4', 'CCL18', 'CXCL8', 'CXCL16', 'CXCL10',\n",
    "    \n",
    "    'TNF', 'IL6', 'IL12A', 'IL12B', 'IL23A', 'IL10', 'IL27',\n",
    "    \n",
    "    'TIMP1', 'GP9', 'MPIG6B', 'PF4', 'CLEC1B', 'RAP1B', 'SRGN', 'PPBP', 'STXBP2', 'PFN1',\n",
    "    \n",
    "    'CD34', 'AVP', 'CD38', 'GATA1', 'MPO',\n",
    "    \n",
    "    'CD3G', 'CCR7', 'CD27', 'CD4', 'CD28', 'TNFRSF9', 'CCR6', 'CD40LG', 'TBX21', 'GATA3', 'RORC', 'IKZF2',\n",
    "    'FOXP3', 'CTLA4', 'PDCD1', 'CXCR5', 'CD8A', 'GZMB', 'HLA-DRB1', 'IFNG', 'LAG3', 'TOX', 'IL7R',\n",
    "    'KLRG1', 'TRDV2', 'TRGV9', 'TRAV1.2', 'NCAM1', 'NCR1', 'FCGR3A',\n",
    "    \n",
    "    'CD3', 'CCR7', 'CD45RO', 'CD27', 'CD28', 'CD62L', 'CD25', 'CTLA4', 'CXCR5', 'CD40LG', 'ICOS', 'CXCR3',\n",
    "    'CD8',\n",
    "    \n",
    "    'MS4A1', 'CD19', 'CD40', 'CD69', 'CD22', 'FCER2', 'CD24', 'CR2', 'MME', 'MKI67', 'IGHD', 'IGHM',\n",
    "    'IGHA1', 'IGHG1', 'MZB1', 'CD27', 'TNFRSF13B', 'CD38', 'SDC1',\n",
    "    \n",
    "    'FOS', 'KLF2', 'PNRC1', 'NFKB1', 'JUN', 'DUSP1', 'FOSB', 'GADD45B', 'IER2', 'ZFP36', 'PPP1R15A',\n",
    "    'NFKBIA', 'CD69', 'BTG2', 'CD79A', 'CD79B', 'PTPRC', 'LYIN', 'BLNK', 'SIGLEC10', 'PECAM1',\n",
    "]"
   ]
  },
  {
   "cell_type": "code",
   "execution_count": null,
   "id": "449964b7",
   "metadata": {},
   "outputs": [],
   "source": []
  },
  {
   "cell_type": "code",
   "execution_count": 8,
   "id": "2cdf1be1",
   "metadata": {},
   "outputs": [],
   "source": [
    "adata.var['feature_name'] = adata.var.index\n",
    "\n",
    "var_idx = adata.var.query('feature_name in @gene_panel').index\n",
    "\n",
    "fadata = adata[:, var_idx].copy()"
   ]
  },
  {
   "cell_type": "code",
   "execution_count": null,
   "id": "327630d3",
   "metadata": {},
   "outputs": [],
   "source": []
  },
  {
   "cell_type": "code",
   "execution_count": 11,
   "id": "e8b6c263",
   "metadata": {},
   "outputs": [],
   "source": [
    "fadata.obs['total_counts'] = np.array(fadata.X.sum(1))"
   ]
  },
  {
   "cell_type": "code",
   "execution_count": null,
   "id": "8cbc82e1",
   "metadata": {},
   "outputs": [],
   "source": []
  },
  {
   "cell_type": "code",
   "execution_count": 12,
   "id": "f68e11dc",
   "metadata": {},
   "outputs": [
    {
     "data": {
      "text/plain": [
       "AnnData object with n_obs × n_vars = 14565 × 141\n",
       "    obs: 'Meta sample', 'Sample name', 'title', 'organism', 'Patients', 'City', 'Age', 'Sex', 'Sample type', 'CoVID-19 severity', 'Sample time', 'Sampling day (Days after symptom onset)', 'SARS-CoV-2', 'Single cell sequencing platform', 'BCR single cell sequencing', 'TCR single cell sequencing', 'Outcome', 'Comorbidities', 'COVID-19-related medication and anti-microbials', 'Leukocytes [G/L]', 'Neutrophils [G/L]', 'Lymphocytes [G/L]', 'Unpublished', 'geo accession', 'instrument model', 'total_counts'\n",
       "    var: 'feature_name'"
      ]
     },
     "execution_count": 12,
     "metadata": {},
     "output_type": "execute_result"
    }
   ],
   "source": [
    "fadata"
   ]
  },
  {
   "cell_type": "code",
   "execution_count": 18,
   "id": "1e6ba343",
   "metadata": {},
   "outputs": [],
   "source": [
    "sindex = fadata.obs.sample(10).index"
   ]
  },
  {
   "cell_type": "code",
   "execution_count": 29,
   "id": "f782d47c",
   "metadata": {},
   "outputs": [],
   "source": [
    "sX = np.array(fadata[sindex].X.todense())"
   ]
  },
  {
   "cell_type": "code",
   "execution_count": 30,
   "id": "d48ed2cb",
   "metadata": {},
   "outputs": [],
   "source": [
    "sobs = fadata.obs.loc[sindex]"
   ]
  },
  {
   "cell_type": "code",
   "execution_count": 31,
   "id": "a270f886",
   "metadata": {},
   "outputs": [
    {
     "data": {
      "text/plain": [
       "index\n",
       "d13_PGW8_TAGTGGTGTTTGTTGG    337.0\n",
       "d13_PGW8_CACACTCAGGCTAGAC    169.0\n",
       "d13_PGW8_GACTAACCAGGCGATA    124.0\n",
       "d13_PGW8_CGCCAAGTCTACTCAT    487.0\n",
       "d13_PGW8_TTCGAAGGTTTCCACC    129.0\n",
       "d13_PGW8_GTGGGTCCATGAGCGA    444.0\n",
       "d13_PGW8_ATAAGAGAGGATGGAA    612.0\n",
       "d13_PGW8_ACGGGTCGTCGCGGTT    178.0\n",
       "d13_PGW8_AGTGGGATCATACGGT    159.0\n",
       "d13_PGW8_GTCGTAACAATCTGCA    135.0\n",
       "Name: total_counts, dtype: float32"
      ]
     },
     "execution_count": 31,
     "metadata": {},
     "output_type": "execute_result"
    }
   ],
   "source": [
    "sobs['total_counts']"
   ]
  },
  {
   "cell_type": "code",
   "execution_count": 79,
   "id": "a8747aae",
   "metadata": {},
   "outputs": [
    {
     "data": {
      "text/plain": [
       "array([[  0,   1,  28, ...,   0,  10,   8],\n",
       "       [  0,   4, 188, ...,   0,   0,  12],\n",
       "       [  0,   0, 211, ...,   0,   0,   4],\n",
       "       ...,\n",
       "       [  0,   2,  21, ...,   0,   0,   4],\n",
       "       [  0,   0, 213, ...,   5,   0,   6],\n",
       "       [  0,   0, 106, ...,   0,   0,   3]])"
      ]
     },
     "execution_count": 79,
     "metadata": {},
     "output_type": "execute_result"
    }
   ],
   "source": [
    "stats.binom.rvs(500, (sX.T / sobs['total_counts'].values).T)"
   ]
  },
  {
   "cell_type": "code",
   "execution_count": 98,
   "id": "573a42dc",
   "metadata": {},
   "outputs": [
    {
     "name": "stderr",
     "output_type": "stream",
     "text": [
      "C:\\Users\\vale\\Anaconda3\\lib\\site-packages\\ipykernel_launcher.py:4: FutureWarning: X.dtype being converted to np.float32 from int32. In the next version of anndata (0.9) conversion will not be automatic. Pass dtype explicitly to avoid this warning. Pass `AnnData(X, dtype=X.dtype, ...)` to get the future behavour.\n",
      "  after removing the cwd from sys.path.\n"
     ]
    }
   ],
   "source": [
    "btsfadatas = []\n",
    "for i, n in enumerate(np.exp(np.linspace(np.log(10), np.log(500), 128)).round()):\n",
    "    Xn = stats.binom.rvs(500, (sX.T / sobs['total_counts'].values).T)\n",
    "    btsfadata = anndata.AnnData(X = Xn, obs = sobs, var = fadata.var)\n",
    "    btsfadata.obs['thinning'] = n\n",
    "    btsfadata.obs['idx'] = sobs.index\n",
    "    btsfadata.obs.index = sobs.index + f'_{i}'\n",
    "    btsfadatas += [btsfadata]"
   ]
  },
  {
   "cell_type": "code",
   "execution_count": 100,
   "id": "8d924b53",
   "metadata": {},
   "outputs": [],
   "source": [
    "btadata = anndata.concat(btsfadatas)"
   ]
  },
  {
   "cell_type": "code",
   "execution_count": 101,
   "id": "c6d6f6c1",
   "metadata": {},
   "outputs": [],
   "source": [
    "fadata.obs['thinning'] = np.nan"
   ]
  },
  {
   "cell_type": "code",
   "execution_count": 102,
   "id": "095e1a93",
   "metadata": {},
   "outputs": [],
   "source": [
    "fadata.obs['idx'] = fadata.obs.index"
   ]
  },
  {
   "cell_type": "code",
   "execution_count": 104,
   "id": "cc68c914",
   "metadata": {},
   "outputs": [],
   "source": [
    "cadata = anndata.concat([fadata, btadata])"
   ]
  },
  {
   "cell_type": "code",
   "execution_count": null,
   "id": "ae5f82f8",
   "metadata": {},
   "outputs": [],
   "source": []
  },
  {
   "cell_type": "code",
   "execution_count": 105,
   "id": "850de015",
   "metadata": {},
   "outputs": [
    {
     "name": "stdout",
     "output_type": "stream",
     "text": [
      "\u001b[34mINFO\u001b[0m      No batch_key inputted, assuming all cells are same batch                           \n",
      "\u001b[34mINFO\u001b[0m      No label_key inputted, assuming all cells have same label                          \n",
      "\u001b[34mINFO\u001b[0m      Using data from adata.X                                                            \n",
      "\u001b[34mINFO\u001b[0m      Successfully registered anndata object containing \u001b[1;34m15845\u001b[0m cells, \u001b[1;34m141\u001b[0m vars, \u001b[1;34m1\u001b[0m batches,\n",
      "          \u001b[1;34m1\u001b[0m labels, and \u001b[1;34m0\u001b[0m proteins. Also registered \u001b[1;34m0\u001b[0m extra categorical covariates and \u001b[1;34m0\u001b[0m     \n",
      "          extra continuous covariates.                                                       \n",
      "\u001b[34mINFO\u001b[0m      Please do not further modify adata until model is trained.                         \n"
     ]
    }
   ],
   "source": [
    "scvi.model.SCVI.setup_anndata(cadata)"
   ]
  },
  {
   "cell_type": "code",
   "execution_count": 106,
   "id": "660b2490",
   "metadata": {},
   "outputs": [],
   "source": [
    "vae = scvi.model.SCVI(cadata, n_layers = 2, n_latent = 2, gene_likelihood = \"poisson\")"
   ]
  },
  {
   "cell_type": "code",
   "execution_count": 107,
   "id": "fe835aa9",
   "metadata": {},
   "outputs": [
    {
     "name": "stderr",
     "output_type": "stream",
     "text": [
      "GPU available: True, used: True\n",
      "TPU available: False, using: 0 TPU cores\n",
      "LOCAL_RANK: 0 - CUDA_VISIBLE_DEVICES: [0]\n"
     ]
    },
    {
     "name": "stdout",
     "output_type": "stream",
     "text": [
      "Epoch 250/250: 100%|███████████████████████████████████████████████████████████████████████████████████████████████████████████████████████████████████████████████████████████████████████████████████████████████| 250/250 [05:05<00:00,  1.22s/it, loss=75.5, v_num=1]\n"
     ]
    }
   ],
   "source": [
    "vae.train(max_epochs = 250, use_gpu = True)"
   ]
  },
  {
   "cell_type": "code",
   "execution_count": 108,
   "id": "afa2cbbd",
   "metadata": {},
   "outputs": [],
   "source": [
    "cadata.obsm[\"X_scVI\"] = vae.get_latent_representation()"
   ]
  },
  {
   "cell_type": "code",
   "execution_count": 109,
   "id": "f5ff023e",
   "metadata": {},
   "outputs": [],
   "source": [
    "for i, z in enumerate(cadata.obsm['X_scVI'].T):\n",
    "    cadata.obs[f'Z_{i + 1}'] = z"
   ]
  },
  {
   "cell_type": "code",
   "execution_count": 111,
   "id": "3a674d9d",
   "metadata": {},
   "outputs": [
    {
     "data": {
      "image/png": "[encoded data removed]",
      "text/plain": [
       "<Figure size 600x600 with 1 Axes>"
      ]
     },
     "metadata": {
      "needs_background": "light"
     },
     "output_type": "display_data"
    },
    {
     "name": "stdout",
     "output_type": "stream",
     "text": [
      "<ggplot: (-9223371837676184900)>\n"
     ]
    }
   ],
   "source": [
    "p.options.figure_size = 6, 6\n",
    "\n",
    "p_ = (\n",
    "    p.ggplot(p.aes(x = 'Z_1', y = 'Z_2', color = 'thinning'), cadata.obs)\n",
    "    + p.geom_point(shape = '.', size = 0.1)\n",
    "    + p.theme_minimal()\n",
    ")\n",
    "\n",
    "print(p_)"
   ]
  },
  {
   "cell_type": "code",
   "execution_count": null,
   "id": "79eccac3",
   "metadata": {},
   "outputs": [],
   "source": []
  },
  {
   "cell_type": "code",
   "execution_count": 113,
   "id": "faa064fa",
   "metadata": {},
   "outputs": [
    {
     "data": {
      "text/plain": [
       "2774.0"
      ]
     },
     "execution_count": 113,
     "metadata": {},
     "output_type": "execute_result"
    }
   ],
   "source": [
    "sX.sum()"
   ]
  },
  {
   "cell_type": "code",
   "execution_count": 116,
   "id": "a5c03ee0",
   "metadata": {},
   "outputs": [
    {
     "data": {
      "text/plain": [
       "array([0.        , 0.00144196, 0.1369863 , 0.00036049, 0.        ,\n",
       "       0.        , 0.        , 0.        , 0.        , 0.        ,\n",
       "       0.        , 0.        , 0.        , 0.00036049, 0.00108147,\n",
       "       0.        , 0.        , 0.        , 0.        , 0.        ,\n",
       "       0.        , 0.        , 0.00504686, 0.        , 0.        ,\n",
       "       0.        , 0.        , 0.00036049, 0.        , 0.        ,\n",
       "       0.        , 0.        , 0.00108147, 0.00036049, 0.        ,\n",
       "       0.        , 0.0036049 , 0.06488825, 0.        , 0.00036049,\n",
       "       0.00036049, 0.00036049, 0.0111752 , 0.        , 0.00072098,\n",
       "       0.        , 0.        , 0.00036049, 0.        , 0.00180245,\n",
       "       0.00216294, 0.        , 0.00180245, 0.        , 0.00036049,\n",
       "       0.        , 0.00036049, 0.        , 0.0147801 , 0.        ,\n",
       "       0.00072098, 0.02090844, 0.00144196, 0.        , 0.19466475,\n",
       "       0.00324441, 0.        , 0.00108147, 0.00036049, 0.00937275,\n",
       "       0.0111752 , 0.        , 0.00396539, 0.        , 0.        ,\n",
       "       0.        , 0.        , 0.        , 0.        , 0.00036049,\n",
       "       0.        , 0.        , 0.        , 0.00072098, 0.        ,\n",
       "       0.        , 0.        , 0.        , 0.00180245, 0.00108147,\n",
       "       0.        , 0.0036049 , 0.        , 0.00288392, 0.00036049,\n",
       "       0.00036049, 0.        , 0.00036049, 0.        , 0.00036049,\n",
       "       0.00072098, 0.        , 0.00036049, 0.        , 0.        ,\n",
       "       0.        , 0.00180245, 0.        , 0.        , 0.00036049,\n",
       "       0.        , 0.01189618, 0.        , 0.00144196, 0.        ,\n",
       "       0.04470079, 0.00720981, 0.00072098, 0.00504686, 0.00396539,\n",
       "       0.00252343, 0.        , 0.01730353, 0.17303532, 0.18745494,\n",
       "       0.        , 0.        , 0.        , 0.00973324, 0.00432588,\n",
       "       0.00216294, 0.00324441, 0.        , 0.        , 0.        ,\n",
       "       0.        , 0.        , 0.        , 0.00036049, 0.00612833,\n",
       "       0.00648882], dtype=float32)"
      ]
     },
     "execution_count": 116,
     "metadata": {},
     "output_type": "execute_result"
    }
   ],
   "source": [
    "sX.sum(0) / sX.sum()"
   ]
  },
  {
   "cell_type": "code",
   "execution_count": null,
   "id": "1d509570",
   "metadata": {},
   "outputs": [],
   "source": []
  },
  {
   "cell_type": "code",
   "execution_count": 198,
   "id": "a58b1d49",
   "metadata": {},
   "outputs": [
    {
     "data": {
      "text/plain": [
       "array([ 0,  0, 80,  0,  0,  0,  0,  0,  0,  0,  0,  0,  0,  0,  0,  0,  0,\n",
       "        0,  0,  0,  0,  0,  3,  0,  0,  0,  0,  1,  0,  0,  0,  1,  0,  1,\n",
       "        0,  0,  0, 42,  0,  0,  0,  4,  4,  0,  0,  0,  0,  0,  0,  0,  3,\n",
       "        0,  0,  0,  0,  0,  0,  0, 12,  0,  0, 11,  2,  0, 59,  1,  0,  1,\n",
       "        0,  3, 10,  0,  3,  0,  1,  1,  0,  0,  0,  0,  0,  0,  0,  0,  0,\n",
       "        0,  0,  0,  0,  2,  0,  4,  0,  3,  1,  1,  0,  0,  0,  1,  0,  0,\n",
       "        0,  0,  0,  1,  1,  0,  0,  0,  0,  6,  0,  0,  1, 19, 10,  0,  1,\n",
       "        5,  0,  0, 11, 80, 73,  0,  0,  0,  4,  2,  0,  2,  0,  0,  0,  0,\n",
       "        0,  0,  0,  3,  1])"
      ]
     },
     "execution_count": 198,
     "metadata": {},
     "output_type": "execute_result"
    }
   ],
   "source": [
    "stats.binom.rvs(500, fadata.X.sum(0) / fadata.X.sum())"
   ]
  },
  {
   "cell_type": "code",
   "execution_count": null,
   "id": "1674e387",
   "metadata": {},
   "outputs": [],
   "source": []
  },
  {
   "cell_type": "code",
   "execution_count": null,
   "id": "7032550c",
   "metadata": {},
   "outputs": [],
   "source": []
  },
  {
   "cell_type": "code",
   "execution_count": null,
   "id": "41fc81c2",
   "metadata": {},
   "outputs": [],
   "source": []
  },
  {
   "cell_type": "code",
   "execution_count": null,
   "id": "ada9f79d",
   "metadata": {},
   "outputs": [],
   "source": []
  },
  {
   "cell_type": "code",
   "execution_count": null,
   "id": "0c2c26c4",
   "metadata": {},
   "outputs": [],
   "source": []
  },
  {
   "cell_type": "code",
   "execution_count": null,
   "id": "5930cb53",
   "metadata": {},
   "outputs": [],
   "source": []
  },
  {
   "cell_type": "code",
   "execution_count": null,
   "id": "8911c04c",
   "metadata": {},
   "outputs": [],
   "source": []
  },
  {
   "cell_type": "code",
   "execution_count": null,
   "id": "26b71424",
   "metadata": {},
   "outputs": [],
   "source": []
  },
  {
   "cell_type": "code",
   "execution_count": null,
   "id": "efb9fea6",
   "metadata": {},
   "outputs": [],
   "source": []
  },
  {
   "cell_type": "code",
   "execution_count": null,
   "id": "0cccc793",
   "metadata": {},
   "outputs": [],
   "source": []
  }
 ],
 "metadata": {
  "kernelspec": {
   "display_name": "Python 3",
   "language": "python",
   "name": "python3"
  },
  "language_info": {
   "codemirror_mode": {
    "name": "ipython",
    "version": 3
   },
   "file_extension": ".py",
   "mimetype": "text/x-python",
   "name": "python",
   "nbconvert_exporter": "python",
   "pygments_lexer": "ipython3",
   "version": "3.7.4"
  }
 },
 "nbformat": 4,
 "nbformat_minor": 5
}
