{
 "cells": [
  {
   "cell_type": "code",
   "execution_count": 24,
   "id": "04f61440",
   "metadata": {},
   "outputs": [],
   "source": [
    "import numpy as np\n",
    "from openai import OpenAI\n",
    "import pandas as pd\n",
    "import plotnine as p\n",
    "import pymde\n",
    "import sklearn\n",
    "import sklearn.metrics\n",
    "from tqdm import tqdm"
   ]
  },
  {
   "cell_type": "code",
   "execution_count": null,
   "id": "0c971d65",
   "metadata": {},
   "outputs": [],
   "source": []
  },
  {
   "cell_type": "code",
   "execution_count": 2,
   "id": "ce95f2e5",
   "metadata": {},
   "outputs": [],
   "source": [
    "data = pd.read_csv('https://nxn.se/single-cell-studies/data.tsv', sep='\\t')"
   ]
  },
  {
   "cell_type": "code",
   "execution_count": null,
   "id": "7eeebf35",
   "metadata": {},
   "outputs": [],
   "source": []
  },
  {
   "cell_type": "code",
   "execution_count": 3,
   "id": "2701335e",
   "metadata": {},
   "outputs": [
    {
     "data": {
      "text/plain": [
       "0       Classification of fusiform neocortical interne...\n",
       "1                  Combinatorial Receptor Codes for Odors\n",
       "2       Single-Cell Transcriptional Analysis of Neuron...\n",
       "3       Cortical Sources of CRF, NKB, and CCK and Thei...\n",
       "4       An improved single-cell cDNA amplification met...\n",
       "                              ...                        \n",
       "1928    Yolk sac cell atlas reveals multiorgan functio...\n",
       "1929    Peripheral immune landscape for hypercytokinem...\n",
       "1930    Maternal and embryonic signals cause functiona...\n",
       "1931    Single-cell atlas reveals correlates of high c...\n",
       "1932    Ikaros is a principal regulator of Aire <sup>+...\n",
       "Name: Title, Length: 1933, dtype: object"
      ]
     },
     "execution_count": 3,
     "metadata": {},
     "output_type": "execute_result"
    }
   ],
   "source": [
    "data['Title']"
   ]
  },
  {
   "cell_type": "code",
   "execution_count": 4,
   "id": "bed59307",
   "metadata": {},
   "outputs": [
    {
     "data": {
      "text/html": [
       "<div>\n",
       "<style scoped>\n",
       "    .dataframe tbody tr th:only-of-type {\n",
       "        vertical-align: middle;\n",
       "    }\n",
       "\n",
       "    .dataframe tbody tr th {\n",
       "        vertical-align: top;\n",
       "    }\n",
       "\n",
       "    .dataframe thead th {\n",
       "        text-align: right;\n",
       "    }\n",
       "</style>\n",
       "<table border=\"1\" class=\"dataframe\">\n",
       "  <thead>\n",
       "    <tr style=\"text-align: right;\">\n",
       "      <th></th>\n",
       "      <th>DOI</th>\n",
       "      <th>count</th>\n",
       "    </tr>\n",
       "  </thead>\n",
       "  <tbody>\n",
       "    <tr>\n",
       "      <th>0</th>\n",
       "      <td>10.1038/s41467-019-14081-6</td>\n",
       "      <td>2</td>\n",
       "    </tr>\n",
       "    <tr>\n",
       "      <th>1</th>\n",
       "      <td>10.1038/s41467-020-15411-9</td>\n",
       "      <td>2</td>\n",
       "    </tr>\n",
       "    <tr>\n",
       "      <th>2</th>\n",
       "      <td>10.1038/s41467-020-15543-y</td>\n",
       "      <td>2</td>\n",
       "    </tr>\n",
       "    <tr>\n",
       "      <th>3</th>\n",
       "      <td>10.1038/s41586-021-04369-3</td>\n",
       "      <td>2</td>\n",
       "    </tr>\n",
       "  </tbody>\n",
       "</table>\n",
       "</div>"
      ],
      "text/plain": [
       "                          DOI  count\n",
       "0  10.1038/s41467-019-14081-6      2\n",
       "1  10.1038/s41467-020-15411-9      2\n",
       "2  10.1038/s41467-020-15543-y      2\n",
       "3  10.1038/s41586-021-04369-3      2"
      ]
     },
     "execution_count": 4,
     "metadata": {},
     "output_type": "execute_result"
    }
   ],
   "source": [
    "data['DOI'].value_counts().reset_index().query('count > 1')"
   ]
  },
  {
   "cell_type": "code",
   "execution_count": null,
   "id": "68874afd",
   "metadata": {},
   "outputs": [],
   "source": []
  },
  {
   "cell_type": "code",
   "execution_count": 10,
   "id": "7a8d205e",
   "metadata": {},
   "outputs": [],
   "source": [
    "# Removed those entries"
   ]
  },
  {
   "cell_type": "code",
   "execution_count": 11,
   "id": "eeb0adc1",
   "metadata": {},
   "outputs": [],
   "source": [
    "data = pd.read_csv('https://nxn.se/single-cell-studies/data.tsv', sep='\\t')"
   ]
  },
  {
   "cell_type": "code",
   "execution_count": 12,
   "id": "54b40491",
   "metadata": {},
   "outputs": [
    {
     "data": {
      "text/html": [
       "<div>\n",
       "<style scoped>\n",
       "    .dataframe tbody tr th:only-of-type {\n",
       "        vertical-align: middle;\n",
       "    }\n",
       "\n",
       "    .dataframe tbody tr th {\n",
       "        vertical-align: top;\n",
       "    }\n",
       "\n",
       "    .dataframe thead th {\n",
       "        text-align: right;\n",
       "    }\n",
       "</style>\n",
       "<table border=\"1\" class=\"dataframe\">\n",
       "  <thead>\n",
       "    <tr style=\"text-align: right;\">\n",
       "      <th></th>\n",
       "      <th>DOI</th>\n",
       "      <th>count</th>\n",
       "    </tr>\n",
       "  </thead>\n",
       "  <tbody>\n",
       "  </tbody>\n",
       "</table>\n",
       "</div>"
      ],
      "text/plain": [
       "Empty DataFrame\n",
       "Columns: [DOI, count]\n",
       "Index: []"
      ]
     },
     "execution_count": 12,
     "metadata": {},
     "output_type": "execute_result"
    }
   ],
   "source": [
    "data['DOI'].value_counts().reset_index().query('count > 1')"
   ]
  },
  {
   "cell_type": "code",
   "execution_count": null,
   "id": "bebaadc2",
   "metadata": {},
   "outputs": [],
   "source": []
  },
  {
   "cell_type": "code",
   "execution_count": 32,
   "id": "c6b7f847",
   "metadata": {},
   "outputs": [],
   "source": [
    "# Exact matching titles"
   ]
  },
  {
   "cell_type": "code",
   "execution_count": 35,
   "id": "57fef258",
   "metadata": {},
   "outputs": [
    {
     "data": {
      "text/plain": [
       "['Single-cell RNA-sequencing reveals predictive features of response to pembrolizumab in Sézary syndrome',\n",
       " 'Single-cell analyses identify circulating anti-tumor CD8 T cells and markers for their enrichment',\n",
       " 'Efficient combinatorial targeting of RNA transcripts in single cells with Cas13 RNA Perturb-seq',\n",
       " 'Integrating single-cell RNA-seq and imaging with SCOPE-seq2',\n",
       " 'A single cell transcriptional atlas of early synovial joint development']"
      ]
     },
     "execution_count": 35,
     "metadata": {},
     "output_type": "execute_result"
    }
   ],
   "source": [
    "data['Title'].value_counts().reset_index().query('count > 1')['Title'].to_list()"
   ]
  },
  {
   "cell_type": "code",
   "execution_count": null,
   "id": "d427afd9",
   "metadata": {},
   "outputs": [],
   "source": []
  },
  {
   "cell_type": "code",
   "execution_count": 36,
   "id": "df0c6698",
   "metadata": {},
   "outputs": [],
   "source": [
    "# Removed those"
   ]
  },
  {
   "cell_type": "code",
   "execution_count": 37,
   "id": "f1336db9",
   "metadata": {},
   "outputs": [],
   "source": [
    "data = pd.read_csv('https://nxn.se/single-cell-studies/data.tsv', sep='\\t')"
   ]
  },
  {
   "cell_type": "code",
   "execution_count": 39,
   "id": "6b52b543",
   "metadata": {},
   "outputs": [
    {
     "data": {
      "text/plain": [
       "[]"
      ]
     },
     "execution_count": 39,
     "metadata": {},
     "output_type": "execute_result"
    }
   ],
   "source": [
    "data['Title'].value_counts().reset_index().query('count > 1')['Title'].to_list()"
   ]
  },
  {
   "cell_type": "code",
   "execution_count": null,
   "id": "8919a76d",
   "metadata": {},
   "outputs": [],
   "source": []
  },
  {
   "cell_type": "code",
   "execution_count": 38,
   "id": "719807f9",
   "metadata": {},
   "outputs": [],
   "source": [
    "# Slight duplicates"
   ]
  },
  {
   "cell_type": "code",
   "execution_count": 40,
   "id": "64b982ab",
   "metadata": {},
   "outputs": [],
   "source": [
    "client = OpenAI()"
   ]
  },
  {
   "cell_type": "code",
   "execution_count": null,
   "id": "990b9b76",
   "metadata": {},
   "outputs": [],
   "source": []
  },
  {
   "cell_type": "code",
   "execution_count": 41,
   "id": "b28c3e2c",
   "metadata": {},
   "outputs": [
    {
     "name": "stderr",
     "output_type": "stream",
     "text": [
      "100%|███████████████████████████████████████████████████████████████████████████████████████████████████████████████████████████████████████████████| 10/10 [00:10<00:00,  1.06s/it]\n"
     ]
    }
   ],
   "source": [
    "responses = []\n",
    "for chunk in tqdm(np.array_split(data, 10)):\n",
    "    query = chunk['Title'].to_list()\n",
    "    response = client.embeddings.create(input = query, model = 'text-embedding-ada-002')\n",
    "    responses += [response]"
   ]
  },
  {
   "cell_type": "code",
   "execution_count": 42,
   "id": "87a4d7b7",
   "metadata": {},
   "outputs": [],
   "source": [
    "embeddings_list = []\n",
    "for response in responses:\n",
    "    embeddings = np.array([d.embedding for d in response.data])\n",
    "    embeddings_list += [embeddings]"
   ]
  },
  {
   "cell_type": "code",
   "execution_count": 43,
   "id": "d53b3568",
   "metadata": {},
   "outputs": [],
   "source": [
    "embeddings = np.vstack(embeddings_list)"
   ]
  },
  {
   "cell_type": "code",
   "execution_count": 44,
   "id": "53a7d986",
   "metadata": {},
   "outputs": [],
   "source": [
    "pdists = sklearn.metrics.pairwise_distances(embeddings)"
   ]
  },
  {
   "cell_type": "code",
   "execution_count": 45,
   "id": "63f45735",
   "metadata": {},
   "outputs": [],
   "source": [
    "mask = np.triu(np.ones(pdists.shape), k = 1).astype(bool)\n",
    "pdistsl = pd.DataFrame(pdists).where(mask).stack().reset_index()"
   ]
  },
  {
   "cell_type": "code",
   "execution_count": 46,
   "id": "dfb4d507",
   "metadata": {},
   "outputs": [],
   "source": [
    "top_similar = pdistsl.sort_values(0).head(20)"
   ]
  },
  {
   "cell_type": "code",
   "execution_count": 47,
   "id": "17a8c087",
   "metadata": {
    "scrolled": false
   },
   "outputs": [
    {
     "name": "stdout",
     "output_type": "stream",
     "text": [
      "Distance: 0.04542879727657215\n",
      "10.1101/2020.10.07.329839 \n",
      "| Single-nucleus transcriptome analysis reveals cell type-specific molecular signatures across reward circuitry in the human brain\n",
      "10.1016/j.neuron.2021.09.001 \n",
      "| Single-nucleus transcriptome analysis reveals cell-type-specific molecular signatures across reward circuitry in the human brain\n",
      "\n",
      "Distance: 0.051210665464434646\n",
      "10.1101/2020.07.11.193458 \n",
      "| Single-nucleus RNA-seq2 reveals a functional crosstalk between liver zonation and ploidy\n",
      "10.1038/s41467-021-24543-5 \n",
      "| Single-nucleus RNA-seq2 reveals functional crosstalk between liver zonation and ploidy\n",
      "\n",
      "Distance: 0.07003401486501365\n",
      "10.1101/2020.03.02.955757 \n",
      "| Diversification of molecularly defined myenteric neuron classes revealed by single cell RNA-sequencing\n",
      "10.1038/s41593-020-00736-x \n",
      "| Diversification of molecularly defined myenteric neuron classes revealed by single-cell RNA sequencing\n",
      "\n",
      "Distance: 0.08156853865981699\n",
      "10.1101/2021.07.19.452956 \n",
      "| The Tabula Sapiens: a multiple organ single cell transcriptomic atlas of humans\n",
      "10.1126/science.abl4896 \n",
      "| The Tabula Sapiens: A multiple-organ, single-cell transcriptomic atlas of humans\n",
      "\n",
      "Distance: 0.1182708273417854\n",
      "10.1101/2020.04.22.056341 \n",
      "| Deconvolution of Cell Type-Specific Drug Responses in Human Tumor Tissue with Single-Cell RNA-seq\n",
      "10.1186/s13073-021-00894-y \n",
      "| Deconvolution of cell type-specific drug responses in human tumor tissue with single-cell RNA-seq\n",
      "\n",
      "Distance: 0.14183682263019862\n",
      "10.1101/2020.01.19.911701 \n",
      "| Surveying Brain Tumor Heterogeneity by Single-Cell RNA Sequencing of Multi-sector Biopsies\n",
      "10.1093/nsr/nwaa099 \n",
      "| Surveying brain tumor heterogeneity by single-cell RNA-sequencing of multi-sector biopsies\n",
      "\n",
      "Distance: 0.15672052837461234\n",
      "10.21203/rs.3.rs-745435/v1 \n",
      "| Single cell analysis of endometriosis reveals a coordinated transcriptional program driving immunotolerance and angiogenesis across eutopic and ectopic tissues.\n",
      "10.1038/s41556-022-00961-5 \n",
      "| Single-cell analysis of endometriosis reveals a coordinated transcriptional programme driving immunotolerance and angiogenesis across eutopic and ectopic tissues\n",
      "\n",
      "Distance: 0.16437164718666886\n",
      "10.1101/2020.06.17.156943 \n",
      "| Chromatin potential identified by shared single cell profiling of RNA and chromatin\n",
      "10.1016/j.cell.2020.09.056 \n",
      "| Chromatin Potential Identified by Shared Single-Cell Profiling of RNA and Chromatin\n",
      "\n",
      "Distance: 0.16911884570096825\n",
      "10.1101/2021.04.24.441206 \n",
      "| Single-cell landscapes of primary glioblastomas and matched organoids and cell lines reveal variable retention of inter- and intra-tumor heterogeneity\n",
      "10.1016/j.ccell.2022.02.016 \n",
      "| Single-cell landscapes of primary glioblastomas and matched explants and cell lines show variable retention of inter- and intratumor heterogeneity\n",
      "\n",
      "Distance: 0.183893761793663\n",
      "10.1101/2020.02.12.946509 \n",
      "| No detectable alloreactive transcriptional responses during donor-multiplexed single-cell RNA sequencing of peripheral blood mononuclear cells\n",
      "10.1186/s12915-020-00941-x \n",
      "| No detectable alloreactive transcriptional responses under standard sample preparation conditions during donor-multiplexed single-cell RNA sequencing of peripheral blood mononuclear cells\n",
      "\n",
      "Distance: 0.18895108556159476\n",
      "10.1101/2020.01.13.891630 \n",
      "| Single-cell transcriptome analysis reveals cell-cell communication and thyrocyte diversity in the zebrafish thyroid gland\n",
      "10.15252/embr.202050612 \n",
      "| Single‐cell transcriptome analysis reveals thyrocyte diversity in the zebrafish thyroid gland\n",
      "\n",
      "Distance: 0.2003776161396695\n",
      "10.21203/rs.3.rs-599203/v1 \n",
      "| A Single-cell Interactome of Human Tooth Germ Elucidates Signaling Networks Regulating Dental Development\n",
      "10.1186/s13578-021-00691-5 \n",
      "| A single-cell interactome of human tooth germ from growing third molar elucidates signaling networks regulating dental development\n",
      "\n",
      "Distance: 0.23986737520644938\n",
      "10.1101/2022.01.12.476082 \n",
      "| Scalable in situ single-cell profiling by electrophoretic capture of mRNA\n",
      "10.1038/s41587-022-01455-3 \n",
      "| Scalable in situ single-cell profiling by electrophoretic capture of mRNA using EEL FISH\n",
      "\n",
      "Distance: 0.25840869095237246\n",
      "10.2337/db16-0405 \n",
      "| Single-Cell Transcriptomics of the Human Endocrine Pancreas\n",
      "10.1016/j.cels.2016.09.002 \n",
      "| A Single-Cell Transcriptome Atlas of the Human Pancreas\n",
      "\n",
      "Distance: 0.26278269347286093\n",
      "10.15252/embj.2018100811 \n",
      "| A single‐cell transcriptome atlas of the adult human retina\n",
      "10.1093/nsr/nwaa179 \n",
      "| A single-cell transcriptome atlas of the aging human and macaque retina\n",
      "\n",
      "Distance: 0.26422422020526076\n",
      "10.1038/s41467-018-08079-9 \n",
      "| Single-cell transcriptomic analysis of mouse neocortical development\n",
      "10.1101/2020.04.23.056390 \n",
      "| Single-cell transcriptomic analysis identifies neocortical developmental differences between human and mouse\n",
      "\n",
      "Distance: 0.2916387113759244\n",
      "10.1038/s41586-022-04518-2  \n",
      "| A single-cell atlas of human and mouse white adipose tissue\n",
      "10.1038/s41467-023-36983-2 \n",
      "| An integrated single cell and spatial transcriptomic map of human white adipose tissue\n",
      "\n",
      "Distance: 0.29364709869497707\n",
      "10.1016/j.devcel.2020.05.010 \n",
      "| Single-Cell RNA Sequencing of Human, Macaque, and Mouse Testes Uncovers Conserved and Divergent Features of Mammalian Spermatogenesis\n",
      "10.1016/j.devcel.2020.07.018 \n",
      "| Single-Cell RNA Sequencing of the Cynomolgus Macaque Testis Reveals Conserved Transcriptional Profiles during Mammalian Spermatogenesis\n",
      "\n",
      "Distance: 0.2940628150528307\n",
      "10.1126/science.aar4362 \n",
      "| Single-cell mapping of gene expression landscapes and lineage in the zebrafish embryo\n",
      "10.1101/2021.10.21.465298 \n",
      "| Spatiotemporal mapping of gene expression landscapes and developmental trajectories during zebrafish embryogenesis\n",
      "\n",
      "Distance: 0.2991743187594748\n",
      "10.1101/2022.02.01.478648 \n",
      "| Single-cell RNA profiling of Plasmodium vivax liver stages reveals parasite- and host-specific transcriptomic signatures and drug targets\n",
      "10.1371/journal.pntd.0010633 \n",
      "| Single-cell RNA sequencing of Plasmodium vivax sporozoites reveals stage- and species-specific transcriptomic signatures\n",
      "\n"
     ]
    }
   ],
   "source": [
    "for _, r in top_similar.iterrows():\n",
    "    print('Distance:', r[0])\n",
    "    d_r_0 = data.iloc[r['level_0'].astype(int)]\n",
    "    d_r_1 = data.iloc[r['level_1'].astype(int)]\n",
    "    print(d_r_0['DOI'], '\\n|', d_r_0['Title'])\n",
    "    print(d_r_1['DOI'], '\\n|', d_r_1['Title'])\n",
    "    print()"
   ]
  },
  {
   "cell_type": "code",
   "execution_count": null,
   "id": "8772ac50",
   "metadata": {},
   "outputs": [],
   "source": []
  },
  {
   "cell_type": "code",
   "execution_count": null,
   "id": "c58b6edf",
   "metadata": {},
   "outputs": [],
   "source": []
  },
  {
   "cell_type": "code",
   "execution_count": 51,
   "id": "f5ad54f4",
   "metadata": {},
   "outputs": [],
   "source": [
    "top_similar = pdistsl.sort_values(0).iloc[20:30]"
   ]
  },
  {
   "cell_type": "code",
   "execution_count": 52,
   "id": "e831de4f",
   "metadata": {},
   "outputs": [
    {
     "name": "stdout",
     "output_type": "stream",
     "text": [
      "Distance: 0.30166526498233476\n",
      "10.1101/648642 \n",
      "| A cellular atlas of the developing meninges reveals meningeal fibroblast diversity and function\n",
      "10.1016/j.devcel.2020.06.009 \n",
      "| Single-Cell Transcriptomic Analyses of the Developing Meninges Reveal Meningeal Fibroblast Diversity and Function\n",
      "\n",
      "Distance: 0.30574903450084506\n",
      "10.1242/dev.173807 \n",
      "| Single cell transcriptomics reveals spatial and temporal dynamics of gene expression in the developing mouse spinal cord\n",
      "10.1101/2020.03.16.992958 \n",
      "| Single-cell transcriptomic analysis of the adult mouse spinal cord\n",
      "\n",
      "Distance: 0.3067554463622778\n",
      "10.1016/j.cell.2015.04.001 \n",
      "| Single-Cell Transcriptome Analyses Reveal Signals to Activate Dormant Neural Stem Cells\n",
      "10.1016/j.stem.2015.07.002 \n",
      "| Single-Cell Transcriptomics Reveals a Population of Dormant Neural Stem Cells that Become Activated upon Brain Injury\n",
      "\n",
      "Distance: 0.31251587403057574\n",
      "10.1038/nature25739 \n",
      "| A molecular atlas of cell types and zonation in the brain vasculature\n",
      "10.1101/2021.10.18.464715 \n",
      "| Molecular atlas of the human brain vasculature at the single-cell level\n",
      "\n",
      "Distance: 0.3126227772596645\n",
      "10.1126/science.aba5257 \n",
      "| Microbial single-cell RNA sequencing by split-pool barcoding\n",
      "10.1101/2022.08.27.505512 \n",
      "| High sensitivity single cell RNA sequencing with split pool barcoding\n",
      "\n",
      "Distance: 0.31339446208488103\n",
      "10.1093/jmcb/mjy089 \n",
      "| Single-cell transcriptomes reveal molecular specializations of neuronal cell types in the developing cerebellum\n",
      "10.1101/2020.03.04.976407 \n",
      "| A transcriptomic atlas of the mouse cerebellum reveals regional specializations and novel cell types\n",
      "\n",
      "Distance: 0.31518586085947303\n",
      "10.1038/nbt.3973 \n",
      "| Multiplexed quantification of proteins and transcripts in single cells\n",
      "10.1038/s41587-019-0150-y \n",
      "| Simultaneous quantification of protein–DNA contacts and transcriptomes in single cells\n",
      "\n",
      "Distance: 0.31617515810403735\n",
      "10.1016/j.cmet.2016.08.020 \n",
      "| Single-Cell Transcriptome Profiling of Human Pancreatic Islets in Health and Type 2 Diabetes\n",
      "10.1101/gr.212720.116 \n",
      "| Single-cell transcriptomes identify human islet cell signatures and reveal cell-type–specific expression changes in type 2 diabetes\n",
      "\n",
      "Distance: 0.32012169844692384\n",
      "10.15252/embr.201540946 \n",
      "| Single‐cell transcriptomes reveal characteristic features of human pancreatic islet cell types\n",
      "10.1101/gr.212720.116 \n",
      "| Single-cell transcriptomes identify human islet cell signatures and reveal cell-type–specific expression changes in type 2 diabetes\n",
      "\n",
      "Distance: 0.3239808725562387\n",
      "10.1038/s41593-019-0491-3 \n",
      "| Single-cell transcriptomic profiling of the aging mouse brain\n",
      "10.1101/2022.09.14.508048 \n",
      "| Mapping the cellular and molecular organization of mouse cerebral aging by single-cell transcriptome imaging\n",
      "\n"
     ]
    }
   ],
   "source": [
    "for _, r in top_similar.iterrows():\n",
    "    print('Distance:', r[0])\n",
    "    d_r_0 = data.iloc[r['level_0'].astype(int)]\n",
    "    d_r_1 = data.iloc[r['level_1'].astype(int)]\n",
    "    print(d_r_0['DOI'], '\\n|', d_r_0['Title'])\n",
    "    print(d_r_1['DOI'], '\\n|', d_r_1['Title'])\n",
    "    print()"
   ]
  },
  {
   "cell_type": "code",
   "execution_count": null,
   "id": "f72e463b",
   "metadata": {},
   "outputs": [],
   "source": []
  },
  {
   "cell_type": "code",
   "execution_count": 54,
   "id": "6918d77c",
   "metadata": {},
   "outputs": [],
   "source": [
    "# This process removed 22 duplicates!"
   ]
  },
  {
   "cell_type": "code",
   "execution_count": 67,
   "id": "20416c88",
   "metadata": {},
   "outputs": [
    {
     "data": {
      "text/plain": [
       "(1924, 28)"
      ]
     },
     "execution_count": 67,
     "metadata": {},
     "output_type": "execute_result"
    }
   ],
   "source": [
    "data.shape"
   ]
  },
  {
   "cell_type": "code",
   "execution_count": null,
   "id": "e047349e",
   "metadata": {},
   "outputs": [],
   "source": []
  },
  {
   "cell_type": "code",
   "execution_count": 53,
   "id": "57c6cfb1",
   "metadata": {},
   "outputs": [],
   "source": [
    "mde = pymde.preserve_neighbors(embeddings).embed()"
   ]
  },
  {
   "cell_type": "code",
   "execution_count": 55,
   "id": "15673668",
   "metadata": {},
   "outputs": [],
   "source": [
    "mde_a = mde.numpy()"
   ]
  },
  {
   "cell_type": "code",
   "execution_count": 56,
   "id": "fb97bb6b",
   "metadata": {},
   "outputs": [
    {
     "data": {
      "text/plain": [
       "array([[ 0.14475524, -2.0531766 ],\n",
       "       [-0.304117  , -1.7645601 ],\n",
       "       [ 0.15866718, -0.91575366],\n",
       "       ...,\n",
       "       [ 0.18902579, -0.18376237],\n",
       "       [ 0.9655612 , -1.5933845 ],\n",
       "       [ 0.75019854,  1.0677631 ]], dtype=float32)"
      ]
     },
     "execution_count": 56,
     "metadata": {},
     "output_type": "execute_result"
    }
   ],
   "source": [
    "mde_a"
   ]
  },
  {
   "cell_type": "code",
   "execution_count": null,
   "id": "c8ef831a",
   "metadata": {},
   "outputs": [],
   "source": []
  },
  {
   "cell_type": "code",
   "execution_count": 57,
   "id": "57dd00a6",
   "metadata": {},
   "outputs": [],
   "source": [
    "mdata = pd.DataFrame(mde_a, index = data.index, columns = ['mde_1', 'mde_2'])"
   ]
  },
  {
   "cell_type": "code",
   "execution_count": null,
   "id": "7d21d243",
   "metadata": {},
   "outputs": [],
   "source": []
  },
  {
   "cell_type": "code",
   "execution_count": 58,
   "id": "c454eab7",
   "metadata": {},
   "outputs": [
    {
     "data": {
      "image/png": "[encoded data removed]",
      "text/plain": [
       "<Figure size 640x480 with 1 Axes>"
      ]
     },
     "metadata": {
      "image/png": {
       "height": 480,
       "width": 640
      },
      "needs_background": "light"
     },
     "output_type": "display_data"
    },
    {
     "data": {
      "text/plain": [
       "<Figure Size: (640 x 480)>"
      ]
     },
     "execution_count": 58,
     "metadata": {},
     "output_type": "execute_result"
    }
   ],
   "source": [
    "(\n",
    "    p.ggplot(mdata, p.aes(x = 'mde_1', y = 'mde_2'))\n",
    "    + p.geom_point()\n",
    "    + p.theme_minimal()\n",
    ")"
   ]
  },
  {
   "cell_type": "code",
   "execution_count": null,
   "id": "59f121bd",
   "metadata": {},
   "outputs": [],
   "source": []
  },
  {
   "cell_type": "code",
   "execution_count": 62,
   "id": "833708a4",
   "metadata": {},
   "outputs": [],
   "source": [
    "idx_ = mdata.query('mde_1 < -2').query('mde_2 > 1').index"
   ]
  },
  {
   "cell_type": "code",
   "execution_count": 64,
   "id": "8e4f4c6e",
   "metadata": {},
   "outputs": [
    {
     "data": {
      "text/html": [
       "<div>\n",
       "<style scoped>\n",
       "    .dataframe tbody tr th:only-of-type {\n",
       "        vertical-align: middle;\n",
       "    }\n",
       "\n",
       "    .dataframe tbody tr th {\n",
       "        vertical-align: top;\n",
       "    }\n",
       "\n",
       "    .dataframe thead th {\n",
       "        text-align: right;\n",
       "    }\n",
       "</style>\n",
       "<table border=\"1\" class=\"dataframe\">\n",
       "  <thead>\n",
       "    <tr style=\"text-align: right;\">\n",
       "      <th></th>\n",
       "      <th>Shorthand</th>\n",
       "      <th>Title</th>\n",
       "    </tr>\n",
       "  </thead>\n",
       "  <tbody>\n",
       "    <tr>\n",
       "      <th>197</th>\n",
       "      <td>Lonnberg et al SImmunology</td>\n",
       "      <td>Single-cell RNA-seq and computational analysis...</td>\n",
       "    </tr>\n",
       "    <tr>\n",
       "      <th>249</th>\n",
       "      <td>Poran et al Nature</td>\n",
       "      <td>Single-cell RNA sequencing reveals a signature...</td>\n",
       "    </tr>\n",
       "    <tr>\n",
       "      <th>326</th>\n",
       "      <td>Reid et al eLife</td>\n",
       "      <td>Single-cell RNA-seq reveals hidden transcripti...</td>\n",
       "    </tr>\n",
       "    <tr>\n",
       "      <th>757</th>\n",
       "      <td>Howick et al Science</td>\n",
       "      <td>The Malaria Cell Atlas: Single parasite transc...</td>\n",
       "    </tr>\n",
       "    <tr>\n",
       "      <th>841</th>\n",
       "      <td>Walzer et la PLoSGenetics</td>\n",
       "      <td>Latent transcriptional variations of individua...</td>\n",
       "    </tr>\n",
       "    <tr>\n",
       "      <th>904</th>\n",
       "      <td>Vigneron et al PNAS</td>\n",
       "      <td>Single-cell RNA sequencing of Trypanosoma bruc...</td>\n",
       "    </tr>\n",
       "    <tr>\n",
       "      <th>951</th>\n",
       "      <td>Xue et al eLife</td>\n",
       "      <td>A single-parasite transcriptional atlas of Tox...</td>\n",
       "    </tr>\n",
       "    <tr>\n",
       "      <th>1467</th>\n",
       "      <td>Real et al NCommunications</td>\n",
       "      <td>A single-cell atlas of Plasmodium falciparum t...</td>\n",
       "    </tr>\n",
       "    <tr>\n",
       "      <th>1591</th>\n",
       "      <td>Howick et al bioRxiv</td>\n",
       "      <td>Single-cell transcriptomics reveals expression...</td>\n",
       "    </tr>\n",
       "    <tr>\n",
       "      <th>1697</th>\n",
       "      <td>Ruberto et al bioRxiv</td>\n",
       "      <td>Single-cell RNA profiling of Plasmodium vivax ...</td>\n",
       "    </tr>\n",
       "    <tr>\n",
       "      <th>1747</th>\n",
       "      <td>Mohammed et al bioRxiv</td>\n",
       "      <td>Single-cell transcriptomics to define &lt;i&gt;Plasm...</td>\n",
       "    </tr>\n",
       "    <tr>\n",
       "      <th>1789</th>\n",
       "      <td>Ruberto et al PLOSNTD</td>\n",
       "      <td>Single-cell RNA sequencing of Plasmodium vivax...</td>\n",
       "    </tr>\n",
       "  </tbody>\n",
       "</table>\n",
       "</div>"
      ],
      "text/plain": [
       "                       Shorthand   \n",
       "197   Lonnberg et al SImmunology  \\\n",
       "249           Poran et al Nature   \n",
       "326             Reid et al eLife   \n",
       "757         Howick et al Science   \n",
       "841    Walzer et la PLoSGenetics   \n",
       "904          Vigneron et al PNAS   \n",
       "951              Xue et al eLife   \n",
       "1467  Real et al NCommunications   \n",
       "1591        Howick et al bioRxiv   \n",
       "1697       Ruberto et al bioRxiv   \n",
       "1747      Mohammed et al bioRxiv   \n",
       "1789       Ruberto et al PLOSNTD   \n",
       "\n",
       "                                                  Title  \n",
       "197   Single-cell RNA-seq and computational analysis...  \n",
       "249   Single-cell RNA sequencing reveals a signature...  \n",
       "326   Single-cell RNA-seq reveals hidden transcripti...  \n",
       "757   The Malaria Cell Atlas: Single parasite transc...  \n",
       "841   Latent transcriptional variations of individua...  \n",
       "904   Single-cell RNA sequencing of Trypanosoma bruc...  \n",
       "951   A single-parasite transcriptional atlas of Tox...  \n",
       "1467  A single-cell atlas of Plasmodium falciparum t...  \n",
       "1591  Single-cell transcriptomics reveals expression...  \n",
       "1697  Single-cell RNA profiling of Plasmodium vivax ...  \n",
       "1747  Single-cell transcriptomics to define <i>Plasm...  \n",
       "1789  Single-cell RNA sequencing of Plasmodium vivax...  "
      ]
     },
     "execution_count": 64,
     "metadata": {},
     "output_type": "execute_result"
    }
   ],
   "source": [
    "data.loc[idx_][['Shorthand', 'Title']]"
   ]
  },
  {
   "cell_type": "code",
   "execution_count": 83,
   "id": "60aed993",
   "metadata": {},
   "outputs": [],
   "source": []
  },
  {
   "cell_type": "code",
   "execution_count": 66,
   "id": "6398fdf1",
   "metadata": {},
   "outputs": [
    {
     "data": {
      "text/html": [
       "<div>\n",
       "<style scoped>\n",
       "    .dataframe tbody tr th:only-of-type {\n",
       "        vertical-align: middle;\n",
       "    }\n",
       "\n",
       "    .dataframe tbody tr th {\n",
       "        vertical-align: top;\n",
       "    }\n",
       "\n",
       "    .dataframe thead th {\n",
       "        text-align: right;\n",
       "    }\n",
       "</style>\n",
       "<table border=\"1\" class=\"dataframe\">\n",
       "  <thead>\n",
       "    <tr style=\"text-align: right;\">\n",
       "      <th></th>\n",
       "      <th>Shorthand</th>\n",
       "      <th>Title</th>\n",
       "    </tr>\n",
       "  </thead>\n",
       "  <tbody>\n",
       "    <tr>\n",
       "      <th>247</th>\n",
       "      <td>Wallrapp et al Nature</td>\n",
       "      <td>The neuropeptide NMU amplifies ILC2-driven all...</td>\n",
       "    </tr>\n",
       "    <tr>\n",
       "      <th>304</th>\n",
       "      <td>Russel et al eLife</td>\n",
       "      <td>Extreme heterogeneity of influenza virus infec...</td>\n",
       "    </tr>\n",
       "    <tr>\n",
       "      <th>413</th>\n",
       "      <td>Sjaastad et al PNAS</td>\n",
       "      <td>Distinct antiviral signatures revealed by the ...</td>\n",
       "    </tr>\n",
       "    <tr>\n",
       "      <th>497</th>\n",
       "      <td>Zanini et al PNAS</td>\n",
       "      <td>Virus-inclusive single-cell RNA sequencing rev...</td>\n",
       "    </tr>\n",
       "    <tr>\n",
       "      <th>551</th>\n",
       "      <td>Koutsakos et al NImmunology</td>\n",
       "      <td>Human CD8+ T cell cross-reactivity across infl...</td>\n",
       "    </tr>\n",
       "    <tr>\n",
       "      <th>610</th>\n",
       "      <td>Russel et al JVirology</td>\n",
       "      <td>Single-Cell Virus Sequencing of Influenza Infe...</td>\n",
       "    </tr>\n",
       "    <tr>\n",
       "      <th>750</th>\n",
       "      <td>Martin et al Cell</td>\n",
       "      <td>Single-Cell Analysis of Crohn’s Disease Lesion...</td>\n",
       "    </tr>\n",
       "    <tr>\n",
       "      <th>800</th>\n",
       "      <td>Wyler et al NCommunications</td>\n",
       "      <td>Single-cell RNA-sequencing of herpes simplex v...</td>\n",
       "    </tr>\n",
       "    <tr>\n",
       "      <th>809</th>\n",
       "      <td>Huang et al Cell</td>\n",
       "      <td>Mucosal Profiling of Pediatric-Onset Colitis a...</td>\n",
       "    </tr>\n",
       "    <tr>\n",
       "      <th>859</th>\n",
       "      <td>Darrah et al Nature</td>\n",
       "      <td>Prevention of tuberculosis in macaques after i...</td>\n",
       "    </tr>\n",
       "    <tr>\n",
       "      <th>952</th>\n",
       "      <td>Reyes et al NMedicine</td>\n",
       "      <td>An immune-cell signature of bacterial sepsis</td>\n",
       "    </tr>\n",
       "    <tr>\n",
       "      <th>968</th>\n",
       "      <td>Xu et al IJOS</td>\n",
       "      <td>High expression of ACE2 receptor of 2019-nCoV ...</td>\n",
       "    </tr>\n",
       "    <tr>\n",
       "      <th>970</th>\n",
       "      <td>Kotliarov et al NMedicine</td>\n",
       "      <td>Broad immune activation underlies shared set p...</td>\n",
       "    </tr>\n",
       "    <tr>\n",
       "      <th>975</th>\n",
       "      <td>Goel et al PNAS</td>\n",
       "      <td>Interferon lambda promotes immune dysregulatio...</td>\n",
       "    </tr>\n",
       "    <tr>\n",
       "      <th>978</th>\n",
       "      <td>Zhang et al PLOSPathology</td>\n",
       "      <td>Two waves of pro-inflammatory factors are rele...</td>\n",
       "    </tr>\n",
       "    <tr>\n",
       "      <th>980</th>\n",
       "      <td>Liao et al medRxiv</td>\n",
       "      <td>The landscape of lung bronchoalveolar immune c...</td>\n",
       "    </tr>\n",
       "    <tr>\n",
       "      <th>1018</th>\n",
       "      <td>Slevin et al JCC</td>\n",
       "      <td>Lymphocyte activation gene (LAG)-3 is associat...</td>\n",
       "    </tr>\n",
       "    <tr>\n",
       "      <th>1026</th>\n",
       "      <td>Huang et al medRxiv</td>\n",
       "      <td>Blood single cell immune profiling reveals the...</td>\n",
       "    </tr>\n",
       "    <tr>\n",
       "      <th>1032</th>\n",
       "      <td>Huang et al FCN</td>\n",
       "      <td>Single-Cell Analysis of Neuroinflammatory Resp...</td>\n",
       "    </tr>\n",
       "    <tr>\n",
       "      <th>1045</th>\n",
       "      <td>Chen et al CResearch</td>\n",
       "      <td>The ACE2 expression in human heart indicates n...</td>\n",
       "    </tr>\n",
       "    <tr>\n",
       "      <th>1050</th>\n",
       "      <td>Wen et al medRxiv</td>\n",
       "      <td>Immune Cell Profiling of COVID-19 Patients in ...</td>\n",
       "    </tr>\n",
       "    <tr>\n",
       "      <th>1074</th>\n",
       "      <td>Guo et al bioRxiv</td>\n",
       "      <td>Tocilizumab treatment in severe COVID-19 patie...</td>\n",
       "    </tr>\n",
       "    <tr>\n",
       "      <th>1075</th>\n",
       "      <td>Han et al bioRxiv</td>\n",
       "      <td>Single-cell atlas of a non-human primate revea...</td>\n",
       "    </tr>\n",
       "    <tr>\n",
       "      <th>1087</th>\n",
       "      <td>Lukassen et al EMBOJournal</td>\n",
       "      <td>SARS ‐CoV‐2 receptor ACE 2 and TMPRSS 2 are pr...</td>\n",
       "    </tr>\n",
       "    <tr>\n",
       "      <th>1131</th>\n",
       "      <td>Karagiannis et al NCommunications</td>\n",
       "      <td>Single cell transcriptomics reveals opioid usa...</td>\n",
       "    </tr>\n",
       "    <tr>\n",
       "      <th>1141</th>\n",
       "      <td>Wilk et al NMedicine</td>\n",
       "      <td>A single-cell atlas of the peripheral immune r...</td>\n",
       "    </tr>\n",
       "    <tr>\n",
       "      <th>1157</th>\n",
       "      <td>Lorenz Chua et al NBT</td>\n",
       "      <td>COVID-19 severity correlates with airway epith...</td>\n",
       "    </tr>\n",
       "    <tr>\n",
       "      <th>1172</th>\n",
       "      <td>Lee et al SImmunology</td>\n",
       "      <td>Immunophenotyping of COVID-19 and influenza hi...</td>\n",
       "    </tr>\n",
       "    <tr>\n",
       "      <th>1190</th>\n",
       "      <td>Schulte-Schrepping et al Cell</td>\n",
       "      <td>Severe COVID-19 Is Marked by a Dysregulated My...</td>\n",
       "    </tr>\n",
       "    <tr>\n",
       "      <th>1195</th>\n",
       "      <td>Zheng et al PCell</td>\n",
       "      <td>A human circulating immune cell landscape in a...</td>\n",
       "    </tr>\n",
       "    <tr>\n",
       "      <th>1197</th>\n",
       "      <td>Arunachalam et al Science</td>\n",
       "      <td>Systems biological assessment of immunity to m...</td>\n",
       "    </tr>\n",
       "    <tr>\n",
       "      <th>1199</th>\n",
       "      <td>Zhang et al NImmunolgy</td>\n",
       "      <td>Single-cell landscape of immunological respons...</td>\n",
       "    </tr>\n",
       "    <tr>\n",
       "      <th>1222</th>\n",
       "      <td>Zhao et al bioRxiv</td>\n",
       "      <td>Longitudinal single-cell immune profiling reve...</td>\n",
       "    </tr>\n",
       "    <tr>\n",
       "      <th>1265</th>\n",
       "      <td>Savage et al bioRxiv</td>\n",
       "      <td>Multi-omic Single-cell Atlas Reveals Broad Ex ...</td>\n",
       "    </tr>\n",
       "    <tr>\n",
       "      <th>1305</th>\n",
       "      <td>Bernardes et al Immunity</td>\n",
       "      <td>Longitudinal Multi-omics Analyses Identify Res...</td>\n",
       "    </tr>\n",
       "    <tr>\n",
       "      <th>1330</th>\n",
       "      <td>Hemming et al Immunity</td>\n",
       "      <td>Neurological Manifestations of COVID-19 Featur...</td>\n",
       "    </tr>\n",
       "    <tr>\n",
       "      <th>1361</th>\n",
       "      <td>Wauters et al CResearch</td>\n",
       "      <td>Discriminating mild from critical COVID-19 by ...</td>\n",
       "    </tr>\n",
       "    <tr>\n",
       "      <th>1381</th>\n",
       "      <td>Ren et al Cell</td>\n",
       "      <td>COVID-19 immune features revealed by a large-s...</td>\n",
       "    </tr>\n",
       "    <tr>\n",
       "      <th>1386</th>\n",
       "      <td>Liu et al Cell</td>\n",
       "      <td>Time-resolved systems immunology reveals a lat...</td>\n",
       "    </tr>\n",
       "    <tr>\n",
       "      <th>1421</th>\n",
       "      <td>Stephenson et al NMedicine</td>\n",
       "      <td>Single-cell multi-omics analysis of the immune...</td>\n",
       "    </tr>\n",
       "    <tr>\n",
       "      <th>1430</th>\n",
       "      <td>Melms et al Nature</td>\n",
       "      <td>A molecular single-cell lung atlas of lethal C...</td>\n",
       "    </tr>\n",
       "    <tr>\n",
       "      <th>1431</th>\n",
       "      <td>Delorey et al Nature</td>\n",
       "      <td>COVID-19 tissue atlases reveal SARS-CoV-2 path...</td>\n",
       "    </tr>\n",
       "    <tr>\n",
       "      <th>1436</th>\n",
       "      <td>Song et al CRM</td>\n",
       "      <td>Divergent and self-reactive immune responses i...</td>\n",
       "    </tr>\n",
       "    <tr>\n",
       "      <th>1443</th>\n",
       "      <td>Stoddard et al CReports</td>\n",
       "      <td>Epitope profiling reveals binding signatures o...</td>\n",
       "    </tr>\n",
       "    <tr>\n",
       "      <th>1478</th>\n",
       "      <td>Wilk et al JEM</td>\n",
       "      <td>Multi-omic profiling reveals widespread dysreg...</td>\n",
       "    </tr>\n",
       "    <tr>\n",
       "      <th>1523</th>\n",
       "      <td>Fischer et al NCommunications</td>\n",
       "      <td>Single-cell RNA sequencing reveals ex vivo sig...</td>\n",
       "    </tr>\n",
       "    <tr>\n",
       "      <th>1551</th>\n",
       "      <td>van der Wijst et al STM</td>\n",
       "      <td>Type I interferon autoantibodies are associate...</td>\n",
       "    </tr>\n",
       "    <tr>\n",
       "      <th>1562</th>\n",
       "      <td>Lee et al NBiotechnology</td>\n",
       "      <td>Integrated analysis of plasma and single immun...</td>\n",
       "    </tr>\n",
       "    <tr>\n",
       "      <th>1600</th>\n",
       "      <td>Dunlap et al bioRxiv</td>\n",
       "      <td>Single cell transcriptomics reveals distinct e...</td>\n",
       "    </tr>\n",
       "    <tr>\n",
       "      <th>1621</th>\n",
       "      <td>Ghanem et al bioRxiv</td>\n",
       "      <td>Proteomic and single-cell transcriptomic disse...</td>\n",
       "    </tr>\n",
       "    <tr>\n",
       "      <th>1632</th>\n",
       "      <td>Sinha et al NMedicine</td>\n",
       "      <td>Dexamethasone modulates immature neutrophils a...</td>\n",
       "    </tr>\n",
       "    <tr>\n",
       "      <th>1646</th>\n",
       "      <td>Wang et al NCB</td>\n",
       "      <td>A single-cell transcriptomic landscape of the ...</td>\n",
       "    </tr>\n",
       "    <tr>\n",
       "      <th>1656</th>\n",
       "      <td>Yoshida et al Nature</td>\n",
       "      <td>Local and systemic responses to SARS-CoV-2 inf...</td>\n",
       "    </tr>\n",
       "    <tr>\n",
       "      <th>1661</th>\n",
       "      <td>Georg et al Cell</td>\n",
       "      <td>Complement activation induces excessive T cell...</td>\n",
       "    </tr>\n",
       "    <tr>\n",
       "      <th>1678</th>\n",
       "      <td>Ahern et al Cell</td>\n",
       "      <td>A blood atlas of COVID-19 defines hallmarks of...</td>\n",
       "    </tr>\n",
       "    <tr>\n",
       "      <th>1745</th>\n",
       "      <td>Tamura et al bioRxiv</td>\n",
       "      <td>Single-cell transcriptomics reveal hyperacute ...</td>\n",
       "    </tr>\n",
       "    <tr>\n",
       "      <th>1806</th>\n",
       "      <td>de Rooij et al CResearch</td>\n",
       "      <td>The pulmonary vasculature in lethal COVID-19 a...</td>\n",
       "    </tr>\n",
       "    <tr>\n",
       "      <th>1853</th>\n",
       "      <td>Ghita et al bioRxiv</td>\n",
       "      <td>Global and cell type-specific immunological ha...</td>\n",
       "    </tr>\n",
       "    <tr>\n",
       "      <th>1870</th>\n",
       "      <td>Zheng et al JAutoimmunity</td>\n",
       "      <td>A single-cell map of peripheral alterations af...</td>\n",
       "    </tr>\n",
       "  </tbody>\n",
       "</table>\n",
       "</div>"
      ],
      "text/plain": [
       "                              Shorthand   \n",
       "247               Wallrapp et al Nature  \\\n",
       "304                  Russel et al eLife   \n",
       "413                 Sjaastad et al PNAS   \n",
       "497                   Zanini et al PNAS   \n",
       "551         Koutsakos et al NImmunology   \n",
       "610              Russel et al JVirology   \n",
       "750                   Martin et al Cell   \n",
       "800         Wyler et al NCommunications   \n",
       "809                    Huang et al Cell   \n",
       "859                 Darrah et al Nature   \n",
       "952               Reyes et al NMedicine   \n",
       "968                       Xu et al IJOS   \n",
       "970           Kotliarov et al NMedicine   \n",
       "975                     Goel et al PNAS   \n",
       "978           Zhang et al PLOSPathology   \n",
       "980                  Liao et al medRxiv   \n",
       "1018                   Slevin et al JCC   \n",
       "1026                Huang et al medRxiv   \n",
       "1032                    Huang et al FCN   \n",
       "1045               Chen et al CResearch   \n",
       "1050                  Wen et al medRxiv   \n",
       "1074                  Guo et al bioRxiv   \n",
       "1075                  Han et al bioRxiv   \n",
       "1087         Lukassen et al EMBOJournal   \n",
       "1131  Karagiannis et al NCommunications   \n",
       "1141               Wilk et al NMedicine   \n",
       "1157              Lorenz Chua et al NBT   \n",
       "1172              Lee et al SImmunology   \n",
       "1190      Schulte-Schrepping et al Cell   \n",
       "1195                  Zheng et al PCell   \n",
       "1197          Arunachalam et al Science   \n",
       "1199             Zhang et al NImmunolgy   \n",
       "1222                 Zhao et al bioRxiv   \n",
       "1265               Savage et al bioRxiv   \n",
       "1305           Bernardes et al Immunity   \n",
       "1330             Hemming et al Immunity   \n",
       "1361            Wauters et al CResearch   \n",
       "1381                     Ren et al Cell   \n",
       "1386                     Liu et al Cell   \n",
       "1421         Stephenson et al NMedicine   \n",
       "1430                 Melms et al Nature   \n",
       "1431               Delorey et al Nature   \n",
       "1436                     Song et al CRM   \n",
       "1443            Stoddard et al CReports   \n",
       "1478                     Wilk et al JEM   \n",
       "1523      Fischer et al NCommunications   \n",
       "1551            van der Wijst et al STM   \n",
       "1562           Lee et al NBiotechnology   \n",
       "1600               Dunlap et al bioRxiv   \n",
       "1621               Ghanem et al bioRxiv   \n",
       "1632              Sinha et al NMedicine   \n",
       "1646                     Wang et al NCB   \n",
       "1656               Yoshida et al Nature   \n",
       "1661                   Georg et al Cell   \n",
       "1678                   Ahern et al Cell   \n",
       "1745               Tamura et al bioRxiv   \n",
       "1806           de Rooij et al CResearch   \n",
       "1853                Ghita et al bioRxiv   \n",
       "1870          Zheng et al JAutoimmunity   \n",
       "\n",
       "                                                  Title  \n",
       "247   The neuropeptide NMU amplifies ILC2-driven all...  \n",
       "304   Extreme heterogeneity of influenza virus infec...  \n",
       "413   Distinct antiviral signatures revealed by the ...  \n",
       "497   Virus-inclusive single-cell RNA sequencing rev...  \n",
       "551   Human CD8+ T cell cross-reactivity across infl...  \n",
       "610   Single-Cell Virus Sequencing of Influenza Infe...  \n",
       "750   Single-Cell Analysis of Crohn’s Disease Lesion...  \n",
       "800   Single-cell RNA-sequencing of herpes simplex v...  \n",
       "809   Mucosal Profiling of Pediatric-Onset Colitis a...  \n",
       "859   Prevention of tuberculosis in macaques after i...  \n",
       "952        An immune-cell signature of bacterial sepsis  \n",
       "968   High expression of ACE2 receptor of 2019-nCoV ...  \n",
       "970   Broad immune activation underlies shared set p...  \n",
       "975   Interferon lambda promotes immune dysregulatio...  \n",
       "978   Two waves of pro-inflammatory factors are rele...  \n",
       "980   The landscape of lung bronchoalveolar immune c...  \n",
       "1018  Lymphocyte activation gene (LAG)-3 is associat...  \n",
       "1026  Blood single cell immune profiling reveals the...  \n",
       "1032  Single-Cell Analysis of Neuroinflammatory Resp...  \n",
       "1045  The ACE2 expression in human heart indicates n...  \n",
       "1050  Immune Cell Profiling of COVID-19 Patients in ...  \n",
       "1074  Tocilizumab treatment in severe COVID-19 patie...  \n",
       "1075  Single-cell atlas of a non-human primate revea...  \n",
       "1087  SARS ‐CoV‐2 receptor ACE 2 and TMPRSS 2 are pr...  \n",
       "1131  Single cell transcriptomics reveals opioid usa...  \n",
       "1141  A single-cell atlas of the peripheral immune r...  \n",
       "1157  COVID-19 severity correlates with airway epith...  \n",
       "1172  Immunophenotyping of COVID-19 and influenza hi...  \n",
       "1190  Severe COVID-19 Is Marked by a Dysregulated My...  \n",
       "1195  A human circulating immune cell landscape in a...  \n",
       "1197  Systems biological assessment of immunity to m...  \n",
       "1199  Single-cell landscape of immunological respons...  \n",
       "1222  Longitudinal single-cell immune profiling reve...  \n",
       "1265  Multi-omic Single-cell Atlas Reveals Broad Ex ...  \n",
       "1305  Longitudinal Multi-omics Analyses Identify Res...  \n",
       "1330  Neurological Manifestations of COVID-19 Featur...  \n",
       "1361  Discriminating mild from critical COVID-19 by ...  \n",
       "1381  COVID-19 immune features revealed by a large-s...  \n",
       "1386  Time-resolved systems immunology reveals a lat...  \n",
       "1421  Single-cell multi-omics analysis of the immune...  \n",
       "1430  A molecular single-cell lung atlas of lethal C...  \n",
       "1431  COVID-19 tissue atlases reveal SARS-CoV-2 path...  \n",
       "1436  Divergent and self-reactive immune responses i...  \n",
       "1443  Epitope profiling reveals binding signatures o...  \n",
       "1478  Multi-omic profiling reveals widespread dysreg...  \n",
       "1523  Single-cell RNA sequencing reveals ex vivo sig...  \n",
       "1551  Type I interferon autoantibodies are associate...  \n",
       "1562  Integrated analysis of plasma and single immun...  \n",
       "1600  Single cell transcriptomics reveals distinct e...  \n",
       "1621  Proteomic and single-cell transcriptomic disse...  \n",
       "1632  Dexamethasone modulates immature neutrophils a...  \n",
       "1646  A single-cell transcriptomic landscape of the ...  \n",
       "1656  Local and systemic responses to SARS-CoV-2 inf...  \n",
       "1661  Complement activation induces excessive T cell...  \n",
       "1678  A blood atlas of COVID-19 defines hallmarks of...  \n",
       "1745  Single-cell transcriptomics reveal hyperacute ...  \n",
       "1806  The pulmonary vasculature in lethal COVID-19 a...  \n",
       "1853  Global and cell type-specific immunological ha...  \n",
       "1870  A single-cell map of peripheral alterations af...  "
      ]
     },
     "execution_count": 66,
     "metadata": {},
     "output_type": "execute_result"
    }
   ],
   "source": [
    "idx_ = mdata.query('1 < mde_1 < 2').query('1 < mde_2 < 2').index\n",
    "data.loc[idx_][['Shorthand', 'Title']]"
   ]
  },
  {
   "cell_type": "code",
   "execution_count": 89,
   "id": "6bd4d03c",
   "metadata": {},
   "outputs": [],
   "source": []
  },
  {
   "cell_type": "code",
   "execution_count": null,
   "id": "885f04cd",
   "metadata": {},
   "outputs": [],
   "source": []
  },
  {
   "cell_type": "code",
   "execution_count": 114,
   "id": "5aa4bd59",
   "metadata": {},
   "outputs": [],
   "source": []
  },
  {
   "cell_type": "code",
   "execution_count": null,
   "id": "d1f300b5",
   "metadata": {
    "scrolled": false
   },
   "outputs": [],
   "source": []
  },
  {
   "cell_type": "code",
   "execution_count": null,
   "id": "7addbeeb",
   "metadata": {},
   "outputs": [],
   "source": []
  },
  {
   "cell_type": "code",
   "execution_count": null,
   "id": "e9954fa3",
   "metadata": {},
   "outputs": [],
   "source": []
  },
  {
   "cell_type": "code",
   "execution_count": null,
   "id": "9b675504",
   "metadata": {},
   "outputs": [],
   "source": []
  },
  {
   "cell_type": "code",
   "execution_count": null,
   "id": "4fb28f70",
   "metadata": {},
   "outputs": [],
   "source": []
  },
  {
   "cell_type": "code",
   "execution_count": null,
   "id": "7d303057",
   "metadata": {},
   "outputs": [],
   "source": []
  },
  {
   "cell_type": "code",
   "execution_count": null,
   "id": "7321bda7",
   "metadata": {},
   "outputs": [],
   "source": []
  }
 ],
 "metadata": {
  "kernelspec": {
   "display_name": "Python 3 (ipykernel)",
   "language": "python",
   "name": "python3"
  },
  "language_info": {
   "codemirror_mode": {
    "name": "ipython",
    "version": 3
   },
   "file_extension": ".py",
   "mimetype": "text/x-python",
   "name": "python",
   "nbconvert_exporter": "python",
   "pygments_lexer": "ipython3",
   "version": "3.10.11"
  }
 },
 "nbformat": 4,
 "nbformat_minor": 5
}
